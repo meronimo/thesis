{
 "cells": [
  {
   "cell_type": "markdown",
   "id": "65502c07d47be385",
   "metadata": {
    "collapsed": false
   },
   "source": [
    "# Exploratory Data Analysis (EDA)\n",
    "## Source of the dataset\n",
    "Source: [https://www.kaggle.com](https://www.kaggle.com)\n",
    "\n",
    "Dataset: [Wikipedia Movie Plots](https://www.kaggle.com/datasets/jrobischon/wikipedia-movie-plots \"Wikipedia Movie Plots - Plot descriptions for ~35,000 movies\")\n",
    "### Background\n",
    "The dataset contains descriptions of film plots about films that have been crawled by WikiPedia.\n",
    "The dataset contains a total of 34,886 films from all over the world.\n",
    "\n",
    "The data set has the following attributes:\n",
    "- Release Year: Release year of the film\n",
    "- Title: Title of the film\n",
    "- Origin/Ethnicity - Origin of the film (e.g. America, Bollywood, Tamil, etc.)\n",
    "- Director - Director(s) \n",
    "- Cast - leading actors and actresses\n",
    "- Genre - Film Genre(s)\n",
    "- Wiki Page - URL of the Wikipedia page from which the plot description was taken\n",
    "- Plot - Long version of the film plot (WARNING: May contain spoilers!!!)"
   ]
  },
  {
   "cell_type": "code",
   "id": "5627b1f745ec6446",
   "metadata": {
    "collapsed": false,
    "ExecuteTime": {
     "end_time": "2024-06-11T15:47:45.155599Z",
     "start_time": "2024-06-11T15:47:45.146232Z"
    }
   },
   "source": [
    "# import the required python packages\n",
    "import os\n",
    "import warnings\n",
    "import pandas as pd\n",
    "import numpy as np\n",
    "import seaborn as sns\n",
    "import matplotlib.pyplot as plt\n",
    "from dotenv import load_dotenv, find_dotenv\n",
    "\n",
    "# ignore warnings for better output in the notebook\n",
    "warnings.filterwarnings('ignore')\n",
    "\n",
    "# load the environment variables from the .env file\n",
    "_ = load_dotenv(find_dotenv())"
   ],
   "outputs": [],
   "execution_count": 210
  },
  {
   "metadata": {},
   "cell_type": "markdown",
   "source": "#### Import the dataset from the '/data' folder",
   "id": "f4627327c4ad1c2b"
  },
  {
   "cell_type": "code",
   "id": "322811fff2039d15",
   "metadata": {
    "collapsed": false,
    "ExecuteTime": {
     "end_time": "2024-06-11T15:47:51.952668Z",
     "start_time": "2024-06-11T15:47:51.073363Z"
    }
   },
   "source": [
    "load_input_file = os.getenv('INPUT_FILE')\n",
    "\n",
    "# create a pandas dataframe from the csv file\n",
    "df = pd.read_csv(load_input_file, sep=',')"
   ],
   "outputs": [],
   "execution_count": 211
  },
  {
   "metadata": {
    "ExecuteTime": {
     "end_time": "2024-06-11T15:47:51.956419Z",
     "start_time": "2024-06-11T15:47:51.953938Z"
    }
   },
   "cell_type": "code",
   "source": [
    "# display the column names\n",
    "for c in df.columns:\n",
    "    print(c)"
   ],
   "id": "eae613c131e27a14",
   "outputs": [
    {
     "name": "stdout",
     "output_type": "stream",
     "text": [
      "Release Year\n",
      "Title\n",
      "Origin/Ethnicity\n",
      "Director\n",
      "Cast\n",
      "Genre\n",
      "Wiki Page\n",
      "Plot\n"
     ]
    }
   ],
   "execution_count": 212
  },
  {
   "cell_type": "code",
   "id": "32d1289785a30cd8",
   "metadata": {
    "collapsed": false,
    "ExecuteTime": {
     "end_time": "2024-06-11T15:47:51.960108Z",
     "start_time": "2024-06-11T15:47:51.957370Z"
    }
   },
   "source": [
    "# to improve the readability of the column names spaces and slashes are going to be replaced with underscores\n",
    "df.columns = df.columns.str.replace(' ', '_').str.replace('/', '_').str.lower()"
   ],
   "outputs": [],
   "execution_count": 213
  },
  {
   "cell_type": "code",
   "id": "5a8320c551d613ab",
   "metadata": {
    "collapsed": false,
    "ExecuteTime": {
     "end_time": "2024-06-11T15:47:51.963676Z",
     "start_time": "2024-06-11T15:47:51.961777Z"
    }
   },
   "source": [
    "# display column names after replacing spaces and slashes\n",
    "for c in df.columns:\n",
    "    print(c)"
   ],
   "outputs": [
    {
     "name": "stdout",
     "output_type": "stream",
     "text": [
      "release_year\n",
      "title\n",
      "origin_ethnicity\n",
      "director\n",
      "cast\n",
      "genre\n",
      "wiki_page\n",
      "plot\n"
     ]
    }
   ],
   "execution_count": 214
  },
  {
   "cell_type": "markdown",
   "id": "19cc4d18121a7ee4",
   "metadata": {
    "collapsed": false
   },
   "source": [
    "# Constants\n",
    "In this area, variables (constants) are defined which are valid for the entire document and cannot be changed."
   ]
  },
  {
   "cell_type": "code",
   "id": "f3152cfb14f637c7",
   "metadata": {
    "collapsed": false,
    "ExecuteTime": {
     "end_time": "2024-06-11T15:47:51.966305Z",
     "start_time": "2024-06-11T15:47:51.964495Z"
    }
   },
   "source": [
    "color_green = '#72a6a2'\n",
    "color_green_rgb = (114, 166, 162)"
   ],
   "outputs": [],
   "execution_count": 215
  },
  {
   "cell_type": "markdown",
   "id": "125230dd88f1c38c",
   "metadata": {
    "collapsed": false
   },
   "source": [
    "# Methods\n",
    "Now we create helpful methods for analysing the dataset. These methods are used to visualize the data."
   ]
  },
  {
   "cell_type": "code",
   "id": "6caba721db32ca99",
   "metadata": {
    "collapsed": false,
    "ExecuteTime": {
     "end_time": "2024-06-11T15:47:51.973460Z",
     "start_time": "2024-06-11T15:47:51.967165Z"
    }
   },
   "source": [
    "def count_plot(data, x_label, y_label, title, column_name, rotate=False, reduce_labels=False, bins=None):\n",
    "    if not isinstance(data, pd.DataFrame):\n",
    "        raise ValueError(\"The argument 'data' must be a DataFrame\")\n",
    "    # Set the title and label of the Plot\n",
    "    plt.suptitle(title, fontsize=14)\n",
    "    plt.xlabel(x_label, fontsize=12)\n",
    "    plt.ylabel(y_label, fontsize=12)\n",
    "    if rotate:\n",
    "        plt.xticks(rotation=90)\n",
    "\n",
    "    if bins is not None:\n",
    "        data[column_name] = pd.cut(data[column_name], bins=bins)\n",
    "\n",
    "    # define the sns count plot\n",
    "    ax = sns.countplot(\n",
    "        x=column_name,\n",
    "        data=data,\n",
    "        palette=[color_green]\n",
    "    )\n",
    "\n",
    "    # set axis labels\n",
    "    ax.set(xlabel=x_label, ylabel=y_label)\n",
    "\n",
    "    if reduce_labels:\n",
    "        # improve readability of the x-axis\n",
    "        ax = plt.gca()  # get current plot instance\n",
    "        labels = ax.get_xticklabels()  # get list with labels on x-axis\n",
    "        for i, label in enumerate(labels):\n",
    "            if i % reduce_labels != 0:  # modulo: only including every {number}th label on the x-axis\n",
    "                label.set_visible(False)\n",
    "    return ax\n",
    "\n",
    "\n",
    "def plot_hist(data, column_name, x_label, y_label, title, rotate=False, x_ticks=None, x_ticks_labels=None, bins=None):\n",
    "    if not isinstance(data, pd.DataFrame):\n",
    "        raise ValueError(\"The argument 'data' must be a DataFrame\")\n",
    "\n",
    "    if x_ticks is not None:\n",
    "        plt.xticks(ticks=np.linspace(0.5, 19.5, 20) * 900, labels=x_ticks_labels, rotation=45)\n",
    "\n",
    "    hist = sns.histplot(\n",
    "        data,\n",
    "        x=column_name,\n",
    "        color=color_green\n",
    "    )\n",
    "    hist.set_ylabel(y_label, fontsize=14, labelpad=14)\n",
    "    hist.set_xlabel(x_label, fontsize=14, labelpad=14)\n",
    "    hist.set_title(title, fontsize=16, fontweight='bold', pad=14)\n",
    "    if rotate:\n",
    "        hist.tick_params(axis='x', rotation=90)\n",
    "    return hist\n",
    "\n",
    "\n",
    "def clip_color(color):\n",
    "    # normalize values from 0...255 to [0, 1]\n",
    "    return [np.clip(c / 255.0, 0, 1) for c in color]"
   ],
   "outputs": [],
   "execution_count": 216
  },
  {
   "cell_type": "markdown",
   "id": "1f2b4d2dbfd136f4",
   "metadata": {
    "collapsed": false
   },
   "source": "# 1 General insights of the Dataset"
  },
  {
   "cell_type": "code",
   "id": "4622352e12150451",
   "metadata": {
    "collapsed": false,
    "ExecuteTime": {
     "end_time": "2024-06-11T15:47:51.976914Z",
     "start_time": "2024-06-11T15:47:51.974417Z"
    }
   },
   "source": [
    "# display the shape of the dataframe\n",
    "number_of_rows = df.shape[0]\n",
    "number_of_columns = df.shape[1]\n",
    "print(\"The dataset has {} rows and {} columns\".format(number_of_rows, number_of_columns))"
   ],
   "outputs": [
    {
     "name": "stdout",
     "output_type": "stream",
     "text": [
      "The dataset has 34886 rows and 8 columns\n"
     ]
    }
   ],
   "execution_count": 217
  },
  {
   "cell_type": "code",
   "id": "6db3d9c3503476ed",
   "metadata": {
    "collapsed": false,
    "ExecuteTime": {
     "end_time": "2024-06-11T15:47:51.984148Z",
     "start_time": "2024-06-11T15:47:51.978027Z"
    }
   },
   "source": [
    "# show the first five rows of the dataset\n",
    "df.head()"
   ],
   "outputs": [
    {
     "data": {
      "text/plain": [
       "   release_year                             title origin_ethnicity  \\\n",
       "0          1901            Kansas Saloon Smashers         American   \n",
       "1          1901     Love by the Light of the Moon         American   \n",
       "2          1901           The Martyred Presidents         American   \n",
       "3          1901  Terrible Teddy, the Grizzly King         American   \n",
       "4          1902            Jack and the Beanstalk         American   \n",
       "\n",
       "                             director cast    genre  \\\n",
       "0                             Unknown  NaN  unknown   \n",
       "1                             Unknown  NaN  unknown   \n",
       "2                             Unknown  NaN  unknown   \n",
       "3                             Unknown  NaN  unknown   \n",
       "4  George S. Fleming, Edwin S. Porter  NaN  unknown   \n",
       "\n",
       "                                           wiki_page  \\\n",
       "0  https://en.wikipedia.org/wiki/Kansas_Saloon_Sm...   \n",
       "1  https://en.wikipedia.org/wiki/Love_by_the_Ligh...   \n",
       "2  https://en.wikipedia.org/wiki/The_Martyred_Pre...   \n",
       "3  https://en.wikipedia.org/wiki/Terrible_Teddy,_...   \n",
       "4  https://en.wikipedia.org/wiki/Jack_and_the_Bea...   \n",
       "\n",
       "                                                plot  \n",
       "0  A bartender is working at a saloon, serving dr...  \n",
       "1  The moon, painted with a smiling face hangs ov...  \n",
       "2  The film, just over a minute long, is composed...  \n",
       "3  Lasting just 61 seconds and consisting of two ...  \n",
       "4  The earliest known adaptation of the classic f...  "
      ],
      "text/html": [
       "<div>\n",
       "<style scoped>\n",
       "    .dataframe tbody tr th:only-of-type {\n",
       "        vertical-align: middle;\n",
       "    }\n",
       "\n",
       "    .dataframe tbody tr th {\n",
       "        vertical-align: top;\n",
       "    }\n",
       "\n",
       "    .dataframe thead th {\n",
       "        text-align: right;\n",
       "    }\n",
       "</style>\n",
       "<table border=\"1\" class=\"dataframe\">\n",
       "  <thead>\n",
       "    <tr style=\"text-align: right;\">\n",
       "      <th></th>\n",
       "      <th>release_year</th>\n",
       "      <th>title</th>\n",
       "      <th>origin_ethnicity</th>\n",
       "      <th>director</th>\n",
       "      <th>cast</th>\n",
       "      <th>genre</th>\n",
       "      <th>wiki_page</th>\n",
       "      <th>plot</th>\n",
       "    </tr>\n",
       "  </thead>\n",
       "  <tbody>\n",
       "    <tr>\n",
       "      <th>0</th>\n",
       "      <td>1901</td>\n",
       "      <td>Kansas Saloon Smashers</td>\n",
       "      <td>American</td>\n",
       "      <td>Unknown</td>\n",
       "      <td>NaN</td>\n",
       "      <td>unknown</td>\n",
       "      <td>https://en.wikipedia.org/wiki/Kansas_Saloon_Sm...</td>\n",
       "      <td>A bartender is working at a saloon, serving dr...</td>\n",
       "    </tr>\n",
       "    <tr>\n",
       "      <th>1</th>\n",
       "      <td>1901</td>\n",
       "      <td>Love by the Light of the Moon</td>\n",
       "      <td>American</td>\n",
       "      <td>Unknown</td>\n",
       "      <td>NaN</td>\n",
       "      <td>unknown</td>\n",
       "      <td>https://en.wikipedia.org/wiki/Love_by_the_Ligh...</td>\n",
       "      <td>The moon, painted with a smiling face hangs ov...</td>\n",
       "    </tr>\n",
       "    <tr>\n",
       "      <th>2</th>\n",
       "      <td>1901</td>\n",
       "      <td>The Martyred Presidents</td>\n",
       "      <td>American</td>\n",
       "      <td>Unknown</td>\n",
       "      <td>NaN</td>\n",
       "      <td>unknown</td>\n",
       "      <td>https://en.wikipedia.org/wiki/The_Martyred_Pre...</td>\n",
       "      <td>The film, just over a minute long, is composed...</td>\n",
       "    </tr>\n",
       "    <tr>\n",
       "      <th>3</th>\n",
       "      <td>1901</td>\n",
       "      <td>Terrible Teddy, the Grizzly King</td>\n",
       "      <td>American</td>\n",
       "      <td>Unknown</td>\n",
       "      <td>NaN</td>\n",
       "      <td>unknown</td>\n",
       "      <td>https://en.wikipedia.org/wiki/Terrible_Teddy,_...</td>\n",
       "      <td>Lasting just 61 seconds and consisting of two ...</td>\n",
       "    </tr>\n",
       "    <tr>\n",
       "      <th>4</th>\n",
       "      <td>1902</td>\n",
       "      <td>Jack and the Beanstalk</td>\n",
       "      <td>American</td>\n",
       "      <td>George S. Fleming, Edwin S. Porter</td>\n",
       "      <td>NaN</td>\n",
       "      <td>unknown</td>\n",
       "      <td>https://en.wikipedia.org/wiki/Jack_and_the_Bea...</td>\n",
       "      <td>The earliest known adaptation of the classic f...</td>\n",
       "    </tr>\n",
       "  </tbody>\n",
       "</table>\n",
       "</div>"
      ]
     },
     "execution_count": 218,
     "metadata": {},
     "output_type": "execute_result"
    }
   ],
   "execution_count": 218
  },
  {
   "metadata": {},
   "cell_type": "markdown",
   "source": [
    "In the first five rows we can see that the dataset contains certain fields with missing values. There are also fields that contain \"unknown\" values. To get a better understanding of the dataset, we will investigate the missing values and the \"unknown\" values in the dataset.\n",
    "Further to see if there are any data quality issues, we will check the last five rows of the dataset."
   ],
   "id": "f70298f9cc413f16"
  },
  {
   "cell_type": "code",
   "id": "ac23e482024e4d65",
   "metadata": {
    "collapsed": false,
    "ExecuteTime": {
     "end_time": "2024-06-11T15:47:51.989849Z",
     "start_time": "2024-06-11T15:47:51.984934Z"
    }
   },
   "source": [
    "# show the last five rows of the dataset\n",
    "df.tail()"
   ],
   "outputs": [
    {
     "data": {
      "text/plain": [
       "       release_year               title origin_ethnicity  \\\n",
       "34881          2014   The Water Diviner          Turkish   \n",
       "34882          2017  Çalgı Çengi İkimiz          Turkish   \n",
       "34883          2017        Olanlar Oldu          Turkish   \n",
       "34884          2017    Non-Transferable          Turkish   \n",
       "34885          2017  İstanbul Kırmızısı          Turkish   \n",
       "\n",
       "                      director  \\\n",
       "34881  Director: Russell Crowe   \n",
       "34882           Selçuk Aydemir   \n",
       "34883              Hakan Algül   \n",
       "34884          Brendan Bradley   \n",
       "34885           Ferzan Özpetek   \n",
       "\n",
       "                                                    cast            genre  \\\n",
       "34881  Director: Russell Crowe\\r\\nCast: Russell Crowe...          unknown   \n",
       "34882                          Ahmet Kural, Murat Cemcir           comedy   \n",
       "34883              Ata Demirer, Tuvana Türkay, Ülkü Duru           comedy   \n",
       "34884  YouTubers Shanna Malcolm, Shira Lazar, Sara Fl...  romantic comedy   \n",
       "34885  Halit Ergenç, Tuba Büyüküstün, Mehmet Günsür, ...         romantic   \n",
       "\n",
       "                                               wiki_page  \\\n",
       "34881    https://en.wikipedia.org/wiki/The_Water_Diviner   \n",
       "34882  https://en.wikipedia.org/wiki/%C3%87alg%C4%B1_...   \n",
       "34883         https://en.wikipedia.org/wiki/Olanlar_Oldu   \n",
       "34884  https://en.wikipedia.org/wiki/Non-Transferable...   \n",
       "34885  https://en.wikipedia.org/wiki/%C4%B0stanbul_K%...   \n",
       "\n",
       "                                                    plot  \n",
       "34881  The film begins in 1919, just after World War ...  \n",
       "34882  Two musicians, Salih and Gürkan, described the...  \n",
       "34883  Zafer, a sailor living with his mother Döndü i...  \n",
       "34884  The film centres around a young woman named Am...  \n",
       "34885  The writer Orhan Şahin returns to İstanbul aft...  "
      ],
      "text/html": [
       "<div>\n",
       "<style scoped>\n",
       "    .dataframe tbody tr th:only-of-type {\n",
       "        vertical-align: middle;\n",
       "    }\n",
       "\n",
       "    .dataframe tbody tr th {\n",
       "        vertical-align: top;\n",
       "    }\n",
       "\n",
       "    .dataframe thead th {\n",
       "        text-align: right;\n",
       "    }\n",
       "</style>\n",
       "<table border=\"1\" class=\"dataframe\">\n",
       "  <thead>\n",
       "    <tr style=\"text-align: right;\">\n",
       "      <th></th>\n",
       "      <th>release_year</th>\n",
       "      <th>title</th>\n",
       "      <th>origin_ethnicity</th>\n",
       "      <th>director</th>\n",
       "      <th>cast</th>\n",
       "      <th>genre</th>\n",
       "      <th>wiki_page</th>\n",
       "      <th>plot</th>\n",
       "    </tr>\n",
       "  </thead>\n",
       "  <tbody>\n",
       "    <tr>\n",
       "      <th>34881</th>\n",
       "      <td>2014</td>\n",
       "      <td>The Water Diviner</td>\n",
       "      <td>Turkish</td>\n",
       "      <td>Director: Russell Crowe</td>\n",
       "      <td>Director: Russell Crowe\\r\\nCast: Russell Crowe...</td>\n",
       "      <td>unknown</td>\n",
       "      <td>https://en.wikipedia.org/wiki/The_Water_Diviner</td>\n",
       "      <td>The film begins in 1919, just after World War ...</td>\n",
       "    </tr>\n",
       "    <tr>\n",
       "      <th>34882</th>\n",
       "      <td>2017</td>\n",
       "      <td>Çalgı Çengi İkimiz</td>\n",
       "      <td>Turkish</td>\n",
       "      <td>Selçuk Aydemir</td>\n",
       "      <td>Ahmet Kural, Murat Cemcir</td>\n",
       "      <td>comedy</td>\n",
       "      <td>https://en.wikipedia.org/wiki/%C3%87alg%C4%B1_...</td>\n",
       "      <td>Two musicians, Salih and Gürkan, described the...</td>\n",
       "    </tr>\n",
       "    <tr>\n",
       "      <th>34883</th>\n",
       "      <td>2017</td>\n",
       "      <td>Olanlar Oldu</td>\n",
       "      <td>Turkish</td>\n",
       "      <td>Hakan Algül</td>\n",
       "      <td>Ata Demirer, Tuvana Türkay, Ülkü Duru</td>\n",
       "      <td>comedy</td>\n",
       "      <td>https://en.wikipedia.org/wiki/Olanlar_Oldu</td>\n",
       "      <td>Zafer, a sailor living with his mother Döndü i...</td>\n",
       "    </tr>\n",
       "    <tr>\n",
       "      <th>34884</th>\n",
       "      <td>2017</td>\n",
       "      <td>Non-Transferable</td>\n",
       "      <td>Turkish</td>\n",
       "      <td>Brendan Bradley</td>\n",
       "      <td>YouTubers Shanna Malcolm, Shira Lazar, Sara Fl...</td>\n",
       "      <td>romantic comedy</td>\n",
       "      <td>https://en.wikipedia.org/wiki/Non-Transferable...</td>\n",
       "      <td>The film centres around a young woman named Am...</td>\n",
       "    </tr>\n",
       "    <tr>\n",
       "      <th>34885</th>\n",
       "      <td>2017</td>\n",
       "      <td>İstanbul Kırmızısı</td>\n",
       "      <td>Turkish</td>\n",
       "      <td>Ferzan Özpetek</td>\n",
       "      <td>Halit Ergenç, Tuba Büyüküstün, Mehmet Günsür, ...</td>\n",
       "      <td>romantic</td>\n",
       "      <td>https://en.wikipedia.org/wiki/%C4%B0stanbul_K%...</td>\n",
       "      <td>The writer Orhan Şahin returns to İstanbul aft...</td>\n",
       "    </tr>\n",
       "  </tbody>\n",
       "</table>\n",
       "</div>"
      ]
     },
     "execution_count": 219,
     "metadata": {},
     "output_type": "execute_result"
    }
   ],
   "execution_count": 219
  },
  {
   "cell_type": "markdown",
   "id": "f4a8688eac4f3ce8",
   "metadata": {
    "collapsed": false
   },
   "source": [
    "The field genre contains values that are separated by a space. This means that the genre field contains multiple genres for a movie and needs to be cleaned.\n",
    "For other fields like director and cast we will also look after the values and check if there are any data quality issues.\n",
    "\n",
    "To get more insights about other quality issues we will display 20 random samples of the dataset."
   ]
  },
  {
   "cell_type": "code",
   "id": "6763fddb1ae2771d",
   "metadata": {
    "collapsed": false,
    "ExecuteTime": {
     "end_time": "2024-06-11T15:47:52.002982Z",
     "start_time": "2024-06-11T15:47:51.994081Z"
    }
   },
   "source": [
    "# now we show 20 random samples of the dataset\n",
    "df.sample(20)"
   ],
   "outputs": [
    {
     "data": {
      "text/plain": [
       "       release_year                                    title origin_ethnicity  \\\n",
       "18916          1950                                 Blackout          British   \n",
       "29341          1965                        Panam Padaithavan            Tamil   \n",
       "23091          1978                           The Golden Key        Hong Kong   \n",
       "22085          2004  Machine Gun Molly (Monica la mitraille)         Canadian   \n",
       "16735          2014                      That Awkward Moment         American   \n",
       "16652          2013              Red Robin, TheThe Red Robin         American   \n",
       "23205          1987                      A Better Tomorrow 2        Hong Kong   \n",
       "34264          2016                                The Groom          Russian   \n",
       "18620          1942                       The Night Has Eyes          British   \n",
       "2069           1936                        The Gay Desperado         American   \n",
       "2664           1939                       Saved by the Belle         American   \n",
       "15682          2009                         Land of the Lost         American   \n",
       "14872          2006                        The Da Vinci Code         American   \n",
       "16574          2013            Jackass Presents: Bad Grandpa         American   \n",
       "21599          2016                 Despite the Falling Snow          British   \n",
       "24353          1952                                  Anhonee        Bollywood   \n",
       "20288          1977              No. 1 of the Secret Service          British   \n",
       "1715           1934                       Journal of a Crime         American   \n",
       "4446           1947                             Easter Yeggs         American   \n",
       "1354           1932                          Misleading Lady         American   \n",
       "\n",
       "                     director  \\\n",
       "18916         Robert S. Baker   \n",
       "29341           T. R. Ramanna   \n",
       "23091                  Zhu Mu   \n",
       "22085            Pierre Houle   \n",
       "16735            Tom Gormican   \n",
       "16652     Michael Z. Wechsler   \n",
       "23205                John Woo   \n",
       "34264      Alexander Nezlobin   \n",
       "18620           Leslie Arliss   \n",
       "2069         Rouben Mamoulian   \n",
       "2664            Charley Chase   \n",
       "15682         Brad Silberling   \n",
       "14872              Ron Howard   \n",
       "16574           Jeff Tremaine   \n",
       "21599  Director: Shamim Sarif   \n",
       "24353             K. A. Abbas   \n",
       "20288        Lindsay Shonteff   \n",
       "1715         F. McGrew Willis   \n",
       "4446                  Unknown   \n",
       "1354            Stuart Walker   \n",
       "\n",
       "                                                    cast              genre  \\\n",
       "18916                       Maxwell Reed, Dinah Sheridan              crime   \n",
       "29341  M. G. Ramachandran, K. R. Vijaya, Sowcar Janak...            unknown   \n",
       "23091                                                NaN            unknown   \n",
       "22085  Céline Bonnier, Roy Dupuis, Patrick Huard, Fra...        crime drama   \n",
       "16735  Zac Efron\\r\\nMiles Teller\\r\\nMichael B. Jordan...    romantic comedy   \n",
       "16652  Judd Hirsch, C. S. Lee, Ryan O'Nan, Joseph Lyl...           thriller   \n",
       "23205               Chow Yun-fat, Ti Lung, Leslie Cheung      crime, action   \n",
       "34264  Sergei Svetlakov, Philippe Reinhardt, Olga Kar...            unknown   \n",
       "18620                        James Mason, Wilfrid Lawson           thriller   \n",
       "2069                            Ida Lupino, Leo Carrillo             comedy   \n",
       "2664                                   The Three Stooges       comedy short   \n",
       "15682  Will Ferrell, Danny McBride, Anna Friel, Jorma...          adventure   \n",
       "14872  Tom Hanks, Audrey Tautou, Ian McKellen, Alfred...           thriller   \n",
       "16574                   Johnny Knoxville, Jackson Nicoll             comedy   \n",
       "21599  Director: Shamim Sarif\\r\\nCast: Rebecca Fergus...            unknown   \n",
       "24353  Nargis, Raj Kapoor, Achala Sachdev, Om Prakash...       social drama   \n",
       "20288                         Nicky Henson, Richard Todd  spy/action/comedy   \n",
       "1715        Ruth Chatterton, Adolphe Menjou, Claire Dodd              drama   \n",
       "4446                                          Bugs Bunny           animated   \n",
       "1354                      Claudette Colbert, Edmund Lowe             comedy   \n",
       "\n",
       "                                               wiki_page  \\\n",
       "18916  https://en.wikipedia.org/wiki/Blackout_(1950_f...   \n",
       "29341    https://en.wikipedia.org/wiki/Panam_Padaithavan   \n",
       "23091       https://en.wikipedia.org/wiki/The_Golden_Key   \n",
       "22085  https://en.wikipedia.org/wiki/Machine_Gun_Moll...   \n",
       "16735  https://en.wikipedia.org/wiki/That_Awkward_Moment   \n",
       "16652        https://en.wikipedia.org/wiki/The_Red_Robin   \n",
       "23205  https://en.wikipedia.org/wiki/A_Better_Tomorrow_2   \n",
       "34264            https://en.wikipedia.org/wiki/The_Groom   \n",
       "18620   https://en.wikipedia.org/wiki/The_Night_Has_Eyes   \n",
       "2069     https://en.wikipedia.org/wiki/The_Gay_Desperado   \n",
       "2664    https://en.wikipedia.org/wiki/Saved_by_the_Belle   \n",
       "15682  https://en.wikipedia.org/wiki/Land_of_the_Lost...   \n",
       "14872  https://en.wikipedia.org/wiki/The_Da_Vinci_Cod...   \n",
       "16574  https://en.wikipedia.org/wiki/Jackass_Presents...   \n",
       "21599  https://en.wikipedia.org/wiki/Despite_the_Fall...   \n",
       "24353  https://en.wikipedia.org/wiki/Anhonee_(1952_film)   \n",
       "20288  https://en.wikipedia.org/wiki/No._1_of_the_Sec...   \n",
       "1715    https://en.wikipedia.org/wiki/Journal_of_a_Crime   \n",
       "4446          https://en.wikipedia.org/wiki/Easter_Yeggs   \n",
       "1354       https://en.wikipedia.org/wiki/Misleading_Lady   \n",
       "\n",
       "                                                    plot  \n",
       "18916  An engineer, Christopher Pelly (Maxwell Reed),...  \n",
       "29341  In India of the 60s...\\r\\nWhile making to Calc...  \n",
       "23091  A young boy listens to his Great-aunt's storie...  \n",
       "22085  Monique Sparvieri, oldest daughter to an impov...  \n",
       "16735  Jason (Zac Efron) is sitting on a bench in New...  \n",
       "16652  75-year-old Dr. Nathaniel Shellner has led an ...  \n",
       "23205  Several years after the events of A Better Tom...  \n",
       "34264  A German named Helmut (Philippe Reinhardt), ha...  \n",
       "18620  Two young teachers travel to the Yorkshire Moo...  \n",
       "2069   Chivo, a singer who works in a movie theater p...  \n",
       "2664   The Stooges are traveling salesmen stranded in...  \n",
       "15682  Pompous paleontologist Rick Marshall has a low...  \n",
       "14872  Jacques Saunière, the Louvre's curator, is pur...  \n",
       "16574  Billy is sitting in the waiting room of a lawy...  \n",
       "21599  Then film is set in the post-Stalinist Soviet ...  \n",
       "24353  The film deals with the story of two sisters –...  \n",
       "20288  Eccentric Arthur Loveday decides to do his bit...  \n",
       "1715   Francoise is a jealous wife who spies on her p...  \n",
       "4446   Bugs Bunny finds the Easter Bunny (also called...  \n",
       "1354   Helen Steele (Claudette Colbert) is bored to d...  "
      ],
      "text/html": [
       "<div>\n",
       "<style scoped>\n",
       "    .dataframe tbody tr th:only-of-type {\n",
       "        vertical-align: middle;\n",
       "    }\n",
       "\n",
       "    .dataframe tbody tr th {\n",
       "        vertical-align: top;\n",
       "    }\n",
       "\n",
       "    .dataframe thead th {\n",
       "        text-align: right;\n",
       "    }\n",
       "</style>\n",
       "<table border=\"1\" class=\"dataframe\">\n",
       "  <thead>\n",
       "    <tr style=\"text-align: right;\">\n",
       "      <th></th>\n",
       "      <th>release_year</th>\n",
       "      <th>title</th>\n",
       "      <th>origin_ethnicity</th>\n",
       "      <th>director</th>\n",
       "      <th>cast</th>\n",
       "      <th>genre</th>\n",
       "      <th>wiki_page</th>\n",
       "      <th>plot</th>\n",
       "    </tr>\n",
       "  </thead>\n",
       "  <tbody>\n",
       "    <tr>\n",
       "      <th>18916</th>\n",
       "      <td>1950</td>\n",
       "      <td>Blackout</td>\n",
       "      <td>British</td>\n",
       "      <td>Robert S. Baker</td>\n",
       "      <td>Maxwell Reed, Dinah Sheridan</td>\n",
       "      <td>crime</td>\n",
       "      <td>https://en.wikipedia.org/wiki/Blackout_(1950_f...</td>\n",
       "      <td>An engineer, Christopher Pelly (Maxwell Reed),...</td>\n",
       "    </tr>\n",
       "    <tr>\n",
       "      <th>29341</th>\n",
       "      <td>1965</td>\n",
       "      <td>Panam Padaithavan</td>\n",
       "      <td>Tamil</td>\n",
       "      <td>T. R. Ramanna</td>\n",
       "      <td>M. G. Ramachandran, K. R. Vijaya, Sowcar Janak...</td>\n",
       "      <td>unknown</td>\n",
       "      <td>https://en.wikipedia.org/wiki/Panam_Padaithavan</td>\n",
       "      <td>In India of the 60s...\\r\\nWhile making to Calc...</td>\n",
       "    </tr>\n",
       "    <tr>\n",
       "      <th>23091</th>\n",
       "      <td>1978</td>\n",
       "      <td>The Golden Key</td>\n",
       "      <td>Hong Kong</td>\n",
       "      <td>Zhu Mu</td>\n",
       "      <td>NaN</td>\n",
       "      <td>unknown</td>\n",
       "      <td>https://en.wikipedia.org/wiki/The_Golden_Key</td>\n",
       "      <td>A young boy listens to his Great-aunt's storie...</td>\n",
       "    </tr>\n",
       "    <tr>\n",
       "      <th>22085</th>\n",
       "      <td>2004</td>\n",
       "      <td>Machine Gun Molly (Monica la mitraille)</td>\n",
       "      <td>Canadian</td>\n",
       "      <td>Pierre Houle</td>\n",
       "      <td>Céline Bonnier, Roy Dupuis, Patrick Huard, Fra...</td>\n",
       "      <td>crime drama</td>\n",
       "      <td>https://en.wikipedia.org/wiki/Machine_Gun_Moll...</td>\n",
       "      <td>Monique Sparvieri, oldest daughter to an impov...</td>\n",
       "    </tr>\n",
       "    <tr>\n",
       "      <th>16735</th>\n",
       "      <td>2014</td>\n",
       "      <td>That Awkward Moment</td>\n",
       "      <td>American</td>\n",
       "      <td>Tom Gormican</td>\n",
       "      <td>Zac Efron\\r\\nMiles Teller\\r\\nMichael B. Jordan...</td>\n",
       "      <td>romantic comedy</td>\n",
       "      <td>https://en.wikipedia.org/wiki/That_Awkward_Moment</td>\n",
       "      <td>Jason (Zac Efron) is sitting on a bench in New...</td>\n",
       "    </tr>\n",
       "    <tr>\n",
       "      <th>16652</th>\n",
       "      <td>2013</td>\n",
       "      <td>Red Robin, TheThe Red Robin</td>\n",
       "      <td>American</td>\n",
       "      <td>Michael Z. Wechsler</td>\n",
       "      <td>Judd Hirsch, C. S. Lee, Ryan O'Nan, Joseph Lyl...</td>\n",
       "      <td>thriller</td>\n",
       "      <td>https://en.wikipedia.org/wiki/The_Red_Robin</td>\n",
       "      <td>75-year-old Dr. Nathaniel Shellner has led an ...</td>\n",
       "    </tr>\n",
       "    <tr>\n",
       "      <th>23205</th>\n",
       "      <td>1987</td>\n",
       "      <td>A Better Tomorrow 2</td>\n",
       "      <td>Hong Kong</td>\n",
       "      <td>John Woo</td>\n",
       "      <td>Chow Yun-fat, Ti Lung, Leslie Cheung</td>\n",
       "      <td>crime, action</td>\n",
       "      <td>https://en.wikipedia.org/wiki/A_Better_Tomorrow_2</td>\n",
       "      <td>Several years after the events of A Better Tom...</td>\n",
       "    </tr>\n",
       "    <tr>\n",
       "      <th>34264</th>\n",
       "      <td>2016</td>\n",
       "      <td>The Groom</td>\n",
       "      <td>Russian</td>\n",
       "      <td>Alexander Nezlobin</td>\n",
       "      <td>Sergei Svetlakov, Philippe Reinhardt, Olga Kar...</td>\n",
       "      <td>unknown</td>\n",
       "      <td>https://en.wikipedia.org/wiki/The_Groom</td>\n",
       "      <td>A German named Helmut (Philippe Reinhardt), ha...</td>\n",
       "    </tr>\n",
       "    <tr>\n",
       "      <th>18620</th>\n",
       "      <td>1942</td>\n",
       "      <td>The Night Has Eyes</td>\n",
       "      <td>British</td>\n",
       "      <td>Leslie Arliss</td>\n",
       "      <td>James Mason, Wilfrid Lawson</td>\n",
       "      <td>thriller</td>\n",
       "      <td>https://en.wikipedia.org/wiki/The_Night_Has_Eyes</td>\n",
       "      <td>Two young teachers travel to the Yorkshire Moo...</td>\n",
       "    </tr>\n",
       "    <tr>\n",
       "      <th>2069</th>\n",
       "      <td>1936</td>\n",
       "      <td>The Gay Desperado</td>\n",
       "      <td>American</td>\n",
       "      <td>Rouben Mamoulian</td>\n",
       "      <td>Ida Lupino, Leo Carrillo</td>\n",
       "      <td>comedy</td>\n",
       "      <td>https://en.wikipedia.org/wiki/The_Gay_Desperado</td>\n",
       "      <td>Chivo, a singer who works in a movie theater p...</td>\n",
       "    </tr>\n",
       "    <tr>\n",
       "      <th>2664</th>\n",
       "      <td>1939</td>\n",
       "      <td>Saved by the Belle</td>\n",
       "      <td>American</td>\n",
       "      <td>Charley Chase</td>\n",
       "      <td>The Three Stooges</td>\n",
       "      <td>comedy short</td>\n",
       "      <td>https://en.wikipedia.org/wiki/Saved_by_the_Belle</td>\n",
       "      <td>The Stooges are traveling salesmen stranded in...</td>\n",
       "    </tr>\n",
       "    <tr>\n",
       "      <th>15682</th>\n",
       "      <td>2009</td>\n",
       "      <td>Land of the Lost</td>\n",
       "      <td>American</td>\n",
       "      <td>Brad Silberling</td>\n",
       "      <td>Will Ferrell, Danny McBride, Anna Friel, Jorma...</td>\n",
       "      <td>adventure</td>\n",
       "      <td>https://en.wikipedia.org/wiki/Land_of_the_Lost...</td>\n",
       "      <td>Pompous paleontologist Rick Marshall has a low...</td>\n",
       "    </tr>\n",
       "    <tr>\n",
       "      <th>14872</th>\n",
       "      <td>2006</td>\n",
       "      <td>The Da Vinci Code</td>\n",
       "      <td>American</td>\n",
       "      <td>Ron Howard</td>\n",
       "      <td>Tom Hanks, Audrey Tautou, Ian McKellen, Alfred...</td>\n",
       "      <td>thriller</td>\n",
       "      <td>https://en.wikipedia.org/wiki/The_Da_Vinci_Cod...</td>\n",
       "      <td>Jacques Saunière, the Louvre's curator, is pur...</td>\n",
       "    </tr>\n",
       "    <tr>\n",
       "      <th>16574</th>\n",
       "      <td>2013</td>\n",
       "      <td>Jackass Presents: Bad Grandpa</td>\n",
       "      <td>American</td>\n",
       "      <td>Jeff Tremaine</td>\n",
       "      <td>Johnny Knoxville, Jackson Nicoll</td>\n",
       "      <td>comedy</td>\n",
       "      <td>https://en.wikipedia.org/wiki/Jackass_Presents...</td>\n",
       "      <td>Billy is sitting in the waiting room of a lawy...</td>\n",
       "    </tr>\n",
       "    <tr>\n",
       "      <th>21599</th>\n",
       "      <td>2016</td>\n",
       "      <td>Despite the Falling Snow</td>\n",
       "      <td>British</td>\n",
       "      <td>Director: Shamim Sarif</td>\n",
       "      <td>Director: Shamim Sarif\\r\\nCast: Rebecca Fergus...</td>\n",
       "      <td>unknown</td>\n",
       "      <td>https://en.wikipedia.org/wiki/Despite_the_Fall...</td>\n",
       "      <td>Then film is set in the post-Stalinist Soviet ...</td>\n",
       "    </tr>\n",
       "    <tr>\n",
       "      <th>24353</th>\n",
       "      <td>1952</td>\n",
       "      <td>Anhonee</td>\n",
       "      <td>Bollywood</td>\n",
       "      <td>K. A. Abbas</td>\n",
       "      <td>Nargis, Raj Kapoor, Achala Sachdev, Om Prakash...</td>\n",
       "      <td>social drama</td>\n",
       "      <td>https://en.wikipedia.org/wiki/Anhonee_(1952_film)</td>\n",
       "      <td>The film deals with the story of two sisters –...</td>\n",
       "    </tr>\n",
       "    <tr>\n",
       "      <th>20288</th>\n",
       "      <td>1977</td>\n",
       "      <td>No. 1 of the Secret Service</td>\n",
       "      <td>British</td>\n",
       "      <td>Lindsay Shonteff</td>\n",
       "      <td>Nicky Henson, Richard Todd</td>\n",
       "      <td>spy/action/comedy</td>\n",
       "      <td>https://en.wikipedia.org/wiki/No._1_of_the_Sec...</td>\n",
       "      <td>Eccentric Arthur Loveday decides to do his bit...</td>\n",
       "    </tr>\n",
       "    <tr>\n",
       "      <th>1715</th>\n",
       "      <td>1934</td>\n",
       "      <td>Journal of a Crime</td>\n",
       "      <td>American</td>\n",
       "      <td>F. McGrew Willis</td>\n",
       "      <td>Ruth Chatterton, Adolphe Menjou, Claire Dodd</td>\n",
       "      <td>drama</td>\n",
       "      <td>https://en.wikipedia.org/wiki/Journal_of_a_Crime</td>\n",
       "      <td>Francoise is a jealous wife who spies on her p...</td>\n",
       "    </tr>\n",
       "    <tr>\n",
       "      <th>4446</th>\n",
       "      <td>1947</td>\n",
       "      <td>Easter Yeggs</td>\n",
       "      <td>American</td>\n",
       "      <td>Unknown</td>\n",
       "      <td>Bugs Bunny</td>\n",
       "      <td>animated</td>\n",
       "      <td>https://en.wikipedia.org/wiki/Easter_Yeggs</td>\n",
       "      <td>Bugs Bunny finds the Easter Bunny (also called...</td>\n",
       "    </tr>\n",
       "    <tr>\n",
       "      <th>1354</th>\n",
       "      <td>1932</td>\n",
       "      <td>Misleading Lady</td>\n",
       "      <td>American</td>\n",
       "      <td>Stuart Walker</td>\n",
       "      <td>Claudette Colbert, Edmund Lowe</td>\n",
       "      <td>comedy</td>\n",
       "      <td>https://en.wikipedia.org/wiki/Misleading_Lady</td>\n",
       "      <td>Helen Steele (Claudette Colbert) is bored to d...</td>\n",
       "    </tr>\n",
       "  </tbody>\n",
       "</table>\n",
       "</div>"
      ]
     },
     "execution_count": 220,
     "metadata": {},
     "output_type": "execute_result"
    }
   ],
   "execution_count": 220
  },
  {
   "metadata": {},
   "cell_type": "markdown",
   "source": "Some of the fields like 'genre' containing '\\n' and '\\r' which are not needed. These values need to be cleaned.",
   "id": "43452c6ed98999be"
  },
  {
   "cell_type": "code",
   "id": "f782afe0526d94d2",
   "metadata": {
    "collapsed": false,
    "ExecuteTime": {
     "end_time": "2024-06-11T15:47:52.223399Z",
     "start_time": "2024-06-11T15:47:52.208668Z"
    }
   },
   "source": [
    "# get insights about the dataset\n",
    "df.info()"
   ],
   "outputs": [
    {
     "name": "stdout",
     "output_type": "stream",
     "text": [
      "<class 'pandas.core.frame.DataFrame'>\n",
      "RangeIndex: 34886 entries, 0 to 34885\n",
      "Data columns (total 8 columns):\n",
      " #   Column            Non-Null Count  Dtype \n",
      "---  ------            --------------  ----- \n",
      " 0   release_year      34886 non-null  int64 \n",
      " 1   title             34886 non-null  object\n",
      " 2   origin_ethnicity  34886 non-null  object\n",
      " 3   director          34886 non-null  object\n",
      " 4   cast              33464 non-null  object\n",
      " 5   genre             34886 non-null  object\n",
      " 6   wiki_page         34886 non-null  object\n",
      " 7   plot              34886 non-null  object\n",
      "dtypes: int64(1), object(7)\n",
      "memory usage: 2.1+ MB\n"
     ]
    }
   ],
   "execution_count": 221
  },
  {
   "metadata": {},
   "cell_type": "markdown",
   "source": [
    "The dataset contains 8 columns with the following data types:\n",
    "- 1 integer (int64)\n",
    "- 7 objects (strings)"
   ],
   "id": "2a9dacbe8aeb073a"
  },
  {
   "cell_type": "markdown",
   "id": "ff2681fc45f60d3b",
   "metadata": {
    "collapsed": false
   },
   "source": [
    "### Check the descriptive statistics of the dataset\n",
    "Now we will check the descriptive statistics of the dataset to get a better understanding of the data."
   ]
  },
  {
   "metadata": {
    "ExecuteTime": {
     "end_time": "2024-06-11T15:47:53.056603Z",
     "start_time": "2024-06-11T15:47:53.053765Z"
    }
   },
   "cell_type": "code",
   "source": [
    "min_release_year = df['release_year'].min()\n",
    "max_release_year = df['release_year'].max()\n",
    "print(\"The oldest movie in the dataset is from {} and the newest from {}\".format(min_release_year, max_release_year))"
   ],
   "id": "2e878885b2dd2a4d",
   "outputs": [
    {
     "name": "stdout",
     "output_type": "stream",
     "text": [
      "The oldest movie in the dataset is from 1901 and the newest from 2017\n"
     ]
    }
   ],
   "execution_count": 222
  },
  {
   "metadata": {
    "ExecuteTime": {
     "end_time": "2024-06-11T15:47:53.361332Z",
     "start_time": "2024-06-11T15:47:53.356508Z"
    }
   },
   "cell_type": "code",
   "source": [
    "# check and sort the number of occurrences of the release year in the dataset\n",
    "df['release_year'].value_counts()"
   ],
   "id": "632c11671bc16ea5",
   "outputs": [
    {
     "data": {
      "text/plain": [
       "release_year\n",
       "2013    1021\n",
       "2014     929\n",
       "2012     874\n",
       "2011     858\n",
       "2010     825\n",
       "        ... \n",
       "1906       3\n",
       "1905       2\n",
       "1903       2\n",
       "1904       1\n",
       "1902       1\n",
       "Name: count, Length: 117, dtype: int64"
      ]
     },
     "execution_count": 223,
     "metadata": {},
     "output_type": "execute_result"
    }
   ],
   "execution_count": 223
  },
  {
   "metadata": {},
   "cell_type": "markdown",
   "source": "2013 is the year with the most movies in the dataset. Later we will also check the number of movies in a visual way.",
   "id": "22d59106c45785c9"
  },
  {
   "metadata": {
    "ExecuteTime": {
     "end_time": "2024-06-11T15:47:53.787680Z",
     "start_time": "2024-06-11T15:47:53.781669Z"
    }
   },
   "cell_type": "code",
   "source": [
    "# now we try to get the number of movies per genre\n",
    "df['genre'].value_counts()"
   ],
   "id": "588ea294528bb968",
   "outputs": [
    {
     "data": {
      "text/plain": [
       "genre\n",
       "unknown                          6083\n",
       "drama                            5964\n",
       "comedy                           4379\n",
       "horror                           1167\n",
       "action                           1098\n",
       "                                 ... \n",
       "cbc-tv miniseries                   1\n",
       "bio-drama                           1\n",
       "national film board docudrama       1\n",
       "cult drama                          1\n",
       "horror romantic comedy              1\n",
       "Name: count, Length: 2265, dtype: int64"
      ]
     },
     "execution_count": 224,
     "metadata": {},
     "output_type": "execute_result"
    }
   ],
   "execution_count": 224
  },
  {
   "metadata": {},
   "cell_type": "markdown",
   "source": [
    "The genre with the most movies has the value 'unknown'. This means that there are a lot of movies without a genre. This needs to be investigated further.\n",
    "Right after the genre 'unknown' the genre 'drama' has the most movies.\n",
    "\n",
    "This means that some of the data is missing and needs to be cleaned."
   ],
   "id": "758c2863920e5f5d"
  },
  {
   "metadata": {},
   "cell_type": "markdown",
   "source": [
    "### Summary\n",
    "- The dataset contains 34886 movies and has 8 columns with different data types.\n",
    "- The oldest movie in the dataset is from 1901 and the newest from 2017.\n",
    "- The fields are not clean and there are a lot of missing values in the dataset which needs to be cleaned.\n",
    "\n",
    "The next steps are cleaning the dataset and checking for missing values to improve the dataquality."
   ],
   "id": "3c99f564893ee668"
  },
  {
   "cell_type": "markdown",
   "id": "c0f89e94bcc891f5",
   "metadata": {
    "collapsed": false
   },
   "source": [
    "# 2 Data Quality\n",
    "Check all Text columns for improvements"
   ]
  },
  {
   "metadata": {},
   "cell_type": "markdown",
   "source": "## 2.1 Check for Quality Issues",
   "id": "5b98776f5f77ecdb"
  },
  {
   "metadata": {},
   "cell_type": "markdown",
   "source": "### 2.1.1 Check: release_year",
   "id": "a2dd6b9799af689"
  },
  {
   "metadata": {},
   "cell_type": "markdown",
   "source": "#### Show values",
   "id": "71e08fe6c0047a3d"
  },
  {
   "metadata": {
    "ExecuteTime": {
     "end_time": "2024-06-11T15:47:53.989114Z",
     "start_time": "2024-06-11T15:47:53.985085Z"
    }
   },
   "cell_type": "code",
   "source": [
    "# display values for the release_year column\n",
    "df['release_year'].value_counts()"
   ],
   "id": "24ae8a33617c538f",
   "outputs": [
    {
     "data": {
      "text/plain": [
       "release_year\n",
       "2013    1021\n",
       "2014     929\n",
       "2012     874\n",
       "2011     858\n",
       "2010     825\n",
       "        ... \n",
       "1906       3\n",
       "1905       2\n",
       "1903       2\n",
       "1904       1\n",
       "1902       1\n",
       "Name: count, Length: 117, dtype: int64"
      ]
     },
     "execution_count": 225,
     "metadata": {},
     "output_type": "execute_result"
    }
   ],
   "execution_count": 225
  },
  {
   "metadata": {},
   "cell_type": "markdown",
   "source": "#### Missing Values",
   "id": "646003dc59fbcdf"
  },
  {
   "metadata": {
    "ExecuteTime": {
     "end_time": "2024-06-11T15:47:54.286613Z",
     "start_time": "2024-06-11T15:47:54.278478Z"
    }
   },
   "cell_type": "code",
   "source": [
    "# check for missing values in the release_year column\n",
    "missing_release_year = df['release_year'].isna().sum()\n",
    "print(\"There are {} missing values in the release_year column\".format(missing_release_year))"
   ],
   "id": "29706de6a212f2eb",
   "outputs": [
    {
     "name": "stdout",
     "output_type": "stream",
     "text": [
      "There are 0 missing values in the release_year column\n"
     ]
    }
   ],
   "execution_count": 226
  },
  {
   "metadata": {},
   "cell_type": "markdown",
   "source": [
    "\n",
    "#### Summary:\n",
    "The release_year column has no missing values. The oldest movie in the dataset is from 1901 and the newest from 2017. The Data Quality is good for the release_year column."
   ],
   "id": "314c176cc42b6b90"
  },
  {
   "metadata": {},
   "cell_type": "markdown",
   "source": "### 2.1.2 Check: title",
   "id": "7bcc19fbb1de8c39"
  },
  {
   "metadata": {},
   "cell_type": "markdown",
   "source": "#### Show values",
   "id": "334431dec3a73b24"
  },
  {
   "metadata": {
    "ExecuteTime": {
     "end_time": "2024-06-11T15:47:54.517589Z",
     "start_time": "2024-06-11T15:47:54.504226Z"
    }
   },
   "cell_type": "code",
   "source": [
    "# display values for the title column\n",
    "df['title'].value_counts()"
   ],
   "id": "e5db063d65eff794",
   "outputs": [
    {
     "data": {
      "text/plain": [
       "title\n",
       "Cinderella               8\n",
       "The Three Musketeers     8\n",
       "Treasure Island          7\n",
       "Hero                     6\n",
       "Alice in Wonderland      6\n",
       "                        ..\n",
       "Leap of Faith            1\n",
       "A League of Their Own    1\n",
       "The Lawnmower Man        1\n",
       "Ladybugs                 1\n",
       "İstanbul Kırmızısı       1\n",
       "Name: count, Length: 32432, dtype: int64"
      ]
     },
     "execution_count": 227,
     "metadata": {},
     "output_type": "execute_result"
    }
   ],
   "execution_count": 227
  },
  {
   "metadata": {},
   "cell_type": "markdown",
   "source": "#### Missing Values",
   "id": "7138abb4703deb5e"
  },
  {
   "metadata": {
    "ExecuteTime": {
     "end_time": "2024-06-11T15:47:54.758783Z",
     "start_time": "2024-06-11T15:47:54.754768Z"
    }
   },
   "cell_type": "code",
   "source": [
    "# check for missing values in the title column\n",
    "missing_title = df['title'].isna().sum()\n",
    "print(\"There are {} missing values in the title column\".format(missing_title))"
   ],
   "id": "514a3af03669ed1b",
   "outputs": [
    {
     "name": "stdout",
     "output_type": "stream",
     "text": [
      "There are 0 missing values in the title column\n"
     ]
    }
   ],
   "execution_count": 228
  },
  {
   "metadata": {},
   "cell_type": "markdown",
   "source": "#### Empty Strings",
   "id": "b43a07fd7c817795"
  },
  {
   "metadata": {
    "ExecuteTime": {
     "end_time": "2024-06-11T15:47:54.952933Z",
     "start_time": "2024-06-11T15:47:54.943672Z"
    }
   },
   "cell_type": "code",
   "source": [
    "# check for empty strings in the title column\n",
    "empty_title = df[df['title'].str.strip() == ''].shape[0]\n",
    "print(\"There are {} movies with an empty title in the dataset\".format(empty_title))"
   ],
   "id": "7d76a4352f82ecba",
   "outputs": [
    {
     "name": "stdout",
     "output_type": "stream",
     "text": [
      "There are 0 movies with an empty title in the dataset\n"
     ]
    }
   ],
   "execution_count": 229
  },
  {
   "metadata": {},
   "cell_type": "markdown",
   "source": "#### Duplicates",
   "id": "4371d79730f6eb2b"
  },
  {
   "metadata": {
    "ExecuteTime": {
     "end_time": "2024-06-11T15:47:55.176869Z",
     "start_time": "2024-06-11T15:47:55.172646Z"
    }
   },
   "cell_type": "code",
   "source": [
    "# check for duplicates in the title column\n",
    "duplicates_title = df['title'].duplicated().sum()\n",
    "print(\"There are {} duplicates in the title column.\".format(duplicates_title))"
   ],
   "id": "d869a2eb517606f3",
   "outputs": [
    {
     "name": "stdout",
     "output_type": "stream",
     "text": [
      "There are 2454 duplicates in the title column.\n"
     ]
    }
   ],
   "execution_count": 230
  },
  {
   "metadata": {},
   "cell_type": "markdown",
   "source": "Let's display the duplicates to see if they are real duplicates or not.",
   "id": "d3a87c5062210450"
  },
  {
   "metadata": {
    "ExecuteTime": {
     "end_time": "2024-06-11T15:47:55.347791Z",
     "start_time": "2024-06-11T15:47:55.339323Z"
    }
   },
   "cell_type": "code",
   "source": [
    "display_duplicates_title = df[df['title'].duplicated()]\n",
    "display_duplicates_title"
   ],
   "id": "f0cbd0bac6bc7651",
   "outputs": [
    {
     "data": {
      "text/plain": [
       "       release_year                    title origin_ethnicity  \\\n",
       "27             1910        A Christmas Carol         American   \n",
       "55             1913  Dr. Jekyll and Mr. Hyde         American   \n",
       "85             1914             Laughing Gas         American   \n",
       "240            1918            The Squaw Man         American   \n",
       "286            1919   Nine-Tenths of the Law         American   \n",
       "...             ...                      ...              ...   \n",
       "34812          2017                Forgotten     South_Korean   \n",
       "34852          2010                    Honey          Turkish   \n",
       "34853          2010          Black and White          Turkish   \n",
       "34858          2010             The Crossing          Turkish   \n",
       "34871          2011           Merry-Go-Round          Turkish   \n",
       "\n",
       "                              director  \\\n",
       "27                    J. Searle Dawley   \n",
       "55     Herbert Brenon and Carl Laemmle   \n",
       "85                     Charlie Chaplin   \n",
       "240                   Cecil B. DeMille   \n",
       "286                    B. Reeves Eason   \n",
       "...                                ...   \n",
       "34812                    Jang Hang-jun   \n",
       "34852                 Semih Kaplanoğlu   \n",
       "34853                 Ahmet Boyacıoğlu   \n",
       "34858                 Selim Demirdelen   \n",
       "34871                   İlksen Başarır   \n",
       "\n",
       "                                                    cast    genre  \\\n",
       "27                  Marc McDermott, Charles Stanton Ogle  unknown   \n",
       "55                                           King Baggot   horror   \n",
       "85                         Charlie Chaplin, Fritz Schade   comedy   \n",
       "240                           Elliott Dexter, Ann Little  western   \n",
       "286                           Mitchell Lewis, Jimsy Maye    drama   \n",
       "...                                                  ...      ...   \n",
       "34812  Kang Ha-neul, Kim Mu-yeol, Moon Sung-keun, Na ...  unknown   \n",
       "34852                                  Erdal Beşikçioğlu    drama   \n",
       "34853            Tuncel Kurtiz, Erkan Can & Tanel Birsel    drama   \n",
       "34858  Güven Kıraç, Sezin Aktbaşoğulları & Cengiz Boz...    drama   \n",
       "34871        Mert Fırat, Nergis Öztürk & Sema Çeyrekbaşı    drama   \n",
       "\n",
       "                                               wiki_page  \\\n",
       "27     https://en.wikipedia.org/wiki/A_Christmas_Caro...   \n",
       "55     https://en.wikipedia.org/wiki/Dr._Jekyll_and_M...   \n",
       "85     https://en.wikipedia.org/wiki/Laughing_Gas_(19...   \n",
       "240    https://en.wikipedia.org/wiki/The_Squaw_Man_(1...   \n",
       "286    https://en.wikipedia.org/wiki/Nine-Tenths_of_t...   \n",
       "...                                                  ...   \n",
       "34812  https://en.wikipedia.org/wiki/Forgotten_(2017_...   \n",
       "34852           https://en.wikipedia.org/wiki/Bal_(film)   \n",
       "34853  https://en.wikipedia.org/wiki/Black_and_White_...   \n",
       "34858  https://en.wikipedia.org/wiki/The_Crossing_(20...   \n",
       "34871  https://en.wikipedia.org/wiki/Merry-Go-Round_(...   \n",
       "\n",
       "                                                    plot  \n",
       "27     The day before Christmas, Ebenezer Scrooge ref...  \n",
       "55     Dr. Henry Jekyll (King Baggot) sends a note to...  \n",
       "85     We are told Charlie is a dental assistant. He ...  \n",
       "240    As described in a film magazine,[3] Jim Wynneg...  \n",
       "286    As described in a film magazine,[1] Jules Lene...  \n",
       "...                                                  ...  \n",
       "34812  A man loses his memory after being kidnapped f...  \n",
       "34852  In the remote and undeveloped eastern Black Se...  \n",
       "34853  A painter who has lived a stormy life that sti...  \n",
       "34858  Güven works at an accounting firm and leads an...  \n",
       "34871  Erdem and Sevil live in a small town with thei...  \n",
       "\n",
       "[2454 rows x 8 columns]"
      ],
      "text/html": [
       "<div>\n",
       "<style scoped>\n",
       "    .dataframe tbody tr th:only-of-type {\n",
       "        vertical-align: middle;\n",
       "    }\n",
       "\n",
       "    .dataframe tbody tr th {\n",
       "        vertical-align: top;\n",
       "    }\n",
       "\n",
       "    .dataframe thead th {\n",
       "        text-align: right;\n",
       "    }\n",
       "</style>\n",
       "<table border=\"1\" class=\"dataframe\">\n",
       "  <thead>\n",
       "    <tr style=\"text-align: right;\">\n",
       "      <th></th>\n",
       "      <th>release_year</th>\n",
       "      <th>title</th>\n",
       "      <th>origin_ethnicity</th>\n",
       "      <th>director</th>\n",
       "      <th>cast</th>\n",
       "      <th>genre</th>\n",
       "      <th>wiki_page</th>\n",
       "      <th>plot</th>\n",
       "    </tr>\n",
       "  </thead>\n",
       "  <tbody>\n",
       "    <tr>\n",
       "      <th>27</th>\n",
       "      <td>1910</td>\n",
       "      <td>A Christmas Carol</td>\n",
       "      <td>American</td>\n",
       "      <td>J. Searle Dawley</td>\n",
       "      <td>Marc McDermott, Charles Stanton Ogle</td>\n",
       "      <td>unknown</td>\n",
       "      <td>https://en.wikipedia.org/wiki/A_Christmas_Caro...</td>\n",
       "      <td>The day before Christmas, Ebenezer Scrooge ref...</td>\n",
       "    </tr>\n",
       "    <tr>\n",
       "      <th>55</th>\n",
       "      <td>1913</td>\n",
       "      <td>Dr. Jekyll and Mr. Hyde</td>\n",
       "      <td>American</td>\n",
       "      <td>Herbert Brenon and Carl Laemmle</td>\n",
       "      <td>King Baggot</td>\n",
       "      <td>horror</td>\n",
       "      <td>https://en.wikipedia.org/wiki/Dr._Jekyll_and_M...</td>\n",
       "      <td>Dr. Henry Jekyll (King Baggot) sends a note to...</td>\n",
       "    </tr>\n",
       "    <tr>\n",
       "      <th>85</th>\n",
       "      <td>1914</td>\n",
       "      <td>Laughing Gas</td>\n",
       "      <td>American</td>\n",
       "      <td>Charlie Chaplin</td>\n",
       "      <td>Charlie Chaplin, Fritz Schade</td>\n",
       "      <td>comedy</td>\n",
       "      <td>https://en.wikipedia.org/wiki/Laughing_Gas_(19...</td>\n",
       "      <td>We are told Charlie is a dental assistant. He ...</td>\n",
       "    </tr>\n",
       "    <tr>\n",
       "      <th>240</th>\n",
       "      <td>1918</td>\n",
       "      <td>The Squaw Man</td>\n",
       "      <td>American</td>\n",
       "      <td>Cecil B. DeMille</td>\n",
       "      <td>Elliott Dexter, Ann Little</td>\n",
       "      <td>western</td>\n",
       "      <td>https://en.wikipedia.org/wiki/The_Squaw_Man_(1...</td>\n",
       "      <td>As described in a film magazine,[3] Jim Wynneg...</td>\n",
       "    </tr>\n",
       "    <tr>\n",
       "      <th>286</th>\n",
       "      <td>1919</td>\n",
       "      <td>Nine-Tenths of the Law</td>\n",
       "      <td>American</td>\n",
       "      <td>B. Reeves Eason</td>\n",
       "      <td>Mitchell Lewis, Jimsy Maye</td>\n",
       "      <td>drama</td>\n",
       "      <td>https://en.wikipedia.org/wiki/Nine-Tenths_of_t...</td>\n",
       "      <td>As described in a film magazine,[1] Jules Lene...</td>\n",
       "    </tr>\n",
       "    <tr>\n",
       "      <th>...</th>\n",
       "      <td>...</td>\n",
       "      <td>...</td>\n",
       "      <td>...</td>\n",
       "      <td>...</td>\n",
       "      <td>...</td>\n",
       "      <td>...</td>\n",
       "      <td>...</td>\n",
       "      <td>...</td>\n",
       "    </tr>\n",
       "    <tr>\n",
       "      <th>34812</th>\n",
       "      <td>2017</td>\n",
       "      <td>Forgotten</td>\n",
       "      <td>South_Korean</td>\n",
       "      <td>Jang Hang-jun</td>\n",
       "      <td>Kang Ha-neul, Kim Mu-yeol, Moon Sung-keun, Na ...</td>\n",
       "      <td>unknown</td>\n",
       "      <td>https://en.wikipedia.org/wiki/Forgotten_(2017_...</td>\n",
       "      <td>A man loses his memory after being kidnapped f...</td>\n",
       "    </tr>\n",
       "    <tr>\n",
       "      <th>34852</th>\n",
       "      <td>2010</td>\n",
       "      <td>Honey</td>\n",
       "      <td>Turkish</td>\n",
       "      <td>Semih Kaplanoğlu</td>\n",
       "      <td>Erdal Beşikçioğlu</td>\n",
       "      <td>drama</td>\n",
       "      <td>https://en.wikipedia.org/wiki/Bal_(film)</td>\n",
       "      <td>In the remote and undeveloped eastern Black Se...</td>\n",
       "    </tr>\n",
       "    <tr>\n",
       "      <th>34853</th>\n",
       "      <td>2010</td>\n",
       "      <td>Black and White</td>\n",
       "      <td>Turkish</td>\n",
       "      <td>Ahmet Boyacıoğlu</td>\n",
       "      <td>Tuncel Kurtiz, Erkan Can &amp; Tanel Birsel</td>\n",
       "      <td>drama</td>\n",
       "      <td>https://en.wikipedia.org/wiki/Black_and_White_...</td>\n",
       "      <td>A painter who has lived a stormy life that sti...</td>\n",
       "    </tr>\n",
       "    <tr>\n",
       "      <th>34858</th>\n",
       "      <td>2010</td>\n",
       "      <td>The Crossing</td>\n",
       "      <td>Turkish</td>\n",
       "      <td>Selim Demirdelen</td>\n",
       "      <td>Güven Kıraç, Sezin Aktbaşoğulları &amp; Cengiz Boz...</td>\n",
       "      <td>drama</td>\n",
       "      <td>https://en.wikipedia.org/wiki/The_Crossing_(20...</td>\n",
       "      <td>Güven works at an accounting firm and leads an...</td>\n",
       "    </tr>\n",
       "    <tr>\n",
       "      <th>34871</th>\n",
       "      <td>2011</td>\n",
       "      <td>Merry-Go-Round</td>\n",
       "      <td>Turkish</td>\n",
       "      <td>İlksen Başarır</td>\n",
       "      <td>Mert Fırat, Nergis Öztürk &amp; Sema Çeyrekbaşı</td>\n",
       "      <td>drama</td>\n",
       "      <td>https://en.wikipedia.org/wiki/Merry-Go-Round_(...</td>\n",
       "      <td>Erdem and Sevil live in a small town with thei...</td>\n",
       "    </tr>\n",
       "  </tbody>\n",
       "</table>\n",
       "<p>2454 rows × 8 columns</p>\n",
       "</div>"
      ]
     },
     "execution_count": 231,
     "metadata": {},
     "output_type": "execute_result"
    }
   ],
   "execution_count": 231
  },
  {
   "metadata": {},
   "cell_type": "markdown",
   "source": [
    "Some of the movies \"Dr. Jekyll and Mr. Hyde\" for example has been produced multiple times.\n",
    "This is one reason why there are duplicates in the title."
   ],
   "id": "5c997c312fc8cccd"
  },
  {
   "metadata": {
    "ExecuteTime": {
     "end_time": "2024-06-11T15:47:55.644661Z",
     "start_time": "2024-06-11T15:47:55.633536Z"
    }
   },
   "cell_type": "code",
   "source": [
    "# check how many times 'Dr. Jekyll and Mr. Hyde' is in the dataset\n",
    "df['title'].value_counts().get('Dr. Jekyll and Mr. Hyde')"
   ],
   "id": "8404fd39b7c832c9",
   "outputs": [
    {
     "data": {
      "text/plain": [
       "5"
      ]
     },
     "execution_count": 232,
     "metadata": {},
     "output_type": "execute_result"
    }
   ],
   "execution_count": 232
  },
  {
   "metadata": {
    "ExecuteTime": {
     "end_time": "2024-06-11T15:47:55.767740Z",
     "start_time": "2024-06-11T15:47:55.760125Z"
    }
   },
   "cell_type": "code",
   "source": [
    "# display the rows of duplicates for the title 'Dr. Jekyll and Mr. Hyde'\n",
    "df[df['title'] == 'Dr. Jekyll and Mr. Hyde']"
   ],
   "id": "eb2a4fafccc63915",
   "outputs": [
    {
     "data": {
      "text/plain": [
       "      release_year                    title origin_ethnicity  \\\n",
       "44            1912  Dr. Jekyll and Mr. Hyde         American   \n",
       "55            1913  Dr. Jekyll and Mr. Hyde         American   \n",
       "318           1920  Dr. Jekyll and Mr. Hyde         American   \n",
       "1103          1931  Dr. Jekyll and Mr. Hyde         American   \n",
       "3038          1941  Dr. Jekyll and Mr. Hyde         American   \n",
       "\n",
       "                             director  \\\n",
       "44                   Lucius Henderson   \n",
       "55    Herbert Brenon and Carl Laemmle   \n",
       "318                 John S. Robertson   \n",
       "1103                 Rouben Mamoulian   \n",
       "3038                   Victor Fleming   \n",
       "\n",
       "                                            cast          genre  \\\n",
       "44                                   James Cruze         horror   \n",
       "55                                   King Baggot         horror   \n",
       "318                               John Barrymore         horror   \n",
       "1103  Fredric March, Miriam Hopkins, Rose Hobart  drama, horror   \n",
       "3038  Spencer Tracy, Ingrid Bergman, Lana Turner         horror   \n",
       "\n",
       "                                              wiki_page  \\\n",
       "44    https://en.wikipedia.org/wiki/Dr._Jekyll_and_M...   \n",
       "55    https://en.wikipedia.org/wiki/Dr._Jekyll_and_M...   \n",
       "318   https://en.wikipedia.org/wiki/Dr._Jekyll_and_M...   \n",
       "1103  https://en.wikipedia.org/wiki/Dr._Jekyll_and_M...   \n",
       "3038  https://en.wikipedia.org/wiki/Dr._Jekyll_and_M...   \n",
       "\n",
       "                                                   plot  \n",
       "44    White-haired Dr. Jekyll has secretly locked hi...  \n",
       "55    Dr. Henry Jekyll (King Baggot) sends a note to...  \n",
       "318   Henry Jekyll (John Barrymore) is a doctor of m...  \n",
       "1103  The film tells the story of Dr. Henry Jekyll (...  \n",
       "3038  Dr. Harry Jekyll (Spencer Tracy) believes good...  "
      ],
      "text/html": [
       "<div>\n",
       "<style scoped>\n",
       "    .dataframe tbody tr th:only-of-type {\n",
       "        vertical-align: middle;\n",
       "    }\n",
       "\n",
       "    .dataframe tbody tr th {\n",
       "        vertical-align: top;\n",
       "    }\n",
       "\n",
       "    .dataframe thead th {\n",
       "        text-align: right;\n",
       "    }\n",
       "</style>\n",
       "<table border=\"1\" class=\"dataframe\">\n",
       "  <thead>\n",
       "    <tr style=\"text-align: right;\">\n",
       "      <th></th>\n",
       "      <th>release_year</th>\n",
       "      <th>title</th>\n",
       "      <th>origin_ethnicity</th>\n",
       "      <th>director</th>\n",
       "      <th>cast</th>\n",
       "      <th>genre</th>\n",
       "      <th>wiki_page</th>\n",
       "      <th>plot</th>\n",
       "    </tr>\n",
       "  </thead>\n",
       "  <tbody>\n",
       "    <tr>\n",
       "      <th>44</th>\n",
       "      <td>1912</td>\n",
       "      <td>Dr. Jekyll and Mr. Hyde</td>\n",
       "      <td>American</td>\n",
       "      <td>Lucius Henderson</td>\n",
       "      <td>James Cruze</td>\n",
       "      <td>horror</td>\n",
       "      <td>https://en.wikipedia.org/wiki/Dr._Jekyll_and_M...</td>\n",
       "      <td>White-haired Dr. Jekyll has secretly locked hi...</td>\n",
       "    </tr>\n",
       "    <tr>\n",
       "      <th>55</th>\n",
       "      <td>1913</td>\n",
       "      <td>Dr. Jekyll and Mr. Hyde</td>\n",
       "      <td>American</td>\n",
       "      <td>Herbert Brenon and Carl Laemmle</td>\n",
       "      <td>King Baggot</td>\n",
       "      <td>horror</td>\n",
       "      <td>https://en.wikipedia.org/wiki/Dr._Jekyll_and_M...</td>\n",
       "      <td>Dr. Henry Jekyll (King Baggot) sends a note to...</td>\n",
       "    </tr>\n",
       "    <tr>\n",
       "      <th>318</th>\n",
       "      <td>1920</td>\n",
       "      <td>Dr. Jekyll and Mr. Hyde</td>\n",
       "      <td>American</td>\n",
       "      <td>John S. Robertson</td>\n",
       "      <td>John Barrymore</td>\n",
       "      <td>horror</td>\n",
       "      <td>https://en.wikipedia.org/wiki/Dr._Jekyll_and_M...</td>\n",
       "      <td>Henry Jekyll (John Barrymore) is a doctor of m...</td>\n",
       "    </tr>\n",
       "    <tr>\n",
       "      <th>1103</th>\n",
       "      <td>1931</td>\n",
       "      <td>Dr. Jekyll and Mr. Hyde</td>\n",
       "      <td>American</td>\n",
       "      <td>Rouben Mamoulian</td>\n",
       "      <td>Fredric March, Miriam Hopkins, Rose Hobart</td>\n",
       "      <td>drama, horror</td>\n",
       "      <td>https://en.wikipedia.org/wiki/Dr._Jekyll_and_M...</td>\n",
       "      <td>The film tells the story of Dr. Henry Jekyll (...</td>\n",
       "    </tr>\n",
       "    <tr>\n",
       "      <th>3038</th>\n",
       "      <td>1941</td>\n",
       "      <td>Dr. Jekyll and Mr. Hyde</td>\n",
       "      <td>American</td>\n",
       "      <td>Victor Fleming</td>\n",
       "      <td>Spencer Tracy, Ingrid Bergman, Lana Turner</td>\n",
       "      <td>horror</td>\n",
       "      <td>https://en.wikipedia.org/wiki/Dr._Jekyll_and_M...</td>\n",
       "      <td>Dr. Harry Jekyll (Spencer Tracy) believes good...</td>\n",
       "    </tr>\n",
       "  </tbody>\n",
       "</table>\n",
       "</div>"
      ]
     },
     "execution_count": 233,
     "metadata": {},
     "output_type": "execute_result"
    }
   ],
   "execution_count": 233
  },
  {
   "metadata": {},
   "cell_type": "markdown",
   "source": [
    "Here it is clear that the duplicates are not real ones because they were produced in different years.\n",
    "Also, the genre is different for each movie which means the data basis is not clean.\n",
    "Without further investigation, it is not possible to say if the duplicates are real or not.\n",
    "More important to check the plot for duplicates and decide how to handle them."
   ],
   "id": "41893bc09d106881"
  },
  {
   "metadata": {},
   "cell_type": "markdown",
   "source": "#### Unknown values",
   "id": "c3b1d922e574e14"
  },
  {
   "metadata": {
    "ExecuteTime": {
     "end_time": "2024-06-11T15:47:56.048841Z",
     "start_time": "2024-06-11T15:47:56.030667Z"
    }
   },
   "cell_type": "code",
   "source": [
    "# display the rows with 'unknown' in the titles\n",
    "title_unknown = df[df['title'].str.lower().str.contains('unknown')].head(20)\n",
    "title_unknown"
   ],
   "id": "eea0177a1bd801aa",
   "outputs": [
    {
     "data": {
      "text/plain": [
       "       release_year                         title origin_ethnicity  \\\n",
       "662            1927                   The Unknown         American   \n",
       "3718           1944               Address Unknown         American   \n",
       "4368           1946                   The Unknown         American   \n",
       "4705           1948  Letter from an Unknown Woman         American   \n",
       "4803           1948                Unknown Island         American   \n",
       "5517           1951                Target Unknown         American   \n",
       "5539           1951               The Unknown Man         American   \n",
       "5540           1951                 Unknown World         American   \n",
       "6676           1956            Toward the Unknown         American   \n",
       "6696           1956                 X the Unknown         American   \n",
       "6827           1957              The Land Unknown         American   \n",
       "6935           1957            The Unknown Terror         American   \n",
       "8915           1973    Encounter with the Unknown         American   \n",
       "16136          2011                       Unknown         American   \n",
       "19514          1960              Identity Unknown          British   \n",
       "21110          2011                       Unknown          British   \n",
       "21586          2016              Complete Unknown          British   \n",
       "22504          2002             Unknown Pleasures          Chinese   \n",
       "\n",
       "                           director  \\\n",
       "662                    Tod Browning   \n",
       "3718        William Cameron Menzies   \n",
       "4368                    Henry Levin   \n",
       "4705                     Max Ophüls   \n",
       "4803                  Jack Bernhard   \n",
       "5517                 George Sherman   \n",
       "5539                 Richard Thorpe   \n",
       "5540                 Terry O. Morse   \n",
       "6676                   Mervyn LeRoy   \n",
       "6696                  Leslie Norman   \n",
       "6827                Virgil W. Vogel   \n",
       "6935                 Charles Warren   \n",
       "8915                 Harry Thomason   \n",
       "16136            Jaume Collet-Serra   \n",
       "19514                Frank Marshall   \n",
       "21110  Director: Jaume Collet-Serra   \n",
       "21586      Director: Joshua Marston   \n",
       "22504                   Jia Zhangke   \n",
       "\n",
       "                                                    cast            genre  \\\n",
       "662                            Lon Chaney, Joan Crawford           horror   \n",
       "3718   Mady Christians, Morris Carnovsky, Paul Lukas,...            drama   \n",
       "4368                          Karen Morley, Jeff Donnell            drama   \n",
       "4705                        Joan Fontaine, Louis Jourdan            drama   \n",
       "4803                      Virginia Grey, Richard Denning           sci-fi   \n",
       "5517                 Mark Stevens, Alex Nicol, Gig Young              war   \n",
       "5539                         Walter Pidgeon, Ann Harding            drama   \n",
       "5540                         Marilyn Nash, Victor Kilian           sci-fi   \n",
       "6676                      William Holden, Virginia Leith            drama   \n",
       "6696                         Dean Jagger, Edward Chapman           sci-fi   \n",
       "6827                     Jock Mahoney, Shirley Patterson  science fiction   \n",
       "6935                          Mala Powers, Paul Richards           horror   \n",
       "8915                        Rod Serling, Robert Ginnaven           horror   \n",
       "16136  Liam Neeson, Diane Kruger, January Jones, Fran...  action thriller   \n",
       "19514                       Richard Wyler, Pauline Yates            drama   \n",
       "21110  Director: Jaume Collet-Serra\\r\\nCast: Liam Nee...          unknown   \n",
       "21586  Director: Joshua Marston\\r\\nRachel Weisz, Mich...          unknown   \n",
       "22504              Zhao Weiwei,\\r\\nWu Qiong,\\r\\nZhao Tao            drama   \n",
       "\n",
       "                                               wiki_page  \\\n",
       "662    https://en.wikipedia.org/wiki/The_Unknown_(192...   \n",
       "3718   https://en.wikipedia.org/wiki/Address_Unknown_...   \n",
       "4368   https://en.wikipedia.org/wiki/The_Unknown_(194...   \n",
       "4705   https://en.wikipedia.org/wiki/Letter_from_an_U...   \n",
       "4803        https://en.wikipedia.org/wiki/Unknown_Island   \n",
       "5517        https://en.wikipedia.org/wiki/Target_Unknown   \n",
       "5539       https://en.wikipedia.org/wiki/The_Unknown_Man   \n",
       "5540         https://en.wikipedia.org/wiki/Unknown_World   \n",
       "6676    https://en.wikipedia.org/wiki/Toward_the_Unknown   \n",
       "6696         https://en.wikipedia.org/wiki/X_the_Unknown   \n",
       "6827      https://en.wikipedia.org/wiki/The_Land_Unknown   \n",
       "6935    https://en.wikipedia.org/wiki/The_Unknown_Terror   \n",
       "8915   https://en.wikipedia.org/wiki/Encounter_with_t...   \n",
       "16136  https://en.wikipedia.org/wiki/Unknown_(2011_film)   \n",
       "19514  https://en.wikipedia.org/wiki/Identity_Unknown...   \n",
       "21110  https://en.wikipedia.org/wiki/Unknown_(2011_film)   \n",
       "21586     https://en.wikipedia.org/wiki/Complete_Unknown   \n",
       "22504  https://en.wikipedia.org/wiki/Unknown_Pleasure...   \n",
       "\n",
       "                                                    plot  \n",
       "662    Alonzo the Armless is a circus freak who uses ...  \n",
       "3718   Martin Schulz and Max Eisenstein (Morris Carno...  \n",
       "4368   Relatives arrive for the reading of a will at ...  \n",
       "4705   In Vienna in the early twentieth century, Lisa...  \n",
       "4803   Adventure-seeker Ted Osborne (Phillip Reed) an...  \n",
       "5517   In 1944, at a United States Army Air Forces {U...  \n",
       "5539   Defense attorney Dwight Bradley Masen (Walter ...  \n",
       "5540   Dr. Jeremiah Morley (Victor Kilian) is concern...  \n",
       "6676   USAF Major Lincoln Bond (William Holden) was c...  \n",
       "6696   The film takes place in the Lochmouth region o...  \n",
       "6827   A small crew led by Commander Harold Roberts a...  \n",
       "6935   The mysterious disappearance of Jim Wheatley (...  \n",
       "8915   The film presents three allegedly true stories...  \n",
       "16136  Dr. Martin Harris and his wife Liz arrive in B...  \n",
       "19514  Two reporters develop a relationship while inv...  \n",
       "21110  Dr. Martin Harris and his wife Liz arrive in B...  \n",
       "21586  Alice (Weisz) an ever-changing woman in her th...  \n",
       "22504  Unknown Pleasures follows three disaffected, a...  "
      ],
      "text/html": [
       "<div>\n",
       "<style scoped>\n",
       "    .dataframe tbody tr th:only-of-type {\n",
       "        vertical-align: middle;\n",
       "    }\n",
       "\n",
       "    .dataframe tbody tr th {\n",
       "        vertical-align: top;\n",
       "    }\n",
       "\n",
       "    .dataframe thead th {\n",
       "        text-align: right;\n",
       "    }\n",
       "</style>\n",
       "<table border=\"1\" class=\"dataframe\">\n",
       "  <thead>\n",
       "    <tr style=\"text-align: right;\">\n",
       "      <th></th>\n",
       "      <th>release_year</th>\n",
       "      <th>title</th>\n",
       "      <th>origin_ethnicity</th>\n",
       "      <th>director</th>\n",
       "      <th>cast</th>\n",
       "      <th>genre</th>\n",
       "      <th>wiki_page</th>\n",
       "      <th>plot</th>\n",
       "    </tr>\n",
       "  </thead>\n",
       "  <tbody>\n",
       "    <tr>\n",
       "      <th>662</th>\n",
       "      <td>1927</td>\n",
       "      <td>The Unknown</td>\n",
       "      <td>American</td>\n",
       "      <td>Tod Browning</td>\n",
       "      <td>Lon Chaney, Joan Crawford</td>\n",
       "      <td>horror</td>\n",
       "      <td>https://en.wikipedia.org/wiki/The_Unknown_(192...</td>\n",
       "      <td>Alonzo the Armless is a circus freak who uses ...</td>\n",
       "    </tr>\n",
       "    <tr>\n",
       "      <th>3718</th>\n",
       "      <td>1944</td>\n",
       "      <td>Address Unknown</td>\n",
       "      <td>American</td>\n",
       "      <td>William Cameron Menzies</td>\n",
       "      <td>Mady Christians, Morris Carnovsky, Paul Lukas,...</td>\n",
       "      <td>drama</td>\n",
       "      <td>https://en.wikipedia.org/wiki/Address_Unknown_...</td>\n",
       "      <td>Martin Schulz and Max Eisenstein (Morris Carno...</td>\n",
       "    </tr>\n",
       "    <tr>\n",
       "      <th>4368</th>\n",
       "      <td>1946</td>\n",
       "      <td>The Unknown</td>\n",
       "      <td>American</td>\n",
       "      <td>Henry Levin</td>\n",
       "      <td>Karen Morley, Jeff Donnell</td>\n",
       "      <td>drama</td>\n",
       "      <td>https://en.wikipedia.org/wiki/The_Unknown_(194...</td>\n",
       "      <td>Relatives arrive for the reading of a will at ...</td>\n",
       "    </tr>\n",
       "    <tr>\n",
       "      <th>4705</th>\n",
       "      <td>1948</td>\n",
       "      <td>Letter from an Unknown Woman</td>\n",
       "      <td>American</td>\n",
       "      <td>Max Ophüls</td>\n",
       "      <td>Joan Fontaine, Louis Jourdan</td>\n",
       "      <td>drama</td>\n",
       "      <td>https://en.wikipedia.org/wiki/Letter_from_an_U...</td>\n",
       "      <td>In Vienna in the early twentieth century, Lisa...</td>\n",
       "    </tr>\n",
       "    <tr>\n",
       "      <th>4803</th>\n",
       "      <td>1948</td>\n",
       "      <td>Unknown Island</td>\n",
       "      <td>American</td>\n",
       "      <td>Jack Bernhard</td>\n",
       "      <td>Virginia Grey, Richard Denning</td>\n",
       "      <td>sci-fi</td>\n",
       "      <td>https://en.wikipedia.org/wiki/Unknown_Island</td>\n",
       "      <td>Adventure-seeker Ted Osborne (Phillip Reed) an...</td>\n",
       "    </tr>\n",
       "    <tr>\n",
       "      <th>5517</th>\n",
       "      <td>1951</td>\n",
       "      <td>Target Unknown</td>\n",
       "      <td>American</td>\n",
       "      <td>George Sherman</td>\n",
       "      <td>Mark Stevens, Alex Nicol, Gig Young</td>\n",
       "      <td>war</td>\n",
       "      <td>https://en.wikipedia.org/wiki/Target_Unknown</td>\n",
       "      <td>In 1944, at a United States Army Air Forces {U...</td>\n",
       "    </tr>\n",
       "    <tr>\n",
       "      <th>5539</th>\n",
       "      <td>1951</td>\n",
       "      <td>The Unknown Man</td>\n",
       "      <td>American</td>\n",
       "      <td>Richard Thorpe</td>\n",
       "      <td>Walter Pidgeon, Ann Harding</td>\n",
       "      <td>drama</td>\n",
       "      <td>https://en.wikipedia.org/wiki/The_Unknown_Man</td>\n",
       "      <td>Defense attorney Dwight Bradley Masen (Walter ...</td>\n",
       "    </tr>\n",
       "    <tr>\n",
       "      <th>5540</th>\n",
       "      <td>1951</td>\n",
       "      <td>Unknown World</td>\n",
       "      <td>American</td>\n",
       "      <td>Terry O. Morse</td>\n",
       "      <td>Marilyn Nash, Victor Kilian</td>\n",
       "      <td>sci-fi</td>\n",
       "      <td>https://en.wikipedia.org/wiki/Unknown_World</td>\n",
       "      <td>Dr. Jeremiah Morley (Victor Kilian) is concern...</td>\n",
       "    </tr>\n",
       "    <tr>\n",
       "      <th>6676</th>\n",
       "      <td>1956</td>\n",
       "      <td>Toward the Unknown</td>\n",
       "      <td>American</td>\n",
       "      <td>Mervyn LeRoy</td>\n",
       "      <td>William Holden, Virginia Leith</td>\n",
       "      <td>drama</td>\n",
       "      <td>https://en.wikipedia.org/wiki/Toward_the_Unknown</td>\n",
       "      <td>USAF Major Lincoln Bond (William Holden) was c...</td>\n",
       "    </tr>\n",
       "    <tr>\n",
       "      <th>6696</th>\n",
       "      <td>1956</td>\n",
       "      <td>X the Unknown</td>\n",
       "      <td>American</td>\n",
       "      <td>Leslie Norman</td>\n",
       "      <td>Dean Jagger, Edward Chapman</td>\n",
       "      <td>sci-fi</td>\n",
       "      <td>https://en.wikipedia.org/wiki/X_the_Unknown</td>\n",
       "      <td>The film takes place in the Lochmouth region o...</td>\n",
       "    </tr>\n",
       "    <tr>\n",
       "      <th>6827</th>\n",
       "      <td>1957</td>\n",
       "      <td>The Land Unknown</td>\n",
       "      <td>American</td>\n",
       "      <td>Virgil W. Vogel</td>\n",
       "      <td>Jock Mahoney, Shirley Patterson</td>\n",
       "      <td>science fiction</td>\n",
       "      <td>https://en.wikipedia.org/wiki/The_Land_Unknown</td>\n",
       "      <td>A small crew led by Commander Harold Roberts a...</td>\n",
       "    </tr>\n",
       "    <tr>\n",
       "      <th>6935</th>\n",
       "      <td>1957</td>\n",
       "      <td>The Unknown Terror</td>\n",
       "      <td>American</td>\n",
       "      <td>Charles Warren</td>\n",
       "      <td>Mala Powers, Paul Richards</td>\n",
       "      <td>horror</td>\n",
       "      <td>https://en.wikipedia.org/wiki/The_Unknown_Terror</td>\n",
       "      <td>The mysterious disappearance of Jim Wheatley (...</td>\n",
       "    </tr>\n",
       "    <tr>\n",
       "      <th>8915</th>\n",
       "      <td>1973</td>\n",
       "      <td>Encounter with the Unknown</td>\n",
       "      <td>American</td>\n",
       "      <td>Harry Thomason</td>\n",
       "      <td>Rod Serling, Robert Ginnaven</td>\n",
       "      <td>horror</td>\n",
       "      <td>https://en.wikipedia.org/wiki/Encounter_with_t...</td>\n",
       "      <td>The film presents three allegedly true stories...</td>\n",
       "    </tr>\n",
       "    <tr>\n",
       "      <th>16136</th>\n",
       "      <td>2011</td>\n",
       "      <td>Unknown</td>\n",
       "      <td>American</td>\n",
       "      <td>Jaume Collet-Serra</td>\n",
       "      <td>Liam Neeson, Diane Kruger, January Jones, Fran...</td>\n",
       "      <td>action thriller</td>\n",
       "      <td>https://en.wikipedia.org/wiki/Unknown_(2011_film)</td>\n",
       "      <td>Dr. Martin Harris and his wife Liz arrive in B...</td>\n",
       "    </tr>\n",
       "    <tr>\n",
       "      <th>19514</th>\n",
       "      <td>1960</td>\n",
       "      <td>Identity Unknown</td>\n",
       "      <td>British</td>\n",
       "      <td>Frank Marshall</td>\n",
       "      <td>Richard Wyler, Pauline Yates</td>\n",
       "      <td>drama</td>\n",
       "      <td>https://en.wikipedia.org/wiki/Identity_Unknown...</td>\n",
       "      <td>Two reporters develop a relationship while inv...</td>\n",
       "    </tr>\n",
       "    <tr>\n",
       "      <th>21110</th>\n",
       "      <td>2011</td>\n",
       "      <td>Unknown</td>\n",
       "      <td>British</td>\n",
       "      <td>Director: Jaume Collet-Serra</td>\n",
       "      <td>Director: Jaume Collet-Serra\\r\\nCast: Liam Nee...</td>\n",
       "      <td>unknown</td>\n",
       "      <td>https://en.wikipedia.org/wiki/Unknown_(2011_film)</td>\n",
       "      <td>Dr. Martin Harris and his wife Liz arrive in B...</td>\n",
       "    </tr>\n",
       "    <tr>\n",
       "      <th>21586</th>\n",
       "      <td>2016</td>\n",
       "      <td>Complete Unknown</td>\n",
       "      <td>British</td>\n",
       "      <td>Director: Joshua Marston</td>\n",
       "      <td>Director: Joshua Marston\\r\\nRachel Weisz, Mich...</td>\n",
       "      <td>unknown</td>\n",
       "      <td>https://en.wikipedia.org/wiki/Complete_Unknown</td>\n",
       "      <td>Alice (Weisz) an ever-changing woman in her th...</td>\n",
       "    </tr>\n",
       "    <tr>\n",
       "      <th>22504</th>\n",
       "      <td>2002</td>\n",
       "      <td>Unknown Pleasures</td>\n",
       "      <td>Chinese</td>\n",
       "      <td>Jia Zhangke</td>\n",
       "      <td>Zhao Weiwei,\\r\\nWu Qiong,\\r\\nZhao Tao</td>\n",
       "      <td>drama</td>\n",
       "      <td>https://en.wikipedia.org/wiki/Unknown_Pleasure...</td>\n",
       "      <td>Unknown Pleasures follows three disaffected, a...</td>\n",
       "    </tr>\n",
       "  </tbody>\n",
       "</table>\n",
       "</div>"
      ]
     },
     "execution_count": 234,
     "metadata": {},
     "output_type": "execute_result"
    }
   ],
   "execution_count": 234
  },
  {
   "metadata": {
    "ExecuteTime": {
     "end_time": "2024-06-11T15:47:56.259511Z",
     "start_time": "2024-06-11T15:47:56.245768Z"
    }
   },
   "cell_type": "code",
   "source": [
    "# check for 'unknown' values in the title column \n",
    "# make sure that any case of 'unknown' is counted\n",
    "unknown_title = df['title'].str.lower().str.contains('unknown').sum()\n",
    "print(\"There are {} movies with the title 'unknown' in the dataset\".format(unknown_title))"
   ],
   "id": "4e5f583790101f65",
   "outputs": [
    {
     "name": "stdout",
     "output_type": "stream",
     "text": [
      "There are 18 movies with the title 'unknown' in the dataset\n"
     ]
    }
   ],
   "execution_count": 235
  },
  {
   "metadata": {},
   "cell_type": "markdown",
   "source": "Let's display them and see if this is a data quality issue.",
   "id": "448abd2499b1181b"
  },
  {
   "metadata": {
    "ExecuteTime": {
     "end_time": "2024-06-11T15:47:56.613173Z",
     "start_time": "2024-06-11T15:47:56.595167Z"
    }
   },
   "cell_type": "code",
   "source": [
    "# display the rows with 'unknown' in the titles\n",
    "title_unknown = df[df['title'].str.lower().str.contains('unknown')].head(20)\n",
    "title_unknown"
   ],
   "id": "b3aee70666bdedf8",
   "outputs": [
    {
     "data": {
      "text/plain": [
       "       release_year                         title origin_ethnicity  \\\n",
       "662            1927                   The Unknown         American   \n",
       "3718           1944               Address Unknown         American   \n",
       "4368           1946                   The Unknown         American   \n",
       "4705           1948  Letter from an Unknown Woman         American   \n",
       "4803           1948                Unknown Island         American   \n",
       "5517           1951                Target Unknown         American   \n",
       "5539           1951               The Unknown Man         American   \n",
       "5540           1951                 Unknown World         American   \n",
       "6676           1956            Toward the Unknown         American   \n",
       "6696           1956                 X the Unknown         American   \n",
       "6827           1957              The Land Unknown         American   \n",
       "6935           1957            The Unknown Terror         American   \n",
       "8915           1973    Encounter with the Unknown         American   \n",
       "16136          2011                       Unknown         American   \n",
       "19514          1960              Identity Unknown          British   \n",
       "21110          2011                       Unknown          British   \n",
       "21586          2016              Complete Unknown          British   \n",
       "22504          2002             Unknown Pleasures          Chinese   \n",
       "\n",
       "                           director  \\\n",
       "662                    Tod Browning   \n",
       "3718        William Cameron Menzies   \n",
       "4368                    Henry Levin   \n",
       "4705                     Max Ophüls   \n",
       "4803                  Jack Bernhard   \n",
       "5517                 George Sherman   \n",
       "5539                 Richard Thorpe   \n",
       "5540                 Terry O. Morse   \n",
       "6676                   Mervyn LeRoy   \n",
       "6696                  Leslie Norman   \n",
       "6827                Virgil W. Vogel   \n",
       "6935                 Charles Warren   \n",
       "8915                 Harry Thomason   \n",
       "16136            Jaume Collet-Serra   \n",
       "19514                Frank Marshall   \n",
       "21110  Director: Jaume Collet-Serra   \n",
       "21586      Director: Joshua Marston   \n",
       "22504                   Jia Zhangke   \n",
       "\n",
       "                                                    cast            genre  \\\n",
       "662                            Lon Chaney, Joan Crawford           horror   \n",
       "3718   Mady Christians, Morris Carnovsky, Paul Lukas,...            drama   \n",
       "4368                          Karen Morley, Jeff Donnell            drama   \n",
       "4705                        Joan Fontaine, Louis Jourdan            drama   \n",
       "4803                      Virginia Grey, Richard Denning           sci-fi   \n",
       "5517                 Mark Stevens, Alex Nicol, Gig Young              war   \n",
       "5539                         Walter Pidgeon, Ann Harding            drama   \n",
       "5540                         Marilyn Nash, Victor Kilian           sci-fi   \n",
       "6676                      William Holden, Virginia Leith            drama   \n",
       "6696                         Dean Jagger, Edward Chapman           sci-fi   \n",
       "6827                     Jock Mahoney, Shirley Patterson  science fiction   \n",
       "6935                          Mala Powers, Paul Richards           horror   \n",
       "8915                        Rod Serling, Robert Ginnaven           horror   \n",
       "16136  Liam Neeson, Diane Kruger, January Jones, Fran...  action thriller   \n",
       "19514                       Richard Wyler, Pauline Yates            drama   \n",
       "21110  Director: Jaume Collet-Serra\\r\\nCast: Liam Nee...          unknown   \n",
       "21586  Director: Joshua Marston\\r\\nRachel Weisz, Mich...          unknown   \n",
       "22504              Zhao Weiwei,\\r\\nWu Qiong,\\r\\nZhao Tao            drama   \n",
       "\n",
       "                                               wiki_page  \\\n",
       "662    https://en.wikipedia.org/wiki/The_Unknown_(192...   \n",
       "3718   https://en.wikipedia.org/wiki/Address_Unknown_...   \n",
       "4368   https://en.wikipedia.org/wiki/The_Unknown_(194...   \n",
       "4705   https://en.wikipedia.org/wiki/Letter_from_an_U...   \n",
       "4803        https://en.wikipedia.org/wiki/Unknown_Island   \n",
       "5517        https://en.wikipedia.org/wiki/Target_Unknown   \n",
       "5539       https://en.wikipedia.org/wiki/The_Unknown_Man   \n",
       "5540         https://en.wikipedia.org/wiki/Unknown_World   \n",
       "6676    https://en.wikipedia.org/wiki/Toward_the_Unknown   \n",
       "6696         https://en.wikipedia.org/wiki/X_the_Unknown   \n",
       "6827      https://en.wikipedia.org/wiki/The_Land_Unknown   \n",
       "6935    https://en.wikipedia.org/wiki/The_Unknown_Terror   \n",
       "8915   https://en.wikipedia.org/wiki/Encounter_with_t...   \n",
       "16136  https://en.wikipedia.org/wiki/Unknown_(2011_film)   \n",
       "19514  https://en.wikipedia.org/wiki/Identity_Unknown...   \n",
       "21110  https://en.wikipedia.org/wiki/Unknown_(2011_film)   \n",
       "21586     https://en.wikipedia.org/wiki/Complete_Unknown   \n",
       "22504  https://en.wikipedia.org/wiki/Unknown_Pleasure...   \n",
       "\n",
       "                                                    plot  \n",
       "662    Alonzo the Armless is a circus freak who uses ...  \n",
       "3718   Martin Schulz and Max Eisenstein (Morris Carno...  \n",
       "4368   Relatives arrive for the reading of a will at ...  \n",
       "4705   In Vienna in the early twentieth century, Lisa...  \n",
       "4803   Adventure-seeker Ted Osborne (Phillip Reed) an...  \n",
       "5517   In 1944, at a United States Army Air Forces {U...  \n",
       "5539   Defense attorney Dwight Bradley Masen (Walter ...  \n",
       "5540   Dr. Jeremiah Morley (Victor Kilian) is concern...  \n",
       "6676   USAF Major Lincoln Bond (William Holden) was c...  \n",
       "6696   The film takes place in the Lochmouth region o...  \n",
       "6827   A small crew led by Commander Harold Roberts a...  \n",
       "6935   The mysterious disappearance of Jim Wheatley (...  \n",
       "8915   The film presents three allegedly true stories...  \n",
       "16136  Dr. Martin Harris and his wife Liz arrive in B...  \n",
       "19514  Two reporters develop a relationship while inv...  \n",
       "21110  Dr. Martin Harris and his wife Liz arrive in B...  \n",
       "21586  Alice (Weisz) an ever-changing woman in her th...  \n",
       "22504  Unknown Pleasures follows three disaffected, a...  "
      ],
      "text/html": [
       "<div>\n",
       "<style scoped>\n",
       "    .dataframe tbody tr th:only-of-type {\n",
       "        vertical-align: middle;\n",
       "    }\n",
       "\n",
       "    .dataframe tbody tr th {\n",
       "        vertical-align: top;\n",
       "    }\n",
       "\n",
       "    .dataframe thead th {\n",
       "        text-align: right;\n",
       "    }\n",
       "</style>\n",
       "<table border=\"1\" class=\"dataframe\">\n",
       "  <thead>\n",
       "    <tr style=\"text-align: right;\">\n",
       "      <th></th>\n",
       "      <th>release_year</th>\n",
       "      <th>title</th>\n",
       "      <th>origin_ethnicity</th>\n",
       "      <th>director</th>\n",
       "      <th>cast</th>\n",
       "      <th>genre</th>\n",
       "      <th>wiki_page</th>\n",
       "      <th>plot</th>\n",
       "    </tr>\n",
       "  </thead>\n",
       "  <tbody>\n",
       "    <tr>\n",
       "      <th>662</th>\n",
       "      <td>1927</td>\n",
       "      <td>The Unknown</td>\n",
       "      <td>American</td>\n",
       "      <td>Tod Browning</td>\n",
       "      <td>Lon Chaney, Joan Crawford</td>\n",
       "      <td>horror</td>\n",
       "      <td>https://en.wikipedia.org/wiki/The_Unknown_(192...</td>\n",
       "      <td>Alonzo the Armless is a circus freak who uses ...</td>\n",
       "    </tr>\n",
       "    <tr>\n",
       "      <th>3718</th>\n",
       "      <td>1944</td>\n",
       "      <td>Address Unknown</td>\n",
       "      <td>American</td>\n",
       "      <td>William Cameron Menzies</td>\n",
       "      <td>Mady Christians, Morris Carnovsky, Paul Lukas,...</td>\n",
       "      <td>drama</td>\n",
       "      <td>https://en.wikipedia.org/wiki/Address_Unknown_...</td>\n",
       "      <td>Martin Schulz and Max Eisenstein (Morris Carno...</td>\n",
       "    </tr>\n",
       "    <tr>\n",
       "      <th>4368</th>\n",
       "      <td>1946</td>\n",
       "      <td>The Unknown</td>\n",
       "      <td>American</td>\n",
       "      <td>Henry Levin</td>\n",
       "      <td>Karen Morley, Jeff Donnell</td>\n",
       "      <td>drama</td>\n",
       "      <td>https://en.wikipedia.org/wiki/The_Unknown_(194...</td>\n",
       "      <td>Relatives arrive for the reading of a will at ...</td>\n",
       "    </tr>\n",
       "    <tr>\n",
       "      <th>4705</th>\n",
       "      <td>1948</td>\n",
       "      <td>Letter from an Unknown Woman</td>\n",
       "      <td>American</td>\n",
       "      <td>Max Ophüls</td>\n",
       "      <td>Joan Fontaine, Louis Jourdan</td>\n",
       "      <td>drama</td>\n",
       "      <td>https://en.wikipedia.org/wiki/Letter_from_an_U...</td>\n",
       "      <td>In Vienna in the early twentieth century, Lisa...</td>\n",
       "    </tr>\n",
       "    <tr>\n",
       "      <th>4803</th>\n",
       "      <td>1948</td>\n",
       "      <td>Unknown Island</td>\n",
       "      <td>American</td>\n",
       "      <td>Jack Bernhard</td>\n",
       "      <td>Virginia Grey, Richard Denning</td>\n",
       "      <td>sci-fi</td>\n",
       "      <td>https://en.wikipedia.org/wiki/Unknown_Island</td>\n",
       "      <td>Adventure-seeker Ted Osborne (Phillip Reed) an...</td>\n",
       "    </tr>\n",
       "    <tr>\n",
       "      <th>5517</th>\n",
       "      <td>1951</td>\n",
       "      <td>Target Unknown</td>\n",
       "      <td>American</td>\n",
       "      <td>George Sherman</td>\n",
       "      <td>Mark Stevens, Alex Nicol, Gig Young</td>\n",
       "      <td>war</td>\n",
       "      <td>https://en.wikipedia.org/wiki/Target_Unknown</td>\n",
       "      <td>In 1944, at a United States Army Air Forces {U...</td>\n",
       "    </tr>\n",
       "    <tr>\n",
       "      <th>5539</th>\n",
       "      <td>1951</td>\n",
       "      <td>The Unknown Man</td>\n",
       "      <td>American</td>\n",
       "      <td>Richard Thorpe</td>\n",
       "      <td>Walter Pidgeon, Ann Harding</td>\n",
       "      <td>drama</td>\n",
       "      <td>https://en.wikipedia.org/wiki/The_Unknown_Man</td>\n",
       "      <td>Defense attorney Dwight Bradley Masen (Walter ...</td>\n",
       "    </tr>\n",
       "    <tr>\n",
       "      <th>5540</th>\n",
       "      <td>1951</td>\n",
       "      <td>Unknown World</td>\n",
       "      <td>American</td>\n",
       "      <td>Terry O. Morse</td>\n",
       "      <td>Marilyn Nash, Victor Kilian</td>\n",
       "      <td>sci-fi</td>\n",
       "      <td>https://en.wikipedia.org/wiki/Unknown_World</td>\n",
       "      <td>Dr. Jeremiah Morley (Victor Kilian) is concern...</td>\n",
       "    </tr>\n",
       "    <tr>\n",
       "      <th>6676</th>\n",
       "      <td>1956</td>\n",
       "      <td>Toward the Unknown</td>\n",
       "      <td>American</td>\n",
       "      <td>Mervyn LeRoy</td>\n",
       "      <td>William Holden, Virginia Leith</td>\n",
       "      <td>drama</td>\n",
       "      <td>https://en.wikipedia.org/wiki/Toward_the_Unknown</td>\n",
       "      <td>USAF Major Lincoln Bond (William Holden) was c...</td>\n",
       "    </tr>\n",
       "    <tr>\n",
       "      <th>6696</th>\n",
       "      <td>1956</td>\n",
       "      <td>X the Unknown</td>\n",
       "      <td>American</td>\n",
       "      <td>Leslie Norman</td>\n",
       "      <td>Dean Jagger, Edward Chapman</td>\n",
       "      <td>sci-fi</td>\n",
       "      <td>https://en.wikipedia.org/wiki/X_the_Unknown</td>\n",
       "      <td>The film takes place in the Lochmouth region o...</td>\n",
       "    </tr>\n",
       "    <tr>\n",
       "      <th>6827</th>\n",
       "      <td>1957</td>\n",
       "      <td>The Land Unknown</td>\n",
       "      <td>American</td>\n",
       "      <td>Virgil W. Vogel</td>\n",
       "      <td>Jock Mahoney, Shirley Patterson</td>\n",
       "      <td>science fiction</td>\n",
       "      <td>https://en.wikipedia.org/wiki/The_Land_Unknown</td>\n",
       "      <td>A small crew led by Commander Harold Roberts a...</td>\n",
       "    </tr>\n",
       "    <tr>\n",
       "      <th>6935</th>\n",
       "      <td>1957</td>\n",
       "      <td>The Unknown Terror</td>\n",
       "      <td>American</td>\n",
       "      <td>Charles Warren</td>\n",
       "      <td>Mala Powers, Paul Richards</td>\n",
       "      <td>horror</td>\n",
       "      <td>https://en.wikipedia.org/wiki/The_Unknown_Terror</td>\n",
       "      <td>The mysterious disappearance of Jim Wheatley (...</td>\n",
       "    </tr>\n",
       "    <tr>\n",
       "      <th>8915</th>\n",
       "      <td>1973</td>\n",
       "      <td>Encounter with the Unknown</td>\n",
       "      <td>American</td>\n",
       "      <td>Harry Thomason</td>\n",
       "      <td>Rod Serling, Robert Ginnaven</td>\n",
       "      <td>horror</td>\n",
       "      <td>https://en.wikipedia.org/wiki/Encounter_with_t...</td>\n",
       "      <td>The film presents three allegedly true stories...</td>\n",
       "    </tr>\n",
       "    <tr>\n",
       "      <th>16136</th>\n",
       "      <td>2011</td>\n",
       "      <td>Unknown</td>\n",
       "      <td>American</td>\n",
       "      <td>Jaume Collet-Serra</td>\n",
       "      <td>Liam Neeson, Diane Kruger, January Jones, Fran...</td>\n",
       "      <td>action thriller</td>\n",
       "      <td>https://en.wikipedia.org/wiki/Unknown_(2011_film)</td>\n",
       "      <td>Dr. Martin Harris and his wife Liz arrive in B...</td>\n",
       "    </tr>\n",
       "    <tr>\n",
       "      <th>19514</th>\n",
       "      <td>1960</td>\n",
       "      <td>Identity Unknown</td>\n",
       "      <td>British</td>\n",
       "      <td>Frank Marshall</td>\n",
       "      <td>Richard Wyler, Pauline Yates</td>\n",
       "      <td>drama</td>\n",
       "      <td>https://en.wikipedia.org/wiki/Identity_Unknown...</td>\n",
       "      <td>Two reporters develop a relationship while inv...</td>\n",
       "    </tr>\n",
       "    <tr>\n",
       "      <th>21110</th>\n",
       "      <td>2011</td>\n",
       "      <td>Unknown</td>\n",
       "      <td>British</td>\n",
       "      <td>Director: Jaume Collet-Serra</td>\n",
       "      <td>Director: Jaume Collet-Serra\\r\\nCast: Liam Nee...</td>\n",
       "      <td>unknown</td>\n",
       "      <td>https://en.wikipedia.org/wiki/Unknown_(2011_film)</td>\n",
       "      <td>Dr. Martin Harris and his wife Liz arrive in B...</td>\n",
       "    </tr>\n",
       "    <tr>\n",
       "      <th>21586</th>\n",
       "      <td>2016</td>\n",
       "      <td>Complete Unknown</td>\n",
       "      <td>British</td>\n",
       "      <td>Director: Joshua Marston</td>\n",
       "      <td>Director: Joshua Marston\\r\\nRachel Weisz, Mich...</td>\n",
       "      <td>unknown</td>\n",
       "      <td>https://en.wikipedia.org/wiki/Complete_Unknown</td>\n",
       "      <td>Alice (Weisz) an ever-changing woman in her th...</td>\n",
       "    </tr>\n",
       "    <tr>\n",
       "      <th>22504</th>\n",
       "      <td>2002</td>\n",
       "      <td>Unknown Pleasures</td>\n",
       "      <td>Chinese</td>\n",
       "      <td>Jia Zhangke</td>\n",
       "      <td>Zhao Weiwei,\\r\\nWu Qiong,\\r\\nZhao Tao</td>\n",
       "      <td>drama</td>\n",
       "      <td>https://en.wikipedia.org/wiki/Unknown_Pleasure...</td>\n",
       "      <td>Unknown Pleasures follows three disaffected, a...</td>\n",
       "    </tr>\n",
       "  </tbody>\n",
       "</table>\n",
       "</div>"
      ]
     },
     "execution_count": 236,
     "metadata": {},
     "output_type": "execute_result"
    }
   ],
   "execution_count": 236
  },
  {
   "metadata": {},
   "cell_type": "markdown",
   "source": "It seems that 'unknown' is a valid title for some movies and not a data quality issue.",
   "id": "eaee91c1ee5ed366"
  },
  {
   "metadata": {},
   "cell_type": "markdown",
   "source": [
    "#### Summary\n",
    "- The title column has no missing values.\n",
    "- There are duplicates in the title column. This is normal because there are movies with the same title.\n",
    "- There are no empty strings in the title column.\n",
    "- The title column contains 'unknown' values. This is not a data quality issue.\n",
    "- There are no Multiple Values in the title column nor empty strings"
   ],
   "id": "42847d4bbb052dd6"
  },
  {
   "metadata": {},
   "cell_type": "markdown",
   "source": "### 2.1.3 Check: origin_ethnicity",
   "id": "acfa1d29cf8aabcd"
  },
  {
   "metadata": {},
   "cell_type": "markdown",
   "source": "#### Show values",
   "id": "e27c42db6225153"
  },
  {
   "metadata": {
    "ExecuteTime": {
     "end_time": "2024-06-11T15:47:56.850943Z",
     "start_time": "2024-06-11T15:47:56.846034Z"
    }
   },
   "cell_type": "code",
   "source": [
    "# display values for origin_ethnicity column\n",
    "df['origin_ethnicity'].value_counts()"
   ],
   "id": "9654faf82fcc369c",
   "outputs": [
    {
     "data": {
      "text/plain": [
       "origin_ethnicity\n",
       "American        17377\n",
       "British          3670\n",
       "Bollywood        2931\n",
       "Tamil            2599\n",
       "Telugu           1311\n",
       "Japanese         1188\n",
       "Malayalam        1095\n",
       "Hong Kong         791\n",
       "Canadian          723\n",
       "Australian        576\n",
       "South_Korean      522\n",
       "Chinese           463\n",
       "Kannada           444\n",
       "Bengali           306\n",
       "Russian           232\n",
       "Marathi           141\n",
       "Filipino          128\n",
       "Bangladeshi        87\n",
       "Punjabi            84\n",
       "Malaysian          70\n",
       "Turkish            70\n",
       "Egyptian           67\n",
       "Assamese            9\n",
       "Maldivian           2\n",
       "Name: count, dtype: int64"
      ]
     },
     "execution_count": 237,
     "metadata": {},
     "output_type": "execute_result"
    }
   ],
   "execution_count": 237
  },
  {
   "metadata": {},
   "cell_type": "markdown",
   "source": "The origin_ethnicity column contains many different values. the most common value is 'American' with 17377 movies.",
   "id": "b62f03b065a1e21"
  },
  {
   "metadata": {},
   "cell_type": "markdown",
   "source": "#### Missing Values",
   "id": "d318e93b85dbf7c5"
  },
  {
   "metadata": {
    "ExecuteTime": {
     "end_time": "2024-06-11T15:47:57.247824Z",
     "start_time": "2024-06-11T15:47:57.244443Z"
    }
   },
   "cell_type": "code",
   "source": [
    "# check for missing values in the origin\n",
    "missing_origin = df['origin_ethnicity'].isna().sum()\n",
    "print(\"There are {} missing values in the origin_ethnicity column\".format(missing_origin))"
   ],
   "id": "84b1c0794c99dcd5",
   "outputs": [
    {
     "name": "stdout",
     "output_type": "stream",
     "text": [
      "There are 0 missing values in the origin_ethnicity column\n"
     ]
    }
   ],
   "execution_count": 238
  },
  {
   "metadata": {},
   "cell_type": "markdown",
   "source": "#### Empty Strings",
   "id": "f6e327937f051a57"
  },
  {
   "metadata": {
    "ExecuteTime": {
     "end_time": "2024-06-11T15:47:57.483454Z",
     "start_time": "2024-06-11T15:47:57.475124Z"
    }
   },
   "cell_type": "code",
   "source": [
    "# check for empty strings in the origin\n",
    "empty_strings_origin_ethnicity = df[df['origin_ethnicity'].str.strip() == ''].shape[0]\n",
    "print(\"There are {} movies with an empty origin\".format(empty_strings_origin_ethnicity))"
   ],
   "id": "cc5e50b3826c2315",
   "outputs": [
    {
     "name": "stdout",
     "output_type": "stream",
     "text": [
      "There are 0 movies with an empty origin\n"
     ]
    }
   ],
   "execution_count": 239
  },
  {
   "metadata": {},
   "cell_type": "markdown",
   "source": "#### Duplicates",
   "id": "5ec5718483349e4c"
  },
  {
   "metadata": {
    "ExecuteTime": {
     "end_time": "2024-06-11T15:47:57.830291Z",
     "start_time": "2024-06-11T15:47:57.827485Z"
    }
   },
   "cell_type": "code",
   "source": [
    "# check for duplicates for origin_ethnicity\n",
    "duplicates_origin_ethnicity = df['origin_ethnicity'].duplicated().sum()\n",
    "print(\"There are {} duplicates in the origin_ethnicity column\".format(duplicates_origin_ethnicity))"
   ],
   "id": "fced1c8287883ec0",
   "outputs": [
    {
     "name": "stdout",
     "output_type": "stream",
     "text": [
      "There are 34862 duplicates in the origin_ethnicity column\n"
     ]
    }
   ],
   "execution_count": 240
  },
  {
   "metadata": {},
   "cell_type": "markdown",
   "source": "There are a lot of duplicates in the origin_ethnicity column. One reason is that the origin_ethnicity is the same for different movies.",
   "id": "2aa3cf4b5b638029"
  },
  {
   "metadata": {},
   "cell_type": "markdown",
   "source": "#### Unknown values",
   "id": "363f6055a2f80ce5"
  },
  {
   "metadata": {
    "ExecuteTime": {
     "end_time": "2024-06-11T15:47:58.001705Z",
     "start_time": "2024-06-11T15:47:57.990065Z"
    }
   },
   "cell_type": "code",
   "source": [
    "# display rows with 'unknown' in the origin_ethnicity column\n",
    "unknown_origin_ethnicity = df['origin_ethnicity'].str.lower().str.contains('unknown').sum()\n",
    "print(\"There are {} movies with the origin_ethnicity set to 'unknown'\".format(unknown_origin_ethnicity))"
   ],
   "id": "a56529e8ca384cf0",
   "outputs": [
    {
     "name": "stdout",
     "output_type": "stream",
     "text": [
      "There are 0 movies with the origin_ethnicity set to 'unknown'\n"
     ]
    }
   ],
   "execution_count": 241
  },
  {
   "metadata": {},
   "cell_type": "markdown",
   "source": [
    "#### Summary:\n",
    "\n",
    "- There are no missing values.\n",
    "- The origin_ethnicity column has no missing values.\n",
    "- There are no empty strings in the origin\n",
    "- There are duplicates in the origin_ethnicity column. This is normal because there are movies with the same origin.\n",
    "- The origin_ethnicity data has no values with emtpy strings.\n",
    "- The origin_ethnicity has no 'unknown' values."
   ],
   "id": "5d17c0c38d214bc1"
  },
  {
   "metadata": {},
   "cell_type": "markdown",
   "source": "#### 2.1.4 Check: director",
   "id": "13767a36eff860a7"
  },
  {
   "metadata": {},
   "cell_type": "markdown",
   "source": "#### Show values",
   "id": "e0a881c2bfba33bc"
  },
  {
   "metadata": {
    "ExecuteTime": {
     "end_time": "2024-06-11T15:47:58.293008Z",
     "start_time": "2024-06-11T15:47:58.284285Z"
    }
   },
   "cell_type": "code",
   "source": [
    "# display values for the director column\n",
    "df['director'].value_counts()"
   ],
   "id": "b4d07037da267d7e",
   "outputs": [
    {
     "data": {
      "text/plain": [
       "director\n",
       "Unknown                1124\n",
       "Michael Curtiz           79\n",
       "Hanna-Barbera            77\n",
       "Lloyd Bacon              66\n",
       "Jules White              63\n",
       "                       ... \n",
       "Brian Clemens             1\n",
       "Lester James Peries       1\n",
       "Maurice Hamblin           1\n",
       "Trevor Wrenn              1\n",
       "Ferzan Özpetek            1\n",
       "Name: count, Length: 12593, dtype: int64"
      ]
     },
     "execution_count": 242,
     "metadata": {},
     "output_type": "execute_result"
    }
   ],
   "execution_count": 242
  },
  {
   "metadata": {},
   "cell_type": "markdown",
   "source": "There are many 'unknown' values in the director column. 'Michael Curtiz' is the director with the most movies.",
   "id": "8a6fb21e46a75559"
  },
  {
   "metadata": {},
   "cell_type": "markdown",
   "source": "#### Missing Values",
   "id": "2c46405170e016f7"
  },
  {
   "metadata": {
    "ExecuteTime": {
     "end_time": "2024-06-11T15:47:58.467999Z",
     "start_time": "2024-06-11T15:47:58.464230Z"
    }
   },
   "cell_type": "code",
   "source": [
    "# check for missing values in the director column\n",
    "missing_director = df['director'].isna().sum()\n",
    "print(\"There are {} missing values in the director column\".format(missing_director))"
   ],
   "id": "92db7e4354edf0",
   "outputs": [
    {
     "name": "stdout",
     "output_type": "stream",
     "text": [
      "There are 0 missing values in the director column\n"
     ]
    }
   ],
   "execution_count": 243
  },
  {
   "metadata": {},
   "cell_type": "markdown",
   "source": "#### Empty Strings",
   "id": "cbf680dd62085438"
  },
  {
   "metadata": {
    "ExecuteTime": {
     "end_time": "2024-06-11T15:47:58.700700Z",
     "start_time": "2024-06-11T15:47:58.690270Z"
    }
   },
   "cell_type": "code",
   "source": [
    "# check for empty strings in the director column\n",
    "empty_director = df[df['director'].str.strip() == ''].shape[0]\n",
    "print(\"There are {} movies with an empty director\".format(empty_director))"
   ],
   "id": "3684107f9e646bb4",
   "outputs": [
    {
     "name": "stdout",
     "output_type": "stream",
     "text": [
      "There are 8 movies with an empty director\n"
     ]
    }
   ],
   "execution_count": 244
  },
  {
   "metadata": {
    "ExecuteTime": {
     "end_time": "2024-06-11T15:47:58.889918Z",
     "start_time": "2024-06-11T15:47:58.879113Z"
    }
   },
   "cell_type": "code",
   "source": [
    "# display the rows with an empty director\n",
    "df[df['director'].str.strip() == '']"
   ],
   "id": "bba146fd63f8b224",
   "outputs": [
    {
     "data": {
      "text/plain": [
       "       release_year                     title origin_ethnicity director cast  \\\n",
       "27698          1994           Santhanagopalam        Malayalam                 \n",
       "27699          1994              Ponthan Mada        Malayalam                 \n",
       "27700          1994   Daivathinte Vikrithikal        Malayalam                 \n",
       "27701          1994               Bhaagyavaan        Malayalam                 \n",
       "27702          1994                  Vidheyan        Malayalam                 \n",
       "27729          1995  Vrudhanmare Sookshikkuka        Malayalam                 \n",
       "27731          1995          Sunilkumar Desai        Malayalam           NaN   \n",
       "27900          2005         Manjupeyyum Munpe        Malayalam                 \n",
       "\n",
       "         genre                                          wiki_page  \\\n",
       "27698  unknown      https://en.wikipedia.org/wiki/Santhanagopalam   \n",
       "27699  unknown         https://en.wikipedia.org/wiki/Ponthan_Mada   \n",
       "27700  unknown  https://en.wikipedia.org/wiki/Daivathinte_Vikr...   \n",
       "27701  unknown          https://en.wikipedia.org/wiki/Bhaagyavaan   \n",
       "27702  unknown             https://en.wikipedia.org/wiki/Vidheyan   \n",
       "27729  unknown  https://en.wikipedia.org/wiki/Vrudhanmare_Sook...   \n",
       "27731  unknown           https://en.wikipedia.org/wiki/Nishkarsha   \n",
       "27900  unknown    https://en.wikipedia.org/wiki/Manjupeyyum_Munpe   \n",
       "\n",
       "                                                    plot  \n",
       "27698  Thilakan is a worker at a factory and his fami...  \n",
       "27699  Ponthan Mada is based on two short stories, Po...  \n",
       "27700  The story begins in 1954, when the French, the...  \n",
       "27701  Balu(Sreenivasan) is a post graduate; but unem...  \n",
       "27702  Thommy, a Christian migrant labourer from Kera...  \n",
       "27729  Friends Sathyaraj and Dharmaraj, disguised as ...  \n",
       "27731  The story opens with a kidnapping of an archit...  \n",
       "27900  Siva (Sivaji) is a modern guy who falls in lov...  "
      ],
      "text/html": [
       "<div>\n",
       "<style scoped>\n",
       "    .dataframe tbody tr th:only-of-type {\n",
       "        vertical-align: middle;\n",
       "    }\n",
       "\n",
       "    .dataframe tbody tr th {\n",
       "        vertical-align: top;\n",
       "    }\n",
       "\n",
       "    .dataframe thead th {\n",
       "        text-align: right;\n",
       "    }\n",
       "</style>\n",
       "<table border=\"1\" class=\"dataframe\">\n",
       "  <thead>\n",
       "    <tr style=\"text-align: right;\">\n",
       "      <th></th>\n",
       "      <th>release_year</th>\n",
       "      <th>title</th>\n",
       "      <th>origin_ethnicity</th>\n",
       "      <th>director</th>\n",
       "      <th>cast</th>\n",
       "      <th>genre</th>\n",
       "      <th>wiki_page</th>\n",
       "      <th>plot</th>\n",
       "    </tr>\n",
       "  </thead>\n",
       "  <tbody>\n",
       "    <tr>\n",
       "      <th>27698</th>\n",
       "      <td>1994</td>\n",
       "      <td>Santhanagopalam</td>\n",
       "      <td>Malayalam</td>\n",
       "      <td></td>\n",
       "      <td></td>\n",
       "      <td>unknown</td>\n",
       "      <td>https://en.wikipedia.org/wiki/Santhanagopalam</td>\n",
       "      <td>Thilakan is a worker at a factory and his fami...</td>\n",
       "    </tr>\n",
       "    <tr>\n",
       "      <th>27699</th>\n",
       "      <td>1994</td>\n",
       "      <td>Ponthan Mada</td>\n",
       "      <td>Malayalam</td>\n",
       "      <td></td>\n",
       "      <td></td>\n",
       "      <td>unknown</td>\n",
       "      <td>https://en.wikipedia.org/wiki/Ponthan_Mada</td>\n",
       "      <td>Ponthan Mada is based on two short stories, Po...</td>\n",
       "    </tr>\n",
       "    <tr>\n",
       "      <th>27700</th>\n",
       "      <td>1994</td>\n",
       "      <td>Daivathinte Vikrithikal</td>\n",
       "      <td>Malayalam</td>\n",
       "      <td></td>\n",
       "      <td></td>\n",
       "      <td>unknown</td>\n",
       "      <td>https://en.wikipedia.org/wiki/Daivathinte_Vikr...</td>\n",
       "      <td>The story begins in 1954, when the French, the...</td>\n",
       "    </tr>\n",
       "    <tr>\n",
       "      <th>27701</th>\n",
       "      <td>1994</td>\n",
       "      <td>Bhaagyavaan</td>\n",
       "      <td>Malayalam</td>\n",
       "      <td></td>\n",
       "      <td></td>\n",
       "      <td>unknown</td>\n",
       "      <td>https://en.wikipedia.org/wiki/Bhaagyavaan</td>\n",
       "      <td>Balu(Sreenivasan) is a post graduate; but unem...</td>\n",
       "    </tr>\n",
       "    <tr>\n",
       "      <th>27702</th>\n",
       "      <td>1994</td>\n",
       "      <td>Vidheyan</td>\n",
       "      <td>Malayalam</td>\n",
       "      <td></td>\n",
       "      <td></td>\n",
       "      <td>unknown</td>\n",
       "      <td>https://en.wikipedia.org/wiki/Vidheyan</td>\n",
       "      <td>Thommy, a Christian migrant labourer from Kera...</td>\n",
       "    </tr>\n",
       "    <tr>\n",
       "      <th>27729</th>\n",
       "      <td>1995</td>\n",
       "      <td>Vrudhanmare Sookshikkuka</td>\n",
       "      <td>Malayalam</td>\n",
       "      <td></td>\n",
       "      <td></td>\n",
       "      <td>unknown</td>\n",
       "      <td>https://en.wikipedia.org/wiki/Vrudhanmare_Sook...</td>\n",
       "      <td>Friends Sathyaraj and Dharmaraj, disguised as ...</td>\n",
       "    </tr>\n",
       "    <tr>\n",
       "      <th>27731</th>\n",
       "      <td>1995</td>\n",
       "      <td>Sunilkumar Desai</td>\n",
       "      <td>Malayalam</td>\n",
       "      <td></td>\n",
       "      <td>NaN</td>\n",
       "      <td>unknown</td>\n",
       "      <td>https://en.wikipedia.org/wiki/Nishkarsha</td>\n",
       "      <td>The story opens with a kidnapping of an archit...</td>\n",
       "    </tr>\n",
       "    <tr>\n",
       "      <th>27900</th>\n",
       "      <td>2005</td>\n",
       "      <td>Manjupeyyum Munpe</td>\n",
       "      <td>Malayalam</td>\n",
       "      <td></td>\n",
       "      <td></td>\n",
       "      <td>unknown</td>\n",
       "      <td>https://en.wikipedia.org/wiki/Manjupeyyum_Munpe</td>\n",
       "      <td>Siva (Sivaji) is a modern guy who falls in lov...</td>\n",
       "    </tr>\n",
       "  </tbody>\n",
       "</table>\n",
       "</div>"
      ]
     },
     "execution_count": 245,
     "metadata": {},
     "output_type": "execute_result"
    }
   ],
   "execution_count": 245
  },
  {
   "metadata": {},
   "cell_type": "markdown",
   "source": "Those values have to be replaced with 'unknown' because the director is not known.",
   "id": "b9c192c1d6ea8e3b"
  },
  {
   "metadata": {},
   "cell_type": "markdown",
   "source": "#### Duplicates",
   "id": "c4f6755cc913f299"
  },
  {
   "metadata": {
    "ExecuteTime": {
     "end_time": "2024-06-11T15:47:59.124086Z",
     "start_time": "2024-06-11T15:47:59.120675Z"
    }
   },
   "cell_type": "code",
   "source": [
    "# check for duplicates in the director column\n",
    "duplicates_director = df['director'].duplicated(keep=False).sum()\n",
    "print(\"There are {} duplicates in the director column\".format(duplicates_director))"
   ],
   "id": "fb34e7cf17f8008e",
   "outputs": [
    {
     "name": "stdout",
     "output_type": "stream",
     "text": [
      "There are 26788 duplicates in the director column\n"
     ]
    }
   ],
   "execution_count": 246
  },
  {
   "metadata": {
    "ExecuteTime": {
     "end_time": "2024-06-11T15:47:59.270040Z",
     "start_time": "2024-06-11T15:47:59.259218Z"
    }
   },
   "cell_type": "code",
   "source": [
    "# display the rows with duplicates in the director column\n",
    "duplicate_values = df['director'].duplicated(keep=False)\n",
    "df[duplicate_values]"
   ],
   "id": "59f7fe7f3c09327f",
   "outputs": [
    {
     "data": {
      "text/plain": [
       "       release_year                             title origin_ethnicity  \\\n",
       "0              1901            Kansas Saloon Smashers         American   \n",
       "1              1901     Love by the Light of the Moon         American   \n",
       "2              1901           The Martyred Presidents         American   \n",
       "3              1901  Terrible Teddy, the Grizzly King         American   \n",
       "5              1903               Alice in Wonderland         American   \n",
       "...             ...                               ...              ...   \n",
       "34859          2010         Five Minarets in New York          Turkish   \n",
       "34864          2011                    Eyyvah Eyvah 2          Turkish   \n",
       "34868          2011           Love Likes Coincidences          Turkish   \n",
       "34871          2011                    Merry-Go-Round          Turkish   \n",
       "34883          2017                      Olanlar Oldu          Turkish   \n",
       "\n",
       "                director                                               cast  \\\n",
       "0                Unknown                                                NaN   \n",
       "1                Unknown                                                NaN   \n",
       "2                Unknown                                                NaN   \n",
       "3                Unknown                                                NaN   \n",
       "5         Cecil Hepworth                                          May Clark   \n",
       "...                  ...                                                ...   \n",
       "34859  Mahsun Kırmızıgül  Mahsun Kırmızıgül, Haluk Bilginer & Mustafa Sa...   \n",
       "34864        Hakan Algül            Ata Demirer, Demet Akbağ & Salih Kalyon   \n",
       "34868   Ömer Faruk Sorak  Mehmet Günsür, Belçim Bilgin Erdoğan & Altan E...   \n",
       "34871     İlksen Başarır        Mert Fırat, Nergis Öztürk & Sema Çeyrekbaşı   \n",
       "34883        Hakan Algül              Ata Demirer, Tuvana Türkay, Ülkü Duru   \n",
       "\n",
       "         genre                                          wiki_page  \\\n",
       "0      unknown  https://en.wikipedia.org/wiki/Kansas_Saloon_Sm...   \n",
       "1      unknown  https://en.wikipedia.org/wiki/Love_by_the_Ligh...   \n",
       "2      unknown  https://en.wikipedia.org/wiki/The_Martyred_Pre...   \n",
       "3      unknown  https://en.wikipedia.org/wiki/Terrible_Teddy,_...   \n",
       "5      unknown  https://en.wikipedia.org/wiki/Alice_in_Wonderl...   \n",
       "...        ...                                                ...   \n",
       "34859   action  https://en.wikipedia.org/wiki/Five_Minarets_in...   \n",
       "34864   comedy       https://en.wikipedia.org/wiki/Eyyvah_Eyvah_2   \n",
       "34868    drama  https://en.wikipedia.org/wiki/Love_Likes_Coinc...   \n",
       "34871    drama  https://en.wikipedia.org/wiki/Merry-Go-Round_(...   \n",
       "34883   comedy         https://en.wikipedia.org/wiki/Olanlar_Oldu   \n",
       "\n",
       "                                                    plot  \n",
       "0      A bartender is working at a saloon, serving dr...  \n",
       "1      The moon, painted with a smiling face hangs ov...  \n",
       "2      The film, just over a minute long, is composed...  \n",
       "3      Lasting just 61 seconds and consisting of two ...  \n",
       "5      Alice follows a large white rabbit down a \"Rab...  \n",
       "...                                                  ...  \n",
       "34859  The film follows two anti-terror officers from...  \n",
       "34864  Hüseyin (Ata Demirer), a clarinetist from a vi...  \n",
       "34868  One September morning in 1977 in Ankara, a you...  \n",
       "34871  Erdem and Sevil live in a small town with thei...  \n",
       "34883  Zafer, a sailor living with his mother Döndü i...  \n",
       "\n",
       "[26788 rows x 8 columns]"
      ],
      "text/html": [
       "<div>\n",
       "<style scoped>\n",
       "    .dataframe tbody tr th:only-of-type {\n",
       "        vertical-align: middle;\n",
       "    }\n",
       "\n",
       "    .dataframe tbody tr th {\n",
       "        vertical-align: top;\n",
       "    }\n",
       "\n",
       "    .dataframe thead th {\n",
       "        text-align: right;\n",
       "    }\n",
       "</style>\n",
       "<table border=\"1\" class=\"dataframe\">\n",
       "  <thead>\n",
       "    <tr style=\"text-align: right;\">\n",
       "      <th></th>\n",
       "      <th>release_year</th>\n",
       "      <th>title</th>\n",
       "      <th>origin_ethnicity</th>\n",
       "      <th>director</th>\n",
       "      <th>cast</th>\n",
       "      <th>genre</th>\n",
       "      <th>wiki_page</th>\n",
       "      <th>plot</th>\n",
       "    </tr>\n",
       "  </thead>\n",
       "  <tbody>\n",
       "    <tr>\n",
       "      <th>0</th>\n",
       "      <td>1901</td>\n",
       "      <td>Kansas Saloon Smashers</td>\n",
       "      <td>American</td>\n",
       "      <td>Unknown</td>\n",
       "      <td>NaN</td>\n",
       "      <td>unknown</td>\n",
       "      <td>https://en.wikipedia.org/wiki/Kansas_Saloon_Sm...</td>\n",
       "      <td>A bartender is working at a saloon, serving dr...</td>\n",
       "    </tr>\n",
       "    <tr>\n",
       "      <th>1</th>\n",
       "      <td>1901</td>\n",
       "      <td>Love by the Light of the Moon</td>\n",
       "      <td>American</td>\n",
       "      <td>Unknown</td>\n",
       "      <td>NaN</td>\n",
       "      <td>unknown</td>\n",
       "      <td>https://en.wikipedia.org/wiki/Love_by_the_Ligh...</td>\n",
       "      <td>The moon, painted with a smiling face hangs ov...</td>\n",
       "    </tr>\n",
       "    <tr>\n",
       "      <th>2</th>\n",
       "      <td>1901</td>\n",
       "      <td>The Martyred Presidents</td>\n",
       "      <td>American</td>\n",
       "      <td>Unknown</td>\n",
       "      <td>NaN</td>\n",
       "      <td>unknown</td>\n",
       "      <td>https://en.wikipedia.org/wiki/The_Martyred_Pre...</td>\n",
       "      <td>The film, just over a minute long, is composed...</td>\n",
       "    </tr>\n",
       "    <tr>\n",
       "      <th>3</th>\n",
       "      <td>1901</td>\n",
       "      <td>Terrible Teddy, the Grizzly King</td>\n",
       "      <td>American</td>\n",
       "      <td>Unknown</td>\n",
       "      <td>NaN</td>\n",
       "      <td>unknown</td>\n",
       "      <td>https://en.wikipedia.org/wiki/Terrible_Teddy,_...</td>\n",
       "      <td>Lasting just 61 seconds and consisting of two ...</td>\n",
       "    </tr>\n",
       "    <tr>\n",
       "      <th>5</th>\n",
       "      <td>1903</td>\n",
       "      <td>Alice in Wonderland</td>\n",
       "      <td>American</td>\n",
       "      <td>Cecil Hepworth</td>\n",
       "      <td>May Clark</td>\n",
       "      <td>unknown</td>\n",
       "      <td>https://en.wikipedia.org/wiki/Alice_in_Wonderl...</td>\n",
       "      <td>Alice follows a large white rabbit down a \"Rab...</td>\n",
       "    </tr>\n",
       "    <tr>\n",
       "      <th>...</th>\n",
       "      <td>...</td>\n",
       "      <td>...</td>\n",
       "      <td>...</td>\n",
       "      <td>...</td>\n",
       "      <td>...</td>\n",
       "      <td>...</td>\n",
       "      <td>...</td>\n",
       "      <td>...</td>\n",
       "    </tr>\n",
       "    <tr>\n",
       "      <th>34859</th>\n",
       "      <td>2010</td>\n",
       "      <td>Five Minarets in New York</td>\n",
       "      <td>Turkish</td>\n",
       "      <td>Mahsun Kırmızıgül</td>\n",
       "      <td>Mahsun Kırmızıgül, Haluk Bilginer &amp; Mustafa Sa...</td>\n",
       "      <td>action</td>\n",
       "      <td>https://en.wikipedia.org/wiki/Five_Minarets_in...</td>\n",
       "      <td>The film follows two anti-terror officers from...</td>\n",
       "    </tr>\n",
       "    <tr>\n",
       "      <th>34864</th>\n",
       "      <td>2011</td>\n",
       "      <td>Eyyvah Eyvah 2</td>\n",
       "      <td>Turkish</td>\n",
       "      <td>Hakan Algül</td>\n",
       "      <td>Ata Demirer, Demet Akbağ &amp; Salih Kalyon</td>\n",
       "      <td>comedy</td>\n",
       "      <td>https://en.wikipedia.org/wiki/Eyyvah_Eyvah_2</td>\n",
       "      <td>Hüseyin (Ata Demirer), a clarinetist from a vi...</td>\n",
       "    </tr>\n",
       "    <tr>\n",
       "      <th>34868</th>\n",
       "      <td>2011</td>\n",
       "      <td>Love Likes Coincidences</td>\n",
       "      <td>Turkish</td>\n",
       "      <td>Ömer Faruk Sorak</td>\n",
       "      <td>Mehmet Günsür, Belçim Bilgin Erdoğan &amp; Altan E...</td>\n",
       "      <td>drama</td>\n",
       "      <td>https://en.wikipedia.org/wiki/Love_Likes_Coinc...</td>\n",
       "      <td>One September morning in 1977 in Ankara, a you...</td>\n",
       "    </tr>\n",
       "    <tr>\n",
       "      <th>34871</th>\n",
       "      <td>2011</td>\n",
       "      <td>Merry-Go-Round</td>\n",
       "      <td>Turkish</td>\n",
       "      <td>İlksen Başarır</td>\n",
       "      <td>Mert Fırat, Nergis Öztürk &amp; Sema Çeyrekbaşı</td>\n",
       "      <td>drama</td>\n",
       "      <td>https://en.wikipedia.org/wiki/Merry-Go-Round_(...</td>\n",
       "      <td>Erdem and Sevil live in a small town with thei...</td>\n",
       "    </tr>\n",
       "    <tr>\n",
       "      <th>34883</th>\n",
       "      <td>2017</td>\n",
       "      <td>Olanlar Oldu</td>\n",
       "      <td>Turkish</td>\n",
       "      <td>Hakan Algül</td>\n",
       "      <td>Ata Demirer, Tuvana Türkay, Ülkü Duru</td>\n",
       "      <td>comedy</td>\n",
       "      <td>https://en.wikipedia.org/wiki/Olanlar_Oldu</td>\n",
       "      <td>Zafer, a sailor living with his mother Döndü i...</td>\n",
       "    </tr>\n",
       "  </tbody>\n",
       "</table>\n",
       "<p>26788 rows × 8 columns</p>\n",
       "</div>"
      ]
     },
     "execution_count": 247,
     "metadata": {},
     "output_type": "execute_result"
    }
   ],
   "execution_count": 247
  },
  {
   "metadata": {},
   "cell_type": "markdown",
   "source": "There are movies with the same director. This is normal because there are movies with the same director.",
   "id": "9db98f580f203416"
  },
  {
   "metadata": {},
   "cell_type": "markdown",
   "source": "#### Unknown values",
   "id": "5ab17833ef39b30e"
  },
  {
   "metadata": {
    "ExecuteTime": {
     "end_time": "2024-06-11T15:47:59.511193Z",
     "start_time": "2024-06-11T15:47:59.498563Z"
    }
   },
   "cell_type": "code",
   "source": [
    "# check for 'unknown' values in the director column \n",
    "# make sure that any case of 'unknown' is counted\n",
    "unknown_director = df['director'].str.lower().str.contains('unknown').sum()\n",
    "print(\"There are {} movies with the director set to 'unknown'\".format(unknown_director))"
   ],
   "id": "4cbedb707a235757",
   "outputs": [
    {
     "name": "stdout",
     "output_type": "stream",
     "text": [
      "There are 1124 movies with the director set to 'unknown'\n"
     ]
    }
   ],
   "execution_count": 248
  },
  {
   "metadata": {
    "ExecuteTime": {
     "end_time": "2024-06-11T15:47:59.756488Z",
     "start_time": "2024-06-11T15:47:59.740108Z"
    }
   },
   "cell_type": "code",
   "source": [
    "# Since the dataset was crawled from wikipedia it is possible that the director is not known.\n",
    "# display rows with 'unknown' in the director column\n",
    "director_unknown = df[df['director'].str.lower().str.contains('unknown', na=False)]\n",
    "director_unknown"
   ],
   "id": "e8fd607ee615fecb",
   "outputs": [
    {
     "data": {
      "text/plain": [
       "       release_year                             title origin_ethnicity  \\\n",
       "0              1901            Kansas Saloon Smashers         American   \n",
       "1              1901     Love by the Light of the Moon         American   \n",
       "2              1901           The Martyred Presidents         American   \n",
       "3              1901  Terrible Teddy, the Grizzly King         American   \n",
       "14             1907   How Brown Saw the Baseball Game         American   \n",
       "...             ...                               ...              ...   \n",
       "34826          2009              Dilber'in Sekiz Günü          Turkish   \n",
       "34827          2009                              Usta          Turkish   \n",
       "34828          2009                    Çingirakli Top          Turkish   \n",
       "34830          2009                               Acı          Turkish   \n",
       "34836          2009                             Orada          Turkish   \n",
       "\n",
       "      director     cast    genre  \\\n",
       "0      Unknown      NaN  unknown   \n",
       "1      Unknown      NaN  unknown   \n",
       "2      Unknown      NaN  unknown   \n",
       "3      Unknown      NaN  unknown   \n",
       "14     Unknown  Unknown   comedy   \n",
       "...        ...      ...      ...   \n",
       "34826  Unknown      NaN  unknown   \n",
       "34827  Unknown      NaN  unknown   \n",
       "34828  Unknown      NaN  unknown   \n",
       "34830  Unknown      NaN  unknown   \n",
       "34836  Unknown      NaN  unknown   \n",
       "\n",
       "                                               wiki_page  \\\n",
       "0      https://en.wikipedia.org/wiki/Kansas_Saloon_Sm...   \n",
       "1      https://en.wikipedia.org/wiki/Love_by_the_Ligh...   \n",
       "2      https://en.wikipedia.org/wiki/The_Martyred_Pre...   \n",
       "3      https://en.wikipedia.org/wiki/Terrible_Teddy,_...   \n",
       "14     https://en.wikipedia.org/wiki/How_Brown_Saw_th...   \n",
       "...                                                  ...   \n",
       "34826  https://en.wikipedia.org/wiki/Dilber%27in_Seki...   \n",
       "34827  https://en.wikipedia.org/wiki/The_Master_(2009...   \n",
       "34828     https://en.wikipedia.org/wiki/The_Ringing_Ball   \n",
       "34830      https://en.wikipedia.org/wiki/The_Pain_(film)   \n",
       "34836                https://en.wikipedia.org/wiki/Orada   \n",
       "\n",
       "                                                    plot  \n",
       "0      A bartender is working at a saloon, serving dr...  \n",
       "1      The moon, painted with a smiling face hangs ov...  \n",
       "2      The film, just over a minute long, is composed...  \n",
       "3      Lasting just 61 seconds and consisting of two ...  \n",
       "14     Before heading out to a baseball game at a nea...  \n",
       "...                                                  ...  \n",
       "34826  Dilber lives with her family in a very poor ea...  \n",
       "34827  Dogan, a car mechanic in a small town, is obse...  \n",
       "34828  The film follows a handful of blind people, in...  \n",
       "34830  Nesrin is a young girl fighting for freedom, w...  \n",
       "34836  When the matriarch of an Istanbul family dies ...  \n",
       "\n",
       "[1124 rows x 8 columns]"
      ],
      "text/html": [
       "<div>\n",
       "<style scoped>\n",
       "    .dataframe tbody tr th:only-of-type {\n",
       "        vertical-align: middle;\n",
       "    }\n",
       "\n",
       "    .dataframe tbody tr th {\n",
       "        vertical-align: top;\n",
       "    }\n",
       "\n",
       "    .dataframe thead th {\n",
       "        text-align: right;\n",
       "    }\n",
       "</style>\n",
       "<table border=\"1\" class=\"dataframe\">\n",
       "  <thead>\n",
       "    <tr style=\"text-align: right;\">\n",
       "      <th></th>\n",
       "      <th>release_year</th>\n",
       "      <th>title</th>\n",
       "      <th>origin_ethnicity</th>\n",
       "      <th>director</th>\n",
       "      <th>cast</th>\n",
       "      <th>genre</th>\n",
       "      <th>wiki_page</th>\n",
       "      <th>plot</th>\n",
       "    </tr>\n",
       "  </thead>\n",
       "  <tbody>\n",
       "    <tr>\n",
       "      <th>0</th>\n",
       "      <td>1901</td>\n",
       "      <td>Kansas Saloon Smashers</td>\n",
       "      <td>American</td>\n",
       "      <td>Unknown</td>\n",
       "      <td>NaN</td>\n",
       "      <td>unknown</td>\n",
       "      <td>https://en.wikipedia.org/wiki/Kansas_Saloon_Sm...</td>\n",
       "      <td>A bartender is working at a saloon, serving dr...</td>\n",
       "    </tr>\n",
       "    <tr>\n",
       "      <th>1</th>\n",
       "      <td>1901</td>\n",
       "      <td>Love by the Light of the Moon</td>\n",
       "      <td>American</td>\n",
       "      <td>Unknown</td>\n",
       "      <td>NaN</td>\n",
       "      <td>unknown</td>\n",
       "      <td>https://en.wikipedia.org/wiki/Love_by_the_Ligh...</td>\n",
       "      <td>The moon, painted with a smiling face hangs ov...</td>\n",
       "    </tr>\n",
       "    <tr>\n",
       "      <th>2</th>\n",
       "      <td>1901</td>\n",
       "      <td>The Martyred Presidents</td>\n",
       "      <td>American</td>\n",
       "      <td>Unknown</td>\n",
       "      <td>NaN</td>\n",
       "      <td>unknown</td>\n",
       "      <td>https://en.wikipedia.org/wiki/The_Martyred_Pre...</td>\n",
       "      <td>The film, just over a minute long, is composed...</td>\n",
       "    </tr>\n",
       "    <tr>\n",
       "      <th>3</th>\n",
       "      <td>1901</td>\n",
       "      <td>Terrible Teddy, the Grizzly King</td>\n",
       "      <td>American</td>\n",
       "      <td>Unknown</td>\n",
       "      <td>NaN</td>\n",
       "      <td>unknown</td>\n",
       "      <td>https://en.wikipedia.org/wiki/Terrible_Teddy,_...</td>\n",
       "      <td>Lasting just 61 seconds and consisting of two ...</td>\n",
       "    </tr>\n",
       "    <tr>\n",
       "      <th>14</th>\n",
       "      <td>1907</td>\n",
       "      <td>How Brown Saw the Baseball Game</td>\n",
       "      <td>American</td>\n",
       "      <td>Unknown</td>\n",
       "      <td>Unknown</td>\n",
       "      <td>comedy</td>\n",
       "      <td>https://en.wikipedia.org/wiki/How_Brown_Saw_th...</td>\n",
       "      <td>Before heading out to a baseball game at a nea...</td>\n",
       "    </tr>\n",
       "    <tr>\n",
       "      <th>...</th>\n",
       "      <td>...</td>\n",
       "      <td>...</td>\n",
       "      <td>...</td>\n",
       "      <td>...</td>\n",
       "      <td>...</td>\n",
       "      <td>...</td>\n",
       "      <td>...</td>\n",
       "      <td>...</td>\n",
       "    </tr>\n",
       "    <tr>\n",
       "      <th>34826</th>\n",
       "      <td>2009</td>\n",
       "      <td>Dilber'in Sekiz Günü</td>\n",
       "      <td>Turkish</td>\n",
       "      <td>Unknown</td>\n",
       "      <td>NaN</td>\n",
       "      <td>unknown</td>\n",
       "      <td>https://en.wikipedia.org/wiki/Dilber%27in_Seki...</td>\n",
       "      <td>Dilber lives with her family in a very poor ea...</td>\n",
       "    </tr>\n",
       "    <tr>\n",
       "      <th>34827</th>\n",
       "      <td>2009</td>\n",
       "      <td>Usta</td>\n",
       "      <td>Turkish</td>\n",
       "      <td>Unknown</td>\n",
       "      <td>NaN</td>\n",
       "      <td>unknown</td>\n",
       "      <td>https://en.wikipedia.org/wiki/The_Master_(2009...</td>\n",
       "      <td>Dogan, a car mechanic in a small town, is obse...</td>\n",
       "    </tr>\n",
       "    <tr>\n",
       "      <th>34828</th>\n",
       "      <td>2009</td>\n",
       "      <td>Çingirakli Top</td>\n",
       "      <td>Turkish</td>\n",
       "      <td>Unknown</td>\n",
       "      <td>NaN</td>\n",
       "      <td>unknown</td>\n",
       "      <td>https://en.wikipedia.org/wiki/The_Ringing_Ball</td>\n",
       "      <td>The film follows a handful of blind people, in...</td>\n",
       "    </tr>\n",
       "    <tr>\n",
       "      <th>34830</th>\n",
       "      <td>2009</td>\n",
       "      <td>Acı</td>\n",
       "      <td>Turkish</td>\n",
       "      <td>Unknown</td>\n",
       "      <td>NaN</td>\n",
       "      <td>unknown</td>\n",
       "      <td>https://en.wikipedia.org/wiki/The_Pain_(film)</td>\n",
       "      <td>Nesrin is a young girl fighting for freedom, w...</td>\n",
       "    </tr>\n",
       "    <tr>\n",
       "      <th>34836</th>\n",
       "      <td>2009</td>\n",
       "      <td>Orada</td>\n",
       "      <td>Turkish</td>\n",
       "      <td>Unknown</td>\n",
       "      <td>NaN</td>\n",
       "      <td>unknown</td>\n",
       "      <td>https://en.wikipedia.org/wiki/Orada</td>\n",
       "      <td>When the matriarch of an Istanbul family dies ...</td>\n",
       "    </tr>\n",
       "  </tbody>\n",
       "</table>\n",
       "<p>1124 rows × 8 columns</p>\n",
       "</div>"
      ]
     },
     "execution_count": 249,
     "metadata": {},
     "output_type": "execute_result"
    }
   ],
   "execution_count": 249
  },
  {
   "metadata": {},
   "cell_type": "markdown",
   "source": "#### Multiple Values",
   "id": "fe4cfe5e6f2b8116"
  },
  {
   "metadata": {
    "ExecuteTime": {
     "end_time": "2024-06-11T15:48:00.097615Z",
     "start_time": "2024-06-11T15:48:00.084998Z"
    }
   },
   "cell_type": "code",
   "source": [
    "# check if there are multiple directors per movie\n",
    "multiple_directors = df['director'].str.lower().str.contains(',').sum()\n",
    "print(\"There are {} movies with multiple directors based on comma separator\".format(multiple_directors))"
   ],
   "id": "1b71eb0288a3c9f1",
   "outputs": [
    {
     "name": "stdout",
     "output_type": "stream",
     "text": [
      "There are 1131 movies with multiple directors based on comma separator\n"
     ]
    }
   ],
   "execution_count": 250
  },
  {
   "metadata": {},
   "cell_type": "markdown",
   "source": "There are many records with a comma which means that there can be multiple director separated by a comma. This needs to be cleaned and further investigated.",
   "id": "193b74077d97cb79"
  },
  {
   "metadata": {
    "ExecuteTime": {
     "end_time": "2024-06-11T15:48:00.328876Z",
     "start_time": "2024-06-11T15:48:00.315763Z"
    }
   },
   "cell_type": "code",
   "source": [
    "# check if there are any directors with 'and' in the name\n",
    "directors_with_and = df['director'].str.lower().str.contains('and').sum()\n",
    "print(\"There are {} directors with 'and' in the name\".format(directors_with_and))"
   ],
   "id": "3f27da1317013550",
   "outputs": [
    {
     "name": "stdout",
     "output_type": "stream",
     "text": [
      "There are 1639 directors with 'and' in the name\n"
     ]
    }
   ],
   "execution_count": 251
  },
  {
   "metadata": {
    "ExecuteTime": {
     "end_time": "2024-06-11T15:48:00.687630Z",
     "start_time": "2024-06-11T15:48:00.669978Z"
    }
   },
   "cell_type": "code",
   "source": [
    "# display the number of 'and' directors\n",
    "df[df['director'].str.lower().str.contains('and')].head(20)"
   ],
   "id": "1c7144d67f3623ee",
   "outputs": [
    {
     "data": {
      "text/plain": [
       "     release_year                                              title  \\\n",
       "10           1906                           Dream of a Rarebit Fiend   \n",
       "11           1906  From Leadville to Aspen: A Hold-Up in the Rockies   \n",
       "13           1907                                       Daniel Boone   \n",
       "55           1913                            Dr. Jekyll and Mr. Hyde   \n",
       "68           1914                                Caught in a Cabaret   \n",
       "71           1914                                  Cruel, Cruel Love   \n",
       "80           1914                                    Charlie Chaplin   \n",
       "86           1914                                 Mabel at the Wheel   \n",
       "87           1914                                    Mabel's Blunder   \n",
       "367          1921                           The Adventures of Tarzan   \n",
       "408          1921                                       The Sea Lion   \n",
       "413          1921                                  The Silver Lining   \n",
       "465          1923                                       Gentle Julia   \n",
       "516          1924                                        Three Weeks   \n",
       "574          1926                                            The Bat   \n",
       "588          1926                                           Don Juan   \n",
       "626          1927                   Chang: A Drama of the Wilderness   \n",
       "642          1927                                    The Jazz Singer   \n",
       "664          1927                                   When a Man Loves   \n",
       "685          1928                                           Doomsday   \n",
       "\n",
       "    origin_ethnicity                                  director  \\\n",
       "10          American    Wallace McCutcheon and Edwin S. Porter   \n",
       "11          American  Francis J. Marion and Wallace McCutcheon   \n",
       "13          American   Wallace McCutcheon and Ediwin S. Porter   \n",
       "55          American           Herbert Brenon and Carl Laemmle   \n",
       "68          American                             Mabel Normand   \n",
       "71          American           George Nichols and Mack Sennett   \n",
       "80          American            Charlie Chaplin, Mabel Normand   \n",
       "86          American               Mabel Normand, Mack Sennett   \n",
       "87          American                             Mabel Normand   \n",
       "367         American           Robert F. Hill and Scott Sidney   \n",
       "408         American                            Rowland V. Lee   \n",
       "413         American                               Roland West   \n",
       "465         American                            Rowland V. Lee   \n",
       "516         American                             Alan Crosland   \n",
       "574         American                               Roland West   \n",
       "588         American                             Alan Crosland   \n",
       "626         American    Merian Cooper and Ernest B. Schoedsack   \n",
       "642         American                             Alan Crosland   \n",
       "664         American                             Alan Crosland   \n",
       "685         American                            Rowland V. Lee   \n",
       "\n",
       "                                                  cast  \\\n",
       "10                                                 NaN   \n",
       "11                                                 NaN   \n",
       "13                   William Craven, Florence Lawrence   \n",
       "55                                         King Baggot   \n",
       "68       Charlie Chaplin, Mabel Normand, Edgar Kennedy   \n",
       "71        Charlie Chaplin, Edgar Kennedy, Minta Durfee   \n",
       "80                                              Comedy   \n",
       "86                      Charlie Chaplin, Mabel Normand   \n",
       "87            Mabel Normand, Charly Chase, Al St. John   \n",
       "367                                                NaN   \n",
       "408        Hobart Bosworth, Bessie Love, Emory Johnson   \n",
       "413                                      Leslie Austin   \n",
       "465                        Bessie Love, Harold Goodwin   \n",
       "516                       Conrad Nagel, Aileen Pringle   \n",
       "574  Tullio Carminati, Charles Herzinger, Jewel Car...   \n",
       "588  John Barrymore, Mary Astor, Warner Oland, Este...   \n",
       "626                    Kru, Chantui, Nah, Ladah, Bimbo   \n",
       "642                              Al Jolson, May McAvoy   \n",
       "664                   John Barrymore, Dolores Costello   \n",
       "685                        Florence Vidor, Gary Cooper   \n",
       "\n",
       "                          genre  \\\n",
       "10                        short   \n",
       "11   short action/crime western   \n",
       "13                 biographical   \n",
       "55                       horror   \n",
       "68                       comedy   \n",
       "71                       comedy   \n",
       "80                      unknown   \n",
       "86                       comedy   \n",
       "87                       comedy   \n",
       "367                     unknown   \n",
       "408                   adventure   \n",
       "413                       drama   \n",
       "465                     romance   \n",
       "516               romance drama   \n",
       "574           mystery, thriller   \n",
       "588                   adventure   \n",
       "626     semi-staged documentary   \n",
       "642                       drama   \n",
       "664            historical drama   \n",
       "685                       drama   \n",
       "\n",
       "                                             wiki_page  \\\n",
       "10   https://en.wikipedia.org/wiki/Dream_of_a_Rareb...   \n",
       "11   https://en.wikipedia.org/wiki/From_Leadville_t...   \n",
       "13   https://en.wikipedia.org/wiki/Daniel_Boone_(19...   \n",
       "55   https://en.wikipedia.org/wiki/Dr._Jekyll_and_M...   \n",
       "68   https://en.wikipedia.org/wiki/Caught_in_a_Cabaret   \n",
       "71     https://en.wikipedia.org/wiki/Cruel,_Cruel_Love   \n",
       "80    https://en.wikipedia.org/wiki/His_Trysting_Place   \n",
       "86    https://en.wikipedia.org/wiki/Mabel_at_the_Wheel   \n",
       "87     https://en.wikipedia.org/wiki/Mabel%27s_Blunder   \n",
       "367  https://en.wikipedia.org/wiki/The_Adventures_o...   \n",
       "408         https://en.wikipedia.org/wiki/The_Sea_Lion   \n",
       "413  https://en.wikipedia.org/wiki/The_Silver_Linin...   \n",
       "465  https://en.wikipedia.org/wiki/Gentle_Julia_(19...   \n",
       "516   https://en.wikipedia.org/wiki/Three_Weeks_(film)   \n",
       "574  https://en.wikipedia.org/wiki/The_Bat_(1926_film)   \n",
       "588  https://en.wikipedia.org/wiki/Don_Juan_(1926_f...   \n",
       "626  https://en.wikipedia.org/wiki/Chang:_A_Drama_o...   \n",
       "642      https://en.wikipedia.org/wiki/The_Jazz_Singer   \n",
       "664     https://en.wikipedia.org/wiki/When_a_Man_Loves   \n",
       "685  https://en.wikipedia.org/wiki/Doomsday_(1928_f...   \n",
       "\n",
       "                                                  plot  \n",
       "10   The Rarebit Fiend gorges on Welsh rarebit at a...  \n",
       "11   The film features a train traveling through th...  \n",
       "13   Boone's daughter befriends an Indian maiden as...  \n",
       "55   Dr. Henry Jekyll (King Baggot) sends a note to...  \n",
       "68   Chaplin plays a waiter who fakes being a Greek...  \n",
       "71   Chaplin plays a character quite different from...  \n",
       "80   Charlie and his friend Ambrose meet in a resta...  \n",
       "86   Charlie offers Mabel a ride on his two-seater ...  \n",
       "87   Mabel's Blunder tells the tale of a young woma...  \n",
       "367  Tarzan rescues Jane from Arab slave-traders af...  \n",
       "408  Captain John Nelson (Hobart Bosworth) and his ...  \n",
       "413  While discussing heredity, a man recalls the s...  \n",
       "465  Julia (Bessie Love) is a \"small-town heartbrea...  \n",
       "516  The Queen of Sardalia is in a bad marriage wit...  \n",
       "574  Gideon Bell, owner of the Favre Emeralds, rece...  \n",
       "588  In the prologue, Don José, warned of his wife'...  \n",
       "626  In the directors' own words, Chang is a \"melod...  \n",
       "642  Cantor Rabinowitz wants his son to carry on th...  \n",
       "664  Chevalier Fabien des Grieux, who has forsworn ...  \n",
       "685  In Sussex, England after the Great War, former...  "
      ],
      "text/html": [
       "<div>\n",
       "<style scoped>\n",
       "    .dataframe tbody tr th:only-of-type {\n",
       "        vertical-align: middle;\n",
       "    }\n",
       "\n",
       "    .dataframe tbody tr th {\n",
       "        vertical-align: top;\n",
       "    }\n",
       "\n",
       "    .dataframe thead th {\n",
       "        text-align: right;\n",
       "    }\n",
       "</style>\n",
       "<table border=\"1\" class=\"dataframe\">\n",
       "  <thead>\n",
       "    <tr style=\"text-align: right;\">\n",
       "      <th></th>\n",
       "      <th>release_year</th>\n",
       "      <th>title</th>\n",
       "      <th>origin_ethnicity</th>\n",
       "      <th>director</th>\n",
       "      <th>cast</th>\n",
       "      <th>genre</th>\n",
       "      <th>wiki_page</th>\n",
       "      <th>plot</th>\n",
       "    </tr>\n",
       "  </thead>\n",
       "  <tbody>\n",
       "    <tr>\n",
       "      <th>10</th>\n",
       "      <td>1906</td>\n",
       "      <td>Dream of a Rarebit Fiend</td>\n",
       "      <td>American</td>\n",
       "      <td>Wallace McCutcheon and Edwin S. Porter</td>\n",
       "      <td>NaN</td>\n",
       "      <td>short</td>\n",
       "      <td>https://en.wikipedia.org/wiki/Dream_of_a_Rareb...</td>\n",
       "      <td>The Rarebit Fiend gorges on Welsh rarebit at a...</td>\n",
       "    </tr>\n",
       "    <tr>\n",
       "      <th>11</th>\n",
       "      <td>1906</td>\n",
       "      <td>From Leadville to Aspen: A Hold-Up in the Rockies</td>\n",
       "      <td>American</td>\n",
       "      <td>Francis J. Marion and Wallace McCutcheon</td>\n",
       "      <td>NaN</td>\n",
       "      <td>short action/crime western</td>\n",
       "      <td>https://en.wikipedia.org/wiki/From_Leadville_t...</td>\n",
       "      <td>The film features a train traveling through th...</td>\n",
       "    </tr>\n",
       "    <tr>\n",
       "      <th>13</th>\n",
       "      <td>1907</td>\n",
       "      <td>Daniel Boone</td>\n",
       "      <td>American</td>\n",
       "      <td>Wallace McCutcheon and Ediwin S. Porter</td>\n",
       "      <td>William Craven, Florence Lawrence</td>\n",
       "      <td>biographical</td>\n",
       "      <td>https://en.wikipedia.org/wiki/Daniel_Boone_(19...</td>\n",
       "      <td>Boone's daughter befriends an Indian maiden as...</td>\n",
       "    </tr>\n",
       "    <tr>\n",
       "      <th>55</th>\n",
       "      <td>1913</td>\n",
       "      <td>Dr. Jekyll and Mr. Hyde</td>\n",
       "      <td>American</td>\n",
       "      <td>Herbert Brenon and Carl Laemmle</td>\n",
       "      <td>King Baggot</td>\n",
       "      <td>horror</td>\n",
       "      <td>https://en.wikipedia.org/wiki/Dr._Jekyll_and_M...</td>\n",
       "      <td>Dr. Henry Jekyll (King Baggot) sends a note to...</td>\n",
       "    </tr>\n",
       "    <tr>\n",
       "      <th>68</th>\n",
       "      <td>1914</td>\n",
       "      <td>Caught in a Cabaret</td>\n",
       "      <td>American</td>\n",
       "      <td>Mabel Normand</td>\n",
       "      <td>Charlie Chaplin, Mabel Normand, Edgar Kennedy</td>\n",
       "      <td>comedy</td>\n",
       "      <td>https://en.wikipedia.org/wiki/Caught_in_a_Cabaret</td>\n",
       "      <td>Chaplin plays a waiter who fakes being a Greek...</td>\n",
       "    </tr>\n",
       "    <tr>\n",
       "      <th>71</th>\n",
       "      <td>1914</td>\n",
       "      <td>Cruel, Cruel Love</td>\n",
       "      <td>American</td>\n",
       "      <td>George Nichols and Mack Sennett</td>\n",
       "      <td>Charlie Chaplin, Edgar Kennedy, Minta Durfee</td>\n",
       "      <td>comedy</td>\n",
       "      <td>https://en.wikipedia.org/wiki/Cruel,_Cruel_Love</td>\n",
       "      <td>Chaplin plays a character quite different from...</td>\n",
       "    </tr>\n",
       "    <tr>\n",
       "      <th>80</th>\n",
       "      <td>1914</td>\n",
       "      <td>Charlie Chaplin</td>\n",
       "      <td>American</td>\n",
       "      <td>Charlie Chaplin, Mabel Normand</td>\n",
       "      <td>Comedy</td>\n",
       "      <td>unknown</td>\n",
       "      <td>https://en.wikipedia.org/wiki/His_Trysting_Place</td>\n",
       "      <td>Charlie and his friend Ambrose meet in a resta...</td>\n",
       "    </tr>\n",
       "    <tr>\n",
       "      <th>86</th>\n",
       "      <td>1914</td>\n",
       "      <td>Mabel at the Wheel</td>\n",
       "      <td>American</td>\n",
       "      <td>Mabel Normand, Mack Sennett</td>\n",
       "      <td>Charlie Chaplin, Mabel Normand</td>\n",
       "      <td>comedy</td>\n",
       "      <td>https://en.wikipedia.org/wiki/Mabel_at_the_Wheel</td>\n",
       "      <td>Charlie offers Mabel a ride on his two-seater ...</td>\n",
       "    </tr>\n",
       "    <tr>\n",
       "      <th>87</th>\n",
       "      <td>1914</td>\n",
       "      <td>Mabel's Blunder</td>\n",
       "      <td>American</td>\n",
       "      <td>Mabel Normand</td>\n",
       "      <td>Mabel Normand, Charly Chase, Al St. John</td>\n",
       "      <td>comedy</td>\n",
       "      <td>https://en.wikipedia.org/wiki/Mabel%27s_Blunder</td>\n",
       "      <td>Mabel's Blunder tells the tale of a young woma...</td>\n",
       "    </tr>\n",
       "    <tr>\n",
       "      <th>367</th>\n",
       "      <td>1921</td>\n",
       "      <td>The Adventures of Tarzan</td>\n",
       "      <td>American</td>\n",
       "      <td>Robert F. Hill and Scott Sidney</td>\n",
       "      <td>NaN</td>\n",
       "      <td>unknown</td>\n",
       "      <td>https://en.wikipedia.org/wiki/The_Adventures_o...</td>\n",
       "      <td>Tarzan rescues Jane from Arab slave-traders af...</td>\n",
       "    </tr>\n",
       "    <tr>\n",
       "      <th>408</th>\n",
       "      <td>1921</td>\n",
       "      <td>The Sea Lion</td>\n",
       "      <td>American</td>\n",
       "      <td>Rowland V. Lee</td>\n",
       "      <td>Hobart Bosworth, Bessie Love, Emory Johnson</td>\n",
       "      <td>adventure</td>\n",
       "      <td>https://en.wikipedia.org/wiki/The_Sea_Lion</td>\n",
       "      <td>Captain John Nelson (Hobart Bosworth) and his ...</td>\n",
       "    </tr>\n",
       "    <tr>\n",
       "      <th>413</th>\n",
       "      <td>1921</td>\n",
       "      <td>The Silver Lining</td>\n",
       "      <td>American</td>\n",
       "      <td>Roland West</td>\n",
       "      <td>Leslie Austin</td>\n",
       "      <td>drama</td>\n",
       "      <td>https://en.wikipedia.org/wiki/The_Silver_Linin...</td>\n",
       "      <td>While discussing heredity, a man recalls the s...</td>\n",
       "    </tr>\n",
       "    <tr>\n",
       "      <th>465</th>\n",
       "      <td>1923</td>\n",
       "      <td>Gentle Julia</td>\n",
       "      <td>American</td>\n",
       "      <td>Rowland V. Lee</td>\n",
       "      <td>Bessie Love, Harold Goodwin</td>\n",
       "      <td>romance</td>\n",
       "      <td>https://en.wikipedia.org/wiki/Gentle_Julia_(19...</td>\n",
       "      <td>Julia (Bessie Love) is a \"small-town heartbrea...</td>\n",
       "    </tr>\n",
       "    <tr>\n",
       "      <th>516</th>\n",
       "      <td>1924</td>\n",
       "      <td>Three Weeks</td>\n",
       "      <td>American</td>\n",
       "      <td>Alan Crosland</td>\n",
       "      <td>Conrad Nagel, Aileen Pringle</td>\n",
       "      <td>romance drama</td>\n",
       "      <td>https://en.wikipedia.org/wiki/Three_Weeks_(film)</td>\n",
       "      <td>The Queen of Sardalia is in a bad marriage wit...</td>\n",
       "    </tr>\n",
       "    <tr>\n",
       "      <th>574</th>\n",
       "      <td>1926</td>\n",
       "      <td>The Bat</td>\n",
       "      <td>American</td>\n",
       "      <td>Roland West</td>\n",
       "      <td>Tullio Carminati, Charles Herzinger, Jewel Car...</td>\n",
       "      <td>mystery, thriller</td>\n",
       "      <td>https://en.wikipedia.org/wiki/The_Bat_(1926_film)</td>\n",
       "      <td>Gideon Bell, owner of the Favre Emeralds, rece...</td>\n",
       "    </tr>\n",
       "    <tr>\n",
       "      <th>588</th>\n",
       "      <td>1926</td>\n",
       "      <td>Don Juan</td>\n",
       "      <td>American</td>\n",
       "      <td>Alan Crosland</td>\n",
       "      <td>John Barrymore, Mary Astor, Warner Oland, Este...</td>\n",
       "      <td>adventure</td>\n",
       "      <td>https://en.wikipedia.org/wiki/Don_Juan_(1926_f...</td>\n",
       "      <td>In the prologue, Don José, warned of his wife'...</td>\n",
       "    </tr>\n",
       "    <tr>\n",
       "      <th>626</th>\n",
       "      <td>1927</td>\n",
       "      <td>Chang: A Drama of the Wilderness</td>\n",
       "      <td>American</td>\n",
       "      <td>Merian Cooper and Ernest B. Schoedsack</td>\n",
       "      <td>Kru, Chantui, Nah, Ladah, Bimbo</td>\n",
       "      <td>semi-staged documentary</td>\n",
       "      <td>https://en.wikipedia.org/wiki/Chang:_A_Drama_o...</td>\n",
       "      <td>In the directors' own words, Chang is a \"melod...</td>\n",
       "    </tr>\n",
       "    <tr>\n",
       "      <th>642</th>\n",
       "      <td>1927</td>\n",
       "      <td>The Jazz Singer</td>\n",
       "      <td>American</td>\n",
       "      <td>Alan Crosland</td>\n",
       "      <td>Al Jolson, May McAvoy</td>\n",
       "      <td>drama</td>\n",
       "      <td>https://en.wikipedia.org/wiki/The_Jazz_Singer</td>\n",
       "      <td>Cantor Rabinowitz wants his son to carry on th...</td>\n",
       "    </tr>\n",
       "    <tr>\n",
       "      <th>664</th>\n",
       "      <td>1927</td>\n",
       "      <td>When a Man Loves</td>\n",
       "      <td>American</td>\n",
       "      <td>Alan Crosland</td>\n",
       "      <td>John Barrymore, Dolores Costello</td>\n",
       "      <td>historical drama</td>\n",
       "      <td>https://en.wikipedia.org/wiki/When_a_Man_Loves</td>\n",
       "      <td>Chevalier Fabien des Grieux, who has forsworn ...</td>\n",
       "    </tr>\n",
       "    <tr>\n",
       "      <th>685</th>\n",
       "      <td>1928</td>\n",
       "      <td>Doomsday</td>\n",
       "      <td>American</td>\n",
       "      <td>Rowland V. Lee</td>\n",
       "      <td>Florence Vidor, Gary Cooper</td>\n",
       "      <td>drama</td>\n",
       "      <td>https://en.wikipedia.org/wiki/Doomsday_(1928_f...</td>\n",
       "      <td>In Sussex, England after the Great War, former...</td>\n",
       "    </tr>\n",
       "  </tbody>\n",
       "</table>\n",
       "</div>"
      ]
     },
     "execution_count": 252,
     "metadata": {},
     "output_type": "execute_result"
    }
   ],
   "execution_count": 252
  },
  {
   "metadata": {},
   "cell_type": "markdown",
   "source": "There are many director values with the string 'and' since some names contain 'and' this is not a data quality issue. We have to check if and with spaces is used as a separator.",
   "id": "f633012b14c90b8f"
  },
  {
   "metadata": {
    "ExecuteTime": {
     "end_time": "2024-06-11T15:48:00.917115Z",
     "start_time": "2024-06-11T15:48:00.904447Z"
    }
   },
   "cell_type": "code",
   "source": [
    "# display the number of 'and' directors with spaces\n",
    "director_and = df['director'].str.lower().str.contains(' and').sum()\n",
    "print(\"There are {} directors with ' and' in the name\".format(director_and))"
   ],
   "id": "3f677ad1dae51974",
   "outputs": [
    {
     "name": "stdout",
     "output_type": "stream",
     "text": [
      "There are 210 directors with ' and' in the name\n"
     ]
    }
   ],
   "execution_count": 253
  },
  {
   "metadata": {
    "ExecuteTime": {
     "end_time": "2024-06-11T15:48:01.208673Z",
     "start_time": "2024-06-11T15:48:01.195973Z"
    }
   },
   "cell_type": "code",
   "source": [
    "director_and = df['director'].str.lower().str.contains(' and ').sum()\n",
    "print(\"There are {} directors with ' and ' in the name\".format(director_and))"
   ],
   "id": "f7e0460a18fbf593",
   "outputs": [
    {
     "name": "stdout",
     "output_type": "stream",
     "text": [
      "There are 81 directors with ' and ' in the name\n"
     ]
    }
   ],
   "execution_count": 254
  },
  {
   "metadata": {
    "ExecuteTime": {
     "end_time": "2024-06-11T15:48:01.439507Z",
     "start_time": "2024-06-11T15:48:01.422849Z"
    }
   },
   "cell_type": "code",
   "source": [
    "director_and = df['director'].str.lower().str.contains('and ').sum()\n",
    "print(\"There are {} directors with 'and ' in the name\".format(director_and))"
   ],
   "id": "ee2a9eeafdf4cef6",
   "outputs": [
    {
     "name": "stdout",
     "output_type": "stream",
     "text": [
      "There are 174 directors with 'and ' in the name\n"
     ]
    }
   ],
   "execution_count": 255
  },
  {
   "metadata": {
    "ExecuteTime": {
     "end_time": "2024-06-11T15:48:01.750083Z",
     "start_time": "2024-06-11T15:48:01.732725Z"
    }
   },
   "cell_type": "code",
   "source": [
    "# display records with a director containing ' and '\n",
    "director_and = df[df['director'].str.lower().str.contains(' and', na=False)]\n",
    "director_and"
   ],
   "id": "1b666615a588691a",
   "outputs": [
    {
     "data": {
      "text/plain": [
       "       release_year                                              title  \\\n",
       "10             1906                           Dream of a Rarebit Fiend   \n",
       "11             1906  From Leadville to Aspen: A Hold-Up in the Rockies   \n",
       "13             1907                                       Daniel Boone   \n",
       "55             1913                            Dr. Jekyll and Mr. Hyde   \n",
       "71             1914                                  Cruel, Cruel Love   \n",
       "...             ...                                                ...   \n",
       "34229          2014                                          Leviathan   \n",
       "34247          2015                                            Warrior   \n",
       "34257          2016                        Mafia: The Game of Survival   \n",
       "34271          2016                                  Panfilov's 28 Men   \n",
       "34279          2017                                          Guardians   \n",
       "\n",
       "      origin_ethnicity                                  director  \\\n",
       "10            American    Wallace McCutcheon and Edwin S. Porter   \n",
       "11            American  Francis J. Marion and Wallace McCutcheon   \n",
       "13            American   Wallace McCutcheon and Ediwin S. Porter   \n",
       "55            American           Herbert Brenon and Carl Laemmle   \n",
       "71            American           George Nichols and Mack Sennett   \n",
       "...                ...                                       ...   \n",
       "34229          Russian              Director: Andrey Zvyagintsev   \n",
       "34247          Russian                         Aleksey Andrianov   \n",
       "34257          Russian                          Sarik Andreasyan   \n",
       "34271          Russian             Kim Druzhinin, Andrei Shalopa   \n",
       "34279          Russian                          Sarik Andreasyan   \n",
       "\n",
       "                                                    cast  \\\n",
       "10                                                   NaN   \n",
       "11                                                   NaN   \n",
       "13                     William Craven, Florence Lawrence   \n",
       "55                                           King Baggot   \n",
       "71          Charlie Chaplin, Edgar Kennedy, Minta Durfee   \n",
       "...                                                  ...   \n",
       "34229  Director: Andrey Zvyagintsev\\r\\nCast: Aleksei ...   \n",
       "34247  Sergey Bondarchuk,\\r\\nVladimir Yaglych,\\r\\nFed...   \n",
       "34257  Viktor Verzhbitsky,\\r\\nVeniamin Smekhov,\\r\\nYu...   \n",
       "34271  Aleksandr Ustyugov,\\r\\nYakov Kucherevskiy,\\r\\n...   \n",
       "34279  Anton Pampushnyy,\\r\\nSanzhar Madiyev,\\r\\nSebas...   \n",
       "\n",
       "                            genre  \\\n",
       "10                          short   \n",
       "11     short action/crime western   \n",
       "13                   biographical   \n",
       "55                         horror   \n",
       "71                         comedy   \n",
       "...                           ...   \n",
       "34229                     unknown   \n",
       "34247                  sport film   \n",
       "34257                     unknown   \n",
       "34271                     unknown   \n",
       "34279                     unknown   \n",
       "\n",
       "                                               wiki_page  \\\n",
       "10     https://en.wikipedia.org/wiki/Dream_of_a_Rareb...   \n",
       "11     https://en.wikipedia.org/wiki/From_Leadville_t...   \n",
       "13     https://en.wikipedia.org/wiki/Daniel_Boone_(19...   \n",
       "55     https://en.wikipedia.org/wiki/Dr._Jekyll_and_M...   \n",
       "71       https://en.wikipedia.org/wiki/Cruel,_Cruel_Love   \n",
       "...                                                  ...   \n",
       "34229  https://en.wikipedia.org/wiki/Leviathan_(2014_...   \n",
       "34247  https://en.wikipedia.org/wiki/Warrior_(2015_film)   \n",
       "34257  https://en.wikipedia.org/wiki/Mafia:_The_Game_...   \n",
       "34271  https://en.wikipedia.org/wiki/Panfilov%27s_28_Men   \n",
       "34279     https://en.wikipedia.org/wiki/Guardians_(film)   \n",
       "\n",
       "                                                    plot  \n",
       "10     The Rarebit Fiend gorges on Welsh rarebit at a...  \n",
       "11     The film features a train traveling through th...  \n",
       "13     Boone's daughter befriends an Indian maiden as...  \n",
       "55     Dr. Henry Jekyll (King Baggot) sends a note to...  \n",
       "71     Chaplin plays a character quite different from...  \n",
       "...                                                  ...  \n",
       "34229  Set in fictional town of Pribrezhny (shot in t...  \n",
       "34247  The film tells the story of two brothers - Rom...  \n",
       "34257  Moscow, 2072. The card game Mafia became the m...  \n",
       "34271  USSR, late November 1941. Based on the account...  \n",
       "34279  During the Cold War, a secret organization kno...  \n",
       "\n",
       "[210 rows x 8 columns]"
      ],
      "text/html": [
       "<div>\n",
       "<style scoped>\n",
       "    .dataframe tbody tr th:only-of-type {\n",
       "        vertical-align: middle;\n",
       "    }\n",
       "\n",
       "    .dataframe tbody tr th {\n",
       "        vertical-align: top;\n",
       "    }\n",
       "\n",
       "    .dataframe thead th {\n",
       "        text-align: right;\n",
       "    }\n",
       "</style>\n",
       "<table border=\"1\" class=\"dataframe\">\n",
       "  <thead>\n",
       "    <tr style=\"text-align: right;\">\n",
       "      <th></th>\n",
       "      <th>release_year</th>\n",
       "      <th>title</th>\n",
       "      <th>origin_ethnicity</th>\n",
       "      <th>director</th>\n",
       "      <th>cast</th>\n",
       "      <th>genre</th>\n",
       "      <th>wiki_page</th>\n",
       "      <th>plot</th>\n",
       "    </tr>\n",
       "  </thead>\n",
       "  <tbody>\n",
       "    <tr>\n",
       "      <th>10</th>\n",
       "      <td>1906</td>\n",
       "      <td>Dream of a Rarebit Fiend</td>\n",
       "      <td>American</td>\n",
       "      <td>Wallace McCutcheon and Edwin S. Porter</td>\n",
       "      <td>NaN</td>\n",
       "      <td>short</td>\n",
       "      <td>https://en.wikipedia.org/wiki/Dream_of_a_Rareb...</td>\n",
       "      <td>The Rarebit Fiend gorges on Welsh rarebit at a...</td>\n",
       "    </tr>\n",
       "    <tr>\n",
       "      <th>11</th>\n",
       "      <td>1906</td>\n",
       "      <td>From Leadville to Aspen: A Hold-Up in the Rockies</td>\n",
       "      <td>American</td>\n",
       "      <td>Francis J. Marion and Wallace McCutcheon</td>\n",
       "      <td>NaN</td>\n",
       "      <td>short action/crime western</td>\n",
       "      <td>https://en.wikipedia.org/wiki/From_Leadville_t...</td>\n",
       "      <td>The film features a train traveling through th...</td>\n",
       "    </tr>\n",
       "    <tr>\n",
       "      <th>13</th>\n",
       "      <td>1907</td>\n",
       "      <td>Daniel Boone</td>\n",
       "      <td>American</td>\n",
       "      <td>Wallace McCutcheon and Ediwin S. Porter</td>\n",
       "      <td>William Craven, Florence Lawrence</td>\n",
       "      <td>biographical</td>\n",
       "      <td>https://en.wikipedia.org/wiki/Daniel_Boone_(19...</td>\n",
       "      <td>Boone's daughter befriends an Indian maiden as...</td>\n",
       "    </tr>\n",
       "    <tr>\n",
       "      <th>55</th>\n",
       "      <td>1913</td>\n",
       "      <td>Dr. Jekyll and Mr. Hyde</td>\n",
       "      <td>American</td>\n",
       "      <td>Herbert Brenon and Carl Laemmle</td>\n",
       "      <td>King Baggot</td>\n",
       "      <td>horror</td>\n",
       "      <td>https://en.wikipedia.org/wiki/Dr._Jekyll_and_M...</td>\n",
       "      <td>Dr. Henry Jekyll (King Baggot) sends a note to...</td>\n",
       "    </tr>\n",
       "    <tr>\n",
       "      <th>71</th>\n",
       "      <td>1914</td>\n",
       "      <td>Cruel, Cruel Love</td>\n",
       "      <td>American</td>\n",
       "      <td>George Nichols and Mack Sennett</td>\n",
       "      <td>Charlie Chaplin, Edgar Kennedy, Minta Durfee</td>\n",
       "      <td>comedy</td>\n",
       "      <td>https://en.wikipedia.org/wiki/Cruel,_Cruel_Love</td>\n",
       "      <td>Chaplin plays a character quite different from...</td>\n",
       "    </tr>\n",
       "    <tr>\n",
       "      <th>...</th>\n",
       "      <td>...</td>\n",
       "      <td>...</td>\n",
       "      <td>...</td>\n",
       "      <td>...</td>\n",
       "      <td>...</td>\n",
       "      <td>...</td>\n",
       "      <td>...</td>\n",
       "      <td>...</td>\n",
       "    </tr>\n",
       "    <tr>\n",
       "      <th>34229</th>\n",
       "      <td>2014</td>\n",
       "      <td>Leviathan</td>\n",
       "      <td>Russian</td>\n",
       "      <td>Director: Andrey Zvyagintsev</td>\n",
       "      <td>Director: Andrey Zvyagintsev\\r\\nCast: Aleksei ...</td>\n",
       "      <td>unknown</td>\n",
       "      <td>https://en.wikipedia.org/wiki/Leviathan_(2014_...</td>\n",
       "      <td>Set in fictional town of Pribrezhny (shot in t...</td>\n",
       "    </tr>\n",
       "    <tr>\n",
       "      <th>34247</th>\n",
       "      <td>2015</td>\n",
       "      <td>Warrior</td>\n",
       "      <td>Russian</td>\n",
       "      <td>Aleksey Andrianov</td>\n",
       "      <td>Sergey Bondarchuk,\\r\\nVladimir Yaglych,\\r\\nFed...</td>\n",
       "      <td>sport film</td>\n",
       "      <td>https://en.wikipedia.org/wiki/Warrior_(2015_film)</td>\n",
       "      <td>The film tells the story of two brothers - Rom...</td>\n",
       "    </tr>\n",
       "    <tr>\n",
       "      <th>34257</th>\n",
       "      <td>2016</td>\n",
       "      <td>Mafia: The Game of Survival</td>\n",
       "      <td>Russian</td>\n",
       "      <td>Sarik Andreasyan</td>\n",
       "      <td>Viktor Verzhbitsky,\\r\\nVeniamin Smekhov,\\r\\nYu...</td>\n",
       "      <td>unknown</td>\n",
       "      <td>https://en.wikipedia.org/wiki/Mafia:_The_Game_...</td>\n",
       "      <td>Moscow, 2072. The card game Mafia became the m...</td>\n",
       "    </tr>\n",
       "    <tr>\n",
       "      <th>34271</th>\n",
       "      <td>2016</td>\n",
       "      <td>Panfilov's 28 Men</td>\n",
       "      <td>Russian</td>\n",
       "      <td>Kim Druzhinin, Andrei Shalopa</td>\n",
       "      <td>Aleksandr Ustyugov,\\r\\nYakov Kucherevskiy,\\r\\n...</td>\n",
       "      <td>unknown</td>\n",
       "      <td>https://en.wikipedia.org/wiki/Panfilov%27s_28_Men</td>\n",
       "      <td>USSR, late November 1941. Based on the account...</td>\n",
       "    </tr>\n",
       "    <tr>\n",
       "      <th>34279</th>\n",
       "      <td>2017</td>\n",
       "      <td>Guardians</td>\n",
       "      <td>Russian</td>\n",
       "      <td>Sarik Andreasyan</td>\n",
       "      <td>Anton Pampushnyy,\\r\\nSanzhar Madiyev,\\r\\nSebas...</td>\n",
       "      <td>unknown</td>\n",
       "      <td>https://en.wikipedia.org/wiki/Guardians_(film)</td>\n",
       "      <td>During the Cold War, a secret organization kno...</td>\n",
       "    </tr>\n",
       "  </tbody>\n",
       "</table>\n",
       "<p>210 rows × 8 columns</p>\n",
       "</div>"
      ]
     },
     "execution_count": 256,
     "metadata": {},
     "output_type": "execute_result"
    }
   ],
   "execution_count": 256
  },
  {
   "metadata": {},
   "cell_type": "markdown",
   "source": [
    "#### Summary\n",
    "- The director column has no missing values.\n",
    "- There are no empty strings in the director column.\n",
    "- There are duplicates in the director column. This is normal because there are movies with the same director.\n",
    "- There are no empty values in the director column.\n",
    "- The director column contains 'unknown' values. Because the dataset was crawled from wikipedia it is possible that the director is not known.\n",
    "- The director column has multiple directors separated by a comma or and."
   ],
   "id": "f288564f330432b7"
  },
  {
   "metadata": {},
   "cell_type": "markdown",
   "source": "#### 2.1.5 Check: cast",
   "id": "23d1f8539bf5537c"
  },
  {
   "metadata": {},
   "cell_type": "markdown",
   "source": "#### Show values",
   "id": "aea4d6ddd0a530d4"
  },
  {
   "metadata": {
    "ExecuteTime": {
     "end_time": "2024-06-11T15:48:01.931841Z",
     "start_time": "2024-06-11T15:48:01.917006Z"
    }
   },
   "cell_type": "code",
   "source": [
    "# display values for the cast column\n",
    "df['cast'].value_counts()"
   ],
   "id": "d3492ec37875911d",
   "outputs": [
    {
     "data": {
      "text/plain": [
       "cast\n",
       "Tom and Jerry                                                80\n",
       "Three Stooges                                                56\n",
       "The Three Stooges                                            47\n",
       "Looney Tunes                                                 37\n",
       "Bugs Bunny                                                   36\n",
       "                                                             ..\n",
       "Steve Martin, Goldie Hawn, Dana Delany                        1\n",
       "Nicolas Cage, James Caan, Sarah Jessica Parker                1\n",
       "Rick Moranis, Marcia Strassman                                1\n",
       "Macaulay Culkin, Joe Pesci, Daniel Stern                      1\n",
       "Halit Ergenç, Tuba Büyüküstün, Mehmet Günsür, Nejat İşler     1\n",
       "Name: count, Length: 32182, dtype: int64"
      ]
     },
     "execution_count": 257,
     "metadata": {},
     "output_type": "execute_result"
    }
   ],
   "execution_count": 257
  },
  {
   "metadata": {},
   "cell_type": "markdown",
   "source": "#### Missing Values",
   "id": "da54d9f0966905cb"
  },
  {
   "metadata": {
    "ExecuteTime": {
     "end_time": "2024-06-11T15:48:02.130298Z",
     "start_time": "2024-06-11T15:48:02.126256Z"
    }
   },
   "cell_type": "code",
   "source": [
    "# check for missing values in the cast column\n",
    "missing_cast = df['cast'].isna().sum()\n",
    "print(\"There are {} missing values in the cast column\".format(missing_cast))"
   ],
   "id": "655888c8d67c9e85",
   "outputs": [
    {
     "name": "stdout",
     "output_type": "stream",
     "text": [
      "There are 1422 missing values in the cast column\n"
     ]
    }
   ],
   "execution_count": 258
  },
  {
   "metadata": {},
   "cell_type": "markdown",
   "source": "#### Empty Strings",
   "id": "d48028b001404ecf"
  },
  {
   "metadata": {
    "ExecuteTime": {
     "end_time": "2024-06-11T15:48:02.453067Z",
     "start_time": "2024-06-11T15:48:02.444063Z"
    }
   },
   "cell_type": "code",
   "source": [
    "# check for empty strings in the cast column\n",
    "empty_cast = df[df['cast'].str.strip() == ''].shape[0]\n",
    "print(\"There are {} movies with an empty cast\".format(empty_cast))"
   ],
   "id": "95bbcfad9f3a6a9a",
   "outputs": [
    {
     "name": "stdout",
     "output_type": "stream",
     "text": [
      "There are 32 movies with an empty cast\n"
     ]
    }
   ],
   "execution_count": 259
  },
  {
   "metadata": {
    "ExecuteTime": {
     "end_time": "2024-06-11T15:48:02.640573Z",
     "start_time": "2024-06-11T15:48:02.627167Z"
    }
   },
   "cell_type": "code",
   "source": [
    "# display the rows with an empty cast\n",
    "df[df['cast'].str.strip() == '']"
   ],
   "id": "46dad49024354c6f",
   "outputs": [
    {
     "data": {
      "text/plain": [
       "       release_year                         title origin_ethnicity  \\\n",
       "27572          1990                  Kshanakkathu        Malayalam   \n",
       "27575          1990                        Vyuham        Malayalam   \n",
       "27579          1990                     Parampara        Malayalam   \n",
       "27585          1991  Aavanikunnile Kinnaripookkal        Malayalam   \n",
       "27589          1991              Parallel College        Malayalam   \n",
       "27597          1991                     Adayallam        Malayalam   \n",
       "27607          1991                 Kilukkampetti        Malayalam   \n",
       "27609          1991                       Yamanam        Malayalam   \n",
       "27618          1992                      Kavacham        Malayalam   \n",
       "27621          1992                     Apaaratha        Malayalam   \n",
       "27630          1992                   Mahanagaram        Malayalam   \n",
       "27638          1992              Ellarum Chollanu        Malayalam   \n",
       "27640          1992                     Swaroopam        Malayalam   \n",
       "27695          1994                        Swaham        Malayalam   \n",
       "27698          1994               Santhanagopalam        Malayalam   \n",
       "27699          1994                  Ponthan Mada        Malayalam   \n",
       "27700          1994       Daivathinte Vikrithikal        Malayalam   \n",
       "27701          1994                   Bhaagyavaan        Malayalam   \n",
       "27702          1994                      Vidheyan        Malayalam   \n",
       "27704          1995                Sargavasantham        Malayalam   \n",
       "27713          1995                      Saadaram        Malayalam   \n",
       "27717          1995                  Thirumanassu        Malayalam   \n",
       "27719          1995         Ormakalundayirikkanam        Malayalam   \n",
       "27720          1995               Kidilol Kidilam        Malayalam   \n",
       "27726          1995                      Sakshyam        Malayalam   \n",
       "27727          1995                        Arabia        Malayalam   \n",
       "27729          1995      Vrudhanmare Sookshikkuka        Malayalam   \n",
       "27900          2005             Manjupeyyum Munpe        Malayalam   \n",
       "27919          2005               Thiruvilayaadal        Malayalam   \n",
       "27980          2007                        A.K.G.        Malayalam   \n",
       "27981          2007                 Thakarachenda        Malayalam   \n",
       "27995          2007   Happy Days - Telugu dubbing        Malayalam   \n",
       "\n",
       "               director cast    genre  \\\n",
       "27572      Rajeev Kumar       unknown   \n",
       "27575    Sangeeth Sivan       unknown   \n",
       "27579      Sibi Malayil       unknown   \n",
       "27585         Paul Babu       unknown   \n",
       "27589        Thulasidas       unknown   \n",
       "27597          K. Madhu       unknown   \n",
       "27607      Shaji Kailas       unknown   \n",
       "27609      Bharath Gopi       unknown   \n",
       "27618          K. Madhu       unknown   \n",
       "27621        I. V. Sasi       unknown   \n",
       "27630       Rajiv Kumar       unknown   \n",
       "27638        Kaladharan       unknown   \n",
       "27640     K. R. Mohanan       unknown   \n",
       "27695    Shaji N. Karun       unknown   \n",
       "27698                         unknown   \n",
       "27699                         unknown   \n",
       "27700                         unknown   \n",
       "27701                         unknown   \n",
       "27702                         unknown   \n",
       "27704          Anil Das       unknown   \n",
       "27713       Jose Thomas       unknown   \n",
       "27717  Aswathi Gopinath       unknown   \n",
       "27719    T. V. Chandran       unknown   \n",
       "27720           Paulson       unknown   \n",
       "27726             Mohan       unknown   \n",
       "27727           Jayaraj       unknown   \n",
       "27729                         unknown   \n",
       "27900                         unknown   \n",
       "27919      AP Nagarajan       unknown   \n",
       "27980    Shaji N. Karun       unknown   \n",
       "27981      Avira Rabeka       unknown   \n",
       "27995     Shekar Kamula       unknown   \n",
       "\n",
       "                                               wiki_page  \\\n",
       "27572         https://en.wikipedia.org/wiki/Kshanakkathu   \n",
       "27575        https://en.wikipedia.org/wiki/Vyuham_(film)   \n",
       "27579  https://en.wikipedia.org/wiki/Parampara_(1990_...   \n",
       "27585  https://en.wikipedia.org/wiki/Aavanikunnile_Ki...   \n",
       "27589  https://en.wikipedia.org/wiki/Parallel_College...   \n",
       "27597            https://en.wikipedia.org/wiki/Adayallam   \n",
       "27607        https://en.wikipedia.org/wiki/Kilukkampetti   \n",
       "27609              https://en.wikipedia.org/wiki/Yamanam   \n",
       "27618             https://en.wikipedia.org/wiki/Kavacham   \n",
       "27621            https://en.wikipedia.org/wiki/Apaaratha   \n",
       "27630          https://en.wikipedia.org/wiki/Mahanagaram   \n",
       "27638     https://en.wikipedia.org/wiki/Ellarum_Chollanu   \n",
       "27640            https://en.wikipedia.org/wiki/Swaroopam   \n",
       "27695               https://en.wikipedia.org/wiki/Swaham   \n",
       "27698      https://en.wikipedia.org/wiki/Santhanagopalam   \n",
       "27699         https://en.wikipedia.org/wiki/Ponthan_Mada   \n",
       "27700  https://en.wikipedia.org/wiki/Daivathinte_Vikr...   \n",
       "27701          https://en.wikipedia.org/wiki/Bhaagyavaan   \n",
       "27702             https://en.wikipedia.org/wiki/Vidheyan   \n",
       "27704       https://en.wikipedia.org/wiki/Sargavasantham   \n",
       "27713             https://en.wikipedia.org/wiki/Saadaram   \n",
       "27717         https://en.wikipedia.org/wiki/Thirumanassu   \n",
       "27719  https://en.wikipedia.org/wiki/Ormakalundayirik...   \n",
       "27720      https://en.wikipedia.org/wiki/Kidilol_Kidilam   \n",
       "27726             https://en.wikipedia.org/wiki/Sakshyam   \n",
       "27727        https://en.wikipedia.org/wiki/Arabia_(film)   \n",
       "27729  https://en.wikipedia.org/wiki/Vrudhanmare_Sook...   \n",
       "27900    https://en.wikipedia.org/wiki/Manjupeyyum_Munpe   \n",
       "27919      https://en.wikipedia.org/wiki/Thiruvilayaadal   \n",
       "27980        https://en.wikipedia.org/wiki/A.K.G._(film)   \n",
       "27981        https://en.wikipedia.org/wiki/Thakarachenda   \n",
       "27995  https://en.wikipedia.org/wiki/Happy_Days_(2007...   \n",
       "\n",
       "                                                    plot  \n",
       "27572  Parvathy is a reserved girl who did her school...  \n",
       "27575  An undercover agent, Tony Leous was hired by K...  \n",
       "27579  When his son is kidnapped by a rival gang, Joh...  \n",
       "27585  Dr. Rajalakshmi (KR Vijaya) is still grieving ...  \n",
       "27589  To overcome his girlfriend's suicide, Ananthan...  \n",
       "27597  Latha (Rekha), daughter of Menon (K. P. Ummer)...  \n",
       "27607  Prakash Menon (Jayaram) is a successful archit...  \n",
       "27609  A physically disabled girl Ambili (Archana) is...  \n",
       "27618  Kavacham is the story of 2 friends Raghuvaran ...  \n",
       "27621             Apaaratha is an emotional family film.  \n",
       "27630  The movie commences with a smuggling sequence ...  \n",
       "27638  The story is around Ramachandran (Mukesh) who ...  \n",
       "27640  Shekharan is a farmer. He lives in the country...  \n",
       "27695  Annapoorna lives with her son and daughter, an...  \n",
       "27698  Thilakan is a worker at a factory and his fami...  \n",
       "27699  Ponthan Mada is based on two short stories, Po...  \n",
       "27700  The story begins in 1954, when the French, the...  \n",
       "27701  Balu(Sreenivasan) is a post graduate; but unem...  \n",
       "27702  Thommy, a Christian migrant labourer from Kera...  \n",
       "27704    The film portrays a superstitious Hindu family.  \n",
       "27713  Though a lawyer by profession, Raghunandan Men...  \n",
       "27717  Nadan who find himself for falling in love wit...  \n",
       "27719  The film is set against the backdrop of the fi...  \n",
       "27720  The whole story is framed to be happen in a lo...  \n",
       "27726  The movie sketches through the life of an Army...  \n",
       "27727  Place Dharmapuri has got a very poor king who ...  \n",
       "27729  Friends Sathyaraj and Dharmaraj, disguised as ...  \n",
       "27900  Siva (Sivaji) is a modern guy who falls in lov...  \n",
       "27919  Lord Shiva gives a sacred Mango fruit, brought...  \n",
       "27980  AKG (P Sreekumar) must use a model Way and the...  \n",
       "27981  The film is set in a slum in Ernakulam and foc...  \n",
       "27995  Happy Days tells us a story that explores the ...  "
      ],
      "text/html": [
       "<div>\n",
       "<style scoped>\n",
       "    .dataframe tbody tr th:only-of-type {\n",
       "        vertical-align: middle;\n",
       "    }\n",
       "\n",
       "    .dataframe tbody tr th {\n",
       "        vertical-align: top;\n",
       "    }\n",
       "\n",
       "    .dataframe thead th {\n",
       "        text-align: right;\n",
       "    }\n",
       "</style>\n",
       "<table border=\"1\" class=\"dataframe\">\n",
       "  <thead>\n",
       "    <tr style=\"text-align: right;\">\n",
       "      <th></th>\n",
       "      <th>release_year</th>\n",
       "      <th>title</th>\n",
       "      <th>origin_ethnicity</th>\n",
       "      <th>director</th>\n",
       "      <th>cast</th>\n",
       "      <th>genre</th>\n",
       "      <th>wiki_page</th>\n",
       "      <th>plot</th>\n",
       "    </tr>\n",
       "  </thead>\n",
       "  <tbody>\n",
       "    <tr>\n",
       "      <th>27572</th>\n",
       "      <td>1990</td>\n",
       "      <td>Kshanakkathu</td>\n",
       "      <td>Malayalam</td>\n",
       "      <td>Rajeev Kumar</td>\n",
       "      <td></td>\n",
       "      <td>unknown</td>\n",
       "      <td>https://en.wikipedia.org/wiki/Kshanakkathu</td>\n",
       "      <td>Parvathy is a reserved girl who did her school...</td>\n",
       "    </tr>\n",
       "    <tr>\n",
       "      <th>27575</th>\n",
       "      <td>1990</td>\n",
       "      <td>Vyuham</td>\n",
       "      <td>Malayalam</td>\n",
       "      <td>Sangeeth Sivan</td>\n",
       "      <td></td>\n",
       "      <td>unknown</td>\n",
       "      <td>https://en.wikipedia.org/wiki/Vyuham_(film)</td>\n",
       "      <td>An undercover agent, Tony Leous was hired by K...</td>\n",
       "    </tr>\n",
       "    <tr>\n",
       "      <th>27579</th>\n",
       "      <td>1990</td>\n",
       "      <td>Parampara</td>\n",
       "      <td>Malayalam</td>\n",
       "      <td>Sibi Malayil</td>\n",
       "      <td></td>\n",
       "      <td>unknown</td>\n",
       "      <td>https://en.wikipedia.org/wiki/Parampara_(1990_...</td>\n",
       "      <td>When his son is kidnapped by a rival gang, Joh...</td>\n",
       "    </tr>\n",
       "    <tr>\n",
       "      <th>27585</th>\n",
       "      <td>1991</td>\n",
       "      <td>Aavanikunnile Kinnaripookkal</td>\n",
       "      <td>Malayalam</td>\n",
       "      <td>Paul Babu</td>\n",
       "      <td></td>\n",
       "      <td>unknown</td>\n",
       "      <td>https://en.wikipedia.org/wiki/Aavanikunnile_Ki...</td>\n",
       "      <td>Dr. Rajalakshmi (KR Vijaya) is still grieving ...</td>\n",
       "    </tr>\n",
       "    <tr>\n",
       "      <th>27589</th>\n",
       "      <td>1991</td>\n",
       "      <td>Parallel College</td>\n",
       "      <td>Malayalam</td>\n",
       "      <td>Thulasidas</td>\n",
       "      <td></td>\n",
       "      <td>unknown</td>\n",
       "      <td>https://en.wikipedia.org/wiki/Parallel_College...</td>\n",
       "      <td>To overcome his girlfriend's suicide, Ananthan...</td>\n",
       "    </tr>\n",
       "    <tr>\n",
       "      <th>27597</th>\n",
       "      <td>1991</td>\n",
       "      <td>Adayallam</td>\n",
       "      <td>Malayalam</td>\n",
       "      <td>K. Madhu</td>\n",
       "      <td></td>\n",
       "      <td>unknown</td>\n",
       "      <td>https://en.wikipedia.org/wiki/Adayallam</td>\n",
       "      <td>Latha (Rekha), daughter of Menon (K. P. Ummer)...</td>\n",
       "    </tr>\n",
       "    <tr>\n",
       "      <th>27607</th>\n",
       "      <td>1991</td>\n",
       "      <td>Kilukkampetti</td>\n",
       "      <td>Malayalam</td>\n",
       "      <td>Shaji Kailas</td>\n",
       "      <td></td>\n",
       "      <td>unknown</td>\n",
       "      <td>https://en.wikipedia.org/wiki/Kilukkampetti</td>\n",
       "      <td>Prakash Menon (Jayaram) is a successful archit...</td>\n",
       "    </tr>\n",
       "    <tr>\n",
       "      <th>27609</th>\n",
       "      <td>1991</td>\n",
       "      <td>Yamanam</td>\n",
       "      <td>Malayalam</td>\n",
       "      <td>Bharath Gopi</td>\n",
       "      <td></td>\n",
       "      <td>unknown</td>\n",
       "      <td>https://en.wikipedia.org/wiki/Yamanam</td>\n",
       "      <td>A physically disabled girl Ambili (Archana) is...</td>\n",
       "    </tr>\n",
       "    <tr>\n",
       "      <th>27618</th>\n",
       "      <td>1992</td>\n",
       "      <td>Kavacham</td>\n",
       "      <td>Malayalam</td>\n",
       "      <td>K. Madhu</td>\n",
       "      <td></td>\n",
       "      <td>unknown</td>\n",
       "      <td>https://en.wikipedia.org/wiki/Kavacham</td>\n",
       "      <td>Kavacham is the story of 2 friends Raghuvaran ...</td>\n",
       "    </tr>\n",
       "    <tr>\n",
       "      <th>27621</th>\n",
       "      <td>1992</td>\n",
       "      <td>Apaaratha</td>\n",
       "      <td>Malayalam</td>\n",
       "      <td>I. V. Sasi</td>\n",
       "      <td></td>\n",
       "      <td>unknown</td>\n",
       "      <td>https://en.wikipedia.org/wiki/Apaaratha</td>\n",
       "      <td>Apaaratha is an emotional family film.</td>\n",
       "    </tr>\n",
       "    <tr>\n",
       "      <th>27630</th>\n",
       "      <td>1992</td>\n",
       "      <td>Mahanagaram</td>\n",
       "      <td>Malayalam</td>\n",
       "      <td>Rajiv Kumar</td>\n",
       "      <td></td>\n",
       "      <td>unknown</td>\n",
       "      <td>https://en.wikipedia.org/wiki/Mahanagaram</td>\n",
       "      <td>The movie commences with a smuggling sequence ...</td>\n",
       "    </tr>\n",
       "    <tr>\n",
       "      <th>27638</th>\n",
       "      <td>1992</td>\n",
       "      <td>Ellarum Chollanu</td>\n",
       "      <td>Malayalam</td>\n",
       "      <td>Kaladharan</td>\n",
       "      <td></td>\n",
       "      <td>unknown</td>\n",
       "      <td>https://en.wikipedia.org/wiki/Ellarum_Chollanu</td>\n",
       "      <td>The story is around Ramachandran (Mukesh) who ...</td>\n",
       "    </tr>\n",
       "    <tr>\n",
       "      <th>27640</th>\n",
       "      <td>1992</td>\n",
       "      <td>Swaroopam</td>\n",
       "      <td>Malayalam</td>\n",
       "      <td>K. R. Mohanan</td>\n",
       "      <td></td>\n",
       "      <td>unknown</td>\n",
       "      <td>https://en.wikipedia.org/wiki/Swaroopam</td>\n",
       "      <td>Shekharan is a farmer. He lives in the country...</td>\n",
       "    </tr>\n",
       "    <tr>\n",
       "      <th>27695</th>\n",
       "      <td>1994</td>\n",
       "      <td>Swaham</td>\n",
       "      <td>Malayalam</td>\n",
       "      <td>Shaji N. Karun</td>\n",
       "      <td></td>\n",
       "      <td>unknown</td>\n",
       "      <td>https://en.wikipedia.org/wiki/Swaham</td>\n",
       "      <td>Annapoorna lives with her son and daughter, an...</td>\n",
       "    </tr>\n",
       "    <tr>\n",
       "      <th>27698</th>\n",
       "      <td>1994</td>\n",
       "      <td>Santhanagopalam</td>\n",
       "      <td>Malayalam</td>\n",
       "      <td></td>\n",
       "      <td></td>\n",
       "      <td>unknown</td>\n",
       "      <td>https://en.wikipedia.org/wiki/Santhanagopalam</td>\n",
       "      <td>Thilakan is a worker at a factory and his fami...</td>\n",
       "    </tr>\n",
       "    <tr>\n",
       "      <th>27699</th>\n",
       "      <td>1994</td>\n",
       "      <td>Ponthan Mada</td>\n",
       "      <td>Malayalam</td>\n",
       "      <td></td>\n",
       "      <td></td>\n",
       "      <td>unknown</td>\n",
       "      <td>https://en.wikipedia.org/wiki/Ponthan_Mada</td>\n",
       "      <td>Ponthan Mada is based on two short stories, Po...</td>\n",
       "    </tr>\n",
       "    <tr>\n",
       "      <th>27700</th>\n",
       "      <td>1994</td>\n",
       "      <td>Daivathinte Vikrithikal</td>\n",
       "      <td>Malayalam</td>\n",
       "      <td></td>\n",
       "      <td></td>\n",
       "      <td>unknown</td>\n",
       "      <td>https://en.wikipedia.org/wiki/Daivathinte_Vikr...</td>\n",
       "      <td>The story begins in 1954, when the French, the...</td>\n",
       "    </tr>\n",
       "    <tr>\n",
       "      <th>27701</th>\n",
       "      <td>1994</td>\n",
       "      <td>Bhaagyavaan</td>\n",
       "      <td>Malayalam</td>\n",
       "      <td></td>\n",
       "      <td></td>\n",
       "      <td>unknown</td>\n",
       "      <td>https://en.wikipedia.org/wiki/Bhaagyavaan</td>\n",
       "      <td>Balu(Sreenivasan) is a post graduate; but unem...</td>\n",
       "    </tr>\n",
       "    <tr>\n",
       "      <th>27702</th>\n",
       "      <td>1994</td>\n",
       "      <td>Vidheyan</td>\n",
       "      <td>Malayalam</td>\n",
       "      <td></td>\n",
       "      <td></td>\n",
       "      <td>unknown</td>\n",
       "      <td>https://en.wikipedia.org/wiki/Vidheyan</td>\n",
       "      <td>Thommy, a Christian migrant labourer from Kera...</td>\n",
       "    </tr>\n",
       "    <tr>\n",
       "      <th>27704</th>\n",
       "      <td>1995</td>\n",
       "      <td>Sargavasantham</td>\n",
       "      <td>Malayalam</td>\n",
       "      <td>Anil Das</td>\n",
       "      <td></td>\n",
       "      <td>unknown</td>\n",
       "      <td>https://en.wikipedia.org/wiki/Sargavasantham</td>\n",
       "      <td>The film portrays a superstitious Hindu family.</td>\n",
       "    </tr>\n",
       "    <tr>\n",
       "      <th>27713</th>\n",
       "      <td>1995</td>\n",
       "      <td>Saadaram</td>\n",
       "      <td>Malayalam</td>\n",
       "      <td>Jose Thomas</td>\n",
       "      <td></td>\n",
       "      <td>unknown</td>\n",
       "      <td>https://en.wikipedia.org/wiki/Saadaram</td>\n",
       "      <td>Though a lawyer by profession, Raghunandan Men...</td>\n",
       "    </tr>\n",
       "    <tr>\n",
       "      <th>27717</th>\n",
       "      <td>1995</td>\n",
       "      <td>Thirumanassu</td>\n",
       "      <td>Malayalam</td>\n",
       "      <td>Aswathi Gopinath</td>\n",
       "      <td></td>\n",
       "      <td>unknown</td>\n",
       "      <td>https://en.wikipedia.org/wiki/Thirumanassu</td>\n",
       "      <td>Nadan who find himself for falling in love wit...</td>\n",
       "    </tr>\n",
       "    <tr>\n",
       "      <th>27719</th>\n",
       "      <td>1995</td>\n",
       "      <td>Ormakalundayirikkanam</td>\n",
       "      <td>Malayalam</td>\n",
       "      <td>T. V. Chandran</td>\n",
       "      <td></td>\n",
       "      <td>unknown</td>\n",
       "      <td>https://en.wikipedia.org/wiki/Ormakalundayirik...</td>\n",
       "      <td>The film is set against the backdrop of the fi...</td>\n",
       "    </tr>\n",
       "    <tr>\n",
       "      <th>27720</th>\n",
       "      <td>1995</td>\n",
       "      <td>Kidilol Kidilam</td>\n",
       "      <td>Malayalam</td>\n",
       "      <td>Paulson</td>\n",
       "      <td></td>\n",
       "      <td>unknown</td>\n",
       "      <td>https://en.wikipedia.org/wiki/Kidilol_Kidilam</td>\n",
       "      <td>The whole story is framed to be happen in a lo...</td>\n",
       "    </tr>\n",
       "    <tr>\n",
       "      <th>27726</th>\n",
       "      <td>1995</td>\n",
       "      <td>Sakshyam</td>\n",
       "      <td>Malayalam</td>\n",
       "      <td>Mohan</td>\n",
       "      <td></td>\n",
       "      <td>unknown</td>\n",
       "      <td>https://en.wikipedia.org/wiki/Sakshyam</td>\n",
       "      <td>The movie sketches through the life of an Army...</td>\n",
       "    </tr>\n",
       "    <tr>\n",
       "      <th>27727</th>\n",
       "      <td>1995</td>\n",
       "      <td>Arabia</td>\n",
       "      <td>Malayalam</td>\n",
       "      <td>Jayaraj</td>\n",
       "      <td></td>\n",
       "      <td>unknown</td>\n",
       "      <td>https://en.wikipedia.org/wiki/Arabia_(film)</td>\n",
       "      <td>Place Dharmapuri has got a very poor king who ...</td>\n",
       "    </tr>\n",
       "    <tr>\n",
       "      <th>27729</th>\n",
       "      <td>1995</td>\n",
       "      <td>Vrudhanmare Sookshikkuka</td>\n",
       "      <td>Malayalam</td>\n",
       "      <td></td>\n",
       "      <td></td>\n",
       "      <td>unknown</td>\n",
       "      <td>https://en.wikipedia.org/wiki/Vrudhanmare_Sook...</td>\n",
       "      <td>Friends Sathyaraj and Dharmaraj, disguised as ...</td>\n",
       "    </tr>\n",
       "    <tr>\n",
       "      <th>27900</th>\n",
       "      <td>2005</td>\n",
       "      <td>Manjupeyyum Munpe</td>\n",
       "      <td>Malayalam</td>\n",
       "      <td></td>\n",
       "      <td></td>\n",
       "      <td>unknown</td>\n",
       "      <td>https://en.wikipedia.org/wiki/Manjupeyyum_Munpe</td>\n",
       "      <td>Siva (Sivaji) is a modern guy who falls in lov...</td>\n",
       "    </tr>\n",
       "    <tr>\n",
       "      <th>27919</th>\n",
       "      <td>2005</td>\n",
       "      <td>Thiruvilayaadal</td>\n",
       "      <td>Malayalam</td>\n",
       "      <td>AP Nagarajan</td>\n",
       "      <td></td>\n",
       "      <td>unknown</td>\n",
       "      <td>https://en.wikipedia.org/wiki/Thiruvilayaadal</td>\n",
       "      <td>Lord Shiva gives a sacred Mango fruit, brought...</td>\n",
       "    </tr>\n",
       "    <tr>\n",
       "      <th>27980</th>\n",
       "      <td>2007</td>\n",
       "      <td>A.K.G.</td>\n",
       "      <td>Malayalam</td>\n",
       "      <td>Shaji N. Karun</td>\n",
       "      <td></td>\n",
       "      <td>unknown</td>\n",
       "      <td>https://en.wikipedia.org/wiki/A.K.G._(film)</td>\n",
       "      <td>AKG (P Sreekumar) must use a model Way and the...</td>\n",
       "    </tr>\n",
       "    <tr>\n",
       "      <th>27981</th>\n",
       "      <td>2007</td>\n",
       "      <td>Thakarachenda</td>\n",
       "      <td>Malayalam</td>\n",
       "      <td>Avira Rabeka</td>\n",
       "      <td></td>\n",
       "      <td>unknown</td>\n",
       "      <td>https://en.wikipedia.org/wiki/Thakarachenda</td>\n",
       "      <td>The film is set in a slum in Ernakulam and foc...</td>\n",
       "    </tr>\n",
       "    <tr>\n",
       "      <th>27995</th>\n",
       "      <td>2007</td>\n",
       "      <td>Happy Days - Telugu dubbing</td>\n",
       "      <td>Malayalam</td>\n",
       "      <td>Shekar Kamula</td>\n",
       "      <td></td>\n",
       "      <td>unknown</td>\n",
       "      <td>https://en.wikipedia.org/wiki/Happy_Days_(2007...</td>\n",
       "      <td>Happy Days tells us a story that explores the ...</td>\n",
       "    </tr>\n",
       "  </tbody>\n",
       "</table>\n",
       "</div>"
      ]
     },
     "execution_count": 260,
     "metadata": {},
     "output_type": "execute_result"
    }
   ],
   "execution_count": 260
  },
  {
   "metadata": {},
   "cell_type": "markdown",
   "source": "There are many movies with an empty cast. Those values will be replaced with 'unknown' because the cast is not known.",
   "id": "f45ecd2179cedc68"
  },
  {
   "metadata": {},
   "cell_type": "markdown",
   "source": "#### Duplicates",
   "id": "c3bdc79682dceafa"
  },
  {
   "metadata": {
    "ExecuteTime": {
     "end_time": "2024-06-11T15:48:02.881957Z",
     "start_time": "2024-06-11T15:48:02.878058Z"
    }
   },
   "cell_type": "code",
   "source": [
    "# check for duplicates in the cast column\n",
    "duplicates_cast = df['cast'].duplicated().sum()\n",
    "print(\"There are {} duplicates in the cast column\".format(duplicates_cast))"
   ],
   "id": "e3738878fb516366",
   "outputs": [
    {
     "name": "stdout",
     "output_type": "stream",
     "text": [
      "There are 2703 duplicates in the cast column\n"
     ]
    }
   ],
   "execution_count": 261
  },
  {
   "metadata": {},
   "cell_type": "markdown",
   "source": "There are duplicates in the cast column. This is normal because there are movies with the same cast.",
   "id": "86d5297ea53cbb44"
  },
  {
   "metadata": {},
   "cell_type": "markdown",
   "source": "#### Unknown values",
   "id": "4e2b082ddfdc3cb1"
  },
  {
   "metadata": {
    "ExecuteTime": {
     "end_time": "2024-06-11T15:48:03.052338Z",
     "start_time": "2024-06-11T15:48:03.035279Z"
    }
   },
   "cell_type": "code",
   "source": [
    "# check if there are any 'unknown' values in the cast column\n",
    "unknown_cast = df['cast'].str.lower().str.contains('unknown').sum()\n",
    "print(\"There are {} movies with the cast set to 'unknown'\".format(unknown_cast))"
   ],
   "id": "31e51b0f6d7ad054",
   "outputs": [
    {
     "name": "stdout",
     "output_type": "stream",
     "text": [
      "There are 1 movies with the cast set to 'unknown'\n"
     ]
    }
   ],
   "execution_count": 262
  },
  {
   "metadata": {},
   "cell_type": "markdown",
   "source": "We will display the row to see if this is a data quality issue",
   "id": "d6b849e8ae0b56bb"
  },
  {
   "metadata": {
    "ExecuteTime": {
     "end_time": "2024-06-11T15:48:03.362081Z",
     "start_time": "2024-06-11T15:48:03.343505Z"
    }
   },
   "cell_type": "code",
   "source": [
    "# display the rows with 'unknown' cast\n",
    "cast_unknown = df[df['cast'].str.lower().str.contains('unknown', na=False)]\n",
    "cast_unknown"
   ],
   "id": "b2c89957a15d2ea5",
   "outputs": [
    {
     "data": {
      "text/plain": [
       "    release_year                            title origin_ethnicity director  \\\n",
       "14          1907  How Brown Saw the Baseball Game         American  Unknown   \n",
       "\n",
       "       cast   genre                                          wiki_page  \\\n",
       "14  Unknown  comedy  https://en.wikipedia.org/wiki/How_Brown_Saw_th...   \n",
       "\n",
       "                                                 plot  \n",
       "14  Before heading out to a baseball game at a nea...  "
      ],
      "text/html": [
       "<div>\n",
       "<style scoped>\n",
       "    .dataframe tbody tr th:only-of-type {\n",
       "        vertical-align: middle;\n",
       "    }\n",
       "\n",
       "    .dataframe tbody tr th {\n",
       "        vertical-align: top;\n",
       "    }\n",
       "\n",
       "    .dataframe thead th {\n",
       "        text-align: right;\n",
       "    }\n",
       "</style>\n",
       "<table border=\"1\" class=\"dataframe\">\n",
       "  <thead>\n",
       "    <tr style=\"text-align: right;\">\n",
       "      <th></th>\n",
       "      <th>release_year</th>\n",
       "      <th>title</th>\n",
       "      <th>origin_ethnicity</th>\n",
       "      <th>director</th>\n",
       "      <th>cast</th>\n",
       "      <th>genre</th>\n",
       "      <th>wiki_page</th>\n",
       "      <th>plot</th>\n",
       "    </tr>\n",
       "  </thead>\n",
       "  <tbody>\n",
       "    <tr>\n",
       "      <th>14</th>\n",
       "      <td>1907</td>\n",
       "      <td>How Brown Saw the Baseball Game</td>\n",
       "      <td>American</td>\n",
       "      <td>Unknown</td>\n",
       "      <td>Unknown</td>\n",
       "      <td>comedy</td>\n",
       "      <td>https://en.wikipedia.org/wiki/How_Brown_Saw_th...</td>\n",
       "      <td>Before heading out to a baseball game at a nea...</td>\n",
       "    </tr>\n",
       "  </tbody>\n",
       "</table>\n",
       "</div>"
      ]
     },
     "execution_count": 263,
     "metadata": {},
     "output_type": "execute_result"
    }
   ],
   "execution_count": 263
  },
  {
   "metadata": {
    "ExecuteTime": {
     "end_time": "2024-06-11T15:48:03.521225Z",
     "start_time": "2024-06-11T15:48:03.512871Z"
    }
   },
   "cell_type": "code",
   "source": [
    "# check duplicates for the cast column\n",
    "duplicate_values = df['cast'].duplicated(keep=False)\n",
    "df[duplicate_values]"
   ],
   "id": "8f043f3a83d3cc93",
   "outputs": [
    {
     "data": {
      "text/plain": [
       "       release_year                             title origin_ethnicity  \\\n",
       "0              1901            Kansas Saloon Smashers         American   \n",
       "1              1901     Love by the Light of the Moon         American   \n",
       "2              1901           The Martyred Presidents         American   \n",
       "3              1901  Terrible Teddy, the Grizzly King         American   \n",
       "4              1902            Jack and the Beanstalk         American   \n",
       "...             ...                               ...              ...   \n",
       "34829          2009                   Karanliktakiler          Turkish   \n",
       "34830          2009                               Acı          Turkish   \n",
       "34833          2009                    The Watercolor          Turkish   \n",
       "34836          2009                             Orada          Turkish   \n",
       "34846          2010            Lost Songs of Anatolia          Turkish   \n",
       "\n",
       "                                 director cast        genre  \\\n",
       "0                                 Unknown  NaN      unknown   \n",
       "1                                 Unknown  NaN      unknown   \n",
       "2                                 Unknown  NaN      unknown   \n",
       "3                                 Unknown  NaN      unknown   \n",
       "4      George S. Fleming, Edwin S. Porter  NaN      unknown   \n",
       "...                                   ...  ...          ...   \n",
       "34829                         Çağan Irmak  NaN        drama   \n",
       "34830                             Unknown  NaN      unknown   \n",
       "34833                    Cihat Hazardagli  NaN    animation   \n",
       "34836                             Unknown  NaN      unknown   \n",
       "34846                          Nezih Ünen  NaN  documentary   \n",
       "\n",
       "                                               wiki_page  \\\n",
       "0      https://en.wikipedia.org/wiki/Kansas_Saloon_Sm...   \n",
       "1      https://en.wikipedia.org/wiki/Love_by_the_Ligh...   \n",
       "2      https://en.wikipedia.org/wiki/The_Martyred_Pre...   \n",
       "3      https://en.wikipedia.org/wiki/Terrible_Teddy,_...   \n",
       "4      https://en.wikipedia.org/wiki/Jack_and_the_Bea...   \n",
       "...                                                  ...   \n",
       "34829      https://en.wikipedia.org/wiki/Karanliktakiler   \n",
       "34830      https://en.wikipedia.org/wiki/The_Pain_(film)   \n",
       "34833       https://en.wikipedia.org/wiki/The_Watercolor   \n",
       "34836                https://en.wikipedia.org/wiki/Orada   \n",
       "34846  https://en.wikipedia.org/wiki/Lost_Songs_of_An...   \n",
       "\n",
       "                                                    plot  \n",
       "0      A bartender is working at a saloon, serving dr...  \n",
       "1      The moon, painted with a smiling face hangs ov...  \n",
       "2      The film, just over a minute long, is composed...  \n",
       "3      Lasting just 61 seconds and consisting of two ...  \n",
       "4      The earliest known adaptation of the classic f...  \n",
       "...                                                  ...  \n",
       "34829  Egemen is an advertising agency clerk in his t...  \n",
       "34830  Nesrin is a young girl fighting for freedom, w...  \n",
       "34833  Twelve-year-old Marco has an exclusive talent ...  \n",
       "34836  When the matriarch of an Istanbul family dies ...  \n",
       "34846  A musical journey among the many historic plac...  \n",
       "\n",
       "[3387 rows x 8 columns]"
      ],
      "text/html": [
       "<div>\n",
       "<style scoped>\n",
       "    .dataframe tbody tr th:only-of-type {\n",
       "        vertical-align: middle;\n",
       "    }\n",
       "\n",
       "    .dataframe tbody tr th {\n",
       "        vertical-align: top;\n",
       "    }\n",
       "\n",
       "    .dataframe thead th {\n",
       "        text-align: right;\n",
       "    }\n",
       "</style>\n",
       "<table border=\"1\" class=\"dataframe\">\n",
       "  <thead>\n",
       "    <tr style=\"text-align: right;\">\n",
       "      <th></th>\n",
       "      <th>release_year</th>\n",
       "      <th>title</th>\n",
       "      <th>origin_ethnicity</th>\n",
       "      <th>director</th>\n",
       "      <th>cast</th>\n",
       "      <th>genre</th>\n",
       "      <th>wiki_page</th>\n",
       "      <th>plot</th>\n",
       "    </tr>\n",
       "  </thead>\n",
       "  <tbody>\n",
       "    <tr>\n",
       "      <th>0</th>\n",
       "      <td>1901</td>\n",
       "      <td>Kansas Saloon Smashers</td>\n",
       "      <td>American</td>\n",
       "      <td>Unknown</td>\n",
       "      <td>NaN</td>\n",
       "      <td>unknown</td>\n",
       "      <td>https://en.wikipedia.org/wiki/Kansas_Saloon_Sm...</td>\n",
       "      <td>A bartender is working at a saloon, serving dr...</td>\n",
       "    </tr>\n",
       "    <tr>\n",
       "      <th>1</th>\n",
       "      <td>1901</td>\n",
       "      <td>Love by the Light of the Moon</td>\n",
       "      <td>American</td>\n",
       "      <td>Unknown</td>\n",
       "      <td>NaN</td>\n",
       "      <td>unknown</td>\n",
       "      <td>https://en.wikipedia.org/wiki/Love_by_the_Ligh...</td>\n",
       "      <td>The moon, painted with a smiling face hangs ov...</td>\n",
       "    </tr>\n",
       "    <tr>\n",
       "      <th>2</th>\n",
       "      <td>1901</td>\n",
       "      <td>The Martyred Presidents</td>\n",
       "      <td>American</td>\n",
       "      <td>Unknown</td>\n",
       "      <td>NaN</td>\n",
       "      <td>unknown</td>\n",
       "      <td>https://en.wikipedia.org/wiki/The_Martyred_Pre...</td>\n",
       "      <td>The film, just over a minute long, is composed...</td>\n",
       "    </tr>\n",
       "    <tr>\n",
       "      <th>3</th>\n",
       "      <td>1901</td>\n",
       "      <td>Terrible Teddy, the Grizzly King</td>\n",
       "      <td>American</td>\n",
       "      <td>Unknown</td>\n",
       "      <td>NaN</td>\n",
       "      <td>unknown</td>\n",
       "      <td>https://en.wikipedia.org/wiki/Terrible_Teddy,_...</td>\n",
       "      <td>Lasting just 61 seconds and consisting of two ...</td>\n",
       "    </tr>\n",
       "    <tr>\n",
       "      <th>4</th>\n",
       "      <td>1902</td>\n",
       "      <td>Jack and the Beanstalk</td>\n",
       "      <td>American</td>\n",
       "      <td>George S. Fleming, Edwin S. Porter</td>\n",
       "      <td>NaN</td>\n",
       "      <td>unknown</td>\n",
       "      <td>https://en.wikipedia.org/wiki/Jack_and_the_Bea...</td>\n",
       "      <td>The earliest known adaptation of the classic f...</td>\n",
       "    </tr>\n",
       "    <tr>\n",
       "      <th>...</th>\n",
       "      <td>...</td>\n",
       "      <td>...</td>\n",
       "      <td>...</td>\n",
       "      <td>...</td>\n",
       "      <td>...</td>\n",
       "      <td>...</td>\n",
       "      <td>...</td>\n",
       "      <td>...</td>\n",
       "    </tr>\n",
       "    <tr>\n",
       "      <th>34829</th>\n",
       "      <td>2009</td>\n",
       "      <td>Karanliktakiler</td>\n",
       "      <td>Turkish</td>\n",
       "      <td>Çağan Irmak</td>\n",
       "      <td>NaN</td>\n",
       "      <td>drama</td>\n",
       "      <td>https://en.wikipedia.org/wiki/Karanliktakiler</td>\n",
       "      <td>Egemen is an advertising agency clerk in his t...</td>\n",
       "    </tr>\n",
       "    <tr>\n",
       "      <th>34830</th>\n",
       "      <td>2009</td>\n",
       "      <td>Acı</td>\n",
       "      <td>Turkish</td>\n",
       "      <td>Unknown</td>\n",
       "      <td>NaN</td>\n",
       "      <td>unknown</td>\n",
       "      <td>https://en.wikipedia.org/wiki/The_Pain_(film)</td>\n",
       "      <td>Nesrin is a young girl fighting for freedom, w...</td>\n",
       "    </tr>\n",
       "    <tr>\n",
       "      <th>34833</th>\n",
       "      <td>2009</td>\n",
       "      <td>The Watercolor</td>\n",
       "      <td>Turkish</td>\n",
       "      <td>Cihat Hazardagli</td>\n",
       "      <td>NaN</td>\n",
       "      <td>animation</td>\n",
       "      <td>https://en.wikipedia.org/wiki/The_Watercolor</td>\n",
       "      <td>Twelve-year-old Marco has an exclusive talent ...</td>\n",
       "    </tr>\n",
       "    <tr>\n",
       "      <th>34836</th>\n",
       "      <td>2009</td>\n",
       "      <td>Orada</td>\n",
       "      <td>Turkish</td>\n",
       "      <td>Unknown</td>\n",
       "      <td>NaN</td>\n",
       "      <td>unknown</td>\n",
       "      <td>https://en.wikipedia.org/wiki/Orada</td>\n",
       "      <td>When the matriarch of an Istanbul family dies ...</td>\n",
       "    </tr>\n",
       "    <tr>\n",
       "      <th>34846</th>\n",
       "      <td>2010</td>\n",
       "      <td>Lost Songs of Anatolia</td>\n",
       "      <td>Turkish</td>\n",
       "      <td>Nezih Ünen</td>\n",
       "      <td>NaN</td>\n",
       "      <td>documentary</td>\n",
       "      <td>https://en.wikipedia.org/wiki/Lost_Songs_of_An...</td>\n",
       "      <td>A musical journey among the many historic plac...</td>\n",
       "    </tr>\n",
       "  </tbody>\n",
       "</table>\n",
       "<p>3387 rows × 8 columns</p>\n",
       "</div>"
      ]
     },
     "execution_count": 264,
     "metadata": {},
     "output_type": "execute_result"
    }
   ],
   "execution_count": 264
  },
  {
   "metadata": {},
   "cell_type": "markdown",
   "source": [
    "There are movies with the same cast which is normal because there are movies with same actors.\n",
    "Still there is some need for improving the data quality."
   ],
   "id": "a2584245d21417d8"
  },
  {
   "metadata": {},
   "cell_type": "markdown",
   "source": "#### Multiple Values",
   "id": "5e7942664199c7b4"
  },
  {
   "metadata": {
    "ExecuteTime": {
     "end_time": "2024-06-11T15:48:03.908893Z",
     "start_time": "2024-06-11T15:48:03.892235Z"
    }
   },
   "cell_type": "code",
   "source": [
    "# check if there are multiple cast per movie\n",
    "multiple_cast = df['cast'].str.lower().str.contains(',').sum()\n",
    "print(\"There are {} movies with multiple cast based on comma separator\".format(multiple_cast))"
   ],
   "id": "aec784f6c990b86c",
   "outputs": [
    {
     "name": "stdout",
     "output_type": "stream",
     "text": [
      "There are 30878 movies with multiple cast based on comma separator\n"
     ]
    }
   ],
   "execution_count": 265
  },
  {
   "metadata": {},
   "cell_type": "markdown",
   "source": "There are many records with a comma which means that there can be multiple cast separated by a comma. This needs to be cleaned and further investigated.",
   "id": "57498380b48fc628"
  },
  {
   "metadata": {
    "ExecuteTime": {
     "end_time": "2024-06-11T15:48:04.202672Z",
     "start_time": "2024-06-11T15:48:04.184150Z"
    }
   },
   "cell_type": "code",
   "source": [
    "# check if there are any cast with 'and' in the name\n",
    "cast_with_and = df['cast'].str.lower().str.contains('and').sum()\n",
    "print(\"There are {} cast with 'and' in the name\".format(cast_with_and))"
   ],
   "id": "a37de2491f94bef3",
   "outputs": [
    {
     "name": "stdout",
     "output_type": "stream",
     "text": [
      "There are 4347 cast with 'and' in the name\n"
     ]
    }
   ],
   "execution_count": 266
  },
  {
   "metadata": {
    "ExecuteTime": {
     "end_time": "2024-06-11T15:48:04.476784Z",
     "start_time": "2024-06-11T15:48:04.448107Z"
    }
   },
   "cell_type": "code",
   "source": [
    "# display the records of 'and' cast excluding NaN\n",
    "cast_and = df[df['cast'].str.lower().str.contains('and', na=False)].head(20)\n",
    "cast_and"
   ],
   "id": "d9dc7a367c8854ab",
   "outputs": [
    {
     "data": {
      "text/plain": [
       "     release_year                              title origin_ethnicity  \\\n",
       "40           1911                  David Copperfield         American   \n",
       "43           1912                       The Deserter         American   \n",
       "52           1913  Barney Oldfield's Race for a Life         American   \n",
       "54           1913               Cohen Saves the Flag         American   \n",
       "68           1914                Caught in a Cabaret         American   \n",
       "74           1914                     A Film Johnnie         American   \n",
       "76           1914                 Gentlemen of Nerve         American   \n",
       "77           1914                 Getting Acquainted         American   \n",
       "86           1914                 Mabel at the Wheel         American   \n",
       "87           1914                    Mabel's Blunder         American   \n",
       "88           1914               Mabel's Married Life         American   \n",
       "89           1914        Mabel's Strange Predicament         American   \n",
       "93           1914                    The New Janitor         American   \n",
       "100          1914            Should a Woman Divorce?         American   \n",
       "104          1914         Tillie's Punctured Romance         American   \n",
       "107          1915                      Anna Karenina         American   \n",
       "130          1916       20,000 Leagues Under the Sea         American   \n",
       "136          1916           Divorce and the Daughter         American   \n",
       "137          1916             Fatty and Mabel Adrift         American   \n",
       "152          1916                 The Stepping Stone         American   \n",
       "\n",
       "                            director  \\\n",
       "40                  Theodore Marston   \n",
       "43                    Thomas H. Ince   \n",
       "52                      Mack Sennett   \n",
       "54                      Mack Sennett   \n",
       "68                     Mabel Normand   \n",
       "74                    George Nichols   \n",
       "76                   Charlie Chaplin   \n",
       "77                   Charlie Chaplin   \n",
       "86       Mabel Normand, Mack Sennett   \n",
       "87                     Mabel Normand   \n",
       "88                   Charlie Chaplin   \n",
       "89                     Henry Lehrman   \n",
       "93                   Charlie Chaplin   \n",
       "100                      Edwin McKim   \n",
       "104                     Mack Sennett   \n",
       "107                J. Gordon Edwards   \n",
       "130                     Stuart Paton   \n",
       "136               Frederick Sullivan   \n",
       "137          Roscoe \"Fatty\" Arbuckle   \n",
       "152  Reginald Barker, Thomas H. Ince   \n",
       "\n",
       "                                                  cast             genre  \\\n",
       "40   Marie Eline, Florence La Badie, Mignon Anderso...             drama   \n",
       "43                         Francis Ford, Ethel Grandin           unknown   \n",
       "52   Mack Sennett, Mabel Normand, Ford Sterling, Ba...            comedy   \n",
       "54                        Ford Sterling, Mabel Normand            comedy   \n",
       "68       Charlie Chaplin, Mabel Normand, Edgar Kennedy            comedy   \n",
       "74      Charlie Chaplin, Fatty Arbuckle, Mabel Normand           unknown   \n",
       "76     Charlie Chaplin, Mabel Normand, Chester Conklin            comedy   \n",
       "77       Charlie Chaplin, Mabel Normand, Phyllis Allen            comedy   \n",
       "86                      Charlie Chaplin, Mabel Normand            comedy   \n",
       "87            Mabel Normand, Charly Chase, Al St. John            comedy   \n",
       "88                      Charlie Chaplin, Mabel Normand            comedy   \n",
       "89                      Charlie Chaplin, Mabel Normand            comedy   \n",
       "93         Charlie Chaplin, Jess Dandy, John T. Dillon            comedy   \n",
       "100                        Lea Leland, Leonid Samoloff             drama   \n",
       "104  Charlie Chaplin, Marie Dressler, Mabel Normand...            comedy   \n",
       "107                       Betty Nansen and Edward José  historical drama   \n",
       "130  Lois Alexander, Curtis Benton, Wallace Clarke,...  action adventure   \n",
       "136  Florence La Badie, Edwin Stanley, Ethelmary Oa...             drama   \n",
       "137             Roscoe \"Fatty\" Arbuckle, Mabel Normand      short comedy   \n",
       "152                          Frank Keenan, Mary Boland             drama   \n",
       "\n",
       "                                             wiki_page  \\\n",
       "40   https://en.wikipedia.org/wiki/David_Copperfiel...   \n",
       "43   https://en.wikipedia.org/wiki/The_Deserter_(19...   \n",
       "52   https://en.wikipedia.org/wiki/Barney_Oldfield%...   \n",
       "54   https://en.wikipedia.org/wiki/Cohen_Saves_the_...   \n",
       "68   https://en.wikipedia.org/wiki/Caught_in_a_Cabaret   \n",
       "74        https://en.wikipedia.org/wiki/A_Film_Johnnie   \n",
       "76    https://en.wikipedia.org/wiki/Gentlemen_of_Nerve   \n",
       "77    https://en.wikipedia.org/wiki/Getting_Acquainted   \n",
       "86    https://en.wikipedia.org/wiki/Mabel_at_the_Wheel   \n",
       "87     https://en.wikipedia.org/wiki/Mabel%27s_Blunder   \n",
       "88   https://en.wikipedia.org/wiki/Mabel%27s_Marrie...   \n",
       "89   https://en.wikipedia.org/wiki/Mabel%27s_Strang...   \n",
       "93       https://en.wikipedia.org/wiki/The_New_Janitor   \n",
       "100  https://en.wikipedia.org/wiki/Should_a_Woman_D...   \n",
       "104  https://en.wikipedia.org/wiki/Tillie%27s_Punct...   \n",
       "107  https://en.wikipedia.org/wiki/Anna_Karenina_(1...   \n",
       "130  https://en.wikipedia.org/wiki/20,000_Leagues_U...   \n",
       "136  https://en.wikipedia.org/wiki/Divorce_and_the_...   \n",
       "137  https://en.wikipedia.org/wiki/Fatty_and_Mabel_...   \n",
       "152   https://en.wikipedia.org/wiki/The_Stepping_Stone   \n",
       "\n",
       "                                                  plot  \n",
       "40   \"David Copperfield consists of three reels and...  \n",
       "43   The story concerns a soldier who deserts his r...  \n",
       "52   Barney Oldfield races a speeding locomotive to...  \n",
       "54   Cohen (Ford Sterling) and his rival Goldberg (...  \n",
       "68   Chaplin plays a waiter who fakes being a Greek...  \n",
       "74   Charlie goes to the movies and falls in love w...  \n",
       "76   Mabel and her beau go to an auto race and are ...  \n",
       "77   In one of Chaplin's \"park comedies\" for Keysto...  \n",
       "86   Charlie offers Mabel a ride on his two-seater ...  \n",
       "87   Mabel's Blunder tells the tale of a young woma...  \n",
       "88   Chaplin, in tramp attire, sits in the park wit...  \n",
       "89   In a hotel lobby a heavily drunk tramp runs in...  \n",
       "93   The hero, a janitor played by Chaplin, is fire...  \n",
       "100  Grace Roberts (played by Lea Leland), marries ...  \n",
       "104  Charles Chaplin portrays a womanizing city man...  \n",
       "107  Anna Karenina is a married aristocrat and soci...  \n",
       "130  A strange giant \"sea creature\" has been rampag...  \n",
       "136  Alicia is a poor girl living in the city with ...  \n",
       "137  The story involves Arbuckle as a farm boy marr...  \n",
       "152  Mary Beresford (Boland) is the wife of unambit...  "
      ],
      "text/html": [
       "<div>\n",
       "<style scoped>\n",
       "    .dataframe tbody tr th:only-of-type {\n",
       "        vertical-align: middle;\n",
       "    }\n",
       "\n",
       "    .dataframe tbody tr th {\n",
       "        vertical-align: top;\n",
       "    }\n",
       "\n",
       "    .dataframe thead th {\n",
       "        text-align: right;\n",
       "    }\n",
       "</style>\n",
       "<table border=\"1\" class=\"dataframe\">\n",
       "  <thead>\n",
       "    <tr style=\"text-align: right;\">\n",
       "      <th></th>\n",
       "      <th>release_year</th>\n",
       "      <th>title</th>\n",
       "      <th>origin_ethnicity</th>\n",
       "      <th>director</th>\n",
       "      <th>cast</th>\n",
       "      <th>genre</th>\n",
       "      <th>wiki_page</th>\n",
       "      <th>plot</th>\n",
       "    </tr>\n",
       "  </thead>\n",
       "  <tbody>\n",
       "    <tr>\n",
       "      <th>40</th>\n",
       "      <td>1911</td>\n",
       "      <td>David Copperfield</td>\n",
       "      <td>American</td>\n",
       "      <td>Theodore Marston</td>\n",
       "      <td>Marie Eline, Florence La Badie, Mignon Anderso...</td>\n",
       "      <td>drama</td>\n",
       "      <td>https://en.wikipedia.org/wiki/David_Copperfiel...</td>\n",
       "      <td>\"David Copperfield consists of three reels and...</td>\n",
       "    </tr>\n",
       "    <tr>\n",
       "      <th>43</th>\n",
       "      <td>1912</td>\n",
       "      <td>The Deserter</td>\n",
       "      <td>American</td>\n",
       "      <td>Thomas H. Ince</td>\n",
       "      <td>Francis Ford, Ethel Grandin</td>\n",
       "      <td>unknown</td>\n",
       "      <td>https://en.wikipedia.org/wiki/The_Deserter_(19...</td>\n",
       "      <td>The story concerns a soldier who deserts his r...</td>\n",
       "    </tr>\n",
       "    <tr>\n",
       "      <th>52</th>\n",
       "      <td>1913</td>\n",
       "      <td>Barney Oldfield's Race for a Life</td>\n",
       "      <td>American</td>\n",
       "      <td>Mack Sennett</td>\n",
       "      <td>Mack Sennett, Mabel Normand, Ford Sterling, Ba...</td>\n",
       "      <td>comedy</td>\n",
       "      <td>https://en.wikipedia.org/wiki/Barney_Oldfield%...</td>\n",
       "      <td>Barney Oldfield races a speeding locomotive to...</td>\n",
       "    </tr>\n",
       "    <tr>\n",
       "      <th>54</th>\n",
       "      <td>1913</td>\n",
       "      <td>Cohen Saves the Flag</td>\n",
       "      <td>American</td>\n",
       "      <td>Mack Sennett</td>\n",
       "      <td>Ford Sterling, Mabel Normand</td>\n",
       "      <td>comedy</td>\n",
       "      <td>https://en.wikipedia.org/wiki/Cohen_Saves_the_...</td>\n",
       "      <td>Cohen (Ford Sterling) and his rival Goldberg (...</td>\n",
       "    </tr>\n",
       "    <tr>\n",
       "      <th>68</th>\n",
       "      <td>1914</td>\n",
       "      <td>Caught in a Cabaret</td>\n",
       "      <td>American</td>\n",
       "      <td>Mabel Normand</td>\n",
       "      <td>Charlie Chaplin, Mabel Normand, Edgar Kennedy</td>\n",
       "      <td>comedy</td>\n",
       "      <td>https://en.wikipedia.org/wiki/Caught_in_a_Cabaret</td>\n",
       "      <td>Chaplin plays a waiter who fakes being a Greek...</td>\n",
       "    </tr>\n",
       "    <tr>\n",
       "      <th>74</th>\n",
       "      <td>1914</td>\n",
       "      <td>A Film Johnnie</td>\n",
       "      <td>American</td>\n",
       "      <td>George Nichols</td>\n",
       "      <td>Charlie Chaplin, Fatty Arbuckle, Mabel Normand</td>\n",
       "      <td>unknown</td>\n",
       "      <td>https://en.wikipedia.org/wiki/A_Film_Johnnie</td>\n",
       "      <td>Charlie goes to the movies and falls in love w...</td>\n",
       "    </tr>\n",
       "    <tr>\n",
       "      <th>76</th>\n",
       "      <td>1914</td>\n",
       "      <td>Gentlemen of Nerve</td>\n",
       "      <td>American</td>\n",
       "      <td>Charlie Chaplin</td>\n",
       "      <td>Charlie Chaplin, Mabel Normand, Chester Conklin</td>\n",
       "      <td>comedy</td>\n",
       "      <td>https://en.wikipedia.org/wiki/Gentlemen_of_Nerve</td>\n",
       "      <td>Mabel and her beau go to an auto race and are ...</td>\n",
       "    </tr>\n",
       "    <tr>\n",
       "      <th>77</th>\n",
       "      <td>1914</td>\n",
       "      <td>Getting Acquainted</td>\n",
       "      <td>American</td>\n",
       "      <td>Charlie Chaplin</td>\n",
       "      <td>Charlie Chaplin, Mabel Normand, Phyllis Allen</td>\n",
       "      <td>comedy</td>\n",
       "      <td>https://en.wikipedia.org/wiki/Getting_Acquainted</td>\n",
       "      <td>In one of Chaplin's \"park comedies\" for Keysto...</td>\n",
       "    </tr>\n",
       "    <tr>\n",
       "      <th>86</th>\n",
       "      <td>1914</td>\n",
       "      <td>Mabel at the Wheel</td>\n",
       "      <td>American</td>\n",
       "      <td>Mabel Normand, Mack Sennett</td>\n",
       "      <td>Charlie Chaplin, Mabel Normand</td>\n",
       "      <td>comedy</td>\n",
       "      <td>https://en.wikipedia.org/wiki/Mabel_at_the_Wheel</td>\n",
       "      <td>Charlie offers Mabel a ride on his two-seater ...</td>\n",
       "    </tr>\n",
       "    <tr>\n",
       "      <th>87</th>\n",
       "      <td>1914</td>\n",
       "      <td>Mabel's Blunder</td>\n",
       "      <td>American</td>\n",
       "      <td>Mabel Normand</td>\n",
       "      <td>Mabel Normand, Charly Chase, Al St. John</td>\n",
       "      <td>comedy</td>\n",
       "      <td>https://en.wikipedia.org/wiki/Mabel%27s_Blunder</td>\n",
       "      <td>Mabel's Blunder tells the tale of a young woma...</td>\n",
       "    </tr>\n",
       "    <tr>\n",
       "      <th>88</th>\n",
       "      <td>1914</td>\n",
       "      <td>Mabel's Married Life</td>\n",
       "      <td>American</td>\n",
       "      <td>Charlie Chaplin</td>\n",
       "      <td>Charlie Chaplin, Mabel Normand</td>\n",
       "      <td>comedy</td>\n",
       "      <td>https://en.wikipedia.org/wiki/Mabel%27s_Marrie...</td>\n",
       "      <td>Chaplin, in tramp attire, sits in the park wit...</td>\n",
       "    </tr>\n",
       "    <tr>\n",
       "      <th>89</th>\n",
       "      <td>1914</td>\n",
       "      <td>Mabel's Strange Predicament</td>\n",
       "      <td>American</td>\n",
       "      <td>Henry Lehrman</td>\n",
       "      <td>Charlie Chaplin, Mabel Normand</td>\n",
       "      <td>comedy</td>\n",
       "      <td>https://en.wikipedia.org/wiki/Mabel%27s_Strang...</td>\n",
       "      <td>In a hotel lobby a heavily drunk tramp runs in...</td>\n",
       "    </tr>\n",
       "    <tr>\n",
       "      <th>93</th>\n",
       "      <td>1914</td>\n",
       "      <td>The New Janitor</td>\n",
       "      <td>American</td>\n",
       "      <td>Charlie Chaplin</td>\n",
       "      <td>Charlie Chaplin, Jess Dandy, John T. Dillon</td>\n",
       "      <td>comedy</td>\n",
       "      <td>https://en.wikipedia.org/wiki/The_New_Janitor</td>\n",
       "      <td>The hero, a janitor played by Chaplin, is fire...</td>\n",
       "    </tr>\n",
       "    <tr>\n",
       "      <th>100</th>\n",
       "      <td>1914</td>\n",
       "      <td>Should a Woman Divorce?</td>\n",
       "      <td>American</td>\n",
       "      <td>Edwin McKim</td>\n",
       "      <td>Lea Leland, Leonid Samoloff</td>\n",
       "      <td>drama</td>\n",
       "      <td>https://en.wikipedia.org/wiki/Should_a_Woman_D...</td>\n",
       "      <td>Grace Roberts (played by Lea Leland), marries ...</td>\n",
       "    </tr>\n",
       "    <tr>\n",
       "      <th>104</th>\n",
       "      <td>1914</td>\n",
       "      <td>Tillie's Punctured Romance</td>\n",
       "      <td>American</td>\n",
       "      <td>Mack Sennett</td>\n",
       "      <td>Charlie Chaplin, Marie Dressler, Mabel Normand...</td>\n",
       "      <td>comedy</td>\n",
       "      <td>https://en.wikipedia.org/wiki/Tillie%27s_Punct...</td>\n",
       "      <td>Charles Chaplin portrays a womanizing city man...</td>\n",
       "    </tr>\n",
       "    <tr>\n",
       "      <th>107</th>\n",
       "      <td>1915</td>\n",
       "      <td>Anna Karenina</td>\n",
       "      <td>American</td>\n",
       "      <td>J. Gordon Edwards</td>\n",
       "      <td>Betty Nansen and Edward José</td>\n",
       "      <td>historical drama</td>\n",
       "      <td>https://en.wikipedia.org/wiki/Anna_Karenina_(1...</td>\n",
       "      <td>Anna Karenina is a married aristocrat and soci...</td>\n",
       "    </tr>\n",
       "    <tr>\n",
       "      <th>130</th>\n",
       "      <td>1916</td>\n",
       "      <td>20,000 Leagues Under the Sea</td>\n",
       "      <td>American</td>\n",
       "      <td>Stuart Paton</td>\n",
       "      <td>Lois Alexander, Curtis Benton, Wallace Clarke,...</td>\n",
       "      <td>action adventure</td>\n",
       "      <td>https://en.wikipedia.org/wiki/20,000_Leagues_U...</td>\n",
       "      <td>A strange giant \"sea creature\" has been rampag...</td>\n",
       "    </tr>\n",
       "    <tr>\n",
       "      <th>136</th>\n",
       "      <td>1916</td>\n",
       "      <td>Divorce and the Daughter</td>\n",
       "      <td>American</td>\n",
       "      <td>Frederick Sullivan</td>\n",
       "      <td>Florence La Badie, Edwin Stanley, Ethelmary Oa...</td>\n",
       "      <td>drama</td>\n",
       "      <td>https://en.wikipedia.org/wiki/Divorce_and_the_...</td>\n",
       "      <td>Alicia is a poor girl living in the city with ...</td>\n",
       "    </tr>\n",
       "    <tr>\n",
       "      <th>137</th>\n",
       "      <td>1916</td>\n",
       "      <td>Fatty and Mabel Adrift</td>\n",
       "      <td>American</td>\n",
       "      <td>Roscoe \"Fatty\" Arbuckle</td>\n",
       "      <td>Roscoe \"Fatty\" Arbuckle, Mabel Normand</td>\n",
       "      <td>short comedy</td>\n",
       "      <td>https://en.wikipedia.org/wiki/Fatty_and_Mabel_...</td>\n",
       "      <td>The story involves Arbuckle as a farm boy marr...</td>\n",
       "    </tr>\n",
       "    <tr>\n",
       "      <th>152</th>\n",
       "      <td>1916</td>\n",
       "      <td>The Stepping Stone</td>\n",
       "      <td>American</td>\n",
       "      <td>Reginald Barker, Thomas H. Ince</td>\n",
       "      <td>Frank Keenan, Mary Boland</td>\n",
       "      <td>drama</td>\n",
       "      <td>https://en.wikipedia.org/wiki/The_Stepping_Stone</td>\n",
       "      <td>Mary Beresford (Boland) is the wife of unambit...</td>\n",
       "    </tr>\n",
       "  </tbody>\n",
       "</table>\n",
       "</div>"
      ]
     },
     "execution_count": 267,
     "metadata": {},
     "output_type": "execute_result"
    }
   ],
   "execution_count": 267
  },
  {
   "metadata": {},
   "cell_type": "markdown",
   "source": "since and is part of some names we have to check values with 'and' and spaces",
   "id": "3927982b8c11a0fd"
  },
  {
   "metadata": {
    "ExecuteTime": {
     "end_time": "2024-06-11T15:48:04.776145Z",
     "start_time": "2024-06-11T15:48:04.757964Z"
    }
   },
   "cell_type": "code",
   "source": [
    "# display the number of 'and' cast with spaces\n",
    "cast_and = df['cast'].str.lower().str.contains(' and').sum()\n",
    "print(\"There are {} cast with ' and' in the name\".format(cast_and))"
   ],
   "id": "c7e73d8e3adf9356",
   "outputs": [
    {
     "name": "stdout",
     "output_type": "stream",
     "text": [
      "There are 925 cast with ' and' in the name\n"
     ]
    }
   ],
   "execution_count": 268
  },
  {
   "metadata": {
    "ExecuteTime": {
     "end_time": "2024-06-11T15:48:04.957732Z",
     "start_time": "2024-06-11T15:48:04.939906Z"
    }
   },
   "cell_type": "code",
   "source": [
    "# display the number of 'and' cast with spaces\n",
    "cast_and = df['cast'].str.lower().str.contains(' and ').sum()\n",
    "print(\"There are {} cast with ' and ' in the name\".format(cast_and))"
   ],
   "id": "3a87de3adac8ea3c",
   "outputs": [
    {
     "name": "stdout",
     "output_type": "stream",
     "text": [
      "There are 358 cast with ' and ' in the name\n"
     ]
    }
   ],
   "execution_count": 269
  },
  {
   "metadata": {
    "ExecuteTime": {
     "end_time": "2024-06-11T15:48:05.152985Z",
     "start_time": "2024-06-11T15:48:05.132184Z"
    }
   },
   "cell_type": "code",
   "source": [
    "# display the records with a cast containing ' and '\n",
    "cast_and = df[df['cast'].str.lower().str.contains(' and ', na=False)]\n",
    "cast_and"
   ],
   "id": "bc57b82906e2fe0f",
   "outputs": [
    {
     "data": {
      "text/plain": [
       "       release_year                           title origin_ethnicity  \\\n",
       "107            1915                   Anna Karenina         American   \n",
       "175            1917             The Little Princess         American   \n",
       "242            1918              Tarzan of the Apes         American   \n",
       "412            1921             Sheltered Daughters         American   \n",
       "463            1923                The Daring Years         American   \n",
       "...             ...                             ...              ...   \n",
       "31673          1965                 Zamindar (film)           Telugu   \n",
       "31686          1967                    Aada Paduchu           Telugu   \n",
       "34058          2017  The Farm: En Veettu Thottathil        Malaysian   \n",
       "34275          2016                          Viking          Russian   \n",
       "34884          2017                Non-Transferable          Turkish   \n",
       "\n",
       "                     director  \\\n",
       "107         J. Gordon Edwards   \n",
       "175           Marshall Neilan   \n",
       "242              Scott Sidney   \n",
       "412             Edward Dillon   \n",
       "463              Kenneth Webb   \n",
       "...                       ...   \n",
       "31673       V. Madhusudan Rao   \n",
       "31686  K. Hemambharadhara Rao   \n",
       "34058        Karthik Shamalan   \n",
       "34275         Andrei Kravchuk   \n",
       "34884         Brendan Bradley   \n",
       "\n",
       "                                                    cast             genre  \\\n",
       "107                         Betty Nansen and Edward José  historical drama   \n",
       "175           Mary Pickford, Norman Kerry and ZaSu Pitts             drama   \n",
       "242                         Elmo Lincoln and Enid Markey         adventure   \n",
       "412    Justine Johnstone, Riley Hatch, and Warner Baxter            comedy   \n",
       "463    Mildred Harris, Charles Emmett Mack and Clara Bow         melodrama   \n",
       "...                                                  ...               ...   \n",
       "31673  Akkineni Nageswara Rao, Krishna Kumari and Nag...          thriller   \n",
       "31686  Shobhan Babu, Chandrakala and Nandamuri Taraka...             drama   \n",
       "34058  Jaya Ganason,Mohanaraj,Mahesan Poobalan, Yugen...      dark slasher   \n",
       "34275  Danila Kozlovsky, Svetlana Khodchenkova and Ig...           unknown   \n",
       "34884  YouTubers Shanna Malcolm, Shira Lazar, Sara Fl...   romantic comedy   \n",
       "\n",
       "                                               wiki_page  \\\n",
       "107    https://en.wikipedia.org/wiki/Anna_Karenina_(1...   \n",
       "175    https://en.wikipedia.org/wiki/The_Little_Princ...   \n",
       "242    https://en.wikipedia.org/wiki/Tarzan_of_the_Ap...   \n",
       "412    https://en.wikipedia.org/wiki/Sheltered_Daughters   \n",
       "463       https://en.wikipedia.org/wiki/The_Daring_Years   \n",
       "...                                                  ...   \n",
       "31673  https://en.wikipedia.org/wiki/Zamindar_(1965_f...   \n",
       "31686         https://en.wikipedia.org/wiki/Aada_Paduchu   \n",
       "34058  https://en.wikipedia.org/wiki/The_Farm:_En_Vee...   \n",
       "34275        https://en.wikipedia.org/wiki/Viking_(film)   \n",
       "34884  https://en.wikipedia.org/wiki/Non-Transferable...   \n",
       "\n",
       "                                                    plot  \n",
       "107    Anna Karenina is a married aristocrat and soci...  \n",
       "175    As described in a film magazine,[2] Sara Crewe...  \n",
       "242    John and Alice Clayton, Lord and Lady Greystok...  \n",
       "412    As described in a film publication,[4] the sto...  \n",
       "463    A university student named John Browning (Char...  \n",
       "...                                                  ...  \n",
       "31673  The film is about a CID Officer who pretends a...  \n",
       "31686  Satyam (N.T.Rama Rao) a middle-class employee ...  \n",
       "34058  Inspired by the popular tale of Red Riding Hoo...  \n",
       "34275  Kievan Rus, late 10th century. After the death...  \n",
       "34884  The film centres around a young woman named Am...  \n",
       "\n",
       "[358 rows x 8 columns]"
      ],
      "text/html": [
       "<div>\n",
       "<style scoped>\n",
       "    .dataframe tbody tr th:only-of-type {\n",
       "        vertical-align: middle;\n",
       "    }\n",
       "\n",
       "    .dataframe tbody tr th {\n",
       "        vertical-align: top;\n",
       "    }\n",
       "\n",
       "    .dataframe thead th {\n",
       "        text-align: right;\n",
       "    }\n",
       "</style>\n",
       "<table border=\"1\" class=\"dataframe\">\n",
       "  <thead>\n",
       "    <tr style=\"text-align: right;\">\n",
       "      <th></th>\n",
       "      <th>release_year</th>\n",
       "      <th>title</th>\n",
       "      <th>origin_ethnicity</th>\n",
       "      <th>director</th>\n",
       "      <th>cast</th>\n",
       "      <th>genre</th>\n",
       "      <th>wiki_page</th>\n",
       "      <th>plot</th>\n",
       "    </tr>\n",
       "  </thead>\n",
       "  <tbody>\n",
       "    <tr>\n",
       "      <th>107</th>\n",
       "      <td>1915</td>\n",
       "      <td>Anna Karenina</td>\n",
       "      <td>American</td>\n",
       "      <td>J. Gordon Edwards</td>\n",
       "      <td>Betty Nansen and Edward José</td>\n",
       "      <td>historical drama</td>\n",
       "      <td>https://en.wikipedia.org/wiki/Anna_Karenina_(1...</td>\n",
       "      <td>Anna Karenina is a married aristocrat and soci...</td>\n",
       "    </tr>\n",
       "    <tr>\n",
       "      <th>175</th>\n",
       "      <td>1917</td>\n",
       "      <td>The Little Princess</td>\n",
       "      <td>American</td>\n",
       "      <td>Marshall Neilan</td>\n",
       "      <td>Mary Pickford, Norman Kerry and ZaSu Pitts</td>\n",
       "      <td>drama</td>\n",
       "      <td>https://en.wikipedia.org/wiki/The_Little_Princ...</td>\n",
       "      <td>As described in a film magazine,[2] Sara Crewe...</td>\n",
       "    </tr>\n",
       "    <tr>\n",
       "      <th>242</th>\n",
       "      <td>1918</td>\n",
       "      <td>Tarzan of the Apes</td>\n",
       "      <td>American</td>\n",
       "      <td>Scott Sidney</td>\n",
       "      <td>Elmo Lincoln and Enid Markey</td>\n",
       "      <td>adventure</td>\n",
       "      <td>https://en.wikipedia.org/wiki/Tarzan_of_the_Ap...</td>\n",
       "      <td>John and Alice Clayton, Lord and Lady Greystok...</td>\n",
       "    </tr>\n",
       "    <tr>\n",
       "      <th>412</th>\n",
       "      <td>1921</td>\n",
       "      <td>Sheltered Daughters</td>\n",
       "      <td>American</td>\n",
       "      <td>Edward Dillon</td>\n",
       "      <td>Justine Johnstone, Riley Hatch, and Warner Baxter</td>\n",
       "      <td>comedy</td>\n",
       "      <td>https://en.wikipedia.org/wiki/Sheltered_Daughters</td>\n",
       "      <td>As described in a film publication,[4] the sto...</td>\n",
       "    </tr>\n",
       "    <tr>\n",
       "      <th>463</th>\n",
       "      <td>1923</td>\n",
       "      <td>The Daring Years</td>\n",
       "      <td>American</td>\n",
       "      <td>Kenneth Webb</td>\n",
       "      <td>Mildred Harris, Charles Emmett Mack and Clara Bow</td>\n",
       "      <td>melodrama</td>\n",
       "      <td>https://en.wikipedia.org/wiki/The_Daring_Years</td>\n",
       "      <td>A university student named John Browning (Char...</td>\n",
       "    </tr>\n",
       "    <tr>\n",
       "      <th>...</th>\n",
       "      <td>...</td>\n",
       "      <td>...</td>\n",
       "      <td>...</td>\n",
       "      <td>...</td>\n",
       "      <td>...</td>\n",
       "      <td>...</td>\n",
       "      <td>...</td>\n",
       "      <td>...</td>\n",
       "    </tr>\n",
       "    <tr>\n",
       "      <th>31673</th>\n",
       "      <td>1965</td>\n",
       "      <td>Zamindar (film)</td>\n",
       "      <td>Telugu</td>\n",
       "      <td>V. Madhusudan Rao</td>\n",
       "      <td>Akkineni Nageswara Rao, Krishna Kumari and Nag...</td>\n",
       "      <td>thriller</td>\n",
       "      <td>https://en.wikipedia.org/wiki/Zamindar_(1965_f...</td>\n",
       "      <td>The film is about a CID Officer who pretends a...</td>\n",
       "    </tr>\n",
       "    <tr>\n",
       "      <th>31686</th>\n",
       "      <td>1967</td>\n",
       "      <td>Aada Paduchu</td>\n",
       "      <td>Telugu</td>\n",
       "      <td>K. Hemambharadhara Rao</td>\n",
       "      <td>Shobhan Babu, Chandrakala and Nandamuri Taraka...</td>\n",
       "      <td>drama</td>\n",
       "      <td>https://en.wikipedia.org/wiki/Aada_Paduchu</td>\n",
       "      <td>Satyam (N.T.Rama Rao) a middle-class employee ...</td>\n",
       "    </tr>\n",
       "    <tr>\n",
       "      <th>34058</th>\n",
       "      <td>2017</td>\n",
       "      <td>The Farm: En Veettu Thottathil</td>\n",
       "      <td>Malaysian</td>\n",
       "      <td>Karthik Shamalan</td>\n",
       "      <td>Jaya Ganason,Mohanaraj,Mahesan Poobalan, Yugen...</td>\n",
       "      <td>dark slasher</td>\n",
       "      <td>https://en.wikipedia.org/wiki/The_Farm:_En_Vee...</td>\n",
       "      <td>Inspired by the popular tale of Red Riding Hoo...</td>\n",
       "    </tr>\n",
       "    <tr>\n",
       "      <th>34275</th>\n",
       "      <td>2016</td>\n",
       "      <td>Viking</td>\n",
       "      <td>Russian</td>\n",
       "      <td>Andrei Kravchuk</td>\n",
       "      <td>Danila Kozlovsky, Svetlana Khodchenkova and Ig...</td>\n",
       "      <td>unknown</td>\n",
       "      <td>https://en.wikipedia.org/wiki/Viking_(film)</td>\n",
       "      <td>Kievan Rus, late 10th century. After the death...</td>\n",
       "    </tr>\n",
       "    <tr>\n",
       "      <th>34884</th>\n",
       "      <td>2017</td>\n",
       "      <td>Non-Transferable</td>\n",
       "      <td>Turkish</td>\n",
       "      <td>Brendan Bradley</td>\n",
       "      <td>YouTubers Shanna Malcolm, Shira Lazar, Sara Fl...</td>\n",
       "      <td>romantic comedy</td>\n",
       "      <td>https://en.wikipedia.org/wiki/Non-Transferable...</td>\n",
       "      <td>The film centres around a young woman named Am...</td>\n",
       "    </tr>\n",
       "  </tbody>\n",
       "</table>\n",
       "<p>358 rows × 8 columns</p>\n",
       "</div>"
      ]
     },
     "execution_count": 270,
     "metadata": {},
     "output_type": "execute_result"
    }
   ],
   "execution_count": 270
  },
  {
   "metadata": {},
   "cell_type": "markdown",
   "source": "There are many cast values with the string 'and' this needs to be cleaned later on.",
   "id": "2c1af2cdaa724e4f"
  },
  {
   "metadata": {},
   "cell_type": "markdown",
   "source": [
    "#### Summary\n",
    "- The cast column has missing values. Those values will be replaced with 'unknown' because the cast is not known.\n",
    "- There are empty strings which will be replaced with 'unknown'.\n",
    "- There are duplicates in the cast column. This is normal because there are movies with the same cast.\n",
    "- The cast column contains 'unknown' values. This is not a data quality issue.\n",
    "- There are multiple cast separated by a comma or 'and'."
   ],
   "id": "95b9db4da7ad65eb"
  },
  {
   "metadata": {},
   "cell_type": "markdown",
   "source": "#### 2.1.6 Check: genre",
   "id": "7560f96baf126339"
  },
  {
   "metadata": {},
   "cell_type": "markdown",
   "source": "#### Show values",
   "id": "effbe8169a9078ec"
  },
  {
   "metadata": {
    "ExecuteTime": {
     "end_time": "2024-06-11T15:48:05.480850Z",
     "start_time": "2024-06-11T15:48:05.475489Z"
    }
   },
   "cell_type": "code",
   "source": [
    "# display values for the genre column\n",
    "df['genre'].value_counts()"
   ],
   "id": "447fae2d307ea91",
   "outputs": [
    {
     "data": {
      "text/plain": [
       "genre\n",
       "unknown                          6083\n",
       "drama                            5964\n",
       "comedy                           4379\n",
       "horror                           1167\n",
       "action                           1098\n",
       "                                 ... \n",
       "cbc-tv miniseries                   1\n",
       "bio-drama                           1\n",
       "national film board docudrama       1\n",
       "cult drama                          1\n",
       "horror romantic comedy              1\n",
       "Name: count, Length: 2265, dtype: int64"
      ]
     },
     "execution_count": 271,
     "metadata": {},
     "output_type": "execute_result"
    }
   ],
   "execution_count": 271
  },
  {
   "metadata": {},
   "cell_type": "markdown",
   "source": "#### Missing Values",
   "id": "2f559cb45dd6f903"
  },
  {
   "metadata": {
    "ExecuteTime": {
     "end_time": "2024-06-11T15:48:05.646981Z",
     "start_time": "2024-06-11T15:48:05.643312Z"
    }
   },
   "cell_type": "code",
   "source": [
    "# check for missing values in the genre column\n",
    "missing_genre = df['genre'].isna().sum()\n",
    "print(\"There are {} missing values in the genre column\".format(missing_genre))"
   ],
   "id": "388dd3880defa6c8",
   "outputs": [
    {
     "name": "stdout",
     "output_type": "stream",
     "text": [
      "There are 0 missing values in the genre column\n"
     ]
    }
   ],
   "execution_count": 272
  },
  {
   "metadata": {},
   "cell_type": "markdown",
   "source": "#### Empty Strings",
   "id": "42d27e281b18982"
  },
  {
   "metadata": {
    "ExecuteTime": {
     "end_time": "2024-06-11T15:48:05.963811Z",
     "start_time": "2024-06-11T15:48:05.955665Z"
    }
   },
   "cell_type": "code",
   "source": [
    "# check for empty strings in the genre column\n",
    "empty_genre = df[df['genre'].str.strip() == ''].shape[0]\n",
    "print(\"There are {} movies with an empty genre\".format(empty_genre))"
   ],
   "id": "876c300a7242b62",
   "outputs": [
    {
     "name": "stdout",
     "output_type": "stream",
     "text": [
      "There are 28 movies with an empty genre\n"
     ]
    }
   ],
   "execution_count": 273
  },
  {
   "metadata": {
    "ExecuteTime": {
     "end_time": "2024-06-11T15:48:06.123015Z",
     "start_time": "2024-06-11T15:48:06.110278Z"
    }
   },
   "cell_type": "code",
   "source": [
    "# display the rows with an empty genre\n",
    "df[df['genre'].str.strip() == '']"
   ],
   "id": "ee34870b0a140d71",
   "outputs": [
    {
     "data": {
      "text/plain": [
       "       release_year                                title origin_ethnicity  \\\n",
       "26166          2003                                Aanch        Bollywood   \n",
       "26167          2003                    Aman Ke Farishtey        Bollywood   \n",
       "26178          2003                        Chota Jadugar        Bollywood   \n",
       "26181          2003                                Dhoop        Bollywood   \n",
       "26185          2003                       Ek Alag Mausam        Bollywood   \n",
       "26186          2003                     Ek Din 24 Ghante        Bollywood   \n",
       "26187          2003  Fun 2shh: Dudes in the 10th Century        Bollywood   \n",
       "26191          2003                             Hawayein        Bollywood   \n",
       "26193          2003                          Indian Babu        Bollywood   \n",
       "26196          2003                Jajantaram Mamantaram        Bollywood   \n",
       "26200          2003        Jodi Kya Banayi Wah Wah Ramji        Bollywood   \n",
       "26201          2003                         Joggers Park        Bollywood   \n",
       "26202          2003             Kagaar: Life on the Edge        Bollywood   \n",
       "26203          2003         Kaise Kahoon Ke... Pyaar Hai        Bollywood   \n",
       "26215          2003                       Mumbai Matinee        Bollywood   \n",
       "26217          2003                        Nayee Padosan        Bollywood   \n",
       "26218          2003                                   Om        Bollywood   \n",
       "26221          2003                      The Pink Mirror        Bollywood   \n",
       "26224          2003                          Raghu Romeo        Bollywood   \n",
       "26228          2003                           Sssshhh...        Bollywood   \n",
       "26229          2003                              Stumped        Bollywood   \n",
       "26231          2003                              Tehzeeb        Bollywood   \n",
       "26234          2003             Tumse Milke Wrong Number        Bollywood   \n",
       "26235          2003           Waisa Bhi Hota Hai Part II        Bollywood   \n",
       "26236          2003              Where's the Party Yaar?        Bollywood   \n",
       "26479          2008                                Tulsi        Bollywood   \n",
       "26500          2008                          Summer 2007        Bollywood   \n",
       "26514          2008                     Mumbai Meri Jaan        Bollywood   \n",
       "\n",
       "                director                                               cast  \\\n",
       "26166            Unknown                         Nana Patekar, Paresh Rawal   \n",
       "26167            Unknown                                                NaN   \n",
       "26178      Jose Punnoose  Suraj Balajee, S.P. Balasubramaniam, Tirlok Ma...   \n",
       "26181            Unknown                      Om Puri, Revathi, Sanjay Suri   \n",
       "26185            Unknown                           Nandita Das, Anupam Kher   \n",
       "26186       Anant Balani                            Rahul Bose, Nandita Das   \n",
       "26187     Imtiaz Punjabi         Gulshan Grover, Paresh Rawal, Farida Jalal   \n",
       "26191            Unknown                                                NaN   \n",
       "26193            Unknown                                                NaN   \n",
       "26196            Unknown                                      Javed Jaffari   \n",
       "26200            Unknown                                                NaN   \n",
       "26201       Anant Balani                 Victor Banerjee, Perizaad Zorabian   \n",
       "26202         N. Chandra                Om Puri, Nandita Das, Amitabh Dayal   \n",
       "26203            Unknown                                         Sunny Deol   \n",
       "26215       Anant Balani      Rahul Bose,Parijat Zorabian, Anusha Dhandekar   \n",
       "26217            Unknown                                                NaN   \n",
       "26218            Unknown                                                NaN   \n",
       "26221            Unknown                                                NaN   \n",
       "26224       Rajat Kapoor                                                NaN   \n",
       "26228            Unknown                                                NaN   \n",
       "26229            Unknown                                                NaN   \n",
       "26231    Khalid Mohammad  Urmila Matondkar, Shabana Azmi, Arjun Rampal, ...   \n",
       "26234            Unknown                                        Tinnu Anand   \n",
       "26235            Unknown   Arshad Warsi, Sandhya Mridul, Prashant Narayanan   \n",
       "26236            Unknown                                            Kal Pen   \n",
       "26479         Ajay Kumar                       Irrfan Khan, Manisha Koirala   \n",
       "26500      Suhail Tatari  Sikandar Kher, Gul Panag, Neetu Chandra, Susan...   \n",
       "26514  Nishikanth Kamath  Kay Kay Menon, Soha Ali Khan, Paresh Rawal, R....   \n",
       "\n",
       "      genre                                          wiki_page  \\\n",
       "26166                      https://en.wikipedia.org/wiki/Aanch   \n",
       "26167          https://en.wikipedia.org/wiki/Aman_Ke_Farishtey   \n",
       "26178              https://en.wikipedia.org/wiki/Chota_Jadugar   \n",
       "26181                      https://en.wikipedia.org/wiki/Dhoop   \n",
       "26185             https://en.wikipedia.org/wiki/Ek_Alag_Mausam   \n",
       "26186           https://en.wikipedia.org/wiki/Ek_Din_24_Ghante   \n",
       "26187        https://en.wikipedia.org/wiki/Fun_2shh:_Dudes_...   \n",
       "26191                   https://en.wikipedia.org/wiki/Hawayein   \n",
       "26193                https://en.wikipedia.org/wiki/Indian_Babu   \n",
       "26196        https://en.wikipedia.org/wiki/Jajantaram_Maman...   \n",
       "26200        https://en.wikipedia.org/wiki/Jodi_Kya_Banayi_...   \n",
       "26201        https://en.wikipedia.org/wiki/Joggers%27_Park_...   \n",
       "26202        https://en.wikipedia.org/wiki/Kagaar:_Life_on_...   \n",
       "26203        https://en.wikipedia.org/wiki/Kaise_Kahoon_Ke....   \n",
       "26215             https://en.wikipedia.org/wiki/Mumbai_Matinee   \n",
       "26217              https://en.wikipedia.org/wiki/Nayee_Padosan   \n",
       "26218             https://en.wikipedia.org/wiki/Om_(2003_film)   \n",
       "26221        https://en.wikipedia.org/wiki/The_Pink_Mirror_...   \n",
       "26224                https://en.wikipedia.org/wiki/Raghu_Romeo   \n",
       "26228                 https://en.wikipedia.org/wiki/Sssshhh...   \n",
       "26229        https://en.wikipedia.org/wiki/Stumped_(2003_film)   \n",
       "26231        https://en.wikipedia.org/wiki/Tehzeeb_(2003_film)   \n",
       "26234        https://en.wikipedia.org/wiki/Tumse_Milke_Wron...   \n",
       "26235        https://en.wikipedia.org/wiki/Waisa_Bhi_Hota_H...   \n",
       "26236        https://en.wikipedia.org/wiki/Where%27s_the_Pa...   \n",
       "26479               https://en.wikipedia.org/wiki/Tulsi_(film)   \n",
       "26500                https://en.wikipedia.org/wiki/Summer_2007   \n",
       "26514           https://en.wikipedia.org/wiki/Mumbai_Meri_Jaan   \n",
       "\n",
       "                                                    plot  \n",
       "26166  Mahadev Thakur (Nana Patekar) and Jawahar Pand...  \n",
       "26167  An extremely notorious mastermind terrorist Sh...  \n",
       "26178  A group of children search for Indrajeet (Sura...  \n",
       "26181  The movie is based on the events surrounding t...  \n",
       "26185  Aparna Verma (Nandita Das), who has been marri...  \n",
       "26186  The film revolves around a father-girl-guy rel...  \n",
       "26187  Mumbai lives in fear of a notorious thief who ...  \n",
       "26191  Hawayein is a film which emerges from the cons...  \n",
       "26193  Dil (Gurline Chopra) is getting engaged to Abh...  \n",
       "26196  Aditya is carried to a magical island where he...  \n",
       "26200  The story is a riotous comedy about a suspense...  \n",
       "26201  The film opens at a Rotary Club function to ho...  \n",
       "26202  Naive, simple-minded, and illiterate Bhaskar S...  \n",
       "26203  Karan (Amit Hongorani) is the son of Lakshmi (...  \n",
       "26215  Debu (Rahul Bose) is a 32-year-old advertising...  \n",
       "26217  The story revolves around the female protagoni...  \n",
       "26218  Om has been banished from Mumbai for a period ...  \n",
       "26221  The film centers around two drag performers: B...  \n",
       "26224  Raghu Romeo (Vijay Raaz) is a guileless man, w...  \n",
       "26228  Late one night, Malini Gujral (Simone Singh) a...  \n",
       "26229  Reena and her husband Major Raghav Seth; Ranga...  \n",
       "26231  Anwar (Rishi Kapoor) and Rukhsana (Shabana Azm...  \n",
       "26234  Mahi Mathur is a beautiful college student lik...  \n",
       "26235  Puneet Sayal (Arshad Warsi) is a copywriter wi...  \n",
       "26236  Harishkumar Satishkumar Patel (Sunil Malhotra)...  \n",
       "26479  Tulsi tells the story of Tulsi (Manisha Koiral...  \n",
       "26500  Rahul (Sikandar Kher), Priyanka (Yuvika Chaudh...  \n",
       "26514  Mumbai Meri Jaan tells the story of five peopl...  "
      ],
      "text/html": [
       "<div>\n",
       "<style scoped>\n",
       "    .dataframe tbody tr th:only-of-type {\n",
       "        vertical-align: middle;\n",
       "    }\n",
       "\n",
       "    .dataframe tbody tr th {\n",
       "        vertical-align: top;\n",
       "    }\n",
       "\n",
       "    .dataframe thead th {\n",
       "        text-align: right;\n",
       "    }\n",
       "</style>\n",
       "<table border=\"1\" class=\"dataframe\">\n",
       "  <thead>\n",
       "    <tr style=\"text-align: right;\">\n",
       "      <th></th>\n",
       "      <th>release_year</th>\n",
       "      <th>title</th>\n",
       "      <th>origin_ethnicity</th>\n",
       "      <th>director</th>\n",
       "      <th>cast</th>\n",
       "      <th>genre</th>\n",
       "      <th>wiki_page</th>\n",
       "      <th>plot</th>\n",
       "    </tr>\n",
       "  </thead>\n",
       "  <tbody>\n",
       "    <tr>\n",
       "      <th>26166</th>\n",
       "      <td>2003</td>\n",
       "      <td>Aanch</td>\n",
       "      <td>Bollywood</td>\n",
       "      <td>Unknown</td>\n",
       "      <td>Nana Patekar, Paresh Rawal</td>\n",
       "      <td></td>\n",
       "      <td>https://en.wikipedia.org/wiki/Aanch</td>\n",
       "      <td>Mahadev Thakur (Nana Patekar) and Jawahar Pand...</td>\n",
       "    </tr>\n",
       "    <tr>\n",
       "      <th>26167</th>\n",
       "      <td>2003</td>\n",
       "      <td>Aman Ke Farishtey</td>\n",
       "      <td>Bollywood</td>\n",
       "      <td>Unknown</td>\n",
       "      <td>NaN</td>\n",
       "      <td></td>\n",
       "      <td>https://en.wikipedia.org/wiki/Aman_Ke_Farishtey</td>\n",
       "      <td>An extremely notorious mastermind terrorist Sh...</td>\n",
       "    </tr>\n",
       "    <tr>\n",
       "      <th>26178</th>\n",
       "      <td>2003</td>\n",
       "      <td>Chota Jadugar</td>\n",
       "      <td>Bollywood</td>\n",
       "      <td>Jose Punnoose</td>\n",
       "      <td>Suraj Balajee, S.P. Balasubramaniam, Tirlok Ma...</td>\n",
       "      <td></td>\n",
       "      <td>https://en.wikipedia.org/wiki/Chota_Jadugar</td>\n",
       "      <td>A group of children search for Indrajeet (Sura...</td>\n",
       "    </tr>\n",
       "    <tr>\n",
       "      <th>26181</th>\n",
       "      <td>2003</td>\n",
       "      <td>Dhoop</td>\n",
       "      <td>Bollywood</td>\n",
       "      <td>Unknown</td>\n",
       "      <td>Om Puri, Revathi, Sanjay Suri</td>\n",
       "      <td></td>\n",
       "      <td>https://en.wikipedia.org/wiki/Dhoop</td>\n",
       "      <td>The movie is based on the events surrounding t...</td>\n",
       "    </tr>\n",
       "    <tr>\n",
       "      <th>26185</th>\n",
       "      <td>2003</td>\n",
       "      <td>Ek Alag Mausam</td>\n",
       "      <td>Bollywood</td>\n",
       "      <td>Unknown</td>\n",
       "      <td>Nandita Das, Anupam Kher</td>\n",
       "      <td></td>\n",
       "      <td>https://en.wikipedia.org/wiki/Ek_Alag_Mausam</td>\n",
       "      <td>Aparna Verma (Nandita Das), who has been marri...</td>\n",
       "    </tr>\n",
       "    <tr>\n",
       "      <th>26186</th>\n",
       "      <td>2003</td>\n",
       "      <td>Ek Din 24 Ghante</td>\n",
       "      <td>Bollywood</td>\n",
       "      <td>Anant Balani</td>\n",
       "      <td>Rahul Bose, Nandita Das</td>\n",
       "      <td></td>\n",
       "      <td>https://en.wikipedia.org/wiki/Ek_Din_24_Ghante</td>\n",
       "      <td>The film revolves around a father-girl-guy rel...</td>\n",
       "    </tr>\n",
       "    <tr>\n",
       "      <th>26187</th>\n",
       "      <td>2003</td>\n",
       "      <td>Fun 2shh: Dudes in the 10th Century</td>\n",
       "      <td>Bollywood</td>\n",
       "      <td>Imtiaz Punjabi</td>\n",
       "      <td>Gulshan Grover, Paresh Rawal, Farida Jalal</td>\n",
       "      <td></td>\n",
       "      <td>https://en.wikipedia.org/wiki/Fun_2shh:_Dudes_...</td>\n",
       "      <td>Mumbai lives in fear of a notorious thief who ...</td>\n",
       "    </tr>\n",
       "    <tr>\n",
       "      <th>26191</th>\n",
       "      <td>2003</td>\n",
       "      <td>Hawayein</td>\n",
       "      <td>Bollywood</td>\n",
       "      <td>Unknown</td>\n",
       "      <td>NaN</td>\n",
       "      <td></td>\n",
       "      <td>https://en.wikipedia.org/wiki/Hawayein</td>\n",
       "      <td>Hawayein is a film which emerges from the cons...</td>\n",
       "    </tr>\n",
       "    <tr>\n",
       "      <th>26193</th>\n",
       "      <td>2003</td>\n",
       "      <td>Indian Babu</td>\n",
       "      <td>Bollywood</td>\n",
       "      <td>Unknown</td>\n",
       "      <td>NaN</td>\n",
       "      <td></td>\n",
       "      <td>https://en.wikipedia.org/wiki/Indian_Babu</td>\n",
       "      <td>Dil (Gurline Chopra) is getting engaged to Abh...</td>\n",
       "    </tr>\n",
       "    <tr>\n",
       "      <th>26196</th>\n",
       "      <td>2003</td>\n",
       "      <td>Jajantaram Mamantaram</td>\n",
       "      <td>Bollywood</td>\n",
       "      <td>Unknown</td>\n",
       "      <td>Javed Jaffari</td>\n",
       "      <td></td>\n",
       "      <td>https://en.wikipedia.org/wiki/Jajantaram_Maman...</td>\n",
       "      <td>Aditya is carried to a magical island where he...</td>\n",
       "    </tr>\n",
       "    <tr>\n",
       "      <th>26200</th>\n",
       "      <td>2003</td>\n",
       "      <td>Jodi Kya Banayi Wah Wah Ramji</td>\n",
       "      <td>Bollywood</td>\n",
       "      <td>Unknown</td>\n",
       "      <td>NaN</td>\n",
       "      <td></td>\n",
       "      <td>https://en.wikipedia.org/wiki/Jodi_Kya_Banayi_...</td>\n",
       "      <td>The story is a riotous comedy about a suspense...</td>\n",
       "    </tr>\n",
       "    <tr>\n",
       "      <th>26201</th>\n",
       "      <td>2003</td>\n",
       "      <td>Joggers Park</td>\n",
       "      <td>Bollywood</td>\n",
       "      <td>Anant Balani</td>\n",
       "      <td>Victor Banerjee, Perizaad Zorabian</td>\n",
       "      <td></td>\n",
       "      <td>https://en.wikipedia.org/wiki/Joggers%27_Park_...</td>\n",
       "      <td>The film opens at a Rotary Club function to ho...</td>\n",
       "    </tr>\n",
       "    <tr>\n",
       "      <th>26202</th>\n",
       "      <td>2003</td>\n",
       "      <td>Kagaar: Life on the Edge</td>\n",
       "      <td>Bollywood</td>\n",
       "      <td>N. Chandra</td>\n",
       "      <td>Om Puri, Nandita Das, Amitabh Dayal</td>\n",
       "      <td></td>\n",
       "      <td>https://en.wikipedia.org/wiki/Kagaar:_Life_on_...</td>\n",
       "      <td>Naive, simple-minded, and illiterate Bhaskar S...</td>\n",
       "    </tr>\n",
       "    <tr>\n",
       "      <th>26203</th>\n",
       "      <td>2003</td>\n",
       "      <td>Kaise Kahoon Ke... Pyaar Hai</td>\n",
       "      <td>Bollywood</td>\n",
       "      <td>Unknown</td>\n",
       "      <td>Sunny Deol</td>\n",
       "      <td></td>\n",
       "      <td>https://en.wikipedia.org/wiki/Kaise_Kahoon_Ke....</td>\n",
       "      <td>Karan (Amit Hongorani) is the son of Lakshmi (...</td>\n",
       "    </tr>\n",
       "    <tr>\n",
       "      <th>26215</th>\n",
       "      <td>2003</td>\n",
       "      <td>Mumbai Matinee</td>\n",
       "      <td>Bollywood</td>\n",
       "      <td>Anant Balani</td>\n",
       "      <td>Rahul Bose,Parijat Zorabian, Anusha Dhandekar</td>\n",
       "      <td></td>\n",
       "      <td>https://en.wikipedia.org/wiki/Mumbai_Matinee</td>\n",
       "      <td>Debu (Rahul Bose) is a 32-year-old advertising...</td>\n",
       "    </tr>\n",
       "    <tr>\n",
       "      <th>26217</th>\n",
       "      <td>2003</td>\n",
       "      <td>Nayee Padosan</td>\n",
       "      <td>Bollywood</td>\n",
       "      <td>Unknown</td>\n",
       "      <td>NaN</td>\n",
       "      <td></td>\n",
       "      <td>https://en.wikipedia.org/wiki/Nayee_Padosan</td>\n",
       "      <td>The story revolves around the female protagoni...</td>\n",
       "    </tr>\n",
       "    <tr>\n",
       "      <th>26218</th>\n",
       "      <td>2003</td>\n",
       "      <td>Om</td>\n",
       "      <td>Bollywood</td>\n",
       "      <td>Unknown</td>\n",
       "      <td>NaN</td>\n",
       "      <td></td>\n",
       "      <td>https://en.wikipedia.org/wiki/Om_(2003_film)</td>\n",
       "      <td>Om has been banished from Mumbai for a period ...</td>\n",
       "    </tr>\n",
       "    <tr>\n",
       "      <th>26221</th>\n",
       "      <td>2003</td>\n",
       "      <td>The Pink Mirror</td>\n",
       "      <td>Bollywood</td>\n",
       "      <td>Unknown</td>\n",
       "      <td>NaN</td>\n",
       "      <td></td>\n",
       "      <td>https://en.wikipedia.org/wiki/The_Pink_Mirror_...</td>\n",
       "      <td>The film centers around two drag performers: B...</td>\n",
       "    </tr>\n",
       "    <tr>\n",
       "      <th>26224</th>\n",
       "      <td>2003</td>\n",
       "      <td>Raghu Romeo</td>\n",
       "      <td>Bollywood</td>\n",
       "      <td>Rajat Kapoor</td>\n",
       "      <td>NaN</td>\n",
       "      <td></td>\n",
       "      <td>https://en.wikipedia.org/wiki/Raghu_Romeo</td>\n",
       "      <td>Raghu Romeo (Vijay Raaz) is a guileless man, w...</td>\n",
       "    </tr>\n",
       "    <tr>\n",
       "      <th>26228</th>\n",
       "      <td>2003</td>\n",
       "      <td>Sssshhh...</td>\n",
       "      <td>Bollywood</td>\n",
       "      <td>Unknown</td>\n",
       "      <td>NaN</td>\n",
       "      <td></td>\n",
       "      <td>https://en.wikipedia.org/wiki/Sssshhh...</td>\n",
       "      <td>Late one night, Malini Gujral (Simone Singh) a...</td>\n",
       "    </tr>\n",
       "    <tr>\n",
       "      <th>26229</th>\n",
       "      <td>2003</td>\n",
       "      <td>Stumped</td>\n",
       "      <td>Bollywood</td>\n",
       "      <td>Unknown</td>\n",
       "      <td>NaN</td>\n",
       "      <td></td>\n",
       "      <td>https://en.wikipedia.org/wiki/Stumped_(2003_film)</td>\n",
       "      <td>Reena and her husband Major Raghav Seth; Ranga...</td>\n",
       "    </tr>\n",
       "    <tr>\n",
       "      <th>26231</th>\n",
       "      <td>2003</td>\n",
       "      <td>Tehzeeb</td>\n",
       "      <td>Bollywood</td>\n",
       "      <td>Khalid Mohammad</td>\n",
       "      <td>Urmila Matondkar, Shabana Azmi, Arjun Rampal, ...</td>\n",
       "      <td></td>\n",
       "      <td>https://en.wikipedia.org/wiki/Tehzeeb_(2003_film)</td>\n",
       "      <td>Anwar (Rishi Kapoor) and Rukhsana (Shabana Azm...</td>\n",
       "    </tr>\n",
       "    <tr>\n",
       "      <th>26234</th>\n",
       "      <td>2003</td>\n",
       "      <td>Tumse Milke Wrong Number</td>\n",
       "      <td>Bollywood</td>\n",
       "      <td>Unknown</td>\n",
       "      <td>Tinnu Anand</td>\n",
       "      <td></td>\n",
       "      <td>https://en.wikipedia.org/wiki/Tumse_Milke_Wron...</td>\n",
       "      <td>Mahi Mathur is a beautiful college student lik...</td>\n",
       "    </tr>\n",
       "    <tr>\n",
       "      <th>26235</th>\n",
       "      <td>2003</td>\n",
       "      <td>Waisa Bhi Hota Hai Part II</td>\n",
       "      <td>Bollywood</td>\n",
       "      <td>Unknown</td>\n",
       "      <td>Arshad Warsi, Sandhya Mridul, Prashant Narayanan</td>\n",
       "      <td></td>\n",
       "      <td>https://en.wikipedia.org/wiki/Waisa_Bhi_Hota_H...</td>\n",
       "      <td>Puneet Sayal (Arshad Warsi) is a copywriter wi...</td>\n",
       "    </tr>\n",
       "    <tr>\n",
       "      <th>26236</th>\n",
       "      <td>2003</td>\n",
       "      <td>Where's the Party Yaar?</td>\n",
       "      <td>Bollywood</td>\n",
       "      <td>Unknown</td>\n",
       "      <td>Kal Pen</td>\n",
       "      <td></td>\n",
       "      <td>https://en.wikipedia.org/wiki/Where%27s_the_Pa...</td>\n",
       "      <td>Harishkumar Satishkumar Patel (Sunil Malhotra)...</td>\n",
       "    </tr>\n",
       "    <tr>\n",
       "      <th>26479</th>\n",
       "      <td>2008</td>\n",
       "      <td>Tulsi</td>\n",
       "      <td>Bollywood</td>\n",
       "      <td>Ajay Kumar</td>\n",
       "      <td>Irrfan Khan, Manisha Koirala</td>\n",
       "      <td></td>\n",
       "      <td>https://en.wikipedia.org/wiki/Tulsi_(film)</td>\n",
       "      <td>Tulsi tells the story of Tulsi (Manisha Koiral...</td>\n",
       "    </tr>\n",
       "    <tr>\n",
       "      <th>26500</th>\n",
       "      <td>2008</td>\n",
       "      <td>Summer 2007</td>\n",
       "      <td>Bollywood</td>\n",
       "      <td>Suhail Tatari</td>\n",
       "      <td>Sikandar Kher, Gul Panag, Neetu Chandra, Susan...</td>\n",
       "      <td></td>\n",
       "      <td>https://en.wikipedia.org/wiki/Summer_2007</td>\n",
       "      <td>Rahul (Sikandar Kher), Priyanka (Yuvika Chaudh...</td>\n",
       "    </tr>\n",
       "    <tr>\n",
       "      <th>26514</th>\n",
       "      <td>2008</td>\n",
       "      <td>Mumbai Meri Jaan</td>\n",
       "      <td>Bollywood</td>\n",
       "      <td>Nishikanth Kamath</td>\n",
       "      <td>Kay Kay Menon, Soha Ali Khan, Paresh Rawal, R....</td>\n",
       "      <td></td>\n",
       "      <td>https://en.wikipedia.org/wiki/Mumbai_Meri_Jaan</td>\n",
       "      <td>Mumbai Meri Jaan tells the story of five peopl...</td>\n",
       "    </tr>\n",
       "  </tbody>\n",
       "</table>\n",
       "</div>"
      ]
     },
     "execution_count": 274,
     "metadata": {},
     "output_type": "execute_result"
    }
   ],
   "execution_count": 274
  },
  {
   "metadata": {},
   "cell_type": "markdown",
   "source": "There are no empty strings in the genre column those values will be replaced with 'unknown'.",
   "id": "8e4ab1d4c81aab80"
  },
  {
   "metadata": {},
   "cell_type": "markdown",
   "source": "#### Duplicates\n",
   "id": "5512bc4bd3b45e7b"
  },
  {
   "metadata": {
    "ExecuteTime": {
     "end_time": "2024-06-11T15:48:06.458490Z",
     "start_time": "2024-06-11T15:48:06.455380Z"
    }
   },
   "cell_type": "code",
   "source": [
    "# check for duplicates in the genre column\n",
    "duplicates_genre = df['genre'].duplicated().sum()\n",
    "print(\"There are {} duplicates in the genre column\".format(duplicates_genre))"
   ],
   "id": "ffaea6fece482462",
   "outputs": [
    {
     "name": "stdout",
     "output_type": "stream",
     "text": [
      "There are 32621 duplicates in the genre column\n"
     ]
    }
   ],
   "execution_count": 275
  },
  {
   "metadata": {},
   "cell_type": "markdown",
   "source": "There are many duplicates in the genre column. this is normal because it is a categorial column and there are many movies with the same genre.",
   "id": "54e3aac61b92fdc3"
  },
  {
   "metadata": {},
   "cell_type": "markdown",
   "source": "#### Unknown values",
   "id": "5c4eaaf55d2ae246"
  },
  {
   "metadata": {
    "ExecuteTime": {
     "end_time": "2024-06-11T15:48:06.605704Z",
     "start_time": "2024-06-11T15:48:06.593904Z"
    }
   },
   "cell_type": "code",
   "source": [
    "# check for 'unknown' values in the genre column\n",
    "unknown_genre = df['genre'].str.lower().str.contains('unknown').sum()\n",
    "print(\"There are {} movies with the genre set to 'unknown'\".format(unknown_genre))"
   ],
   "id": "dbd9b7cb3adbdf72",
   "outputs": [
    {
     "name": "stdout",
     "output_type": "stream",
     "text": [
      "There are 6083 movies with the genre set to 'unknown'\n"
     ]
    }
   ],
   "execution_count": 276
  },
  {
   "metadata": {
    "ExecuteTime": {
     "end_time": "2024-06-11T15:48:06.911221Z",
     "start_time": "2024-06-11T15:48:06.895281Z"
    }
   },
   "cell_type": "code",
   "source": [
    "# display the rows with 'unknown' in the genre column\n",
    "genre_unknown = df[df['genre'].str.lower().str.contains('unknown', na=False)]\n",
    "genre_unknown"
   ],
   "id": "cab4cb5805f0e39c",
   "outputs": [
    {
     "data": {
      "text/plain": [
       "       release_year                             title origin_ethnicity  \\\n",
       "0              1901            Kansas Saloon Smashers         American   \n",
       "1              1901     Love by the Light of the Moon         American   \n",
       "2              1901           The Martyred Presidents         American   \n",
       "3              1901  Terrible Teddy, the Grizzly King         American   \n",
       "4              1902            Jack and the Beanstalk         American   \n",
       "...             ...                               ...              ...   \n",
       "34836          2009                             Orada          Turkish   \n",
       "34878          2014                  Mandıra Filozofu          Turkish   \n",
       "34879          2014                      Winter Sleep          Turkish   \n",
       "34880          2014                             Sivas          Turkish   \n",
       "34881          2014                 The Water Diviner          Turkish   \n",
       "\n",
       "                                 director  \\\n",
       "0                                 Unknown   \n",
       "1                                 Unknown   \n",
       "2                                 Unknown   \n",
       "3                                 Unknown   \n",
       "4      George S. Fleming, Edwin S. Porter   \n",
       "...                                   ...   \n",
       "34836                             Unknown   \n",
       "34878         Director: Müfit Can Saçıntı   \n",
       "34879         Director: Nuri Bilge Ceylan   \n",
       "34880              Director: Kaan Müjdeci   \n",
       "34881             Director: Russell Crowe   \n",
       "\n",
       "                                                    cast    genre  \\\n",
       "0                                                    NaN  unknown   \n",
       "1                                                    NaN  unknown   \n",
       "2                                                    NaN  unknown   \n",
       "3                                                    NaN  unknown   \n",
       "4                                                    NaN  unknown   \n",
       "...                                                  ...      ...   \n",
       "34836                                                NaN  unknown   \n",
       "34878  Director: Müfit Can Saçıntı\\r\\nCast: Rasim Özt...  unknown   \n",
       "34879  Director: Nuri Bilge Ceylan\\r\\nCast: Haluk Bil...  unknown   \n",
       "34880         Director: Kaan Müjdeci\\r\\nCast: Dogan Izci  unknown   \n",
       "34881  Director: Russell Crowe\\r\\nCast: Russell Crowe...  unknown   \n",
       "\n",
       "                                               wiki_page  \\\n",
       "0      https://en.wikipedia.org/wiki/Kansas_Saloon_Sm...   \n",
       "1      https://en.wikipedia.org/wiki/Love_by_the_Ligh...   \n",
       "2      https://en.wikipedia.org/wiki/The_Martyred_Pre...   \n",
       "3      https://en.wikipedia.org/wiki/Terrible_Teddy,_...   \n",
       "4      https://en.wikipedia.org/wiki/Jack_and_the_Bea...   \n",
       "...                                                  ...   \n",
       "34836                https://en.wikipedia.org/wiki/Orada   \n",
       "34878  https://en.wikipedia.org/wiki/Mand%C4%B1ra_Fil...   \n",
       "34879  https://en.wikipedia.org/wiki/Winter_Sleep_(film)   \n",
       "34880         https://en.wikipedia.org/wiki/Sivas_(film)   \n",
       "34881    https://en.wikipedia.org/wiki/The_Water_Diviner   \n",
       "\n",
       "                                                    plot  \n",
       "0      A bartender is working at a saloon, serving dr...  \n",
       "1      The moon, painted with a smiling face hangs ov...  \n",
       "2      The film, just over a minute long, is composed...  \n",
       "3      Lasting just 61 seconds and consisting of two ...  \n",
       "4      The earliest known adaptation of the classic f...  \n",
       "...                                                  ...  \n",
       "34836  When the matriarch of an Istanbul family dies ...  \n",
       "34878  Cavit an ambitious industralist in İstanbul pl...  \n",
       "34879  Aydın, a former actor, owns a mountaintop hote...  \n",
       "34880  The film follows an eleven-year-old boy named ...  \n",
       "34881  The film begins in 1919, just after World War ...  \n",
       "\n",
       "[6083 rows x 8 columns]"
      ],
      "text/html": [
       "<div>\n",
       "<style scoped>\n",
       "    .dataframe tbody tr th:only-of-type {\n",
       "        vertical-align: middle;\n",
       "    }\n",
       "\n",
       "    .dataframe tbody tr th {\n",
       "        vertical-align: top;\n",
       "    }\n",
       "\n",
       "    .dataframe thead th {\n",
       "        text-align: right;\n",
       "    }\n",
       "</style>\n",
       "<table border=\"1\" class=\"dataframe\">\n",
       "  <thead>\n",
       "    <tr style=\"text-align: right;\">\n",
       "      <th></th>\n",
       "      <th>release_year</th>\n",
       "      <th>title</th>\n",
       "      <th>origin_ethnicity</th>\n",
       "      <th>director</th>\n",
       "      <th>cast</th>\n",
       "      <th>genre</th>\n",
       "      <th>wiki_page</th>\n",
       "      <th>plot</th>\n",
       "    </tr>\n",
       "  </thead>\n",
       "  <tbody>\n",
       "    <tr>\n",
       "      <th>0</th>\n",
       "      <td>1901</td>\n",
       "      <td>Kansas Saloon Smashers</td>\n",
       "      <td>American</td>\n",
       "      <td>Unknown</td>\n",
       "      <td>NaN</td>\n",
       "      <td>unknown</td>\n",
       "      <td>https://en.wikipedia.org/wiki/Kansas_Saloon_Sm...</td>\n",
       "      <td>A bartender is working at a saloon, serving dr...</td>\n",
       "    </tr>\n",
       "    <tr>\n",
       "      <th>1</th>\n",
       "      <td>1901</td>\n",
       "      <td>Love by the Light of the Moon</td>\n",
       "      <td>American</td>\n",
       "      <td>Unknown</td>\n",
       "      <td>NaN</td>\n",
       "      <td>unknown</td>\n",
       "      <td>https://en.wikipedia.org/wiki/Love_by_the_Ligh...</td>\n",
       "      <td>The moon, painted with a smiling face hangs ov...</td>\n",
       "    </tr>\n",
       "    <tr>\n",
       "      <th>2</th>\n",
       "      <td>1901</td>\n",
       "      <td>The Martyred Presidents</td>\n",
       "      <td>American</td>\n",
       "      <td>Unknown</td>\n",
       "      <td>NaN</td>\n",
       "      <td>unknown</td>\n",
       "      <td>https://en.wikipedia.org/wiki/The_Martyred_Pre...</td>\n",
       "      <td>The film, just over a minute long, is composed...</td>\n",
       "    </tr>\n",
       "    <tr>\n",
       "      <th>3</th>\n",
       "      <td>1901</td>\n",
       "      <td>Terrible Teddy, the Grizzly King</td>\n",
       "      <td>American</td>\n",
       "      <td>Unknown</td>\n",
       "      <td>NaN</td>\n",
       "      <td>unknown</td>\n",
       "      <td>https://en.wikipedia.org/wiki/Terrible_Teddy,_...</td>\n",
       "      <td>Lasting just 61 seconds and consisting of two ...</td>\n",
       "    </tr>\n",
       "    <tr>\n",
       "      <th>4</th>\n",
       "      <td>1902</td>\n",
       "      <td>Jack and the Beanstalk</td>\n",
       "      <td>American</td>\n",
       "      <td>George S. Fleming, Edwin S. Porter</td>\n",
       "      <td>NaN</td>\n",
       "      <td>unknown</td>\n",
       "      <td>https://en.wikipedia.org/wiki/Jack_and_the_Bea...</td>\n",
       "      <td>The earliest known adaptation of the classic f...</td>\n",
       "    </tr>\n",
       "    <tr>\n",
       "      <th>...</th>\n",
       "      <td>...</td>\n",
       "      <td>...</td>\n",
       "      <td>...</td>\n",
       "      <td>...</td>\n",
       "      <td>...</td>\n",
       "      <td>...</td>\n",
       "      <td>...</td>\n",
       "      <td>...</td>\n",
       "    </tr>\n",
       "    <tr>\n",
       "      <th>34836</th>\n",
       "      <td>2009</td>\n",
       "      <td>Orada</td>\n",
       "      <td>Turkish</td>\n",
       "      <td>Unknown</td>\n",
       "      <td>NaN</td>\n",
       "      <td>unknown</td>\n",
       "      <td>https://en.wikipedia.org/wiki/Orada</td>\n",
       "      <td>When the matriarch of an Istanbul family dies ...</td>\n",
       "    </tr>\n",
       "    <tr>\n",
       "      <th>34878</th>\n",
       "      <td>2014</td>\n",
       "      <td>Mandıra Filozofu</td>\n",
       "      <td>Turkish</td>\n",
       "      <td>Director: Müfit Can Saçıntı</td>\n",
       "      <td>Director: Müfit Can Saçıntı\\r\\nCast: Rasim Özt...</td>\n",
       "      <td>unknown</td>\n",
       "      <td>https://en.wikipedia.org/wiki/Mand%C4%B1ra_Fil...</td>\n",
       "      <td>Cavit an ambitious industralist in İstanbul pl...</td>\n",
       "    </tr>\n",
       "    <tr>\n",
       "      <th>34879</th>\n",
       "      <td>2014</td>\n",
       "      <td>Winter Sleep</td>\n",
       "      <td>Turkish</td>\n",
       "      <td>Director: Nuri Bilge Ceylan</td>\n",
       "      <td>Director: Nuri Bilge Ceylan\\r\\nCast: Haluk Bil...</td>\n",
       "      <td>unknown</td>\n",
       "      <td>https://en.wikipedia.org/wiki/Winter_Sleep_(film)</td>\n",
       "      <td>Aydın, a former actor, owns a mountaintop hote...</td>\n",
       "    </tr>\n",
       "    <tr>\n",
       "      <th>34880</th>\n",
       "      <td>2014</td>\n",
       "      <td>Sivas</td>\n",
       "      <td>Turkish</td>\n",
       "      <td>Director: Kaan Müjdeci</td>\n",
       "      <td>Director: Kaan Müjdeci\\r\\nCast: Dogan Izci</td>\n",
       "      <td>unknown</td>\n",
       "      <td>https://en.wikipedia.org/wiki/Sivas_(film)</td>\n",
       "      <td>The film follows an eleven-year-old boy named ...</td>\n",
       "    </tr>\n",
       "    <tr>\n",
       "      <th>34881</th>\n",
       "      <td>2014</td>\n",
       "      <td>The Water Diviner</td>\n",
       "      <td>Turkish</td>\n",
       "      <td>Director: Russell Crowe</td>\n",
       "      <td>Director: Russell Crowe\\r\\nCast: Russell Crowe...</td>\n",
       "      <td>unknown</td>\n",
       "      <td>https://en.wikipedia.org/wiki/The_Water_Diviner</td>\n",
       "      <td>The film begins in 1919, just after World War ...</td>\n",
       "    </tr>\n",
       "  </tbody>\n",
       "</table>\n",
       "<p>6083 rows × 8 columns</p>\n",
       "</div>"
      ]
     },
     "execution_count": 277,
     "metadata": {},
     "output_type": "execute_result"
    }
   ],
   "execution_count": 277
  },
  {
   "metadata": {},
   "cell_type": "markdown",
   "source": "#### Multiple Values",
   "id": "937cec695ff3c48b"
  },
  {
   "metadata": {
    "ExecuteTime": {
     "end_time": "2024-06-11T15:48:07.064915Z",
     "start_time": "2024-06-11T15:48:07.053167Z"
    }
   },
   "cell_type": "code",
   "source": [
    "# check if there are multiple genres per movie\n",
    "multiple_genres = df['genre'].str.lower().str.contains(',').sum()\n",
    "print(\"There are {} movies with multiple genres based on comma separator\".format(multiple_genres))"
   ],
   "id": "c3ff3809fcab757d",
   "outputs": [
    {
     "name": "stdout",
     "output_type": "stream",
     "text": [
      "There are 3030 movies with multiple genres based on comma separator\n"
     ]
    }
   ],
   "execution_count": 278
  },
  {
   "metadata": {
    "ExecuteTime": {
     "end_time": "2024-06-11T15:48:07.357012Z",
     "start_time": "2024-06-11T15:48:07.344952Z"
    }
   },
   "cell_type": "code",
   "source": [
    "# check if there are any genres with 'and' in the name\n",
    "genres_with_and = df['genre'].str.lower().str.contains('and').sum()\n",
    "print(\"There are {} genres with 'and' in the name\".format(genres_with_and))"
   ],
   "id": "924a86a8660d05c4",
   "outputs": [
    {
     "name": "stdout",
     "output_type": "stream",
     "text": [
      "There are 30 genres with 'and' in the name\n"
     ]
    }
   ],
   "execution_count": 279
  },
  {
   "metadata": {
    "ExecuteTime": {
     "end_time": "2024-06-11T15:48:07.573794Z",
     "start_time": "2024-06-11T15:48:07.556330Z"
    }
   },
   "cell_type": "code",
   "source": [
    "# display the number of 'and' genres\n",
    "genre_and = df[df['genre'].str.lower().str.contains('and')].head(30)\n",
    "genre_and"
   ],
   "id": "e38f9d19842f6c47",
   "outputs": [
    {
     "data": {
      "text/plain": [
       "       release_year                                         title  \\\n",
       "217            1918                         The Heart of Humanity   \n",
       "218            1918                           Hearts of the World   \n",
       "3250           1942                          The Battle of Midway   \n",
       "3473           1942                                  Wood for War   \n",
       "3481           1942                         You're a Sap, Mr. Jap   \n",
       "3518           1943                                Combat America   \n",
       "3582           1943                             Hitler's Children   \n",
       "3618           1943                          Mission Accomplished   \n",
       "3625           1943                                The New Spirit   \n",
       "3642           1943                                Prelude to War   \n",
       "3647           1943                     Report from the Aleutians   \n",
       "3654           1943                         Salute to the Marines   \n",
       "3789           1944                             The Fighting Lady   \n",
       "3901           1944                                Return to Guam   \n",
       "3947           1944  Wing and a Prayer aka The Story of Carrier X   \n",
       "4059           1945                        Know Your Enemy: Japan   \n",
       "4329           1946                              Special Delivery   \n",
       "4442           1947                             Don't Be a Sucker   \n",
       "5350           1951                                Duck and Cover   \n",
       "11359          1990                          Bride of Re-Animator   \n",
       "22240          2010                        Higglety Pigglety Pop!   \n",
       "22385          2015                               Into the Forest   \n",
       "22394          2015                                          Room   \n",
       "22406          2016                                     King Dave   \n",
       "31768          1977                                      Yamagola   \n",
       "32251          2006                                            24   \n",
       "32252          2006                                            24   \n",
       "32265          2006                                            28   \n",
       "32281          2006                                            29   \n",
       "32344          2008                                            30   \n",
       "\n",
       "      origin_ethnicity                           director  \\\n",
       "217           American                      Allen Holubar   \n",
       "218           American                     D. W. Griffith   \n",
       "3250          American                          John Ford   \n",
       "3473          American                     Arthur H. Wolf   \n",
       "3481          American                         Dan Gordon   \n",
       "3518          American                            Unknown   \n",
       "3582          American                     Edward Dmytryk   \n",
       "3618          American                            Unknown   \n",
       "3625          American                            Unknown   \n",
       "3642          American                        Frank Capra   \n",
       "3647          American                        John Huston   \n",
       "3654          American                    S. Sylvan Simon   \n",
       "3789          American                    Edward Steichen   \n",
       "3901          American                            Unknown   \n",
       "3947          American                            Unknown   \n",
       "4059          American                            Unknown   \n",
       "4329          American                            Unknown   \n",
       "4442          American                            Unknown   \n",
       "5350          American                      Anthony Rizzo   \n",
       "11359         American                        Brian Yuzna   \n",
       "22240         Canadian  Chris Lavis & Maciek Szczerbowski   \n",
       "22385         Canadian                    Patricia Rozema   \n",
       "22394         Canadian                   Lenny Abrahamson   \n",
       "22406         Canadian                        Daniel Grou   \n",
       "31768           Telugu                  Tatineni Rama Rao   \n",
       "32251           Telugu                           Rajababu   \n",
       "32252           Telugu                              Party   \n",
       "32265           Telugu                     Amma Cheppindi   \n",
       "32281           Telugu                          Annavaram   \n",
       "32344           Telugu                      Pandu Rangudu   \n",
       "\n",
       "                                                    cast  \\\n",
       "217                    Dorothy Phillips, William Stowell   \n",
       "218                           Lillian Gish, Dorothy Gish   \n",
       "3250                                                 NaN   \n",
       "3473                                                 NaN   \n",
       "3481                                      Popeye cartoon   \n",
       "3518                                         Clark Gable   \n",
       "3582              Tim Holt, Bonita Granville, Kent Smith   \n",
       "3618                                                 NaN   \n",
       "3625                                                 NaN   \n",
       "3642                                                 NaN   \n",
       "3647                                                 NaN   \n",
       "3654                          Wallace Beery, Fay Bainter   \n",
       "3789                                                 NaN   \n",
       "3901                                                 NaN   \n",
       "3947                                                 NaN   \n",
       "4059                                                 NaN   \n",
       "4329                                                 NaN   \n",
       "4442                                                 NaN   \n",
       "5350                                                 NaN   \n",
       "11359                       Bruce Abbott, Fabiana Udenio   \n",
       "22240                               Meryl Streep (voice)   \n",
       "22385  Ellen Page, Evan Rachel Wood, Max Minghella, C...   \n",
       "22394  Brie Larson, Jacob Tremblay, Joan Allen, Sean ...   \n",
       "22406  Mylène St-Sauveur, Moe Jeudy-Lamour, Karelle T...   \n",
       "31768  N. T. Rama Rao, Jayaprada, Kaikala Satyanaraya...   \n",
       "32251                                  Muppalaneni Shiva   \n",
       "32252                                          Ravi Babu   \n",
       "32265                                   Gangaraju Gunnam   \n",
       "32281                            Bhimaneni Srinivasa Rao   \n",
       "32344                                 K. Raghavendra Rao   \n",
       "\n",
       "                                                   genre  \\\n",
       "217                                           propaganda   \n",
       "218                                       ww1 propaganda   \n",
       "3250                                          propaganda   \n",
       "3473                                    propaganda short   \n",
       "3481                     propaganda short animated short   \n",
       "3518                                          propaganda   \n",
       "3582                                          propaganda   \n",
       "3618                                          propaganda   \n",
       "3625                                          propaganda   \n",
       "3642                                          propaganda   \n",
       "3647                                          propaganda   \n",
       "3654                                war drama propaganda   \n",
       "3789                                      war propaganda   \n",
       "3901                                    propaganda short   \n",
       "3947                                          propaganda   \n",
       "4059                                          propaganda   \n",
       "4329                                          propaganda   \n",
       "4442                                          propaganda   \n",
       "5350                                          propaganda   \n",
       "11359                           horror and priquitianism   \n",
       "22240  stop-motion animation produced with the nation...   \n",
       "22385     drama based on into the forest by jean hegland   \n",
       "22394  drama based on a novel and screenplay by emma ...   \n",
       "22406         adapted from the play by alexandre goyette   \n",
       "31768                                 fantasy and comedy   \n",
       "32251  rajasekhar, brahmanandam, kondavalasa lakshman...   \n",
       "32252  allari naresh, madhu sharma, shashank, bramhan...   \n",
       "32265                 suhasini, sharwanand, shriya reddy   \n",
       "32281                        pawan kalyan, asin, sandhya   \n",
       "32344                 balakrishna nandamuri, sneha, tabu   \n",
       "\n",
       "                                               wiki_page  \\\n",
       "217    https://en.wikipedia.org/wiki/The_Heart_of_Hum...   \n",
       "218    https://en.wikipedia.org/wiki/Hearts_of_the_World   \n",
       "3250   https://en.wikipedia.org/wiki/The_Battle_of_Mi...   \n",
       "3473          https://en.wikipedia.org/wiki/Wood_for_War   \n",
       "3481   https://en.wikipedia.org/wiki/You%27re_a_Sap,_...   \n",
       "3518        https://en.wikipedia.org/wiki/Combat_America   \n",
       "3582   https://en.wikipedia.org/wiki/Hitler%27s_Child...   \n",
       "3618   https://en.wikipedia.org/wiki/Mission_Accompli...   \n",
       "3625        https://en.wikipedia.org/wiki/The_New_Spirit   \n",
       "3642        https://en.wikipedia.org/wiki/Prelude_to_War   \n",
       "3647   https://en.wikipedia.org/wiki/Report_from_the_...   \n",
       "3654   https://en.wikipedia.org/wiki/Salute_to_the_Ma...   \n",
       "3789     https://en.wikipedia.org/wiki/The_Fighting_Lady   \n",
       "3901        https://en.wikipedia.org/wiki/Return_to_Guam   \n",
       "3947     https://en.wikipedia.org/wiki/Wing_and_a_Prayer   \n",
       "4059   https://en.wikipedia.org/wiki/Know_Your_Enemy:...   \n",
       "4329   https://en.wikipedia.org/wiki/Special_Delivery...   \n",
       "4442   https://en.wikipedia.org/wiki/Don%27t_Be_a_Sucker   \n",
       "5350   https://en.wikipedia.org/wiki/Duck_and_Cover_(...   \n",
       "11359  https://en.wikipedia.org/wiki/Bride_of_Re-Anim...   \n",
       "22240  https://en.wikipedia.org/wiki/Higglety_Pigglet...   \n",
       "22385      https://en.wikipedia.org/wiki/Into_the_Forest   \n",
       "22394     https://en.wikipedia.org/wiki/Room_(2015_film)   \n",
       "22406            https://en.wikipedia.org/wiki/King_Dave   \n",
       "31768             https://en.wikipedia.org/wiki/Yamagola   \n",
       "32251     https://en.wikipedia.org/wiki/Raja_Babu_(film)   \n",
       "32252    https://en.wikipedia.org/wiki/Party_(2006_film)   \n",
       "32265       https://en.wikipedia.org/wiki/Amma_Cheppindi   \n",
       "32281     https://en.wikipedia.org/wiki/Annavaram_(film)   \n",
       "32344        https://en.wikipedia.org/wiki/Pandu_Rangudu   \n",
       "\n",
       "                                                    plot  \n",
       "217    Nanette (Dorothy Phillips), an American girl l...  \n",
       "218    Two families live next to one another in a Fre...  \n",
       "3250   The film begins with a male narrator (Ray Mill...  \n",
       "3473   The film opens with shots of large American fo...  \n",
       "3481   The cartoon, which gets its title from a novel...  \n",
       "3518   In 1943, in preparation for overseas deploymen...  \n",
       "3582   In 1933 Berlin, Professor Nichols (Kent Smith)...  \n",
       "3618   The film opens with a brief history of the B-1...  \n",
       "3625   The film begins with Donald Duck, flush with t...  \n",
       "3642   In an edit added to the film before public rel...  \n",
       "3647   In contrast to the other technicolor films mad...  \n",
       "3654   Having being stationed in the Philippines as a...  \n",
       "3789   The plot of the film revolves around the life ...  \n",
       "3901   The film starts when a convoy of ships nearing...  \n",
       "3947   In the days just after the attack on Pearl Har...  \n",
       "4059   The film's main focus is on introducing the hi...  \n",
       "4329   The film begins with shots of American bombers...  \n",
       "4442   An American who has been listening to a racist...  \n",
       "5350   The film starts with an animated sequence, sho...  \n",
       "11359  Eight months after the events of Re-Animator, ...  \n",
       "22240  A Sealyham Terrier named Jennie leaves a comfo...  \n",
       "22385  In the near future, two teenage sisters, Nell ...  \n",
       "22394  In Akron, Ohio, 24-year-old Joy Newsome and he...  \n",
       "22406  Dave is a young man who considers himself to b...  \n",
       "31768  Satyam (N.T. Rama Rao) is a youth leader and P...  \n",
       "32251  Raja Babu (Govinda) is a poor orphan adopted b...  \n",
       "32252  The story is about two college buddies Nani (A...  \n",
       "32265  Bose (Sharwanand), a mentally underdeveloped y...  \n",
       "32281  Varam (Sandhya) is the sister of Annavaram (Pa...  \n",
       "32344  Pundarika Ranganathudu (Nandamuri Balakrishna)...  "
      ],
      "text/html": [
       "<div>\n",
       "<style scoped>\n",
       "    .dataframe tbody tr th:only-of-type {\n",
       "        vertical-align: middle;\n",
       "    }\n",
       "\n",
       "    .dataframe tbody tr th {\n",
       "        vertical-align: top;\n",
       "    }\n",
       "\n",
       "    .dataframe thead th {\n",
       "        text-align: right;\n",
       "    }\n",
       "</style>\n",
       "<table border=\"1\" class=\"dataframe\">\n",
       "  <thead>\n",
       "    <tr style=\"text-align: right;\">\n",
       "      <th></th>\n",
       "      <th>release_year</th>\n",
       "      <th>title</th>\n",
       "      <th>origin_ethnicity</th>\n",
       "      <th>director</th>\n",
       "      <th>cast</th>\n",
       "      <th>genre</th>\n",
       "      <th>wiki_page</th>\n",
       "      <th>plot</th>\n",
       "    </tr>\n",
       "  </thead>\n",
       "  <tbody>\n",
       "    <tr>\n",
       "      <th>217</th>\n",
       "      <td>1918</td>\n",
       "      <td>The Heart of Humanity</td>\n",
       "      <td>American</td>\n",
       "      <td>Allen Holubar</td>\n",
       "      <td>Dorothy Phillips, William Stowell</td>\n",
       "      <td>propaganda</td>\n",
       "      <td>https://en.wikipedia.org/wiki/The_Heart_of_Hum...</td>\n",
       "      <td>Nanette (Dorothy Phillips), an American girl l...</td>\n",
       "    </tr>\n",
       "    <tr>\n",
       "      <th>218</th>\n",
       "      <td>1918</td>\n",
       "      <td>Hearts of the World</td>\n",
       "      <td>American</td>\n",
       "      <td>D. W. Griffith</td>\n",
       "      <td>Lillian Gish, Dorothy Gish</td>\n",
       "      <td>ww1 propaganda</td>\n",
       "      <td>https://en.wikipedia.org/wiki/Hearts_of_the_World</td>\n",
       "      <td>Two families live next to one another in a Fre...</td>\n",
       "    </tr>\n",
       "    <tr>\n",
       "      <th>3250</th>\n",
       "      <td>1942</td>\n",
       "      <td>The Battle of Midway</td>\n",
       "      <td>American</td>\n",
       "      <td>John Ford</td>\n",
       "      <td>NaN</td>\n",
       "      <td>propaganda</td>\n",
       "      <td>https://en.wikipedia.org/wiki/The_Battle_of_Mi...</td>\n",
       "      <td>The film begins with a male narrator (Ray Mill...</td>\n",
       "    </tr>\n",
       "    <tr>\n",
       "      <th>3473</th>\n",
       "      <td>1942</td>\n",
       "      <td>Wood for War</td>\n",
       "      <td>American</td>\n",
       "      <td>Arthur H. Wolf</td>\n",
       "      <td>NaN</td>\n",
       "      <td>propaganda short</td>\n",
       "      <td>https://en.wikipedia.org/wiki/Wood_for_War</td>\n",
       "      <td>The film opens with shots of large American fo...</td>\n",
       "    </tr>\n",
       "    <tr>\n",
       "      <th>3481</th>\n",
       "      <td>1942</td>\n",
       "      <td>You're a Sap, Mr. Jap</td>\n",
       "      <td>American</td>\n",
       "      <td>Dan Gordon</td>\n",
       "      <td>Popeye cartoon</td>\n",
       "      <td>propaganda short animated short</td>\n",
       "      <td>https://en.wikipedia.org/wiki/You%27re_a_Sap,_...</td>\n",
       "      <td>The cartoon, which gets its title from a novel...</td>\n",
       "    </tr>\n",
       "    <tr>\n",
       "      <th>3518</th>\n",
       "      <td>1943</td>\n",
       "      <td>Combat America</td>\n",
       "      <td>American</td>\n",
       "      <td>Unknown</td>\n",
       "      <td>Clark Gable</td>\n",
       "      <td>propaganda</td>\n",
       "      <td>https://en.wikipedia.org/wiki/Combat_America</td>\n",
       "      <td>In 1943, in preparation for overseas deploymen...</td>\n",
       "    </tr>\n",
       "    <tr>\n",
       "      <th>3582</th>\n",
       "      <td>1943</td>\n",
       "      <td>Hitler's Children</td>\n",
       "      <td>American</td>\n",
       "      <td>Edward Dmytryk</td>\n",
       "      <td>Tim Holt, Bonita Granville, Kent Smith</td>\n",
       "      <td>propaganda</td>\n",
       "      <td>https://en.wikipedia.org/wiki/Hitler%27s_Child...</td>\n",
       "      <td>In 1933 Berlin, Professor Nichols (Kent Smith)...</td>\n",
       "    </tr>\n",
       "    <tr>\n",
       "      <th>3618</th>\n",
       "      <td>1943</td>\n",
       "      <td>Mission Accomplished</td>\n",
       "      <td>American</td>\n",
       "      <td>Unknown</td>\n",
       "      <td>NaN</td>\n",
       "      <td>propaganda</td>\n",
       "      <td>https://en.wikipedia.org/wiki/Mission_Accompli...</td>\n",
       "      <td>The film opens with a brief history of the B-1...</td>\n",
       "    </tr>\n",
       "    <tr>\n",
       "      <th>3625</th>\n",
       "      <td>1943</td>\n",
       "      <td>The New Spirit</td>\n",
       "      <td>American</td>\n",
       "      <td>Unknown</td>\n",
       "      <td>NaN</td>\n",
       "      <td>propaganda</td>\n",
       "      <td>https://en.wikipedia.org/wiki/The_New_Spirit</td>\n",
       "      <td>The film begins with Donald Duck, flush with t...</td>\n",
       "    </tr>\n",
       "    <tr>\n",
       "      <th>3642</th>\n",
       "      <td>1943</td>\n",
       "      <td>Prelude to War</td>\n",
       "      <td>American</td>\n",
       "      <td>Frank Capra</td>\n",
       "      <td>NaN</td>\n",
       "      <td>propaganda</td>\n",
       "      <td>https://en.wikipedia.org/wiki/Prelude_to_War</td>\n",
       "      <td>In an edit added to the film before public rel...</td>\n",
       "    </tr>\n",
       "    <tr>\n",
       "      <th>3647</th>\n",
       "      <td>1943</td>\n",
       "      <td>Report from the Aleutians</td>\n",
       "      <td>American</td>\n",
       "      <td>John Huston</td>\n",
       "      <td>NaN</td>\n",
       "      <td>propaganda</td>\n",
       "      <td>https://en.wikipedia.org/wiki/Report_from_the_...</td>\n",
       "      <td>In contrast to the other technicolor films mad...</td>\n",
       "    </tr>\n",
       "    <tr>\n",
       "      <th>3654</th>\n",
       "      <td>1943</td>\n",
       "      <td>Salute to the Marines</td>\n",
       "      <td>American</td>\n",
       "      <td>S. Sylvan Simon</td>\n",
       "      <td>Wallace Beery, Fay Bainter</td>\n",
       "      <td>war drama propaganda</td>\n",
       "      <td>https://en.wikipedia.org/wiki/Salute_to_the_Ma...</td>\n",
       "      <td>Having being stationed in the Philippines as a...</td>\n",
       "    </tr>\n",
       "    <tr>\n",
       "      <th>3789</th>\n",
       "      <td>1944</td>\n",
       "      <td>The Fighting Lady</td>\n",
       "      <td>American</td>\n",
       "      <td>Edward Steichen</td>\n",
       "      <td>NaN</td>\n",
       "      <td>war propaganda</td>\n",
       "      <td>https://en.wikipedia.org/wiki/The_Fighting_Lady</td>\n",
       "      <td>The plot of the film revolves around the life ...</td>\n",
       "    </tr>\n",
       "    <tr>\n",
       "      <th>3901</th>\n",
       "      <td>1944</td>\n",
       "      <td>Return to Guam</td>\n",
       "      <td>American</td>\n",
       "      <td>Unknown</td>\n",
       "      <td>NaN</td>\n",
       "      <td>propaganda short</td>\n",
       "      <td>https://en.wikipedia.org/wiki/Return_to_Guam</td>\n",
       "      <td>The film starts when a convoy of ships nearing...</td>\n",
       "    </tr>\n",
       "    <tr>\n",
       "      <th>3947</th>\n",
       "      <td>1944</td>\n",
       "      <td>Wing and a Prayer aka The Story of Carrier X</td>\n",
       "      <td>American</td>\n",
       "      <td>Unknown</td>\n",
       "      <td>NaN</td>\n",
       "      <td>propaganda</td>\n",
       "      <td>https://en.wikipedia.org/wiki/Wing_and_a_Prayer</td>\n",
       "      <td>In the days just after the attack on Pearl Har...</td>\n",
       "    </tr>\n",
       "    <tr>\n",
       "      <th>4059</th>\n",
       "      <td>1945</td>\n",
       "      <td>Know Your Enemy: Japan</td>\n",
       "      <td>American</td>\n",
       "      <td>Unknown</td>\n",
       "      <td>NaN</td>\n",
       "      <td>propaganda</td>\n",
       "      <td>https://en.wikipedia.org/wiki/Know_Your_Enemy:...</td>\n",
       "      <td>The film's main focus is on introducing the hi...</td>\n",
       "    </tr>\n",
       "    <tr>\n",
       "      <th>4329</th>\n",
       "      <td>1946</td>\n",
       "      <td>Special Delivery</td>\n",
       "      <td>American</td>\n",
       "      <td>Unknown</td>\n",
       "      <td>NaN</td>\n",
       "      <td>propaganda</td>\n",
       "      <td>https://en.wikipedia.org/wiki/Special_Delivery...</td>\n",
       "      <td>The film begins with shots of American bombers...</td>\n",
       "    </tr>\n",
       "    <tr>\n",
       "      <th>4442</th>\n",
       "      <td>1947</td>\n",
       "      <td>Don't Be a Sucker</td>\n",
       "      <td>American</td>\n",
       "      <td>Unknown</td>\n",
       "      <td>NaN</td>\n",
       "      <td>propaganda</td>\n",
       "      <td>https://en.wikipedia.org/wiki/Don%27t_Be_a_Sucker</td>\n",
       "      <td>An American who has been listening to a racist...</td>\n",
       "    </tr>\n",
       "    <tr>\n",
       "      <th>5350</th>\n",
       "      <td>1951</td>\n",
       "      <td>Duck and Cover</td>\n",
       "      <td>American</td>\n",
       "      <td>Anthony Rizzo</td>\n",
       "      <td>NaN</td>\n",
       "      <td>propaganda</td>\n",
       "      <td>https://en.wikipedia.org/wiki/Duck_and_Cover_(...</td>\n",
       "      <td>The film starts with an animated sequence, sho...</td>\n",
       "    </tr>\n",
       "    <tr>\n",
       "      <th>11359</th>\n",
       "      <td>1990</td>\n",
       "      <td>Bride of Re-Animator</td>\n",
       "      <td>American</td>\n",
       "      <td>Brian Yuzna</td>\n",
       "      <td>Bruce Abbott, Fabiana Udenio</td>\n",
       "      <td>horror and priquitianism</td>\n",
       "      <td>https://en.wikipedia.org/wiki/Bride_of_Re-Anim...</td>\n",
       "      <td>Eight months after the events of Re-Animator, ...</td>\n",
       "    </tr>\n",
       "    <tr>\n",
       "      <th>22240</th>\n",
       "      <td>2010</td>\n",
       "      <td>Higglety Pigglety Pop!</td>\n",
       "      <td>Canadian</td>\n",
       "      <td>Chris Lavis &amp; Maciek Szczerbowski</td>\n",
       "      <td>Meryl Streep (voice)</td>\n",
       "      <td>stop-motion animation produced with the nation...</td>\n",
       "      <td>https://en.wikipedia.org/wiki/Higglety_Pigglet...</td>\n",
       "      <td>A Sealyham Terrier named Jennie leaves a comfo...</td>\n",
       "    </tr>\n",
       "    <tr>\n",
       "      <th>22385</th>\n",
       "      <td>2015</td>\n",
       "      <td>Into the Forest</td>\n",
       "      <td>Canadian</td>\n",
       "      <td>Patricia Rozema</td>\n",
       "      <td>Ellen Page, Evan Rachel Wood, Max Minghella, C...</td>\n",
       "      <td>drama based on into the forest by jean hegland</td>\n",
       "      <td>https://en.wikipedia.org/wiki/Into_the_Forest</td>\n",
       "      <td>In the near future, two teenage sisters, Nell ...</td>\n",
       "    </tr>\n",
       "    <tr>\n",
       "      <th>22394</th>\n",
       "      <td>2015</td>\n",
       "      <td>Room</td>\n",
       "      <td>Canadian</td>\n",
       "      <td>Lenny Abrahamson</td>\n",
       "      <td>Brie Larson, Jacob Tremblay, Joan Allen, Sean ...</td>\n",
       "      <td>drama based on a novel and screenplay by emma ...</td>\n",
       "      <td>https://en.wikipedia.org/wiki/Room_(2015_film)</td>\n",
       "      <td>In Akron, Ohio, 24-year-old Joy Newsome and he...</td>\n",
       "    </tr>\n",
       "    <tr>\n",
       "      <th>22406</th>\n",
       "      <td>2016</td>\n",
       "      <td>King Dave</td>\n",
       "      <td>Canadian</td>\n",
       "      <td>Daniel Grou</td>\n",
       "      <td>Mylène St-Sauveur, Moe Jeudy-Lamour, Karelle T...</td>\n",
       "      <td>adapted from the play by alexandre goyette</td>\n",
       "      <td>https://en.wikipedia.org/wiki/King_Dave</td>\n",
       "      <td>Dave is a young man who considers himself to b...</td>\n",
       "    </tr>\n",
       "    <tr>\n",
       "      <th>31768</th>\n",
       "      <td>1977</td>\n",
       "      <td>Yamagola</td>\n",
       "      <td>Telugu</td>\n",
       "      <td>Tatineni Rama Rao</td>\n",
       "      <td>N. T. Rama Rao, Jayaprada, Kaikala Satyanaraya...</td>\n",
       "      <td>fantasy and comedy</td>\n",
       "      <td>https://en.wikipedia.org/wiki/Yamagola</td>\n",
       "      <td>Satyam (N.T. Rama Rao) is a youth leader and P...</td>\n",
       "    </tr>\n",
       "    <tr>\n",
       "      <th>32251</th>\n",
       "      <td>2006</td>\n",
       "      <td>24</td>\n",
       "      <td>Telugu</td>\n",
       "      <td>Rajababu</td>\n",
       "      <td>Muppalaneni Shiva</td>\n",
       "      <td>rajasekhar, brahmanandam, kondavalasa lakshman...</td>\n",
       "      <td>https://en.wikipedia.org/wiki/Raja_Babu_(film)</td>\n",
       "      <td>Raja Babu (Govinda) is a poor orphan adopted b...</td>\n",
       "    </tr>\n",
       "    <tr>\n",
       "      <th>32252</th>\n",
       "      <td>2006</td>\n",
       "      <td>24</td>\n",
       "      <td>Telugu</td>\n",
       "      <td>Party</td>\n",
       "      <td>Ravi Babu</td>\n",
       "      <td>allari naresh, madhu sharma, shashank, bramhan...</td>\n",
       "      <td>https://en.wikipedia.org/wiki/Party_(2006_film)</td>\n",
       "      <td>The story is about two college buddies Nani (A...</td>\n",
       "    </tr>\n",
       "    <tr>\n",
       "      <th>32265</th>\n",
       "      <td>2006</td>\n",
       "      <td>28</td>\n",
       "      <td>Telugu</td>\n",
       "      <td>Amma Cheppindi</td>\n",
       "      <td>Gangaraju Gunnam</td>\n",
       "      <td>suhasini, sharwanand, shriya reddy</td>\n",
       "      <td>https://en.wikipedia.org/wiki/Amma_Cheppindi</td>\n",
       "      <td>Bose (Sharwanand), a mentally underdeveloped y...</td>\n",
       "    </tr>\n",
       "    <tr>\n",
       "      <th>32281</th>\n",
       "      <td>2006</td>\n",
       "      <td>29</td>\n",
       "      <td>Telugu</td>\n",
       "      <td>Annavaram</td>\n",
       "      <td>Bhimaneni Srinivasa Rao</td>\n",
       "      <td>pawan kalyan, asin, sandhya</td>\n",
       "      <td>https://en.wikipedia.org/wiki/Annavaram_(film)</td>\n",
       "      <td>Varam (Sandhya) is the sister of Annavaram (Pa...</td>\n",
       "    </tr>\n",
       "    <tr>\n",
       "      <th>32344</th>\n",
       "      <td>2008</td>\n",
       "      <td>30</td>\n",
       "      <td>Telugu</td>\n",
       "      <td>Pandu Rangudu</td>\n",
       "      <td>K. Raghavendra Rao</td>\n",
       "      <td>balakrishna nandamuri, sneha, tabu</td>\n",
       "      <td>https://en.wikipedia.org/wiki/Pandu_Rangudu</td>\n",
       "      <td>Pundarika Ranganathudu (Nandamuri Balakrishna)...</td>\n",
       "    </tr>\n",
       "  </tbody>\n",
       "</table>\n",
       "</div>"
      ]
     },
     "execution_count": 280,
     "metadata": {},
     "output_type": "execute_result"
    }
   ],
   "execution_count": 280
  },
  {
   "metadata": {},
   "cell_type": "markdown",
   "source": "there are a small number of genres with 'and' in the name. only a few of them are separated by 'and' with spaces.",
   "id": "f2749238a4af951b"
  },
  {
   "metadata": {
    "ExecuteTime": {
     "end_time": "2024-06-11T15:48:07.904310Z",
     "start_time": "2024-06-11T15:48:07.889908Z"
    }
   },
   "cell_type": "code",
   "source": [
    "genre_and = df[df['genre'].str.lower().str.contains(' and ')].head(20)\n",
    "genre_and"
   ],
   "id": "767595b20c76e714",
   "outputs": [
    {
     "data": {
      "text/plain": [
       "       release_year                   title origin_ethnicity  \\\n",
       "11359          1990    Bride of Re-Animator         American   \n",
       "22240          2010  Higglety Pigglety Pop!         Canadian   \n",
       "22394          2015                    Room         Canadian   \n",
       "31768          1977                Yamagola           Telugu   \n",
       "\n",
       "                                director  \\\n",
       "11359                        Brian Yuzna   \n",
       "22240  Chris Lavis & Maciek Szczerbowski   \n",
       "22394                   Lenny Abrahamson   \n",
       "31768                  Tatineni Rama Rao   \n",
       "\n",
       "                                                    cast  \\\n",
       "11359                       Bruce Abbott, Fabiana Udenio   \n",
       "22240                               Meryl Streep (voice)   \n",
       "22394  Brie Larson, Jacob Tremblay, Joan Allen, Sean ...   \n",
       "31768  N. T. Rama Rao, Jayaprada, Kaikala Satyanaraya...   \n",
       "\n",
       "                                                   genre  \\\n",
       "11359                           horror and priquitianism   \n",
       "22240  stop-motion animation produced with the nation...   \n",
       "22394  drama based on a novel and screenplay by emma ...   \n",
       "31768                                 fantasy and comedy   \n",
       "\n",
       "                                               wiki_page  \\\n",
       "11359  https://en.wikipedia.org/wiki/Bride_of_Re-Anim...   \n",
       "22240  https://en.wikipedia.org/wiki/Higglety_Pigglet...   \n",
       "22394     https://en.wikipedia.org/wiki/Room_(2015_film)   \n",
       "31768             https://en.wikipedia.org/wiki/Yamagola   \n",
       "\n",
       "                                                    plot  \n",
       "11359  Eight months after the events of Re-Animator, ...  \n",
       "22240  A Sealyham Terrier named Jennie leaves a comfo...  \n",
       "22394  In Akron, Ohio, 24-year-old Joy Newsome and he...  \n",
       "31768  Satyam (N.T. Rama Rao) is a youth leader and P...  "
      ],
      "text/html": [
       "<div>\n",
       "<style scoped>\n",
       "    .dataframe tbody tr th:only-of-type {\n",
       "        vertical-align: middle;\n",
       "    }\n",
       "\n",
       "    .dataframe tbody tr th {\n",
       "        vertical-align: top;\n",
       "    }\n",
       "\n",
       "    .dataframe thead th {\n",
       "        text-align: right;\n",
       "    }\n",
       "</style>\n",
       "<table border=\"1\" class=\"dataframe\">\n",
       "  <thead>\n",
       "    <tr style=\"text-align: right;\">\n",
       "      <th></th>\n",
       "      <th>release_year</th>\n",
       "      <th>title</th>\n",
       "      <th>origin_ethnicity</th>\n",
       "      <th>director</th>\n",
       "      <th>cast</th>\n",
       "      <th>genre</th>\n",
       "      <th>wiki_page</th>\n",
       "      <th>plot</th>\n",
       "    </tr>\n",
       "  </thead>\n",
       "  <tbody>\n",
       "    <tr>\n",
       "      <th>11359</th>\n",
       "      <td>1990</td>\n",
       "      <td>Bride of Re-Animator</td>\n",
       "      <td>American</td>\n",
       "      <td>Brian Yuzna</td>\n",
       "      <td>Bruce Abbott, Fabiana Udenio</td>\n",
       "      <td>horror and priquitianism</td>\n",
       "      <td>https://en.wikipedia.org/wiki/Bride_of_Re-Anim...</td>\n",
       "      <td>Eight months after the events of Re-Animator, ...</td>\n",
       "    </tr>\n",
       "    <tr>\n",
       "      <th>22240</th>\n",
       "      <td>2010</td>\n",
       "      <td>Higglety Pigglety Pop!</td>\n",
       "      <td>Canadian</td>\n",
       "      <td>Chris Lavis &amp; Maciek Szczerbowski</td>\n",
       "      <td>Meryl Streep (voice)</td>\n",
       "      <td>stop-motion animation produced with the nation...</td>\n",
       "      <td>https://en.wikipedia.org/wiki/Higglety_Pigglet...</td>\n",
       "      <td>A Sealyham Terrier named Jennie leaves a comfo...</td>\n",
       "    </tr>\n",
       "    <tr>\n",
       "      <th>22394</th>\n",
       "      <td>2015</td>\n",
       "      <td>Room</td>\n",
       "      <td>Canadian</td>\n",
       "      <td>Lenny Abrahamson</td>\n",
       "      <td>Brie Larson, Jacob Tremblay, Joan Allen, Sean ...</td>\n",
       "      <td>drama based on a novel and screenplay by emma ...</td>\n",
       "      <td>https://en.wikipedia.org/wiki/Room_(2015_film)</td>\n",
       "      <td>In Akron, Ohio, 24-year-old Joy Newsome and he...</td>\n",
       "    </tr>\n",
       "    <tr>\n",
       "      <th>31768</th>\n",
       "      <td>1977</td>\n",
       "      <td>Yamagola</td>\n",
       "      <td>Telugu</td>\n",
       "      <td>Tatineni Rama Rao</td>\n",
       "      <td>N. T. Rama Rao, Jayaprada, Kaikala Satyanaraya...</td>\n",
       "      <td>fantasy and comedy</td>\n",
       "      <td>https://en.wikipedia.org/wiki/Yamagola</td>\n",
       "      <td>Satyam (N.T. Rama Rao) is a youth leader and P...</td>\n",
       "    </tr>\n",
       "  </tbody>\n",
       "</table>\n",
       "</div>"
      ]
     },
     "execution_count": 281,
     "metadata": {},
     "output_type": "execute_result"
    }
   ],
   "execution_count": 281
  },
  {
   "metadata": {},
   "cell_type": "markdown",
   "source": "There are many genre values with the string 'and' this needs to be cleaned later on.",
   "id": "355fd0bb9f6a146d"
  },
  {
   "metadata": {},
   "cell_type": "markdown",
   "source": [
    "#### Summary\n",
    "- The genre column has missing values.\n",
    "- There are empty strings in the genre column that will be replaced with 'unknown'.\n",
    "- There are duplicates in the genre column. This is normal because there are movies with the same genre.\n",
    "- The genre column contains 'unknown' values.\n",
    "- There are multiple genres separated by a comma or 'and'."
   ],
   "id": "211382d5a7c75976"
  },
  {
   "metadata": {},
   "cell_type": "markdown",
   "source": "#### 2.1.7 Check: wiki_page",
   "id": "d79b07e1773de23a"
  },
  {
   "metadata": {},
   "cell_type": "markdown",
   "source": "#### Show values",
   "id": "f9f389979753e131"
  },
  {
   "metadata": {
    "ExecuteTime": {
     "end_time": "2024-06-11T15:48:08.078610Z",
     "start_time": "2024-06-11T15:48:08.064085Z"
    }
   },
   "cell_type": "code",
   "source": [
    "# display values for the wiki_page column\n",
    "df['wiki_page'].value_counts()"
   ],
   "id": "a609dd0cca16839b",
   "outputs": [
    {
     "data": {
      "text/plain": [
       "wiki_page\n",
       "https://en.wikipedia.org/wiki/Digimon_Adventure_tri.                         5\n",
       "https://en.wikipedia.org/wiki/Himitsu_Sentai_Gorenger                        5\n",
       "https://en.wikipedia.org/wiki/Tamayura                                       4\n",
       "https://en.wikipedia.org/wiki/Mani_Malai                                     4\n",
       "https://en.wikipedia.org/wiki/Vettaikaaran_(2009_film)                       3\n",
       "                                                                            ..\n",
       "https://en.wikipedia.org/wiki/Hot_Cars,_Cold_Facts                           1\n",
       "https://en.wikipedia.org/wiki/Home_Alone                                     1\n",
       "https://en.wikipedia.org/wiki/Heart_Condition_(film)                         1\n",
       "https://en.wikipedia.org/wiki/Havana_(film)                                  1\n",
       "https://en.wikipedia.org/wiki/%C4%B0stanbul_K%C4%B1rm%C4%B1z%C4%B1s%C4%B1    1\n",
       "Name: count, Length: 34070, dtype: int64"
      ]
     },
     "execution_count": 282,
     "metadata": {},
     "output_type": "execute_result"
    }
   ],
   "execution_count": 282
  },
  {
   "metadata": {},
   "cell_type": "markdown",
   "source": "#### Missing Values",
   "id": "a5e9671bca2b7048"
  },
  {
   "metadata": {
    "ExecuteTime": {
     "end_time": "2024-06-11T15:48:08.382742Z",
     "start_time": "2024-06-11T15:48:08.379164Z"
    }
   },
   "cell_type": "code",
   "source": [
    "# check for missing values in the wiki_page column\n",
    "missing_wiki_page = df['wiki_page'].isna().sum()\n",
    "print(\"There are {} missing values in the wiki_page column\".format(missing_wiki_page))"
   ],
   "id": "fa78ffdf1170de59",
   "outputs": [
    {
     "name": "stdout",
     "output_type": "stream",
     "text": [
      "There are 0 missing values in the wiki_page column\n"
     ]
    }
   ],
   "execution_count": 283
  },
  {
   "metadata": {},
   "cell_type": "markdown",
   "source": "#### Empty Strings",
   "id": "1ecbb31634ddf21"
  },
  {
   "metadata": {
    "ExecuteTime": {
     "end_time": "2024-06-11T15:48:08.604161Z",
     "start_time": "2024-06-11T15:48:08.595710Z"
    }
   },
   "cell_type": "code",
   "source": [
    "# check for empty strings in the wiki_page column\n",
    "empty_wiki_page = df[df['wiki_page'].str.strip() == ''].shape[0]\n",
    "print(\"There are {} movies with an empty wiki_page\".format(empty_wiki_page))"
   ],
   "id": "e65c805c9127bcd3",
   "outputs": [
    {
     "name": "stdout",
     "output_type": "stream",
     "text": [
      "There are 0 movies with an empty wiki_page\n"
     ]
    }
   ],
   "execution_count": 284
  },
  {
   "metadata": {},
   "cell_type": "markdown",
   "source": "#### Duplicates",
   "id": "c24ec3ea234b9ca3"
  },
  {
   "metadata": {
    "ExecuteTime": {
     "end_time": "2024-06-11T15:48:09.058893Z",
     "start_time": "2024-06-11T15:48:09.055301Z"
    }
   },
   "cell_type": "code",
   "source": [
    "# check for duplicates in the wiki_page column\n",
    "duplicates_wiki_page = df['wiki_page'].duplicated().sum()\n",
    "print(\"There are {} duplicates in the wiki_page column\".format(duplicates_wiki_page))"
   ],
   "id": "de719ef7ee702f70",
   "outputs": [
    {
     "name": "stdout",
     "output_type": "stream",
     "text": [
      "There are 816 duplicates in the wiki_page column\n"
     ]
    }
   ],
   "execution_count": 285
  },
  {
   "metadata": {},
   "cell_type": "markdown",
   "source": "There are many duplicates in the wiki_page column. This is normal because there are movies with the same wiki_page. This needs to be investigated further.",
   "id": "89dacce9f7b93a3a"
  },
  {
   "metadata": {
    "ExecuteTime": {
     "end_time": "2024-06-11T15:48:09.177127Z",
     "start_time": "2024-06-11T15:48:09.169Z"
    }
   },
   "cell_type": "code",
   "source": [
    "# display the rows with duplicates in the wiki_page column\n",
    "duplicate_values = df['wiki_page'].duplicated(keep=False)\n",
    "df[duplicate_values]"
   ],
   "id": "d95b657b35e57204",
   "outputs": [
    {
     "data": {
      "text/plain": [
       "       release_year                       title origin_ethnicity  \\\n",
       "149            1916  The Other Side of the Door         American   \n",
       "189            1917             Wild and Woolly         American   \n",
       "227            1918      Nine-Tenths of the Law         American   \n",
       "286            1919      Nine-Tenths of the Law         American   \n",
       "310            1920         Among Those Present         American   \n",
       "...             ...                         ...              ...   \n",
       "34434          2009                  Cyborg She     South_Korean   \n",
       "34582          2013                       B-E-D     South_Korean   \n",
       "34703          2015                       B-E-D     South_Korean   \n",
       "34749          2016         Bad Guys Always Die     South_Korean   \n",
       "34881          2014           The Water Diviner          Turkish   \n",
       "\n",
       "                      director  \\\n",
       "149               Tom Ricketts   \n",
       "189               John Emerson   \n",
       "227            B. Reeves Eason   \n",
       "286            B. Reeves Eason   \n",
       "310           Fred C. Newmeyer   \n",
       "...                        ...   \n",
       "34434                  Unknown   \n",
       "34582            Park Chul-soo   \n",
       "34703            Park Chul-soo   \n",
       "34749                  Sun Hao   \n",
       "34881  Director: Russell Crowe   \n",
       "\n",
       "                                                    cast           genre  \\\n",
       "149                         Harold Lockwood, May Allison  romantic drama   \n",
       "189                                    Douglas Fairbanks         unknown   \n",
       "227                                       Mitchell Lewis           drama   \n",
       "286                           Mitchell Lewis, Jimsy Maye           drama   \n",
       "310                          Harold Lloyd, Mildred Davis    comedy short   \n",
       "...                                                  ...             ...   \n",
       "34434                                      Kwak Jae-yong         unknown   \n",
       "34582                          Jang Hyuk-jin, Lee Min-ah         unknown   \n",
       "34703                Jang Hyuk-jin, Lee Min-a, Kim Na-mi         unknown   \n",
       "34749                             Son Ye-jin, Chen Bolin         unknown   \n",
       "34881  Director: Russell Crowe\\r\\nCast: Russell Crowe...         unknown   \n",
       "\n",
       "                                               wiki_page  \\\n",
       "149    https://en.wikipedia.org/wiki/The_Other_Side_o...   \n",
       "189        https://en.wikipedia.org/wiki/Wild_and_Woolly   \n",
       "227    https://en.wikipedia.org/wiki/Nine-Tenths_of_t...   \n",
       "286    https://en.wikipedia.org/wiki/Nine-Tenths_of_t...   \n",
       "310    https://en.wikipedia.org/wiki/Among_Those_Present   \n",
       "...                                                  ...   \n",
       "34434           https://en.wikipedia.org/wiki/Cyborg_She   \n",
       "34582                https://en.wikipedia.org/wiki/B-E-D   \n",
       "34703                https://en.wikipedia.org/wiki/B-E-D   \n",
       "34749  https://en.wikipedia.org/wiki/Bad_Guys_Always_Die   \n",
       "34881    https://en.wikipedia.org/wiki/The_Water_Diviner   \n",
       "\n",
       "                                                    plot  \n",
       "149    Sets in the 19th century, the plot centered on...  \n",
       "189    As described in a film magazine review,[1] Jef...  \n",
       "227    As described in a film magazine,[1] Jules Lene...  \n",
       "286    As described in a film magazine,[1] Jules Lene...  \n",
       "310    Mrs. O'Brien (Herring) is eager to be accepted...  \n",
       "...                                                  ...  \n",
       "34434  It is 22 November 2007. Jiro Kitamura (Keisuke...  \n",
       "34582  E is everything to B. B is desperate because h...  \n",
       "34703  E is everything to B. B is desperate because h...  \n",
       "34749  Qingzi, a Chinese language teacher at an eleme...  \n",
       "34881  The film begins in 1919, just after World War ...  \n",
       "\n",
       "[1596 rows x 8 columns]"
      ],
      "text/html": [
       "<div>\n",
       "<style scoped>\n",
       "    .dataframe tbody tr th:only-of-type {\n",
       "        vertical-align: middle;\n",
       "    }\n",
       "\n",
       "    .dataframe tbody tr th {\n",
       "        vertical-align: top;\n",
       "    }\n",
       "\n",
       "    .dataframe thead th {\n",
       "        text-align: right;\n",
       "    }\n",
       "</style>\n",
       "<table border=\"1\" class=\"dataframe\">\n",
       "  <thead>\n",
       "    <tr style=\"text-align: right;\">\n",
       "      <th></th>\n",
       "      <th>release_year</th>\n",
       "      <th>title</th>\n",
       "      <th>origin_ethnicity</th>\n",
       "      <th>director</th>\n",
       "      <th>cast</th>\n",
       "      <th>genre</th>\n",
       "      <th>wiki_page</th>\n",
       "      <th>plot</th>\n",
       "    </tr>\n",
       "  </thead>\n",
       "  <tbody>\n",
       "    <tr>\n",
       "      <th>149</th>\n",
       "      <td>1916</td>\n",
       "      <td>The Other Side of the Door</td>\n",
       "      <td>American</td>\n",
       "      <td>Tom Ricketts</td>\n",
       "      <td>Harold Lockwood, May Allison</td>\n",
       "      <td>romantic drama</td>\n",
       "      <td>https://en.wikipedia.org/wiki/The_Other_Side_o...</td>\n",
       "      <td>Sets in the 19th century, the plot centered on...</td>\n",
       "    </tr>\n",
       "    <tr>\n",
       "      <th>189</th>\n",
       "      <td>1917</td>\n",
       "      <td>Wild and Woolly</td>\n",
       "      <td>American</td>\n",
       "      <td>John Emerson</td>\n",
       "      <td>Douglas Fairbanks</td>\n",
       "      <td>unknown</td>\n",
       "      <td>https://en.wikipedia.org/wiki/Wild_and_Woolly</td>\n",
       "      <td>As described in a film magazine review,[1] Jef...</td>\n",
       "    </tr>\n",
       "    <tr>\n",
       "      <th>227</th>\n",
       "      <td>1918</td>\n",
       "      <td>Nine-Tenths of the Law</td>\n",
       "      <td>American</td>\n",
       "      <td>B. Reeves Eason</td>\n",
       "      <td>Mitchell Lewis</td>\n",
       "      <td>drama</td>\n",
       "      <td>https://en.wikipedia.org/wiki/Nine-Tenths_of_t...</td>\n",
       "      <td>As described in a film magazine,[1] Jules Lene...</td>\n",
       "    </tr>\n",
       "    <tr>\n",
       "      <th>286</th>\n",
       "      <td>1919</td>\n",
       "      <td>Nine-Tenths of the Law</td>\n",
       "      <td>American</td>\n",
       "      <td>B. Reeves Eason</td>\n",
       "      <td>Mitchell Lewis, Jimsy Maye</td>\n",
       "      <td>drama</td>\n",
       "      <td>https://en.wikipedia.org/wiki/Nine-Tenths_of_t...</td>\n",
       "      <td>As described in a film magazine,[1] Jules Lene...</td>\n",
       "    </tr>\n",
       "    <tr>\n",
       "      <th>310</th>\n",
       "      <td>1920</td>\n",
       "      <td>Among Those Present</td>\n",
       "      <td>American</td>\n",
       "      <td>Fred C. Newmeyer</td>\n",
       "      <td>Harold Lloyd, Mildred Davis</td>\n",
       "      <td>comedy short</td>\n",
       "      <td>https://en.wikipedia.org/wiki/Among_Those_Present</td>\n",
       "      <td>Mrs. O'Brien (Herring) is eager to be accepted...</td>\n",
       "    </tr>\n",
       "    <tr>\n",
       "      <th>...</th>\n",
       "      <td>...</td>\n",
       "      <td>...</td>\n",
       "      <td>...</td>\n",
       "      <td>...</td>\n",
       "      <td>...</td>\n",
       "      <td>...</td>\n",
       "      <td>...</td>\n",
       "      <td>...</td>\n",
       "    </tr>\n",
       "    <tr>\n",
       "      <th>34434</th>\n",
       "      <td>2009</td>\n",
       "      <td>Cyborg She</td>\n",
       "      <td>South_Korean</td>\n",
       "      <td>Unknown</td>\n",
       "      <td>Kwak Jae-yong</td>\n",
       "      <td>unknown</td>\n",
       "      <td>https://en.wikipedia.org/wiki/Cyborg_She</td>\n",
       "      <td>It is 22 November 2007. Jiro Kitamura (Keisuke...</td>\n",
       "    </tr>\n",
       "    <tr>\n",
       "      <th>34582</th>\n",
       "      <td>2013</td>\n",
       "      <td>B-E-D</td>\n",
       "      <td>South_Korean</td>\n",
       "      <td>Park Chul-soo</td>\n",
       "      <td>Jang Hyuk-jin, Lee Min-ah</td>\n",
       "      <td>unknown</td>\n",
       "      <td>https://en.wikipedia.org/wiki/B-E-D</td>\n",
       "      <td>E is everything to B. B is desperate because h...</td>\n",
       "    </tr>\n",
       "    <tr>\n",
       "      <th>34703</th>\n",
       "      <td>2015</td>\n",
       "      <td>B-E-D</td>\n",
       "      <td>South_Korean</td>\n",
       "      <td>Park Chul-soo</td>\n",
       "      <td>Jang Hyuk-jin, Lee Min-a, Kim Na-mi</td>\n",
       "      <td>unknown</td>\n",
       "      <td>https://en.wikipedia.org/wiki/B-E-D</td>\n",
       "      <td>E is everything to B. B is desperate because h...</td>\n",
       "    </tr>\n",
       "    <tr>\n",
       "      <th>34749</th>\n",
       "      <td>2016</td>\n",
       "      <td>Bad Guys Always Die</td>\n",
       "      <td>South_Korean</td>\n",
       "      <td>Sun Hao</td>\n",
       "      <td>Son Ye-jin, Chen Bolin</td>\n",
       "      <td>unknown</td>\n",
       "      <td>https://en.wikipedia.org/wiki/Bad_Guys_Always_Die</td>\n",
       "      <td>Qingzi, a Chinese language teacher at an eleme...</td>\n",
       "    </tr>\n",
       "    <tr>\n",
       "      <th>34881</th>\n",
       "      <td>2014</td>\n",
       "      <td>The Water Diviner</td>\n",
       "      <td>Turkish</td>\n",
       "      <td>Director: Russell Crowe</td>\n",
       "      <td>Director: Russell Crowe\\r\\nCast: Russell Crowe...</td>\n",
       "      <td>unknown</td>\n",
       "      <td>https://en.wikipedia.org/wiki/The_Water_Diviner</td>\n",
       "      <td>The film begins in 1919, just after World War ...</td>\n",
       "    </tr>\n",
       "  </tbody>\n",
       "</table>\n",
       "<p>1596 rows × 8 columns</p>\n",
       "</div>"
      ]
     },
     "execution_count": 286,
     "metadata": {},
     "output_type": "execute_result"
    }
   ],
   "execution_count": 286
  },
  {
   "metadata": {},
   "cell_type": "markdown",
   "source": [
    "There are some real duplicates in the wiki_page column. Later we will check if we have to fix this. The impact on the later application is not clear yet.\n",
    "\n",
    "It's not clear if there are input error when crawling the data or if the movies are really the same. Some of the movies have the same wiki_page but different data."
   ],
   "id": "2549c10df11cc24f"
  },
  {
   "metadata": {
    "ExecuteTime": {
     "end_time": "2024-06-11T15:48:09.501232Z",
     "start_time": "2024-06-11T15:48:09.488458Z"
    }
   },
   "cell_type": "code",
   "source": [
    "# fetch data for 'Nine-Tenths of the Law' to see if the data is the same\n",
    "df[df['wiki_page'].str.contains('Nine-Tenths_of_the_Law')]"
   ],
   "id": "5e6af06f3d7c2db3",
   "outputs": [
    {
     "data": {
      "text/plain": [
       "     release_year                   title origin_ethnicity         director  \\\n",
       "227          1918  Nine-Tenths of the Law         American  B. Reeves Eason   \n",
       "286          1919  Nine-Tenths of the Law         American  B. Reeves Eason   \n",
       "\n",
       "                           cast  genre  \\\n",
       "227              Mitchell Lewis  drama   \n",
       "286  Mitchell Lewis, Jimsy Maye  drama   \n",
       "\n",
       "                                             wiki_page  \\\n",
       "227  https://en.wikipedia.org/wiki/Nine-Tenths_of_t...   \n",
       "286  https://en.wikipedia.org/wiki/Nine-Tenths_of_t...   \n",
       "\n",
       "                                                  plot  \n",
       "227  As described in a film magazine,[1] Jules Lene...  \n",
       "286  As described in a film magazine,[1] Jules Lene...  "
      ],
      "text/html": [
       "<div>\n",
       "<style scoped>\n",
       "    .dataframe tbody tr th:only-of-type {\n",
       "        vertical-align: middle;\n",
       "    }\n",
       "\n",
       "    .dataframe tbody tr th {\n",
       "        vertical-align: top;\n",
       "    }\n",
       "\n",
       "    .dataframe thead th {\n",
       "        text-align: right;\n",
       "    }\n",
       "</style>\n",
       "<table border=\"1\" class=\"dataframe\">\n",
       "  <thead>\n",
       "    <tr style=\"text-align: right;\">\n",
       "      <th></th>\n",
       "      <th>release_year</th>\n",
       "      <th>title</th>\n",
       "      <th>origin_ethnicity</th>\n",
       "      <th>director</th>\n",
       "      <th>cast</th>\n",
       "      <th>genre</th>\n",
       "      <th>wiki_page</th>\n",
       "      <th>plot</th>\n",
       "    </tr>\n",
       "  </thead>\n",
       "  <tbody>\n",
       "    <tr>\n",
       "      <th>227</th>\n",
       "      <td>1918</td>\n",
       "      <td>Nine-Tenths of the Law</td>\n",
       "      <td>American</td>\n",
       "      <td>B. Reeves Eason</td>\n",
       "      <td>Mitchell Lewis</td>\n",
       "      <td>drama</td>\n",
       "      <td>https://en.wikipedia.org/wiki/Nine-Tenths_of_t...</td>\n",
       "      <td>As described in a film magazine,[1] Jules Lene...</td>\n",
       "    </tr>\n",
       "    <tr>\n",
       "      <th>286</th>\n",
       "      <td>1919</td>\n",
       "      <td>Nine-Tenths of the Law</td>\n",
       "      <td>American</td>\n",
       "      <td>B. Reeves Eason</td>\n",
       "      <td>Mitchell Lewis, Jimsy Maye</td>\n",
       "      <td>drama</td>\n",
       "      <td>https://en.wikipedia.org/wiki/Nine-Tenths_of_t...</td>\n",
       "      <td>As described in a film magazine,[1] Jules Lene...</td>\n",
       "    </tr>\n",
       "  </tbody>\n",
       "</table>\n",
       "</div>"
      ]
     },
     "execution_count": 287,
     "metadata": {},
     "output_type": "execute_result"
    }
   ],
   "execution_count": 287
  },
  {
   "metadata": {},
   "cell_type": "markdown",
   "source": "The data is the same for the movie 'Nine-Tenths of the Law' but the release year is different. The title, origin_ethnicity, director, cast, wiki_page, and plot is the same. Cast and release_year are different. The impact on the later application is not clear yet.",
   "id": "2ffed0dc042451f1"
  },
  {
   "metadata": {},
   "cell_type": "markdown",
   "source": "#### Unknown values",
   "id": "47e58d1116f3a37d"
  },
  {
   "metadata": {
    "ExecuteTime": {
     "end_time": "2024-06-11T15:48:09.613573Z",
     "start_time": "2024-06-11T15:48:09.599795Z"
    }
   },
   "cell_type": "code",
   "source": [
    "# check for 'unknown' values in the wiki_page column\n",
    "unknown_wiki_page = df['wiki_page'].str.lower().str.contains('unknown').sum()\n",
    "print(\"There are {} movies with the wiki_page set to 'unknown'\".format(unknown_wiki_page))"
   ],
   "id": "c35a73ad434c18b0",
   "outputs": [
    {
     "name": "stdout",
     "output_type": "stream",
     "text": [
      "There are 18 movies with the wiki_page set to 'unknown'\n"
     ]
    }
   ],
   "execution_count": 288
  },
  {
   "metadata": {
    "ExecuteTime": {
     "end_time": "2024-06-11T15:48:09.933402Z",
     "start_time": "2024-06-11T15:48:09.911471Z"
    }
   },
   "cell_type": "code",
   "source": [
    "# display the rows with 'unknown' in the wiki_page column\n",
    "wiki_page_unknown = df[df['wiki_page'].str.lower().str.contains('unknown', na=False)]\n",
    "wiki_page_unknown"
   ],
   "id": "bff0a9f0041731a5",
   "outputs": [
    {
     "data": {
      "text/plain": [
       "       release_year                         title origin_ethnicity  \\\n",
       "662            1927                   The Unknown         American   \n",
       "3718           1944               Address Unknown         American   \n",
       "4368           1946                   The Unknown         American   \n",
       "4705           1948  Letter from an Unknown Woman         American   \n",
       "4803           1948                Unknown Island         American   \n",
       "5517           1951                Target Unknown         American   \n",
       "5539           1951               The Unknown Man         American   \n",
       "5540           1951                 Unknown World         American   \n",
       "6676           1956            Toward the Unknown         American   \n",
       "6696           1956                 X the Unknown         American   \n",
       "6827           1957              The Land Unknown         American   \n",
       "6935           1957            The Unknown Terror         American   \n",
       "8915           1973    Encounter with the Unknown         American   \n",
       "16136          2011                       Unknown         American   \n",
       "19514          1960              Identity Unknown          British   \n",
       "21110          2011                       Unknown          British   \n",
       "21586          2016              Complete Unknown          British   \n",
       "22504          2002             Unknown Pleasures          Chinese   \n",
       "\n",
       "                           director  \\\n",
       "662                    Tod Browning   \n",
       "3718        William Cameron Menzies   \n",
       "4368                    Henry Levin   \n",
       "4705                     Max Ophüls   \n",
       "4803                  Jack Bernhard   \n",
       "5517                 George Sherman   \n",
       "5539                 Richard Thorpe   \n",
       "5540                 Terry O. Morse   \n",
       "6676                   Mervyn LeRoy   \n",
       "6696                  Leslie Norman   \n",
       "6827                Virgil W. Vogel   \n",
       "6935                 Charles Warren   \n",
       "8915                 Harry Thomason   \n",
       "16136            Jaume Collet-Serra   \n",
       "19514                Frank Marshall   \n",
       "21110  Director: Jaume Collet-Serra   \n",
       "21586      Director: Joshua Marston   \n",
       "22504                   Jia Zhangke   \n",
       "\n",
       "                                                    cast            genre  \\\n",
       "662                            Lon Chaney, Joan Crawford           horror   \n",
       "3718   Mady Christians, Morris Carnovsky, Paul Lukas,...            drama   \n",
       "4368                          Karen Morley, Jeff Donnell            drama   \n",
       "4705                        Joan Fontaine, Louis Jourdan            drama   \n",
       "4803                      Virginia Grey, Richard Denning           sci-fi   \n",
       "5517                 Mark Stevens, Alex Nicol, Gig Young              war   \n",
       "5539                         Walter Pidgeon, Ann Harding            drama   \n",
       "5540                         Marilyn Nash, Victor Kilian           sci-fi   \n",
       "6676                      William Holden, Virginia Leith            drama   \n",
       "6696                         Dean Jagger, Edward Chapman           sci-fi   \n",
       "6827                     Jock Mahoney, Shirley Patterson  science fiction   \n",
       "6935                          Mala Powers, Paul Richards           horror   \n",
       "8915                        Rod Serling, Robert Ginnaven           horror   \n",
       "16136  Liam Neeson, Diane Kruger, January Jones, Fran...  action thriller   \n",
       "19514                       Richard Wyler, Pauline Yates            drama   \n",
       "21110  Director: Jaume Collet-Serra\\r\\nCast: Liam Nee...          unknown   \n",
       "21586  Director: Joshua Marston\\r\\nRachel Weisz, Mich...          unknown   \n",
       "22504              Zhao Weiwei,\\r\\nWu Qiong,\\r\\nZhao Tao            drama   \n",
       "\n",
       "                                               wiki_page  \\\n",
       "662    https://en.wikipedia.org/wiki/The_Unknown_(192...   \n",
       "3718   https://en.wikipedia.org/wiki/Address_Unknown_...   \n",
       "4368   https://en.wikipedia.org/wiki/The_Unknown_(194...   \n",
       "4705   https://en.wikipedia.org/wiki/Letter_from_an_U...   \n",
       "4803        https://en.wikipedia.org/wiki/Unknown_Island   \n",
       "5517        https://en.wikipedia.org/wiki/Target_Unknown   \n",
       "5539       https://en.wikipedia.org/wiki/The_Unknown_Man   \n",
       "5540         https://en.wikipedia.org/wiki/Unknown_World   \n",
       "6676    https://en.wikipedia.org/wiki/Toward_the_Unknown   \n",
       "6696         https://en.wikipedia.org/wiki/X_the_Unknown   \n",
       "6827      https://en.wikipedia.org/wiki/The_Land_Unknown   \n",
       "6935    https://en.wikipedia.org/wiki/The_Unknown_Terror   \n",
       "8915   https://en.wikipedia.org/wiki/Encounter_with_t...   \n",
       "16136  https://en.wikipedia.org/wiki/Unknown_(2011_film)   \n",
       "19514  https://en.wikipedia.org/wiki/Identity_Unknown...   \n",
       "21110  https://en.wikipedia.org/wiki/Unknown_(2011_film)   \n",
       "21586     https://en.wikipedia.org/wiki/Complete_Unknown   \n",
       "22504  https://en.wikipedia.org/wiki/Unknown_Pleasure...   \n",
       "\n",
       "                                                    plot  \n",
       "662    Alonzo the Armless is a circus freak who uses ...  \n",
       "3718   Martin Schulz and Max Eisenstein (Morris Carno...  \n",
       "4368   Relatives arrive for the reading of a will at ...  \n",
       "4705   In Vienna in the early twentieth century, Lisa...  \n",
       "4803   Adventure-seeker Ted Osborne (Phillip Reed) an...  \n",
       "5517   In 1944, at a United States Army Air Forces {U...  \n",
       "5539   Defense attorney Dwight Bradley Masen (Walter ...  \n",
       "5540   Dr. Jeremiah Morley (Victor Kilian) is concern...  \n",
       "6676   USAF Major Lincoln Bond (William Holden) was c...  \n",
       "6696   The film takes place in the Lochmouth region o...  \n",
       "6827   A small crew led by Commander Harold Roberts a...  \n",
       "6935   The mysterious disappearance of Jim Wheatley (...  \n",
       "8915   The film presents three allegedly true stories...  \n",
       "16136  Dr. Martin Harris and his wife Liz arrive in B...  \n",
       "19514  Two reporters develop a relationship while inv...  \n",
       "21110  Dr. Martin Harris and his wife Liz arrive in B...  \n",
       "21586  Alice (Weisz) an ever-changing woman in her th...  \n",
       "22504  Unknown Pleasures follows three disaffected, a...  "
      ],
      "text/html": [
       "<div>\n",
       "<style scoped>\n",
       "    .dataframe tbody tr th:only-of-type {\n",
       "        vertical-align: middle;\n",
       "    }\n",
       "\n",
       "    .dataframe tbody tr th {\n",
       "        vertical-align: top;\n",
       "    }\n",
       "\n",
       "    .dataframe thead th {\n",
       "        text-align: right;\n",
       "    }\n",
       "</style>\n",
       "<table border=\"1\" class=\"dataframe\">\n",
       "  <thead>\n",
       "    <tr style=\"text-align: right;\">\n",
       "      <th></th>\n",
       "      <th>release_year</th>\n",
       "      <th>title</th>\n",
       "      <th>origin_ethnicity</th>\n",
       "      <th>director</th>\n",
       "      <th>cast</th>\n",
       "      <th>genre</th>\n",
       "      <th>wiki_page</th>\n",
       "      <th>plot</th>\n",
       "    </tr>\n",
       "  </thead>\n",
       "  <tbody>\n",
       "    <tr>\n",
       "      <th>662</th>\n",
       "      <td>1927</td>\n",
       "      <td>The Unknown</td>\n",
       "      <td>American</td>\n",
       "      <td>Tod Browning</td>\n",
       "      <td>Lon Chaney, Joan Crawford</td>\n",
       "      <td>horror</td>\n",
       "      <td>https://en.wikipedia.org/wiki/The_Unknown_(192...</td>\n",
       "      <td>Alonzo the Armless is a circus freak who uses ...</td>\n",
       "    </tr>\n",
       "    <tr>\n",
       "      <th>3718</th>\n",
       "      <td>1944</td>\n",
       "      <td>Address Unknown</td>\n",
       "      <td>American</td>\n",
       "      <td>William Cameron Menzies</td>\n",
       "      <td>Mady Christians, Morris Carnovsky, Paul Lukas,...</td>\n",
       "      <td>drama</td>\n",
       "      <td>https://en.wikipedia.org/wiki/Address_Unknown_...</td>\n",
       "      <td>Martin Schulz and Max Eisenstein (Morris Carno...</td>\n",
       "    </tr>\n",
       "    <tr>\n",
       "      <th>4368</th>\n",
       "      <td>1946</td>\n",
       "      <td>The Unknown</td>\n",
       "      <td>American</td>\n",
       "      <td>Henry Levin</td>\n",
       "      <td>Karen Morley, Jeff Donnell</td>\n",
       "      <td>drama</td>\n",
       "      <td>https://en.wikipedia.org/wiki/The_Unknown_(194...</td>\n",
       "      <td>Relatives arrive for the reading of a will at ...</td>\n",
       "    </tr>\n",
       "    <tr>\n",
       "      <th>4705</th>\n",
       "      <td>1948</td>\n",
       "      <td>Letter from an Unknown Woman</td>\n",
       "      <td>American</td>\n",
       "      <td>Max Ophüls</td>\n",
       "      <td>Joan Fontaine, Louis Jourdan</td>\n",
       "      <td>drama</td>\n",
       "      <td>https://en.wikipedia.org/wiki/Letter_from_an_U...</td>\n",
       "      <td>In Vienna in the early twentieth century, Lisa...</td>\n",
       "    </tr>\n",
       "    <tr>\n",
       "      <th>4803</th>\n",
       "      <td>1948</td>\n",
       "      <td>Unknown Island</td>\n",
       "      <td>American</td>\n",
       "      <td>Jack Bernhard</td>\n",
       "      <td>Virginia Grey, Richard Denning</td>\n",
       "      <td>sci-fi</td>\n",
       "      <td>https://en.wikipedia.org/wiki/Unknown_Island</td>\n",
       "      <td>Adventure-seeker Ted Osborne (Phillip Reed) an...</td>\n",
       "    </tr>\n",
       "    <tr>\n",
       "      <th>5517</th>\n",
       "      <td>1951</td>\n",
       "      <td>Target Unknown</td>\n",
       "      <td>American</td>\n",
       "      <td>George Sherman</td>\n",
       "      <td>Mark Stevens, Alex Nicol, Gig Young</td>\n",
       "      <td>war</td>\n",
       "      <td>https://en.wikipedia.org/wiki/Target_Unknown</td>\n",
       "      <td>In 1944, at a United States Army Air Forces {U...</td>\n",
       "    </tr>\n",
       "    <tr>\n",
       "      <th>5539</th>\n",
       "      <td>1951</td>\n",
       "      <td>The Unknown Man</td>\n",
       "      <td>American</td>\n",
       "      <td>Richard Thorpe</td>\n",
       "      <td>Walter Pidgeon, Ann Harding</td>\n",
       "      <td>drama</td>\n",
       "      <td>https://en.wikipedia.org/wiki/The_Unknown_Man</td>\n",
       "      <td>Defense attorney Dwight Bradley Masen (Walter ...</td>\n",
       "    </tr>\n",
       "    <tr>\n",
       "      <th>5540</th>\n",
       "      <td>1951</td>\n",
       "      <td>Unknown World</td>\n",
       "      <td>American</td>\n",
       "      <td>Terry O. Morse</td>\n",
       "      <td>Marilyn Nash, Victor Kilian</td>\n",
       "      <td>sci-fi</td>\n",
       "      <td>https://en.wikipedia.org/wiki/Unknown_World</td>\n",
       "      <td>Dr. Jeremiah Morley (Victor Kilian) is concern...</td>\n",
       "    </tr>\n",
       "    <tr>\n",
       "      <th>6676</th>\n",
       "      <td>1956</td>\n",
       "      <td>Toward the Unknown</td>\n",
       "      <td>American</td>\n",
       "      <td>Mervyn LeRoy</td>\n",
       "      <td>William Holden, Virginia Leith</td>\n",
       "      <td>drama</td>\n",
       "      <td>https://en.wikipedia.org/wiki/Toward_the_Unknown</td>\n",
       "      <td>USAF Major Lincoln Bond (William Holden) was c...</td>\n",
       "    </tr>\n",
       "    <tr>\n",
       "      <th>6696</th>\n",
       "      <td>1956</td>\n",
       "      <td>X the Unknown</td>\n",
       "      <td>American</td>\n",
       "      <td>Leslie Norman</td>\n",
       "      <td>Dean Jagger, Edward Chapman</td>\n",
       "      <td>sci-fi</td>\n",
       "      <td>https://en.wikipedia.org/wiki/X_the_Unknown</td>\n",
       "      <td>The film takes place in the Lochmouth region o...</td>\n",
       "    </tr>\n",
       "    <tr>\n",
       "      <th>6827</th>\n",
       "      <td>1957</td>\n",
       "      <td>The Land Unknown</td>\n",
       "      <td>American</td>\n",
       "      <td>Virgil W. Vogel</td>\n",
       "      <td>Jock Mahoney, Shirley Patterson</td>\n",
       "      <td>science fiction</td>\n",
       "      <td>https://en.wikipedia.org/wiki/The_Land_Unknown</td>\n",
       "      <td>A small crew led by Commander Harold Roberts a...</td>\n",
       "    </tr>\n",
       "    <tr>\n",
       "      <th>6935</th>\n",
       "      <td>1957</td>\n",
       "      <td>The Unknown Terror</td>\n",
       "      <td>American</td>\n",
       "      <td>Charles Warren</td>\n",
       "      <td>Mala Powers, Paul Richards</td>\n",
       "      <td>horror</td>\n",
       "      <td>https://en.wikipedia.org/wiki/The_Unknown_Terror</td>\n",
       "      <td>The mysterious disappearance of Jim Wheatley (...</td>\n",
       "    </tr>\n",
       "    <tr>\n",
       "      <th>8915</th>\n",
       "      <td>1973</td>\n",
       "      <td>Encounter with the Unknown</td>\n",
       "      <td>American</td>\n",
       "      <td>Harry Thomason</td>\n",
       "      <td>Rod Serling, Robert Ginnaven</td>\n",
       "      <td>horror</td>\n",
       "      <td>https://en.wikipedia.org/wiki/Encounter_with_t...</td>\n",
       "      <td>The film presents three allegedly true stories...</td>\n",
       "    </tr>\n",
       "    <tr>\n",
       "      <th>16136</th>\n",
       "      <td>2011</td>\n",
       "      <td>Unknown</td>\n",
       "      <td>American</td>\n",
       "      <td>Jaume Collet-Serra</td>\n",
       "      <td>Liam Neeson, Diane Kruger, January Jones, Fran...</td>\n",
       "      <td>action thriller</td>\n",
       "      <td>https://en.wikipedia.org/wiki/Unknown_(2011_film)</td>\n",
       "      <td>Dr. Martin Harris and his wife Liz arrive in B...</td>\n",
       "    </tr>\n",
       "    <tr>\n",
       "      <th>19514</th>\n",
       "      <td>1960</td>\n",
       "      <td>Identity Unknown</td>\n",
       "      <td>British</td>\n",
       "      <td>Frank Marshall</td>\n",
       "      <td>Richard Wyler, Pauline Yates</td>\n",
       "      <td>drama</td>\n",
       "      <td>https://en.wikipedia.org/wiki/Identity_Unknown...</td>\n",
       "      <td>Two reporters develop a relationship while inv...</td>\n",
       "    </tr>\n",
       "    <tr>\n",
       "      <th>21110</th>\n",
       "      <td>2011</td>\n",
       "      <td>Unknown</td>\n",
       "      <td>British</td>\n",
       "      <td>Director: Jaume Collet-Serra</td>\n",
       "      <td>Director: Jaume Collet-Serra\\r\\nCast: Liam Nee...</td>\n",
       "      <td>unknown</td>\n",
       "      <td>https://en.wikipedia.org/wiki/Unknown_(2011_film)</td>\n",
       "      <td>Dr. Martin Harris and his wife Liz arrive in B...</td>\n",
       "    </tr>\n",
       "    <tr>\n",
       "      <th>21586</th>\n",
       "      <td>2016</td>\n",
       "      <td>Complete Unknown</td>\n",
       "      <td>British</td>\n",
       "      <td>Director: Joshua Marston</td>\n",
       "      <td>Director: Joshua Marston\\r\\nRachel Weisz, Mich...</td>\n",
       "      <td>unknown</td>\n",
       "      <td>https://en.wikipedia.org/wiki/Complete_Unknown</td>\n",
       "      <td>Alice (Weisz) an ever-changing woman in her th...</td>\n",
       "    </tr>\n",
       "    <tr>\n",
       "      <th>22504</th>\n",
       "      <td>2002</td>\n",
       "      <td>Unknown Pleasures</td>\n",
       "      <td>Chinese</td>\n",
       "      <td>Jia Zhangke</td>\n",
       "      <td>Zhao Weiwei,\\r\\nWu Qiong,\\r\\nZhao Tao</td>\n",
       "      <td>drama</td>\n",
       "      <td>https://en.wikipedia.org/wiki/Unknown_Pleasure...</td>\n",
       "      <td>Unknown Pleasures follows three disaffected, a...</td>\n",
       "    </tr>\n",
       "  </tbody>\n",
       "</table>\n",
       "</div>"
      ]
     },
     "execution_count": 289,
     "metadata": {},
     "output_type": "execute_result"
    }
   ],
   "execution_count": 289
  },
  {
   "metadata": {},
   "cell_type": "markdown",
   "source": "There are no real 'unknown' values in the wiki_page column. The term 'unknown' is a valid value for the wiki_page column.",
   "id": "a2607291e986a3ef"
  },
  {
   "metadata": {},
   "cell_type": "markdown",
   "source": "#### Multiple Values",
   "id": "2663b568936ca54f"
  },
  {
   "metadata": {
    "ExecuteTime": {
     "end_time": "2024-06-11T15:48:10.111182Z",
     "start_time": "2024-06-11T15:48:10.098363Z"
    }
   },
   "cell_type": "code",
   "source": [
    "# check if there are multiple wiki_pages per movie\n",
    "multiple_wiki_pages = df['wiki_page'].str.lower().str.contains(',').sum()\n",
    "print(\"There are {} movies with multiple wiki_pages based on comma separator\".format(multiple_wiki_pages))"
   ],
   "id": "250d0153f1763d15",
   "outputs": [
    {
     "name": "stdout",
     "output_type": "stream",
     "text": [
      "There are 538 movies with multiple wiki_pages based on comma separator\n"
     ]
    }
   ],
   "execution_count": 290
  },
  {
   "metadata": {
    "ExecuteTime": {
     "end_time": "2024-06-11T15:48:10.479791Z",
     "start_time": "2024-06-11T15:48:10.462694Z"
    }
   },
   "cell_type": "code",
   "source": [
    "# display the rows with multiple wiki_pages\n",
    "wiki_pages = df[df['wiki_page'].str.lower().str.contains(',', na=False)]\n",
    "wiki_pages"
   ],
   "id": "2d313fb876d7a138",
   "outputs": [
    {
     "data": {
      "text/plain": [
       "       release_year                                     title  \\\n",
       "3              1901          Terrible Teddy, the Grizzly King   \n",
       "29             1910               Hemlock Hoax, the Detective   \n",
       "37             1911  The Black Arrow: A Tale of the Two Roses   \n",
       "71             1914                         Cruel, Cruel Love   \n",
       "79             1914          His Majesty, the Scarecrow of Oz   \n",
       "...             ...                                       ...   \n",
       "34738          2015                     Right Now, Wrong Then   \n",
       "34758          2016                                Love, Lies   \n",
       "34779          2017                    Daddy You, Daughter Me   \n",
       "34780          2017                      My Little Baby, Jaya   \n",
       "34783          2017                            Come, Together   \n",
       "\n",
       "      origin_ethnicity                         director  \\\n",
       "3             American                          Unknown   \n",
       "29            American                          Unknown   \n",
       "37            American                      Oscar Apfel   \n",
       "71            American  George Nichols and Mack Sennett   \n",
       "79            American             J. Farrell MacDonald   \n",
       "...                ...                              ...   \n",
       "34738     South_Korean                    Hong Sang-soo   \n",
       "34758     South_Korean                   Park Heung-sik   \n",
       "34779     South_Korean                 Kim Hyeong-hyeop   \n",
       "34780     South_Korean                    Yoon Hak-ryul   \n",
       "34783     South_Korean                     Shin Dong-il   \n",
       "\n",
       "                                               cast    genre  \\\n",
       "3                                               NaN  unknown   \n",
       "29                                              NaN   comedy   \n",
       "37                     Charles Ogle, Natalie Jerome    drama   \n",
       "71     Charlie Chaplin, Edgar Kennedy, Minta Durfee   comedy   \n",
       "79                 Violet MacMillan, Pierre Couderc  unknown   \n",
       "...                                             ...      ...   \n",
       "34738                   Jung Jae-young, Kim Min-hee  unknown   \n",
       "34758      Han Hyo-joo, Chun Woo-hee, Yoo Yeon-seok  unknown   \n",
       "34779                     Jung So-min, Yoon Je-moon  unknown   \n",
       "34780                   Kim Jeong-kyoon, Oh Ye-seol  unknown   \n",
       "34783          Im Hyeon-gook, Lee Hye-eun, Chae Bin  unknown   \n",
       "\n",
       "                                               wiki_page  \\\n",
       "3      https://en.wikipedia.org/wiki/Terrible_Teddy,_...   \n",
       "29     https://en.wikipedia.org/wiki/Hemlock_Hoax,_th...   \n",
       "37     https://en.wikipedia.org/wiki/The_Black_Arrow:...   \n",
       "71       https://en.wikipedia.org/wiki/Cruel,_Cruel_Love   \n",
       "79     https://en.wikipedia.org/wiki/His_Majesty,_the...   \n",
       "...                                                  ...   \n",
       "34738  https://en.wikipedia.org/wiki/Right_Now,_Wrong...   \n",
       "34758  https://en.wikipedia.org/wiki/Love,_Lies_(2016...   \n",
       "34779  https://en.wikipedia.org/wiki/Daddy_You,_Daugh...   \n",
       "34780  https://en.wikipedia.org/wiki/My_Little_Baby,_...   \n",
       "34783       https://en.wikipedia.org/wiki/Come,_Together   \n",
       "\n",
       "                                                    plot  \n",
       "3      Lasting just 61 seconds and consisting of two ...  \n",
       "29     Hemlock Hoax is a detective who has little res...  \n",
       "37     The novel is set in the reign of \"old King Hen...  \n",
       "71     Chaplin plays a character quite different from...  \n",
       "79     King Krewl (Raymond Russell) is a cruel dictat...  \n",
       "...                                                  ...  \n",
       "34738  An arthouse film director, Ham Cheon-soo, trav...  \n",
       "34758  In Imperial Japanese-occupied Korea, Jung So-y...  \n",
       "34779  The story of a father and daughter whose souls...  \n",
       "34780  The story of a man with cerebral palsy whose l...  \n",
       "34783  An outlook on an ordinary Korean family conten...  \n",
       "\n",
       "[538 rows x 8 columns]"
      ],
      "text/html": [
       "<div>\n",
       "<style scoped>\n",
       "    .dataframe tbody tr th:only-of-type {\n",
       "        vertical-align: middle;\n",
       "    }\n",
       "\n",
       "    .dataframe tbody tr th {\n",
       "        vertical-align: top;\n",
       "    }\n",
       "\n",
       "    .dataframe thead th {\n",
       "        text-align: right;\n",
       "    }\n",
       "</style>\n",
       "<table border=\"1\" class=\"dataframe\">\n",
       "  <thead>\n",
       "    <tr style=\"text-align: right;\">\n",
       "      <th></th>\n",
       "      <th>release_year</th>\n",
       "      <th>title</th>\n",
       "      <th>origin_ethnicity</th>\n",
       "      <th>director</th>\n",
       "      <th>cast</th>\n",
       "      <th>genre</th>\n",
       "      <th>wiki_page</th>\n",
       "      <th>plot</th>\n",
       "    </tr>\n",
       "  </thead>\n",
       "  <tbody>\n",
       "    <tr>\n",
       "      <th>3</th>\n",
       "      <td>1901</td>\n",
       "      <td>Terrible Teddy, the Grizzly King</td>\n",
       "      <td>American</td>\n",
       "      <td>Unknown</td>\n",
       "      <td>NaN</td>\n",
       "      <td>unknown</td>\n",
       "      <td>https://en.wikipedia.org/wiki/Terrible_Teddy,_...</td>\n",
       "      <td>Lasting just 61 seconds and consisting of two ...</td>\n",
       "    </tr>\n",
       "    <tr>\n",
       "      <th>29</th>\n",
       "      <td>1910</td>\n",
       "      <td>Hemlock Hoax, the Detective</td>\n",
       "      <td>American</td>\n",
       "      <td>Unknown</td>\n",
       "      <td>NaN</td>\n",
       "      <td>comedy</td>\n",
       "      <td>https://en.wikipedia.org/wiki/Hemlock_Hoax,_th...</td>\n",
       "      <td>Hemlock Hoax is a detective who has little res...</td>\n",
       "    </tr>\n",
       "    <tr>\n",
       "      <th>37</th>\n",
       "      <td>1911</td>\n",
       "      <td>The Black Arrow: A Tale of the Two Roses</td>\n",
       "      <td>American</td>\n",
       "      <td>Oscar Apfel</td>\n",
       "      <td>Charles Ogle, Natalie Jerome</td>\n",
       "      <td>drama</td>\n",
       "      <td>https://en.wikipedia.org/wiki/The_Black_Arrow:...</td>\n",
       "      <td>The novel is set in the reign of \"old King Hen...</td>\n",
       "    </tr>\n",
       "    <tr>\n",
       "      <th>71</th>\n",
       "      <td>1914</td>\n",
       "      <td>Cruel, Cruel Love</td>\n",
       "      <td>American</td>\n",
       "      <td>George Nichols and Mack Sennett</td>\n",
       "      <td>Charlie Chaplin, Edgar Kennedy, Minta Durfee</td>\n",
       "      <td>comedy</td>\n",
       "      <td>https://en.wikipedia.org/wiki/Cruel,_Cruel_Love</td>\n",
       "      <td>Chaplin plays a character quite different from...</td>\n",
       "    </tr>\n",
       "    <tr>\n",
       "      <th>79</th>\n",
       "      <td>1914</td>\n",
       "      <td>His Majesty, the Scarecrow of Oz</td>\n",
       "      <td>American</td>\n",
       "      <td>J. Farrell MacDonald</td>\n",
       "      <td>Violet MacMillan, Pierre Couderc</td>\n",
       "      <td>unknown</td>\n",
       "      <td>https://en.wikipedia.org/wiki/His_Majesty,_the...</td>\n",
       "      <td>King Krewl (Raymond Russell) is a cruel dictat...</td>\n",
       "    </tr>\n",
       "    <tr>\n",
       "      <th>...</th>\n",
       "      <td>...</td>\n",
       "      <td>...</td>\n",
       "      <td>...</td>\n",
       "      <td>...</td>\n",
       "      <td>...</td>\n",
       "      <td>...</td>\n",
       "      <td>...</td>\n",
       "      <td>...</td>\n",
       "    </tr>\n",
       "    <tr>\n",
       "      <th>34738</th>\n",
       "      <td>2015</td>\n",
       "      <td>Right Now, Wrong Then</td>\n",
       "      <td>South_Korean</td>\n",
       "      <td>Hong Sang-soo</td>\n",
       "      <td>Jung Jae-young, Kim Min-hee</td>\n",
       "      <td>unknown</td>\n",
       "      <td>https://en.wikipedia.org/wiki/Right_Now,_Wrong...</td>\n",
       "      <td>An arthouse film director, Ham Cheon-soo, trav...</td>\n",
       "    </tr>\n",
       "    <tr>\n",
       "      <th>34758</th>\n",
       "      <td>2016</td>\n",
       "      <td>Love, Lies</td>\n",
       "      <td>South_Korean</td>\n",
       "      <td>Park Heung-sik</td>\n",
       "      <td>Han Hyo-joo, Chun Woo-hee, Yoo Yeon-seok</td>\n",
       "      <td>unknown</td>\n",
       "      <td>https://en.wikipedia.org/wiki/Love,_Lies_(2016...</td>\n",
       "      <td>In Imperial Japanese-occupied Korea, Jung So-y...</td>\n",
       "    </tr>\n",
       "    <tr>\n",
       "      <th>34779</th>\n",
       "      <td>2017</td>\n",
       "      <td>Daddy You, Daughter Me</td>\n",
       "      <td>South_Korean</td>\n",
       "      <td>Kim Hyeong-hyeop</td>\n",
       "      <td>Jung So-min, Yoon Je-moon</td>\n",
       "      <td>unknown</td>\n",
       "      <td>https://en.wikipedia.org/wiki/Daddy_You,_Daugh...</td>\n",
       "      <td>The story of a father and daughter whose souls...</td>\n",
       "    </tr>\n",
       "    <tr>\n",
       "      <th>34780</th>\n",
       "      <td>2017</td>\n",
       "      <td>My Little Baby, Jaya</td>\n",
       "      <td>South_Korean</td>\n",
       "      <td>Yoon Hak-ryul</td>\n",
       "      <td>Kim Jeong-kyoon, Oh Ye-seol</td>\n",
       "      <td>unknown</td>\n",
       "      <td>https://en.wikipedia.org/wiki/My_Little_Baby,_...</td>\n",
       "      <td>The story of a man with cerebral palsy whose l...</td>\n",
       "    </tr>\n",
       "    <tr>\n",
       "      <th>34783</th>\n",
       "      <td>2017</td>\n",
       "      <td>Come, Together</td>\n",
       "      <td>South_Korean</td>\n",
       "      <td>Shin Dong-il</td>\n",
       "      <td>Im Hyeon-gook, Lee Hye-eun, Chae Bin</td>\n",
       "      <td>unknown</td>\n",
       "      <td>https://en.wikipedia.org/wiki/Come,_Together</td>\n",
       "      <td>An outlook on an ordinary Korean family conten...</td>\n",
       "    </tr>\n",
       "  </tbody>\n",
       "</table>\n",
       "<p>538 rows × 8 columns</p>\n",
       "</div>"
      ]
     },
     "execution_count": 291,
     "metadata": {},
     "output_type": "execute_result"
    }
   ],
   "execution_count": 291
  },
  {
   "metadata": {},
   "cell_type": "markdown",
   "source": "There are no multiple wiki_pages per movie. There are URLs with commas in the title.",
   "id": "c79148c5089c0591"
  },
  {
   "metadata": {},
   "cell_type": "markdown",
   "source": [
    "#### Summary\n",
    "- The wiki_page column has no missing values.\n",
    "- There are no empty strings in the wiki_page column.\n",
    "- There are duplicates in the wiki_page column. It is not clear if we have to fix this and what impact it has on the later application.\n",
    "- there are no 'unknown' values in the wiki_page column.\n",
    "- There are no multiple wiki_pages per movie."
   ],
   "id": "f0a1731325ff1898"
  },
  {
   "metadata": {},
   "cell_type": "markdown",
   "source": "#### 2.1.8 Check: plot",
   "id": "74aefa2a6897784f"
  },
  {
   "metadata": {},
   "cell_type": "markdown",
   "source": "#### Show values",
   "id": "29e46d79fb10af5"
  },
  {
   "metadata": {
    "ExecuteTime": {
     "end_time": "2024-06-11T15:48:10.821311Z",
     "start_time": "2024-06-11T15:48:10.734973Z"
    }
   },
   "cell_type": "code",
   "source": [
    "# display values for the plot column\n",
    "df['plot'].value_counts()"
   ],
   "id": "c0e83b59291fecd5",
   "outputs": [
    {
     "data": {
      "text/plain": [
       "plot\n",
       "(マッスル人参争奪！超人大戦争, Massuru Ninjin Soudatsu! Choujin Dai Sensou)\\r\\nIn order to save a princess, Mantarou and the gang must find a special ginseng. They are later joined by Kevin Mask.                                                                                                                                                                                                                                                                                                                                                                                                                                                                                                                                                                                                                                                                                                                                                                                                                                                                                                                                                                                                                                                                                                                                                                                                                                                                                                                                                                                                                                                                                                                                                                                                                                                                                                                                                                                                                                                                                                                                                                                                                                                                                                                                                                                                                                                                                                                                                                                                                                                                                                                                                                                                                                                                                                                                                                                                                                                                                                                                                                                                                                                                                                                                                                                                                                                                                                                                                                                                                                                                                                                                                                                                                                                                                                                                                                                                                                                                                                                                                                                                                                                                                                                                                                                                                                                                                                                                                                                           6\n",
       "When world peace is threatened by the emergence of a terrorist group called the Black Cross Army, a peacekeeping organization called EAGLE (for Earth Guard League)[citation needed] is formed by the United Nations to combat the threat. The Black Cross Army sends five operatives to destroy each EAGLE branch in Japan, killing everyone except for five agents. These surviving agents are summoned to a secret base located underneath the snack shop \"Gon\", where they are recruited by EAGLE Japan's commander, Gonpachi Edogawa. They become the Secret Squad Gorenger and are given electronic battlesuits that endow them with superhuman strength and speed. The five dedicate themselves to stopping the Black Cross Army and its leader, Black Cross Führer.                                                                                                                                                                                                                                                                                                                                                                                                                                                                                                                                                                                                                                                                                                                                                                                                                                                                                                                                                                                                                                                                                                                                                                                                                                                                                                                                                                                                                                                                                                                                                                                                                                                                                                                                                                                                                                                                                                                                                                                                                                                                                                                                                                                                                                                                                                                                                                                                                                                                                                                                                                                                                                                                                                                                                                                                                                                                                                                                                                                                                                                                                                                                                                                                                                                                                                                                                                                                                                                                                                                                                                                                                                                                                                                                                                                                     5\n",
       "The films take place three years after the events of Digimon Adventure 02 and focuses on the first season DigiDestined and their partner Digimon. A mysterious anomaly is causing distortions in the Real World and Digimon are being plagued by a virus that turns them hostile. These circumstances lead to the DigiDestined being reunited with their partner Digimon. Joined by another DigiDestined named Meiko Mochizuki and her partner Meicoomon, the DigiDestined must not only deal with the infected Digimon and the mystery behind them but also with the responsibilities and burdens of growing up.                                                                                                                                                                                                                                                                                                                                                                                                                                                                                                                                                                                                                                                                                                                                                                                                                                                                                                                                                                                                                                                                                                                                                                                                                                                                                                                                                                                                                                                                                                                                                                                                                                                                                                                                                                                                                                                                                                                                                                                                                                                                                                                                                                                                                                                                                                                                                                                                                                                                                                                                                                                                                                                                                                                                                                                                                                                                                                                                                                                                                                                                                                                                                                                                                                                                                                                                                                                                                                                                                                                                                                                                                                                                                                                                                                                                                                                                                                                                                               5\n",
       "In this film, Vinu Mohan / Ramana plays an upcoming musician. After finishing a recording, he is on his way home when he sees an artist creating art on the street and he is stricken with awe. Onlookers are giving the artist a few rupees each but not as much as the artist expected. At this point, it begins to rain and the drawing begins to dissolve as the onlookers disperse. Vinu Mohan / Ramana hands over his entire 'bata' for the day to the artist.                                                                                                                                                                                                                                                                                                                                                                                                                                                                                                                                                                                                                                                                                                                                                                                                                                                                                                                                                                                                                                                                                                                                                                                                                                                                                                                                                                                                                                                                                                                                                                                                                                                                                                                                                                                                                                                                                                                                                                                                                                                                                                                                                                                                                                                                                                                                                                                                                                                                                                                                                                                                                                                                                                                                                                                                                                                                                                                                                                                                                                                                                                                                                                                                                                                                                                                                                                                                                                                                                                                                                                                                                                                                                                                                                                                                                                                                                                                                                                                                                                                                                                            4\n",
       "This film deals with untouchability in a lighter vein, about a bhagavathar (P. B. Rangachari) misbehaving with a domestic help (Jaya). She visits him with her husband. Scared, and with his wife (K.S. Adhilakshmi) at home adding to it, the man apologises for his conduct. Comedy actor T.V. Sethuraman plays his disciple and M.R. Subramaniam plays the village headman.\\r\\nComedy actor T.S. Durairaj, who also produced films and had success as race-horse-owner at the Guindy Races, played the ‘minor’ in this film (In those days, a ‘minor’ was usually a young man with a loads of inherited money with which he led a care-free life). He refuses to marry the woman suggested by his mother, and joins a mutt to learn how to impress women. Here he falls in love with a married washerwoman (Adhilakshmi). Complications arise when the husband comes to know of it and takes his wife away. What happens to the ‘minor’ and how he learns his lessons forms the rest of the film. M.R. Swaminathan played the husband and Sethuraman contributed to the fun with his wisecracks.\\r\\nThis film is not a comedy, but a tale of godly devotion dealt with humour. Stage and screen actor P.B. Rangachari plays Adigal, a devotee of saint-poet Appar. When Appar comes to lunch at Adigalar’s house, his young son is sent to the back yard to fetch a banana leaf. He is bitten by a poisonous snake and dies. Adigal and his wife (Meenakshi) hide the son’s body and get ready to serve Appar. Swami hides the body and asks them where their son is.\\r\\nThe truth comes out, and Appar, with divine help, brings the boy back to life. Singer-actor V.N. Sundaram plays the saint-poet. V.N. Janaki, wife of MGR (also Chief Minister of Tamil Nadu for a brief while) does a dance sequence along with the now-forgotten dancer Krishna Bai.\\r\\nThis is a spoof on the familiar tale of Markandeya who is blessed with eternal youth. Kali N. Ratnam plays Lord Yama while T.R. Ramachandran is Markandeya. Kannada stage and screen actor K. Hiranaiah is Chitragupta, Yama’s record-keeper.                                                                                                                                                                                                                                                                                                                                                                                                                                                                                                                                                                                                                                                                                                                                                                                                                                                                                                                                                                                                                                                                                                                                                                                                                                                                                                                                                                                                                                                                                                                                                                                                                                                                                                                                                                                                                                                                                                                                                                                                                                                                                                                                                                                                                                                                                                                                                                                                                                                              4\n",
       "                                                                                                                                                                                                                                                                                                                                                                                                                                                                                                                                                                                                                                                                                                                                                                                                                                                                                                                                                                                                                                                                                                                                                                                                                                                                                                                                                                                                                                                                                                                                                                                                                                                                                                                                                                                                                                                                                                                                                                                                                                                                                                                                                                                                                                                                                                                                                                                                                                                                                                                                                                                                                                                                                                                                                                                                                                                                                                                                                                                                                                                                                                                                                                                                                                                                                                                                                                                                                                                                                                                                                                                                                                                                                                                                                                                                                                                                                                                                                                                                                                                                                                                                                                                                                                                                                                                                                                                                                                                                                                                                                                               ..\n",
       "World-famous European race car driver, Duessel Dorf, comes to America to take on his greatest challenge-stock car racing at Sears Point Raceway. However, Dorf, with his usual skill, soon turns the race into a shambles and sets the world of stock car racing on its ear.                                                                                                                                                                                                                                                                                                                                                                                                                                                                                                                                                                                                                                                                                                                                                                                                                                                                                                                                                                                                                                                                                                                                                                                                                                                                                                                                                                                                                                                                                                                                                                                                                                                                                                                                                                                                                                                                                                                                                                                                                                                                                                                                                                                                                                                                                                                                                                                                                                                                                                                                                                                                                                                                                                                                                                                                                                                                                                                                                                                                                                                                                                                                                                                                                                                                                                                                                                                                                                                                                                                                                                                                                                                                                                                                                                                                                                                                                                                                                                                                                                                                                                                                                                                                                                                                                                    1\n",
       "On Christmas Eve, two years after the Nakatomi Tower Incident, John McClane is waiting at Washington Dulles International Airport for his wife Holly to arrive from Los Angeles. Reporter Richard Thornburg, who exposed Holly's identity to Hans Gruber in the Nakatomi Tower, is assigned a seat across the aisle from her. In the airport bar, McClane spots two men in Army fatigues behaving suspiciously. He follows them into the baggage area. After a shootout, he kills one of the men while the other escapes. Learning the dead man is an American soldier believed to be killed in action while originally serving in Honduras, McClane relates the situation to airport police captain Carmine Lorenzo, who dismisses any concerns.\\r\\nFormer U.S. Army Special Forces Colonel William Stuart and other members of his unit establish a base in a church near Dulles. They hack into the air traffic control systems, cut off all communication to the planes and turn off the runway lights, leaving Dulles ATC powerless to land any planes. Their goal is to rescue General Ramon Esperanza, a drug lord and dictator of Val Verde, who is being extradited to the United States to stand trial on drug trafficking charges. They demand a Boeing 747 cargo plane so they can escape to another country with Esperanza in tow, and warn the airport controllers not to try to restore control. With his wife on one of the planes circling above Washington, D.C. with too little fuel to be redirected, McClane prepares to fight the terrorists, allying himself with a janitor, Marvin, to gain larger access to the airport.\\r\\nDulles communications director Leslie Barnes heads to the unfinished Annex Skywalk with a SWAT team to re-establish communications with the planes. Just before reaching the Skywalk, the entire group and Barnes are ambushed by Stuart's henchmen and the SWAT team is killed in the ensuing firefight. With Marvin's help, McClane races to the Skywalk, rescues Barnes and kills Stuart's men. Stuart retaliates by recalibrating the instrument landing system and then impersonating air traffic controllers to crash a British jet, killing all 230 passengers and crew on board. A U.S. Army Special Forces team led by Major Grant is called in. By listening in on a two-way radio that was dropped by one of Stuart's henchmen, McClane finds out that Esperanza, having killed his captors and now piloting the plane carrying him to Dulles, is landing.\\r\\nWith Marvin's aid, McClane reaches the aircraft before Stuart's henchmen. Esperanza traps him and the mercenaries throw grenades into the cockpit. McClane escapes via the ejection seat mere seconds before the grenades detonate and the aircraft explodes. Barnes helps McClane locate the mercenaries' hideout and they tell Grant and his team to raid the location, but the mercenaries escape on snowmobiles. McClane pursues them but is stunned to discover the mercenaries' guns are loaded with blanks, concluding that the Special Forces team are in fact Stuart's subordinates.\\r\\nMcClane demands Lorenzo intercept the Boeing 747 in which the mercenaries will escape; Lorenzo refuses to listen until McClane fires at him with the blank gun, thus proving his story. Aboard Holly's flight, a suspicious Thornburg is monitoring airport radio traffic and learns about the situation from a secret transmission to the circling planes from Barnes. He phones in a sensational and exaggerated take on what is happening leading to panic and preventing the officers from reaching the escape plane. Holly subdues Thornburg with a stun gun.\\r\\nMcClane hitches a ride on a news helicopter that drops him off on the wing of the taxiing mercenaries' 747. He jams the left inboard aileron with his jacket, preventing the plane from taking off. Esperanza, who is flying the jet, is shocked when he sees McClane on the wing. Grant emerges and fights McClane, but the former is knocked off the wing and into an engine, killing him. Stuart then comes out and succeeds in knocking McClane off the plane before removing McClane's jacket. However, he fails to notice that McClane had opened the fuel hatch. McClane then uses his cigarette lighter to ignite the trail of fuel which causes the jet to explode killing all aboard. The planes circling above use the fire trail to help them land. McClane and his wife are happily reunited as the passengers from the other aircraft are safely rescued.    1\n",
       "At an illegal card game, a young street urchin witnesses the massacre of a group of mobsters at the hands of Flattop and Itchy, two of the hoods on the payroll of Alphonse \"Big Boy\" Caprice. Big Boy's crime syndicate is aggressively taking over small businesses in the city. Detective Dick Tracy catches the urchin (who calls himself \"Kid\") in an act of petty theft. After rescuing him from a ruthless host, Tracy temporarily adopts him with the help of his girlfriend, Tess Trueheart.\\r\\nMeanwhile, Big Boy coerces club owner Lips Manlis into signing over the deed to Club Ritz. He then kills Lips with a cement overcoat (referred to onscreen as \"The Bath\") and steals his girlfriend, the seductive and sultry singer, Breathless Mahoney. After Lips is reported missing, Tracy interrogates his three hired guns Flattop, Itchy, and Mumbles, then goes to the club to arrest Big Boy for Lips' murder. Breathless is the only witness. Instead of providing testimony, she unsuccessfully attempts to seduce Tracy. Big Boy cannot be indicted and he is released from jail. Big Boy's next move is to try to bring other criminals, including Spud Spaldoni, Pruneface, Influence, Texie Garcia, Ribs Mocca, and Numbers, together under his leadership. Spaldoni refuses and is intentionally killed, leaving Dick Tracy, who discovered the meeting and was attempting to spy on it, wondering what is going on. The next day, Big Boy and his henchmen kidnap Tracy and attempt to bribe him; Tracy refuses, prompting the criminals to attempt to kill him. However, Tracy is saved by Kid, who gets prized by the police with an honorary detective certificate, which will remain temporary until he decides a name for himself.\\r\\nBreathless shows up at Tracy's apartment, once again in an attempt to seduce him. Tracy shows he is only human by allowing her to kiss him. Tess witnesses this and eventually leaves town. Tracy leads a seemingly unsuccessful raid on Club Ritz, but it is actually a diversion so that Officer \"Bug\" Bailey can enter the building to operate a secretly installed listening device so the police can hear in on Big Boy's criminal activities. The resultant raids all but wipe out Big Boy's criminal empire. However, Big Boy discovers Bug and captures him for a trap planned by Influence and Pruneface to kill Tracy in the warehouse. In the resulting gun battle, a stranger with no face called \"The Blank\" steps out of the shadows to save Tracy after he is cornered and kills Pruneface. Influence escapes as Tracy rescues Bug from the same fate given to Lips Manlis, and Big Boy is enraged upon hearing that The Blank foiled the hit. Tracy tries again to get the testimony from Breathless he needs to put Big Boy away. She agrees to testify only if Tracy agrees to give in to her advances. Tess eventually has a change of heart, but before she can tell Tracy, she is kidnapped by The Blank, with the help of Big Boy's club piano player, 88 Keys. Tracy is drugged and rendered unconscious by The Blank, framed for murdering the corrupt District Attorney John Fletcher, and is detained. The Kid, meanwhile, adopts the name \"Dick Tracy, Jr.\"\\r\\nBig Boy's business thrives until The Blank frames him for Tess' kidnapping. Released by his colleagues on New Year's Eve, Tracy interrogates Mumbles and arrives at a shootout outside Big Boy's club where his men are killed by the police and Tracy. Abandoning his crew, Big Boy flees to a drawbridge and ties Tess to the gears before he is confronted by Tracy. Their fight is halted when The Blank appears and holds both men at gunpoint, offering to share the city with Tracy after Big Boy is dead. Big Boy takes advantage of a distraction and opens fire before Tracy sends him falling to his death in the bridge gears. Mortally wounded, The Blank is revealed to be Breathless Mahoney, who kisses Tracy before dying. All charges against Tracy are dropped.\\r\\nLater, Tracy proposes to Tess when he is interrupted by the report of a robbery in progress. He leaves her with a ring before heading away with Dick Tracy, Jr.                                                                                                                                                                                                                                                                                                                                                           1\n",
       "In Utah, Nancy Breyers (Kelly Lynch) is a defense lawyer who is inexplicably in love with client Michael Bosworth (Mickey Rourke), a sociopathic convict. During a break from a courtroom hearing, Nancy sneaks a gun to Bosworth. After Bosworth snaps a guard's neck, Bosworth and Nancy slip away.\\r\\nBosworth tears at Nancy's clothing and leaves her behind, where she will tell authorities Bosworth held her at gunpoint during his escape. He speeds off in a car with his brother Wally (Elias Koteas), and their partner, the hulking, half-witted Albert (David Morse), then changes cars with one Nancy has left for him in a remote location.\\r\\nIn the meantime, decorated Vietnam veteran Tim Cornell (Anthony Hopkins) arrives at his former home with his ex-wife Nora (Mimi Rogers), who have two kids—15-year-old May (Shawnee Smith) and her 8-year-old brother Zack (Danny Gerard). Tim and Nora separated due to his infidelity with a younger woman, and Tim shows up trying to reconcile with Nora, with whom he is still in love.\\r\\nNeeding a hideout until Nancy can catch up with them, the Bosworth brothers and Albert settle on the Cornells' home with a \"For Sale\" sign which is seemingly picked by Bosworth at random. Somehow, Bosworth picks up intimate details of the Cornells, and one by one all of them find themselves the prisoners of the Bosworth brothers and Albert.\\r\\nNancy's innocent act does not fool FBI agent Brenda Chandler (Lindsay Crouse), who puts surveillance on her every move. Nancy eventually cuts a deal with Chandler to have charges against her reduced by betraying Bosworth.\\r\\nAs young Zack tries to escape through a window, a friend of the Cornells who visits the house by chance meets him. Bosworth makes the family friend enter inside by force, and as they discuss, Bosworth shoots him, then makes Albert dispose of the body as Albert gets anxiety-ridden and decides to go off on his own. As Albert leaves while covered in blood, he intercepts two college girls, who expose his presence to a small gas station owner. The owner calls the authorities who chase after Albert. Albert ignores their order to surrender and is killed by the police on a river bank.\\r\\nNancy begs Agent Chandler to give her a gun, but unbeknownst to Nancy, Chandler removes the bullets. As she goes to the Cornells' house, the house gets surrounded, and as a shootout starts by Bosworth, Wally is fatally wounded in a barrage of FBI bullets and falls on top of a shocked Nancy. Wally's gun is taken away by Tim. Bosworth holds a gun on Nora and is prepared to use it if Tim interferes. He is unaware that Tim has removed the bullets. Tim then drags the criminal outside, where Bosworth ignores the FBI's order to surrender, and is fatally shot.                                                                                                                                                                                                                                                                                                                                                                                                                                                                                                                                                                                                                                                                                                                                                                                                                                                                                                                                                                                                                                                                                                                                                                                                                                                                                                                                                                                                                                                                                                                                                                                                                                                                                                                             1\n",
       "The writer Orhan Şahin returns to İstanbul after so many years to help the well-known director Deniz Soysal to write his first novel. Orhan finds himself to look with nostalgia at the places where he was born and raised, reliving the relationships with friends, family and past loves.                                                                                                                                                                                                                                                                                                                                                                                                                                                                                                                                                                                                                                                                                                                                                                                                                                                                                                                                                                                                                                                                                                                                                                                                                                                                                                                                                                                                                                                                                                                                                                                                                                                                                                                                                                                                                                                                                                                                                                                                                                                                                                                                                                                                                                                                                                                                                                                                                                                                                                                                                                                                                                                                                                                                                                                                                                                                                                                                                                                                                                                                                                                                                                                                                                                                                                                                                                                                                                                                                                                                                                                                                                                                                                                                                                                                                                                                                                                                                                                                                                                                                                                                                                                                                                                                                    1\n",
       "Name: count, Length: 33869, dtype: int64"
      ]
     },
     "execution_count": 292,
     "metadata": {},
     "output_type": "execute_result"
    }
   ],
   "execution_count": 292
  },
  {
   "metadata": {},
   "cell_type": "markdown",
   "source": "#### Missing Values",
   "id": "ee4aea9a0aa21f9b"
  },
  {
   "metadata": {
    "ExecuteTime": {
     "end_time": "2024-06-11T15:48:10.923238Z",
     "start_time": "2024-06-11T15:48:10.917750Z"
    }
   },
   "cell_type": "code",
   "source": [
    "# check for missing values in the plot column\n",
    "missing_plot = df['plot'].isna().sum()\n",
    "print(\"There are {} missing values in the plot column\".format(missing_plot))"
   ],
   "id": "8ea59843857ea8c5",
   "outputs": [
    {
     "name": "stdout",
     "output_type": "stream",
     "text": [
      "There are 0 missing values in the plot column\n"
     ]
    }
   ],
   "execution_count": 293
  },
  {
   "metadata": {},
   "cell_type": "markdown",
   "source": "#### Empty Strings",
   "id": "bafc7f7bb4f25b5e"
  },
  {
   "metadata": {
    "ExecuteTime": {
     "end_time": "2024-06-11T15:48:11.284995Z",
     "start_time": "2024-06-11T15:48:11.268209Z"
    }
   },
   "cell_type": "code",
   "source": [
    "# check for empty strings in the plot column\n",
    "empty_plot = df[df['plot'].str.strip() == ''].shape[0]\n",
    "print(\"There are {} movies with an empty plot\".format(empty_plot))"
   ],
   "id": "ced9f08b71d296e8",
   "outputs": [
    {
     "name": "stdout",
     "output_type": "stream",
     "text": [
      "There are 0 movies with an empty plot\n"
     ]
    }
   ],
   "execution_count": 294
  },
  {
   "metadata": {},
   "cell_type": "markdown",
   "source": "#### Duplicates",
   "id": "c86df701bcdcc58c"
  },
  {
   "metadata": {
    "ExecuteTime": {
     "end_time": "2024-06-11T15:48:11.634452Z",
     "start_time": "2024-06-11T15:48:11.630060Z"
    }
   },
   "cell_type": "code",
   "source": [
    "# check for duplicates in the plot column\n",
    "duplicates_plot = df['plot'].duplicated().sum()\n",
    "print(\"There are {} duplicates in the plot column\".format(duplicates_plot))"
   ],
   "id": "37356b96ec6d441d",
   "outputs": [
    {
     "name": "stdout",
     "output_type": "stream",
     "text": [
      "There are 1017 duplicates in the plot column\n"
     ]
    }
   ],
   "execution_count": 295
  },
  {
   "metadata": {},
   "cell_type": "markdown",
   "source": "There are many duplicates in the plot column. This needs to be investigated further.",
   "id": "a6a563eaee3246cb"
  },
  {
   "metadata": {
    "ExecuteTime": {
     "end_time": "2024-06-11T15:48:11.950265Z",
     "start_time": "2024-06-11T15:48:11.940813Z"
    }
   },
   "cell_type": "code",
   "source": [
    "# display the rows with duplicates in the plot column\n",
    "duplicate_values = df['plot'].duplicated(keep=False)\n",
    "df[duplicate_values]"
   ],
   "id": "a7d8f4b08b39efcb",
   "outputs": [
    {
     "data": {
      "text/plain": [
       "       release_year                       title origin_ethnicity  \\\n",
       "149            1916  The Other Side of the Door         American   \n",
       "189            1917             Wild and Woolly         American   \n",
       "227            1918      Nine-Tenths of the Law         American   \n",
       "286            1919      Nine-Tenths of the Law         American   \n",
       "310            1920         Among Those Present         American   \n",
       "...             ...                         ...              ...   \n",
       "34561          2012               I Am the King     South_Korean   \n",
       "34582          2013                       B-E-D     South_Korean   \n",
       "34703          2015                       B-E-D     South_Korean   \n",
       "34749          2016         Bad Guys Always Die     South_Korean   \n",
       "34881          2014           The Water Diviner          Turkish   \n",
       "\n",
       "                      director  \\\n",
       "149               Tom Ricketts   \n",
       "189               John Emerson   \n",
       "227            B. Reeves Eason   \n",
       "286            B. Reeves Eason   \n",
       "310           Fred C. Newmeyer   \n",
       "...                        ...   \n",
       "34561            Jang Kyu-sung   \n",
       "34582            Park Chul-soo   \n",
       "34703            Park Chul-soo   \n",
       "34749                  Sun Hao   \n",
       "34881  Director: Russell Crowe   \n",
       "\n",
       "                                                    cast           genre  \\\n",
       "149                         Harold Lockwood, May Allison  romantic drama   \n",
       "189                                    Douglas Fairbanks         unknown   \n",
       "227                                       Mitchell Lewis           drama   \n",
       "286                           Mitchell Lewis, Jimsy Maye           drama   \n",
       "310                          Harold Lloyd, Mildred Davis    comedy short   \n",
       "...                                                  ...             ...   \n",
       "34561  Ju Ji-hoon, Park Yeong-gyu, Baek Yoon-sik, Byu...         unknown   \n",
       "34582                          Jang Hyuk-jin, Lee Min-ah         unknown   \n",
       "34703                Jang Hyuk-jin, Lee Min-a, Kim Na-mi         unknown   \n",
       "34749                             Son Ye-jin, Chen Bolin         unknown   \n",
       "34881  Director: Russell Crowe\\r\\nCast: Russell Crowe...         unknown   \n",
       "\n",
       "                                               wiki_page  \\\n",
       "149    https://en.wikipedia.org/wiki/The_Other_Side_o...   \n",
       "189        https://en.wikipedia.org/wiki/Wild_and_Woolly   \n",
       "227    https://en.wikipedia.org/wiki/Nine-Tenths_of_t...   \n",
       "286    https://en.wikipedia.org/wiki/Nine-Tenths_of_t...   \n",
       "310    https://en.wikipedia.org/wiki/Among_Those_Present   \n",
       "...                                                  ...   \n",
       "34561          https://en.wikipedia.org/wiki/I_Am_a_King   \n",
       "34582                https://en.wikipedia.org/wiki/B-E-D   \n",
       "34703                https://en.wikipedia.org/wiki/B-E-D   \n",
       "34749  https://en.wikipedia.org/wiki/Bad_Guys_Always_Die   \n",
       "34881    https://en.wikipedia.org/wiki/The_Water_Diviner   \n",
       "\n",
       "                                                    plot  \n",
       "149    Sets in the 19th century, the plot centered on...  \n",
       "189    As described in a film magazine review,[1] Jef...  \n",
       "227    As described in a film magazine,[1] Jules Lene...  \n",
       "286    As described in a film magazine,[1] Jules Lene...  \n",
       "310    Mrs. O'Brien (Herring) is eager to be accepted...  \n",
       "...                                                  ...  \n",
       "34561  When his older brothers Yangnyeong and Hyoryeo...  \n",
       "34582  E is everything to B. B is desperate because h...  \n",
       "34703  E is everything to B. B is desperate because h...  \n",
       "34749  Qingzi, a Chinese language teacher at an eleme...  \n",
       "34881  The film begins in 1919, just after World War ...  \n",
       "\n",
       "[1976 rows x 8 columns]"
      ],
      "text/html": [
       "<div>\n",
       "<style scoped>\n",
       "    .dataframe tbody tr th:only-of-type {\n",
       "        vertical-align: middle;\n",
       "    }\n",
       "\n",
       "    .dataframe tbody tr th {\n",
       "        vertical-align: top;\n",
       "    }\n",
       "\n",
       "    .dataframe thead th {\n",
       "        text-align: right;\n",
       "    }\n",
       "</style>\n",
       "<table border=\"1\" class=\"dataframe\">\n",
       "  <thead>\n",
       "    <tr style=\"text-align: right;\">\n",
       "      <th></th>\n",
       "      <th>release_year</th>\n",
       "      <th>title</th>\n",
       "      <th>origin_ethnicity</th>\n",
       "      <th>director</th>\n",
       "      <th>cast</th>\n",
       "      <th>genre</th>\n",
       "      <th>wiki_page</th>\n",
       "      <th>plot</th>\n",
       "    </tr>\n",
       "  </thead>\n",
       "  <tbody>\n",
       "    <tr>\n",
       "      <th>149</th>\n",
       "      <td>1916</td>\n",
       "      <td>The Other Side of the Door</td>\n",
       "      <td>American</td>\n",
       "      <td>Tom Ricketts</td>\n",
       "      <td>Harold Lockwood, May Allison</td>\n",
       "      <td>romantic drama</td>\n",
       "      <td>https://en.wikipedia.org/wiki/The_Other_Side_o...</td>\n",
       "      <td>Sets in the 19th century, the plot centered on...</td>\n",
       "    </tr>\n",
       "    <tr>\n",
       "      <th>189</th>\n",
       "      <td>1917</td>\n",
       "      <td>Wild and Woolly</td>\n",
       "      <td>American</td>\n",
       "      <td>John Emerson</td>\n",
       "      <td>Douglas Fairbanks</td>\n",
       "      <td>unknown</td>\n",
       "      <td>https://en.wikipedia.org/wiki/Wild_and_Woolly</td>\n",
       "      <td>As described in a film magazine review,[1] Jef...</td>\n",
       "    </tr>\n",
       "    <tr>\n",
       "      <th>227</th>\n",
       "      <td>1918</td>\n",
       "      <td>Nine-Tenths of the Law</td>\n",
       "      <td>American</td>\n",
       "      <td>B. Reeves Eason</td>\n",
       "      <td>Mitchell Lewis</td>\n",
       "      <td>drama</td>\n",
       "      <td>https://en.wikipedia.org/wiki/Nine-Tenths_of_t...</td>\n",
       "      <td>As described in a film magazine,[1] Jules Lene...</td>\n",
       "    </tr>\n",
       "    <tr>\n",
       "      <th>286</th>\n",
       "      <td>1919</td>\n",
       "      <td>Nine-Tenths of the Law</td>\n",
       "      <td>American</td>\n",
       "      <td>B. Reeves Eason</td>\n",
       "      <td>Mitchell Lewis, Jimsy Maye</td>\n",
       "      <td>drama</td>\n",
       "      <td>https://en.wikipedia.org/wiki/Nine-Tenths_of_t...</td>\n",
       "      <td>As described in a film magazine,[1] Jules Lene...</td>\n",
       "    </tr>\n",
       "    <tr>\n",
       "      <th>310</th>\n",
       "      <td>1920</td>\n",
       "      <td>Among Those Present</td>\n",
       "      <td>American</td>\n",
       "      <td>Fred C. Newmeyer</td>\n",
       "      <td>Harold Lloyd, Mildred Davis</td>\n",
       "      <td>comedy short</td>\n",
       "      <td>https://en.wikipedia.org/wiki/Among_Those_Present</td>\n",
       "      <td>Mrs. O'Brien (Herring) is eager to be accepted...</td>\n",
       "    </tr>\n",
       "    <tr>\n",
       "      <th>...</th>\n",
       "      <td>...</td>\n",
       "      <td>...</td>\n",
       "      <td>...</td>\n",
       "      <td>...</td>\n",
       "      <td>...</td>\n",
       "      <td>...</td>\n",
       "      <td>...</td>\n",
       "      <td>...</td>\n",
       "    </tr>\n",
       "    <tr>\n",
       "      <th>34561</th>\n",
       "      <td>2012</td>\n",
       "      <td>I Am the King</td>\n",
       "      <td>South_Korean</td>\n",
       "      <td>Jang Kyu-sung</td>\n",
       "      <td>Ju Ji-hoon, Park Yeong-gyu, Baek Yoon-sik, Byu...</td>\n",
       "      <td>unknown</td>\n",
       "      <td>https://en.wikipedia.org/wiki/I_Am_a_King</td>\n",
       "      <td>When his older brothers Yangnyeong and Hyoryeo...</td>\n",
       "    </tr>\n",
       "    <tr>\n",
       "      <th>34582</th>\n",
       "      <td>2013</td>\n",
       "      <td>B-E-D</td>\n",
       "      <td>South_Korean</td>\n",
       "      <td>Park Chul-soo</td>\n",
       "      <td>Jang Hyuk-jin, Lee Min-ah</td>\n",
       "      <td>unknown</td>\n",
       "      <td>https://en.wikipedia.org/wiki/B-E-D</td>\n",
       "      <td>E is everything to B. B is desperate because h...</td>\n",
       "    </tr>\n",
       "    <tr>\n",
       "      <th>34703</th>\n",
       "      <td>2015</td>\n",
       "      <td>B-E-D</td>\n",
       "      <td>South_Korean</td>\n",
       "      <td>Park Chul-soo</td>\n",
       "      <td>Jang Hyuk-jin, Lee Min-a, Kim Na-mi</td>\n",
       "      <td>unknown</td>\n",
       "      <td>https://en.wikipedia.org/wiki/B-E-D</td>\n",
       "      <td>E is everything to B. B is desperate because h...</td>\n",
       "    </tr>\n",
       "    <tr>\n",
       "      <th>34749</th>\n",
       "      <td>2016</td>\n",
       "      <td>Bad Guys Always Die</td>\n",
       "      <td>South_Korean</td>\n",
       "      <td>Sun Hao</td>\n",
       "      <td>Son Ye-jin, Chen Bolin</td>\n",
       "      <td>unknown</td>\n",
       "      <td>https://en.wikipedia.org/wiki/Bad_Guys_Always_Die</td>\n",
       "      <td>Qingzi, a Chinese language teacher at an eleme...</td>\n",
       "    </tr>\n",
       "    <tr>\n",
       "      <th>34881</th>\n",
       "      <td>2014</td>\n",
       "      <td>The Water Diviner</td>\n",
       "      <td>Turkish</td>\n",
       "      <td>Director: Russell Crowe</td>\n",
       "      <td>Director: Russell Crowe\\r\\nCast: Russell Crowe...</td>\n",
       "      <td>unknown</td>\n",
       "      <td>https://en.wikipedia.org/wiki/The_Water_Diviner</td>\n",
       "      <td>The film begins in 1919, just after World War ...</td>\n",
       "    </tr>\n",
       "  </tbody>\n",
       "</table>\n",
       "<p>1976 rows × 8 columns</p>\n",
       "</div>"
      ]
     },
     "execution_count": 296,
     "metadata": {},
     "output_type": "execute_result"
    }
   ],
   "execution_count": 296
  },
  {
   "metadata": {},
   "cell_type": "markdown",
   "source": [
    "This seems to be a quality issue in the data. Maybe there was an error when crawling the data so we have duplicate movies.\n",
    "We need to look what impact this has on the later application."
   ],
   "id": "3f37dcb3b3bf1c15"
  },
  {
   "metadata": {},
   "cell_type": "markdown",
   "source": "#### Unknown values",
   "id": "52919bd8d9c0c54"
  },
  {
   "metadata": {
    "ExecuteTime": {
     "end_time": "2024-06-11T15:48:12.476018Z",
     "start_time": "2024-06-11T15:48:12.251037Z"
    }
   },
   "cell_type": "code",
   "source": [
    "# check for 'unknown' values in the plot column\n",
    "unknown_plot = df['plot'].str.lower().str.contains('unknown').sum()\n",
    "print(\"There are {} movies with the plot set to 'unknown'\".format(unknown_plot))"
   ],
   "id": "c1328b1d4e8522a9",
   "outputs": [
    {
     "name": "stdout",
     "output_type": "stream",
     "text": [
      "There are 1322 movies with the plot set to 'unknown'\n"
     ]
    }
   ],
   "execution_count": 297
  },
  {
   "metadata": {
    "ExecuteTime": {
     "end_time": "2024-06-11T15:48:12.708555Z",
     "start_time": "2024-06-11T15:48:12.477074Z"
    }
   },
   "cell_type": "code",
   "source": [
    "# display the number of 'unknown' plots\n",
    "plot_unknown = df[df['plot'].str.lower().str.contains('unknown')].head(20)\n",
    "plot_unknown"
   ],
   "id": "8066a4b07298cd23",
   "outputs": [
    {
     "data": {
      "text/plain": [
       "     release_year                          title origin_ethnicity  \\\n",
       "59           1913            The Restless Spirit         American   \n",
       "70           1914                     Cinderella         American   \n",
       "152          1916             The Stepping Stone         American   \n",
       "211          1918  The Ghost of Slumber Mountain         American   \n",
       "260          1919                Daddy-Long-Legs         American   \n",
       "389          1921                        The Kid         American   \n",
       "397          1921                 Mother O' Mine         American   \n",
       "475          1923                   Slippy McGee         American   \n",
       "480          1923                     Why Worry?         American   \n",
       "534          1925                  The Gold Rush         American   \n",
       "560          1925                  Seven Sinners         American   \n",
       "574          1926                        The Bat         American   \n",
       "709          1928             Lights of New York         American   \n",
       "726          1928                       Red Hair         American   \n",
       "742          1928                     The Terror         American   \n",
       "808          1929                    Jazz Heaven         American   \n",
       "866          1929             The Vagabond Lover         American   \n",
       "872          1929                 Welcome Danger         American   \n",
       "902          1930         Check and Double Check         American   \n",
       "909          1930                The Dawn Patrol         American   \n",
       "\n",
       "                              director  \\\n",
       "59                          Allan Dwan   \n",
       "70                      James Kirkwood   \n",
       "152    Reginald Barker, Thomas H. Ince   \n",
       "211                     Willis O'Brien   \n",
       "260                    Marshall Neilan   \n",
       "389                    Charlie Chaplin   \n",
       "397                         Fred Niblo   \n",
       "475                     Wesley Ruggles   \n",
       "480          Fred Newmeyer, Sam Taylor   \n",
       "534                    Charlie Chaplin   \n",
       "560                    Lewis Milestone   \n",
       "574                        Roland West   \n",
       "709                          Bryan Foy   \n",
       "726                 Clarence G. Badger   \n",
       "742                       Roy Del Ruth   \n",
       "808                  Melville W. Brown   \n",
       "866                      Neil Marshall   \n",
       "872  Clyde Bruckman, Malcolm St. Clair   \n",
       "902                  Melville W. Brown   \n",
       "909                       Howard Hawks   \n",
       "\n",
       "                                                  cast              genre  \\\n",
       "59                    J. Warren Kerrigan, Pauline Bush              drama   \n",
       "70            Mary Pickford, Owen Moore, Isobel Vernon      fantasy drama   \n",
       "152                          Frank Keenan, Mary Boland              drama   \n",
       "211                  Herbert M. Dawley, Willis O'Brien            fantasy   \n",
       "260                                      Mary Pickford              drama   \n",
       "389                     Charlie Chaplin, Jackie Coogan       comedy drama   \n",
       "397                    Lloyd Hughes, Betty Ross Clarke              drama   \n",
       "475       Colleen Moore, Wheeler Oakman, Sam De Grasse              drama   \n",
       "480                                       Harold Lloyd             comedy   \n",
       "534                                    Charlie Chaplin  comedy, adventure   \n",
       "560                         Marie Prevost, Clive Brook       crime comedy   \n",
       "574  Tullio Carminati, Charles Herzinger, Jewel Car...  mystery, thriller   \n",
       "709    Helene Costello, Cullen Landis, Eugene Pallette       crime, drama   \n",
       "726                           Clara Bow, Lane Chandler             comedy   \n",
       "742                  May McAvoy, Edward Everett Horton            mystery   \n",
       "808                    Sally O'Neil, Johnny Mack Brown             comedy   \n",
       "866           Rudy Vallée, Sally Blane, Marie Dressler     musical comedy   \n",
       "872                                       Harold Lloyd             comedy   \n",
       "902  Freeman F. Gosden, Charles J. Correll, Duke El...             comedy   \n",
       "909     Douglas Fairbanks, Neil Hamilton, Frank McHugh         drama, war   \n",
       "\n",
       "                                             wiki_page  \\\n",
       "59   https://en.wikipedia.org/wiki/The_Restless_Spirit   \n",
       "70   https://en.wikipedia.org/wiki/Cinderella_(1914...   \n",
       "152   https://en.wikipedia.org/wiki/The_Stepping_Stone   \n",
       "211  https://en.wikipedia.org/wiki/The_Ghost_of_Slu...   \n",
       "260  https://en.wikipedia.org/wiki/Daddy-Long-Legs_...   \n",
       "389  https://en.wikipedia.org/wiki/The_Kid_(1921_film)   \n",
       "397     https://en.wikipedia.org/wiki/Mother_O%27_Mine   \n",
       "475         https://en.wikipedia.org/wiki/Slippy_McGee   \n",
       "480         https://en.wikipedia.org/wiki/Why_Worry%3F   \n",
       "534        https://en.wikipedia.org/wiki/The_Gold_Rush   \n",
       "560  https://en.wikipedia.org/wiki/Seven_Sinners_(1...   \n",
       "574  https://en.wikipedia.org/wiki/The_Bat_(1926_film)   \n",
       "709  https://en.wikipedia.org/wiki/Lights_of_New_Yo...   \n",
       "726      https://en.wikipedia.org/wiki/Red_Hair_(film)   \n",
       "742  https://en.wikipedia.org/wiki/The_Terror_(1928...   \n",
       "808          https://en.wikipedia.org/wiki/Jazz_Heaven   \n",
       "866   https://en.wikipedia.org/wiki/The_Vagabond_Lover   \n",
       "872       https://en.wikipedia.org/wiki/Welcome_Danger   \n",
       "902  https://en.wikipedia.org/wiki/Check_and_Double...   \n",
       "909  https://en.wikipedia.org/wiki/The_Dawn_Patrol_...   \n",
       "\n",
       "                                                  plot  \n",
       "59   The film begins with the Dreamer, a restless a...  \n",
       "70   Cinderella is a kind young woman who lives wit...  \n",
       "152  Mary Beresford (Boland) is the wife of unambit...  \n",
       "211  Most of the full plot is unknown. In the versi...  \n",
       "260  A police officer finds a baby in a trash can, ...  \n",
       "389  An unknown woman (Edna Purviance) leaves a cha...  \n",
       "397  As described in a film publication,[5] several...  \n",
       "475  The title is also the moniker of a renowned sa...  \n",
       "480  Harold Van Pelham (Lloyd) is a rich businessma...  \n",
       "534  The following is the plot of the 1942 re-relea...  \n",
       "560  Burglars Molly Brian (Marie Prevost) and Joe H...  \n",
       "574  Gideon Bell, owner of the Favre Emeralds, rece...  \n",
       "709  When bootleggers Jake Jackson (Walter Percival...  \n",
       "726  A free-spirited young girl has three middle-ag...  \n",
       "742  \"The Terror\", a killer whose identity is unkno...  \n",
       "808  A poor songwriter from the south, Barry Holmes...  \n",
       "866  Rudy Bronson is a senior in a small college in...  \n",
       "872  Harold Bledsoe, a student of botany, is travel...  \n",
       "902  Amos and Andy run the \"Fresh Air Taxicab Compa...  \n",
       "909  During World War I, the pilots of an RFC squad...  "
      ],
      "text/html": [
       "<div>\n",
       "<style scoped>\n",
       "    .dataframe tbody tr th:only-of-type {\n",
       "        vertical-align: middle;\n",
       "    }\n",
       "\n",
       "    .dataframe tbody tr th {\n",
       "        vertical-align: top;\n",
       "    }\n",
       "\n",
       "    .dataframe thead th {\n",
       "        text-align: right;\n",
       "    }\n",
       "</style>\n",
       "<table border=\"1\" class=\"dataframe\">\n",
       "  <thead>\n",
       "    <tr style=\"text-align: right;\">\n",
       "      <th></th>\n",
       "      <th>release_year</th>\n",
       "      <th>title</th>\n",
       "      <th>origin_ethnicity</th>\n",
       "      <th>director</th>\n",
       "      <th>cast</th>\n",
       "      <th>genre</th>\n",
       "      <th>wiki_page</th>\n",
       "      <th>plot</th>\n",
       "    </tr>\n",
       "  </thead>\n",
       "  <tbody>\n",
       "    <tr>\n",
       "      <th>59</th>\n",
       "      <td>1913</td>\n",
       "      <td>The Restless Spirit</td>\n",
       "      <td>American</td>\n",
       "      <td>Allan Dwan</td>\n",
       "      <td>J. Warren Kerrigan, Pauline Bush</td>\n",
       "      <td>drama</td>\n",
       "      <td>https://en.wikipedia.org/wiki/The_Restless_Spirit</td>\n",
       "      <td>The film begins with the Dreamer, a restless a...</td>\n",
       "    </tr>\n",
       "    <tr>\n",
       "      <th>70</th>\n",
       "      <td>1914</td>\n",
       "      <td>Cinderella</td>\n",
       "      <td>American</td>\n",
       "      <td>James Kirkwood</td>\n",
       "      <td>Mary Pickford, Owen Moore, Isobel Vernon</td>\n",
       "      <td>fantasy drama</td>\n",
       "      <td>https://en.wikipedia.org/wiki/Cinderella_(1914...</td>\n",
       "      <td>Cinderella is a kind young woman who lives wit...</td>\n",
       "    </tr>\n",
       "    <tr>\n",
       "      <th>152</th>\n",
       "      <td>1916</td>\n",
       "      <td>The Stepping Stone</td>\n",
       "      <td>American</td>\n",
       "      <td>Reginald Barker, Thomas H. Ince</td>\n",
       "      <td>Frank Keenan, Mary Boland</td>\n",
       "      <td>drama</td>\n",
       "      <td>https://en.wikipedia.org/wiki/The_Stepping_Stone</td>\n",
       "      <td>Mary Beresford (Boland) is the wife of unambit...</td>\n",
       "    </tr>\n",
       "    <tr>\n",
       "      <th>211</th>\n",
       "      <td>1918</td>\n",
       "      <td>The Ghost of Slumber Mountain</td>\n",
       "      <td>American</td>\n",
       "      <td>Willis O'Brien</td>\n",
       "      <td>Herbert M. Dawley, Willis O'Brien</td>\n",
       "      <td>fantasy</td>\n",
       "      <td>https://en.wikipedia.org/wiki/The_Ghost_of_Slu...</td>\n",
       "      <td>Most of the full plot is unknown. In the versi...</td>\n",
       "    </tr>\n",
       "    <tr>\n",
       "      <th>260</th>\n",
       "      <td>1919</td>\n",
       "      <td>Daddy-Long-Legs</td>\n",
       "      <td>American</td>\n",
       "      <td>Marshall Neilan</td>\n",
       "      <td>Mary Pickford</td>\n",
       "      <td>drama</td>\n",
       "      <td>https://en.wikipedia.org/wiki/Daddy-Long-Legs_...</td>\n",
       "      <td>A police officer finds a baby in a trash can, ...</td>\n",
       "    </tr>\n",
       "    <tr>\n",
       "      <th>389</th>\n",
       "      <td>1921</td>\n",
       "      <td>The Kid</td>\n",
       "      <td>American</td>\n",
       "      <td>Charlie Chaplin</td>\n",
       "      <td>Charlie Chaplin, Jackie Coogan</td>\n",
       "      <td>comedy drama</td>\n",
       "      <td>https://en.wikipedia.org/wiki/The_Kid_(1921_film)</td>\n",
       "      <td>An unknown woman (Edna Purviance) leaves a cha...</td>\n",
       "    </tr>\n",
       "    <tr>\n",
       "      <th>397</th>\n",
       "      <td>1921</td>\n",
       "      <td>Mother O' Mine</td>\n",
       "      <td>American</td>\n",
       "      <td>Fred Niblo</td>\n",
       "      <td>Lloyd Hughes, Betty Ross Clarke</td>\n",
       "      <td>drama</td>\n",
       "      <td>https://en.wikipedia.org/wiki/Mother_O%27_Mine</td>\n",
       "      <td>As described in a film publication,[5] several...</td>\n",
       "    </tr>\n",
       "    <tr>\n",
       "      <th>475</th>\n",
       "      <td>1923</td>\n",
       "      <td>Slippy McGee</td>\n",
       "      <td>American</td>\n",
       "      <td>Wesley Ruggles</td>\n",
       "      <td>Colleen Moore, Wheeler Oakman, Sam De Grasse</td>\n",
       "      <td>drama</td>\n",
       "      <td>https://en.wikipedia.org/wiki/Slippy_McGee</td>\n",
       "      <td>The title is also the moniker of a renowned sa...</td>\n",
       "    </tr>\n",
       "    <tr>\n",
       "      <th>480</th>\n",
       "      <td>1923</td>\n",
       "      <td>Why Worry?</td>\n",
       "      <td>American</td>\n",
       "      <td>Fred Newmeyer, Sam Taylor</td>\n",
       "      <td>Harold Lloyd</td>\n",
       "      <td>comedy</td>\n",
       "      <td>https://en.wikipedia.org/wiki/Why_Worry%3F</td>\n",
       "      <td>Harold Van Pelham (Lloyd) is a rich businessma...</td>\n",
       "    </tr>\n",
       "    <tr>\n",
       "      <th>534</th>\n",
       "      <td>1925</td>\n",
       "      <td>The Gold Rush</td>\n",
       "      <td>American</td>\n",
       "      <td>Charlie Chaplin</td>\n",
       "      <td>Charlie Chaplin</td>\n",
       "      <td>comedy, adventure</td>\n",
       "      <td>https://en.wikipedia.org/wiki/The_Gold_Rush</td>\n",
       "      <td>The following is the plot of the 1942 re-relea...</td>\n",
       "    </tr>\n",
       "    <tr>\n",
       "      <th>560</th>\n",
       "      <td>1925</td>\n",
       "      <td>Seven Sinners</td>\n",
       "      <td>American</td>\n",
       "      <td>Lewis Milestone</td>\n",
       "      <td>Marie Prevost, Clive Brook</td>\n",
       "      <td>crime comedy</td>\n",
       "      <td>https://en.wikipedia.org/wiki/Seven_Sinners_(1...</td>\n",
       "      <td>Burglars Molly Brian (Marie Prevost) and Joe H...</td>\n",
       "    </tr>\n",
       "    <tr>\n",
       "      <th>574</th>\n",
       "      <td>1926</td>\n",
       "      <td>The Bat</td>\n",
       "      <td>American</td>\n",
       "      <td>Roland West</td>\n",
       "      <td>Tullio Carminati, Charles Herzinger, Jewel Car...</td>\n",
       "      <td>mystery, thriller</td>\n",
       "      <td>https://en.wikipedia.org/wiki/The_Bat_(1926_film)</td>\n",
       "      <td>Gideon Bell, owner of the Favre Emeralds, rece...</td>\n",
       "    </tr>\n",
       "    <tr>\n",
       "      <th>709</th>\n",
       "      <td>1928</td>\n",
       "      <td>Lights of New York</td>\n",
       "      <td>American</td>\n",
       "      <td>Bryan Foy</td>\n",
       "      <td>Helene Costello, Cullen Landis, Eugene Pallette</td>\n",
       "      <td>crime, drama</td>\n",
       "      <td>https://en.wikipedia.org/wiki/Lights_of_New_Yo...</td>\n",
       "      <td>When bootleggers Jake Jackson (Walter Percival...</td>\n",
       "    </tr>\n",
       "    <tr>\n",
       "      <th>726</th>\n",
       "      <td>1928</td>\n",
       "      <td>Red Hair</td>\n",
       "      <td>American</td>\n",
       "      <td>Clarence G. Badger</td>\n",
       "      <td>Clara Bow, Lane Chandler</td>\n",
       "      <td>comedy</td>\n",
       "      <td>https://en.wikipedia.org/wiki/Red_Hair_(film)</td>\n",
       "      <td>A free-spirited young girl has three middle-ag...</td>\n",
       "    </tr>\n",
       "    <tr>\n",
       "      <th>742</th>\n",
       "      <td>1928</td>\n",
       "      <td>The Terror</td>\n",
       "      <td>American</td>\n",
       "      <td>Roy Del Ruth</td>\n",
       "      <td>May McAvoy, Edward Everett Horton</td>\n",
       "      <td>mystery</td>\n",
       "      <td>https://en.wikipedia.org/wiki/The_Terror_(1928...</td>\n",
       "      <td>\"The Terror\", a killer whose identity is unkno...</td>\n",
       "    </tr>\n",
       "    <tr>\n",
       "      <th>808</th>\n",
       "      <td>1929</td>\n",
       "      <td>Jazz Heaven</td>\n",
       "      <td>American</td>\n",
       "      <td>Melville W. Brown</td>\n",
       "      <td>Sally O'Neil, Johnny Mack Brown</td>\n",
       "      <td>comedy</td>\n",
       "      <td>https://en.wikipedia.org/wiki/Jazz_Heaven</td>\n",
       "      <td>A poor songwriter from the south, Barry Holmes...</td>\n",
       "    </tr>\n",
       "    <tr>\n",
       "      <th>866</th>\n",
       "      <td>1929</td>\n",
       "      <td>The Vagabond Lover</td>\n",
       "      <td>American</td>\n",
       "      <td>Neil Marshall</td>\n",
       "      <td>Rudy Vallée, Sally Blane, Marie Dressler</td>\n",
       "      <td>musical comedy</td>\n",
       "      <td>https://en.wikipedia.org/wiki/The_Vagabond_Lover</td>\n",
       "      <td>Rudy Bronson is a senior in a small college in...</td>\n",
       "    </tr>\n",
       "    <tr>\n",
       "      <th>872</th>\n",
       "      <td>1929</td>\n",
       "      <td>Welcome Danger</td>\n",
       "      <td>American</td>\n",
       "      <td>Clyde Bruckman, Malcolm St. Clair</td>\n",
       "      <td>Harold Lloyd</td>\n",
       "      <td>comedy</td>\n",
       "      <td>https://en.wikipedia.org/wiki/Welcome_Danger</td>\n",
       "      <td>Harold Bledsoe, a student of botany, is travel...</td>\n",
       "    </tr>\n",
       "    <tr>\n",
       "      <th>902</th>\n",
       "      <td>1930</td>\n",
       "      <td>Check and Double Check</td>\n",
       "      <td>American</td>\n",
       "      <td>Melville W. Brown</td>\n",
       "      <td>Freeman F. Gosden, Charles J. Correll, Duke El...</td>\n",
       "      <td>comedy</td>\n",
       "      <td>https://en.wikipedia.org/wiki/Check_and_Double...</td>\n",
       "      <td>Amos and Andy run the \"Fresh Air Taxicab Compa...</td>\n",
       "    </tr>\n",
       "    <tr>\n",
       "      <th>909</th>\n",
       "      <td>1930</td>\n",
       "      <td>The Dawn Patrol</td>\n",
       "      <td>American</td>\n",
       "      <td>Howard Hawks</td>\n",
       "      <td>Douglas Fairbanks, Neil Hamilton, Frank McHugh</td>\n",
       "      <td>drama, war</td>\n",
       "      <td>https://en.wikipedia.org/wiki/The_Dawn_Patrol_...</td>\n",
       "      <td>During World War I, the pilots of an RFC squad...</td>\n",
       "    </tr>\n",
       "  </tbody>\n",
       "</table>\n",
       "</div>"
      ]
     },
     "execution_count": 298,
     "metadata": {},
     "output_type": "execute_result"
    }
   ],
   "execution_count": 298
  },
  {
   "metadata": {},
   "cell_type": "markdown",
   "source": "here it is clear that 'unknown' is a valid value for the plot column and not a data quality issue.",
   "id": "8c184c7ef4394497"
  },
  {
   "metadata": {},
   "cell_type": "markdown",
   "source": [
    "#### Summary:\n",
    "- There are no missing values in the plot column.\n",
    "- There are no empty strings in the plot column.\n",
    "- There are some duplicates in the plot column. This needs to be investigated further to see if we have to fix this and what impact it has on the later application.\n",
    "- There are no 'unknown'-only values in the plot column."
   ],
   "id": "463e8c04d5ffff60"
  },
  {
   "metadata": {},
   "cell_type": "markdown",
   "source": "### 2.1.9 Summary",
   "id": "7650b1801450cd29"
  },
  {
   "metadata": {},
   "cell_type": "markdown",
   "source": [
    "- The release_year column doesn't have to be cleaned.\n",
    "- The title column has some duplicate titles but that seems to be okay since there are movies with the same title\n",
    "- The origin_ethnicity column only has duplicates which is normal because there are movies with the same origin\n",
    "- The director column has some quality issues. There are multiple directors separated by a comma or 'and'. The director column contains 'unknown' values so there needs to be a cleanup.\n",
    "- The cast has some missing values and also some duplicates. There are multiple cast separated by a comma or 'and'. The cast column contains 'unknown' values so there needs to be a cleanup.\n",
    "- The genre has some empty strings and duplicates, which is okay. There are multiple genres separated by a comma or 'and'. The genre column contains 'unknown' values so there needs to be a cleanup.\n",
    "- The wiki_page has some duplicates which could mean that there are real duplicates in the dataset. The impact on the later application is not clear yet.\n",
    "- The plot column has some duplicates which could mean that there are real duplicates in the dataset. The impact on the later application is not clear yet.\n",
    "\n",
    "### Further tasks\n",
    "After checking the data quality issues we need to fix them.\n",
    "we will:\n",
    "- replace unwanted symbols or words in the director, cast, and genre field.\n",
    "- fill missing values with 'unknown'\n",
    "- check for duplicates in the title, plot, and wiki_page field\n",
    "- check the plot lengths and decide if we need to chunk the data \n"
   ],
   "id": "60b04dbfaa36e550"
  },
  {
   "metadata": {
    "ExecuteTime": {
     "end_time": "2024-06-11T15:48:12.749120Z",
     "start_time": "2024-06-11T15:48:12.709751Z"
    }
   },
   "cell_type": "code",
   "source": "df_qm = df.copy()",
   "id": "9d882367d6645b91",
   "outputs": [],
   "execution_count": 299
  },
  {
   "metadata": {},
   "cell_type": "markdown",
   "source": "## 2.2 Fix Quality Issues",
   "id": "d8c56fe1c8a718ab"
  },
  {
   "metadata": {
    "ExecuteTime": {
     "end_time": "2024-06-11T15:48:12.752781Z",
     "start_time": "2024-06-11T15:48:12.750541Z"
    }
   },
   "cell_type": "code",
   "source": "columns_without_release_year = df_qm.columns[df_qm.columns != 'release_year']",
   "id": "9639a92e2b014ce7",
   "outputs": [],
   "execution_count": 300
  },
  {
   "metadata": {},
   "cell_type": "markdown",
   "source": "#### 2.2.1 Fix Missing Values",
   "id": "8460768dc361a6fc"
  },
  {
   "metadata": {
    "ExecuteTime": {
     "end_time": "2024-06-11T15:48:13.037581Z",
     "start_time": "2024-06-11T15:48:13.025658Z"
    }
   },
   "cell_type": "code",
   "source": [
    "# fix missing values like NaN for columns\n",
    "missing_values_list = df_qm.columns[df_qm.isna().any()].tolist()"
   ],
   "id": "6d4641721fde9d1b",
   "outputs": [],
   "execution_count": 301
  },
  {
   "metadata": {
    "ExecuteTime": {
     "end_time": "2024-06-11T15:48:13.341844Z",
     "start_time": "2024-06-11T15:48:13.334998Z"
    }
   },
   "cell_type": "code",
   "source": [
    "for column in missing_values_list:\n",
    "    # fix missing values like NaN for columns\n",
    "    df_qm[column] = df_qm[column].fillna('Unknown')\n",
    "    missing_values = df_qm[column].isna().sum()\n",
    "    print(\"After fixing missing values there are {} missing values in the {} column\".format(missing_values, column))"
   ],
   "id": "4384a81d7fc462aa",
   "outputs": [
    {
     "name": "stdout",
     "output_type": "stream",
     "text": [
      "After fixing missing values there are 0 missing values in the cast column\n"
     ]
    }
   ],
   "execution_count": 302
  },
  {
   "metadata": {
    "ExecuteTime": {
     "end_time": "2024-06-11T15:48:13.526580Z",
     "start_time": "2024-06-11T15:48:13.513838Z"
    }
   },
   "cell_type": "code",
   "source": "df_qm.columns[df_qm.isna().any()].tolist()",
   "id": "8225e20db489fa7",
   "outputs": [
    {
     "data": {
      "text/plain": [
       "[]"
      ]
     },
     "execution_count": 303,
     "metadata": {},
     "output_type": "execute_result"
    }
   ],
   "execution_count": 303
  },
  {
   "metadata": {},
   "cell_type": "markdown",
   "source": "#### 2.2.2 Fix Empty Strings",
   "id": "8c96042353fe57cd"
  },
  {
   "metadata": {
    "ExecuteTime": {
     "end_time": "2024-06-11T15:48:13.890548Z",
     "start_time": "2024-06-11T15:48:13.795300Z"
    }
   },
   "cell_type": "code",
   "source": [
    "# fix missing values \"\" for columns without release_year\n",
    "# https://stackoverflow.com/questions/42752914/pandas-dataframe-truncate-string-fields\n",
    "# https://stackoverflow.com/questions/22469766/how-can-we-strip-punctuation-at-the-start-of-a-string-using-python\n",
    "for column in columns_without_release_year:\n",
    "    df_qm[column] = df_qm[column].apply(lambda x: \"Unknown\" if isinstance(x, str) and len(x.strip()) == 0 else x)\n",
    "    empty_strings = df_qm[df_qm[column].str.strip() == ''].shape[0]\n",
    "    print(\"After fixing empty strings there are {} movies with an empty {} column\".format(empty_strings, column))"
   ],
   "id": "3cbac75a1d40ea5e",
   "outputs": [
    {
     "name": "stdout",
     "output_type": "stream",
     "text": [
      "After fixing empty strings there are 0 movies with an empty title column\n",
      "After fixing empty strings there are 0 movies with an empty origin_ethnicity column\n",
      "After fixing empty strings there are 0 movies with an empty director column\n",
      "After fixing empty strings there are 0 movies with an empty cast column\n",
      "After fixing empty strings there are 0 movies with an empty genre column\n",
      "After fixing empty strings there are 0 movies with an empty wiki_page column\n",
      "After fixing empty strings there are 0 movies with an empty plot column\n"
     ]
    }
   ],
   "execution_count": 304
  },
  {
   "metadata": {},
   "cell_type": "markdown",
   "source": "#### 2.2.3 Multiple Values",
   "id": "eb9ec04a091a59c5"
  },
  {
   "metadata": {
    "ExecuteTime": {
     "end_time": "2024-06-11T15:48:14.215670Z",
     "start_time": "2024-06-11T15:48:13.908872Z"
    }
   },
   "cell_type": "code",
   "source": [
    "# fix multiple values\n",
    "list_with_separators =  [\" and \", \"&\", \"/\", \"\\r\\n\", \";\"]\n",
    "replace_values = \", \"\n",
    "columns = [\"director\", \"cast\", \"genre\"]\n",
    "for column in columns:\n",
    "    for separator in list_with_separators:\n",
    "        df_qm[column] = df_qm[column].str.replace(separator, replace_values, regex=False)\n",
    "        multiple_values = df_qm[column].str.contains(replace_values).sum()\n",
    "        num = df_qm[column].str.contains(separator).sum()\n",
    "        print(\"After fixing {} there are {} left.\".format(separator, num))"
   ],
   "id": "1ad56aec4d9fc418",
   "outputs": [
    {
     "name": "stdout",
     "output_type": "stream",
     "text": [
      "After fixing  and  there are 0 left.\n",
      "After fixing & there are 0 left.\n",
      "After fixing / there are 0 left.\n",
      "After fixing \r\n",
      " there are 0 left.\n",
      "After fixing ; there are 0 left.\n",
      "After fixing  and  there are 0 left.\n",
      "After fixing & there are 0 left.\n",
      "After fixing / there are 0 left.\n",
      "After fixing \r\n",
      " there are 0 left.\n",
      "After fixing ; there are 0 left.\n",
      "After fixing  and  there are 0 left.\n",
      "After fixing & there are 0 left.\n",
      "After fixing / there are 0 left.\n",
      "After fixing \r\n",
      " there are 0 left.\n",
      "After fixing ; there are 0 left.\n"
     ]
    }
   ],
   "execution_count": 305
  },
  {
   "metadata": {
    "ExecuteTime": {
     "end_time": "2024-06-11T15:48:14.228783Z",
     "start_time": "2024-06-11T15:48:14.217056Z"
    }
   },
   "cell_type": "code",
   "source": "df_qm[df_qm['director'].str.contains(' and ', na=False)]",
   "id": "605d9afad5a9d0c6",
   "outputs": [
    {
     "data": {
      "text/plain": [
       "Empty DataFrame\n",
       "Columns: [release_year, title, origin_ethnicity, director, cast, genre, wiki_page, plot]\n",
       "Index: []"
      ],
      "text/html": [
       "<div>\n",
       "<style scoped>\n",
       "    .dataframe tbody tr th:only-of-type {\n",
       "        vertical-align: middle;\n",
       "    }\n",
       "\n",
       "    .dataframe tbody tr th {\n",
       "        vertical-align: top;\n",
       "    }\n",
       "\n",
       "    .dataframe thead th {\n",
       "        text-align: right;\n",
       "    }\n",
       "</style>\n",
       "<table border=\"1\" class=\"dataframe\">\n",
       "  <thead>\n",
       "    <tr style=\"text-align: right;\">\n",
       "      <th></th>\n",
       "      <th>release_year</th>\n",
       "      <th>title</th>\n",
       "      <th>origin_ethnicity</th>\n",
       "      <th>director</th>\n",
       "      <th>cast</th>\n",
       "      <th>genre</th>\n",
       "      <th>wiki_page</th>\n",
       "      <th>plot</th>\n",
       "    </tr>\n",
       "  </thead>\n",
       "  <tbody>\n",
       "  </tbody>\n",
       "</table>\n",
       "</div>"
      ]
     },
     "execution_count": 306,
     "metadata": {},
     "output_type": "execute_result"
    }
   ],
   "execution_count": 306
  },
  {
   "metadata": {
    "ExecuteTime": {
     "end_time": "2024-06-11T15:48:14.474416Z",
     "start_time": "2024-06-11T15:48:14.462679Z"
    }
   },
   "cell_type": "code",
   "source": "df_qm[df_qm['director'].str.contains('&', na=False)]",
   "id": "fbd3844dfbcdf5eb",
   "outputs": [
    {
     "data": {
      "text/plain": [
       "Empty DataFrame\n",
       "Columns: [release_year, title, origin_ethnicity, director, cast, genre, wiki_page, plot]\n",
       "Index: []"
      ],
      "text/html": [
       "<div>\n",
       "<style scoped>\n",
       "    .dataframe tbody tr th:only-of-type {\n",
       "        vertical-align: middle;\n",
       "    }\n",
       "\n",
       "    .dataframe tbody tr th {\n",
       "        vertical-align: top;\n",
       "    }\n",
       "\n",
       "    .dataframe thead th {\n",
       "        text-align: right;\n",
       "    }\n",
       "</style>\n",
       "<table border=\"1\" class=\"dataframe\">\n",
       "  <thead>\n",
       "    <tr style=\"text-align: right;\">\n",
       "      <th></th>\n",
       "      <th>release_year</th>\n",
       "      <th>title</th>\n",
       "      <th>origin_ethnicity</th>\n",
       "      <th>director</th>\n",
       "      <th>cast</th>\n",
       "      <th>genre</th>\n",
       "      <th>wiki_page</th>\n",
       "      <th>plot</th>\n",
       "    </tr>\n",
       "  </thead>\n",
       "  <tbody>\n",
       "  </tbody>\n",
       "</table>\n",
       "</div>"
      ]
     },
     "execution_count": 307,
     "metadata": {},
     "output_type": "execute_result"
    }
   ],
   "execution_count": 307
  },
  {
   "metadata": {
    "ExecuteTime": {
     "end_time": "2024-06-11T15:48:14.611461Z",
     "start_time": "2024-06-11T15:48:14.600058Z"
    }
   },
   "cell_type": "code",
   "source": "df_qm[df_qm['director'].str.contains('/', na=False)]",
   "id": "6039fcbd2c234734",
   "outputs": [
    {
     "data": {
      "text/plain": [
       "Empty DataFrame\n",
       "Columns: [release_year, title, origin_ethnicity, director, cast, genre, wiki_page, plot]\n",
       "Index: []"
      ],
      "text/html": [
       "<div>\n",
       "<style scoped>\n",
       "    .dataframe tbody tr th:only-of-type {\n",
       "        vertical-align: middle;\n",
       "    }\n",
       "\n",
       "    .dataframe tbody tr th {\n",
       "        vertical-align: top;\n",
       "    }\n",
       "\n",
       "    .dataframe thead th {\n",
       "        text-align: right;\n",
       "    }\n",
       "</style>\n",
       "<table border=\"1\" class=\"dataframe\">\n",
       "  <thead>\n",
       "    <tr style=\"text-align: right;\">\n",
       "      <th></th>\n",
       "      <th>release_year</th>\n",
       "      <th>title</th>\n",
       "      <th>origin_ethnicity</th>\n",
       "      <th>director</th>\n",
       "      <th>cast</th>\n",
       "      <th>genre</th>\n",
       "      <th>wiki_page</th>\n",
       "      <th>plot</th>\n",
       "    </tr>\n",
       "  </thead>\n",
       "  <tbody>\n",
       "  </tbody>\n",
       "</table>\n",
       "</div>"
      ]
     },
     "execution_count": 308,
     "metadata": {},
     "output_type": "execute_result"
    }
   ],
   "execution_count": 308
  },
  {
   "metadata": {},
   "cell_type": "markdown",
   "source": "the data quality issues are now fixed for the director column",
   "id": "14322ec80521047b"
  },
  {
   "metadata": {
    "ExecuteTime": {
     "end_time": "2024-06-11T15:48:14.919903Z",
     "start_time": "2024-06-11T15:48:14.906013Z"
    }
   },
   "cell_type": "code",
   "source": "df_qm[df_qm['cast'].str.contains(' and ', na=False)]",
   "id": "5cb48e3f808a62bc",
   "outputs": [
    {
     "data": {
      "text/plain": [
       "Empty DataFrame\n",
       "Columns: [release_year, title, origin_ethnicity, director, cast, genre, wiki_page, plot]\n",
       "Index: []"
      ],
      "text/html": [
       "<div>\n",
       "<style scoped>\n",
       "    .dataframe tbody tr th:only-of-type {\n",
       "        vertical-align: middle;\n",
       "    }\n",
       "\n",
       "    .dataframe tbody tr th {\n",
       "        vertical-align: top;\n",
       "    }\n",
       "\n",
       "    .dataframe thead th {\n",
       "        text-align: right;\n",
       "    }\n",
       "</style>\n",
       "<table border=\"1\" class=\"dataframe\">\n",
       "  <thead>\n",
       "    <tr style=\"text-align: right;\">\n",
       "      <th></th>\n",
       "      <th>release_year</th>\n",
       "      <th>title</th>\n",
       "      <th>origin_ethnicity</th>\n",
       "      <th>director</th>\n",
       "      <th>cast</th>\n",
       "      <th>genre</th>\n",
       "      <th>wiki_page</th>\n",
       "      <th>plot</th>\n",
       "    </tr>\n",
       "  </thead>\n",
       "  <tbody>\n",
       "  </tbody>\n",
       "</table>\n",
       "</div>"
      ]
     },
     "execution_count": 309,
     "metadata": {},
     "output_type": "execute_result"
    }
   ],
   "execution_count": 309
  },
  {
   "metadata": {
    "ExecuteTime": {
     "end_time": "2024-06-11T15:48:15.124124Z",
     "start_time": "2024-06-11T15:48:15.111887Z"
    }
   },
   "cell_type": "code",
   "source": "df_qm[df_qm['cast'].str.contains('&', na=False)]",
   "id": "2886692b751eeb30",
   "outputs": [
    {
     "data": {
      "text/plain": [
       "Empty DataFrame\n",
       "Columns: [release_year, title, origin_ethnicity, director, cast, genre, wiki_page, plot]\n",
       "Index: []"
      ],
      "text/html": [
       "<div>\n",
       "<style scoped>\n",
       "    .dataframe tbody tr th:only-of-type {\n",
       "        vertical-align: middle;\n",
       "    }\n",
       "\n",
       "    .dataframe tbody tr th {\n",
       "        vertical-align: top;\n",
       "    }\n",
       "\n",
       "    .dataframe thead th {\n",
       "        text-align: right;\n",
       "    }\n",
       "</style>\n",
       "<table border=\"1\" class=\"dataframe\">\n",
       "  <thead>\n",
       "    <tr style=\"text-align: right;\">\n",
       "      <th></th>\n",
       "      <th>release_year</th>\n",
       "      <th>title</th>\n",
       "      <th>origin_ethnicity</th>\n",
       "      <th>director</th>\n",
       "      <th>cast</th>\n",
       "      <th>genre</th>\n",
       "      <th>wiki_page</th>\n",
       "      <th>plot</th>\n",
       "    </tr>\n",
       "  </thead>\n",
       "  <tbody>\n",
       "  </tbody>\n",
       "</table>\n",
       "</div>"
      ]
     },
     "execution_count": 310,
     "metadata": {},
     "output_type": "execute_result"
    }
   ],
   "execution_count": 310
  },
  {
   "metadata": {
    "ExecuteTime": {
     "end_time": "2024-06-11T15:48:15.530984Z",
     "start_time": "2024-06-11T15:48:15.517818Z"
    }
   },
   "cell_type": "code",
   "source": "df_qm[df_qm['cast'].str.contains('/', na=False)]",
   "id": "c424d8d6d3980232",
   "outputs": [
    {
     "data": {
      "text/plain": [
       "Empty DataFrame\n",
       "Columns: [release_year, title, origin_ethnicity, director, cast, genre, wiki_page, plot]\n",
       "Index: []"
      ],
      "text/html": [
       "<div>\n",
       "<style scoped>\n",
       "    .dataframe tbody tr th:only-of-type {\n",
       "        vertical-align: middle;\n",
       "    }\n",
       "\n",
       "    .dataframe tbody tr th {\n",
       "        vertical-align: top;\n",
       "    }\n",
       "\n",
       "    .dataframe thead th {\n",
       "        text-align: right;\n",
       "    }\n",
       "</style>\n",
       "<table border=\"1\" class=\"dataframe\">\n",
       "  <thead>\n",
       "    <tr style=\"text-align: right;\">\n",
       "      <th></th>\n",
       "      <th>release_year</th>\n",
       "      <th>title</th>\n",
       "      <th>origin_ethnicity</th>\n",
       "      <th>director</th>\n",
       "      <th>cast</th>\n",
       "      <th>genre</th>\n",
       "      <th>wiki_page</th>\n",
       "      <th>plot</th>\n",
       "    </tr>\n",
       "  </thead>\n",
       "  <tbody>\n",
       "  </tbody>\n",
       "</table>\n",
       "</div>"
      ]
     },
     "execution_count": 311,
     "metadata": {},
     "output_type": "execute_result"
    }
   ],
   "execution_count": 311
  },
  {
   "metadata": {},
   "cell_type": "markdown",
   "source": "the data quality issues are now fixed for the cast column",
   "id": "3caa94fdfad6ed1d"
  },
  {
   "metadata": {
    "ExecuteTime": {
     "end_time": "2024-06-11T15:48:15.700386Z",
     "start_time": "2024-06-11T15:48:15.689194Z"
    }
   },
   "cell_type": "code",
   "source": "df_qm[df_qm['genre'].str.contains(' and ', na=False)]",
   "id": "104e8e0c67c6d042",
   "outputs": [
    {
     "data": {
      "text/plain": [
       "Empty DataFrame\n",
       "Columns: [release_year, title, origin_ethnicity, director, cast, genre, wiki_page, plot]\n",
       "Index: []"
      ],
      "text/html": [
       "<div>\n",
       "<style scoped>\n",
       "    .dataframe tbody tr th:only-of-type {\n",
       "        vertical-align: middle;\n",
       "    }\n",
       "\n",
       "    .dataframe tbody tr th {\n",
       "        vertical-align: top;\n",
       "    }\n",
       "\n",
       "    .dataframe thead th {\n",
       "        text-align: right;\n",
       "    }\n",
       "</style>\n",
       "<table border=\"1\" class=\"dataframe\">\n",
       "  <thead>\n",
       "    <tr style=\"text-align: right;\">\n",
       "      <th></th>\n",
       "      <th>release_year</th>\n",
       "      <th>title</th>\n",
       "      <th>origin_ethnicity</th>\n",
       "      <th>director</th>\n",
       "      <th>cast</th>\n",
       "      <th>genre</th>\n",
       "      <th>wiki_page</th>\n",
       "      <th>plot</th>\n",
       "    </tr>\n",
       "  </thead>\n",
       "  <tbody>\n",
       "  </tbody>\n",
       "</table>\n",
       "</div>"
      ]
     },
     "execution_count": 312,
     "metadata": {},
     "output_type": "execute_result"
    }
   ],
   "execution_count": 312
  },
  {
   "metadata": {
    "ExecuteTime": {
     "end_time": "2024-06-11T15:48:16.060898Z",
     "start_time": "2024-06-11T15:48:16.050388Z"
    }
   },
   "cell_type": "code",
   "source": "df_qm[df_qm['genre'].str.contains('&', na=False)]",
   "id": "93823033688f3f5a",
   "outputs": [
    {
     "data": {
      "text/plain": [
       "Empty DataFrame\n",
       "Columns: [release_year, title, origin_ethnicity, director, cast, genre, wiki_page, plot]\n",
       "Index: []"
      ],
      "text/html": [
       "<div>\n",
       "<style scoped>\n",
       "    .dataframe tbody tr th:only-of-type {\n",
       "        vertical-align: middle;\n",
       "    }\n",
       "\n",
       "    .dataframe tbody tr th {\n",
       "        vertical-align: top;\n",
       "    }\n",
       "\n",
       "    .dataframe thead th {\n",
       "        text-align: right;\n",
       "    }\n",
       "</style>\n",
       "<table border=\"1\" class=\"dataframe\">\n",
       "  <thead>\n",
       "    <tr style=\"text-align: right;\">\n",
       "      <th></th>\n",
       "      <th>release_year</th>\n",
       "      <th>title</th>\n",
       "      <th>origin_ethnicity</th>\n",
       "      <th>director</th>\n",
       "      <th>cast</th>\n",
       "      <th>genre</th>\n",
       "      <th>wiki_page</th>\n",
       "      <th>plot</th>\n",
       "    </tr>\n",
       "  </thead>\n",
       "  <tbody>\n",
       "  </tbody>\n",
       "</table>\n",
       "</div>"
      ]
     },
     "execution_count": 313,
     "metadata": {},
     "output_type": "execute_result"
    }
   ],
   "execution_count": 313
  },
  {
   "metadata": {
    "ExecuteTime": {
     "end_time": "2024-06-11T15:48:16.269896Z",
     "start_time": "2024-06-11T15:48:16.259215Z"
    }
   },
   "cell_type": "code",
   "source": "df_qm[df_qm['genre'].str.contains('/', na=False)]",
   "id": "643d96c06eb42d5b",
   "outputs": [
    {
     "data": {
      "text/plain": [
       "Empty DataFrame\n",
       "Columns: [release_year, title, origin_ethnicity, director, cast, genre, wiki_page, plot]\n",
       "Index: []"
      ],
      "text/html": [
       "<div>\n",
       "<style scoped>\n",
       "    .dataframe tbody tr th:only-of-type {\n",
       "        vertical-align: middle;\n",
       "    }\n",
       "\n",
       "    .dataframe tbody tr th {\n",
       "        vertical-align: top;\n",
       "    }\n",
       "\n",
       "    .dataframe thead th {\n",
       "        text-align: right;\n",
       "    }\n",
       "</style>\n",
       "<table border=\"1\" class=\"dataframe\">\n",
       "  <thead>\n",
       "    <tr style=\"text-align: right;\">\n",
       "      <th></th>\n",
       "      <th>release_year</th>\n",
       "      <th>title</th>\n",
       "      <th>origin_ethnicity</th>\n",
       "      <th>director</th>\n",
       "      <th>cast</th>\n",
       "      <th>genre</th>\n",
       "      <th>wiki_page</th>\n",
       "      <th>plot</th>\n",
       "    </tr>\n",
       "  </thead>\n",
       "  <tbody>\n",
       "  </tbody>\n",
       "</table>\n",
       "</div>"
      ]
     },
     "execution_count": 314,
     "metadata": {},
     "output_type": "execute_result"
    }
   ],
   "execution_count": 314
  },
  {
   "metadata": {},
   "cell_type": "markdown",
   "source": "the data quality issues are now fixed for the genre column",
   "id": "1c28c4b50291431e"
  },
  {
   "metadata": {
    "ExecuteTime": {
     "end_time": "2024-06-11T15:48:16.586422Z",
     "start_time": "2024-06-11T15:48:16.571249Z"
    }
   },
   "cell_type": "code",
   "source": [
    "# display rows with 'Tom, Jerry'\n",
    "df_qm[df_qm['cast'].str.contains('Tom, Jerry', na=False)]"
   ],
   "id": "95020b364d099591",
   "outputs": [
    {
     "data": {
      "text/plain": [
       "      release_year                       title origin_ethnicity  \\\n",
       "3299          1942       Fine Feathered Friend         American   \n",
       "3306          1942                  Fraidy Cat         American   \n",
       "3609          1943          The Lonesome Mouse         American   \n",
       "3676          1943             Sufferin' Cats!         American   \n",
       "3708          1943     The Yankee Doodle Mouse         American   \n",
       "...            ...                         ...              ...   \n",
       "7413          1960            Switchin' Kitten         American   \n",
       "7579          1962  Buddies Thicker Than Water         American   \n",
       "7581          1962              Carmen Get It!         American   \n",
       "7609          1962                 High Steaks         American   \n",
       "7638          1962            Mouse Into Space         American   \n",
       "\n",
       "           director        cast           genre  \\\n",
       "3299  Hanna Barbera  Tom, Jerry  animated short   \n",
       "3306  Hanna Barbera  Tom, Jerry  animated short   \n",
       "3609  Hanna-Barbera  Tom, Jerry  animated short   \n",
       "3676        Unknown  Tom, Jerry  animated short   \n",
       "3708  Hanna-Barbera  Tom, Jerry  animated short   \n",
       "...             ...         ...             ...   \n",
       "7413    Gene Deitch  Tom, Jerry        animated   \n",
       "7579    Gene Deitch  Tom, Jerry        animated   \n",
       "7581    Gene Deitch  Tom, Jerry        animated   \n",
       "7609    Gene Deitch  Tom, Jerry  animated short   \n",
       "7638    Gene Deitch  Tom, Jerry  animated short   \n",
       "\n",
       "                                              wiki_page  \\\n",
       "3299  https://en.wikipedia.org/wiki/Fine_Feathered_F...   \n",
       "3306    https://en.wikipedia.org/wiki/Fraidy_Cat_(film)   \n",
       "3609   https://en.wikipedia.org/wiki/The_Lonesome_Mouse   \n",
       "3676    https://en.wikipedia.org/wiki/Sufferin%27_Cats!   \n",
       "3708  https://en.wikipedia.org/wiki/The_Yankee_Doodl...   \n",
       "...                                                 ...   \n",
       "7413   https://en.wikipedia.org/wiki/Switchin%27_Kitten   \n",
       "7579  https://en.wikipedia.org/wiki/Buddies_Thicker_...   \n",
       "7581       https://en.wikipedia.org/wiki/Carmen_Get_It!   \n",
       "7609          https://en.wikipedia.org/wiki/High_Steaks   \n",
       "7638     https://en.wikipedia.org/wiki/Mouse_Into_Space   \n",
       "\n",
       "                                                   plot  \n",
       "3299  This episode starts with Jerry trying to get a...  \n",
       "3306  The cartoon begins with Tom listening to the r...  \n",
       "3609  Tom is sleeping by the fireplace, but Jerry dr...  \n",
       "3676  The cartoon opens with Jerry running with a fi...  \n",
       "3708  During the days of the World War II, Tom pursu...  \n",
       "...                                                 ...  \n",
       "7413  During a storm, Tom is trying to find a place ...  \n",
       "7579  On a snowy night in New York City, Jerry is co...  \n",
       "7581  Tom chased Jerry into the then-brand new Metro...  \n",
       "7609  Tom's owner, DeWitt Clinton Clobber, is grilli...  \n",
       "7638  Jerry, tired of Tom's repeated attempts to har...  \n",
       "\n",
       "[80 rows x 8 columns]"
      ],
      "text/html": [
       "<div>\n",
       "<style scoped>\n",
       "    .dataframe tbody tr th:only-of-type {\n",
       "        vertical-align: middle;\n",
       "    }\n",
       "\n",
       "    .dataframe tbody tr th {\n",
       "        vertical-align: top;\n",
       "    }\n",
       "\n",
       "    .dataframe thead th {\n",
       "        text-align: right;\n",
       "    }\n",
       "</style>\n",
       "<table border=\"1\" class=\"dataframe\">\n",
       "  <thead>\n",
       "    <tr style=\"text-align: right;\">\n",
       "      <th></th>\n",
       "      <th>release_year</th>\n",
       "      <th>title</th>\n",
       "      <th>origin_ethnicity</th>\n",
       "      <th>director</th>\n",
       "      <th>cast</th>\n",
       "      <th>genre</th>\n",
       "      <th>wiki_page</th>\n",
       "      <th>plot</th>\n",
       "    </tr>\n",
       "  </thead>\n",
       "  <tbody>\n",
       "    <tr>\n",
       "      <th>3299</th>\n",
       "      <td>1942</td>\n",
       "      <td>Fine Feathered Friend</td>\n",
       "      <td>American</td>\n",
       "      <td>Hanna Barbera</td>\n",
       "      <td>Tom, Jerry</td>\n",
       "      <td>animated short</td>\n",
       "      <td>https://en.wikipedia.org/wiki/Fine_Feathered_F...</td>\n",
       "      <td>This episode starts with Jerry trying to get a...</td>\n",
       "    </tr>\n",
       "    <tr>\n",
       "      <th>3306</th>\n",
       "      <td>1942</td>\n",
       "      <td>Fraidy Cat</td>\n",
       "      <td>American</td>\n",
       "      <td>Hanna Barbera</td>\n",
       "      <td>Tom, Jerry</td>\n",
       "      <td>animated short</td>\n",
       "      <td>https://en.wikipedia.org/wiki/Fraidy_Cat_(film)</td>\n",
       "      <td>The cartoon begins with Tom listening to the r...</td>\n",
       "    </tr>\n",
       "    <tr>\n",
       "      <th>3609</th>\n",
       "      <td>1943</td>\n",
       "      <td>The Lonesome Mouse</td>\n",
       "      <td>American</td>\n",
       "      <td>Hanna-Barbera</td>\n",
       "      <td>Tom, Jerry</td>\n",
       "      <td>animated short</td>\n",
       "      <td>https://en.wikipedia.org/wiki/The_Lonesome_Mouse</td>\n",
       "      <td>Tom is sleeping by the fireplace, but Jerry dr...</td>\n",
       "    </tr>\n",
       "    <tr>\n",
       "      <th>3676</th>\n",
       "      <td>1943</td>\n",
       "      <td>Sufferin' Cats!</td>\n",
       "      <td>American</td>\n",
       "      <td>Unknown</td>\n",
       "      <td>Tom, Jerry</td>\n",
       "      <td>animated short</td>\n",
       "      <td>https://en.wikipedia.org/wiki/Sufferin%27_Cats!</td>\n",
       "      <td>The cartoon opens with Jerry running with a fi...</td>\n",
       "    </tr>\n",
       "    <tr>\n",
       "      <th>3708</th>\n",
       "      <td>1943</td>\n",
       "      <td>The Yankee Doodle Mouse</td>\n",
       "      <td>American</td>\n",
       "      <td>Hanna-Barbera</td>\n",
       "      <td>Tom, Jerry</td>\n",
       "      <td>animated short</td>\n",
       "      <td>https://en.wikipedia.org/wiki/The_Yankee_Doodl...</td>\n",
       "      <td>During the days of the World War II, Tom pursu...</td>\n",
       "    </tr>\n",
       "    <tr>\n",
       "      <th>...</th>\n",
       "      <td>...</td>\n",
       "      <td>...</td>\n",
       "      <td>...</td>\n",
       "      <td>...</td>\n",
       "      <td>...</td>\n",
       "      <td>...</td>\n",
       "      <td>...</td>\n",
       "      <td>...</td>\n",
       "    </tr>\n",
       "    <tr>\n",
       "      <th>7413</th>\n",
       "      <td>1960</td>\n",
       "      <td>Switchin' Kitten</td>\n",
       "      <td>American</td>\n",
       "      <td>Gene Deitch</td>\n",
       "      <td>Tom, Jerry</td>\n",
       "      <td>animated</td>\n",
       "      <td>https://en.wikipedia.org/wiki/Switchin%27_Kitten</td>\n",
       "      <td>During a storm, Tom is trying to find a place ...</td>\n",
       "    </tr>\n",
       "    <tr>\n",
       "      <th>7579</th>\n",
       "      <td>1962</td>\n",
       "      <td>Buddies Thicker Than Water</td>\n",
       "      <td>American</td>\n",
       "      <td>Gene Deitch</td>\n",
       "      <td>Tom, Jerry</td>\n",
       "      <td>animated</td>\n",
       "      <td>https://en.wikipedia.org/wiki/Buddies_Thicker_...</td>\n",
       "      <td>On a snowy night in New York City, Jerry is co...</td>\n",
       "    </tr>\n",
       "    <tr>\n",
       "      <th>7581</th>\n",
       "      <td>1962</td>\n",
       "      <td>Carmen Get It!</td>\n",
       "      <td>American</td>\n",
       "      <td>Gene Deitch</td>\n",
       "      <td>Tom, Jerry</td>\n",
       "      <td>animated</td>\n",
       "      <td>https://en.wikipedia.org/wiki/Carmen_Get_It!</td>\n",
       "      <td>Tom chased Jerry into the then-brand new Metro...</td>\n",
       "    </tr>\n",
       "    <tr>\n",
       "      <th>7609</th>\n",
       "      <td>1962</td>\n",
       "      <td>High Steaks</td>\n",
       "      <td>American</td>\n",
       "      <td>Gene Deitch</td>\n",
       "      <td>Tom, Jerry</td>\n",
       "      <td>animated short</td>\n",
       "      <td>https://en.wikipedia.org/wiki/High_Steaks</td>\n",
       "      <td>Tom's owner, DeWitt Clinton Clobber, is grilli...</td>\n",
       "    </tr>\n",
       "    <tr>\n",
       "      <th>7638</th>\n",
       "      <td>1962</td>\n",
       "      <td>Mouse Into Space</td>\n",
       "      <td>American</td>\n",
       "      <td>Gene Deitch</td>\n",
       "      <td>Tom, Jerry</td>\n",
       "      <td>animated short</td>\n",
       "      <td>https://en.wikipedia.org/wiki/Mouse_Into_Space</td>\n",
       "      <td>Jerry, tired of Tom's repeated attempts to har...</td>\n",
       "    </tr>\n",
       "  </tbody>\n",
       "</table>\n",
       "<p>80 rows × 8 columns</p>\n",
       "</div>"
      ]
     },
     "execution_count": 315,
     "metadata": {},
     "output_type": "execute_result"
    }
   ],
   "execution_count": 315
  },
  {
   "metadata": {},
   "cell_type": "markdown",
   "source": "The biggest data quality issues are now fixed for the cast column. ",
   "id": "b4924e6ed81ad1d8"
  },
  {
   "metadata": {},
   "cell_type": "markdown",
   "source": [
    "#### Summary\n",
    "the data quality are now fixed for serveral fields above. The data cleaning is not perfect, but it is good enough for further analysis and visualization."
   ],
   "id": "29838061c9f4f676"
  },
  {
   "metadata": {},
   "cell_type": "markdown",
   "source": [
    "### 2.2.4 Summary\n",
    "The data cleaning process can't be perfect because the dataset is too big and the data quality issues are too complex. The data cleaning process is good enough for further analysis and visualization. It is still unclear what impact the duplicates have on the later application. There is a trade-off between the quality of the data and the time needed to clean the data.\n",
    "\n",
    "Since the application is able to interpret the data it can be handled later on through the application."
   ],
   "id": "9b9991fe0fa66a6"
  },
  {
   "cell_type": "markdown",
   "id": "b5172e45f1d62c06",
   "metadata": {
    "collapsed": false
   },
   "source": "# 3 Visualization"
  },
  {
   "cell_type": "markdown",
   "id": "d42f993cba51a0fc",
   "metadata": {
    "collapsed": false
   },
   "source": "## 3.1 Release Year Histogram"
  },
  {
   "cell_type": "code",
   "id": "a442fa79612abe8f",
   "metadata": {
    "collapsed": false,
    "ExecuteTime": {
     "end_time": "2024-06-11T15:48:16.993896Z",
     "start_time": "2024-06-11T15:48:16.809490Z"
    }
   },
   "source": "plot_hist(df_qm, 'release_year', 'Release Year', 'Number of movies', 'Numbers of released movies per year')",
   "outputs": [
    {
     "data": {
      "text/plain": [
       "<Axes: title={'center': 'Numbers of released movies per year'}, xlabel='Release Year', ylabel='Number of movies'>"
      ]
     },
     "execution_count": 316,
     "metadata": {},
     "output_type": "execute_result"
    },
    {
     "data": {
      "text/plain": [
       "<Figure size 640x480 with 1 Axes>"
      ],
      "image/png": "[encoded data removed]"
     },
     "metadata": {},
     "output_type": "display_data"
    }
   ],
   "execution_count": 316
  },
  {
   "metadata": {},
   "cell_type": "markdown",
   "source": "The histogram shows that the number of movies per year is increasing. The peak is in 2013 with 1021 movies.",
   "id": "d213c15c004833ad"
  },
  {
   "cell_type": "code",
   "id": "53e57c372c9ed0dc",
   "metadata": {
    "collapsed": false,
    "ExecuteTime": {
     "end_time": "2024-06-11T15:48:17.254143Z",
     "start_time": "2024-06-11T15:48:17.250131Z"
    }
   },
   "source": "df_qm['release_year'].value_counts()",
   "outputs": [
    {
     "data": {
      "text/plain": [
       "release_year\n",
       "2013    1021\n",
       "2014     929\n",
       "2012     874\n",
       "2011     858\n",
       "2010     825\n",
       "        ... \n",
       "1906       3\n",
       "1905       2\n",
       "1903       2\n",
       "1904       1\n",
       "1902       1\n",
       "Name: count, Length: 117, dtype: int64"
      ]
     },
     "execution_count": 317,
     "metadata": {},
     "output_type": "execute_result"
    }
   ],
   "execution_count": 317
  },
  {
   "cell_type": "markdown",
   "id": "4ad937375a91c1b0",
   "metadata": {
    "collapsed": false
   },
   "source": "## 3.2 Origin/Ethnicity Histogram"
  },
  {
   "cell_type": "code",
   "id": "6264098144e90231",
   "metadata": {
    "collapsed": false,
    "ExecuteTime": {
     "end_time": "2024-06-11T15:48:17.679622Z",
     "start_time": "2024-06-11T15:48:17.425225Z"
    }
   },
   "source": [
    "plot_hist(\n",
    "    df_qm,\n",
    "    'origin_ethnicity',\n",
    "    'Origin/Ethnicity',\n",
    "    'Number of movies',\n",
    "    'Number of movies per origin/ethnicity',\n",
    "    rotate=True\n",
    ")"
   ],
   "outputs": [
    {
     "data": {
      "text/plain": [
       "<Axes: title={'center': 'Number of movies per origin/ethnicity'}, xlabel='Origin/Ethnicity', ylabel='Number of movies'>"
      ]
     },
     "execution_count": 318,
     "metadata": {},
     "output_type": "execute_result"
    },
    {
     "data": {
      "text/plain": [
       "<Figure size 640x480 with 1 Axes>"
      ],
      "image/png": "[encoded data removed]"
     },
     "metadata": {},
     "output_type": "display_data"
    }
   ],
   "execution_count": 318
  },
  {
   "metadata": {},
   "cell_type": "markdown",
   "source": "The histogram shows that the origin with the most movies is 'American' with 17377 movies.",
   "id": "be2b3c299ff3a4b8"
  },
  {
   "cell_type": "code",
   "id": "2730f88e2c64e714",
   "metadata": {
    "collapsed": false,
    "ExecuteTime": {
     "end_time": "2024-06-11T15:48:17.854420Z",
     "start_time": "2024-06-11T15:48:17.849706Z"
    }
   },
   "source": "df_qm['origin_ethnicity'].value_counts()",
   "outputs": [
    {
     "data": {
      "text/plain": [
       "origin_ethnicity\n",
       "American        17377\n",
       "British          3670\n",
       "Bollywood        2931\n",
       "Tamil            2599\n",
       "Telugu           1311\n",
       "Japanese         1188\n",
       "Malayalam        1095\n",
       "Hong Kong         791\n",
       "Canadian          723\n",
       "Australian        576\n",
       "South_Korean      522\n",
       "Chinese           463\n",
       "Kannada           444\n",
       "Bengali           306\n",
       "Russian           232\n",
       "Marathi           141\n",
       "Filipino          128\n",
       "Bangladeshi        87\n",
       "Punjabi            84\n",
       "Malaysian          70\n",
       "Turkish            70\n",
       "Egyptian           67\n",
       "Assamese            9\n",
       "Maldivian           2\n",
       "Name: count, dtype: int64"
      ]
     },
     "execution_count": 319,
     "metadata": {},
     "output_type": "execute_result"
    }
   ],
   "execution_count": 319
  },
  {
   "metadata": {
    "ExecuteTime": {
     "end_time": "2024-06-11T15:48:17.983857Z",
     "start_time": "2024-06-11T15:48:17.974303Z"
    }
   },
   "cell_type": "code",
   "source": [
    "# Percentage of 'American' movies compared to the total number of movies\n",
    "sum_american = df_qm['origin_ethnicity'].str.contains('American').sum()\n",
    "percentage_american = \"{:,.2f}%\".format((sum_american / number_of_rows) * 100)\n",
    "print(\"The number of American movies is {}. \"\n",
    "      \"Which is {} of the total number of {}.\".format(sum_american, percentage_american, number_of_rows))"
   ],
   "id": "44d3e3d5a89760ef",
   "outputs": [
    {
     "name": "stdout",
     "output_type": "stream",
     "text": [
      "The number of American movies is 17377. Which is 49.81% of the total number of 34886.\n"
     ]
    }
   ],
   "execution_count": 320
  },
  {
   "cell_type": "markdown",
   "id": "78513d93e4e24c51",
   "metadata": {
    "collapsed": false
   },
   "source": "## 3.3 Genre"
  },
  {
   "cell_type": "code",
   "id": "bae062381fd01f23",
   "metadata": {
    "collapsed": false,
    "ExecuteTime": {
     "end_time": "2024-06-11T15:48:18.250780Z",
     "start_time": "2024-06-11T15:48:18.245272Z"
    }
   },
   "source": "df_qm['genre'].value_counts()",
   "outputs": [
    {
     "data": {
      "text/plain": [
       "genre\n",
       "unknown                                           6083\n",
       "drama                                             5964\n",
       "comedy                                            4379\n",
       "horror                                            1167\n",
       "action                                            1098\n",
       "                                                  ... \n",
       "drama based on the novel by j.g. ballard             1\n",
       "drama co-produced with the national film board       1\n",
       "historical costume drama                             1\n",
       "wartime drama                                        1\n",
       "horror romantic comedy                               1\n",
       "Name: count, Length: 2159, dtype: int64"
      ]
     },
     "execution_count": 321,
     "metadata": {},
     "output_type": "execute_result"
    }
   ],
   "execution_count": 321
  },
  {
   "metadata": {
    "ExecuteTime": {
     "end_time": "2024-06-11T15:48:18.408664Z",
     "start_time": "2024-06-11T15:48:18.402868Z"
    }
   },
   "cell_type": "code",
   "source": [
    "value_counts = df_qm['genre'].value_counts()\n",
    "value_counts"
   ],
   "id": "53104260d5499863",
   "outputs": [
    {
     "data": {
      "text/plain": [
       "genre\n",
       "unknown                                           6083\n",
       "drama                                             5964\n",
       "comedy                                            4379\n",
       "horror                                            1167\n",
       "action                                            1098\n",
       "                                                  ... \n",
       "drama based on the novel by j.g. ballard             1\n",
       "drama co-produced with the national film board       1\n",
       "historical costume drama                             1\n",
       "wartime drama                                        1\n",
       "horror romantic comedy                               1\n",
       "Name: count, Length: 2159, dtype: int64"
      ]
     },
     "execution_count": 322,
     "metadata": {},
     "output_type": "execute_result"
    }
   ],
   "execution_count": 322
  },
  {
   "metadata": {
    "ExecuteTime": {
     "end_time": "2024-06-11T15:48:18.672413Z",
     "start_time": "2024-06-11T15:48:18.669012Z"
    }
   },
   "cell_type": "code",
   "source": [
    "values_over_300 = value_counts[value_counts > 300]\n",
    "values_over_300"
   ],
   "id": "a5dedc33702ea9da",
   "outputs": [
    {
     "data": {
      "text/plain": [
       "genre\n",
       "unknown            6083\n",
       "drama              5964\n",
       "comedy             4379\n",
       "horror             1167\n",
       "action             1098\n",
       "thriller            966\n",
       "romance             923\n",
       "western             865\n",
       "crime               568\n",
       "adventure           526\n",
       "musical             467\n",
       "crime drama         464\n",
       "romantic comedy     461\n",
       "science fiction     418\n",
       "film noir           345\n",
       "mystery             310\n",
       "Name: count, dtype: int64"
      ]
     },
     "execution_count": 323,
     "metadata": {},
     "output_type": "execute_result"
    }
   ],
   "execution_count": 323
  },
  {
   "metadata": {
    "ExecuteTime": {
     "end_time": "2024-06-11T15:48:18.778576Z",
     "start_time": "2024-06-11T15:48:18.773384Z"
    }
   },
   "cell_type": "code",
   "source": [
    "# total sum of all values\n",
    "df_qm['genre'].value_counts().sum()"
   ],
   "id": "9b7a2e40a7bf2b42",
   "outputs": [
    {
     "data": {
      "text/plain": [
       "34886"
      ]
     },
     "execution_count": 324,
     "metadata": {},
     "output_type": "execute_result"
    }
   ],
   "execution_count": 324
  },
  {
   "metadata": {
    "ExecuteTime": {
     "end_time": "2024-06-11T15:48:19.030811Z",
     "start_time": "2024-06-11T15:48:19.027969Z"
    }
   },
   "cell_type": "code",
   "source": "values_over_300.sum()",
   "id": "6719a89f939dac75",
   "outputs": [
    {
     "data": {
      "text/plain": [
       "25004"
      ]
     },
     "execution_count": 325,
     "metadata": {},
     "output_type": "execute_result"
    }
   ],
   "execution_count": 325
  },
  {
   "metadata": {
    "ExecuteTime": {
     "end_time": "2024-06-11T15:48:19.163711Z",
     "start_time": "2024-06-11T15:48:19.158021Z"
    }
   },
   "cell_type": "code",
   "source": [
    "# get the sum of all the other values\n",
    "value_counts['other'] = df_qm['genre'].value_counts().sum() - values_over_300.sum()\n",
    "value_counts['other']"
   ],
   "id": "2cfea31b71f1ce92",
   "outputs": [
    {
     "data": {
      "text/plain": [
       "9882"
      ]
     },
     "execution_count": 326,
     "metadata": {},
     "output_type": "execute_result"
    }
   ],
   "execution_count": 326
  },
  {
   "metadata": {
    "ExecuteTime": {
     "end_time": "2024-06-11T15:48:19.521375Z",
     "start_time": "2024-06-11T15:48:19.385017Z"
    }
   },
   "cell_type": "code",
   "source": [
    "# pie chart of percentage of movies per genre\n",
    "# create color palette from value counts\n",
    "# summarize Genres under 300 in 'other'\n",
    "value_counts = df_qm['genre'].value_counts()\n",
    "value_counts = value_counts[value_counts > 300]\n",
    "value_counts['other'] = df_qm['genre'].value_counts().sum() - value_counts.sum()\n",
    "green_color_palette = plt.get_cmap('summer')\n",
    "color_palette = [green_color_palette(i / len(value_counts)) for i in range(len(value_counts))]\n",
    "\n",
    "plt.figure(figsize=(8, 8))\n",
    "plt.pie(value_counts, labels=value_counts.index, colors=color_palette, autopct='%1.1f%%', startangle=140)\n",
    "plt.title('Number of movies per genre in %', fontsize=16, fontweight='bold', pad=14)\n",
    "plt.show()"
   ],
   "id": "d1c34562da424979",
   "outputs": [
    {
     "data": {
      "text/plain": [
       "<Figure size 800x800 with 1 Axes>"
      ],
      "image/png": "[encoded data removed]"
     },
     "metadata": {},
     "output_type": "display_data"
    }
   ],
   "execution_count": 327
  },
  {
   "metadata": {
    "ExecuteTime": {
     "end_time": "2024-06-11T15:48:19.527344Z",
     "start_time": "2024-06-11T15:48:19.522771Z"
    }
   },
   "cell_type": "code",
   "source": [
    "# number of genres that are equal to \"drama\"\n",
    "sum_genre_drama = (df_qm['genre'] == 'drama').sum()\n",
    "percentage_drama = \"{:,.2f}%\".format((sum_genre_drama / number_of_rows) * 100)\n",
    "print(\"The number of Drama movies is {}. \"\n",
    "      \"Which is {} of the total number of {}.\".format(sum_genre_drama, percentage_drama, number_of_rows))"
   ],
   "id": "f2727d39dc27ac2f",
   "outputs": [
    {
     "name": "stdout",
     "output_type": "stream",
     "text": [
      "The number of Drama movies is 5964. Which is 17.10% of the total number of 34886.\n"
     ]
    }
   ],
   "execution_count": 328
  },
  {
   "metadata": {},
   "cell_type": "markdown",
   "source": "This doesn't reflect the real number of drama movies because the genre field contains multiple genres for a movie. This is just a rough estimation.",
   "id": "6346520cd14f725d"
  },
  {
   "metadata": {
    "ExecuteTime": {
     "end_time": "2024-06-11T15:48:19.758754Z",
     "start_time": "2024-06-11T15:48:19.750660Z"
    }
   },
   "cell_type": "code",
   "source": [
    "# check the number of movies per director\n",
    "df_qm['director'].value_counts()"
   ],
   "id": "ea85ab411398a364",
   "outputs": [
    {
     "data": {
      "text/plain": [
       "director\n",
       "Unknown                       1132\n",
       "Michael Curtiz                  79\n",
       "Hanna-Barbera                   77\n",
       "Lloyd Bacon                     66\n",
       "Jules White                     63\n",
       "                              ... \n",
       "Maurice Hamblin                  1\n",
       "Trevor Wrenn                     1\n",
       "Terry Jones, Terry Gilliam       1\n",
       "Morton Lewis, Alan Selwyn        1\n",
       "Ferzan Özpetek                   1\n",
       "Name: count, Length: 12586, dtype: int64"
      ]
     },
     "execution_count": 329,
     "metadata": {},
     "output_type": "execute_result"
    }
   ],
   "execution_count": 329
  },
  {
   "metadata": {},
   "cell_type": "markdown",
   "source": "Michael Curtiz is the director with the most movies in the dataset. This is just a rough estimation since the director field have multiple directors for a movie.",
   "id": "226ce48f22794436"
  },
  {
   "metadata": {},
   "cell_type": "markdown",
   "source": [
    "## 3.4 Summary\n",
    "From the total number of movies 34886 about 49.81% of the movies are from the origin 'American'. The most common genre is 'drama' with 18.68%. The director with the most movies is 'Michael Curtiz' with 172 movies.\n",
    "\n",
    "Since the most movies are from the origin 'American' we will only include movies from the origin 'American' for further research."
   ],
   "id": "563848a904d4087c"
  },
  {
   "cell_type": "markdown",
   "id": "9ee233ba0249fbd6",
   "metadata": {
    "collapsed": false
   },
   "source": [
    "# 4 Filter Dataset\n",
    "The Dataset is going to be filtered for only movies from the origin 'American' because they have the biggest share with around 38%."
   ]
  },
  {
   "metadata": {
    "ExecuteTime": {
     "end_time": "2024-06-11T15:48:19.836960Z",
     "start_time": "2024-06-11T15:48:19.827822Z"
    }
   },
   "cell_type": "code",
   "source": "df_us = df_qm.copy()",
   "id": "86d33736211dd43d",
   "outputs": [],
   "execution_count": 330
  },
  {
   "metadata": {
    "ExecuteTime": {
     "end_time": "2024-06-11T15:48:20.151194Z",
     "start_time": "2024-06-11T15:48:20.145402Z"
    }
   },
   "cell_type": "code",
   "source": "df_us = df_us[df_us['origin_ethnicity'].isin(['American'])]",
   "id": "cc9593c8603def69",
   "outputs": [],
   "execution_count": 331
  },
  {
   "metadata": {},
   "cell_type": "markdown",
   "source": "let's check the data quality issues again and see if we have to fix some of them.",
   "id": "f290a3e61cf79db5"
  },
  {
   "metadata": {
    "ExecuteTime": {
     "end_time": "2024-06-11T15:48:20.324714Z",
     "start_time": "2024-06-11T15:48:20.319325Z"
    }
   },
   "cell_type": "code",
   "source": [
    "df_us['release_year'].value_counts()\n",
    "genre_defined_us = df_us.shape[0] - df_us[df_us['genre'].isin(['unknown'])].shape[0]\n",
    "print('The Total number of movies from the us are: {}'.format(df_us.shape[0]))\n",
    "print('Whereas the number of movies without defined genre is: {}'.format(\n",
    "    df_us[df_us['genre'].isin(['unknown'])].shape[0]))\n",
    "print('That means we have {} movies with a given genre'.format(genre_defined_us))"
   ],
   "id": "34c5215fe92c7b4f",
   "outputs": [
    {
     "name": "stdout",
     "output_type": "stream",
     "text": [
      "The Total number of movies from the us are: 17377\n",
      "Whereas the number of movies without defined genre is: 398\n",
      "That means we have 16979 movies with a given genre\n"
     ]
    }
   ],
   "execution_count": 332
  },
  {
   "metadata": {
    "ExecuteTime": {
     "end_time": "2024-06-11T15:48:20.512689Z",
     "start_time": "2024-06-11T15:48:20.508358Z"
    }
   },
   "cell_type": "code",
   "source": [
    "# check if the filtering was successful\n",
    "value_counts = df_us['origin_ethnicity'].value_counts()\n",
    "value_counts"
   ],
   "id": "2a9a083102c9bff2",
   "outputs": [
    {
     "data": {
      "text/plain": [
       "origin_ethnicity\n",
       "American    17377\n",
       "Name: count, dtype: int64"
      ]
     },
     "execution_count": 333,
     "metadata": {},
     "output_type": "execute_result"
    }
   ],
   "execution_count": 333
  },
  {
   "metadata": {},
   "cell_type": "markdown",
   "source": "## 4.1 Check Data Quality Issues",
   "id": "73236bd999e9d4ff"
  },
  {
   "metadata": {},
   "cell_type": "markdown",
   "source": [
    "#### 4.1.1 Missing Values\n",
    "Since we were fixing missing values before we don't have to fix anything for missing values again."
   ],
   "id": "cd2497ffbc2d1f9"
  },
  {
   "metadata": {
    "ExecuteTime": {
     "end_time": "2024-06-11T15:48:20.669182Z",
     "start_time": "2024-06-11T15:48:20.661116Z"
    }
   },
   "cell_type": "code",
   "source": [
    "missing_values_list = df_us.columns[df_us.isna().any()].tolist()\n",
    "missing_values_list"
   ],
   "id": "96383533471ece1",
   "outputs": [
    {
     "data": {
      "text/plain": [
       "[]"
      ]
     },
     "execution_count": 334,
     "metadata": {},
     "output_type": "execute_result"
    }
   ],
   "execution_count": 334
  },
  {
   "metadata": {},
   "cell_type": "markdown",
   "source": [
    "#### 4.1.2 Empty Strings\n",
    "Since we were fixing empty strings before we don't have to fix anything for empty strings again."
   ],
   "id": "678081bc15870204"
  },
  {
   "metadata": {
    "ExecuteTime": {
     "end_time": "2024-06-11T15:48:20.888704Z",
     "start_time": "2024-06-11T15:48:20.862263Z"
    }
   },
   "cell_type": "code",
   "source": [
    "columns_without_release_year = df_us.columns[df_us.columns != 'release_year']\n",
    "for column in columns_without_release_year:\n",
    "    empty_strings = df_us[df_us[column].str.strip() == ''].shape[0]\n",
    "    print(\"After fixing empty strings there are {} movies with an empty {} column\".format(empty_strings, column))"
   ],
   "id": "5e78372e01097e44",
   "outputs": [
    {
     "name": "stdout",
     "output_type": "stream",
     "text": [
      "After fixing empty strings there are 0 movies with an empty title column\n",
      "After fixing empty strings there are 0 movies with an empty origin_ethnicity column\n",
      "After fixing empty strings there are 0 movies with an empty director column\n",
      "After fixing empty strings there are 0 movies with an empty cast column\n",
      "After fixing empty strings there are 0 movies with an empty genre column\n",
      "After fixing empty strings there are 0 movies with an empty wiki_page column\n",
      "After fixing empty strings there are 0 movies with an empty plot column\n"
     ]
    }
   ],
   "execution_count": 335
  },
  {
   "metadata": {},
   "cell_type": "markdown",
   "source": "#### 4.1.3 Duplicates",
   "id": "cb7d5e1f79281d7"
  },
  {
   "metadata": {
    "ExecuteTime": {
     "end_time": "2024-06-11T15:48:21.013770Z",
     "start_time": "2024-06-11T15:48:21.009886Z"
    }
   },
   "cell_type": "code",
   "source": [
    "# check for duplicates in the title column\n",
    "duplicated_titles_us = df_us[df_us['title'].duplicated(keep=False)]\n",
    "print(\"There are {} duplicates in the title column\".format(duplicated_titles_us.shape[0]))"
   ],
   "id": "3098976823a36173",
   "outputs": [
    {
     "name": "stdout",
     "output_type": "stream",
     "text": [
      "There are 1576 duplicates in the title column\n"
     ]
    }
   ],
   "execution_count": 336
  },
  {
   "metadata": {
    "ExecuteTime": {
     "end_time": "2024-06-11T15:48:21.273063Z",
     "start_time": "2024-06-11T15:48:21.266928Z"
    }
   },
   "cell_type": "code",
   "source": [
    "# display duplicates\n",
    "duplicated_titles_us"
   ],
   "id": "b784e2ee8fd12d4d",
   "outputs": [
    {
     "data": {
      "text/plain": [
       "       release_year                       title origin_ethnicity  \\\n",
       "4              1902      Jack and the Beanstalk         American   \n",
       "5              1903         Alice in Wonderland         American   \n",
       "9              1905  The Night Before Christmas         American   \n",
       "15             1907                Laughing Gas         American   \n",
       "19             1908        The Call of the Wild         American   \n",
       "...             ...                         ...              ...   \n",
       "17315          2017                  Flatliners         American   \n",
       "17318          2017   My Little Pony: The Movie         American   \n",
       "17328          2017              Only the Brave         American   \n",
       "17336          2017                      Jigsaw         American   \n",
       "17350          2017                    The Star         American   \n",
       "\n",
       "                                 director  \\\n",
       "4      George S. Fleming, Edwin S. Porter   \n",
       "5                          Cecil Hepworth   \n",
       "9                    Edwin Stanton Porter   \n",
       "15                   Edwin Stanton Porter   \n",
       "19                         D. W. Griffith   \n",
       "...                                   ...   \n",
       "17315                   Niels Arden Oplev   \n",
       "17318                     Jayson Thiessen   \n",
       "17328                     Joseph Kosinski   \n",
       "17336                The Spierig Brothers   \n",
       "17350                     Timothy Reckart   \n",
       "\n",
       "                                                    cast  \\\n",
       "4                                                Unknown   \n",
       "5                                              May Clark   \n",
       "9                                                Unknown   \n",
       "15                       Bertha Regustus, Edward Boulden   \n",
       "19                                        Charles Inslee   \n",
       "...                                                  ...   \n",
       "17315  Niels Arden Oplev (director),  Ben Ripley (scr...   \n",
       "17318  Jayson Thiessen (director),  Meghan McCarthy, ...   \n",
       "17328  Joseph Kosinski (director),  Ken Nolan, Eric W...   \n",
       "17336  The Spierig Brothers (directors),  Josh Stolbe...   \n",
       "17350  Timothy Reckart (director),  Tom Sheridan (scr...   \n",
       "\n",
       "                                                   genre  \\\n",
       "4                                                unknown   \n",
       "5                                                unknown   \n",
       "9                                                unknown   \n",
       "15                                                comedy   \n",
       "19                                             adventure   \n",
       "...                                                  ...   \n",
       "17315                              horror, sci-fi, drama   \n",
       "17318  animation, adventure, comedy, family, fantasy,...   \n",
       "17328                           action, biography, drama   \n",
       "17336                   crime, horror, mystery, thriller   \n",
       "17350                       animation, adventure, comedy   \n",
       "\n",
       "                                               wiki_page  \\\n",
       "4      https://en.wikipedia.org/wiki/Jack_and_the_Bea...   \n",
       "5      https://en.wikipedia.org/wiki/Alice_in_Wonderl...   \n",
       "9      https://en.wikipedia.org/wiki/The_Night_Before...   \n",
       "15     https://en.wikipedia.org/wiki/Laughing_Gas_(fi...   \n",
       "19     https://en.wikipedia.org/wiki/The_Call_of_the_...   \n",
       "...                                                  ...   \n",
       "17315  https://en.wikipedia.org/wiki/Flatliners_(2017...   \n",
       "17318  https://en.wikipedia.org/wiki/My_Little_Pony:_...   \n",
       "17328  https://en.wikipedia.org/wiki/Only_the_Brave_(...   \n",
       "17336   https://en.wikipedia.org/wiki/Jigsaw_(2017_film)   \n",
       "17350  https://en.wikipedia.org/wiki/The_Star_(2017_f...   \n",
       "\n",
       "                                                    plot  \n",
       "4      The earliest known adaptation of the classic f...  \n",
       "5      Alice follows a large white rabbit down a \"Rab...  \n",
       "9      Scenes are introduced using lines of the poem....  \n",
       "15     The plot is that of a black woman going to the...  \n",
       "19     A white girl (Florence Lawrence) rejects a pro...  \n",
       "...                                                  ...  \n",
       "17315  A medical student, Courtney (Ellen Page), is o...  \n",
       "17318  The ponies of Equestria prepare for their firs...  \n",
       "17328  Eric \"Supe\" Marsh, the superintendent of the P...  \n",
       "17336  Criminal Edgar Munsen is pursued by the police...  \n",
       "17350  In \"9 months B.C.\", Mary is visited by an ange...  \n",
       "\n",
       "[1576 rows x 8 columns]"
      ],
      "text/html": [
       "<div>\n",
       "<style scoped>\n",
       "    .dataframe tbody tr th:only-of-type {\n",
       "        vertical-align: middle;\n",
       "    }\n",
       "\n",
       "    .dataframe tbody tr th {\n",
       "        vertical-align: top;\n",
       "    }\n",
       "\n",
       "    .dataframe thead th {\n",
       "        text-align: right;\n",
       "    }\n",
       "</style>\n",
       "<table border=\"1\" class=\"dataframe\">\n",
       "  <thead>\n",
       "    <tr style=\"text-align: right;\">\n",
       "      <th></th>\n",
       "      <th>release_year</th>\n",
       "      <th>title</th>\n",
       "      <th>origin_ethnicity</th>\n",
       "      <th>director</th>\n",
       "      <th>cast</th>\n",
       "      <th>genre</th>\n",
       "      <th>wiki_page</th>\n",
       "      <th>plot</th>\n",
       "    </tr>\n",
       "  </thead>\n",
       "  <tbody>\n",
       "    <tr>\n",
       "      <th>4</th>\n",
       "      <td>1902</td>\n",
       "      <td>Jack and the Beanstalk</td>\n",
       "      <td>American</td>\n",
       "      <td>George S. Fleming, Edwin S. Porter</td>\n",
       "      <td>Unknown</td>\n",
       "      <td>unknown</td>\n",
       "      <td>https://en.wikipedia.org/wiki/Jack_and_the_Bea...</td>\n",
       "      <td>The earliest known adaptation of the classic f...</td>\n",
       "    </tr>\n",
       "    <tr>\n",
       "      <th>5</th>\n",
       "      <td>1903</td>\n",
       "      <td>Alice in Wonderland</td>\n",
       "      <td>American</td>\n",
       "      <td>Cecil Hepworth</td>\n",
       "      <td>May Clark</td>\n",
       "      <td>unknown</td>\n",
       "      <td>https://en.wikipedia.org/wiki/Alice_in_Wonderl...</td>\n",
       "      <td>Alice follows a large white rabbit down a \"Rab...</td>\n",
       "    </tr>\n",
       "    <tr>\n",
       "      <th>9</th>\n",
       "      <td>1905</td>\n",
       "      <td>The Night Before Christmas</td>\n",
       "      <td>American</td>\n",
       "      <td>Edwin Stanton Porter</td>\n",
       "      <td>Unknown</td>\n",
       "      <td>unknown</td>\n",
       "      <td>https://en.wikipedia.org/wiki/The_Night_Before...</td>\n",
       "      <td>Scenes are introduced using lines of the poem....</td>\n",
       "    </tr>\n",
       "    <tr>\n",
       "      <th>15</th>\n",
       "      <td>1907</td>\n",
       "      <td>Laughing Gas</td>\n",
       "      <td>American</td>\n",
       "      <td>Edwin Stanton Porter</td>\n",
       "      <td>Bertha Regustus, Edward Boulden</td>\n",
       "      <td>comedy</td>\n",
       "      <td>https://en.wikipedia.org/wiki/Laughing_Gas_(fi...</td>\n",
       "      <td>The plot is that of a black woman going to the...</td>\n",
       "    </tr>\n",
       "    <tr>\n",
       "      <th>19</th>\n",
       "      <td>1908</td>\n",
       "      <td>The Call of the Wild</td>\n",
       "      <td>American</td>\n",
       "      <td>D. W. Griffith</td>\n",
       "      <td>Charles Inslee</td>\n",
       "      <td>adventure</td>\n",
       "      <td>https://en.wikipedia.org/wiki/The_Call_of_the_...</td>\n",
       "      <td>A white girl (Florence Lawrence) rejects a pro...</td>\n",
       "    </tr>\n",
       "    <tr>\n",
       "      <th>...</th>\n",
       "      <td>...</td>\n",
       "      <td>...</td>\n",
       "      <td>...</td>\n",
       "      <td>...</td>\n",
       "      <td>...</td>\n",
       "      <td>...</td>\n",
       "      <td>...</td>\n",
       "      <td>...</td>\n",
       "    </tr>\n",
       "    <tr>\n",
       "      <th>17315</th>\n",
       "      <td>2017</td>\n",
       "      <td>Flatliners</td>\n",
       "      <td>American</td>\n",
       "      <td>Niels Arden Oplev</td>\n",
       "      <td>Niels Arden Oplev (director),  Ben Ripley (scr...</td>\n",
       "      <td>horror, sci-fi, drama</td>\n",
       "      <td>https://en.wikipedia.org/wiki/Flatliners_(2017...</td>\n",
       "      <td>A medical student, Courtney (Ellen Page), is o...</td>\n",
       "    </tr>\n",
       "    <tr>\n",
       "      <th>17318</th>\n",
       "      <td>2017</td>\n",
       "      <td>My Little Pony: The Movie</td>\n",
       "      <td>American</td>\n",
       "      <td>Jayson Thiessen</td>\n",
       "      <td>Jayson Thiessen (director),  Meghan McCarthy, ...</td>\n",
       "      <td>animation, adventure, comedy, family, fantasy,...</td>\n",
       "      <td>https://en.wikipedia.org/wiki/My_Little_Pony:_...</td>\n",
       "      <td>The ponies of Equestria prepare for their firs...</td>\n",
       "    </tr>\n",
       "    <tr>\n",
       "      <th>17328</th>\n",
       "      <td>2017</td>\n",
       "      <td>Only the Brave</td>\n",
       "      <td>American</td>\n",
       "      <td>Joseph Kosinski</td>\n",
       "      <td>Joseph Kosinski (director),  Ken Nolan, Eric W...</td>\n",
       "      <td>action, biography, drama</td>\n",
       "      <td>https://en.wikipedia.org/wiki/Only_the_Brave_(...</td>\n",
       "      <td>Eric \"Supe\" Marsh, the superintendent of the P...</td>\n",
       "    </tr>\n",
       "    <tr>\n",
       "      <th>17336</th>\n",
       "      <td>2017</td>\n",
       "      <td>Jigsaw</td>\n",
       "      <td>American</td>\n",
       "      <td>The Spierig Brothers</td>\n",
       "      <td>The Spierig Brothers (directors),  Josh Stolbe...</td>\n",
       "      <td>crime, horror, mystery, thriller</td>\n",
       "      <td>https://en.wikipedia.org/wiki/Jigsaw_(2017_film)</td>\n",
       "      <td>Criminal Edgar Munsen is pursued by the police...</td>\n",
       "    </tr>\n",
       "    <tr>\n",
       "      <th>17350</th>\n",
       "      <td>2017</td>\n",
       "      <td>The Star</td>\n",
       "      <td>American</td>\n",
       "      <td>Timothy Reckart</td>\n",
       "      <td>Timothy Reckart (director),  Tom Sheridan (scr...</td>\n",
       "      <td>animation, adventure, comedy</td>\n",
       "      <td>https://en.wikipedia.org/wiki/The_Star_(2017_f...</td>\n",
       "      <td>In \"9 months B.C.\", Mary is visited by an ange...</td>\n",
       "    </tr>\n",
       "  </tbody>\n",
       "</table>\n",
       "<p>1576 rows × 8 columns</p>\n",
       "</div>"
      ]
     },
     "execution_count": 337,
     "metadata": {},
     "output_type": "execute_result"
    }
   ],
   "execution_count": 337
  },
  {
   "metadata": {
    "ExecuteTime": {
     "end_time": "2024-06-11T15:48:21.571237Z",
     "start_time": "2024-06-11T15:48:21.568210Z"
    }
   },
   "cell_type": "code",
   "source": [
    "duplicated_titles_us_len = duplicated_titles_us.shape[0]\n",
    "duplicated_titles_us_len"
   ],
   "id": "c98b7a782b3bb58e",
   "outputs": [
    {
     "data": {
      "text/plain": [
       "1576"
      ]
     },
     "execution_count": 338,
     "metadata": {},
     "output_type": "execute_result"
    }
   ],
   "execution_count": 338
  },
  {
   "metadata": {
    "ExecuteTime": {
     "end_time": "2024-06-11T15:48:21.691018Z",
     "start_time": "2024-06-11T15:48:21.688402Z"
    }
   },
   "cell_type": "code",
   "source": [
    "# display the period of movies with the most duplicates in the title column\n",
    "max_year = duplicated_titles_us['release_year'].max()\n",
    "min_year = duplicated_titles_us['release_year'].min()\n",
    "print(\"The movies with the most duplicates are from the period {} to {}.\".format(min_year, max_year))"
   ],
   "id": "593395ac130aa028",
   "outputs": [
    {
     "name": "stdout",
     "output_type": "stream",
     "text": [
      "The movies with the most duplicates are from the period 1902 to 2017.\n"
     ]
    }
   ],
   "execution_count": 339
  },
  {
   "metadata": {},
   "cell_type": "markdown",
   "source": "There are duplicates in nearly the whole spectrum of the release years. To see were the most duplicates are we have to check the release years.",
   "id": "ac53a6d09beeb3c3"
  },
  {
   "metadata": {
    "ExecuteTime": {
     "end_time": "2024-06-11T15:48:21.963359Z",
     "start_time": "2024-06-11T15:48:21.959439Z"
    }
   },
   "cell_type": "code",
   "source": "duplicated_titles_us['release_year'].value_counts()",
   "id": "d9fb6c47d15f5b0b",
   "outputs": [
    {
     "data": {
      "text/plain": [
       "release_year\n",
       "1931    35\n",
       "1939    31\n",
       "1950    31\n",
       "1930    29\n",
       "1996    28\n",
       "        ..\n",
       "1913     1\n",
       "1911     1\n",
       "1907     1\n",
       "1905     1\n",
       "1902     1\n",
       "Name: count, Length: 113, dtype: int64"
      ]
     },
     "execution_count": 340,
     "metadata": {},
     "output_type": "execute_result"
    }
   ],
   "execution_count": 340
  },
  {
   "metadata": {},
   "cell_type": "markdown",
   "source": "1931 has the most duplicates with 35 movies.",
   "id": "97d01ec2e93755a9"
  },
  {
   "metadata": {
    "ExecuteTime": {
     "end_time": "2024-06-11T15:48:22.264887Z",
     "start_time": "2024-06-11T15:48:22.103178Z"
    }
   },
   "cell_type": "code",
   "source": [
    "# plot a histogram of the number of duplicates per release year\n",
    "plot_hist(duplicated_titles_us, 'release_year', 'Release year', 'Number of movies', 'Numbers of duplicates per movies per year from US')"
   ],
   "id": "140f9899ddb28258",
   "outputs": [
    {
     "data": {
      "text/plain": [
       "<Axes: title={'center': 'Numbers of duplicates per movies per year from US'}, xlabel='Release year', ylabel='Number of movies'>"
      ]
     },
     "execution_count": 341,
     "metadata": {},
     "output_type": "execute_result"
    },
    {
     "data": {
      "text/plain": [
       "<Figure size 640x480 with 1 Axes>"
      ],
      "image/png": "[encoded data removed]"
     },
     "metadata": {},
     "output_type": "display_data"
    }
   ],
   "execution_count": 341
  },
  {
   "metadata": {},
   "cell_type": "markdown",
   "source": "Check the number of duplicates before 1980 and in 1980 and the following years. ",
   "id": "27f5cca9e6924bc7"
  },
  {
   "metadata": {
    "ExecuteTime": {
     "end_time": "2024-06-11T15:48:22.463260Z",
     "start_time": "2024-06-11T15:48:22.459966Z"
    }
   },
   "cell_type": "code",
   "source": [
    "# number of duplicates per release year before 1980\n",
    "number_duplicates_before_80s = duplicated_titles_us[duplicated_titles_us['release_year'] < 1980].shape[0]\n",
    "print(\"The number of duplicates before 1980 is: {}% ({})\".format((round((number_duplicates_before_80s/duplicated_titles_us_len)*100, 2)), number_duplicates_before_80s))"
   ],
   "id": "635e366b1071b4cc",
   "outputs": [
    {
     "name": "stdout",
     "output_type": "stream",
     "text": [
      "The number of duplicates before 1980 is: 61.99% (977)\n"
     ]
    }
   ],
   "execution_count": 342
  },
  {
   "metadata": {
    "ExecuteTime": {
     "end_time": "2024-06-11T15:48:22.593105Z",
     "start_time": "2024-06-11T15:48:22.589947Z"
    }
   },
   "cell_type": "code",
   "source": [
    "# number of duplicates per release year in 1980 and the following years\n",
    "number_duplicates_80s = duplicated_titles_us[duplicated_titles_us['release_year'] >= 1980].shape[0]\n",
    "print(\"The number of duplicates in 1980 and the following years is: {}% ({})\".format((round((number_duplicates_80s/duplicated_titles_us_len)*100, 2)), number_duplicates_80s))"
   ],
   "id": "f0fe8fd7015eb803",
   "outputs": [
    {
     "name": "stdout",
     "output_type": "stream",
     "text": [
      "The number of duplicates in 1980 and the following years is: 38.01% (599)\n"
     ]
    }
   ],
   "execution_count": 343
  },
  {
   "metadata": {},
   "cell_type": "markdown",
   "source": [
    "The Histogram is showing that in many years there are duplicates. It's increasing over the years but between the 1960s and 1980s, there are fewer duplicates.\n",
    "\n",
    "One Solution could be to remove some movies to A. reduce the dataset size and B. to remove duplicates.\n",
    "Since removing duplicates is not so easy and reasonable we could think about removing a certain part of the dataset.\n",
    "One possible solution could be to remove all Movies before 1980."
   ],
   "id": "a903a28797ed9feb"
  },
  {
   "metadata": {},
   "cell_type": "markdown",
   "source": "## 4.2 Filter Dataset for 1980 and the following years",
   "id": "65d5cefe7aef4538"
  },
  {
   "metadata": {
    "ExecuteTime": {
     "end_time": "2024-06-11T15:48:22.875Z",
     "start_time": "2024-06-11T15:48:22.871087Z"
    }
   },
   "cell_type": "code",
   "source": "df_us_80 = df_us.copy()",
   "id": "4484aee694b3c149",
   "outputs": [],
   "execution_count": 344
  },
  {
   "cell_type": "code",
   "id": "9c5cc530ee6a6dde",
   "metadata": {
    "collapsed": false,
    "ExecuteTime": {
     "end_time": "2024-06-11T15:48:22.993197Z",
     "start_time": "2024-06-11T15:48:22.989510Z"
    }
   },
   "source": "df_us_80 = df_us_80[df_us_80['release_year'] >= 1980]",
   "outputs": [],
   "execution_count": 345
  },
  {
   "cell_type": "code",
   "id": "a09556dbf71f7f48",
   "metadata": {
    "collapsed": false,
    "ExecuteTime": {
     "end_time": "2024-06-11T15:48:23.259497Z",
     "start_time": "2024-06-11T15:48:23.256906Z"
    }
   },
   "source": [
    "number_of_80s_max = len(df_us_80)\n",
    "# share in % after including only 80s plus\n",
    "share_of_80s = \"{:,.2f}%\".format((number_of_80s_max / number_of_rows) * 100)\n",
    "print(\"The number of movies in 1980 and the following years is {}. \"\n",
    "      \"Which is {} of the total number of {}.\".format(number_of_80s_max, share_of_80s, number_of_rows))"
   ],
   "outputs": [
    {
     "name": "stdout",
     "output_type": "stream",
     "text": [
      "The number of movies in 1980 and the following years is 7707. Which is 22.09% of the total number of 34886.\n"
     ]
    }
   ],
   "execution_count": 346
  },
  {
   "cell_type": "markdown",
   "id": "2e6f05287a4bafc5",
   "metadata": {
    "collapsed": false
   },
   "source": "## 4.3 Get some insights from the filtered dataset"
  },
  {
   "metadata": {},
   "cell_type": "markdown",
   "source": "#### Value Counts",
   "id": "9a45efa0177bb14a"
  },
  {
   "metadata": {
    "ExecuteTime": {
     "end_time": "2024-06-11T15:48:23.339596Z",
     "start_time": "2024-06-11T15:48:23.335801Z"
    }
   },
   "cell_type": "code",
   "source": "df_us_80['release_year'].value_counts()",
   "id": "c8864bd4e41f8833",
   "outputs": [
    {
     "data": {
      "text/plain": [
       "release_year\n",
       "2006    327\n",
       "2013    313\n",
       "1997    293\n",
       "1996    290\n",
       "2012    259\n",
       "2007    259\n",
       "1995    248\n",
       "1994    238\n",
       "1988    238\n",
       "1987    233\n",
       "1990    229\n",
       "1989    224\n",
       "1998    214\n",
       "2017    213\n",
       "2009    208\n",
       "2002    205\n",
       "2005    204\n",
       "2004    203\n",
       "2001    202\n",
       "2003    199\n",
       "1999    196\n",
       "2010    192\n",
       "2000    190\n",
       "2014    188\n",
       "1992    187\n",
       "2008    187\n",
       "1991    183\n",
       "2011    182\n",
       "1993    177\n",
       "1985    167\n",
       "1986    164\n",
       "1984    146\n",
       "2016    137\n",
       "1982    129\n",
       "1980    126\n",
       "1983    120\n",
       "1981    120\n",
       "2015    117\n",
       "Name: count, dtype: int64"
      ]
     },
     "execution_count": 347,
     "metadata": {},
     "output_type": "execute_result"
    }
   ],
   "execution_count": 347
  },
  {
   "metadata": {},
   "cell_type": "markdown",
   "source": "just for documentation purposes.",
   "id": "6c54b4a6546450b6"
  },
  {
   "metadata": {
    "ExecuteTime": {
     "end_time": "2024-06-11T15:48:23.735646Z",
     "start_time": "2024-06-11T15:48:23.562351Z"
    }
   },
   "cell_type": "code",
   "source": [
    "# Number of movies of the origin 'American' in the 1980s and the following years\n",
    "plot_hist(df_us_80, 'release_year', 'Release Year', 'Number of movies', 'Numbers of released movies per year from US\\nin the 1980s and the following years')"
   ],
   "id": "69e07e8e23f96826",
   "outputs": [
    {
     "data": {
      "text/plain": [
       "<Axes: title={'center': 'Numbers of released movies per year from US\\nin the 1980s and the following years'}, xlabel='Release Year', ylabel='Number of movies'>"
      ]
     },
     "execution_count": 348,
     "metadata": {},
     "output_type": "execute_result"
    },
    {
     "data": {
      "text/plain": [
       "<Figure size 640x480 with 1 Axes>"
      ],
      "image/png": "[encoded data removed]"
     },
     "metadata": {},
     "output_type": "display_data"
    }
   ],
   "execution_count": 348
  },
  {
   "metadata": {},
   "cell_type": "markdown",
   "source": "The overall trend is increasing over the years between the years the number of movies are fluctuating. Since this dataset is crawled from wikipedia it is possible that the data is not complete or not representative.",
   "id": "5de80fa974896166"
  },
  {
   "metadata": {
    "ExecuteTime": {
     "end_time": "2024-06-11T15:48:23.739516Z",
     "start_time": "2024-06-11T15:48:23.737041Z"
    }
   },
   "cell_type": "code",
   "source": [
    "# display the max and min release year\n",
    "max_year = df_us_80['release_year'].max()\n",
    "min_year = df_us_80['release_year'].min()\n",
    "print(\"The movies are from the period {} to {}.\".format(min_year, max_year))"
   ],
   "id": "9a6d758b975a1dbf",
   "outputs": [
    {
     "name": "stdout",
     "output_type": "stream",
     "text": [
      "The movies are from the period 1980 to 2017.\n"
     ]
    }
   ],
   "execution_count": 349
  },
  {
   "metadata": {
    "ExecuteTime": {
     "end_time": "2024-06-11T15:48:23.951094Z",
     "start_time": "2024-06-11T15:48:23.947636Z"
    }
   },
   "cell_type": "code",
   "source": "\"The Mean number of releasd movies per year is {}\".format(int(df_us_80['release_year'].value_counts().mean()))",
   "id": "f4db2526fcd4db2",
   "outputs": [
    {
     "data": {
      "text/plain": [
       "'The Mean number of releasd movies per year is 202'"
      ]
     },
     "execution_count": 350,
     "metadata": {},
     "output_type": "execute_result"
    }
   ],
   "execution_count": 350
  },
  {
   "metadata": {},
   "cell_type": "markdown",
   "source": "#### Missing Values",
   "id": "7933ab0503773f55"
  },
  {
   "metadata": {
    "ExecuteTime": {
     "end_time": "2024-06-11T15:48:24.168166Z",
     "start_time": "2024-06-11T15:48:24.162509Z"
    }
   },
   "cell_type": "code",
   "source": [
    "for column in df_us_80.columns:\n",
    "    missing_titles = df_us_80[column].isna().sum()\n",
    "    print('There are {} missing {}'.format(missing_titles, column))"
   ],
   "id": "b56c5d1ad2bfe6e",
   "outputs": [
    {
     "name": "stdout",
     "output_type": "stream",
     "text": [
      "There are 0 missing release_year\n",
      "There are 0 missing title\n",
      "There are 0 missing origin_ethnicity\n",
      "There are 0 missing director\n",
      "There are 0 missing cast\n",
      "There are 0 missing genre\n",
      "There are 0 missing wiki_page\n",
      "There are 0 missing plot\n"
     ]
    }
   ],
   "execution_count": 351
  },
  {
   "metadata": {},
   "cell_type": "markdown",
   "source": "We already checked the missing values for df_us. There are no missing values in the filtered dataset.",
   "id": "88d78b2a4e86e74c"
  },
  {
   "metadata": {},
   "cell_type": "markdown",
   "source": "#### Empty Strings",
   "id": "cf76ff69b94b88ec"
  },
  {
   "metadata": {
    "ExecuteTime": {
     "end_time": "2024-06-11T15:48:24.385819Z",
     "start_time": "2024-06-11T15:48:24.371869Z"
    }
   },
   "cell_type": "code",
   "source": [
    "columns_without_release_year = df_us_80.columns[df_us_80.columns != 'release_year']\n",
    "for column in columns_without_release_year:\n",
    "    empty_strings = df_us_80[df_us_80[column].str.strip() == ''].shape[0]\n",
    "    print(\"After fixing empty strings there are {} movies with an empty {} column\".format(empty_strings, column))"
   ],
   "id": "d4092377ff68db9a",
   "outputs": [
    {
     "name": "stdout",
     "output_type": "stream",
     "text": [
      "After fixing empty strings there are 0 movies with an empty title column\n",
      "After fixing empty strings there are 0 movies with an empty origin_ethnicity column\n",
      "After fixing empty strings there are 0 movies with an empty director column\n",
      "After fixing empty strings there are 0 movies with an empty cast column\n",
      "After fixing empty strings there are 0 movies with an empty genre column\n",
      "After fixing empty strings there are 0 movies with an empty wiki_page column\n",
      "After fixing empty strings there are 0 movies with an empty plot column\n"
     ]
    }
   ],
   "execution_count": 352
  },
  {
   "metadata": {},
   "cell_type": "markdown",
   "source": "We already checked the empty strings for df_us. There are no empty strings in the filtered dataset.",
   "id": "484ba0cf9fb8012b"
  },
  {
   "metadata": {},
   "cell_type": "markdown",
   "source": "#### Duplicates",
   "id": "6269b02d4dbf7c8e"
  },
  {
   "metadata": {
    "ExecuteTime": {
     "end_time": "2024-06-11T15:48:24.655421Z",
     "start_time": "2024-06-11T15:48:24.651786Z"
    }
   },
   "cell_type": "code",
   "source": [
    "# check for duplicates in the title column\n",
    "duplicated_titles_us_80 = df_us_80[df_us_80['title'].duplicated(keep=False)]\n",
    "print(\"There are {} duplicates in the title column\".format(duplicated_titles_us_80.shape[0]))"
   ],
   "id": "8b649ca69ac6a1f4",
   "outputs": [
    {
     "name": "stdout",
     "output_type": "stream",
     "text": [
      "There are 303 duplicates in the title column\n"
     ]
    }
   ],
   "execution_count": 353
  },
  {
   "metadata": {},
   "cell_type": "markdown",
   "source": "There are still duplicates in the title column.",
   "id": "3c7ba2964c89ad4e"
  },
  {
   "metadata": {
    "ExecuteTime": {
     "end_time": "2024-06-11T15:48:24.769097Z",
     "start_time": "2024-06-11T15:48:24.766138Z"
    }
   },
   "cell_type": "code",
   "source": "\"The percentage of duplicates after filtering the dataset is: {}%\".format(round((duplicated_titles_us_80.shape[0] / df_us_80.shape[0]) * 100, 2))",
   "id": "f5461d8721aa0928",
   "outputs": [
    {
     "data": {
      "text/plain": [
       "'The percentage of duplicates after filtering the dataset is: 3.93%'"
      ]
     },
     "execution_count": 354,
     "metadata": {},
     "output_type": "execute_result"
    }
   ],
   "execution_count": 354
  },
  {
   "metadata": {},
   "cell_type": "markdown",
   "source": "#### Unknown values",
   "id": "d8d150f9e5dc41ce"
  },
  {
   "metadata": {
    "ExecuteTime": {
     "end_time": "2024-06-11T15:48:25.128679Z",
     "start_time": "2024-06-11T15:48:25.043030Z"
    }
   },
   "cell_type": "code",
   "source": [
    "for column in df_us_80.columns[df_us_80.columns != 'release_year']:\n",
    "    unknown_values_f = df_us_80[column].str.lower().str.contains('unknown').sum()\n",
    "    print(\"Column '{}' has {} ({}% of {}) unknown values.\".format(column, unknown_values_f, round((unknown_values_f / df_us_80.shape[0]) * 100, 2), df_us_80.shape[0]))"
   ],
   "id": "749364108f1879e8",
   "outputs": [
    {
     "name": "stdout",
     "output_type": "stream",
     "text": [
      "Column 'title' has 1 (0.01% of 7707) unknown values.\n",
      "Column 'origin_ethnicity' has 0 (0.0% of 7707) unknown values.\n",
      "Column 'director' has 125 (1.62% of 7707) unknown values.\n",
      "Column 'cast' has 160 (2.08% of 7707) unknown values.\n",
      "Column 'genre' has 104 (1.35% of 7707) unknown values.\n",
      "Column 'wiki_page' has 1 (0.01% of 7707) unknown values.\n",
      "Column 'plot' has 377 (4.89% of 7707) unknown values.\n"
     ]
    }
   ],
   "execution_count": 355
  },
  {
   "cell_type": "code",
   "id": "ef955f1d56befdd",
   "metadata": {
    "collapsed": false,
    "ExecuteTime": {
     "end_time": "2024-06-11T15:48:25.152684Z",
     "start_time": "2024-06-11T15:48:25.148369Z"
    }
   },
   "source": [
    "genre_defined_us = df_us_80.shape[0] - df_us_80[df_us_80['genre'].isin(['unknown'])].shape[0]\n",
    "print('Whereas the number of movies without defined genre is: {}'.format(\n",
    "df_us_80[df_us_80['genre'].isin(['unknown'])].shape[0]))\n",
    "print('That means we have {} movies with a given genre'.format(genre_defined_us))"
   ],
   "outputs": [
    {
     "name": "stdout",
     "output_type": "stream",
     "text": [
      "Whereas the number of movies without defined genre is: 104\n",
      "That means we have 7603 movies with a given genre\n"
     ]
    }
   ],
   "execution_count": 356
  },
  {
   "metadata": {},
   "cell_type": "markdown",
   "source": "#### Multiple values",
   "id": "d4d690d96abcc8a6"
  },
  {
   "metadata": {
    "ExecuteTime": {
     "end_time": "2024-06-11T15:48:25.508657Z",
     "start_time": "2024-06-11T15:48:25.435108Z"
    }
   },
   "cell_type": "code",
   "source": [
    "# fix multiple values\n",
    "list_with_separators =  [\" and \", \"&\", \"/\", \"\\r\\n\", \";\"]\n",
    "replace_values = \", \"\n",
    "columns = [\"director\", \"cast\", \"genre\"]\n",
    "for column in columns:\n",
    "    for separator in list_with_separators:\n",
    "        df_us_80[column] = df_us_80[column].str.replace(separator, replace_values, regex=False)\n",
    "        multiple_values = df_us_80[column].str.contains(replace_values).sum()\n",
    "        num = df_us_80[column].str.contains(separator).sum()\n",
    "        print(\"After fixing {} there are {} left.\".format(separator, num))"
   ],
   "id": "ba242de38a42fd4c",
   "outputs": [
    {
     "name": "stdout",
     "output_type": "stream",
     "text": [
      "After fixing  and  there are 0 left.\n",
      "After fixing & there are 0 left.\n",
      "After fixing / there are 0 left.\n",
      "After fixing \r\n",
      " there are 0 left.\n",
      "After fixing ; there are 0 left.\n",
      "After fixing  and  there are 0 left.\n",
      "After fixing & there are 0 left.\n",
      "After fixing / there are 0 left.\n",
      "After fixing \r\n",
      " there are 0 left.\n",
      "After fixing ; there are 0 left.\n",
      "After fixing  and  there are 0 left.\n",
      "After fixing & there are 0 left.\n",
      "After fixing / there are 0 left.\n",
      "After fixing \r\n",
      " there are 0 left.\n",
      "After fixing ; there are 0 left.\n"
     ]
    }
   ],
   "execution_count": 357
  },
  {
   "cell_type": "markdown",
   "id": "a540df58f7ea11a",
   "metadata": {
    "collapsed": false
   },
   "source": "## 4.3 Add column with character count of the 'Plots' field"
  },
  {
   "cell_type": "code",
   "id": "992b66d569116cee",
   "metadata": {
    "collapsed": false,
    "ExecuteTime": {
     "end_time": "2024-06-11T15:48:25.638139Z",
     "start_time": "2024-06-11T15:48:25.633521Z"
    }
   },
   "source": "df_us_80['text_length'] = df_us_80['plot'].str.len()",
   "outputs": [],
   "execution_count": 358
  },
  {
   "cell_type": "markdown",
   "id": "3559a02592b76a",
   "metadata": {
    "collapsed": false
   },
   "source": "The distribution of the field 'text_length' gives a hint about the need for chunking the document."
  },
  {
   "cell_type": "code",
   "id": "24a769161feda084",
   "metadata": {
    "collapsed": false,
    "ExecuteTime": {
     "end_time": "2024-06-11T15:48:25.774354Z",
     "start_time": "2024-06-11T15:48:25.769754Z"
    }
   },
   "source": "df_us_80['text_length'].describe()",
   "outputs": [
    {
     "data": {
      "text/plain": [
       "count     7707.000000\n",
       "mean      3165.266251\n",
       "std       1789.336462\n",
       "min         35.000000\n",
       "25%       1807.500000\n",
       "50%       3420.000000\n",
       "75%       4214.000000\n",
       "max      25123.000000\n",
       "Name: text_length, dtype: float64"
      ]
     },
     "execution_count": 359,
     "metadata": {},
     "output_type": "execute_result"
    }
   ],
   "execution_count": 359
  },
  {
   "cell_type": "code",
   "id": "5fc5e281a3d6c531",
   "metadata": {
    "collapsed": false,
    "ExecuteTime": {
     "end_time": "2024-06-11T15:48:26.023087Z",
     "start_time": "2024-06-11T15:48:26.020535Z"
    }
   },
   "source": [
    "mean_length = df_us_80['text_length'].mean()\n",
    "min_length = df_us_80['text_length'].min()\n",
    "max_length = df_us_80['text_length'].max()"
   ],
   "outputs": [],
   "execution_count": 360
  },
  {
   "cell_type": "code",
   "id": "4655afa324a5491e",
   "metadata": {
    "collapsed": false,
    "ExecuteTime": {
     "end_time": "2024-06-11T15:48:26.149122Z",
     "start_time": "2024-06-11T15:48:26.146571Z"
    }
   },
   "source": [
    "print(\"Mean text length: {}\".format(mean_length))\n",
    "print(\"Minimum text length: {}\".format(min_length))\n",
    "print(\"Maximum text length: {}\".format(max_length))"
   ],
   "outputs": [
    {
     "name": "stdout",
     "output_type": "stream",
     "text": [
      "Mean text length: 3165.266251459712\n",
      "Minimum text length: 35\n",
      "Maximum text length: 25123\n"
     ]
    }
   ],
   "execution_count": 361
  },
  {
   "metadata": {
    "ExecuteTime": {
     "end_time": "2024-06-11T15:48:26.487601Z",
     "start_time": "2024-06-11T15:48:26.366350Z"
    }
   },
   "cell_type": "code",
   "source": [
    "text_len = df_us_80['text_length']\n",
    "\n",
    "# return the lower and upper percentile\n",
    "lower_percentile = text_len.quantile(0.25)\n",
    "lower_edge_percentile = text_len.quantile(0)\n",
    "half_edge_percentile = text_len.quantile(.5)\n",
    "upper_percentile = text_len.quantile(0.75)\n",
    "upper_edge_percentile = text_len.quantile(1)\n",
    "\n",
    "# boxplot chart\n",
    "text_len = sns.boxplot(x=text_len, color=color_green)\n",
    "text_len.set_title('Text Length of Plots over all Movies from US\\nin the 1980s and the following years', fontsize=16, fontweight='bold', pad=24)\n",
    "text_len.set_xlabel('Number of Characters', fontsize=12, fontweight='bold', labelpad=10)\n",
    "\n",
    "margin_text = 400\n",
    "# Add vertical lines for percentiles\n",
    "text_len.axvline(lower_percentile, color='r', linestyle='--', linewidth=0.8)\n",
    "text_len.axvline(upper_percentile, color='r', linestyle='--',linewidth=0.8)\n",
    "text_len.axvline(upper_edge_percentile, color='r', linestyle='--',linewidth=0.8)\n",
    "\n",
    "# Annotate the percentiles\n",
    "text_len.text(lower_percentile, -.52, f'{lower_percentile:.0f}', color='r', ha='center')\n",
    "text_len.text(upper_percentile, -.52, f'{upper_percentile:.0f}', color='r', ha='center')\n",
    "text_len.text(mean_length, -.42, f'{mean_length:.0f}', color='black', ha='center')\n",
    "text_len.text(lower_percentile - margin_text, 0.6, f'Q 0.25', color='r', ha='center')\n",
    "text_len.text(upper_percentile + margin_text, 0.6, f'Q 0.75', color='r', ha='center')\n",
    "text_len.text(upper_edge_percentile, -.52, f'{upper_edge_percentile:.0f}', color='r', ha='center')\n",
    "\n",
    "plt.show()"
   ],
   "id": "1c5083c77b30dd57",
   "outputs": [
    {
     "data": {
      "text/plain": [
       "<Figure size 640x480 with 1 Axes>"
      ],
      "image/png": "[encoded data removed]"
     },
     "metadata": {},
     "output_type": "display_data"
    }
   ],
   "execution_count": 362
  },
  {
   "cell_type": "code",
   "id": "d65faf4a1e581c23",
   "metadata": {
    "collapsed": false,
    "ExecuteTime": {
     "end_time": "2024-06-11T15:48:26.493984Z",
     "start_time": "2024-06-11T15:48:26.488829Z"
    }
   },
   "source": [
    "# all rows over 25k \n",
    "filtered_df_us_80 = df_us_80[df_us_80['text_length'] > 25000]\n",
    "filtered_df_us_80"
   ],
   "outputs": [
    {
     "data": {
      "text/plain": [
       "       release_year  title origin_ethnicity     director  \\\n",
       "15941          2010  Stone         American  John Curran   \n",
       "\n",
       "                                                cast     genre  \\\n",
       "15941  Robert De Niro, Edward Norton, Milla Jovovich  thriller   \n",
       "\n",
       "                                             wiki_page  \\\n",
       "15941  https://en.wikipedia.org/wiki/Stone_(2010_film)   \n",
       "\n",
       "                                                    plot  text_length  \n",
       "15941  Young mother Madylyn Mabry puts her daughter t...        25123  "
      ],
      "text/html": [
       "<div>\n",
       "<style scoped>\n",
       "    .dataframe tbody tr th:only-of-type {\n",
       "        vertical-align: middle;\n",
       "    }\n",
       "\n",
       "    .dataframe tbody tr th {\n",
       "        vertical-align: top;\n",
       "    }\n",
       "\n",
       "    .dataframe thead th {\n",
       "        text-align: right;\n",
       "    }\n",
       "</style>\n",
       "<table border=\"1\" class=\"dataframe\">\n",
       "  <thead>\n",
       "    <tr style=\"text-align: right;\">\n",
       "      <th></th>\n",
       "      <th>release_year</th>\n",
       "      <th>title</th>\n",
       "      <th>origin_ethnicity</th>\n",
       "      <th>director</th>\n",
       "      <th>cast</th>\n",
       "      <th>genre</th>\n",
       "      <th>wiki_page</th>\n",
       "      <th>plot</th>\n",
       "      <th>text_length</th>\n",
       "    </tr>\n",
       "  </thead>\n",
       "  <tbody>\n",
       "    <tr>\n",
       "      <th>15941</th>\n",
       "      <td>2010</td>\n",
       "      <td>Stone</td>\n",
       "      <td>American</td>\n",
       "      <td>John Curran</td>\n",
       "      <td>Robert De Niro, Edward Norton, Milla Jovovich</td>\n",
       "      <td>thriller</td>\n",
       "      <td>https://en.wikipedia.org/wiki/Stone_(2010_film)</td>\n",
       "      <td>Young mother Madylyn Mabry puts her daughter t...</td>\n",
       "      <td>25123</td>\n",
       "    </tr>\n",
       "  </tbody>\n",
       "</table>\n",
       "</div>"
      ]
     },
     "execution_count": 363,
     "metadata": {},
     "output_type": "execute_result"
    }
   ],
   "execution_count": 363
  },
  {
   "cell_type": "code",
   "id": "73c8e4a0c4d827b8",
   "metadata": {
    "collapsed": false,
    "ExecuteTime": {
     "end_time": "2024-06-11T15:48:26.697647Z",
     "start_time": "2024-06-11T15:48:26.694432Z"
    }
   },
   "source": [
    "value = filtered_df_us_80[filtered_df_us_80['text_length'] > 25000]['plot'].iloc[0]\n",
    "print(value)"
   ],
   "outputs": [
    {
     "name": "stdout",
     "output_type": "stream",
     "text": [
      "Young mother Madylyn Mabry puts her daughter to bed while her husband Jack watches golf on television. A bee buzzes around the window as she stays with her girl. After the child is asleep, she goes downstairs and announces she's leaving, saying \"You keep my soul in a dungeon.\" He takes a moment to disconnect from the game, then runs upstairs to the bedroom and holds their daughter out the window, threatening to drop her if Madylyn leaves. \"Do you think I won't? Do you think I won't?\" he yells at her. She agrees to stay.\r\n",
      "Many years later, Jack Mabry(Robert DeNiro) and Madylyn (Frances Conroy) return home from church for a quiet afternoon. He watches TV and drinks in an identical pose to his younger self in the earlier scene, while she works on a puzzle. Late that night a call wakes them. Jack picks up the phone and hears a woman's voice. \"Betsy?\" he asks, obviously distressed. We find him at church the next day, speaking at his brother Bobby's funeral.\r\n",
      "Jack reports to work at a prison, where he's a parole officer. He listens to Christian radio in his car on the way in. Once there, we see him talk to different inmates but hear a persistent buzzing in the background as if to suggest that Jack has other things and pressures on his mind. He's called into the warden's office and asked to shut the door. The warden calls one of his reports \"an incompetent mess.\" before laughing and revealing he's joking. He then asks Jack to get Janice, his replacement, up to speed on his cases before he retires. Jack agrees, but requests that he keep all of his \"currents\" until he leaves, in order to see them through until their reviews. Janice offers condolences about Jack's brother. Jack has a new case in his office, named Gerald Creeson (Ed Norton) Jack reviews his file as if the man isn't there. He insists that he likes to be called Stone. Jack is hesitant to oblige, assuming it's a prison nickname. Stone asks Jack if he can help him get out early, pointing out that he acknowledged his guilt and isn't interested in talking about what he did when it's all in the file. Jack wants to talk about his crimes however, and Stone has an outburst assuming Jack isn't interested in helping. Stone dares him to give him the maximum and starts walking out. Jack then yells at him, letting him know that they talk about what he wants to talk about and demanding he \"sit the fuck down.\"\r\n",
      "Jack then explains, \"Look, this is the process, we talk. We're not friends, but let's pretend we're friends. Just relax. Just talk. That's all.Then maybe we both get what we want. OK?\" He then asks Stone about his wife, Lucetta. Stone describes her as a \"dime\" which he explains to Jack means \"a perfect ten.\" He also tells Jack that she's an alien. Jack assumes he means she's an illegal alien, but Stone says \"No. She's whiter than you. She's from another planet.\" Stone describes her sexuality graphically, telling Jack, \"She's crazy. She'll do anything.\" He warns Jack \"Look if we're gonna talk about Lucetta, you gotta watch out cause it's gonna give you some pictures in your head, gonna keep you up nights, man.\" When he notices that Jack doesn't look pleased, he apologizes for his mouth. Stone asks about Jack's wife. When Jack says he's been married 43 years, Stone remarks \" 43 years and you still get it on and everything?\" This offends Jack and Stone tries to explain, he's just curious about how he'll do when he's older. Jack explains that he doesn't discuss his wife that way. He tells Stone \"I don't consider this polite conversation.\" and reminds Stone that they're there to talk about him.\r\n",
      "Jack drives home listening to more radio, and buying a couple of bottles of booze on the way. He sits on the porch with Madylyn, both of them listening to a Christian radio program discussing predestination. Madylyn attempts to talk to him but he isn't even aware of it. She asks \"Where have you gone?\" Jack meets with Stone again and asks him to recount the arson incident. Stone tells him that \"Teach\" and his grandfather got into a fight which ended with Stone's grandparents dead, before Stone torched the house. Jack wants to talk more about it. Jack: Whose idea was it? Stone: I told you it was Teach! Like I said I wasn't even...I went outside the house. Jack:Yeah, but you didn't stop him, did you? Stone:Stop him what? Jack:From killing your grandparents. Stone: You ain't gonna do it man. You're not gonna...You don't give a fuck man. I was outside. Teach come out and I didn't even know what he done until he told me. Teach testified to that, man! That's why I didn't even catch the rap for manslaughter. I got accessory and arson. I've done eight out of ten to fifteen. What more do you want, from me? Jack stares at him blankly.\r\n",
      "We then find Lucetta (Milla Jovovich) at a preschool working with kids. She smiles, telling the class that today is a day for them each to do one nice thing for someone else and not tell anyone about it.\r\n",
      "Madylyn is hosting a card game for her friends. She gets a phone call from a woman looking for Jack, the sound of the call is distorted, but the caller hangs up when she says she'd Mrs. Mabry and offers to take a message.\r\n",
      "Stone calls Lucetta from prison and catches her watching the kids at recess. Lucetta tells him that \"she was short with me, like she didn't want to talk.\" Stone asks \"Why were you talking to her?\" He tells her \"I need you to do this for me right now. Don't let it slide.\" She says OK. We see Stone having another meeting with Jack who says \"I guess what I'm getting at, is do you believe what you did was wrong?\" Stone: What do you think, because I grew up west side, that I'm one of these socio...delinquent types, don't know the difference between right and wrong? Want me to tell you about my bad childhood? Jack: I don't know. Did you have one? Stone: Well, at the time, I thought a lot of shit was normal...definitely unhealthy, but on the same token, i didn't think I was a bad person to begin with. You want to know if I'm gonna light any more grandparents on fire? Jack: Are you? Stone: No. Stone tells him he deserves to be free, telling Jack \"I'm as clean as you.\" Jack says \"Maybe, maybe not.\" Stone: Seriously, let me ask you something, you know? Why do you gotta sit there, asking me these questions, like you never done nothin'. Why do you get to walk around free and I don't? Jack: I wasn't convicted of a crime. Stone: You never did anything bad? You never did anybody no wrong, had to be forgiven for nothing? Jack: I never broke the law. Jack shuts him out, staring blankly again while Stone asks him about the many things he could have done. Stone claims he's been reborn, but can't answer when Jack asks what \"reborn\" means to him.\r\n",
      "Lucetta stops at the prison for a visit with Stone. She likes his cornrows, and the two are cautioned against contact when she starts kissing him passionately. He asks for an update on her contacting Jack. She tells him she's left messages and he hasn't called her back. He instructs her \"You've got to get with him person to person.\" She tells him she didn't wear panties just for him, and he touches her but restrains himself before getting carried away, not wanting to break the rules. He says \"I can't get no ticket.You understand right? I'm too close.\" She appears disappointed but agrees. He tells her he's got to get out or he's likely to kill himself, which she tells him not to joke about. Stone becomes fascinated with another prisoner reading the Bible to his son. After the visitation is over, he gets every religious book he can from the library.Nothing seems to catch until he finds one on \"Zukangor\" This religion is a patchwork of many and instructs that enlightenment can be achieved by hearing the \"perfect pitch\" making yourself \"like a tuning fork.\"\r\n",
      "That night Lucetta leaves a message on Jack and Madylyn's answering machine, before calling up a guy for sex. She's waiting for Jack outside the prison the next day. He tells her it isn't appropriate to meet this way, acting as if she's there to see Stone and reminding her of proper channels to do that. She then offers him a bird's nest that the kids in class made, which he refuses but then reconsiders when she describes the kids making it. Jack asks Stone about it, but he says that Lucetta does whatever she wants. Stone runs the Zukangor faith past Jack, describing the tuning fork idea and their practice of chanting then listening.. Jack isn't into the idea, saying he's Episcopalian. Stone explains that the religion also uses reincarnation, stating you have to come back until you get it right. Jack asks him \"What about this life?\" and Stone tells him he's thought about that a lot.\r\n",
      "Jack and Madylyn go to church, but Jack stays behind to talk with the pastor, telling Madylyn to go home. He tells the pastor that faith seems to come easy for people he knows but not to him, he says \"sometimes the thoughts that I have, I think you should shoot me.\" Pastor: I don't think that's what God wants for you. Jack: What does he want? Unable to give a concrete answer the pastor quotes a verse saying \"Be still and know that I am God.\" which he paraphrase to Jack as meaning sometimes God speaks in mysterious ways.\r\n",
      "In the prison yard, Stone tries the chanting, but seems to find it too noisy. Lucetta calls Jack's house again, Madylyn picking up the phone first. When Jack asks who it is she says \"a friend of yours.\" He tells Lucetta she shouldn't call the house, making a point to call her Mrs. Creeson although she insists on Lucetta every time. She wants to know when they can meet. Jack: Look Mrs Creeson, I have business with your husband... Lucetta: Well that's why I'm calling. I mean, what, did you think I had another reason? Jack: Well, no, I didn't. Lucetta: Maybe we could go to lunch. You could bring Mrs. Mabry too. You know she's got such a sweet voice, what's her first name? Jack: Look, I admire that you love your husband and that you want to do what's right for him, but you're not helping him. I'm telling you that right now. Lucetta: [raspy voice] Oh Jack I do love my husband. I love him so much, and all I'm asking you, is for a chance to help you see him in a different light. i mean, how many men at that place you work at have somebody loving them like that? huh? Doesn't that mean something to you? A man in a position like yours? Jack: No. It does. She describes how she misses him in her bed, and Jack goes quiet, looking around self consciously. Madylyn is somewhere close by. We then see Lucetta visiting Stone. She tells him \"I got him. It's gonna happen.\" Stone looks dead tired and looks at her coldly. He complains that it's too loud all the time and he's having weird dreams. He talks about suicide again, and she assumes he's referring to a dream, and then asks him if he ate spicy food before bed.\r\n",
      "Jack meets Lucetta for lunch. He starts talking about his grandchild, and mentions that his daughter's getting divorced, explaining \"People are gonna do what they're gonna do.\" She notices him fidgeting with back pain. She mentions magnet therapy as a suggestion for his back, explaining that the magnets remove toxicity, from cell phones and everything in the environment. Lucetta has an egg which she tells him she has to eat because the kids painted it. She offers it to him, making a voice to indicate the egg talking, she says \"Eat me.\" He says \"Why not.\" and takes a bite saying \"I'm just eating the healthy part.\" She says \"Go on, just eat the whole thing.\" They end up at Lucetta's place where she asks him if he feels the magnets. Madylyn sits at home on the porch in the dark, smoking cigarettes. Jack has a few drinks and ends up sleeping with Lucetta.\r\n",
      "Stone is lying in bed in his cell and two guards come to get him asking what's wrong and escorting him to Medical. While he waits for someone to see him he witnesses another inmate being brutally shivved. Stone sees it occur through a barred door, close enough that he gets blood on him. He reaches out to the dying man through the bars, wide eyed, as if he's realized something. We hear a high pitch in the background, as he looks in the dead man's eyes.\r\n",
      "At Jack's house the next morning, Madylyn reads from a devotional book aloud to Jack, asking \"To what extent is my commitment to obey God based on do's and don'ts or out of true love for him? In what recent circumstance was I aware of God's leading?\" She asks Jack, \"Why don't you say the blessing?\" which he does, saying a standard prayer but adding \"Make us mindful of the needs of others.\" eliciting a look from Madylyn. She asks Jack if he wants an egg, and he quickly declines.\r\n",
      "Stone sits in the cafeteria, looking more peaceful, and seems able to block out the noisy room. Jack drives listening to the radio which says \"We are not sinners because we sin. We sin because we are sinners.\" He goes to a field to drive golf balls, but soon goes to see Lucetta again for sex, which she seems pretty open about, telling Jack he's a good man for \"helping them\" while they're in bed. Jack tells her sternly that nobody is to know about this, warning that whatever it is she wants will \"all go bad if anybody knows.\" She just says \"Of course silly.\"\r\n",
      "Stone is out in the prison yard staring at the sky, and we see that he isn't affected by the noise. He goes in to visit Lucetta and asks her \"Do you ever wonder about things they say go on forever?\" Lucetta: What? Stone: Things they say go on forever - like... what's that mean, you know? The sky, like, they say the sky goes on forever. But what is that really? That's - I mean, you can't see nothing you can't see, so... it's like a big bowl of blue above you. You can see clouds during the day or you can see stars at night maybe, but even with a telescope you can't see forever. So how do they know? Lucetta: Know what? Stone: What it is. Eternity - how do they know? Lucetta changes the subject saying \"So Jack, he said the board's gonna review the whole thing. Okay? And they're gonna take into consideration your age and, you know, your Mom, and all that and the fact that you were an addict back then. [noticing he doesn't appear to be listening] Stoney baby, look at me. I was trying to tell you about your parole! Stone: Yeah Lucetta: Well, you weren't listening. Stone: Oh yeah, I'm listening.I am. Lucetta: Ok. So Jack said... Stone: You call him Jack? She explains what Jack plans to do and tells him it's great but Jack is distant. HE says \"Sometimes i think the best thing is to just listen.\" prompting her to cry and tell him to \"stop playing.\"\r\n",
      "Jack is angry when he comes into work the next day. He meets with Stone who attempts to explain something about his experience with the inmate who was shivved. Jack doesn't seem to get any sense of what he's saying, reading in his notes that Stone had \"a profound spiritual epiphany.\" Stone says he's never heard that word before, and tells him they can drop it. Jack says \"Don't get me wrong. I'd like to believe in such things.\" Stone: Like what? Like me? You believe in me? Jack: Sure, I'd like to believe in you too. That's why we're all here, right? Stone attempts to describe it again, as a moment when \"all the static went away, and I could hear for real.\" He explains that he now sees that his life in prison isn't empty and pointless like he thought it was. He tells Jack, that the efforts he'd asked him for earlier aren't important to him anymore, saying \"You should do what you think is right. Okay? I am whatever you say I am in there. So write what you feel. Seriously.\" He explains that he wants to be out but is likely to have the same problems he's always had when he gets out.\r\n",
      "Jack stops by to see Lucetta again, and tells her what happened. She tells him it's probably \"some kind of play acting.\" and that he's always had different ideas about things. Jack tells her \"It was different.\" and asks her to \"be straight. Is this all just an act/ Just tell me what's going on.\" She tells him \"I don't do anything I don't want to do. I like you Jack. I would never fuck you if I didn't want to.\" He tells her he's not going to come by anymore but she tells him he will. She says that even after Stone gets out, they can still be friends too. Jack still tries to leave and she mentions that Stone is \"a good man at heart.\" He seems shacked and asks \"Do you really believe that.\" She says \"Yeah I do. no different than you and me.\" Jack asks if she goes to church ans Lucetta says \"Hell no. There's no such thing as God.\" Jack gets home and showers before going to bed.\r\n",
      "The next day, he tells Stone that he sent the report recommending early release. Stone seems antagonistic about it and surprised. He goes over the details of the night of the arson, describing seeing his grandparents dead when they were alive two minutes ago. He says that he heard a loud buzzing in his ears and knew that there needed to be a fire. He asks \"You ever seen a fire take control? It's something, It's alive. I watched it take them up and start to change them. And the only thought that came in my head was 'This is awesome.' Jack: Awesome? Stone: Yeah. It was truly awesome. And the thing is, I know I'm supposed to take responsibility for my actions. I know that I'm supposed to feel guilty about it, but I never did, and I never knew why. But, now I think i can understand that it was just part of what was supposed to happen in my life's journey. You know? Jack: That was your decision. He explains that they're all God's coworkers, without knowing it. Jack insists it has nothing to do with God and cuts him off. Jack: Enough of this shit. You know...You...Lucetta, she said that you were... Stone: Lucetta? Jack: Your wife she... Stone: You call her Lucetta? Don't... Jack: What? Stone: Don't listen to her. Jack: What do you mean? Stone: Don't listen to what she's telling you man. Jack: She believes in you. Stone: It's a game to her. It's a game. I told you in the beginning, she's an alien. She's like a freak. Jack: That's not a nice thing to say. Stone: No. Listen, I'm telling it to you straight. She's just working on you. Jack starts to get angry and tells Stone he's nuts that he has \"a beautiful wife that cares about you...\" but Stone asks \"beautiful? you think she's beautiful?\" leaving Jack speechless a moment.he recovers Jack: Okay, you're a con, I've known that from the start. I didn't believe you for one fucking second. Never did. Never did. So you've both been conning me? Ok. I know. I've been around the block a few times. Sick and fucking tired of it. Stone: What'd I say man? Jack rants about being conned and his frustrations, that \"no one changes for the better.\" Stone asks him \"Do you have anyone?\" which only angers him more. Stone then advises him to \"blow your life up. I'm pulling for you.\" Jack gets irate and starts yelling at the guards to come grab Stone. JAck drives home without the radio. Late that night, Lucetta leaves a message on the machine, saying she needs him to call as she's in the dark on everything. The next morning the phone rings while he and Madylyn are eating breakfast and she tells him to let the machine get it, but he doesn't getting up to get the call, to find it's their daughter. That night he sits with Madylyn on the porch. She's been reading Zukangor, and tells Jack he started out as a stone, and worked his way up to human, and each incarnation has been paying off debts. He realizes she's reading from a flyer which she tells him was junk mail and she says \"You know what I think? I think we get this one life. I do. You account for what you've done and if you don't you pay for it when you die. You don't think?\" Jack: Oh [beneath his breath] Shit. Madylyn: Shit. Shit. Son of a bitch. Fuck. Fuck. Jack: Ok. I get it. Madylyn continues swearing at him, when Lucetta pulls up in the dark, and approaches the porch. Jack gets up to persuade her to leave. He calls her Mrs. Creeson and attempts to act official until they get to the car and he says \"Get in the fucking car.\" She asks what's going on with her husband and angrily says she just needed a friend to talk to, but drives away. He acts outraged about her coming to their home for Madylyn's benefit.\r\n",
      "At work in the morning, Jack is asking the warden for Stone's report back, explaining he made an error. The warden isn't happy, as the hearing is in an hour. The warden tells him that it doesn't matter as Stone's fate is already determined by \"luck and quotas.\" Jack doesn't stay for the hearing. We see that he takes his gun when he leaves the prison. Jack is at home drinking with Madylyn, who is discussing their devotional book. She mentions that they'll be looking at the commandments next. Jack asks her \"Do you believe in all this?\" and she tells him to read the next lesson. \"What request is on the top of my prayer list today? Is it a selfish request or is it one that will bring God glory?\" Madylyn: I know what I want. How about you? You lost your place again? Is there something you want to say to me?\" Jack: [shakes his head] Madylyn: You don't? Jack: I can't even think of what you'd want me to say. Madylyn gets up from the table and leaves him there.\r\n",
      "Stone is informed that he'll be released.He stops in to see Jack while he's waiting. Stone asks if he wants to talk about anything, as he \"looks a little ragged.\" Jack reminds Stone that he can have him watched twenty four hours a day. Stone remarks \"Shit man, you don't believe in nothing do you?\" Jack: I believe you're one sick son of a bitch. Stone: I know you don't believe in me, but you don't believe in yourself. You don't believe in God. I don't think you feel that anything is true inside. Jack: I'll give you true. I'm glad you're out of my hair Gerald Creeson. Now you can be someone else's headache.Jack makes it clear he wants him out of the office. Lucetta shows up to pick him up and comes into the office. Stone asks if he can kiss her and Jack says that's fine. He tells her he's ready to go, but Stone turns back before leaving and says to Jack \"You know I want to thank you. Seriously. I appreciate everything that you've done for me.\" Jack nods uncomfortably and looks at Lucetta and says \"Good luck to you too Mrs. Creeson.\" She answers. \"Lucetta, Jack. We're all friends here, right?\" He says \"Take good care of him.\" She whispers \"I will. You take good care too old man. See you later Jack.\" As Jack is about to shut the door behind them, Stone stops and says \"I meant to say, Lucetta, she did tell me that you fucked her. I know that must be against some kind of rule around here. Jack: I knew what you two were doing. Stone: Oh, did you know what you were doing when you let my wife suck your cock? Jack: Good luck to you. Stone: See you out on the bricks. Jack: Good luck to you!\r\n",
      "Jack gets home and that night we see he's taking his gun out to the porch. He remembers Lucetta telling him she liked him as he tries to sleep. He thinks he hears noises downstairs and keeps his gun in hand to go look. He finds a fire downstairs, and goes to get Madylyn who is already awake. Watching the house burn Jack keeps taking the lord's name in vain, which she repeatedly tells him she won't stand for. He remarks that they were almost incinerated by \"some nutjob I let out.\" and she insist that \"nobody did this to us. It was an act of God.\" She makes up a story about frayed wiring in the kitchen wall and rags in the basement. \"Why would you say that?\" Jack asks and she say \"Because. it's as good a story as any.\"\r\n",
      "We see Madylyn with her daughter and granddaughter, looking through photo albums. Her daughter says \"I don't know how you stuck it out as long as you did. I'd think you'd have done this sooner.\" Madylyn says \"I almost did, once.\" although she doesn't answer when asked \"what happened?\" Jack is at the bar with his coworkers, for his retirement party. He starts giving Janice, his replacement, advice about all the cons she'll be dealing with. He starts hitting on her, but she insists they keep things professional, but he starts swearing at her and then at the warden who steps in. They offer to drive him home but he insists on leaving himself. He listens to the radio, which is about God having Satan on the ropes, but Satan is flailing his arms which causes damage. Jack sees Stone walking down the street and approaches him with gun in hand asking why he ruined his life. Stone says \"Hey man you ain't gonna do this.\" which causes a reaction similar to the beginning with Jack saying \"You think i won't? You think I won't?\" with a gun to Stone's face. With the gun still on him, Stone shakes his head and says \"No. No I don't.\" He looks at Jack before walking away. Jack goes into work to clean his office. We hear the radio station again, and we hear Stone, describing the sound which brings spiritual truth and the tuning fork idea. Stone packs a bag and starts walking down the road. We see Lucetta at a bar trying to get a guy's attention. Madylyn smokes a cigarette alone looking over a fence. She hears a bee buzzing, which also seems to be heard by Jack, in his old office, who looks up from packing.\n"
     ]
    }
   ],
   "execution_count": 364
  },
  {
   "cell_type": "code",
   "id": "8c2e5b61e4be81d3",
   "metadata": {
    "collapsed": false,
    "ExecuteTime": {
     "end_time": "2024-06-11T15:48:26.770373Z",
     "start_time": "2024-06-11T15:48:26.766498Z"
    }
   },
   "source": [
    "num = 4000\n",
    "num_rows = len(df_us_80)\n",
    "rows_len_under_x = len(df_us_80[df_us_80['text_length'] < num])\n",
    "print(round((rows_len_under_x / num_rows) * 100, 2),\n",
    "      \"% ({} of {}) with text length less than {} characters.\".format(rows_len_under_x, num_rows, num))"
   ],
   "outputs": [
    {
     "name": "stdout",
     "output_type": "stream",
     "text": [
      "67.45 % (5198 of 7707) with text length less than 4000 characters.\n"
     ]
    }
   ],
   "execution_count": 365
  },
  {
   "metadata": {},
   "cell_type": "markdown",
   "source": [
    "## 4.4 Summary\n",
    "Nearly 67% of the movies have a text length of less than 4000 characters. This is a good indicator that we have to chunk the data.\n",
    "The chunk size will be 1000 characters because the most movies have a text length of less than 4000 characters any we are not generating too many chunks for the most movies. "
   ],
   "id": "b16704679e0c8b8"
  },
  {
   "metadata": {
    "ExecuteTime": {
     "end_time": "2024-06-11T15:48:27.036708Z",
     "start_time": "2024-06-11T15:48:27.035109Z"
    }
   },
   "cell_type": "code",
   "source": "",
   "id": "eec8158da6c62fff",
   "outputs": [],
   "execution_count": 365
  }
 ],
 "metadata": {
  "kernelspec": {
   "display_name": "Python 3",
   "language": "python",
   "name": "python3"
  },
  "language_info": {
   "codemirror_mode": {
    "name": "ipython",
    "version": 2
   },
   "file_extension": ".py",
   "mimetype": "text/x-python",
   "name": "python",
   "nbconvert_exporter": "python",
   "pygments_lexer": "ipython2",
   "version": "2.7.6"
  }
 },
 "nbformat": 4,
 "nbformat_minor": 5
}
