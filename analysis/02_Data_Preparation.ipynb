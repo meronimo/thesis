{
 "cells": [
  {
   "cell_type": "markdown",
   "id": "84e7553e54e7d14b",
   "metadata": {
    "collapsed": false
   },
   "source": [
    "# 02 Data Preparation\n",
    "Export only 80s and onward US movies for further steps"
   ]
  },
  {
   "cell_type": "code",
   "id": "initial_id",
   "metadata": {
    "collapsed": true,
    "ExecuteTime": {
     "end_time": "2024-06-01T12:26:31.030937Z",
     "start_time": "2024-06-01T12:26:31.017869Z"
    }
   },
   "source": [
    "# import the required python packages\n",
    "import os\n",
    "\n",
    "import warnings\n",
    "\n",
    "import pandas as pd\n",
    "from dotenv import load_dotenv, find_dotenv\n",
    "\n",
    "# ignore warnings for better output in the notebook\n",
    "warnings.filterwarnings('ignore')\n",
    "\n",
    "# load the environment variables from the .env file\n",
    "_ = load_dotenv(find_dotenv())"
   ],
   "execution_count": 24,
   "outputs": []
  },
  {
   "metadata": {},
   "cell_type": "markdown",
   "source": "#### Import the dataset from the '/data' folder",
   "id": "7979d52b581d0282"
  },
  {
   "cell_type": "code",
   "id": "dcbceac2de8f3324",
   "metadata": {
    "collapsed": false,
    "ExecuteTime": {
     "end_time": "2024-06-01T12:26:31.862039Z",
     "start_time": "2024-06-01T12:26:31.079867Z"
    }
   },
   "source": [
    "load_input_file = os.getenv('INPUT_FILE')\n",
    "df = pd.read_csv(load_input_file, sep=',')"
   ],
   "execution_count": 25,
   "outputs": []
  },
  {
   "cell_type": "code",
   "id": "f161f429967c6c10",
   "metadata": {
    "collapsed": false,
    "ExecuteTime": {
     "end_time": "2024-06-01T12:26:31.866491Z",
     "start_time": "2024-06-01T12:26:31.863239Z"
    }
   },
   "source": [
    "# fix column names\n",
    "df.columns = df.columns.str.replace(' ', '_').str.replace('/', '_').str.lower()\n",
    "for col in df.columns:\n",
    "    print(col)"
   ],
   "execution_count": 26,
   "outputs": []
  },
  {
   "metadata": {},
   "cell_type": "markdown",
   "source": [
    "## Filter the dataset\n",
    "1980s and onward US movies"
   ],
   "id": "779049fca54c2de5"
  },
  {
   "metadata": {
    "ExecuteTime": {
     "end_time": "2024-06-01T12:26:31.880837Z",
     "start_time": "2024-06-01T12:26:31.867227Z"
    }
   },
   "cell_type": "code",
   "source": [
    "df = df[df['release_year'] >= 1980]\n",
    "df = df[df['origin_ethnicity'] == 'American']"
   ],
   "id": "c0febedf9d32362f",
   "execution_count": 27,
   "outputs": []
  },
  {
   "metadata": {
    "ExecuteTime": {
     "end_time": "2024-06-01T12:26:31.884779Z",
     "start_time": "2024-06-01T12:26:31.882492Z"
    }
   },
   "cell_type": "code",
   "source": [
    "# get only us\n",
    "print(\"Number of US movies from 80s and onward: \", df.shape[0])"
   ],
   "id": "f950aef4e8cb9c7f",
   "execution_count": 28,
   "outputs": []
  },
  {
   "cell_type": "code",
   "id": "da5423089fcd9da6",
   "metadata": {
    "collapsed": false,
    "ExecuteTime": {
     "end_time": "2024-06-01T12:26:31.887778Z",
     "start_time": "2024-06-01T12:26:31.885574Z"
    }
   },
   "source": "columns_without_release_year = df.columns[df.columns != 'release_year']",
   "execution_count": 29,
   "outputs": []
  },
  {
   "metadata": {},
   "cell_type": "markdown",
   "source": "## Data Cleaning",
   "id": "6c40f64cc2f67959"
  },
  {
   "metadata": {},
   "cell_type": "markdown",
   "source": "### Fix missing values",
   "id": "6dd1aa208f0c6bb2"
  },
  {
   "metadata": {
    "ExecuteTime": {
     "end_time": "2024-06-01T12:26:31.892807Z",
     "start_time": "2024-06-01T12:26:31.888580Z"
    }
   },
   "cell_type": "code",
   "source": [
    "# fix missing values like NaN for columns\n",
    "missing_values_list = df.columns[df.isna().any()].tolist()"
   ],
   "id": "5dba665f5adea290",
   "execution_count": 30,
   "outputs": []
  },
  {
   "metadata": {
    "ExecuteTime": {
     "end_time": "2024-06-01T12:26:31.897559Z",
     "start_time": "2024-06-01T12:26:31.893718Z"
    }
   },
   "cell_type": "code",
   "source": [
    "for column in missing_values_list:\n",
    "    # fix missing values like NaN for columns\n",
    "    df[column] = df[column].fillna('Unknown')\n",
    "    missing_values = df[column].isna().sum()\n",
    "    print(\"After fixing missing values there are {} missing values in the {} column\".format(missing_values, column))"
   ],
   "id": "2ea0c49b19eaaae4",
   "execution_count": 31,
   "outputs": []
  },
  {
   "metadata": {
    "ExecuteTime": {
     "end_time": "2024-06-01T12:26:31.903391Z",
     "start_time": "2024-06-01T12:26:31.898393Z"
    }
   },
   "cell_type": "code",
   "source": "df.columns[df.isna().any()].tolist()",
   "id": "6702cb74b1fa9ef1",
   "execution_count": 32,
   "outputs": []
  },
  {
   "metadata": {},
   "cell_type": "markdown",
   "source": "All missing values are fixed",
   "id": "3697541025619ec2"
  },
  {
   "metadata": {},
   "cell_type": "markdown",
   "source": "### Fix empty strings",
   "id": "b89e633a55d615d7"
  },
  {
   "metadata": {
    "ExecuteTime": {
     "end_time": "2024-06-01T12:26:31.930005Z",
     "start_time": "2024-06-01T12:26:31.904313Z"
    }
   },
   "cell_type": "code",
   "source": [
    "for column in columns_without_release_year:\n",
    "    df[column] = df[column].apply(lambda x: \"Unknown\" if isinstance(x, str) and len(x.strip()) == 0 else x)\n",
    "    empty_strings = df[df[column].str.strip() == ''].shape[0]\n",
    "    print(\"After fixing empty strings there are {} movies with an empty {} column\".format(empty_strings, column))"
   ],
   "id": "85b06eb08771764b",
   "execution_count": 33,
   "outputs": []
  },
  {
   "metadata": {},
   "cell_type": "markdown",
   "source": "### Fix multiple values",
   "id": "b270f743b6d0ef38"
  },
  {
   "metadata": {
    "ExecuteTime": {
     "end_time": "2024-06-01T12:26:31.999372Z",
     "start_time": "2024-06-01T12:26:31.936986Z"
    }
   },
   "cell_type": "code",
   "source": [
    "# fix multiple values\n",
    "list_with_separators = [\" and \", \"&\", \"/\", \"\\r\\n\", \";\"]\n",
    "replace_values = \", \"\n",
    "columns = [\"director\", \"cast\", \"genre\"]\n",
    "for column in columns:\n",
    "    for separator in list_with_separators:\n",
    "        df[column] = df[column].str.replace(separator, replace_values, regex=False)\n",
    "        multiple_values = df[column].str.contains(replace_values).sum()\n",
    "        num = df[column].str.contains(separator).sum()\n",
    "        print(\"After fixing {} there are {} left.\".format(separator, num))"
   ],
   "id": "8d08a0fefd21b914",
   "execution_count": 34,
   "outputs": []
  },
  {
   "metadata": {},
   "cell_type": "markdown",
   "source": "### Fix special characters",
   "id": "c74bb083c3fd0726"
  },
  {
   "cell_type": "code",
   "id": "8bebe5098de5acc2",
   "metadata": {
    "collapsed": false,
    "ExecuteTime": {
     "end_time": "2024-06-01T12:26:32.036293Z",
     "start_time": "2024-06-01T12:26:32.000513Z"
    }
   },
   "source": [
    "df['plot'] = df['plot'].replace(to_replace=r'\\n', value='\\\\n', regex=True)"
   ],
   "execution_count": 35,
   "outputs": []
  },
  {
   "metadata": {},
   "cell_type": "markdown",
   "source": "### Add Plot Length",
   "id": "cf3a274468350be5"
  },
  {
   "metadata": {
    "ExecuteTime": {
     "end_time": "2024-06-01T12:26:32.042128Z",
     "start_time": "2024-06-01T12:26:32.037142Z"
    }
   },
   "cell_type": "code",
   "source": "df['plot_length'] = df['plot'].apply(lambda x: len(x))",
   "id": "1a2e1f60c44921b7",
   "execution_count": 36,
   "outputs": []
  },
  {
   "metadata": {},
   "cell_type": "markdown",
   "source": "## Display the first 20 rows of the cleaned dataset",
   "id": "5edbdff62cbd7c59"
  },
  {
   "metadata": {
    "ExecuteTime": {
     "end_time": "2024-06-01T12:26:32.051046Z",
     "start_time": "2024-06-01T12:26:32.043229Z"
    }
   },
   "cell_type": "code",
   "source": "df.head(100)",
   "id": "fa3a132ecac6a0ab",
   "execution_count": 37,
   "outputs": []
  },
  {
   "metadata": {
    "ExecuteTime": {
     "end_time": "2024-06-01T12:26:32.061391Z",
     "start_time": "2024-06-01T12:26:32.052558Z"
    }
   },
   "cell_type": "code",
   "source": [
    "# display 1000 random rows\n",
    "df.sample(1000)"
   ],
   "id": "1ce81816a3e106b2",
   "execution_count": 38,
   "outputs": []
  },
  {
   "cell_type": "markdown",
   "id": "4a8db9c8346e7460",
   "metadata": {
    "collapsed": false
   },
   "source": [
    "# EXPORT DATA\n",
    "Write dataframes to csv files"
   ]
  },
  {
   "metadata": {
    "ExecuteTime": {
     "end_time": "2024-06-01T12:26:32.127650Z",
     "start_time": "2024-06-01T12:26:32.062211Z"
    }
   },
   "cell_type": "code",
   "source": [
    "# export all for live demo\n",
    "write_output_file = os.getenv('OUTPUT_FILE')\n",
    "df.to_json(write_output_file, orient='records', lines=False)"
   ],
   "id": "a32e3eb04308f2a1",
   "execution_count": 39,
   "outputs": []
  },
  {
   "metadata": {
    "ExecuteTime": {
     "end_time": "2024-06-01T12:26:32.256726Z",
     "start_time": "2024-06-01T12:26:32.129293Z"
    }
   },
   "cell_type": "code",
   "source": [
    "# export the 1000 random rows to a json file\n",
    "df_all = pd.read_json(write_output_file)\n",
    "df_thousand = df_all.sample(1000)\n",
    "df_thousand.to_json(\n",
    "    write_output_file.replace('.json', '_1000_random.json'),\n",
    "    orient='records',\n",
    "    lines=False\n",
    ")"
   ],
   "id": "a0ca3bd45887ff33",
   "execution_count": 40,
   "outputs": []
  },
  {
   "metadata": {
    "ExecuteTime": {
     "end_time": "2024-06-01T12:26:32.264334Z",
     "start_time": "2024-06-01T12:26:32.258047Z"
    }
   },
   "cell_type": "code",
   "source": [
    "# load the df with 1000 examples to extract 200 random examples\n",
    "df_two_hundred = df_thousand.sample(200)\n",
    "df_two_hundred.to_json(\n",
    "    write_output_file.replace('.json', '_200_random.json'),\n",
    "    orient='records',\n",
    "    lines=False\n",
    ")"
   ],
   "id": "30849ab5442a2c6f",
   "execution_count": 41,
   "outputs": []
  },
  {
   "metadata": {
    "ExecuteTime": {
     "end_time": "2024-06-01T12:26:32.270099Z",
     "start_time": "2024-06-01T12:26:32.265325Z"
    }
   },
   "cell_type": "code",
   "source": [
    "# load the df with 200 examples to extract 100 random examples\n",
    "df_one_hundred = df_two_hundred.sample(100)\n",
    "df_one_hundred.to_json(\n",
    "    write_output_file.replace('.json', '_100_random.json'),\n",
    "    orient='records',\n",
    "    lines=False\n",
    ")"
   ],
   "id": "3b071929bf22788e",
   "execution_count": 42,
   "outputs": []
  },
  {
   "metadata": {
    "ExecuteTime": {
     "end_time": "2024-06-01T12:26:32.277991Z",
     "start_time": "2024-06-01T12:26:32.271030Z"
    }
   },
   "cell_type": "code",
   "source": [
    "# load the df with 100 examples to extract 10 random examples\n",
    "df_ten = df_one_hundred.sample(10)\n",
    "df_ten.to_json(\n",
    "    write_output_file.replace('.json', '_10_random.json'),\n",
    "    orient='records',\n",
    "    lines=False\n",
    ")"
   ],
   "id": "600655dff8ab6815",
   "execution_count": 43,
   "outputs": []
  },
  {
   "metadata": {
    "ExecuteTime": {
     "end_time": "2024-06-01T12:26:32.283278Z",
     "start_time": "2024-06-01T12:26:32.279517Z"
    }
   },
   "cell_type": "code",
   "source": [
    "# load the df with 10 examples to extract 2 random examples\n",
    "df_two = df_ten.sample(2)\n",
    "df_two.to_json(\n",
    "    write_output_file.replace('.json', '_2_random.json'),\n",
    "    orient='records',\n",
    "    lines=False\n",
    ")"
   ],
   "id": "5e5b3b79d0293af5",
   "execution_count": 44,
   "outputs": []
  },
  {
   "cell_type": "code",
   "id": "ca527ffa0fd93018",
   "metadata": {
    "collapsed": false,
    "ExecuteTime": {
     "end_time": "2024-06-01T12:26:32.288111Z",
     "start_time": "2024-06-01T12:26:32.284538Z"
    }
   },
   "source": [
    "# load the df with 2 examples to extract 1 random example\n",
    "df_one = df_two.sample(1)\n",
    "df_one.to_json(\n",
    "    write_output_file.replace('.json', '_1_random.json'),\n",
    "    orient='records',\n",
    "    lines=False\n",
    ")"
   ],
   "execution_count": 45,
   "outputs": []
  }
 ],
 "metadata": {
  "kernelspec": {
   "display_name": "Python 3",
   "language": "python",
   "name": "python3"
  },
  "language_info": {
   "codemirror_mode": {
    "name": "ipython",
    "version": 2
   },
   "file_extension": ".py",
   "mimetype": "text/x-python",
   "name": "python",
   "nbconvert_exporter": "python",
   "pygments_lexer": "ipython2",
   "version": "2.7.6"
  }
 },
 "nbformat": 4,
 "nbformat_minor": 5
}
