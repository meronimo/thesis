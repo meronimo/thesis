{
 "cells": [
  {
   "metadata": {},
   "cell_type": "markdown",
   "source": [
    "# Generate Questions\n",
    "For later Evaluation steps we need some questions in regard to the given context (movie). For each Movie we want to generate Facts so that later any of the model that will be evaluated a measurement can be made."
   ],
   "id": "bcae65004ad312cd"
  },
  {
   "metadata": {
    "ExecuteTime": {
     "end_time": "2024-06-05T06:47:24.670071Z",
     "start_time": "2024-06-05T06:47:21.012456Z"
    }
   },
   "cell_type": "code",
   "source": [
    "import logging\n",
    "import nest_asyncio\n",
    "from llama_index.core import PromptTemplate\n",
    "from llama_index.llms.openai import OpenAI\n",
    "from llama_index.core.llama_dataset.generator import RagDatasetGenerator\n",
    "from utils.config import ROOT_DIR, DEBUG, OPENAI_API_KEY\n",
    "from utils.evaluation import load_documents, load_object, store_object"
   ],
   "id": "7a768f0e49d5eaad",
   "execution_count": 1,
   "outputs": []
  },
  {
   "metadata": {
    "ExecuteTime": {
     "end_time": "2024-06-05T06:47:24.673632Z",
     "start_time": "2024-06-05T06:47:24.671152Z"
    }
   },
   "cell_type": "code",
   "source": [
    "# initialize logging for better debugging\n",
    "logging.basicConfig(level=logging.DEBUG, format='%(asctime)s - %(levelname)s - %(message)s')\n",
    "logger = logging.getLogger(__name__)"
   ],
   "id": "35d0939dc2a62c77",
   "execution_count": 2,
   "outputs": []
  },
  {
   "metadata": {
    "ExecuteTime": {
     "end_time": "2024-06-05T06:47:24.676101Z",
     "start_time": "2024-06-05T06:47:24.674404Z"
    }
   },
   "cell_type": "code",
   "source": "nest_asyncio.apply()",
   "id": "191284c44aff8a4e",
   "execution_count": 3,
   "outputs": []
  },
  {
   "metadata": {
    "ExecuteTime": {
     "end_time": "2024-06-05T06:47:24.679464Z",
     "start_time": "2024-06-05T06:47:24.677561Z"
    }
   },
   "cell_type": "code",
   "source": "dataset = \"100_random\"",
   "id": "271cf223bd8cb55",
   "execution_count": 4,
   "outputs": []
  },
  {
   "metadata": {
    "ExecuteTime": {
     "end_time": "2024-06-05T06:47:24.685747Z",
     "start_time": "2024-06-05T06:47:24.680230Z"
    }
   },
   "cell_type": "code",
   "source": "documents = load_documents(f\"{ROOT_DIR}/data/wiki_movie_plots_{dataset}.json\")",
   "id": "23407c208e2df58b",
   "execution_count": 5,
   "outputs": []
  },
  {
   "metadata": {
    "ExecuteTime": {
     "end_time": "2024-06-05T06:47:24.688613Z",
     "start_time": "2024-06-05T06:47:24.686559Z"
    }
   },
   "cell_type": "code",
   "source": "model_name = \"gpt-3.5-turbo\"",
   "id": "cbf90ead2dfdea1b",
   "execution_count": 6,
   "outputs": []
  },
  {
   "metadata": {},
   "cell_type": "markdown",
   "source": "Generate Questions to the given context for 100 movies. For each of the 100 Movies 3 Questions and Facts (ground_truth) will be generated. We need an independent model outside the local ones. Therefore, we take are using OpenAI's GPT-3.5-turbo model.",
   "id": "9c7b90f5eb6d822c"
  },
  {
   "metadata": {
    "ExecuteTime": {
     "end_time": "2024-06-05T07:08:30.734423Z",
     "start_time": "2024-06-05T07:08:30.045536Z"
    }
   },
   "cell_type": "code",
   "source": [
    "data_generator = RagDatasetGenerator.from_documents(\n",
    "    documents=documents,\n",
    "    llm=OpenAI(\n",
    "        model=model_name,\n",
    "        api_key=OPENAI_API_KEY,\n",
    "        temperature=0,\n",
    "    ),\n",
    "    transformations=[],\n",
    "    text_question_template=PromptTemplate(\n",
    "        template=(\n",
    "            \"Generate 3 questions and 3 Answers in regards to the given context. The context is below\"\n",
    "            \"-----------\"\n",
    "            \"{context_str}\"\n",
    "            \"-----------\"\n",
    "            \"\\n No extra text. Only return the 3 questions and 3 answers below. Please elaborate on the answer in a single, context-focused sentence.\"\n",
    "            \"\\n\\n\"\n",
    "            \"\\nQ1: \"\n",
    "            \"\\nA1: \"\n",
    "            \"\\nQ2: \"\n",
    "            \"\\nA2: \"\n",
    "            \"\\nQ3: \"\n",
    "            \"\\nA3: \"\n",
    "        )\n",
    "    ),\n",
    "    num_questions_per_chunk=1,\n",
    "    show_progress=DEBUG,\n",
    "    workers=1\n",
    ")"
   ],
   "id": "cfc681cf2b2bb8bb",
   "execution_count": 25,
   "outputs": []
  },
  {
   "metadata": {
    "ExecuteTime": {
     "end_time": "2024-06-05T07:14:19.715884Z",
     "start_time": "2024-06-05T07:08:33.555550Z"
    }
   },
   "cell_type": "code",
   "source": "eval_questions = data_generator.generate_questions_from_nodes()",
   "id": "3b3962d8580028ad",
   "execution_count": 26,
   "outputs": []
  },
  {
   "metadata": {},
   "cell_type": "markdown",
   "source": "Save the generated Questions and Facts for later evaluation.",
   "id": "56e6af5047806a71"
  },
  {
   "metadata": {
    "ExecuteTime": {
     "end_time": "2024-06-05T07:14:26.363554Z",
     "start_time": "2024-06-05T07:14:26.360526Z"
    }
   },
   "cell_type": "code",
   "source": [
    "filename = f\"llm_qna_to_context_{model_name}_{dataset}.pkl\"\n",
    "folder = \"evaluation/data/\""
   ],
   "id": "a9bc6ca81c81ea84",
   "execution_count": 27,
   "outputs": []
  },
  {
   "metadata": {
    "ExecuteTime": {
     "end_time": "2024-06-05T07:14:27.587555Z",
     "start_time": "2024-06-05T07:14:27.576769Z"
    }
   },
   "cell_type": "code",
   "source": "store_object(obj=eval_questions, folder=folder, filename=filename)",
   "id": "7d72e4a2d5f65085",
   "execution_count": 28,
   "outputs": []
  },
  {
   "metadata": {
    "ExecuteTime": {
     "end_time": "2024-06-05T07:14:28.764120Z",
     "start_time": "2024-06-05T07:14:28.748747Z"
    }
   },
   "cell_type": "code",
   "source": "load_object(folder=folder, filename=filename).to_pandas()",
   "id": "959a574cc2629fe8",
   "execution_count": 29,
   "outputs": []
  }
 ],
 "metadata": {
  "kernelspec": {
   "display_name": "Python 3",
   "language": "python",
   "name": "python3"
  },
  "language_info": {
   "codemirror_mode": {
    "name": "ipython",
    "version": 2
   },
   "file_extension": ".py",
   "mimetype": "text/x-python",
   "name": "python",
   "nbconvert_exporter": "python",
   "pygments_lexer": "ipython2",
   "version": "2.7.6"
  }
 },
 "nbformat": 4,
 "nbformat_minor": 5
}
