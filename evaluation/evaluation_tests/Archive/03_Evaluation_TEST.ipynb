{
 "cells": [
  {
   "metadata": {},
   "cell_type": "markdown",
   "source": "# Evaluation - 1024/100",
   "id": "2bfcccf46b1b9b89"
  },
  {
   "metadata": {
    "ExecuteTime": {
     "end_time": "2024-06-20T20:34:45.503165Z",
     "start_time": "2024-06-20T20:34:42.900489Z"
    }
   },
   "cell_type": "code",
   "source": [
    "import warnings\n",
    "\n",
    "import matplotlib.pyplot as plt\n",
    "import pandas as pd\n",
    "import seaborn as sns\n",
    "\n",
    "from utils.evaluation import (\n",
    "    get_all_test_data,\n",
    "    get_table_column_names,\n",
    "    load_evaluation_dataset\n",
    ")"
   ],
   "id": "ed48fb2fff10c5a2",
   "outputs": [
    {
     "name": "stdout",
     "output_type": "stream",
     "text": [
      "Configuration loaded in: 0.0 seconds\n",
      "Debugging is enabled: True\n",
      "Device: mps is available\n",
      "VectorStoreIndex: wiki_movie_plots\n",
      "----------------------------------------------------------------------------------------------------\n"
     ]
    }
   ],
   "execution_count": 1
  },
  {
   "metadata": {
    "ExecuteTime": {
     "end_time": "2024-06-20T20:34:46.292460Z",
     "start_time": "2024-06-20T20:34:46.290Z"
    }
   },
   "cell_type": "code",
   "source": [
    "warnings.filterwarnings('ignore', category=FutureWarning)\n",
    "warnings.filterwarnings('ignore', category=UserWarning)"
   ],
   "id": "84f3985ed1fed35d",
   "outputs": [],
   "execution_count": 2
  },
  {
   "metadata": {
    "ExecuteTime": {
     "end_time": "2024-06-20T20:34:46.851781Z",
     "start_time": "2024-06-20T20:34:46.849840Z"
    }
   },
   "cell_type": "code",
   "source": "sns.set_palette(\"pastel\")",
   "id": "560f1e5d482c2779",
   "outputs": [],
   "execution_count": 3
  },
  {
   "metadata": {},
   "cell_type": "markdown",
   "source": "### Set all the parameters",
   "id": "a9fa381b05dab69e"
  },
  {
   "metadata": {
    "ExecuteTime": {
     "end_time": "2024-06-20T20:34:47.681121Z",
     "start_time": "2024-06-20T20:34:47.679139Z"
    }
   },
   "cell_type": "code",
   "source": "colors = ['#93A267', '#49724B', '#abbc99']",
   "id": "63b528d6b4bbbd76",
   "outputs": [],
   "execution_count": 4
  },
  {
   "metadata": {
    "ExecuteTime": {
     "end_time": "2024-06-20T20:34:48.135699Z",
     "start_time": "2024-06-20T20:34:48.133737Z"
    }
   },
   "cell_type": "code",
   "source": [
    "llms = [\"gemma_instruct\", \"llama3_instruct\", \"mistral_instruct\"]\n",
    "collection_name = \"1024/100\""
   ],
   "id": "13b494348c00ce41",
   "outputs": [],
   "execution_count": 5
  },
  {
   "metadata": {},
   "cell_type": "markdown",
   "source": "**Get all the data from the evaluation table**",
   "id": "59612c86fd2cbc53"
  },
  {
   "cell_type": "code",
   "id": "initial_id",
   "metadata": {
    "collapsed": true,
    "ExecuteTime": {
     "end_time": "2024-06-20T20:34:49.771725Z",
     "start_time": "2024-06-20T20:34:49.548709Z"
    }
   },
   "source": [
    "all_records_a = get_all_test_data(llm=False, collection_name=\"wiki_movie_plots_1024_100_mxbai\", chat_mode='CONTEXT')\n",
    "all_records_b = get_all_test_data(llm=False, collection_name=\"wiki_movie_plots_2048_200_mxbai\", chat_mode='CONTEXT')"
   ],
   "outputs": [],
   "execution_count": 6
  },
  {
   "metadata": {
    "ExecuteTime": {
     "end_time": "2024-06-20T20:34:50.530176Z",
     "start_time": "2024-06-20T20:34:50.527310Z"
    }
   },
   "cell_type": "code",
   "source": [
    "number_of_records = len(all_records_a)\n",
    "print(f\"Number of records: {number_of_records}\")"
   ],
   "id": "8a48a058da0d3a9e",
   "outputs": [
    {
     "name": "stdout",
     "output_type": "stream",
     "text": [
      "Number of records: 945\n"
     ]
    }
   ],
   "execution_count": 7
  },
  {
   "metadata": {},
   "cell_type": "markdown",
   "source": "**Get the column names of the evaluation table as list**",
   "id": "761ae01dc0f0b7a8"
  },
  {
   "metadata": {
    "ExecuteTime": {
     "end_time": "2024-06-20T20:34:52.159882Z",
     "start_time": "2024-06-20T20:34:52.157439Z"
    }
   },
   "cell_type": "code",
   "source": "column_names = get_table_column_names(table_name=\"evaluation\")",
   "id": "a5d4269d9703e8da",
   "outputs": [],
   "execution_count": 8
  },
  {
   "metadata": {
    "ExecuteTime": {
     "end_time": "2024-06-20T20:34:52.646053Z",
     "start_time": "2024-06-20T20:34:52.641925Z"
    }
   },
   "cell_type": "code",
   "source": "column_names",
   "id": "64315169b72207a6",
   "outputs": [
    {
     "data": {
      "text/plain": [
       "['id',\n",
       " 'llm_model',\n",
       " 'embed_model',\n",
       " 'collection_name',\n",
       " 'question_id',\n",
       " 'question',\n",
       " 'context',\n",
       " 'reference_answer',\n",
       " 'response',\n",
       " 'answer_feedback',\n",
       " 'context_relevancy_score',\n",
       " 'context_relevancy_feedback',\n",
       " 'correctness_score',\n",
       " 'correctness_feedback',\n",
       " 'faithfulness_score',\n",
       " 'relevancy_score',\n",
       " 'relevancy_feedback',\n",
       " 'model_score',\n",
       " 'model_feedback',\n",
       " 'chat_mode']"
      ]
     },
     "execution_count": 9,
     "metadata": {},
     "output_type": "execute_result"
    }
   ],
   "execution_count": 9
  },
  {
   "metadata": {},
   "cell_type": "markdown",
   "source": "extract **data** without the index column 'id'",
   "id": "d3a1ba4912ce1304"
  },
  {
   "metadata": {
    "ExecuteTime": {
     "end_time": "2024-06-20T20:34:54.451657Z",
     "start_time": "2024-06-20T20:34:54.445615Z"
    }
   },
   "cell_type": "code",
   "source": [
    "# data without id\n",
    "data_without_id_a = [t[1:] for t in all_records_a]\n",
    "data_without_id_b = [t[1:] for t in all_records_b]"
   ],
   "id": "ad6dda9774c89534",
   "outputs": [],
   "execution_count": 10
  },
  {
   "metadata": {
    "ExecuteTime": {
     "end_time": "2024-06-20T20:34:55.181956Z",
     "start_time": "2024-06-20T20:34:55.179800Z"
    }
   },
   "cell_type": "code",
   "source": [
    "# index\n",
    "ids_only_a = [t[0] for t in all_records_a]\n",
    "ids_only_b = [t[0] for t in all_records_b]"
   ],
   "id": "3b8089bd5e64a5f6",
   "outputs": [],
   "execution_count": 11
  },
  {
   "metadata": {},
   "cell_type": "markdown",
   "source": "### Create a DataFrame",
   "id": "42146cfd40a17234"
  },
  {
   "metadata": {
    "ExecuteTime": {
     "end_time": "2024-06-20T20:35:09.754081Z",
     "start_time": "2024-06-20T20:35:09.740966Z"
    }
   },
   "cell_type": "code",
   "source": [
    "df_a = pd.DataFrame(data=data_without_id_a, index=ids_only_b, columns=column_names[1:])\n",
    "df_b = pd.DataFrame(data=data_without_id_b, index=ids_only_b, columns=column_names[1:])"
   ],
   "id": "5f23d3448ea8d8a0",
   "outputs": [],
   "execution_count": 15
  },
  {
   "metadata": {},
   "cell_type": "markdown",
   "source": "display the first 5 rows",
   "id": "7f4007398c3ec35c"
  },
  {
   "metadata": {
    "ExecuteTime": {
     "end_time": "2024-06-20T20:35:10.957554Z",
     "start_time": "2024-06-20T20:35:10.949614Z"
    }
   },
   "cell_type": "code",
   "source": "df_a.head()",
   "id": "769cf1b7dbcc1950",
   "outputs": [
    {
     "data": {
      "text/plain": [
       "                llm_model embed_model                  collection_name  \\\n",
       "2962  oll_llama3_instruct       mxbai  wiki_movie_plots_1024_100_mxbai   \n",
       "2963  oll_llama3_instruct       mxbai  wiki_movie_plots_1024_100_mxbai   \n",
       "2964  oll_llama3_instruct       mxbai  wiki_movie_plots_1024_100_mxbai   \n",
       "2965  oll_llama3_instruct       mxbai  wiki_movie_plots_1024_100_mxbai   \n",
       "2966  oll_llama3_instruct       mxbai  wiki_movie_plots_1024_100_mxbai   \n",
       "\n",
       "      question_id                                           question  \\\n",
       "2962            0  Who is the director of the movie \"The Karate K...   \n",
       "2963            1  What is the plot of \"The Karate Kid\" released ...   \n",
       "2964            2  What is the genre of the movie \"The Karate Kid...   \n",
       "2965            3  Who was the legendary boxing trainer that took...   \n",
       "2966            4  What was the result of the rematch between Rob...   \n",
       "\n",
       "                                                context  \\\n",
       "2962  release_year: 1984\\ntitle: The Karate Kid\\nori...   \n",
       "2963  release_year: 1984\\ntitle: The Karate Kid\\nori...   \n",
       "2964  release_year: 1984\\ntitle: The Karate Kid\\nori...   \n",
       "2965  release_year: 2016\\ntitle: Hands of Stone\\nori...   \n",
       "2966  release_year: 2016\\ntitle: Hands of Stone\\nori...   \n",
       "\n",
       "                                       reference_answer  \\\n",
       "2962  The director of the movie \"The Karate Kid\" rel...   \n",
       "2963  The plot of \"The Karate Kid\" released in 1984 ...   \n",
       "2964  The genre of the movie \"The Karate Kid\" releas...   \n",
       "2965  Ray Arcel, an American legendary boxing traine...   \n",
       "2966  Durán famously gave up by saying \"No más\" to t...   \n",
       "\n",
       "                                               response  \\\n",
       "2962  According to the context information provided,...   \n",
       "2963  Here's the plot of \"The Karate Kid\" (1984):\\n\\...   \n",
       "2964  The genre of the movie \"The Karate Kid\" releas...   \n",
       "2965  According to the context information, the lege...   \n",
       "2966  According to the context information, in the r...   \n",
       "\n",
       "                                        answer_feedback  \\\n",
       "2962  1. Does the provided response match the subjec...   \n",
       "2963  1. Does the provided response match the subjec...   \n",
       "2964  1. The response provided matches the subject m...   \n",
       "2965  1. The response correctly identifies Ray Arcel...   \n",
       "2966  1. The response provided matches the subject m...   \n",
       "\n",
       "      context_relevancy_score  \\\n",
       "2962                      1.0   \n",
       "2963                      1.0   \n",
       "2964                      1.0   \n",
       "2965                      1.0   \n",
       "2966                      1.0   \n",
       "\n",
       "                             context_relevancy_feedback  correctness_score  \\\n",
       "2962  1. The retrieved context matches the subject m...                5.0   \n",
       "2963  1. The retrieved context matches the subject m...                4.0   \n",
       "2964  1. The retrieved context matches the subject m...                4.0   \n",
       "2965  1. The retrieved context matches the subject m...                4.5   \n",
       "2966  1. The retrieved context matches the subject m...                4.5   \n",
       "\n",
       "                                   correctness_feedback  faithfulness_score  \\\n",
       "2962  The generated answer is both relevant and corr...                 1.0   \n",
       "2963  The generated answer provides a detailed and a...                 1.0   \n",
       "2964  The generated answer is relevant and correct, ...                 1.0   \n",
       "2965  The generated answer is highly relevant to the...                 1.0   \n",
       "2966  The generated answer is highly relevant to the...                 1.0   \n",
       "\n",
       "      relevancy_score relevancy_feedback  model_score  \\\n",
       "2962              1.0                YES          1.0   \n",
       "2963              1.0                YES          1.0   \n",
       "2964              1.0                YES          1.0   \n",
       "2965              1.0                YES          0.5   \n",
       "2966              1.0                YES          1.0   \n",
       "\n",
       "                                         model_feedback chat_mode  \n",
       "2962  Assistant A provided a more comprehensive resp...   CONTEXT  \n",
       "2963  Assistant A provides a detailed and comprehens...   CONTEXT  \n",
       "2964  Assistant A provided a more detailed and compr...   CONTEXT  \n",
       "2965                                                      CONTEXT  \n",
       "2966  Assistant A provided a more detailed and accur...   CONTEXT  "
      ],
      "text/html": [
       "<div>\n",
       "<style scoped>\n",
       "    .dataframe tbody tr th:only-of-type {\n",
       "        vertical-align: middle;\n",
       "    }\n",
       "\n",
       "    .dataframe tbody tr th {\n",
       "        vertical-align: top;\n",
       "    }\n",
       "\n",
       "    .dataframe thead th {\n",
       "        text-align: right;\n",
       "    }\n",
       "</style>\n",
       "<table border=\"1\" class=\"dataframe\">\n",
       "  <thead>\n",
       "    <tr style=\"text-align: right;\">\n",
       "      <th></th>\n",
       "      <th>llm_model</th>\n",
       "      <th>embed_model</th>\n",
       "      <th>collection_name</th>\n",
       "      <th>question_id</th>\n",
       "      <th>question</th>\n",
       "      <th>context</th>\n",
       "      <th>reference_answer</th>\n",
       "      <th>response</th>\n",
       "      <th>answer_feedback</th>\n",
       "      <th>context_relevancy_score</th>\n",
       "      <th>context_relevancy_feedback</th>\n",
       "      <th>correctness_score</th>\n",
       "      <th>correctness_feedback</th>\n",
       "      <th>faithfulness_score</th>\n",
       "      <th>relevancy_score</th>\n",
       "      <th>relevancy_feedback</th>\n",
       "      <th>model_score</th>\n",
       "      <th>model_feedback</th>\n",
       "      <th>chat_mode</th>\n",
       "    </tr>\n",
       "  </thead>\n",
       "  <tbody>\n",
       "    <tr>\n",
       "      <th>2962</th>\n",
       "      <td>oll_llama3_instruct</td>\n",
       "      <td>mxbai</td>\n",
       "      <td>wiki_movie_plots_1024_100_mxbai</td>\n",
       "      <td>0</td>\n",
       "      <td>Who is the director of the movie \"The Karate K...</td>\n",
       "      <td>release_year: 1984\\ntitle: The Karate Kid\\nori...</td>\n",
       "      <td>The director of the movie \"The Karate Kid\" rel...</td>\n",
       "      <td>According to the context information provided,...</td>\n",
       "      <td>1. Does the provided response match the subjec...</td>\n",
       "      <td>1.0</td>\n",
       "      <td>1. The retrieved context matches the subject m...</td>\n",
       "      <td>5.0</td>\n",
       "      <td>The generated answer is both relevant and corr...</td>\n",
       "      <td>1.0</td>\n",
       "      <td>1.0</td>\n",
       "      <td>YES</td>\n",
       "      <td>1.0</td>\n",
       "      <td>Assistant A provided a more comprehensive resp...</td>\n",
       "      <td>CONTEXT</td>\n",
       "    </tr>\n",
       "    <tr>\n",
       "      <th>2963</th>\n",
       "      <td>oll_llama3_instruct</td>\n",
       "      <td>mxbai</td>\n",
       "      <td>wiki_movie_plots_1024_100_mxbai</td>\n",
       "      <td>1</td>\n",
       "      <td>What is the plot of \"The Karate Kid\" released ...</td>\n",
       "      <td>release_year: 1984\\ntitle: The Karate Kid\\nori...</td>\n",
       "      <td>The plot of \"The Karate Kid\" released in 1984 ...</td>\n",
       "      <td>Here's the plot of \"The Karate Kid\" (1984):\\n\\...</td>\n",
       "      <td>1. Does the provided response match the subjec...</td>\n",
       "      <td>1.0</td>\n",
       "      <td>1. The retrieved context matches the subject m...</td>\n",
       "      <td>4.0</td>\n",
       "      <td>The generated answer provides a detailed and a...</td>\n",
       "      <td>1.0</td>\n",
       "      <td>1.0</td>\n",
       "      <td>YES</td>\n",
       "      <td>1.0</td>\n",
       "      <td>Assistant A provides a detailed and comprehens...</td>\n",
       "      <td>CONTEXT</td>\n",
       "    </tr>\n",
       "    <tr>\n",
       "      <th>2964</th>\n",
       "      <td>oll_llama3_instruct</td>\n",
       "      <td>mxbai</td>\n",
       "      <td>wiki_movie_plots_1024_100_mxbai</td>\n",
       "      <td>2</td>\n",
       "      <td>What is the genre of the movie \"The Karate Kid...</td>\n",
       "      <td>release_year: 1984\\ntitle: The Karate Kid\\nori...</td>\n",
       "      <td>The genre of the movie \"The Karate Kid\" releas...</td>\n",
       "      <td>The genre of the movie \"The Karate Kid\" releas...</td>\n",
       "      <td>1. The response provided matches the subject m...</td>\n",
       "      <td>1.0</td>\n",
       "      <td>1. The retrieved context matches the subject m...</td>\n",
       "      <td>4.0</td>\n",
       "      <td>The generated answer is relevant and correct, ...</td>\n",
       "      <td>1.0</td>\n",
       "      <td>1.0</td>\n",
       "      <td>YES</td>\n",
       "      <td>1.0</td>\n",
       "      <td>Assistant A provided a more detailed and compr...</td>\n",
       "      <td>CONTEXT</td>\n",
       "    </tr>\n",
       "    <tr>\n",
       "      <th>2965</th>\n",
       "      <td>oll_llama3_instruct</td>\n",
       "      <td>mxbai</td>\n",
       "      <td>wiki_movie_plots_1024_100_mxbai</td>\n",
       "      <td>3</td>\n",
       "      <td>Who was the legendary boxing trainer that took...</td>\n",
       "      <td>release_year: 2016\\ntitle: Hands of Stone\\nori...</td>\n",
       "      <td>Ray Arcel, an American legendary boxing traine...</td>\n",
       "      <td>According to the context information, the lege...</td>\n",
       "      <td>1. The response correctly identifies Ray Arcel...</td>\n",
       "      <td>1.0</td>\n",
       "      <td>1. The retrieved context matches the subject m...</td>\n",
       "      <td>4.5</td>\n",
       "      <td>The generated answer is highly relevant to the...</td>\n",
       "      <td>1.0</td>\n",
       "      <td>1.0</td>\n",
       "      <td>YES</td>\n",
       "      <td>0.5</td>\n",
       "      <td></td>\n",
       "      <td>CONTEXT</td>\n",
       "    </tr>\n",
       "    <tr>\n",
       "      <th>2966</th>\n",
       "      <td>oll_llama3_instruct</td>\n",
       "      <td>mxbai</td>\n",
       "      <td>wiki_movie_plots_1024_100_mxbai</td>\n",
       "      <td>4</td>\n",
       "      <td>What was the result of the rematch between Rob...</td>\n",
       "      <td>release_year: 2016\\ntitle: Hands of Stone\\nori...</td>\n",
       "      <td>Durán famously gave up by saying \"No más\" to t...</td>\n",
       "      <td>According to the context information, in the r...</td>\n",
       "      <td>1. The response provided matches the subject m...</td>\n",
       "      <td>1.0</td>\n",
       "      <td>1. The retrieved context matches the subject m...</td>\n",
       "      <td>4.5</td>\n",
       "      <td>The generated answer is highly relevant to the...</td>\n",
       "      <td>1.0</td>\n",
       "      <td>1.0</td>\n",
       "      <td>YES</td>\n",
       "      <td>1.0</td>\n",
       "      <td>Assistant A provided a more detailed and accur...</td>\n",
       "      <td>CONTEXT</td>\n",
       "    </tr>\n",
       "  </tbody>\n",
       "</table>\n",
       "</div>"
      ]
     },
     "execution_count": 16,
     "metadata": {},
     "output_type": "execute_result"
    }
   ],
   "execution_count": 16
  },
  {
   "metadata": {
    "ExecuteTime": {
     "end_time": "2024-06-20T20:35:12.421427Z",
     "start_time": "2024-06-20T20:35:12.411128Z"
    }
   },
   "cell_type": "code",
   "source": "df_b.head()",
   "id": "dacfe09f282d8f0c",
   "outputs": [
    {
     "data": {
      "text/plain": [
       "                llm_model embed_model                  collection_name  \\\n",
       "2962  oll_llama3_instruct       mxbai  wiki_movie_plots_2048_200_mxbai   \n",
       "2963  oll_llama3_instruct       mxbai  wiki_movie_plots_2048_200_mxbai   \n",
       "2964  oll_llama3_instruct       mxbai  wiki_movie_plots_2048_200_mxbai   \n",
       "2965  oll_llama3_instruct       mxbai  wiki_movie_plots_2048_200_mxbai   \n",
       "2966  oll_llama3_instruct       mxbai  wiki_movie_plots_2048_200_mxbai   \n",
       "\n",
       "      question_id                                           question  \\\n",
       "2962            0  Who is the director of the movie \"The Karate K...   \n",
       "2963            1  What is the plot of \"The Karate Kid\" released ...   \n",
       "2964            2  What is the genre of the movie \"The Karate Kid...   \n",
       "2965            3  Who was the legendary boxing trainer that took...   \n",
       "2966            4  What was the result of the rematch between Rob...   \n",
       "\n",
       "                                                context  \\\n",
       "2962  release_year: 1984\\ntitle: The Karate Kid\\nori...   \n",
       "2963  release_year: 1984\\ntitle: The Karate Kid\\nori...   \n",
       "2964  release_year: 1984\\ntitle: The Karate Kid\\nori...   \n",
       "2965  release_year: 2016\\ntitle: Hands of Stone\\nori...   \n",
       "2966  release_year: 2016\\ntitle: Hands of Stone\\nori...   \n",
       "\n",
       "                                       reference_answer  \\\n",
       "2962  The director of the movie \"The Karate Kid\" rel...   \n",
       "2963  The plot of \"The Karate Kid\" released in 1984 ...   \n",
       "2964  The genre of the movie \"The Karate Kid\" releas...   \n",
       "2965  Ray Arcel, an American legendary boxing traine...   \n",
       "2966  Durán famously gave up by saying \"No más\" to t...   \n",
       "\n",
       "                                               response  \\\n",
       "2962  According to the context information provided,...   \n",
       "2963  According to the context information provided,...   \n",
       "2964  According to the context information provided,...   \n",
       "2965  According to the context information provided,...   \n",
       "2966  According to the context information provided,...   \n",
       "\n",
       "                                        answer_feedback  \\\n",
       "2962  1. Yes, the response directly addresses the qu...   \n",
       "2963  1. Does the provided response match the subjec...   \n",
       "2964  1. Does the provided response match the subjec...   \n",
       "2965  1. The response correctly identifies Ray Arcel...   \n",
       "2966  1. The provided response matches the subject m...   \n",
       "\n",
       "      context_relevancy_score  \\\n",
       "2962                      1.0   \n",
       "2963                      1.0   \n",
       "2964                      1.0   \n",
       "2965                      1.0   \n",
       "2966                      1.0   \n",
       "\n",
       "                             context_relevancy_feedback  correctness_score  \\\n",
       "2962  1. The retrieved context matches the subject m...                4.5   \n",
       "2963  1. The retrieved context matches the subject m...                4.5   \n",
       "2964  1. The retrieved context matches the subject m...                4.5   \n",
       "2965  1. The retrieved context matches the subject m...                4.5   \n",
       "2966  1. The retrieved context matches the subject m...                4.5   \n",
       "\n",
       "                                   correctness_feedback  faithfulness_score  \\\n",
       "2962  The generated answer is highly relevant to the...                 1.0   \n",
       "2963  The generated answer provides a detailed and a...                 1.0   \n",
       "2964  The generated answer is relevant to the user q...                 0.0   \n",
       "2965  The generated answer is highly relevant to the...                 1.0   \n",
       "2966  The generated answer is highly relevant to the...                 1.0   \n",
       "\n",
       "      relevancy_score relevancy_feedback  model_score  \\\n",
       "2962              1.0                YES          1.0   \n",
       "2963              1.0                YES          1.0   \n",
       "2964              1.0                YES          0.0   \n",
       "2965              1.0                YES          0.0   \n",
       "2966              1.0                YES          0.0   \n",
       "\n",
       "                                         model_feedback chat_mode  \n",
       "2962  Assistant A provided a more comprehensive resp...   CONTEXT  \n",
       "2963  Assistant A provides a detailed and comprehens...   CONTEXT  \n",
       "2964  Assistant B provided a more comprehensive and ...   CONTEXT  \n",
       "2965  Assistant A correctly identifies the legendary...   CONTEXT  \n",
       "2966                                               None   CONTEXT  "
      ],
      "text/html": [
       "<div>\n",
       "<style scoped>\n",
       "    .dataframe tbody tr th:only-of-type {\n",
       "        vertical-align: middle;\n",
       "    }\n",
       "\n",
       "    .dataframe tbody tr th {\n",
       "        vertical-align: top;\n",
       "    }\n",
       "\n",
       "    .dataframe thead th {\n",
       "        text-align: right;\n",
       "    }\n",
       "</style>\n",
       "<table border=\"1\" class=\"dataframe\">\n",
       "  <thead>\n",
       "    <tr style=\"text-align: right;\">\n",
       "      <th></th>\n",
       "      <th>llm_model</th>\n",
       "      <th>embed_model</th>\n",
       "      <th>collection_name</th>\n",
       "      <th>question_id</th>\n",
       "      <th>question</th>\n",
       "      <th>context</th>\n",
       "      <th>reference_answer</th>\n",
       "      <th>response</th>\n",
       "      <th>answer_feedback</th>\n",
       "      <th>context_relevancy_score</th>\n",
       "      <th>context_relevancy_feedback</th>\n",
       "      <th>correctness_score</th>\n",
       "      <th>correctness_feedback</th>\n",
       "      <th>faithfulness_score</th>\n",
       "      <th>relevancy_score</th>\n",
       "      <th>relevancy_feedback</th>\n",
       "      <th>model_score</th>\n",
       "      <th>model_feedback</th>\n",
       "      <th>chat_mode</th>\n",
       "    </tr>\n",
       "  </thead>\n",
       "  <tbody>\n",
       "    <tr>\n",
       "      <th>2962</th>\n",
       "      <td>oll_llama3_instruct</td>\n",
       "      <td>mxbai</td>\n",
       "      <td>wiki_movie_plots_2048_200_mxbai</td>\n",
       "      <td>0</td>\n",
       "      <td>Who is the director of the movie \"The Karate K...</td>\n",
       "      <td>release_year: 1984\\ntitle: The Karate Kid\\nori...</td>\n",
       "      <td>The director of the movie \"The Karate Kid\" rel...</td>\n",
       "      <td>According to the context information provided,...</td>\n",
       "      <td>1. Yes, the response directly addresses the qu...</td>\n",
       "      <td>1.0</td>\n",
       "      <td>1. The retrieved context matches the subject m...</td>\n",
       "      <td>4.5</td>\n",
       "      <td>The generated answer is highly relevant to the...</td>\n",
       "      <td>1.0</td>\n",
       "      <td>1.0</td>\n",
       "      <td>YES</td>\n",
       "      <td>1.0</td>\n",
       "      <td>Assistant A provided a more comprehensive resp...</td>\n",
       "      <td>CONTEXT</td>\n",
       "    </tr>\n",
       "    <tr>\n",
       "      <th>2963</th>\n",
       "      <td>oll_llama3_instruct</td>\n",
       "      <td>mxbai</td>\n",
       "      <td>wiki_movie_plots_2048_200_mxbai</td>\n",
       "      <td>1</td>\n",
       "      <td>What is the plot of \"The Karate Kid\" released ...</td>\n",
       "      <td>release_year: 1984\\ntitle: The Karate Kid\\nori...</td>\n",
       "      <td>The plot of \"The Karate Kid\" released in 1984 ...</td>\n",
       "      <td>According to the context information provided,...</td>\n",
       "      <td>1. Does the provided response match the subjec...</td>\n",
       "      <td>1.0</td>\n",
       "      <td>1. The retrieved context matches the subject m...</td>\n",
       "      <td>4.5</td>\n",
       "      <td>The generated answer provides a detailed and a...</td>\n",
       "      <td>1.0</td>\n",
       "      <td>1.0</td>\n",
       "      <td>YES</td>\n",
       "      <td>1.0</td>\n",
       "      <td>Assistant A provides a detailed and comprehens...</td>\n",
       "      <td>CONTEXT</td>\n",
       "    </tr>\n",
       "    <tr>\n",
       "      <th>2964</th>\n",
       "      <td>oll_llama3_instruct</td>\n",
       "      <td>mxbai</td>\n",
       "      <td>wiki_movie_plots_2048_200_mxbai</td>\n",
       "      <td>2</td>\n",
       "      <td>What is the genre of the movie \"The Karate Kid...</td>\n",
       "      <td>release_year: 1984\\ntitle: The Karate Kid\\nori...</td>\n",
       "      <td>The genre of the movie \"The Karate Kid\" releas...</td>\n",
       "      <td>According to the context information provided,...</td>\n",
       "      <td>1. Does the provided response match the subjec...</td>\n",
       "      <td>1.0</td>\n",
       "      <td>1. The retrieved context matches the subject m...</td>\n",
       "      <td>4.5</td>\n",
       "      <td>The generated answer is relevant to the user q...</td>\n",
       "      <td>0.0</td>\n",
       "      <td>1.0</td>\n",
       "      <td>YES</td>\n",
       "      <td>0.0</td>\n",
       "      <td>Assistant B provided a more comprehensive and ...</td>\n",
       "      <td>CONTEXT</td>\n",
       "    </tr>\n",
       "    <tr>\n",
       "      <th>2965</th>\n",
       "      <td>oll_llama3_instruct</td>\n",
       "      <td>mxbai</td>\n",
       "      <td>wiki_movie_plots_2048_200_mxbai</td>\n",
       "      <td>3</td>\n",
       "      <td>Who was the legendary boxing trainer that took...</td>\n",
       "      <td>release_year: 2016\\ntitle: Hands of Stone\\nori...</td>\n",
       "      <td>Ray Arcel, an American legendary boxing traine...</td>\n",
       "      <td>According to the context information provided,...</td>\n",
       "      <td>1. The response correctly identifies Ray Arcel...</td>\n",
       "      <td>1.0</td>\n",
       "      <td>1. The retrieved context matches the subject m...</td>\n",
       "      <td>4.5</td>\n",
       "      <td>The generated answer is highly relevant to the...</td>\n",
       "      <td>1.0</td>\n",
       "      <td>1.0</td>\n",
       "      <td>YES</td>\n",
       "      <td>0.0</td>\n",
       "      <td>Assistant A correctly identifies the legendary...</td>\n",
       "      <td>CONTEXT</td>\n",
       "    </tr>\n",
       "    <tr>\n",
       "      <th>2966</th>\n",
       "      <td>oll_llama3_instruct</td>\n",
       "      <td>mxbai</td>\n",
       "      <td>wiki_movie_plots_2048_200_mxbai</td>\n",
       "      <td>4</td>\n",
       "      <td>What was the result of the rematch between Rob...</td>\n",
       "      <td>release_year: 2016\\ntitle: Hands of Stone\\nori...</td>\n",
       "      <td>Durán famously gave up by saying \"No más\" to t...</td>\n",
       "      <td>According to the context information provided,...</td>\n",
       "      <td>1. The provided response matches the subject m...</td>\n",
       "      <td>1.0</td>\n",
       "      <td>1. The retrieved context matches the subject m...</td>\n",
       "      <td>4.5</td>\n",
       "      <td>The generated answer is highly relevant to the...</td>\n",
       "      <td>1.0</td>\n",
       "      <td>1.0</td>\n",
       "      <td>YES</td>\n",
       "      <td>0.0</td>\n",
       "      <td>None</td>\n",
       "      <td>CONTEXT</td>\n",
       "    </tr>\n",
       "  </tbody>\n",
       "</table>\n",
       "</div>"
      ]
     },
     "execution_count": 17,
     "metadata": {},
     "output_type": "execute_result"
    }
   ],
   "execution_count": 17
  },
  {
   "metadata": {},
   "cell_type": "markdown",
   "source": "## Information about the Training Data",
   "id": "a22446c5a81c7d27"
  },
  {
   "metadata": {},
   "cell_type": "markdown",
   "source": [
    "General Information about the DataFrame\n",
    "The overall Data in the QnA Dataset "
   ],
   "id": "52a6e498466ee848"
  },
  {
   "metadata": {
    "ExecuteTime": {
     "end_time": "2024-06-20T20:35:23.095235Z",
     "start_time": "2024-06-20T20:35:23.089811Z"
    }
   },
   "cell_type": "code",
   "source": "trainings_dataset = load_evaluation_dataset()",
   "id": "ecac92c360e7c101",
   "outputs": [],
   "execution_count": 18
  },
  {
   "metadata": {
    "ExecuteTime": {
     "end_time": "2024-06-20T20:35:23.509543Z",
     "start_time": "2024-06-20T20:35:23.507245Z"
    }
   },
   "cell_type": "code",
   "source": "print(\"The total number of observed Movies in the dataset is: \", len(trainings_dataset))",
   "id": "92e3e098d815d9fd",
   "outputs": [
    {
     "name": "stdout",
     "output_type": "stream",
     "text": [
      "The total number of observed Movies in the dataset is:  100\n"
     ]
    }
   ],
   "execution_count": 19
  },
  {
   "metadata": {
    "ExecuteTime": {
     "end_time": "2024-06-20T20:35:23.946601Z",
     "start_time": "2024-06-20T20:35:23.944188Z"
    }
   },
   "cell_type": "code",
   "source": [
    "number_of_questions = 0\n",
    "for questions in trainings_dataset:\n",
    "    number_of_questions += questions['number_of_qnq']\n",
    "\n",
    "print(\"The total number of questions in the dataset is: \", number_of_questions)"
   ],
   "id": "5d9f4f7e03dc0a71",
   "outputs": [
    {
     "name": "stdout",
     "output_type": "stream",
     "text": [
      "The total number of questions in the dataset is:  381\n"
     ]
    }
   ],
   "execution_count": 20
  },
  {
   "metadata": {},
   "cell_type": "markdown",
   "source": [
    "While evaluating the model some had trouble and reached the maximum number of requests. To fix this an indicator was added to the dataset. With this indicator called \"complex\" the evaluation of the \"too complex\" question was skipped.\n",
    "\n",
    "With subtraction of the \"complex\" questions we evaluated the following number of questions:"
   ],
   "id": "8f2b030eb6c48f97"
  },
  {
   "metadata": {
    "ExecuteTime": {
     "end_time": "2024-06-20T20:35:24.681665Z",
     "start_time": "2024-06-20T20:35:24.679177Z"
    }
   },
   "cell_type": "code",
   "source": [
    "number_of_complex = 0\n",
    "for questions in trainings_dataset:\n",
    "    if \"complex\" in questions:\n",
    "        number_of_complex += questions['complex']\n",
    "print(\"The total number of questions in the dataset is: \", number_of_complex)"
   ],
   "id": "ef56b25fef7abc0d",
   "outputs": [
    {
     "name": "stdout",
     "output_type": "stream",
     "text": [
      "The total number of questions in the dataset is:  14\n"
     ]
    }
   ],
   "execution_count": 21
  },
  {
   "metadata": {},
   "cell_type": "markdown",
   "source": "Now we can count how many questions were skipped",
   "id": "1341eb477169df89"
  },
  {
   "metadata": {
    "ExecuteTime": {
     "end_time": "2024-06-20T20:35:25.100962Z",
     "start_time": "2024-06-20T20:35:25.098486Z"
    }
   },
   "cell_type": "code",
   "source": [
    "questions_skipped = 0\n",
    "for questions in trainings_dataset:\n",
    "    if \"complex\" in questions:\n",
    "        questions_skipped += len(questions['questions'])\n",
    "print(\"The total number of questions in the dataset is: \", questions_skipped)"
   ],
   "id": "4a40f2bf0d84dd16",
   "outputs": [
    {
     "name": "stdout",
     "output_type": "stream",
     "text": [
      "The total number of questions in the dataset is:  66\n"
     ]
    }
   ],
   "execution_count": 22
  },
  {
   "metadata": {
    "ExecuteTime": {
     "end_time": "2024-06-20T20:35:25.434728Z",
     "start_time": "2024-06-20T20:35:25.432685Z"
    }
   },
   "cell_type": "code",
   "source": [
    "number_of_evaluated_questions = number_of_questions - questions_skipped\n",
    "print(\"The total number of questions in the dataset that were evaluated is: \", number_of_evaluated_questions)"
   ],
   "id": "b129ae8b2fff75c0",
   "outputs": [
    {
     "name": "stdout",
     "output_type": "stream",
     "text": [
      "The total number of questions in the dataset that were evaluated is:  315\n"
     ]
    }
   ],
   "execution_count": 23
  },
  {
   "metadata": {},
   "cell_type": "markdown",
   "source": "This number is matching the amount of successfully evaluated questions listed below.",
   "id": "dd4397247382fbd1"
  },
  {
   "metadata": {
    "ExecuteTime": {
     "end_time": "2024-06-20T20:35:25.695510Z",
     "start_time": "2024-06-20T20:35:25.691381Z"
    }
   },
   "cell_type": "code",
   "source": "df_a[\"llm_model\"].value_counts().sort_values(ascending=False)",
   "id": "618e8ca52765ea67",
   "outputs": [
    {
     "data": {
      "text/plain": [
       "llm_model\n",
       "oll_llama3_instruct     315\n",
       "oll_gemma_instruct      315\n",
       "oll_mistral_instruct    315\n",
       "Name: count, dtype: int64"
      ]
     },
     "execution_count": 24,
     "metadata": {},
     "output_type": "execute_result"
    }
   ],
   "execution_count": 24
  },
  {
   "metadata": {},
   "cell_type": "markdown",
   "source": "### Prepare Dataframes",
   "id": "6121b94bbcdefc09"
  },
  {
   "metadata": {
    "ExecuteTime": {
     "end_time": "2024-06-20T20:35:26.075635Z",
     "start_time": "2024-06-20T20:35:26.073821Z"
    }
   },
   "cell_type": "code",
   "source": "scores = [0.0, 0.5, 1.0]",
   "id": "a954adc07338d0fd",
   "outputs": [],
   "execution_count": 25
  },
  {
   "metadata": {
    "ExecuteTime": {
     "end_time": "2024-06-20T20:35:26.211184Z",
     "start_time": "2024-06-20T20:35:26.208770Z"
    }
   },
   "cell_type": "code",
   "source": [
    "overall_scores = {\n",
    "    'gemma_instruct': {\n",
    "        'context_relevancy_score': 0.0,\n",
    "        'correctness_score': 0.0,\n",
    "        'faithfulness_score': 0.0,\n",
    "        'relevancy_score': 0.0,\n",
    "        'model_score': 0.0\n",
    "    },\n",
    "    'llama3_instruct': {\n",
    "        'context_relevancy_score': 0.0,\n",
    "        'correctness_score': 0.0,\n",
    "        'faithfulness_score': 0.0,\n",
    "        'relevancy_score': 0.0,\n",
    "        'model_score': 0.0\n",
    "    },\n",
    "    'mistral_instruct': {\n",
    "        'context_relevancy_score': 0.0,\n",
    "        'correctness_score': 0.0,\n",
    "        'faithfulness_score': 0.0,\n",
    "        'relevancy_score': 0.0,\n",
    "        'model_score': 0.0\n",
    "    }\n",
    "}"
   ],
   "id": "6bdddc15c6228f4a",
   "outputs": [],
   "execution_count": 26
  },
  {
   "metadata": {},
   "cell_type": "markdown",
   "source": "**Evaluation Data filtered for Gemma Instruct**",
   "id": "df9a73efd9778fff"
  },
  {
   "metadata": {
    "ExecuteTime": {
     "end_time": "2024-06-20T20:35:26.684649Z",
     "start_time": "2024-06-20T20:35:26.679635Z"
    }
   },
   "cell_type": "code",
   "source": [
    "gemma_df_a = df_a[df_a[\"llm_model\"] == \"oll_gemma_instruct\"]\n",
    "gemma_df_b = df_b[df_b[\"llm_model\"] == \"oll_gemma_instruct\"]"
   ],
   "id": "53701a6d90a9e0c0",
   "outputs": [],
   "execution_count": 27
  },
  {
   "metadata": {},
   "cell_type": "markdown",
   "source": "**Evaluation Data filtered for LLama3 Instruct**",
   "id": "eee983646362c19f"
  },
  {
   "metadata": {
    "ExecuteTime": {
     "end_time": "2024-06-20T20:35:27.437041Z",
     "start_time": "2024-06-20T20:35:27.432869Z"
    }
   },
   "cell_type": "code",
   "source": [
    "llama3_df_a = df_a[df_a[\"llm_model\"] == \"oll_llama3_instruct\"]\n",
    "llama3_df_b = df_b[df_b[\"llm_model\"] == \"oll_llama3_instruct\"]"
   ],
   "id": "f2ad41513c71583c",
   "outputs": [],
   "execution_count": 28
  },
  {
   "metadata": {},
   "cell_type": "markdown",
   "source": "**Evaluation Data filtered for Mistral Instruct**",
   "id": "9499c1432aa4ff5a"
  },
  {
   "metadata": {
    "ExecuteTime": {
     "end_time": "2024-06-20T20:35:27.795677Z",
     "start_time": "2024-06-20T20:35:27.791099Z"
    }
   },
   "cell_type": "code",
   "source": [
    "mistral_df_a = df_a[df_a[\"llm_model\"] == \"oll_mistral_instruct\"]\n",
    "mistral_df_b = df_b[df_b[\"llm_model\"] == \"oll_mistral_instruct\"]"
   ],
   "id": "b93655fcc1b702ee",
   "outputs": [],
   "execution_count": 29
  },
  {
   "metadata": {},
   "cell_type": "markdown",
   "source": "### Evaluation Results",
   "id": "741cce06374f77ab"
  },
  {
   "metadata": {
    "ExecuteTime": {
     "end_time": "2024-06-20T20:35:28.070978Z",
     "start_time": "2024-06-20T20:35:28.068772Z"
    }
   },
   "cell_type": "code",
   "source": [
    "columns_to_compare = [\n",
    "    'question_id',\n",
    "    'llm_model',\n",
    "    'collection_name',\n",
    "    'context_relevancy_score',\n",
    "    'correctness_score',\n",
    "    'faithfulness_score',\n",
    "    'relevancy_score',\n",
    "    'model_score'\n",
    "]"
   ],
   "id": "c4d23cce39699c5b",
   "outputs": [],
   "execution_count": 30
  },
  {
   "metadata": {
    "ExecuteTime": {
     "end_time": "2024-06-20T20:35:28.382345Z",
     "start_time": "2024-06-20T20:35:28.378824Z"
    }
   },
   "cell_type": "code",
   "source": [
    "results = {\n",
    "    \"Gemma Instruct\": gemma_df_a[columns_to_compare],\n",
    "    \"Llama3 Instruct\": llama3_df_a[columns_to_compare],\n",
    "    \"Mistral Instruct\": mistral_df_a[columns_to_compare]\n",
    "}"
   ],
   "id": "d01a079515db678a",
   "outputs": [],
   "execution_count": 31
  },
  {
   "metadata": {
    "ExecuteTime": {
     "end_time": "2024-06-20T20:35:28.656783Z",
     "start_time": "2024-06-20T20:35:28.653172Z"
    }
   },
   "cell_type": "code",
   "source": [
    "llm_models = list(results.keys())\n",
    "llm_models"
   ],
   "id": "d86793d447adf215",
   "outputs": [
    {
     "data": {
      "text/plain": [
       "['Gemma Instruct', 'Llama3 Instruct', 'Mistral Instruct']"
      ]
     },
     "execution_count": 32,
     "metadata": {},
     "output_type": "execute_result"
    }
   ],
   "execution_count": 32
  },
  {
   "metadata": {
    "ExecuteTime": {
     "end_time": "2024-06-20T20:35:29.144331Z",
     "start_time": "2024-06-20T20:35:29.141589Z"
    }
   },
   "cell_type": "code",
   "source": [
    "# list reversed\n",
    "llm_models_r = list(reversed(llm_models))\n",
    "llm_models_r"
   ],
   "id": "8e7de964f5f00ff9",
   "outputs": [
    {
     "data": {
      "text/plain": [
       "['Mistral Instruct', 'Llama3 Instruct', 'Gemma Instruct']"
      ]
     },
     "execution_count": 33,
     "metadata": {},
     "output_type": "execute_result"
    }
   ],
   "execution_count": 33
  },
  {
   "metadata": {},
   "cell_type": "markdown",
   "source": [
    "### Context Relevancy Score\n",
    "Evaluates the relevancy of retrieved contexts to a query. The score is between 0 and 1. A score of 1 indicates that the context is highly relevant to the query."
   ],
   "id": "b3177157d2f929be"
  },
  {
   "metadata": {
    "ExecuteTime": {
     "end_time": "2024-06-20T20:35:29.545610Z",
     "start_time": "2024-06-20T20:35:29.542876Z"
    }
   },
   "cell_type": "code",
   "source": [
    "metric_a = 'context_relevancy_score'\n",
    "metric_a"
   ],
   "id": "bcfc2a7a30d4e4ed",
   "outputs": [
    {
     "data": {
      "text/plain": [
       "'context_relevancy_score'"
      ]
     },
     "execution_count": 34,
     "metadata": {},
     "output_type": "execute_result"
    }
   ],
   "execution_count": 34
  },
  {
   "metadata": {
    "ExecuteTime": {
     "end_time": "2024-06-20T20:35:29.812738Z",
     "start_time": "2024-06-20T20:35:29.810974Z"
    }
   },
   "cell_type": "code",
   "source": "metric_a_label = \"Context Relevancy Score\"",
   "id": "caf4941d846b4108",
   "outputs": [],
   "execution_count": 35
  },
  {
   "metadata": {
    "ExecuteTime": {
     "end_time": "2024-06-20T20:35:30.182898Z",
     "start_time": "2024-06-20T20:35:30.179108Z"
    }
   },
   "cell_type": "code",
   "source": "gemma_df_a[metric_a].value_counts().sort_index(ascending=False)",
   "id": "20484e2177d110de",
   "outputs": [
    {
     "data": {
      "text/plain": [
       "context_relevancy_score\n",
       "1.000    292\n",
       "0.875      5\n",
       "0.750      3\n",
       "0.500     10\n",
       "0.250      5\n",
       "Name: count, dtype: int64"
      ]
     },
     "execution_count": 36,
     "metadata": {},
     "output_type": "execute_result"
    }
   ],
   "execution_count": 36
  },
  {
   "metadata": {
    "ExecuteTime": {
     "end_time": "2024-06-20T20:35:31.198804Z",
     "start_time": "2024-06-20T20:35:31.194823Z"
    }
   },
   "cell_type": "code",
   "source": "gemma_df_b[metric_a].value_counts().sort_index(ascending=False)",
   "id": "1cc79b1d0815ef8",
   "outputs": [
    {
     "data": {
      "text/plain": [
       "context_relevancy_score\n",
       "1.000    293\n",
       "0.875      4\n",
       "0.750      3\n",
       "0.500     10\n",
       "0.375      2\n",
       "0.250      1\n",
       "0.125      1\n",
       "0.000      1\n",
       "Name: count, dtype: int64"
      ]
     },
     "execution_count": 37,
     "metadata": {},
     "output_type": "execute_result"
    }
   ],
   "execution_count": 37
  },
  {
   "metadata": {
    "ExecuteTime": {
     "end_time": "2024-06-20T20:35:37.434631Z",
     "start_time": "2024-06-20T20:35:37.430128Z"
    }
   },
   "cell_type": "code",
   "source": "llama3_df_a[metric_a].value_counts().sort_index(ascending=False)",
   "id": "69398abda993a7d1",
   "outputs": [
    {
     "data": {
      "text/plain": [
       "context_relevancy_score\n",
       "1.000    297\n",
       "0.950      1\n",
       "0.875      4\n",
       "0.750      2\n",
       "0.625      2\n",
       "0.500      7\n",
       "0.250      2\n",
       "Name: count, dtype: int64"
      ]
     },
     "execution_count": 38,
     "metadata": {},
     "output_type": "execute_result"
    }
   ],
   "execution_count": 38
  },
  {
   "metadata": {
    "ExecuteTime": {
     "end_time": "2024-06-20T20:35:53.940889Z",
     "start_time": "2024-06-20T20:35:53.934752Z"
    }
   },
   "cell_type": "code",
   "source": "llama3_df_b[metric_a].value_counts().sort_index(ascending=False)",
   "id": "e399713e46a49b76",
   "outputs": [
    {
     "data": {
      "text/plain": [
       "context_relevancy_score\n",
       "1.000    296\n",
       "0.875      4\n",
       "0.750      3\n",
       "0.625      1\n",
       "0.500      8\n",
       "0.375      2\n",
       "0.250      1\n",
       "Name: count, dtype: int64"
      ]
     },
     "execution_count": 39,
     "metadata": {},
     "output_type": "execute_result"
    }
   ],
   "execution_count": 39
  },
  {
   "metadata": {
    "ExecuteTime": {
     "end_time": "2024-06-20T20:36:08.857919Z",
     "start_time": "2024-06-20T20:36:08.852107Z"
    }
   },
   "cell_type": "code",
   "source": "mistral_df_a[metric_a].value_counts().sort_index(ascending=False)",
   "id": "4fee92db80f11cb2",
   "outputs": [
    {
     "data": {
      "text/plain": [
       "context_relevancy_score\n",
       "1.000    293\n",
       "0.875      5\n",
       "0.750      1\n",
       "0.625      1\n",
       "0.500     12\n",
       "0.250      1\n",
       "0.125      1\n",
       "0.000      1\n",
       "Name: count, dtype: int64"
      ]
     },
     "execution_count": 41,
     "metadata": {},
     "output_type": "execute_result"
    }
   ],
   "execution_count": 41
  },
  {
   "metadata": {
    "ExecuteTime": {
     "end_time": "2024-06-20T20:36:05.078957Z",
     "start_time": "2024-06-20T20:36:05.062909Z"
    }
   },
   "cell_type": "code",
   "source": "mistral_df_b[metric_a].value_counts().sort_index(ascending=False)",
   "id": "652451afa3127e22",
   "outputs": [
    {
     "data": {
      "text/plain": [
       "context_relevancy_score\n",
       "1.000    293\n",
       "0.875      2\n",
       "0.750      5\n",
       "0.625      1\n",
       "0.500     11\n",
       "0.250      1\n",
       "0.000      2\n",
       "Name: count, dtype: int64"
      ]
     },
     "execution_count": 40,
     "metadata": {},
     "output_type": "execute_result"
    }
   ],
   "execution_count": 40
  },
  {
   "metadata": {
    "ExecuteTime": {
     "end_time": "2024-06-20T20:37:09.077528Z",
     "start_time": "2024-06-20T20:37:09.060409Z"
    }
   },
   "cell_type": "code",
   "source": [
    "# create a DataFrame for the context relevancy score values\n",
    "col_a_metric_a_values_a = pd.DataFrame()\n",
    "col_a_metric_a_values_a['values'] = gemma_df_a[metric_a].value_counts().index\n",
    "col_a_metric_a_values_a[metric_a] = gemma_df_a[metric_a].value_counts().values\n",
    "col_a_metric_a_values_a['llm_model'] = llm_models[0]\n",
    "\n",
    "col_a_metric_a_values_b = pd.DataFrame()\n",
    "col_a_metric_a_values_b['values'] = llama3_df_a[metric_a].value_counts().index\n",
    "col_a_metric_a_values_b[metric_a] = llama3_df_a[metric_a].value_counts().values\n",
    "col_a_metric_a_values_b['llm_model'] = llm_models[1]\n",
    "\n",
    "col_a_metric_a_values_c = pd.DataFrame()\n",
    "col_a_metric_a_values_c['values'] = mistral_df_a[metric_a].value_counts().index\n",
    "col_a_metric_a_values_c[metric_a] = mistral_df_a[metric_a].value_counts().values\n",
    "col_a_metric_a_values_c['llm_model'] = llm_models[2]\n",
    "\n",
    "# create a DataFrame for the context relevancy score values\n",
    "col_b_metric_a_values_a = pd.DataFrame()\n",
    "col_b_metric_a_values_a['values'] = gemma_df_a[metric_a].value_counts().index\n",
    "col_b_metric_a_values_a[metric_a] = gemma_df_a[metric_a].value_counts().values\n",
    "col_b_metric_a_values_a['llm_model'] = llm_models[0]\n",
    "\n",
    "col_b_metric_a_values_b = pd.DataFrame()\n",
    "col_b_metric_a_values_b['values'] = llama3_df_a[metric_a].value_counts().index\n",
    "col_b_metric_a_values_b[metric_a] = llama3_df_a[metric_a].value_counts().values\n",
    "col_b_metric_a_values_b['llm_model'] = llm_models[1]\n",
    "\n",
    "col_b_metric_a_values_c = pd.DataFrame()\n",
    "col_b_metric_a_values_c['values'] = mistral_df_a[metric_a].value_counts().index\n",
    "col_b_metric_a_values_c[metric_a] = mistral_df_a[metric_a].value_counts().values\n",
    "col_b_metric_a_values_c['llm_model'] = llm_models[2]"
   ],
   "id": "4f60934f64a029d6",
   "outputs": [],
   "execution_count": 42
  },
  {
   "metadata": {
    "ExecuteTime": {
     "end_time": "2024-06-20T20:37:10.702207Z",
     "start_time": "2024-06-20T20:37:10.697937Z"
    }
   },
   "cell_type": "code",
   "source": "col_a_metric_a_values_a",
   "id": "328a7a9cdf9d9fa",
   "outputs": [
    {
     "data": {
      "text/plain": [
       "   values  context_relevancy_score       llm_model\n",
       "0   1.000                      292  Gemma Instruct\n",
       "1   0.500                       10  Gemma Instruct\n",
       "2   0.875                        5  Gemma Instruct\n",
       "3   0.250                        5  Gemma Instruct\n",
       "4   0.750                        3  Gemma Instruct"
      ],
      "text/html": [
       "<div>\n",
       "<style scoped>\n",
       "    .dataframe tbody tr th:only-of-type {\n",
       "        vertical-align: middle;\n",
       "    }\n",
       "\n",
       "    .dataframe tbody tr th {\n",
       "        vertical-align: top;\n",
       "    }\n",
       "\n",
       "    .dataframe thead th {\n",
       "        text-align: right;\n",
       "    }\n",
       "</style>\n",
       "<table border=\"1\" class=\"dataframe\">\n",
       "  <thead>\n",
       "    <tr style=\"text-align: right;\">\n",
       "      <th></th>\n",
       "      <th>values</th>\n",
       "      <th>context_relevancy_score</th>\n",
       "      <th>llm_model</th>\n",
       "    </tr>\n",
       "  </thead>\n",
       "  <tbody>\n",
       "    <tr>\n",
       "      <th>0</th>\n",
       "      <td>1.000</td>\n",
       "      <td>292</td>\n",
       "      <td>Gemma Instruct</td>\n",
       "    </tr>\n",
       "    <tr>\n",
       "      <th>1</th>\n",
       "      <td>0.500</td>\n",
       "      <td>10</td>\n",
       "      <td>Gemma Instruct</td>\n",
       "    </tr>\n",
       "    <tr>\n",
       "      <th>2</th>\n",
       "      <td>0.875</td>\n",
       "      <td>5</td>\n",
       "      <td>Gemma Instruct</td>\n",
       "    </tr>\n",
       "    <tr>\n",
       "      <th>3</th>\n",
       "      <td>0.250</td>\n",
       "      <td>5</td>\n",
       "      <td>Gemma Instruct</td>\n",
       "    </tr>\n",
       "    <tr>\n",
       "      <th>4</th>\n",
       "      <td>0.750</td>\n",
       "      <td>3</td>\n",
       "      <td>Gemma Instruct</td>\n",
       "    </tr>\n",
       "  </tbody>\n",
       "</table>\n",
       "</div>"
      ]
     },
     "execution_count": 43,
     "metadata": {},
     "output_type": "execute_result"
    }
   ],
   "execution_count": 43
  },
  {
   "metadata": {
    "ExecuteTime": {
     "end_time": "2024-06-20T20:41:17.785722Z",
     "start_time": "2024-06-20T20:41:17.782822Z"
    }
   },
   "cell_type": "code",
   "source": [
    "col_a_metric_a_values_a['collection_name'] = '1024_100'\n",
    "col_a_metric_a_values_b['collection_name'] = '1024_100'\n",
    "col_a_metric_a_values_c['collection_name'] = '1024_100'"
   ],
   "id": "d161e104a8b78e3d",
   "outputs": [],
   "execution_count": 48
  },
  {
   "metadata": {
    "ExecuteTime": {
     "end_time": "2024-06-20T20:42:01.985827Z",
     "start_time": "2024-06-20T20:42:01.980509Z"
    }
   },
   "cell_type": "code",
   "source": [
    "col_a_metric_a_values_combined = pd.concat([col_a_metric_a_values_a, col_a_metric_a_values_b, col_a_metric_a_values_c])\n",
    "col_a_metric_a_values_combined"
   ],
   "id": "eb8534239f3cd11e",
   "outputs": [
    {
     "data": {
      "text/plain": [
       "   values  context_relevancy_score         llm_model collection_name\n",
       "0   1.000                      292    Gemma Instruct        1024_100\n",
       "1   0.500                       10    Gemma Instruct        1024_100\n",
       "2   0.875                        5    Gemma Instruct        1024_100\n",
       "3   0.250                        5    Gemma Instruct        1024_100\n",
       "4   0.750                        3    Gemma Instruct        1024_100\n",
       "0   1.000                      297   Llama3 Instruct        1024_100\n",
       "1   0.500                        7   Llama3 Instruct        1024_100\n",
       "2   0.875                        4   Llama3 Instruct        1024_100\n",
       "3   0.750                        2   Llama3 Instruct        1024_100\n",
       "4   0.625                        2   Llama3 Instruct        1024_100\n",
       "5   0.250                        2   Llama3 Instruct        1024_100\n",
       "6   0.950                        1   Llama3 Instruct        1024_100\n",
       "0   1.000                      293  Mistral Instruct        1024_100\n",
       "1   0.500                       12  Mistral Instruct        1024_100\n",
       "2   0.875                        5  Mistral Instruct        1024_100\n",
       "3   0.625                        1  Mistral Instruct        1024_100\n",
       "4   0.125                        1  Mistral Instruct        1024_100\n",
       "5   0.000                        1  Mistral Instruct        1024_100\n",
       "6   0.250                        1  Mistral Instruct        1024_100\n",
       "7   0.750                        1  Mistral Instruct        1024_100"
      ],
      "text/html": [
       "<div>\n",
       "<style scoped>\n",
       "    .dataframe tbody tr th:only-of-type {\n",
       "        vertical-align: middle;\n",
       "    }\n",
       "\n",
       "    .dataframe tbody tr th {\n",
       "        vertical-align: top;\n",
       "    }\n",
       "\n",
       "    .dataframe thead th {\n",
       "        text-align: right;\n",
       "    }\n",
       "</style>\n",
       "<table border=\"1\" class=\"dataframe\">\n",
       "  <thead>\n",
       "    <tr style=\"text-align: right;\">\n",
       "      <th></th>\n",
       "      <th>values</th>\n",
       "      <th>context_relevancy_score</th>\n",
       "      <th>llm_model</th>\n",
       "      <th>collection_name</th>\n",
       "    </tr>\n",
       "  </thead>\n",
       "  <tbody>\n",
       "    <tr>\n",
       "      <th>0</th>\n",
       "      <td>1.000</td>\n",
       "      <td>292</td>\n",
       "      <td>Gemma Instruct</td>\n",
       "      <td>1024_100</td>\n",
       "    </tr>\n",
       "    <tr>\n",
       "      <th>1</th>\n",
       "      <td>0.500</td>\n",
       "      <td>10</td>\n",
       "      <td>Gemma Instruct</td>\n",
       "      <td>1024_100</td>\n",
       "    </tr>\n",
       "    <tr>\n",
       "      <th>2</th>\n",
       "      <td>0.875</td>\n",
       "      <td>5</td>\n",
       "      <td>Gemma Instruct</td>\n",
       "      <td>1024_100</td>\n",
       "    </tr>\n",
       "    <tr>\n",
       "      <th>3</th>\n",
       "      <td>0.250</td>\n",
       "      <td>5</td>\n",
       "      <td>Gemma Instruct</td>\n",
       "      <td>1024_100</td>\n",
       "    </tr>\n",
       "    <tr>\n",
       "      <th>4</th>\n",
       "      <td>0.750</td>\n",
       "      <td>3</td>\n",
       "      <td>Gemma Instruct</td>\n",
       "      <td>1024_100</td>\n",
       "    </tr>\n",
       "    <tr>\n",
       "      <th>0</th>\n",
       "      <td>1.000</td>\n",
       "      <td>297</td>\n",
       "      <td>Llama3 Instruct</td>\n",
       "      <td>1024_100</td>\n",
       "    </tr>\n",
       "    <tr>\n",
       "      <th>1</th>\n",
       "      <td>0.500</td>\n",
       "      <td>7</td>\n",
       "      <td>Llama3 Instruct</td>\n",
       "      <td>1024_100</td>\n",
       "    </tr>\n",
       "    <tr>\n",
       "      <th>2</th>\n",
       "      <td>0.875</td>\n",
       "      <td>4</td>\n",
       "      <td>Llama3 Instruct</td>\n",
       "      <td>1024_100</td>\n",
       "    </tr>\n",
       "    <tr>\n",
       "      <th>3</th>\n",
       "      <td>0.750</td>\n",
       "      <td>2</td>\n",
       "      <td>Llama3 Instruct</td>\n",
       "      <td>1024_100</td>\n",
       "    </tr>\n",
       "    <tr>\n",
       "      <th>4</th>\n",
       "      <td>0.625</td>\n",
       "      <td>2</td>\n",
       "      <td>Llama3 Instruct</td>\n",
       "      <td>1024_100</td>\n",
       "    </tr>\n",
       "    <tr>\n",
       "      <th>5</th>\n",
       "      <td>0.250</td>\n",
       "      <td>2</td>\n",
       "      <td>Llama3 Instruct</td>\n",
       "      <td>1024_100</td>\n",
       "    </tr>\n",
       "    <tr>\n",
       "      <th>6</th>\n",
       "      <td>0.950</td>\n",
       "      <td>1</td>\n",
       "      <td>Llama3 Instruct</td>\n",
       "      <td>1024_100</td>\n",
       "    </tr>\n",
       "    <tr>\n",
       "      <th>0</th>\n",
       "      <td>1.000</td>\n",
       "      <td>293</td>\n",
       "      <td>Mistral Instruct</td>\n",
       "      <td>1024_100</td>\n",
       "    </tr>\n",
       "    <tr>\n",
       "      <th>1</th>\n",
       "      <td>0.500</td>\n",
       "      <td>12</td>\n",
       "      <td>Mistral Instruct</td>\n",
       "      <td>1024_100</td>\n",
       "    </tr>\n",
       "    <tr>\n",
       "      <th>2</th>\n",
       "      <td>0.875</td>\n",
       "      <td>5</td>\n",
       "      <td>Mistral Instruct</td>\n",
       "      <td>1024_100</td>\n",
       "    </tr>\n",
       "    <tr>\n",
       "      <th>3</th>\n",
       "      <td>0.625</td>\n",
       "      <td>1</td>\n",
       "      <td>Mistral Instruct</td>\n",
       "      <td>1024_100</td>\n",
       "    </tr>\n",
       "    <tr>\n",
       "      <th>4</th>\n",
       "      <td>0.125</td>\n",
       "      <td>1</td>\n",
       "      <td>Mistral Instruct</td>\n",
       "      <td>1024_100</td>\n",
       "    </tr>\n",
       "    <tr>\n",
       "      <th>5</th>\n",
       "      <td>0.000</td>\n",
       "      <td>1</td>\n",
       "      <td>Mistral Instruct</td>\n",
       "      <td>1024_100</td>\n",
       "    </tr>\n",
       "    <tr>\n",
       "      <th>6</th>\n",
       "      <td>0.250</td>\n",
       "      <td>1</td>\n",
       "      <td>Mistral Instruct</td>\n",
       "      <td>1024_100</td>\n",
       "    </tr>\n",
       "    <tr>\n",
       "      <th>7</th>\n",
       "      <td>0.750</td>\n",
       "      <td>1</td>\n",
       "      <td>Mistral Instruct</td>\n",
       "      <td>1024_100</td>\n",
       "    </tr>\n",
       "  </tbody>\n",
       "</table>\n",
       "</div>"
      ]
     },
     "execution_count": 52,
     "metadata": {},
     "output_type": "execute_result"
    }
   ],
   "execution_count": 52
  },
  {
   "metadata": {
    "ExecuteTime": {
     "end_time": "2024-06-20T20:41:18.365181Z",
     "start_time": "2024-06-20T20:41:18.362233Z"
    }
   },
   "cell_type": "code",
   "source": [
    "col_b_metric_a_values_a['collection_name'] = '2048_200'\n",
    "col_b_metric_a_values_b['collection_name'] = '2048_200'\n",
    "col_b_metric_a_values_c['collection_name'] = '2048_200'"
   ],
   "id": "dea4842b63e9e9db",
   "outputs": [],
   "execution_count": 49
  },
  {
   "metadata": {
    "ExecuteTime": {
     "end_time": "2024-06-20T20:42:21.146038Z",
     "start_time": "2024-06-20T20:42:21.139938Z"
    }
   },
   "cell_type": "code",
   "source": [
    "col_b_metric_a_values_combined = pd.concat([col_b_metric_a_values_a, col_b_metric_a_values_b, col_b_metric_a_values_c])\n",
    "col_b_metric_a_values_combined"
   ],
   "id": "7b1c21e9386cedf2",
   "outputs": [
    {
     "data": {
      "text/plain": [
       "   values  context_relevancy_score         llm_model collection_name\n",
       "0   1.000                      292    Gemma Instruct        2048_200\n",
       "1   0.500                       10    Gemma Instruct        2048_200\n",
       "2   0.875                        5    Gemma Instruct        2048_200\n",
       "3   0.250                        5    Gemma Instruct        2048_200\n",
       "4   0.750                        3    Gemma Instruct        2048_200\n",
       "0   1.000                      297   Llama3 Instruct        2048_200\n",
       "1   0.500                        7   Llama3 Instruct        2048_200\n",
       "2   0.875                        4   Llama3 Instruct        2048_200\n",
       "3   0.750                        2   Llama3 Instruct        2048_200\n",
       "4   0.625                        2   Llama3 Instruct        2048_200\n",
       "5   0.250                        2   Llama3 Instruct        2048_200\n",
       "6   0.950                        1   Llama3 Instruct        2048_200\n",
       "0   1.000                      293  Mistral Instruct        2048_200\n",
       "1   0.500                       12  Mistral Instruct        2048_200\n",
       "2   0.875                        5  Mistral Instruct        2048_200\n",
       "3   0.625                        1  Mistral Instruct        2048_200\n",
       "4   0.125                        1  Mistral Instruct        2048_200\n",
       "5   0.000                        1  Mistral Instruct        2048_200\n",
       "6   0.250                        1  Mistral Instruct        2048_200\n",
       "7   0.750                        1  Mistral Instruct        2048_200"
      ],
      "text/html": [
       "<div>\n",
       "<style scoped>\n",
       "    .dataframe tbody tr th:only-of-type {\n",
       "        vertical-align: middle;\n",
       "    }\n",
       "\n",
       "    .dataframe tbody tr th {\n",
       "        vertical-align: top;\n",
       "    }\n",
       "\n",
       "    .dataframe thead th {\n",
       "        text-align: right;\n",
       "    }\n",
       "</style>\n",
       "<table border=\"1\" class=\"dataframe\">\n",
       "  <thead>\n",
       "    <tr style=\"text-align: right;\">\n",
       "      <th></th>\n",
       "      <th>values</th>\n",
       "      <th>context_relevancy_score</th>\n",
       "      <th>llm_model</th>\n",
       "      <th>collection_name</th>\n",
       "    </tr>\n",
       "  </thead>\n",
       "  <tbody>\n",
       "    <tr>\n",
       "      <th>0</th>\n",
       "      <td>1.000</td>\n",
       "      <td>292</td>\n",
       "      <td>Gemma Instruct</td>\n",
       "      <td>2048_200</td>\n",
       "    </tr>\n",
       "    <tr>\n",
       "      <th>1</th>\n",
       "      <td>0.500</td>\n",
       "      <td>10</td>\n",
       "      <td>Gemma Instruct</td>\n",
       "      <td>2048_200</td>\n",
       "    </tr>\n",
       "    <tr>\n",
       "      <th>2</th>\n",
       "      <td>0.875</td>\n",
       "      <td>5</td>\n",
       "      <td>Gemma Instruct</td>\n",
       "      <td>2048_200</td>\n",
       "    </tr>\n",
       "    <tr>\n",
       "      <th>3</th>\n",
       "      <td>0.250</td>\n",
       "      <td>5</td>\n",
       "      <td>Gemma Instruct</td>\n",
       "      <td>2048_200</td>\n",
       "    </tr>\n",
       "    <tr>\n",
       "      <th>4</th>\n",
       "      <td>0.750</td>\n",
       "      <td>3</td>\n",
       "      <td>Gemma Instruct</td>\n",
       "      <td>2048_200</td>\n",
       "    </tr>\n",
       "    <tr>\n",
       "      <th>0</th>\n",
       "      <td>1.000</td>\n",
       "      <td>297</td>\n",
       "      <td>Llama3 Instruct</td>\n",
       "      <td>2048_200</td>\n",
       "    </tr>\n",
       "    <tr>\n",
       "      <th>1</th>\n",
       "      <td>0.500</td>\n",
       "      <td>7</td>\n",
       "      <td>Llama3 Instruct</td>\n",
       "      <td>2048_200</td>\n",
       "    </tr>\n",
       "    <tr>\n",
       "      <th>2</th>\n",
       "      <td>0.875</td>\n",
       "      <td>4</td>\n",
       "      <td>Llama3 Instruct</td>\n",
       "      <td>2048_200</td>\n",
       "    </tr>\n",
       "    <tr>\n",
       "      <th>3</th>\n",
       "      <td>0.750</td>\n",
       "      <td>2</td>\n",
       "      <td>Llama3 Instruct</td>\n",
       "      <td>2048_200</td>\n",
       "    </tr>\n",
       "    <tr>\n",
       "      <th>4</th>\n",
       "      <td>0.625</td>\n",
       "      <td>2</td>\n",
       "      <td>Llama3 Instruct</td>\n",
       "      <td>2048_200</td>\n",
       "    </tr>\n",
       "    <tr>\n",
       "      <th>5</th>\n",
       "      <td>0.250</td>\n",
       "      <td>2</td>\n",
       "      <td>Llama3 Instruct</td>\n",
       "      <td>2048_200</td>\n",
       "    </tr>\n",
       "    <tr>\n",
       "      <th>6</th>\n",
       "      <td>0.950</td>\n",
       "      <td>1</td>\n",
       "      <td>Llama3 Instruct</td>\n",
       "      <td>2048_200</td>\n",
       "    </tr>\n",
       "    <tr>\n",
       "      <th>0</th>\n",
       "      <td>1.000</td>\n",
       "      <td>293</td>\n",
       "      <td>Mistral Instruct</td>\n",
       "      <td>2048_200</td>\n",
       "    </tr>\n",
       "    <tr>\n",
       "      <th>1</th>\n",
       "      <td>0.500</td>\n",
       "      <td>12</td>\n",
       "      <td>Mistral Instruct</td>\n",
       "      <td>2048_200</td>\n",
       "    </tr>\n",
       "    <tr>\n",
       "      <th>2</th>\n",
       "      <td>0.875</td>\n",
       "      <td>5</td>\n",
       "      <td>Mistral Instruct</td>\n",
       "      <td>2048_200</td>\n",
       "    </tr>\n",
       "    <tr>\n",
       "      <th>3</th>\n",
       "      <td>0.625</td>\n",
       "      <td>1</td>\n",
       "      <td>Mistral Instruct</td>\n",
       "      <td>2048_200</td>\n",
       "    </tr>\n",
       "    <tr>\n",
       "      <th>4</th>\n",
       "      <td>0.125</td>\n",
       "      <td>1</td>\n",
       "      <td>Mistral Instruct</td>\n",
       "      <td>2048_200</td>\n",
       "    </tr>\n",
       "    <tr>\n",
       "      <th>5</th>\n",
       "      <td>0.000</td>\n",
       "      <td>1</td>\n",
       "      <td>Mistral Instruct</td>\n",
       "      <td>2048_200</td>\n",
       "    </tr>\n",
       "    <tr>\n",
       "      <th>6</th>\n",
       "      <td>0.250</td>\n",
       "      <td>1</td>\n",
       "      <td>Mistral Instruct</td>\n",
       "      <td>2048_200</td>\n",
       "    </tr>\n",
       "    <tr>\n",
       "      <th>7</th>\n",
       "      <td>0.750</td>\n",
       "      <td>1</td>\n",
       "      <td>Mistral Instruct</td>\n",
       "      <td>2048_200</td>\n",
       "    </tr>\n",
       "  </tbody>\n",
       "</table>\n",
       "</div>"
      ]
     },
     "execution_count": 53,
     "metadata": {},
     "output_type": "execute_result"
    }
   ],
   "execution_count": 53
  },
  {
   "metadata": {
    "ExecuteTime": {
     "end_time": "2024-06-20T20:42:53.142955Z",
     "start_time": "2024-06-20T20:42:53.137192Z"
    }
   },
   "cell_type": "code",
   "source": [
    "cols_metric_a_values_combined_collections = pd.concat([col_a_metric_a_values_combined, col_b_metric_a_values_combined])\n",
    "cols_metric_a_values_combined_collections"
   ],
   "id": "b48fafca6298ebc4",
   "outputs": [
    {
     "data": {
      "text/plain": [
       "   values  context_relevancy_score         llm_model collection_name\n",
       "0   1.000                      292    Gemma Instruct        1024_100\n",
       "1   0.500                       10    Gemma Instruct        1024_100\n",
       "2   0.875                        5    Gemma Instruct        1024_100\n",
       "3   0.250                        5    Gemma Instruct        1024_100\n",
       "4   0.750                        3    Gemma Instruct        1024_100\n",
       "0   1.000                      297   Llama3 Instruct        1024_100\n",
       "1   0.500                        7   Llama3 Instruct        1024_100\n",
       "2   0.875                        4   Llama3 Instruct        1024_100\n",
       "3   0.750                        2   Llama3 Instruct        1024_100\n",
       "4   0.625                        2   Llama3 Instruct        1024_100\n",
       "5   0.250                        2   Llama3 Instruct        1024_100\n",
       "6   0.950                        1   Llama3 Instruct        1024_100\n",
       "0   1.000                      293  Mistral Instruct        1024_100\n",
       "1   0.500                       12  Mistral Instruct        1024_100\n",
       "2   0.875                        5  Mistral Instruct        1024_100\n",
       "3   0.625                        1  Mistral Instruct        1024_100\n",
       "4   0.125                        1  Mistral Instruct        1024_100\n",
       "5   0.000                        1  Mistral Instruct        1024_100\n",
       "6   0.250                        1  Mistral Instruct        1024_100\n",
       "7   0.750                        1  Mistral Instruct        1024_100\n",
       "0   1.000                      292    Gemma Instruct        2048_200\n",
       "1   0.500                       10    Gemma Instruct        2048_200\n",
       "2   0.875                        5    Gemma Instruct        2048_200\n",
       "3   0.250                        5    Gemma Instruct        2048_200\n",
       "4   0.750                        3    Gemma Instruct        2048_200\n",
       "0   1.000                      297   Llama3 Instruct        2048_200\n",
       "1   0.500                        7   Llama3 Instruct        2048_200\n",
       "2   0.875                        4   Llama3 Instruct        2048_200\n",
       "3   0.750                        2   Llama3 Instruct        2048_200\n",
       "4   0.625                        2   Llama3 Instruct        2048_200\n",
       "5   0.250                        2   Llama3 Instruct        2048_200\n",
       "6   0.950                        1   Llama3 Instruct        2048_200\n",
       "0   1.000                      293  Mistral Instruct        2048_200\n",
       "1   0.500                       12  Mistral Instruct        2048_200\n",
       "2   0.875                        5  Mistral Instruct        2048_200\n",
       "3   0.625                        1  Mistral Instruct        2048_200\n",
       "4   0.125                        1  Mistral Instruct        2048_200\n",
       "5   0.000                        1  Mistral Instruct        2048_200\n",
       "6   0.250                        1  Mistral Instruct        2048_200\n",
       "7   0.750                        1  Mistral Instruct        2048_200"
      ],
      "text/html": [
       "<div>\n",
       "<style scoped>\n",
       "    .dataframe tbody tr th:only-of-type {\n",
       "        vertical-align: middle;\n",
       "    }\n",
       "\n",
       "    .dataframe tbody tr th {\n",
       "        vertical-align: top;\n",
       "    }\n",
       "\n",
       "    .dataframe thead th {\n",
       "        text-align: right;\n",
       "    }\n",
       "</style>\n",
       "<table border=\"1\" class=\"dataframe\">\n",
       "  <thead>\n",
       "    <tr style=\"text-align: right;\">\n",
       "      <th></th>\n",
       "      <th>values</th>\n",
       "      <th>context_relevancy_score</th>\n",
       "      <th>llm_model</th>\n",
       "      <th>collection_name</th>\n",
       "    </tr>\n",
       "  </thead>\n",
       "  <tbody>\n",
       "    <tr>\n",
       "      <th>0</th>\n",
       "      <td>1.000</td>\n",
       "      <td>292</td>\n",
       "      <td>Gemma Instruct</td>\n",
       "      <td>1024_100</td>\n",
       "    </tr>\n",
       "    <tr>\n",
       "      <th>1</th>\n",
       "      <td>0.500</td>\n",
       "      <td>10</td>\n",
       "      <td>Gemma Instruct</td>\n",
       "      <td>1024_100</td>\n",
       "    </tr>\n",
       "    <tr>\n",
       "      <th>2</th>\n",
       "      <td>0.875</td>\n",
       "      <td>5</td>\n",
       "      <td>Gemma Instruct</td>\n",
       "      <td>1024_100</td>\n",
       "    </tr>\n",
       "    <tr>\n",
       "      <th>3</th>\n",
       "      <td>0.250</td>\n",
       "      <td>5</td>\n",
       "      <td>Gemma Instruct</td>\n",
       "      <td>1024_100</td>\n",
       "    </tr>\n",
       "    <tr>\n",
       "      <th>4</th>\n",
       "      <td>0.750</td>\n",
       "      <td>3</td>\n",
       "      <td>Gemma Instruct</td>\n",
       "      <td>1024_100</td>\n",
       "    </tr>\n",
       "    <tr>\n",
       "      <th>0</th>\n",
       "      <td>1.000</td>\n",
       "      <td>297</td>\n",
       "      <td>Llama3 Instruct</td>\n",
       "      <td>1024_100</td>\n",
       "    </tr>\n",
       "    <tr>\n",
       "      <th>1</th>\n",
       "      <td>0.500</td>\n",
       "      <td>7</td>\n",
       "      <td>Llama3 Instruct</td>\n",
       "      <td>1024_100</td>\n",
       "    </tr>\n",
       "    <tr>\n",
       "      <th>2</th>\n",
       "      <td>0.875</td>\n",
       "      <td>4</td>\n",
       "      <td>Llama3 Instruct</td>\n",
       "      <td>1024_100</td>\n",
       "    </tr>\n",
       "    <tr>\n",
       "      <th>3</th>\n",
       "      <td>0.750</td>\n",
       "      <td>2</td>\n",
       "      <td>Llama3 Instruct</td>\n",
       "      <td>1024_100</td>\n",
       "    </tr>\n",
       "    <tr>\n",
       "      <th>4</th>\n",
       "      <td>0.625</td>\n",
       "      <td>2</td>\n",
       "      <td>Llama3 Instruct</td>\n",
       "      <td>1024_100</td>\n",
       "    </tr>\n",
       "    <tr>\n",
       "      <th>5</th>\n",
       "      <td>0.250</td>\n",
       "      <td>2</td>\n",
       "      <td>Llama3 Instruct</td>\n",
       "      <td>1024_100</td>\n",
       "    </tr>\n",
       "    <tr>\n",
       "      <th>6</th>\n",
       "      <td>0.950</td>\n",
       "      <td>1</td>\n",
       "      <td>Llama3 Instruct</td>\n",
       "      <td>1024_100</td>\n",
       "    </tr>\n",
       "    <tr>\n",
       "      <th>0</th>\n",
       "      <td>1.000</td>\n",
       "      <td>293</td>\n",
       "      <td>Mistral Instruct</td>\n",
       "      <td>1024_100</td>\n",
       "    </tr>\n",
       "    <tr>\n",
       "      <th>1</th>\n",
       "      <td>0.500</td>\n",
       "      <td>12</td>\n",
       "      <td>Mistral Instruct</td>\n",
       "      <td>1024_100</td>\n",
       "    </tr>\n",
       "    <tr>\n",
       "      <th>2</th>\n",
       "      <td>0.875</td>\n",
       "      <td>5</td>\n",
       "      <td>Mistral Instruct</td>\n",
       "      <td>1024_100</td>\n",
       "    </tr>\n",
       "    <tr>\n",
       "      <th>3</th>\n",
       "      <td>0.625</td>\n",
       "      <td>1</td>\n",
       "      <td>Mistral Instruct</td>\n",
       "      <td>1024_100</td>\n",
       "    </tr>\n",
       "    <tr>\n",
       "      <th>4</th>\n",
       "      <td>0.125</td>\n",
       "      <td>1</td>\n",
       "      <td>Mistral Instruct</td>\n",
       "      <td>1024_100</td>\n",
       "    </tr>\n",
       "    <tr>\n",
       "      <th>5</th>\n",
       "      <td>0.000</td>\n",
       "      <td>1</td>\n",
       "      <td>Mistral Instruct</td>\n",
       "      <td>1024_100</td>\n",
       "    </tr>\n",
       "    <tr>\n",
       "      <th>6</th>\n",
       "      <td>0.250</td>\n",
       "      <td>1</td>\n",
       "      <td>Mistral Instruct</td>\n",
       "      <td>1024_100</td>\n",
       "    </tr>\n",
       "    <tr>\n",
       "      <th>7</th>\n",
       "      <td>0.750</td>\n",
       "      <td>1</td>\n",
       "      <td>Mistral Instruct</td>\n",
       "      <td>1024_100</td>\n",
       "    </tr>\n",
       "    <tr>\n",
       "      <th>0</th>\n",
       "      <td>1.000</td>\n",
       "      <td>292</td>\n",
       "      <td>Gemma Instruct</td>\n",
       "      <td>2048_200</td>\n",
       "    </tr>\n",
       "    <tr>\n",
       "      <th>1</th>\n",
       "      <td>0.500</td>\n",
       "      <td>10</td>\n",
       "      <td>Gemma Instruct</td>\n",
       "      <td>2048_200</td>\n",
       "    </tr>\n",
       "    <tr>\n",
       "      <th>2</th>\n",
       "      <td>0.875</td>\n",
       "      <td>5</td>\n",
       "      <td>Gemma Instruct</td>\n",
       "      <td>2048_200</td>\n",
       "    </tr>\n",
       "    <tr>\n",
       "      <th>3</th>\n",
       "      <td>0.250</td>\n",
       "      <td>5</td>\n",
       "      <td>Gemma Instruct</td>\n",
       "      <td>2048_200</td>\n",
       "    </tr>\n",
       "    <tr>\n",
       "      <th>4</th>\n",
       "      <td>0.750</td>\n",
       "      <td>3</td>\n",
       "      <td>Gemma Instruct</td>\n",
       "      <td>2048_200</td>\n",
       "    </tr>\n",
       "    <tr>\n",
       "      <th>0</th>\n",
       "      <td>1.000</td>\n",
       "      <td>297</td>\n",
       "      <td>Llama3 Instruct</td>\n",
       "      <td>2048_200</td>\n",
       "    </tr>\n",
       "    <tr>\n",
       "      <th>1</th>\n",
       "      <td>0.500</td>\n",
       "      <td>7</td>\n",
       "      <td>Llama3 Instruct</td>\n",
       "      <td>2048_200</td>\n",
       "    </tr>\n",
       "    <tr>\n",
       "      <th>2</th>\n",
       "      <td>0.875</td>\n",
       "      <td>4</td>\n",
       "      <td>Llama3 Instruct</td>\n",
       "      <td>2048_200</td>\n",
       "    </tr>\n",
       "    <tr>\n",
       "      <th>3</th>\n",
       "      <td>0.750</td>\n",
       "      <td>2</td>\n",
       "      <td>Llama3 Instruct</td>\n",
       "      <td>2048_200</td>\n",
       "    </tr>\n",
       "    <tr>\n",
       "      <th>4</th>\n",
       "      <td>0.625</td>\n",
       "      <td>2</td>\n",
       "      <td>Llama3 Instruct</td>\n",
       "      <td>2048_200</td>\n",
       "    </tr>\n",
       "    <tr>\n",
       "      <th>5</th>\n",
       "      <td>0.250</td>\n",
       "      <td>2</td>\n",
       "      <td>Llama3 Instruct</td>\n",
       "      <td>2048_200</td>\n",
       "    </tr>\n",
       "    <tr>\n",
       "      <th>6</th>\n",
       "      <td>0.950</td>\n",
       "      <td>1</td>\n",
       "      <td>Llama3 Instruct</td>\n",
       "      <td>2048_200</td>\n",
       "    </tr>\n",
       "    <tr>\n",
       "      <th>0</th>\n",
       "      <td>1.000</td>\n",
       "      <td>293</td>\n",
       "      <td>Mistral Instruct</td>\n",
       "      <td>2048_200</td>\n",
       "    </tr>\n",
       "    <tr>\n",
       "      <th>1</th>\n",
       "      <td>0.500</td>\n",
       "      <td>12</td>\n",
       "      <td>Mistral Instruct</td>\n",
       "      <td>2048_200</td>\n",
       "    </tr>\n",
       "    <tr>\n",
       "      <th>2</th>\n",
       "      <td>0.875</td>\n",
       "      <td>5</td>\n",
       "      <td>Mistral Instruct</td>\n",
       "      <td>2048_200</td>\n",
       "    </tr>\n",
       "    <tr>\n",
       "      <th>3</th>\n",
       "      <td>0.625</td>\n",
       "      <td>1</td>\n",
       "      <td>Mistral Instruct</td>\n",
       "      <td>2048_200</td>\n",
       "    </tr>\n",
       "    <tr>\n",
       "      <th>4</th>\n",
       "      <td>0.125</td>\n",
       "      <td>1</td>\n",
       "      <td>Mistral Instruct</td>\n",
       "      <td>2048_200</td>\n",
       "    </tr>\n",
       "    <tr>\n",
       "      <th>5</th>\n",
       "      <td>0.000</td>\n",
       "      <td>1</td>\n",
       "      <td>Mistral Instruct</td>\n",
       "      <td>2048_200</td>\n",
       "    </tr>\n",
       "    <tr>\n",
       "      <th>6</th>\n",
       "      <td>0.250</td>\n",
       "      <td>1</td>\n",
       "      <td>Mistral Instruct</td>\n",
       "      <td>2048_200</td>\n",
       "    </tr>\n",
       "    <tr>\n",
       "      <th>7</th>\n",
       "      <td>0.750</td>\n",
       "      <td>1</td>\n",
       "      <td>Mistral Instruct</td>\n",
       "      <td>2048_200</td>\n",
       "    </tr>\n",
       "  </tbody>\n",
       "</table>\n",
       "</div>"
      ]
     },
     "execution_count": 55,
     "metadata": {},
     "output_type": "execute_result"
    }
   ],
   "execution_count": 55
  },
  {
   "metadata": {
    "ExecuteTime": {
     "end_time": "2024-06-20T20:50:09.839148Z",
     "start_time": "2024-06-20T20:50:09.545658Z"
    }
   },
   "cell_type": "code",
   "source": [
    "metric_a_combined_plot = cols_metric_a_values_combined_collections.plot(\n",
    "    x='values',\n",
    "    y=metric_a,\n",
    "    hue='llm_model',\n",
    "    kind='bar',\n",
    "    figsize=(10, 6),\n",
    "    color=colors,\n",
    "    stacked=True,\n",
    "    legend='reverse'\n",
    ")"
   ],
   "id": "c9dde70e4904d806",
   "outputs": [
    {
     "ename": "AttributeError",
     "evalue": "Rectangle.set() got an unexpected keyword argument 'hue'",
     "output_type": "error",
     "traceback": [
      "\u001B[0;31m---------------------------------------------------------------------------\u001B[0m",
      "\u001B[0;31mAttributeError\u001B[0m                            Traceback (most recent call last)",
      "Cell \u001B[0;32mIn[69], line 1\u001B[0m\n\u001B[0;32m----> 1\u001B[0m metric_a_combined_plot \u001B[38;5;241m=\u001B[39m \u001B[43mcols_metric_a_values_combined_collections\u001B[49m\u001B[38;5;241;43m.\u001B[39;49m\u001B[43mplot\u001B[49m\u001B[43m(\u001B[49m\n\u001B[1;32m      2\u001B[0m \u001B[43m    \u001B[49m\u001B[43mx\u001B[49m\u001B[38;5;241;43m=\u001B[39;49m\u001B[38;5;124;43m'\u001B[39;49m\u001B[38;5;124;43mvalues\u001B[39;49m\u001B[38;5;124;43m'\u001B[39;49m\u001B[43m,\u001B[49m\n\u001B[1;32m      3\u001B[0m \u001B[43m    \u001B[49m\u001B[43my\u001B[49m\u001B[38;5;241;43m=\u001B[39;49m\u001B[43mmetric_a\u001B[49m\u001B[43m,\u001B[49m\n\u001B[1;32m      4\u001B[0m \u001B[43m    \u001B[49m\u001B[43mhue\u001B[49m\u001B[38;5;241;43m=\u001B[39;49m\u001B[38;5;124;43m'\u001B[39;49m\u001B[38;5;124;43mllm_model\u001B[39;49m\u001B[38;5;124;43m'\u001B[39;49m\u001B[43m,\u001B[49m\n\u001B[1;32m      5\u001B[0m \u001B[43m    \u001B[49m\u001B[43mkind\u001B[49m\u001B[38;5;241;43m=\u001B[39;49m\u001B[38;5;124;43m'\u001B[39;49m\u001B[38;5;124;43mbar\u001B[39;49m\u001B[38;5;124;43m'\u001B[39;49m\u001B[43m,\u001B[49m\n\u001B[1;32m      6\u001B[0m \u001B[43m    \u001B[49m\u001B[43mfigsize\u001B[49m\u001B[38;5;241;43m=\u001B[39;49m\u001B[43m(\u001B[49m\u001B[38;5;241;43m10\u001B[39;49m\u001B[43m,\u001B[49m\u001B[43m \u001B[49m\u001B[38;5;241;43m6\u001B[39;49m\u001B[43m)\u001B[49m\u001B[43m,\u001B[49m\n\u001B[1;32m      7\u001B[0m \u001B[43m    \u001B[49m\u001B[43mcolor\u001B[49m\u001B[38;5;241;43m=\u001B[39;49m\u001B[43mcolors\u001B[49m\u001B[43m,\u001B[49m\n\u001B[1;32m      8\u001B[0m \u001B[43m    \u001B[49m\u001B[43mstacked\u001B[49m\u001B[38;5;241;43m=\u001B[39;49m\u001B[38;5;28;43;01mTrue\u001B[39;49;00m\u001B[43m,\u001B[49m\n\u001B[1;32m      9\u001B[0m \u001B[43m    \u001B[49m\u001B[43mlegend\u001B[49m\u001B[38;5;241;43m=\u001B[39;49m\u001B[38;5;124;43m'\u001B[39;49m\u001B[38;5;124;43mreverse\u001B[39;49m\u001B[38;5;124;43m'\u001B[39;49m\n\u001B[1;32m     10\u001B[0m \u001B[43m)\u001B[49m\n",
      "File \u001B[0;32m/opt/miniconda3/envs/thesis_llm/lib/python3.10/site-packages/pandas/plotting/_core.py:1030\u001B[0m, in \u001B[0;36mPlotAccessor.__call__\u001B[0;34m(self, *args, **kwargs)\u001B[0m\n\u001B[1;32m   1027\u001B[0m             label_name \u001B[38;5;241m=\u001B[39m label_kw \u001B[38;5;129;01mor\u001B[39;00m data\u001B[38;5;241m.\u001B[39mcolumns\n\u001B[1;32m   1028\u001B[0m             data\u001B[38;5;241m.\u001B[39mcolumns \u001B[38;5;241m=\u001B[39m label_name\n\u001B[0;32m-> 1030\u001B[0m \u001B[38;5;28;01mreturn\u001B[39;00m \u001B[43mplot_backend\u001B[49m\u001B[38;5;241;43m.\u001B[39;49m\u001B[43mplot\u001B[49m\u001B[43m(\u001B[49m\u001B[43mdata\u001B[49m\u001B[43m,\u001B[49m\u001B[43m \u001B[49m\u001B[43mkind\u001B[49m\u001B[38;5;241;43m=\u001B[39;49m\u001B[43mkind\u001B[49m\u001B[43m,\u001B[49m\u001B[43m \u001B[49m\u001B[38;5;241;43m*\u001B[39;49m\u001B[38;5;241;43m*\u001B[39;49m\u001B[43mkwargs\u001B[49m\u001B[43m)\u001B[49m\n",
      "File \u001B[0;32m/opt/miniconda3/envs/thesis_llm/lib/python3.10/site-packages/pandas/plotting/_matplotlib/__init__.py:71\u001B[0m, in \u001B[0;36mplot\u001B[0;34m(data, kind, **kwargs)\u001B[0m\n\u001B[1;32m     69\u001B[0m         kwargs[\u001B[38;5;124m\"\u001B[39m\u001B[38;5;124max\u001B[39m\u001B[38;5;124m\"\u001B[39m] \u001B[38;5;241m=\u001B[39m \u001B[38;5;28mgetattr\u001B[39m(ax, \u001B[38;5;124m\"\u001B[39m\u001B[38;5;124mleft_ax\u001B[39m\u001B[38;5;124m\"\u001B[39m, ax)\n\u001B[1;32m     70\u001B[0m plot_obj \u001B[38;5;241m=\u001B[39m PLOT_CLASSES[kind](data, \u001B[38;5;241m*\u001B[39m\u001B[38;5;241m*\u001B[39mkwargs)\n\u001B[0;32m---> 71\u001B[0m \u001B[43mplot_obj\u001B[49m\u001B[38;5;241;43m.\u001B[39;49m\u001B[43mgenerate\u001B[49m\u001B[43m(\u001B[49m\u001B[43m)\u001B[49m\n\u001B[1;32m     72\u001B[0m plot_obj\u001B[38;5;241m.\u001B[39mdraw()\n\u001B[1;32m     73\u001B[0m \u001B[38;5;28;01mreturn\u001B[39;00m plot_obj\u001B[38;5;241m.\u001B[39mresult\n",
      "File \u001B[0;32m/opt/miniconda3/envs/thesis_llm/lib/python3.10/site-packages/pandas/plotting/_matplotlib/core.py:501\u001B[0m, in \u001B[0;36mMPLPlot.generate\u001B[0;34m(self)\u001B[0m\n\u001B[1;32m    499\u001B[0m \u001B[38;5;28mself\u001B[39m\u001B[38;5;241m.\u001B[39m_compute_plot_data()\n\u001B[1;32m    500\u001B[0m fig \u001B[38;5;241m=\u001B[39m \u001B[38;5;28mself\u001B[39m\u001B[38;5;241m.\u001B[39mfig\n\u001B[0;32m--> 501\u001B[0m \u001B[38;5;28;43mself\u001B[39;49m\u001B[38;5;241;43m.\u001B[39;49m\u001B[43m_make_plot\u001B[49m\u001B[43m(\u001B[49m\u001B[43mfig\u001B[49m\u001B[43m)\u001B[49m\n\u001B[1;32m    502\u001B[0m \u001B[38;5;28mself\u001B[39m\u001B[38;5;241m.\u001B[39m_add_table()\n\u001B[1;32m    503\u001B[0m \u001B[38;5;28mself\u001B[39m\u001B[38;5;241m.\u001B[39m_make_legend()\n",
      "File \u001B[0;32m/opt/miniconda3/envs/thesis_llm/lib/python3.10/site-packages/pandas/plotting/_matplotlib/core.py:1934\u001B[0m, in \u001B[0;36mBarPlot._make_plot\u001B[0;34m(self, fig)\u001B[0m\n\u001B[1;32m   1932\u001B[0m start \u001B[38;5;241m=\u001B[39m np\u001B[38;5;241m.\u001B[39mwhere(mask, pos_prior, neg_prior) \u001B[38;5;241m+\u001B[39m \u001B[38;5;28mself\u001B[39m\u001B[38;5;241m.\u001B[39m_start_base\n\u001B[1;32m   1933\u001B[0m w \u001B[38;5;241m=\u001B[39m \u001B[38;5;28mself\u001B[39m\u001B[38;5;241m.\u001B[39mbar_width \u001B[38;5;241m/\u001B[39m \u001B[38;5;241m2\u001B[39m\n\u001B[0;32m-> 1934\u001B[0m rect \u001B[38;5;241m=\u001B[39m \u001B[38;5;28;43mself\u001B[39;49m\u001B[38;5;241;43m.\u001B[39;49m\u001B[43m_plot\u001B[49m\u001B[43m(\u001B[49m\n\u001B[1;32m   1935\u001B[0m \u001B[43m    \u001B[49m\u001B[43max\u001B[49m\u001B[43m,\u001B[49m\n\u001B[1;32m   1936\u001B[0m \u001B[43m    \u001B[49m\u001B[38;5;28;43mself\u001B[39;49m\u001B[38;5;241;43m.\u001B[39;49m\u001B[43max_pos\u001B[49m\u001B[43m \u001B[49m\u001B[38;5;241;43m+\u001B[39;49m\u001B[43m \u001B[49m\u001B[43mw\u001B[49m\u001B[43m,\u001B[49m\n\u001B[1;32m   1937\u001B[0m \u001B[43m    \u001B[49m\u001B[43my\u001B[49m\u001B[43m,\u001B[49m\n\u001B[1;32m   1938\u001B[0m \u001B[43m    \u001B[49m\u001B[38;5;28;43mself\u001B[39;49m\u001B[38;5;241;43m.\u001B[39;49m\u001B[43mbar_width\u001B[49m\u001B[43m,\u001B[49m\n\u001B[1;32m   1939\u001B[0m \u001B[43m    \u001B[49m\u001B[43mstart\u001B[49m\u001B[38;5;241;43m=\u001B[39;49m\u001B[43mstart\u001B[49m\u001B[43m,\u001B[49m\n\u001B[1;32m   1940\u001B[0m \u001B[43m    \u001B[49m\u001B[43mlabel\u001B[49m\u001B[38;5;241;43m=\u001B[39;49m\u001B[43mlabel\u001B[49m\u001B[43m,\u001B[49m\n\u001B[1;32m   1941\u001B[0m \u001B[43m    \u001B[49m\u001B[43mlog\u001B[49m\u001B[38;5;241;43m=\u001B[39;49m\u001B[38;5;28;43mself\u001B[39;49m\u001B[38;5;241;43m.\u001B[39;49m\u001B[43mlog\u001B[49m\u001B[43m,\u001B[49m\n\u001B[1;32m   1942\u001B[0m \u001B[43m    \u001B[49m\u001B[38;5;241;43m*\u001B[39;49m\u001B[38;5;241;43m*\u001B[39;49m\u001B[43mkwds\u001B[49m\u001B[43m,\u001B[49m\n\u001B[1;32m   1943\u001B[0m \u001B[43m\u001B[49m\u001B[43m)\u001B[49m\n\u001B[1;32m   1944\u001B[0m pos_prior \u001B[38;5;241m=\u001B[39m pos_prior \u001B[38;5;241m+\u001B[39m np\u001B[38;5;241m.\u001B[39mwhere(mask, y, \u001B[38;5;241m0\u001B[39m)\n\u001B[1;32m   1945\u001B[0m neg_prior \u001B[38;5;241m=\u001B[39m neg_prior \u001B[38;5;241m+\u001B[39m np\u001B[38;5;241m.\u001B[39mwhere(mask, \u001B[38;5;241m0\u001B[39m, y)\n",
      "File \u001B[0;32m/opt/miniconda3/envs/thesis_llm/lib/python3.10/site-packages/pandas/plotting/_matplotlib/core.py:1878\u001B[0m, in \u001B[0;36mBarPlot._plot\u001B[0;34m(cls, ax, x, y, w, start, log, **kwds)\u001B[0m\n\u001B[1;32m   1867\u001B[0m \u001B[38;5;129m@classmethod\u001B[39m\n\u001B[1;32m   1868\u001B[0m \u001B[38;5;28;01mdef\u001B[39;00m \u001B[38;5;21m_plot\u001B[39m(  \u001B[38;5;66;03m# type: ignore[override]\u001B[39;00m\n\u001B[1;32m   1869\u001B[0m     \u001B[38;5;28mcls\u001B[39m,\n\u001B[0;32m   (...)\u001B[0m\n\u001B[1;32m   1876\u001B[0m     \u001B[38;5;241m*\u001B[39m\u001B[38;5;241m*\u001B[39mkwds,\n\u001B[1;32m   1877\u001B[0m ):\n\u001B[0;32m-> 1878\u001B[0m     \u001B[38;5;28;01mreturn\u001B[39;00m \u001B[43max\u001B[49m\u001B[38;5;241;43m.\u001B[39;49m\u001B[43mbar\u001B[49m\u001B[43m(\u001B[49m\u001B[43mx\u001B[49m\u001B[43m,\u001B[49m\u001B[43m \u001B[49m\u001B[43my\u001B[49m\u001B[43m,\u001B[49m\u001B[43m \u001B[49m\u001B[43mw\u001B[49m\u001B[43m,\u001B[49m\u001B[43m \u001B[49m\u001B[43mbottom\u001B[49m\u001B[38;5;241;43m=\u001B[39;49m\u001B[43mstart\u001B[49m\u001B[43m,\u001B[49m\u001B[43m \u001B[49m\u001B[43mlog\u001B[49m\u001B[38;5;241;43m=\u001B[39;49m\u001B[43mlog\u001B[49m\u001B[43m,\u001B[49m\u001B[43m \u001B[49m\u001B[38;5;241;43m*\u001B[39;49m\u001B[38;5;241;43m*\u001B[39;49m\u001B[43mkwds\u001B[49m\u001B[43m)\u001B[49m\n",
      "File \u001B[0;32m/opt/miniconda3/envs/thesis_llm/lib/python3.10/site-packages/matplotlib/__init__.py:1446\u001B[0m, in \u001B[0;36m_preprocess_data.<locals>.inner\u001B[0;34m(ax, data, *args, **kwargs)\u001B[0m\n\u001B[1;32m   1443\u001B[0m \u001B[38;5;129m@functools\u001B[39m\u001B[38;5;241m.\u001B[39mwraps(func)\n\u001B[1;32m   1444\u001B[0m \u001B[38;5;28;01mdef\u001B[39;00m \u001B[38;5;21minner\u001B[39m(ax, \u001B[38;5;241m*\u001B[39margs, data\u001B[38;5;241m=\u001B[39m\u001B[38;5;28;01mNone\u001B[39;00m, \u001B[38;5;241m*\u001B[39m\u001B[38;5;241m*\u001B[39mkwargs):\n\u001B[1;32m   1445\u001B[0m     \u001B[38;5;28;01mif\u001B[39;00m data \u001B[38;5;129;01mis\u001B[39;00m \u001B[38;5;28;01mNone\u001B[39;00m:\n\u001B[0;32m-> 1446\u001B[0m         \u001B[38;5;28;01mreturn\u001B[39;00m \u001B[43mfunc\u001B[49m\u001B[43m(\u001B[49m\u001B[43max\u001B[49m\u001B[43m,\u001B[49m\u001B[43m \u001B[49m\u001B[38;5;241;43m*\u001B[39;49m\u001B[38;5;28;43mmap\u001B[39;49m\u001B[43m(\u001B[49m\u001B[43msanitize_sequence\u001B[49m\u001B[43m,\u001B[49m\u001B[43m \u001B[49m\u001B[43margs\u001B[49m\u001B[43m)\u001B[49m\u001B[43m,\u001B[49m\u001B[43m \u001B[49m\u001B[38;5;241;43m*\u001B[39;49m\u001B[38;5;241;43m*\u001B[39;49m\u001B[43mkwargs\u001B[49m\u001B[43m)\u001B[49m\n\u001B[1;32m   1448\u001B[0m     bound \u001B[38;5;241m=\u001B[39m new_sig\u001B[38;5;241m.\u001B[39mbind(ax, \u001B[38;5;241m*\u001B[39margs, \u001B[38;5;241m*\u001B[39m\u001B[38;5;241m*\u001B[39mkwargs)\n\u001B[1;32m   1449\u001B[0m     auto_label \u001B[38;5;241m=\u001B[39m (bound\u001B[38;5;241m.\u001B[39marguments\u001B[38;5;241m.\u001B[39mget(label_namer)\n\u001B[1;32m   1450\u001B[0m                   \u001B[38;5;129;01mor\u001B[39;00m bound\u001B[38;5;241m.\u001B[39mkwargs\u001B[38;5;241m.\u001B[39mget(label_namer))\n",
      "File \u001B[0;32m/opt/miniconda3/envs/thesis_llm/lib/python3.10/site-packages/matplotlib/axes/_axes.py:2480\u001B[0m, in \u001B[0;36mAxes.bar\u001B[0;34m(self, x, height, width, bottom, align, **kwargs)\u001B[0m\n\u001B[1;32m   2471\u001B[0m \u001B[38;5;28;01mfor\u001B[39;00m l, b, w, h, c, e, lw, htch, lbl \u001B[38;5;129;01min\u001B[39;00m args:\n\u001B[1;32m   2472\u001B[0m     r \u001B[38;5;241m=\u001B[39m mpatches\u001B[38;5;241m.\u001B[39mRectangle(\n\u001B[1;32m   2473\u001B[0m         xy\u001B[38;5;241m=\u001B[39m(l, b), width\u001B[38;5;241m=\u001B[39mw, height\u001B[38;5;241m=\u001B[39mh,\n\u001B[1;32m   2474\u001B[0m         facecolor\u001B[38;5;241m=\u001B[39mc,\n\u001B[0;32m   (...)\u001B[0m\n\u001B[1;32m   2478\u001B[0m         hatch\u001B[38;5;241m=\u001B[39mhtch,\n\u001B[1;32m   2479\u001B[0m         )\n\u001B[0;32m-> 2480\u001B[0m     \u001B[43mr\u001B[49m\u001B[38;5;241;43m.\u001B[39;49m\u001B[43m_internal_update\u001B[49m\u001B[43m(\u001B[49m\u001B[43mkwargs\u001B[49m\u001B[43m)\u001B[49m\n\u001B[1;32m   2481\u001B[0m     r\u001B[38;5;241m.\u001B[39mget_path()\u001B[38;5;241m.\u001B[39m_interpolation_steps \u001B[38;5;241m=\u001B[39m \u001B[38;5;241m100\u001B[39m\n\u001B[1;32m   2482\u001B[0m     \u001B[38;5;28;01mif\u001B[39;00m orientation \u001B[38;5;241m==\u001B[39m \u001B[38;5;124m'\u001B[39m\u001B[38;5;124mvertical\u001B[39m\u001B[38;5;124m'\u001B[39m:\n",
      "File \u001B[0;32m/opt/miniconda3/envs/thesis_llm/lib/python3.10/site-packages/matplotlib/artist.py:1223\u001B[0m, in \u001B[0;36mArtist._internal_update\u001B[0;34m(self, kwargs)\u001B[0m\n\u001B[1;32m   1216\u001B[0m \u001B[38;5;28;01mdef\u001B[39;00m \u001B[38;5;21m_internal_update\u001B[39m(\u001B[38;5;28mself\u001B[39m, kwargs):\n\u001B[1;32m   1217\u001B[0m \u001B[38;5;250m    \u001B[39m\u001B[38;5;124;03m\"\"\"\u001B[39;00m\n\u001B[1;32m   1218\u001B[0m \u001B[38;5;124;03m    Update artist properties without prenormalizing them, but generating\u001B[39;00m\n\u001B[1;32m   1219\u001B[0m \u001B[38;5;124;03m    errors as if calling `set`.\u001B[39;00m\n\u001B[1;32m   1220\u001B[0m \n\u001B[1;32m   1221\u001B[0m \u001B[38;5;124;03m    The lack of prenormalization is to maintain backcompatibility.\u001B[39;00m\n\u001B[1;32m   1222\u001B[0m \u001B[38;5;124;03m    \"\"\"\u001B[39;00m\n\u001B[0;32m-> 1223\u001B[0m     \u001B[38;5;28;01mreturn\u001B[39;00m \u001B[38;5;28;43mself\u001B[39;49m\u001B[38;5;241;43m.\u001B[39;49m\u001B[43m_update_props\u001B[49m\u001B[43m(\u001B[49m\n\u001B[1;32m   1224\u001B[0m \u001B[43m        \u001B[49m\u001B[43mkwargs\u001B[49m\u001B[43m,\u001B[49m\u001B[43m \u001B[49m\u001B[38;5;124;43m\"\u001B[39;49m\u001B[38;5;132;43;01m{cls.__name__}\u001B[39;49;00m\u001B[38;5;124;43m.set() got an unexpected keyword argument \u001B[39;49m\u001B[38;5;124;43m\"\u001B[39;49m\n\u001B[1;32m   1225\u001B[0m \u001B[43m        \u001B[49m\u001B[38;5;124;43m\"\u001B[39;49m\u001B[38;5;132;43;01m{prop_name!r}\u001B[39;49;00m\u001B[38;5;124;43m\"\u001B[39;49m\u001B[43m)\u001B[49m\n",
      "File \u001B[0;32m/opt/miniconda3/envs/thesis_llm/lib/python3.10/site-packages/matplotlib/artist.py:1197\u001B[0m, in \u001B[0;36mArtist._update_props\u001B[0;34m(self, props, errfmt)\u001B[0m\n\u001B[1;32m   1195\u001B[0m             func \u001B[38;5;241m=\u001B[39m \u001B[38;5;28mgetattr\u001B[39m(\u001B[38;5;28mself\u001B[39m, \u001B[38;5;124mf\u001B[39m\u001B[38;5;124m\"\u001B[39m\u001B[38;5;124mset_\u001B[39m\u001B[38;5;132;01m{\u001B[39;00mk\u001B[38;5;132;01m}\u001B[39;00m\u001B[38;5;124m\"\u001B[39m, \u001B[38;5;28;01mNone\u001B[39;00m)\n\u001B[1;32m   1196\u001B[0m             \u001B[38;5;28;01mif\u001B[39;00m \u001B[38;5;129;01mnot\u001B[39;00m \u001B[38;5;28mcallable\u001B[39m(func):\n\u001B[0;32m-> 1197\u001B[0m                 \u001B[38;5;28;01mraise\u001B[39;00m \u001B[38;5;167;01mAttributeError\u001B[39;00m(\n\u001B[1;32m   1198\u001B[0m                     errfmt\u001B[38;5;241m.\u001B[39mformat(\u001B[38;5;28mcls\u001B[39m\u001B[38;5;241m=\u001B[39m\u001B[38;5;28mtype\u001B[39m(\u001B[38;5;28mself\u001B[39m), prop_name\u001B[38;5;241m=\u001B[39mk))\n\u001B[1;32m   1199\u001B[0m             ret\u001B[38;5;241m.\u001B[39mappend(func(v))\n\u001B[1;32m   1200\u001B[0m \u001B[38;5;28;01mif\u001B[39;00m ret:\n",
      "\u001B[0;31mAttributeError\u001B[0m: Rectangle.set() got an unexpected keyword argument 'hue'"
     ]
    },
    {
     "data": {
      "text/plain": [
       "<Figure size 1000x600 with 1 Axes>"
      ],
      "image/png": "[encoded data removed]"
     },
     "metadata": {},
     "output_type": "display_data"
    }
   ],
   "execution_count": 69
  },
  {
   "metadata": {
    "ExecuteTime": {
     "end_time": "2024-06-20T20:37:31.502466Z",
     "start_time": "2024-06-20T20:37:31.297150Z"
    }
   },
   "cell_type": "code",
   "source": [
    "# boxplot\n",
    "metric_a_plot = sns.boxplot(\n",
    "    df_a,\n",
    "    x=\"llm_model\",\n",
    "    y=f\"{metric_a}\",\n",
    "    linewidth=1,\n",
    "    showmeans=True,\n",
    "    palette=colors,\n",
    "    boxprops={\"edgecolor\": \"k\"},\n",
    "    meanprops={\"marker\": \"o\", \"markerfacecolor\": \"none\", \"markeredgecolor\": \"red\"}\n",
    ")\n",
    "\n",
    "metric_a_mean = round(df_a[metric_a].mean(), 2)\n",
    "metric_a_plot.axhline(df_a[metric_a].mean(), linestyle='--', color=\"red\", linewidth=1.2)\n",
    "\n",
    "# show mean value\n",
    "metric_a_plot.text(0.7, metric_a_mean + 0.1, f'Mean: {metric_a_mean}', color='red', ha='left',\n",
    "                   fontsize=12, fontweight='bold')\n",
    "\n",
    "labels = results.keys()\n",
    "labels_with_mean = [f'{label}\\n(Mean {round(results[label][metric_a].mean(), 2)})' for label in labels]\n",
    "\n",
    "metric_a_plot.set_xticklabels(labels_with_mean)\n",
    "metric_a_plot.set_title(f\"Evaluation - {metric_a_label} ({collection_name})\", fontsize=16, fontweight='bold', pad=24)\n",
    "metric_a_plot.set_xlabel(\"LLM Models\", fontsize=14, labelpad=14)\n",
    "metric_a_plot.set_ylabel(metric_a_label, fontsize=14, labelpad=14)\n",
    "metric_a_plot.tick_params(axis='y', labelsize=12)\n",
    "\n",
    "plt.tight_layout()\n",
    "plt.show()"
   ],
   "id": "6307b66320429cce",
   "outputs": [
    {
     "data": {
      "text/plain": [
       "<Figure size 640x480 with 1 Axes>"
      ],
      "image/png": "[encoded data removed]"
     },
     "metadata": {},
     "output_type": "display_data"
    }
   ],
   "execution_count": 46
  },
  {
   "metadata": {},
   "cell_type": "markdown",
   "source": "The chart shows a very high mean score 0.97. This means the context relevancy score is very high for all models. Now its interesting to see how many questions have a context relevancy score of 1.0.",
   "id": "d579bd5fdff85d0d"
  },
  {
   "metadata": {
    "ExecuteTime": {
     "end_time": "2024-06-20T20:33:57.203875Z",
     "start_time": "2024-06-20T20:33:57.198514Z"
    }
   },
   "cell_type": "code",
   "source": [
    "# combine the three DataFrames and group them by their values\n",
    "metric_a_values_combined = pd.concat([metric_a_values_a, metric_a_values_b, metric_a_values_c], ignore_index=True)\n",
    "metric_a_values_combined"
   ],
   "id": "b717fe4e8c70ec0e",
   "outputs": [
    {
     "data": {
      "text/plain": [
       "    values  context_relevancy_score         llm_model\n",
       "0    1.000                      292    Gemma Instruct\n",
       "1    0.500                       10    Gemma Instruct\n",
       "2    0.875                        5    Gemma Instruct\n",
       "3    0.250                        5    Gemma Instruct\n",
       "4    0.750                        3    Gemma Instruct\n",
       "5    1.000                      297   Llama3 Instruct\n",
       "6    0.500                        7   Llama3 Instruct\n",
       "7    0.875                        4   Llama3 Instruct\n",
       "8    0.750                        2   Llama3 Instruct\n",
       "9    0.625                        2   Llama3 Instruct\n",
       "10   0.250                        2   Llama3 Instruct\n",
       "11   0.950                        1   Llama3 Instruct\n",
       "12   1.000                      293  Mistral Instruct\n",
       "13   0.500                       12  Mistral Instruct\n",
       "14   0.875                        5  Mistral Instruct\n",
       "15   0.625                        1  Mistral Instruct\n",
       "16   0.125                        1  Mistral Instruct\n",
       "17   0.000                        1  Mistral Instruct\n",
       "18   0.250                        1  Mistral Instruct\n",
       "19   0.750                        1  Mistral Instruct"
      ],
      "text/html": [
       "<div>\n",
       "<style scoped>\n",
       "    .dataframe tbody tr th:only-of-type {\n",
       "        vertical-align: middle;\n",
       "    }\n",
       "\n",
       "    .dataframe tbody tr th {\n",
       "        vertical-align: top;\n",
       "    }\n",
       "\n",
       "    .dataframe thead th {\n",
       "        text-align: right;\n",
       "    }\n",
       "</style>\n",
       "<table border=\"1\" class=\"dataframe\">\n",
       "  <thead>\n",
       "    <tr style=\"text-align: right;\">\n",
       "      <th></th>\n",
       "      <th>values</th>\n",
       "      <th>context_relevancy_score</th>\n",
       "      <th>llm_model</th>\n",
       "    </tr>\n",
       "  </thead>\n",
       "  <tbody>\n",
       "    <tr>\n",
       "      <th>0</th>\n",
       "      <td>1.000</td>\n",
       "      <td>292</td>\n",
       "      <td>Gemma Instruct</td>\n",
       "    </tr>\n",
       "    <tr>\n",
       "      <th>1</th>\n",
       "      <td>0.500</td>\n",
       "      <td>10</td>\n",
       "      <td>Gemma Instruct</td>\n",
       "    </tr>\n",
       "    <tr>\n",
       "      <th>2</th>\n",
       "      <td>0.875</td>\n",
       "      <td>5</td>\n",
       "      <td>Gemma Instruct</td>\n",
       "    </tr>\n",
       "    <tr>\n",
       "      <th>3</th>\n",
       "      <td>0.250</td>\n",
       "      <td>5</td>\n",
       "      <td>Gemma Instruct</td>\n",
       "    </tr>\n",
       "    <tr>\n",
       "      <th>4</th>\n",
       "      <td>0.750</td>\n",
       "      <td>3</td>\n",
       "      <td>Gemma Instruct</td>\n",
       "    </tr>\n",
       "    <tr>\n",
       "      <th>5</th>\n",
       "      <td>1.000</td>\n",
       "      <td>297</td>\n",
       "      <td>Llama3 Instruct</td>\n",
       "    </tr>\n",
       "    <tr>\n",
       "      <th>6</th>\n",
       "      <td>0.500</td>\n",
       "      <td>7</td>\n",
       "      <td>Llama3 Instruct</td>\n",
       "    </tr>\n",
       "    <tr>\n",
       "      <th>7</th>\n",
       "      <td>0.875</td>\n",
       "      <td>4</td>\n",
       "      <td>Llama3 Instruct</td>\n",
       "    </tr>\n",
       "    <tr>\n",
       "      <th>8</th>\n",
       "      <td>0.750</td>\n",
       "      <td>2</td>\n",
       "      <td>Llama3 Instruct</td>\n",
       "    </tr>\n",
       "    <tr>\n",
       "      <th>9</th>\n",
       "      <td>0.625</td>\n",
       "      <td>2</td>\n",
       "      <td>Llama3 Instruct</td>\n",
       "    </tr>\n",
       "    <tr>\n",
       "      <th>10</th>\n",
       "      <td>0.250</td>\n",
       "      <td>2</td>\n",
       "      <td>Llama3 Instruct</td>\n",
       "    </tr>\n",
       "    <tr>\n",
       "      <th>11</th>\n",
       "      <td>0.950</td>\n",
       "      <td>1</td>\n",
       "      <td>Llama3 Instruct</td>\n",
       "    </tr>\n",
       "    <tr>\n",
       "      <th>12</th>\n",
       "      <td>1.000</td>\n",
       "      <td>293</td>\n",
       "      <td>Mistral Instruct</td>\n",
       "    </tr>\n",
       "    <tr>\n",
       "      <th>13</th>\n",
       "      <td>0.500</td>\n",
       "      <td>12</td>\n",
       "      <td>Mistral Instruct</td>\n",
       "    </tr>\n",
       "    <tr>\n",
       "      <th>14</th>\n",
       "      <td>0.875</td>\n",
       "      <td>5</td>\n",
       "      <td>Mistral Instruct</td>\n",
       "    </tr>\n",
       "    <tr>\n",
       "      <th>15</th>\n",
       "      <td>0.625</td>\n",
       "      <td>1</td>\n",
       "      <td>Mistral Instruct</td>\n",
       "    </tr>\n",
       "    <tr>\n",
       "      <th>16</th>\n",
       "      <td>0.125</td>\n",
       "      <td>1</td>\n",
       "      <td>Mistral Instruct</td>\n",
       "    </tr>\n",
       "    <tr>\n",
       "      <th>17</th>\n",
       "      <td>0.000</td>\n",
       "      <td>1</td>\n",
       "      <td>Mistral Instruct</td>\n",
       "    </tr>\n",
       "    <tr>\n",
       "      <th>18</th>\n",
       "      <td>0.250</td>\n",
       "      <td>1</td>\n",
       "      <td>Mistral Instruct</td>\n",
       "    </tr>\n",
       "    <tr>\n",
       "      <th>19</th>\n",
       "      <td>0.750</td>\n",
       "      <td>1</td>\n",
       "      <td>Mistral Instruct</td>\n",
       "    </tr>\n",
       "  </tbody>\n",
       "</table>\n",
       "</div>"
      ]
     },
     "execution_count": 126,
     "metadata": {},
     "output_type": "execute_result"
    }
   ],
   "execution_count": 126
  },
  {
   "metadata": {
    "ExecuteTime": {
     "end_time": "2024-06-20T20:33:57.444306Z",
     "start_time": "2024-06-20T20:33:57.439003Z"
    }
   },
   "cell_type": "code",
   "source": [
    "metric_a_values_combined['values'] = pd.to_numeric(metric_a_values_combined['values'], errors='coerce')\n",
    "metric_a_values_combined[metric_a] = pd.to_numeric(metric_a_values_combined[metric_a], errors='coerce')\n",
    "metric_a_values_combined"
   ],
   "id": "80641d9aaffbe253",
   "outputs": [
    {
     "data": {
      "text/plain": [
       "    values  context_relevancy_score         llm_model\n",
       "0    1.000                      292    Gemma Instruct\n",
       "1    0.500                       10    Gemma Instruct\n",
       "2    0.875                        5    Gemma Instruct\n",
       "3    0.250                        5    Gemma Instruct\n",
       "4    0.750                        3    Gemma Instruct\n",
       "5    1.000                      297   Llama3 Instruct\n",
       "6    0.500                        7   Llama3 Instruct\n",
       "7    0.875                        4   Llama3 Instruct\n",
       "8    0.750                        2   Llama3 Instruct\n",
       "9    0.625                        2   Llama3 Instruct\n",
       "10   0.250                        2   Llama3 Instruct\n",
       "11   0.950                        1   Llama3 Instruct\n",
       "12   1.000                      293  Mistral Instruct\n",
       "13   0.500                       12  Mistral Instruct\n",
       "14   0.875                        5  Mistral Instruct\n",
       "15   0.625                        1  Mistral Instruct\n",
       "16   0.125                        1  Mistral Instruct\n",
       "17   0.000                        1  Mistral Instruct\n",
       "18   0.250                        1  Mistral Instruct\n",
       "19   0.750                        1  Mistral Instruct"
      ],
      "text/html": [
       "<div>\n",
       "<style scoped>\n",
       "    .dataframe tbody tr th:only-of-type {\n",
       "        vertical-align: middle;\n",
       "    }\n",
       "\n",
       "    .dataframe tbody tr th {\n",
       "        vertical-align: top;\n",
       "    }\n",
       "\n",
       "    .dataframe thead th {\n",
       "        text-align: right;\n",
       "    }\n",
       "</style>\n",
       "<table border=\"1\" class=\"dataframe\">\n",
       "  <thead>\n",
       "    <tr style=\"text-align: right;\">\n",
       "      <th></th>\n",
       "      <th>values</th>\n",
       "      <th>context_relevancy_score</th>\n",
       "      <th>llm_model</th>\n",
       "    </tr>\n",
       "  </thead>\n",
       "  <tbody>\n",
       "    <tr>\n",
       "      <th>0</th>\n",
       "      <td>1.000</td>\n",
       "      <td>292</td>\n",
       "      <td>Gemma Instruct</td>\n",
       "    </tr>\n",
       "    <tr>\n",
       "      <th>1</th>\n",
       "      <td>0.500</td>\n",
       "      <td>10</td>\n",
       "      <td>Gemma Instruct</td>\n",
       "    </tr>\n",
       "    <tr>\n",
       "      <th>2</th>\n",
       "      <td>0.875</td>\n",
       "      <td>5</td>\n",
       "      <td>Gemma Instruct</td>\n",
       "    </tr>\n",
       "    <tr>\n",
       "      <th>3</th>\n",
       "      <td>0.250</td>\n",
       "      <td>5</td>\n",
       "      <td>Gemma Instruct</td>\n",
       "    </tr>\n",
       "    <tr>\n",
       "      <th>4</th>\n",
       "      <td>0.750</td>\n",
       "      <td>3</td>\n",
       "      <td>Gemma Instruct</td>\n",
       "    </tr>\n",
       "    <tr>\n",
       "      <th>5</th>\n",
       "      <td>1.000</td>\n",
       "      <td>297</td>\n",
       "      <td>Llama3 Instruct</td>\n",
       "    </tr>\n",
       "    <tr>\n",
       "      <th>6</th>\n",
       "      <td>0.500</td>\n",
       "      <td>7</td>\n",
       "      <td>Llama3 Instruct</td>\n",
       "    </tr>\n",
       "    <tr>\n",
       "      <th>7</th>\n",
       "      <td>0.875</td>\n",
       "      <td>4</td>\n",
       "      <td>Llama3 Instruct</td>\n",
       "    </tr>\n",
       "    <tr>\n",
       "      <th>8</th>\n",
       "      <td>0.750</td>\n",
       "      <td>2</td>\n",
       "      <td>Llama3 Instruct</td>\n",
       "    </tr>\n",
       "    <tr>\n",
       "      <th>9</th>\n",
       "      <td>0.625</td>\n",
       "      <td>2</td>\n",
       "      <td>Llama3 Instruct</td>\n",
       "    </tr>\n",
       "    <tr>\n",
       "      <th>10</th>\n",
       "      <td>0.250</td>\n",
       "      <td>2</td>\n",
       "      <td>Llama3 Instruct</td>\n",
       "    </tr>\n",
       "    <tr>\n",
       "      <th>11</th>\n",
       "      <td>0.950</td>\n",
       "      <td>1</td>\n",
       "      <td>Llama3 Instruct</td>\n",
       "    </tr>\n",
       "    <tr>\n",
       "      <th>12</th>\n",
       "      <td>1.000</td>\n",
       "      <td>293</td>\n",
       "      <td>Mistral Instruct</td>\n",
       "    </tr>\n",
       "    <tr>\n",
       "      <th>13</th>\n",
       "      <td>0.500</td>\n",
       "      <td>12</td>\n",
       "      <td>Mistral Instruct</td>\n",
       "    </tr>\n",
       "    <tr>\n",
       "      <th>14</th>\n",
       "      <td>0.875</td>\n",
       "      <td>5</td>\n",
       "      <td>Mistral Instruct</td>\n",
       "    </tr>\n",
       "    <tr>\n",
       "      <th>15</th>\n",
       "      <td>0.625</td>\n",
       "      <td>1</td>\n",
       "      <td>Mistral Instruct</td>\n",
       "    </tr>\n",
       "    <tr>\n",
       "      <th>16</th>\n",
       "      <td>0.125</td>\n",
       "      <td>1</td>\n",
       "      <td>Mistral Instruct</td>\n",
       "    </tr>\n",
       "    <tr>\n",
       "      <th>17</th>\n",
       "      <td>0.000</td>\n",
       "      <td>1</td>\n",
       "      <td>Mistral Instruct</td>\n",
       "    </tr>\n",
       "    <tr>\n",
       "      <th>18</th>\n",
       "      <td>0.250</td>\n",
       "      <td>1</td>\n",
       "      <td>Mistral Instruct</td>\n",
       "    </tr>\n",
       "    <tr>\n",
       "      <th>19</th>\n",
       "      <td>0.750</td>\n",
       "      <td>1</td>\n",
       "      <td>Mistral Instruct</td>\n",
       "    </tr>\n",
       "  </tbody>\n",
       "</table>\n",
       "</div>"
      ]
     },
     "execution_count": 127,
     "metadata": {},
     "output_type": "execute_result"
    }
   ],
   "execution_count": 127
  },
  {
   "metadata": {},
   "cell_type": "markdown",
   "source": "Display the number of questions with a context relevancy score of 1.0\n",
   "id": "e3661f6b05805a44"
  },
  {
   "metadata": {
    "ExecuteTime": {
     "end_time": "2024-06-20T20:33:57.772635Z",
     "start_time": "2024-06-20T20:33:57.767349Z"
    }
   },
   "cell_type": "code",
   "source": [
    "# list all three models with the number of occurences of each value equal to 1.0\n",
    "col_a_metric_a_score_a = gemma_df_a[metric_a].value_counts()[1.0]\n",
    "col_a_metric_a_score_b = llama3_df_a[metric_a].value_counts()[1.0]\n",
    "col_a_metric_a_score_c = mistral_df_a[metric_a].value_counts()[1.0]\n",
    "col_b_metric_a_score_a = gemma_df_b[metric_a].value_counts()[1.0]\n",
    "col_b_metric_a_score_b = llama3_df_b[metric_a].value_counts()[1.0]\n",
    "col_b_metric_a_score_c = mistral_df_b[metric_a].value_counts()[1.0]\n",
    "print(\n",
    "    f\"{llm_models[0]}: {col_a_metric_a_score_a}, {llm_models[1]}: {col_a_metric_a_score_b}, {llm_models[2]}: {col_a_metric_a_score_c}\")\n",
    "print(\n",
    "    f\"{llm_models[0]}: {col_b_metric_a_score_a}, {llm_models[1]}: {col_b_metric_a_score_b}, {llm_models[2]}: {col_b_metric_a_score_c}\")"
   ],
   "id": "3d8f18f7cbc6ce5a",
   "outputs": [
    {
     "name": "stdout",
     "output_type": "stream",
     "text": [
      "Gemma Instruct: 292, Llama3 Instruct: 297, Mistral Instruct: 293\n",
      "Gemma Instruct: 292, Llama3 Instruct: 297, Mistral Instruct: 293\n"
     ]
    }
   ],
   "execution_count": 128
  },
  {
   "metadata": {
    "ExecuteTime": {
     "end_time": "2024-06-20T20:33:57.849994Z",
     "start_time": "2024-06-20T20:33:57.847350Z"
    }
   },
   "cell_type": "code",
   "source": "number_of_evaluated_questions",
   "id": "347d6ba9e3f605f2",
   "outputs": [
    {
     "data": {
      "text/plain": [
       "315"
      ]
     },
     "execution_count": 129,
     "metadata": {},
     "output_type": "execute_result"
    }
   ],
   "execution_count": 129
  },
  {
   "metadata": {
    "ExecuteTime": {
     "end_time": "2024-06-20T20:33:58.062846Z",
     "start_time": "2024-06-20T20:33:58.060950Z"
    }
   },
   "cell_type": "code",
   "source": [
    "# mean of the 1.0 context relevancy score\n",
    "metric_a_scores_mean = (metric_a_score_a + metric_a_score_b + metric_a_score_c) / 3"
   ],
   "id": "64f8987ae9673ba8",
   "outputs": [],
   "execution_count": 130
  },
  {
   "metadata": {
    "ExecuteTime": {
     "end_time": "2024-06-20T20:33:58.231942Z",
     "start_time": "2024-06-20T20:33:58.229159Z"
    }
   },
   "cell_type": "code",
   "source": [
    "# sort dataframe by 'llm_model'\n",
    "metric_a_values_combined = metric_a_values_combined.sort_values(by='llm_model', ascending=False)"
   ],
   "id": "41806733d58f2246",
   "outputs": [],
   "execution_count": 131
  },
  {
   "metadata": {
    "ExecuteTime": {
     "end_time": "2024-06-20T20:33:58.382427Z",
     "start_time": "2024-06-20T20:33:58.376657Z"
    }
   },
   "cell_type": "code",
   "source": "metric_a_values_combined",
   "id": "d2b4cd01860ce242",
   "outputs": [
    {
     "data": {
      "text/plain": [
       "    values  context_relevancy_score         llm_model\n",
       "19   0.750                        1  Mistral Instruct\n",
       "18   0.250                        1  Mistral Instruct\n",
       "17   0.000                        1  Mistral Instruct\n",
       "16   0.125                        1  Mistral Instruct\n",
       "15   0.625                        1  Mistral Instruct\n",
       "14   0.875                        5  Mistral Instruct\n",
       "13   0.500                       12  Mistral Instruct\n",
       "12   1.000                      293  Mistral Instruct\n",
       "11   0.950                        1   Llama3 Instruct\n",
       "10   0.250                        2   Llama3 Instruct\n",
       "9    0.625                        2   Llama3 Instruct\n",
       "8    0.750                        2   Llama3 Instruct\n",
       "7    0.875                        4   Llama3 Instruct\n",
       "6    0.500                        7   Llama3 Instruct\n",
       "5    1.000                      297   Llama3 Instruct\n",
       "1    0.500                       10    Gemma Instruct\n",
       "4    0.750                        3    Gemma Instruct\n",
       "3    0.250                        5    Gemma Instruct\n",
       "2    0.875                        5    Gemma Instruct\n",
       "0    1.000                      292    Gemma Instruct"
      ],
      "text/html": [
       "<div>\n",
       "<style scoped>\n",
       "    .dataframe tbody tr th:only-of-type {\n",
       "        vertical-align: middle;\n",
       "    }\n",
       "\n",
       "    .dataframe tbody tr th {\n",
       "        vertical-align: top;\n",
       "    }\n",
       "\n",
       "    .dataframe thead th {\n",
       "        text-align: right;\n",
       "    }\n",
       "</style>\n",
       "<table border=\"1\" class=\"dataframe\">\n",
       "  <thead>\n",
       "    <tr style=\"text-align: right;\">\n",
       "      <th></th>\n",
       "      <th>values</th>\n",
       "      <th>context_relevancy_score</th>\n",
       "      <th>llm_model</th>\n",
       "    </tr>\n",
       "  </thead>\n",
       "  <tbody>\n",
       "    <tr>\n",
       "      <th>19</th>\n",
       "      <td>0.750</td>\n",
       "      <td>1</td>\n",
       "      <td>Mistral Instruct</td>\n",
       "    </tr>\n",
       "    <tr>\n",
       "      <th>18</th>\n",
       "      <td>0.250</td>\n",
       "      <td>1</td>\n",
       "      <td>Mistral Instruct</td>\n",
       "    </tr>\n",
       "    <tr>\n",
       "      <th>17</th>\n",
       "      <td>0.000</td>\n",
       "      <td>1</td>\n",
       "      <td>Mistral Instruct</td>\n",
       "    </tr>\n",
       "    <tr>\n",
       "      <th>16</th>\n",
       "      <td>0.125</td>\n",
       "      <td>1</td>\n",
       "      <td>Mistral Instruct</td>\n",
       "    </tr>\n",
       "    <tr>\n",
       "      <th>15</th>\n",
       "      <td>0.625</td>\n",
       "      <td>1</td>\n",
       "      <td>Mistral Instruct</td>\n",
       "    </tr>\n",
       "    <tr>\n",
       "      <th>14</th>\n",
       "      <td>0.875</td>\n",
       "      <td>5</td>\n",
       "      <td>Mistral Instruct</td>\n",
       "    </tr>\n",
       "    <tr>\n",
       "      <th>13</th>\n",
       "      <td>0.500</td>\n",
       "      <td>12</td>\n",
       "      <td>Mistral Instruct</td>\n",
       "    </tr>\n",
       "    <tr>\n",
       "      <th>12</th>\n",
       "      <td>1.000</td>\n",
       "      <td>293</td>\n",
       "      <td>Mistral Instruct</td>\n",
       "    </tr>\n",
       "    <tr>\n",
       "      <th>11</th>\n",
       "      <td>0.950</td>\n",
       "      <td>1</td>\n",
       "      <td>Llama3 Instruct</td>\n",
       "    </tr>\n",
       "    <tr>\n",
       "      <th>10</th>\n",
       "      <td>0.250</td>\n",
       "      <td>2</td>\n",
       "      <td>Llama3 Instruct</td>\n",
       "    </tr>\n",
       "    <tr>\n",
       "      <th>9</th>\n",
       "      <td>0.625</td>\n",
       "      <td>2</td>\n",
       "      <td>Llama3 Instruct</td>\n",
       "    </tr>\n",
       "    <tr>\n",
       "      <th>8</th>\n",
       "      <td>0.750</td>\n",
       "      <td>2</td>\n",
       "      <td>Llama3 Instruct</td>\n",
       "    </tr>\n",
       "    <tr>\n",
       "      <th>7</th>\n",
       "      <td>0.875</td>\n",
       "      <td>4</td>\n",
       "      <td>Llama3 Instruct</td>\n",
       "    </tr>\n",
       "    <tr>\n",
       "      <th>6</th>\n",
       "      <td>0.500</td>\n",
       "      <td>7</td>\n",
       "      <td>Llama3 Instruct</td>\n",
       "    </tr>\n",
       "    <tr>\n",
       "      <th>5</th>\n",
       "      <td>1.000</td>\n",
       "      <td>297</td>\n",
       "      <td>Llama3 Instruct</td>\n",
       "    </tr>\n",
       "    <tr>\n",
       "      <th>1</th>\n",
       "      <td>0.500</td>\n",
       "      <td>10</td>\n",
       "      <td>Gemma Instruct</td>\n",
       "    </tr>\n",
       "    <tr>\n",
       "      <th>4</th>\n",
       "      <td>0.750</td>\n",
       "      <td>3</td>\n",
       "      <td>Gemma Instruct</td>\n",
       "    </tr>\n",
       "    <tr>\n",
       "      <th>3</th>\n",
       "      <td>0.250</td>\n",
       "      <td>5</td>\n",
       "      <td>Gemma Instruct</td>\n",
       "    </tr>\n",
       "    <tr>\n",
       "      <th>2</th>\n",
       "      <td>0.875</td>\n",
       "      <td>5</td>\n",
       "      <td>Gemma Instruct</td>\n",
       "    </tr>\n",
       "    <tr>\n",
       "      <th>0</th>\n",
       "      <td>1.000</td>\n",
       "      <td>292</td>\n",
       "      <td>Gemma Instruct</td>\n",
       "    </tr>\n",
       "  </tbody>\n",
       "</table>\n",
       "</div>"
      ]
     },
     "execution_count": 132,
     "metadata": {},
     "output_type": "execute_result"
    }
   ],
   "execution_count": 132
  },
  {
   "metadata": {
    "ExecuteTime": {
     "end_time": "2024-06-20T20:33:58.447113Z",
     "start_time": "2024-06-20T20:33:58.439530Z"
    }
   },
   "cell_type": "code",
   "source": [
    "pivot_metric_a_values_combined = metric_a_values_combined.pivot(index='values', columns='llm_model', values=metric_a)\n",
    "\n",
    "# fill NaN values with 0\n",
    "pivot_metric_a_values_combined = pivot_metric_a_values_combined.fillna(0)\n",
    "\n",
    "# order the columns\n",
    "pivot_metric_a_values_combined = pivot_metric_a_values_combined[llm_models_r]\n",
    "pivot_metric_a_values_combined"
   ],
   "id": "a360a1f8a9553681",
   "outputs": [
    {
     "data": {
      "text/plain": [
       "llm_model  Mistral Instruct  Llama3 Instruct  Gemma Instruct\n",
       "values                                                      \n",
       "0.000                   1.0              0.0             0.0\n",
       "0.125                   1.0              0.0             0.0\n",
       "0.250                   1.0              2.0             5.0\n",
       "0.500                  12.0              7.0            10.0\n",
       "0.625                   1.0              2.0             0.0\n",
       "0.750                   1.0              2.0             3.0\n",
       "0.875                   5.0              4.0             5.0\n",
       "0.950                   0.0              1.0             0.0\n",
       "1.000                 293.0            297.0           292.0"
      ],
      "text/html": [
       "<div>\n",
       "<style scoped>\n",
       "    .dataframe tbody tr th:only-of-type {\n",
       "        vertical-align: middle;\n",
       "    }\n",
       "\n",
       "    .dataframe tbody tr th {\n",
       "        vertical-align: top;\n",
       "    }\n",
       "\n",
       "    .dataframe thead th {\n",
       "        text-align: right;\n",
       "    }\n",
       "</style>\n",
       "<table border=\"1\" class=\"dataframe\">\n",
       "  <thead>\n",
       "    <tr style=\"text-align: right;\">\n",
       "      <th>llm_model</th>\n",
       "      <th>Mistral Instruct</th>\n",
       "      <th>Llama3 Instruct</th>\n",
       "      <th>Gemma Instruct</th>\n",
       "    </tr>\n",
       "    <tr>\n",
       "      <th>values</th>\n",
       "      <th></th>\n",
       "      <th></th>\n",
       "      <th></th>\n",
       "    </tr>\n",
       "  </thead>\n",
       "  <tbody>\n",
       "    <tr>\n",
       "      <th>0.000</th>\n",
       "      <td>1.0</td>\n",
       "      <td>0.0</td>\n",
       "      <td>0.0</td>\n",
       "    </tr>\n",
       "    <tr>\n",
       "      <th>0.125</th>\n",
       "      <td>1.0</td>\n",
       "      <td>0.0</td>\n",
       "      <td>0.0</td>\n",
       "    </tr>\n",
       "    <tr>\n",
       "      <th>0.250</th>\n",
       "      <td>1.0</td>\n",
       "      <td>2.0</td>\n",
       "      <td>5.0</td>\n",
       "    </tr>\n",
       "    <tr>\n",
       "      <th>0.500</th>\n",
       "      <td>12.0</td>\n",
       "      <td>7.0</td>\n",
       "      <td>10.0</td>\n",
       "    </tr>\n",
       "    <tr>\n",
       "      <th>0.625</th>\n",
       "      <td>1.0</td>\n",
       "      <td>2.0</td>\n",
       "      <td>0.0</td>\n",
       "    </tr>\n",
       "    <tr>\n",
       "      <th>0.750</th>\n",
       "      <td>1.0</td>\n",
       "      <td>2.0</td>\n",
       "      <td>3.0</td>\n",
       "    </tr>\n",
       "    <tr>\n",
       "      <th>0.875</th>\n",
       "      <td>5.0</td>\n",
       "      <td>4.0</td>\n",
       "      <td>5.0</td>\n",
       "    </tr>\n",
       "    <tr>\n",
       "      <th>0.950</th>\n",
       "      <td>0.0</td>\n",
       "      <td>1.0</td>\n",
       "      <td>0.0</td>\n",
       "    </tr>\n",
       "    <tr>\n",
       "      <th>1.000</th>\n",
       "      <td>293.0</td>\n",
       "      <td>297.0</td>\n",
       "      <td>292.0</td>\n",
       "    </tr>\n",
       "  </tbody>\n",
       "</table>\n",
       "</div>"
      ]
     },
     "execution_count": 133,
     "metadata": {},
     "output_type": "execute_result"
    }
   ],
   "execution_count": 133
  },
  {
   "metadata": {
    "ExecuteTime": {
     "end_time": "2024-06-20T20:33:58.716713Z",
     "start_time": "2024-06-20T20:33:58.536078Z"
    }
   },
   "cell_type": "code",
   "source": [
    "# display horizontal bar chart\n",
    "metric_a_chart_a = pivot_metric_a_values_combined.plot(kind='barh', figsize=(10, 6), color=colors, stacked=False,\n",
    "                                                       legend='reverse')\n",
    "# set the labels\n",
    "metric_a_chart_a.set_ylabel(metric_a_label, fontsize=14, labelpad=14)\n",
    "metric_a_chart_a.set_xlabel(\"Number of evaluated Questions\", fontsize=14, labelpad=14)\n",
    "metric_a_chart_a.set_title(f\"Evaluate the relevance of the given context to the question ({collection_name})\",\n",
    "                           fontsize=16, fontweight='bold', pad=14)\n",
    "\n",
    "# add number of evaluated questions as vertical line\n",
    "metric_a_chart_a.axvline(x=number_of_evaluated_questions, linestyle='-', color=\"black\", linewidth=0.8)\n",
    "metric_a_chart_a.text(number_of_evaluated_questions + 2, 3.5, number_of_evaluated_questions, ha='left',\n",
    "                      fontsize=11, fontweight='bold', color='black')\n",
    "\n",
    "# add mean value as vertical line\n",
    "metric_a_chart_a.axvline(x=metric_a_scores_mean, linestyle='--', color='red', linewidth=0.8)\n",
    "metric_a_chart_a.text(metric_a_scores_mean - 40, 3.5, f\"Mean: {round(metric_a_scores_mean, 2)}\", ha='left',\n",
    "                      fontsize=11, fontweight='bold', color='red')\n",
    "\n",
    "# add legend\n",
    "handles, labels = metric_a_chart_a.get_legend_handles_labels()\n",
    "metric_a_chart_a.legend(\n",
    "    reversed(handles),\n",
    "    reversed(labels),\n",
    "    title=metric_a_label + \"\\nevaluated by GPT-3.5 Turbo\",\n",
    "    loc='upper right',\n",
    "    fontsize=9,\n",
    "    bbox_to_anchor=(1.25, 1.06)\n",
    ")"
   ],
   "id": "3c6505c590eb7427",
   "outputs": [
    {
     "data": {
      "text/plain": [
       "<matplotlib.legend.Legend at 0x3345cd870>"
      ]
     },
     "execution_count": 134,
     "metadata": {},
     "output_type": "execute_result"
    },
    {
     "data": {
      "text/plain": [
       "<Figure size 1000x600 with 1 Axes>"
      ],
      "image/png": "[encoded data removed]"
     },
     "metadata": {},
     "output_type": "display_data"
    }
   ],
   "execution_count": 134
  },
  {
   "metadata": {
    "ExecuteTime": {
     "end_time": "2024-06-20T20:33:58.722303Z",
     "start_time": "2024-06-20T20:33:58.717772Z"
    }
   },
   "cell_type": "code",
   "source": [
    "number_of_metric_a_score_a = metric_a_values_a[metric_a_values_a['values'] >= 0.75].sum()[metric_a]\n",
    "number_of_metric_a_score_b = metric_a_values_b[metric_a_values_b['values'] >= 0.75].sum()[metric_a]\n",
    "number_of_metric_a_score_c = metric_a_values_c[metric_a_values_c['values'] >= 0.75].sum()[metric_a]"
   ],
   "id": "7fdc64047062da25",
   "outputs": [],
   "execution_count": 135
  },
  {
   "metadata": {
    "ExecuteTime": {
     "end_time": "2024-06-20T20:33:58.785624Z",
     "start_time": "2024-06-20T20:33:58.783212Z"
    }
   },
   "cell_type": "code",
   "source": "number_of_metric_a_score_a",
   "id": "9899efb4447e5d83",
   "outputs": [
    {
     "data": {
      "text/plain": [
       "300"
      ]
     },
     "execution_count": 136,
     "metadata": {},
     "output_type": "execute_result"
    }
   ],
   "execution_count": 136
  },
  {
   "metadata": {
    "ExecuteTime": {
     "end_time": "2024-06-20T20:33:58.989510Z",
     "start_time": "2024-06-20T20:33:58.986259Z"
    }
   },
   "cell_type": "code",
   "source": [
    "# now we will calculate the number of questions with a context relevancy score over 0.75\n",
    "metric_a_good_results = pd.DataFrame()\n",
    "metric_a_good_results['llm_model'] = llm_models\n",
    "metric_a_good_results['number_of_good_results'] = [number_of_metric_a_score_a,\n",
    "                                                   number_of_metric_a_score_b,\n",
    "                                                   number_of_metric_a_score_c]"
   ],
   "id": "32fc7ec257b06427",
   "outputs": [],
   "execution_count": 137
  },
  {
   "metadata": {
    "ExecuteTime": {
     "end_time": "2024-06-20T20:33:59.145014Z",
     "start_time": "2024-06-20T20:33:59.141227Z"
    }
   },
   "cell_type": "code",
   "source": "metric_a_good_results",
   "id": "561494d07c7f9754",
   "outputs": [
    {
     "data": {
      "text/plain": [
       "          llm_model  number_of_good_results\n",
       "0    Gemma Instruct                     300\n",
       "1   Llama3 Instruct                     304\n",
       "2  Mistral Instruct                     299"
      ],
      "text/html": [
       "<div>\n",
       "<style scoped>\n",
       "    .dataframe tbody tr th:only-of-type {\n",
       "        vertical-align: middle;\n",
       "    }\n",
       "\n",
       "    .dataframe tbody tr th {\n",
       "        vertical-align: top;\n",
       "    }\n",
       "\n",
       "    .dataframe thead th {\n",
       "        text-align: right;\n",
       "    }\n",
       "</style>\n",
       "<table border=\"1\" class=\"dataframe\">\n",
       "  <thead>\n",
       "    <tr style=\"text-align: right;\">\n",
       "      <th></th>\n",
       "      <th>llm_model</th>\n",
       "      <th>number_of_good_results</th>\n",
       "    </tr>\n",
       "  </thead>\n",
       "  <tbody>\n",
       "    <tr>\n",
       "      <th>0</th>\n",
       "      <td>Gemma Instruct</td>\n",
       "      <td>300</td>\n",
       "    </tr>\n",
       "    <tr>\n",
       "      <th>1</th>\n",
       "      <td>Llama3 Instruct</td>\n",
       "      <td>304</td>\n",
       "    </tr>\n",
       "    <tr>\n",
       "      <th>2</th>\n",
       "      <td>Mistral Instruct</td>\n",
       "      <td>299</td>\n",
       "    </tr>\n",
       "  </tbody>\n",
       "</table>\n",
       "</div>"
      ]
     },
     "execution_count": 138,
     "metadata": {},
     "output_type": "execute_result"
    }
   ],
   "execution_count": 138
  },
  {
   "metadata": {
    "ExecuteTime": {
     "end_time": "2024-06-20T20:33:59.267563Z",
     "start_time": "2024-06-20T20:33:59.262312Z"
    }
   },
   "cell_type": "code",
   "source": [
    "metric_a_percentages = pd.DataFrame()\n",
    "metric_a_percentages['llm_model'] = llm_models\n",
    "metric_a_percentages['percentage'] = [round((number_of_metric_a_score_a / number_of_evaluated_questions) * 100, 2),\n",
    "                                      round((number_of_metric_a_score_b / number_of_evaluated_questions) * 100, 2),\n",
    "                                      round((number_of_metric_a_score_c / number_of_evaluated_questions) * 100, 2)]\n",
    "metric_a_percentages"
   ],
   "id": "bff9b71ae294c5e8",
   "outputs": [
    {
     "data": {
      "text/plain": [
       "          llm_model  percentage\n",
       "0    Gemma Instruct       95.24\n",
       "1   Llama3 Instruct       96.51\n",
       "2  Mistral Instruct       94.92"
      ],
      "text/html": [
       "<div>\n",
       "<style scoped>\n",
       "    .dataframe tbody tr th:only-of-type {\n",
       "        vertical-align: middle;\n",
       "    }\n",
       "\n",
       "    .dataframe tbody tr th {\n",
       "        vertical-align: top;\n",
       "    }\n",
       "\n",
       "    .dataframe thead th {\n",
       "        text-align: right;\n",
       "    }\n",
       "</style>\n",
       "<table border=\"1\" class=\"dataframe\">\n",
       "  <thead>\n",
       "    <tr style=\"text-align: right;\">\n",
       "      <th></th>\n",
       "      <th>llm_model</th>\n",
       "      <th>percentage</th>\n",
       "    </tr>\n",
       "  </thead>\n",
       "  <tbody>\n",
       "    <tr>\n",
       "      <th>0</th>\n",
       "      <td>Gemma Instruct</td>\n",
       "      <td>95.24</td>\n",
       "    </tr>\n",
       "    <tr>\n",
       "      <th>1</th>\n",
       "      <td>Llama3 Instruct</td>\n",
       "      <td>96.51</td>\n",
       "    </tr>\n",
       "    <tr>\n",
       "      <th>2</th>\n",
       "      <td>Mistral Instruct</td>\n",
       "      <td>94.92</td>\n",
       "    </tr>\n",
       "  </tbody>\n",
       "</table>\n",
       "</div>"
      ]
     },
     "execution_count": 139,
     "metadata": {},
     "output_type": "execute_result"
    }
   ],
   "execution_count": 139
  },
  {
   "metadata": {
    "ExecuteTime": {
     "end_time": "2024-06-20T20:33:59.342981Z",
     "start_time": "2024-06-20T20:33:59.338820Z"
    }
   },
   "cell_type": "code",
   "source": [
    "metric_a_percentages.sort_values(by='llm_model', ascending=False, inplace=True)\n",
    "metric_a_percentages.reset_index(inplace=True, drop=True)\n",
    "metric_a_percentages"
   ],
   "id": "2ec31bf4e666c190",
   "outputs": [
    {
     "data": {
      "text/plain": [
       "          llm_model  percentage\n",
       "0  Mistral Instruct       94.92\n",
       "1   Llama3 Instruct       96.51\n",
       "2    Gemma Instruct       95.24"
      ],
      "text/html": [
       "<div>\n",
       "<style scoped>\n",
       "    .dataframe tbody tr th:only-of-type {\n",
       "        vertical-align: middle;\n",
       "    }\n",
       "\n",
       "    .dataframe tbody tr th {\n",
       "        vertical-align: top;\n",
       "    }\n",
       "\n",
       "    .dataframe thead th {\n",
       "        text-align: right;\n",
       "    }\n",
       "</style>\n",
       "<table border=\"1\" class=\"dataframe\">\n",
       "  <thead>\n",
       "    <tr style=\"text-align: right;\">\n",
       "      <th></th>\n",
       "      <th>llm_model</th>\n",
       "      <th>percentage</th>\n",
       "    </tr>\n",
       "  </thead>\n",
       "  <tbody>\n",
       "    <tr>\n",
       "      <th>0</th>\n",
       "      <td>Mistral Instruct</td>\n",
       "      <td>94.92</td>\n",
       "    </tr>\n",
       "    <tr>\n",
       "      <th>1</th>\n",
       "      <td>Llama3 Instruct</td>\n",
       "      <td>96.51</td>\n",
       "    </tr>\n",
       "    <tr>\n",
       "      <th>2</th>\n",
       "      <td>Gemma Instruct</td>\n",
       "      <td>95.24</td>\n",
       "    </tr>\n",
       "  </tbody>\n",
       "</table>\n",
       "</div>"
      ]
     },
     "execution_count": 140,
     "metadata": {},
     "output_type": "execute_result"
    }
   ],
   "execution_count": 140
  },
  {
   "metadata": {
    "ExecuteTime": {
     "end_time": "2024-06-20T20:33:59.583767Z",
     "start_time": "2024-06-20T20:33:59.436858Z"
    }
   },
   "cell_type": "code",
   "source": [
    "# display percentage values in a horizontal bar chart\n",
    "metric_a_percentages_chart = metric_a_percentages.plot(kind='barh', figsize=(10, 6), color=colors)\n",
    "\n",
    "# set the labels\n",
    "metric_a_percentages_chart.set_yticklabels(llm_models_r)\n",
    "metric_a_percentages_chart.set_ylabel(\"LLM Models\", fontsize=14, labelpad=14)\n",
    "metric_a_percentages_chart.set_xlabel(\"Percentage of evaluated Questions\", fontsize=14, labelpad=14)\n",
    "metric_a_percentages_chart.set_title(f\"Evaluate the relevance of the given context to the question ({collection_name})\",\n",
    "                                     fontsize=16, fontweight='bold', pad=14)\n",
    "\n",
    "# add percentage values to the bars\n",
    "for i in range(3):\n",
    "    percentage = metric_a_percentages['percentage'][i]\n",
    "    metric_a_percentages_chart.text(percentage + 1, i, f'{percentage}%', ha='left', fontsize=11, fontweight='bold')\n",
    "\n",
    "# add vertical line for the mean value\n",
    "metric_a_mean_percentage = metric_a_percentages['percentage'].mean()\n",
    "metric_a_percentages_chart.axvline(x=metric_a_mean_percentage, linestyle='--', color='red', linewidth=0.8)\n",
    "metric_a_percentages_chart.text(metric_a_mean_percentage - 14, 1.5, f'Mean: {round(metric_a_mean_percentage, 2)}%',\n",
    "                                color='red', ha='left', fontsize=11, fontweight='bold')\n",
    "\n",
    "# add legend\n",
    "metric_a_percentages_chart.legend(\n",
    "    title='Context Relevancy Score',\n",
    "    labels=['Mean Percentage', 'Percentage of Questions\\nanswered with 1.0'],\n",
    "    loc='upper right',\n",
    "    fontsize=9,\n",
    "    bbox_to_anchor=(1.25, 1.06),\n",
    ")\n"
   ],
   "id": "8d7e06674173a8ce",
   "outputs": [
    {
     "data": {
      "text/plain": [
       "<matplotlib.legend.Legend at 0x334200a00>"
      ]
     },
     "execution_count": 141,
     "metadata": {},
     "output_type": "execute_result"
    },
    {
     "data": {
      "text/plain": [
       "<Figure size 1000x600 with 1 Axes>"
      ],
      "image/png": "[encoded data removed]"
     },
     "metadata": {},
     "output_type": "display_data"
    }
   ],
   "execution_count": 141
  },
  {
   "metadata": {},
   "cell_type": "markdown",
   "source": [
    "The relevancy for the given Context was rated very high for all questions for every Model. On average the Context Relevancy was 0.97.\n",
    "Since this evaluation is done by the evaluation model GPT-3.5 Turbo none of the used models will receive a point."
   ],
   "id": "a7e36cbfe5518537"
  },
  {
   "metadata": {},
   "cell_type": "markdown",
   "source": "### Correctness Score\n",
   "id": "f9022fa9249fa6b9"
  },
  {
   "metadata": {
    "ExecuteTime": {
     "end_time": "2024-06-20T20:33:59.591094Z",
     "start_time": "2024-06-20T20:33:59.588485Z"
    }
   },
   "cell_type": "code",
   "source": [
    "metric_b = columns_to_compare[4]\n",
    "metric_b"
   ],
   "id": "697263404b05e4f",
   "outputs": [
    {
     "data": {
      "text/plain": [
       "'correctness_score'"
      ]
     },
     "execution_count": 142,
     "metadata": {},
     "output_type": "execute_result"
    }
   ],
   "execution_count": 142
  },
  {
   "metadata": {
    "ExecuteTime": {
     "end_time": "2024-06-20T20:33:59.751172Z",
     "start_time": "2024-06-20T20:33:59.749226Z"
    }
   },
   "cell_type": "code",
   "source": "metric_b_label = \"Correctness Score\"",
   "id": "6ac2e6f5a202dc92",
   "outputs": [],
   "execution_count": 143
  },
  {
   "metadata": {
    "ExecuteTime": {
     "end_time": "2024-06-20T20:34:00.027402Z",
     "start_time": "2024-06-20T20:34:00.023543Z"
    }
   },
   "cell_type": "code",
   "source": "gemma_df_a[metric_b].value_counts()",
   "id": "19f3a47821f19f59",
   "outputs": [
    {
     "data": {
      "text/plain": [
       "correctness_score\n",
       "3.0    103\n",
       "4.0     92\n",
       "2.0     50\n",
       "4.5     43\n",
       "3.5     17\n",
       "2.5      5\n",
       "5.0      4\n",
       "1.0      1\n",
       "Name: count, dtype: int64"
      ]
     },
     "execution_count": 144,
     "metadata": {},
     "output_type": "execute_result"
    }
   ],
   "execution_count": 144
  },
  {
   "metadata": {
    "ExecuteTime": {
     "end_time": "2024-06-20T20:34:00.221970Z",
     "start_time": "2024-06-20T20:34:00.174125Z"
    }
   },
   "cell_type": "code",
   "source": "llama3_df[metric_b].value_counts()",
   "id": "da5c2c175cb666a7",
   "outputs": [
    {
     "ename": "NameError",
     "evalue": "name 'llama3_df' is not defined",
     "output_type": "error",
     "traceback": [
      "\u001B[0;31m---------------------------------------------------------------------------\u001B[0m",
      "\u001B[0;31mNameError\u001B[0m                                 Traceback (most recent call last)",
      "Cell \u001B[0;32mIn[145], line 1\u001B[0m\n\u001B[0;32m----> 1\u001B[0m \u001B[43mllama3_df\u001B[49m[metric_b]\u001B[38;5;241m.\u001B[39mvalue_counts()\n",
      "\u001B[0;31mNameError\u001B[0m: name 'llama3_df' is not defined"
     ]
    }
   ],
   "execution_count": 145
  },
  {
   "metadata": {
    "ExecuteTime": {
     "end_time": "2024-06-20T20:34:00.327546Z",
     "start_time": "2024-06-20T20:34:00.311278Z"
    }
   },
   "cell_type": "code",
   "source": "mistral_df[metric_b].value_counts()",
   "id": "fee01113e7b5270b",
   "outputs": [
    {
     "ename": "NameError",
     "evalue": "name 'mistral_df' is not defined",
     "output_type": "error",
     "traceback": [
      "\u001B[0;31m---------------------------------------------------------------------------\u001B[0m",
      "\u001B[0;31mNameError\u001B[0m                                 Traceback (most recent call last)",
      "Cell \u001B[0;32mIn[146], line 1\u001B[0m\n\u001B[0;32m----> 1\u001B[0m \u001B[43mmistral_df\u001B[49m[metric_b]\u001B[38;5;241m.\u001B[39mvalue_counts()\n",
      "\u001B[0;31mNameError\u001B[0m: name 'mistral_df' is not defined"
     ]
    }
   ],
   "execution_count": 146
  },
  {
   "metadata": {
    "ExecuteTime": {
     "end_time": "2024-06-20T20:34:00.514247Z",
     "start_time": "2024-06-20T20:34:00.492608Z"
    }
   },
   "cell_type": "code",
   "source": [
    "# list all three models with the number of occurences of each value above 3.0\n",
    "metric_b_values = pd.DataFrame()\n",
    "metric_b_score_a_above_3 = gemma_df[metric_b].value_counts()[gemma_df[metric_b].value_counts().index >= 3.0]\n",
    "metric_b_score_b_above_3 = llama3_df[metric_b].value_counts()[llama3_df[metric_b].value_counts().index >= 3.0]\n",
    "metric_b_score_c_above_3 = mistral_df[metric_b].value_counts()[mistral_df[metric_b].value_counts().index >= 3.0]\n",
    "\n",
    "print(\n",
    "    f\"{llm_models[0]}: {metric_b_score_a_above_3.sum()}, {llm_models[1]}: {metric_b_score_b_above_3.sum()}, {llm_models[2]}: {metric_b_score_c_above_3.sum()}\")"
   ],
   "id": "2f8df7475edebe83",
   "outputs": [
    {
     "ename": "NameError",
     "evalue": "name 'gemma_df' is not defined",
     "output_type": "error",
     "traceback": [
      "\u001B[0;31m---------------------------------------------------------------------------\u001B[0m",
      "\u001B[0;31mNameError\u001B[0m                                 Traceback (most recent call last)",
      "Cell \u001B[0;32mIn[147], line 3\u001B[0m\n\u001B[1;32m      1\u001B[0m \u001B[38;5;66;03m# list all three models with the number of occurences of each value above 3.0\u001B[39;00m\n\u001B[1;32m      2\u001B[0m metric_b_values \u001B[38;5;241m=\u001B[39m pd\u001B[38;5;241m.\u001B[39mDataFrame()\n\u001B[0;32m----> 3\u001B[0m metric_b_score_a_above_3 \u001B[38;5;241m=\u001B[39m \u001B[43mgemma_df\u001B[49m[metric_b]\u001B[38;5;241m.\u001B[39mvalue_counts()[gemma_df[metric_b]\u001B[38;5;241m.\u001B[39mvalue_counts()\u001B[38;5;241m.\u001B[39mindex \u001B[38;5;241m>\u001B[39m\u001B[38;5;241m=\u001B[39m \u001B[38;5;241m3.0\u001B[39m]\n\u001B[1;32m      4\u001B[0m metric_b_score_b_above_3 \u001B[38;5;241m=\u001B[39m llama3_df[metric_b]\u001B[38;5;241m.\u001B[39mvalue_counts()[llama3_df[metric_b]\u001B[38;5;241m.\u001B[39mvalue_counts()\u001B[38;5;241m.\u001B[39mindex \u001B[38;5;241m>\u001B[39m\u001B[38;5;241m=\u001B[39m \u001B[38;5;241m3.0\u001B[39m]\n\u001B[1;32m      5\u001B[0m metric_b_score_c_above_3 \u001B[38;5;241m=\u001B[39m mistral_df[metric_b]\u001B[38;5;241m.\u001B[39mvalue_counts()[mistral_df[metric_b]\u001B[38;5;241m.\u001B[39mvalue_counts()\u001B[38;5;241m.\u001B[39mindex \u001B[38;5;241m>\u001B[39m\u001B[38;5;241m=\u001B[39m \u001B[38;5;241m3.0\u001B[39m]\n",
      "\u001B[0;31mNameError\u001B[0m: name 'gemma_df' is not defined"
     ]
    }
   ],
   "execution_count": 147
  },
  {
   "metadata": {
    "ExecuteTime": {
     "end_time": "2024-06-20T20:34:01.448173Z",
     "start_time": "2024-06-20T20:34:01.433610Z"
    }
   },
   "cell_type": "code",
   "source": [
    "metric_b_score_a = gemma_df[metric_b].value_counts()\n",
    "metric_b_score_b = llama3_df[metric_b].value_counts()\n",
    "metric_b_score_c = mistral_df[metric_b].value_counts()"
   ],
   "id": "9318f8123dce74cc",
   "outputs": [
    {
     "ename": "NameError",
     "evalue": "name 'gemma_df' is not defined",
     "output_type": "error",
     "traceback": [
      "\u001B[0;31m---------------------------------------------------------------------------\u001B[0m",
      "\u001B[0;31mNameError\u001B[0m                                 Traceback (most recent call last)",
      "Cell \u001B[0;32mIn[148], line 1\u001B[0m\n\u001B[0;32m----> 1\u001B[0m metric_b_score_a \u001B[38;5;241m=\u001B[39m \u001B[43mgemma_df\u001B[49m[metric_b]\u001B[38;5;241m.\u001B[39mvalue_counts()\n\u001B[1;32m      2\u001B[0m metric_b_score_b \u001B[38;5;241m=\u001B[39m llama3_df[metric_b]\u001B[38;5;241m.\u001B[39mvalue_counts()\n\u001B[1;32m      3\u001B[0m metric_b_score_c \u001B[38;5;241m=\u001B[39m mistral_df[metric_b]\u001B[38;5;241m.\u001B[39mvalue_counts()\n",
      "\u001B[0;31mNameError\u001B[0m: name 'gemma_df' is not defined"
     ]
    }
   ],
   "execution_count": 148
  },
  {
   "metadata": {
    "ExecuteTime": {
     "end_time": "2024-06-20T20:34:01.487338Z",
     "start_time": "2024-06-20T20:34:01.470914Z"
    }
   },
   "cell_type": "code",
   "source": [
    "# display a bar chart\n",
    "metric_b_table = pd.concat([metric_b_score_a, metric_b_score_b, metric_b_score_c], axis=1)\n",
    "metric_b_table.columns = llm_models\n",
    "metric_b_table = metric_b_table.fillna(0)\n",
    "\n",
    "# sort score ascending\n",
    "metric_b_table = metric_b_table.sort_values(by=metric_b, ascending=False)\n",
    "metric_b_table"
   ],
   "id": "61aca3833bf4411b",
   "outputs": [
    {
     "ename": "NameError",
     "evalue": "name 'metric_b_score_a' is not defined",
     "output_type": "error",
     "traceback": [
      "\u001B[0;31m---------------------------------------------------------------------------\u001B[0m",
      "\u001B[0;31mNameError\u001B[0m                                 Traceback (most recent call last)",
      "Cell \u001B[0;32mIn[149], line 2\u001B[0m\n\u001B[1;32m      1\u001B[0m \u001B[38;5;66;03m# display a bar chart\u001B[39;00m\n\u001B[0;32m----> 2\u001B[0m metric_b_table \u001B[38;5;241m=\u001B[39m pd\u001B[38;5;241m.\u001B[39mconcat([\u001B[43mmetric_b_score_a\u001B[49m, metric_b_score_b, metric_b_score_c], axis\u001B[38;5;241m=\u001B[39m\u001B[38;5;241m1\u001B[39m)\n\u001B[1;32m      3\u001B[0m metric_b_table\u001B[38;5;241m.\u001B[39mcolumns \u001B[38;5;241m=\u001B[39m llm_models\n\u001B[1;32m      4\u001B[0m metric_b_table \u001B[38;5;241m=\u001B[39m metric_b_table\u001B[38;5;241m.\u001B[39mfillna(\u001B[38;5;241m0\u001B[39m)\n",
      "\u001B[0;31mNameError\u001B[0m: name 'metric_b_score_a' is not defined"
     ]
    }
   ],
   "execution_count": 149
  },
  {
   "metadata": {
    "ExecuteTime": {
     "end_time": "2024-06-20T20:34:01.664127Z",
     "start_time": "2024-06-20T20:34:01.648562Z"
    }
   },
   "cell_type": "code",
   "source": [
    "# display a bar chart\n",
    "metric_b_table.plot(kind='bar', figsize=(10, 6), color=colors)\n",
    "\n",
    "# set the labels\n",
    "plt.xticks(rotation=0)  # horizontal x-labels\n",
    "plt.xlabel(\"Correctness Scores\", fontsize=14, labelpad=14)\n",
    "plt.ylabel(f\"Number of Answers by {metric_b_label}\", fontsize=14, labelpad=14)\n",
    "plt.title(f\"Evaluation - Distribution of {metric_b_label} ({collection_name})\", fontsize=16, fontweight='bold', pad=14)\n",
    "plt.legend(title='LLM Models', labels=llm_models, loc='upper right', fontsize=9, bbox_to_anchor=(1.25, 1.06))"
   ],
   "id": "3c25ac57cfea80f3",
   "outputs": [
    {
     "ename": "NameError",
     "evalue": "name 'metric_b_table' is not defined",
     "output_type": "error",
     "traceback": [
      "\u001B[0;31m---------------------------------------------------------------------------\u001B[0m",
      "\u001B[0;31mNameError\u001B[0m                                 Traceback (most recent call last)",
      "Cell \u001B[0;32mIn[150], line 2\u001B[0m\n\u001B[1;32m      1\u001B[0m \u001B[38;5;66;03m# display a bar chart\u001B[39;00m\n\u001B[0;32m----> 2\u001B[0m \u001B[43mmetric_b_table\u001B[49m\u001B[38;5;241m.\u001B[39mplot(kind\u001B[38;5;241m=\u001B[39m\u001B[38;5;124m'\u001B[39m\u001B[38;5;124mbar\u001B[39m\u001B[38;5;124m'\u001B[39m, figsize\u001B[38;5;241m=\u001B[39m(\u001B[38;5;241m10\u001B[39m, \u001B[38;5;241m6\u001B[39m), color\u001B[38;5;241m=\u001B[39mcolors)\n\u001B[1;32m      4\u001B[0m \u001B[38;5;66;03m# set the labels\u001B[39;00m\n\u001B[1;32m      5\u001B[0m plt\u001B[38;5;241m.\u001B[39mxticks(rotation\u001B[38;5;241m=\u001B[39m\u001B[38;5;241m0\u001B[39m)  \u001B[38;5;66;03m# horizontal x-labels\u001B[39;00m\n",
      "\u001B[0;31mNameError\u001B[0m: name 'metric_b_table' is not defined"
     ]
    }
   ],
   "execution_count": 150
  },
  {
   "metadata": {
    "ExecuteTime": {
     "end_time": "2024-06-20T20:34:01.700344Z",
     "start_time": "2024-06-20T20:34:01.682036Z"
    }
   },
   "cell_type": "code",
   "source": [
    "# create a boxplot for the correctness score\n",
    "metric_b_plot = sns.boxplot(\n",
    "    df,\n",
    "    x=\"llm_model\",\n",
    "    y=f\"{metric_b}\",\n",
    "    linewidth=1,\n",
    "    showmeans=True,\n",
    "    palette=colors,\n",
    "    boxprops={\"edgecolor\": \"k\"},\n",
    "    meanprops={\"marker\": \"o\", \"markerfacecolor\": \"none\", \"markeredgecolor\": \"red\"}\n",
    ")\n",
    "metric_b_score_mean = round(df[metric_b].mean(), 2)\n",
    "metric_b_plot.axhline(df[metric_b].mean(), linestyle='--', color=\"red\", linewidth=1.2)\n",
    "\n",
    "# show mean value\n",
    "metric_b_plot.text(0.7, metric_b_score_mean + 0.1, f'Mean: {metric_b_score_mean}', color='red', ha='left', fontsize=12,\n",
    "                   fontweight='bold')\n",
    "\n",
    "# create labels with the mean value for each model\n",
    "labels = results.keys()\n",
    "labels_with_mean = [f'{label}\\n(Mean {round(results[label][metric_b].mean(), 2)})' for label in labels]\n",
    "\n",
    "# set the labels\n",
    "metric_b_plot.set_xticklabels(labels_with_mean)\n",
    "metric_b_plot.set_title(f\"Evaluation - Distribution of {metric_b_label} ({collection_name})\", fontsize=16,\n",
    "                        fontweight='bold', pad=14)\n",
    "metric_b_plot.set_xlabel(\"LLM Models\", fontsize=14, labelpad=14)\n",
    "metric_b_plot.set_ylabel(metric_b_label + \"s\", fontsize=14, labelpad=14)\n",
    "metric_b_plot.tick_params(axis='y', labelsize=12)\n",
    "\n",
    "# show the plot\n",
    "plt.tight_layout()\n",
    "plt.show()"
   ],
   "id": "613cf5fc04a087a9",
   "outputs": [
    {
     "ename": "NameError",
     "evalue": "name 'df' is not defined",
     "output_type": "error",
     "traceback": [
      "\u001B[0;31m---------------------------------------------------------------------------\u001B[0m",
      "\u001B[0;31mNameError\u001B[0m                                 Traceback (most recent call last)",
      "Cell \u001B[0;32mIn[151], line 3\u001B[0m\n\u001B[1;32m      1\u001B[0m \u001B[38;5;66;03m# create a boxplot for the correctness score\u001B[39;00m\n\u001B[1;32m      2\u001B[0m metric_b_plot \u001B[38;5;241m=\u001B[39m sns\u001B[38;5;241m.\u001B[39mboxplot(\n\u001B[0;32m----> 3\u001B[0m     \u001B[43mdf\u001B[49m,\n\u001B[1;32m      4\u001B[0m     x\u001B[38;5;241m=\u001B[39m\u001B[38;5;124m\"\u001B[39m\u001B[38;5;124mllm_model\u001B[39m\u001B[38;5;124m\"\u001B[39m,\n\u001B[1;32m      5\u001B[0m     y\u001B[38;5;241m=\u001B[39m\u001B[38;5;124mf\u001B[39m\u001B[38;5;124m\"\u001B[39m\u001B[38;5;132;01m{\u001B[39;00mmetric_b\u001B[38;5;132;01m}\u001B[39;00m\u001B[38;5;124m\"\u001B[39m,\n\u001B[1;32m      6\u001B[0m     linewidth\u001B[38;5;241m=\u001B[39m\u001B[38;5;241m1\u001B[39m,\n\u001B[1;32m      7\u001B[0m     showmeans\u001B[38;5;241m=\u001B[39m\u001B[38;5;28;01mTrue\u001B[39;00m,\n\u001B[1;32m      8\u001B[0m     palette\u001B[38;5;241m=\u001B[39mcolors,\n\u001B[1;32m      9\u001B[0m     boxprops\u001B[38;5;241m=\u001B[39m{\u001B[38;5;124m\"\u001B[39m\u001B[38;5;124medgecolor\u001B[39m\u001B[38;5;124m\"\u001B[39m: \u001B[38;5;124m\"\u001B[39m\u001B[38;5;124mk\u001B[39m\u001B[38;5;124m\"\u001B[39m},\n\u001B[1;32m     10\u001B[0m     meanprops\u001B[38;5;241m=\u001B[39m{\u001B[38;5;124m\"\u001B[39m\u001B[38;5;124mmarker\u001B[39m\u001B[38;5;124m\"\u001B[39m: \u001B[38;5;124m\"\u001B[39m\u001B[38;5;124mo\u001B[39m\u001B[38;5;124m\"\u001B[39m, \u001B[38;5;124m\"\u001B[39m\u001B[38;5;124mmarkerfacecolor\u001B[39m\u001B[38;5;124m\"\u001B[39m: \u001B[38;5;124m\"\u001B[39m\u001B[38;5;124mnone\u001B[39m\u001B[38;5;124m\"\u001B[39m, \u001B[38;5;124m\"\u001B[39m\u001B[38;5;124mmarkeredgecolor\u001B[39m\u001B[38;5;124m\"\u001B[39m: \u001B[38;5;124m\"\u001B[39m\u001B[38;5;124mred\u001B[39m\u001B[38;5;124m\"\u001B[39m}\n\u001B[1;32m     11\u001B[0m )\n\u001B[1;32m     12\u001B[0m metric_b_score_mean \u001B[38;5;241m=\u001B[39m \u001B[38;5;28mround\u001B[39m(df[metric_b]\u001B[38;5;241m.\u001B[39mmean(), \u001B[38;5;241m2\u001B[39m)\n\u001B[1;32m     13\u001B[0m metric_b_plot\u001B[38;5;241m.\u001B[39maxhline(df[metric_b]\u001B[38;5;241m.\u001B[39mmean(), linestyle\u001B[38;5;241m=\u001B[39m\u001B[38;5;124m'\u001B[39m\u001B[38;5;124m--\u001B[39m\u001B[38;5;124m'\u001B[39m, color\u001B[38;5;241m=\u001B[39m\u001B[38;5;124m\"\u001B[39m\u001B[38;5;124mred\u001B[39m\u001B[38;5;124m\"\u001B[39m, linewidth\u001B[38;5;241m=\u001B[39m\u001B[38;5;241m1.2\u001B[39m)\n",
      "\u001B[0;31mNameError\u001B[0m: name 'df' is not defined"
     ]
    }
   ],
   "execution_count": 151
  },
  {
   "metadata": {},
   "cell_type": "markdown",
   "source": "The Correctness Score evaluates how correct the answer is to the given question. The mean correctness score across all models is 3.53. Llama3 Instruct has the highest mean score, while Gemma Instruct has the lowest. Despite that all Models are showing a similar consistency in performance. All Models have some outliers which means sometimes they performing very poor.",
   "id": "f3d4c40ce122fc5e"
  },
  {
   "metadata": {},
   "cell_type": "markdown",
   "source": "",
   "id": "9bc4d6cfde015200"
  },
  {
   "metadata": {
    "ExecuteTime": {
     "end_time": "2024-06-20T20:34:01.807146Z",
     "start_time": "2024-06-20T20:34:01.793984Z"
    }
   },
   "cell_type": "code",
   "source": [
    "# print all sums\n",
    "print(\n",
    "    f\"{llm_models[0]}: {metric_b_score_a.sum()}, {llm_models[1]}: {metric_b_score_b.sum()}, {llm_models[2]}: {metric_b_score_c.sum()}\")"
   ],
   "id": "e75239ec86fa1d27",
   "outputs": [
    {
     "ename": "NameError",
     "evalue": "name 'metric_b_score_a' is not defined",
     "output_type": "error",
     "traceback": [
      "\u001B[0;31m---------------------------------------------------------------------------\u001B[0m",
      "\u001B[0;31mNameError\u001B[0m                                 Traceback (most recent call last)",
      "Cell \u001B[0;32mIn[152], line 2\u001B[0m\n\u001B[1;32m      1\u001B[0m \u001B[38;5;66;03m# print all sums\u001B[39;00m\n\u001B[0;32m----> 2\u001B[0m \u001B[38;5;28mprint\u001B[39m(\u001B[38;5;124mf\u001B[39m\u001B[38;5;124m\"\u001B[39m\u001B[38;5;132;01m{\u001B[39;00mllm_models[\u001B[38;5;241m0\u001B[39m]\u001B[38;5;132;01m}\u001B[39;00m\u001B[38;5;124m: \u001B[39m\u001B[38;5;132;01m{\u001B[39;00m\u001B[43mmetric_b_score_a\u001B[49m\u001B[38;5;241m.\u001B[39msum()\u001B[38;5;132;01m}\u001B[39;00m\u001B[38;5;124m, \u001B[39m\u001B[38;5;132;01m{\u001B[39;00mllm_models[\u001B[38;5;241m1\u001B[39m]\u001B[38;5;132;01m}\u001B[39;00m\u001B[38;5;124m: \u001B[39m\u001B[38;5;132;01m{\u001B[39;00mmetric_b_score_b\u001B[38;5;241m.\u001B[39msum()\u001B[38;5;132;01m}\u001B[39;00m\u001B[38;5;124m, \u001B[39m\u001B[38;5;132;01m{\u001B[39;00mllm_models[\u001B[38;5;241m2\u001B[39m]\u001B[38;5;132;01m}\u001B[39;00m\u001B[38;5;124m: \u001B[39m\u001B[38;5;132;01m{\u001B[39;00mmetric_b_score_c\u001B[38;5;241m.\u001B[39msum()\u001B[38;5;132;01m}\u001B[39;00m\u001B[38;5;124m\"\u001B[39m)\n",
      "\u001B[0;31mNameError\u001B[0m: name 'metric_b_score_a' is not defined"
     ]
    }
   ],
   "execution_count": 152
  },
  {
   "metadata": {
    "ExecuteTime": {
     "end_time": "2024-06-20T20:34:01.872657Z",
     "start_time": "2024-06-20T20:34:01.859548Z"
    }
   },
   "cell_type": "code",
   "source": [
    "# if the model has the most values over 3.0, it will get 1 point\n",
    "# if the model has the second most values over 3.0, it will get 0.5 points\n",
    "# if the model has the least values over 3.0, it will get 0 points\n",
    "metric_b_scores_sorted_list = sorted(\n",
    "    [(llms[0], metric_b_score_a.sum()), (llms[1], metric_b_score_b.sum()), (llms[2], metric_b_score_c.sum())],\n",
    "    key=lambda x: x[1], reverse=True)\n",
    "metric_b_scores_sorted_list"
   ],
   "id": "45a6af66f63e6fd2",
   "outputs": [
    {
     "ename": "NameError",
     "evalue": "name 'metric_b_score_a' is not defined",
     "output_type": "error",
     "traceback": [
      "\u001B[0;31m---------------------------------------------------------------------------\u001B[0m",
      "\u001B[0;31mNameError\u001B[0m                                 Traceback (most recent call last)",
      "Cell \u001B[0;32mIn[153], line 4\u001B[0m\n\u001B[1;32m      1\u001B[0m \u001B[38;5;66;03m# if the model has the most values over 3.0, it will get 1 point\u001B[39;00m\n\u001B[1;32m      2\u001B[0m \u001B[38;5;66;03m# if the model has the second most values over 3.0, it will get 0.5 points\u001B[39;00m\n\u001B[1;32m      3\u001B[0m \u001B[38;5;66;03m# if the model has the least values over 3.0, it will get 0 points\u001B[39;00m\n\u001B[0;32m----> 4\u001B[0m metric_b_scores_sorted_list \u001B[38;5;241m=\u001B[39m \u001B[38;5;28msorted\u001B[39m([(llms[\u001B[38;5;241m0\u001B[39m], \u001B[43mmetric_b_score_a\u001B[49m\u001B[38;5;241m.\u001B[39msum()), (llms[\u001B[38;5;241m1\u001B[39m], metric_b_score_b\u001B[38;5;241m.\u001B[39msum()), (llms[\u001B[38;5;241m2\u001B[39m], metric_b_score_c\u001B[38;5;241m.\u001B[39msum())], key\u001B[38;5;241m=\u001B[39m\u001B[38;5;28;01mlambda\u001B[39;00m x: x[\u001B[38;5;241m1\u001B[39m], reverse\u001B[38;5;241m=\u001B[39m\u001B[38;5;28;01mTrue\u001B[39;00m)\n\u001B[1;32m      5\u001B[0m metric_b_scores_sorted_list\n",
      "\u001B[0;31mNameError\u001B[0m: name 'metric_b_score_a' is not defined"
     ]
    }
   ],
   "execution_count": 153
  },
  {
   "metadata": {
    "ExecuteTime": {
     "end_time": "2024-06-20T20:34:01.985768Z",
     "start_time": "2024-06-20T20:34:01.972764Z"
    }
   },
   "cell_type": "code",
   "source": [
    "for i, (model, _) in enumerate(metric_b_scores_sorted_list):\n",
    "    overall_scores[model][metric_b] = scores[i]"
   ],
   "id": "a2bc610998fa89ec",
   "outputs": [
    {
     "ename": "NameError",
     "evalue": "name 'metric_b_scores_sorted_list' is not defined",
     "output_type": "error",
     "traceback": [
      "\u001B[0;31m---------------------------------------------------------------------------\u001B[0m",
      "\u001B[0;31mNameError\u001B[0m                                 Traceback (most recent call last)",
      "Cell \u001B[0;32mIn[154], line 1\u001B[0m\n\u001B[0;32m----> 1\u001B[0m \u001B[38;5;28;01mfor\u001B[39;00m i, (model, _) \u001B[38;5;129;01min\u001B[39;00m \u001B[38;5;28menumerate\u001B[39m(\u001B[43mmetric_b_scores_sorted_list\u001B[49m):\n\u001B[1;32m      2\u001B[0m     overall_scores[model][metric_b] \u001B[38;5;241m=\u001B[39m scores[i]\n",
      "\u001B[0;31mNameError\u001B[0m: name 'metric_b_scores_sorted_list' is not defined"
     ]
    }
   ],
   "execution_count": 154
  },
  {
   "metadata": {
    "ExecuteTime": {
     "end_time": "2024-06-20T20:34:02.009911Z",
     "start_time": "2024-06-20T20:34:02.007307Z"
    }
   },
   "cell_type": "code",
   "source": [
    "# print the scores\n",
    "overall_scores"
   ],
   "id": "f7e01edd96ad68e5",
   "outputs": [
    {
     "data": {
      "text/plain": [
       "{'gemma_instruct': {'context_relevancy_score': 0.0,\n",
       "  'correctness_score': 0.0,\n",
       "  'faithfulness_score': 0.0,\n",
       "  'relevancy_score': 0.0,\n",
       "  'model_score': 0.0},\n",
       " 'llama3_instruct': {'context_relevancy_score': 0.0,\n",
       "  'correctness_score': 0.0,\n",
       "  'faithfulness_score': 0.0,\n",
       "  'relevancy_score': 0.0,\n",
       "  'model_score': 0.0},\n",
       " 'mistral_instruct': {'context_relevancy_score': 0.0,\n",
       "  'correctness_score': 0.0,\n",
       "  'faithfulness_score': 0.0,\n",
       "  'relevancy_score': 0.0,\n",
       "  'model_score': 0.0}}"
      ]
     },
     "execution_count": 155,
     "metadata": {},
     "output_type": "execute_result"
    }
   ],
   "execution_count": 155
  },
  {
   "metadata": {},
   "cell_type": "markdown",
   "source": "### Faithfulness Score\n",
   "id": "9ee92dc9f2cc8fb"
  },
  {
   "metadata": {
    "ExecuteTime": {
     "end_time": "2024-06-20T20:34:02.125409Z",
     "start_time": "2024-06-20T20:34:02.122820Z"
    }
   },
   "cell_type": "code",
   "source": [
    "metric_c = columns_to_compare[5]\n",
    "metric_c"
   ],
   "id": "6958d14d6165ed89",
   "outputs": [
    {
     "data": {
      "text/plain": [
       "'faithfulness_score'"
      ]
     },
     "execution_count": 156,
     "metadata": {},
     "output_type": "execute_result"
    }
   ],
   "execution_count": 156
  },
  {
   "metadata": {
    "ExecuteTime": {
     "end_time": "2024-06-20T20:34:02.156272Z",
     "start_time": "2024-06-20T20:34:02.154536Z"
    }
   },
   "cell_type": "code",
   "source": "metric_c_label = \"Faithfulness Score\"",
   "id": "ef19b7e12ea163bb",
   "outputs": [],
   "execution_count": 157
  },
  {
   "metadata": {
    "ExecuteTime": {
     "end_time": "2024-06-20T20:34:02.293233Z",
     "start_time": "2024-06-20T20:34:02.280118Z"
    }
   },
   "cell_type": "code",
   "source": "gemma_df[metric_c].value_counts()",
   "id": "34c256c8a7952d56",
   "outputs": [
    {
     "ename": "NameError",
     "evalue": "name 'gemma_df' is not defined",
     "output_type": "error",
     "traceback": [
      "\u001B[0;31m---------------------------------------------------------------------------\u001B[0m",
      "\u001B[0;31mNameError\u001B[0m                                 Traceback (most recent call last)",
      "Cell \u001B[0;32mIn[158], line 1\u001B[0m\n\u001B[0;32m----> 1\u001B[0m \u001B[43mgemma_df\u001B[49m[metric_c]\u001B[38;5;241m.\u001B[39mvalue_counts()\n",
      "\u001B[0;31mNameError\u001B[0m: name 'gemma_df' is not defined"
     ]
    }
   ],
   "execution_count": 158
  },
  {
   "metadata": {
    "ExecuteTime": {
     "end_time": "2024-06-20T20:34:02.321627Z",
     "start_time": "2024-06-20T20:34:02.309007Z"
    }
   },
   "cell_type": "code",
   "source": "llama3_df[metric_c].value_counts()",
   "id": "74e16f6e56ccba0",
   "outputs": [
    {
     "ename": "NameError",
     "evalue": "name 'llama3_df' is not defined",
     "output_type": "error",
     "traceback": [
      "\u001B[0;31m---------------------------------------------------------------------------\u001B[0m",
      "\u001B[0;31mNameError\u001B[0m                                 Traceback (most recent call last)",
      "Cell \u001B[0;32mIn[159], line 1\u001B[0m\n\u001B[0;32m----> 1\u001B[0m \u001B[43mllama3_df\u001B[49m[metric_c]\u001B[38;5;241m.\u001B[39mvalue_counts()\n",
      "\u001B[0;31mNameError\u001B[0m: name 'llama3_df' is not defined"
     ]
    }
   ],
   "execution_count": 159
  },
  {
   "metadata": {
    "ExecuteTime": {
     "end_time": "2024-06-20T20:34:02.402582Z",
     "start_time": "2024-06-20T20:34:02.389494Z"
    }
   },
   "cell_type": "code",
   "source": "mistral_df[metric_c].value_counts()",
   "id": "282bbe549e911b3c",
   "outputs": [
    {
     "ename": "NameError",
     "evalue": "name 'mistral_df' is not defined",
     "output_type": "error",
     "traceback": [
      "\u001B[0;31m---------------------------------------------------------------------------\u001B[0m",
      "\u001B[0;31mNameError\u001B[0m                                 Traceback (most recent call last)",
      "Cell \u001B[0;32mIn[160], line 1\u001B[0m\n\u001B[0;32m----> 1\u001B[0m \u001B[43mmistral_df\u001B[49m[metric_c]\u001B[38;5;241m.\u001B[39mvalue_counts()\n",
      "\u001B[0;31mNameError\u001B[0m: name 'mistral_df' is not defined"
     ]
    }
   ],
   "execution_count": 160
  },
  {
   "metadata": {
    "ExecuteTime": {
     "end_time": "2024-06-20T20:34:02.486920Z",
     "start_time": "2024-06-20T20:34:02.472403Z"
    }
   },
   "cell_type": "code",
   "source": [
    "# create a DataFrame for the faithfulness score values\n",
    "metric_c_values_a = pd.DataFrame()\n",
    "metric_c_values_a[metric_c] = gemma_df[metric_c]\n",
    "metric_c_values_a['llm_model'] = llm_models[0]\n",
    "print(llm_models[0])\n",
    "metric_c_values_b = pd.DataFrame()\n",
    "metric_c_values_b[metric_c] = llama3_df[metric_c]\n",
    "metric_c_values_b['llm_model'] = llm_models[1]\n",
    "print(llm_models[1])\n",
    "metric_c_values_c = pd.DataFrame()\n",
    "metric_c_values_c[metric_c] = mistral_df[metric_c]\n",
    "metric_c_values_c['llm_model'] = llm_models[2]\n",
    "print(llm_models[2])"
   ],
   "id": "a755a75621478fe2",
   "outputs": [
    {
     "ename": "NameError",
     "evalue": "name 'gemma_df' is not defined",
     "output_type": "error",
     "traceback": [
      "\u001B[0;31m---------------------------------------------------------------------------\u001B[0m",
      "\u001B[0;31mNameError\u001B[0m                                 Traceback (most recent call last)",
      "Cell \u001B[0;32mIn[161], line 3\u001B[0m\n\u001B[1;32m      1\u001B[0m \u001B[38;5;66;03m# create a DataFrame for the faithfulness score values\u001B[39;00m\n\u001B[1;32m      2\u001B[0m metric_c_values_a \u001B[38;5;241m=\u001B[39m pd\u001B[38;5;241m.\u001B[39mDataFrame()\n\u001B[0;32m----> 3\u001B[0m metric_c_values_a[metric_c] \u001B[38;5;241m=\u001B[39m \u001B[43mgemma_df\u001B[49m[metric_c]\n\u001B[1;32m      4\u001B[0m metric_c_values_a[\u001B[38;5;124m'\u001B[39m\u001B[38;5;124mllm_model\u001B[39m\u001B[38;5;124m'\u001B[39m] \u001B[38;5;241m=\u001B[39m llm_models[\u001B[38;5;241m0\u001B[39m]\n\u001B[1;32m      5\u001B[0m \u001B[38;5;28mprint\u001B[39m(llm_models[\u001B[38;5;241m0\u001B[39m])\n",
      "\u001B[0;31mNameError\u001B[0m: name 'gemma_df' is not defined"
     ]
    }
   ],
   "execution_count": 161
  },
  {
   "metadata": {
    "ExecuteTime": {
     "end_time": "2024-06-20T20:34:02.557894Z",
     "start_time": "2024-06-20T20:34:02.545631Z"
    }
   },
   "cell_type": "code",
   "source": [
    "metric_c_values_combined = pd.concat([metric_c_values_a, metric_c_values_b, metric_c_values_c])\n",
    "metric_c_values_combined"
   ],
   "id": "8ec95f2f638a7a60",
   "outputs": [
    {
     "ename": "NameError",
     "evalue": "name 'metric_c_values_b' is not defined",
     "output_type": "error",
     "traceback": [
      "\u001B[0;31m---------------------------------------------------------------------------\u001B[0m",
      "\u001B[0;31mNameError\u001B[0m                                 Traceback (most recent call last)",
      "Cell \u001B[0;32mIn[162], line 1\u001B[0m\n\u001B[0;32m----> 1\u001B[0m metric_c_values_combined \u001B[38;5;241m=\u001B[39m pd\u001B[38;5;241m.\u001B[39mconcat([metric_c_values_a, \u001B[43mmetric_c_values_b\u001B[49m, metric_c_values_c])\n\u001B[1;32m      2\u001B[0m metric_c_values_combined\n",
      "\u001B[0;31mNameError\u001B[0m: name 'metric_c_values_b' is not defined"
     ]
    }
   ],
   "execution_count": 162
  },
  {
   "metadata": {
    "ExecuteTime": {
     "end_time": "2024-06-20T20:34:02.640278Z",
     "start_time": "2024-06-20T20:34:02.626699Z"
    }
   },
   "cell_type": "code",
   "source": [
    "metric_c_values = metric_c_values_combined.groupby('llm_model')[metric_c].value_counts(sort=True,\n",
    "                                                                                       ascending=False).unstack().fillna(\n",
    "    0)\n",
    "metric_c_values.columns = ['zero', 'one']\n",
    "metric_c_values.columns = ['zero', 'one']\n",
    "metric_c_values = metric_c_values[['one', 'zero']]  # switch columns\n",
    "# reverse order of 'llm_model' index\n",
    "metric_c_values = metric_c_values.reindex(index=llm_models_r)\n",
    "metric_c_values"
   ],
   "id": "e477ca3e61c9d025",
   "outputs": [
    {
     "ename": "NameError",
     "evalue": "name 'metric_c_values_combined' is not defined",
     "output_type": "error",
     "traceback": [
      "\u001B[0;31m---------------------------------------------------------------------------\u001B[0m",
      "\u001B[0;31mNameError\u001B[0m                                 Traceback (most recent call last)",
      "Cell \u001B[0;32mIn[163], line 1\u001B[0m\n\u001B[0;32m----> 1\u001B[0m metric_c_values \u001B[38;5;241m=\u001B[39m \u001B[43mmetric_c_values_combined\u001B[49m\u001B[38;5;241m.\u001B[39mgroupby(\u001B[38;5;124m'\u001B[39m\u001B[38;5;124mllm_model\u001B[39m\u001B[38;5;124m'\u001B[39m)[metric_c]\u001B[38;5;241m.\u001B[39mvalue_counts(sort\u001B[38;5;241m=\u001B[39m\u001B[38;5;28;01mTrue\u001B[39;00m,\n\u001B[1;32m      2\u001B[0m                                                                                        ascending\u001B[38;5;241m=\u001B[39m\u001B[38;5;28;01mFalse\u001B[39;00m)\u001B[38;5;241m.\u001B[39munstack()\u001B[38;5;241m.\u001B[39mfillna(\n\u001B[1;32m      3\u001B[0m     \u001B[38;5;241m0\u001B[39m)\n\u001B[1;32m      4\u001B[0m metric_c_values\u001B[38;5;241m.\u001B[39mcolumns \u001B[38;5;241m=\u001B[39m [\u001B[38;5;124m'\u001B[39m\u001B[38;5;124mzero\u001B[39m\u001B[38;5;124m'\u001B[39m, \u001B[38;5;124m'\u001B[39m\u001B[38;5;124mone\u001B[39m\u001B[38;5;124m'\u001B[39m]\n\u001B[1;32m      5\u001B[0m metric_c_values\u001B[38;5;241m.\u001B[39mcolumns \u001B[38;5;241m=\u001B[39m [\u001B[38;5;124m'\u001B[39m\u001B[38;5;124mzero\u001B[39m\u001B[38;5;124m'\u001B[39m, \u001B[38;5;124m'\u001B[39m\u001B[38;5;124mone\u001B[39m\u001B[38;5;124m'\u001B[39m]\n",
      "\u001B[0;31mNameError\u001B[0m: name 'metric_c_values_combined' is not defined"
     ]
    }
   ],
   "execution_count": 163
  },
  {
   "metadata": {
    "ExecuteTime": {
     "end_time": "2024-06-20T20:34:02.729448Z",
     "start_time": "2024-06-20T20:34:02.710224Z"
    }
   },
   "cell_type": "code",
   "source": [
    "# create a horizontal bar chart\n",
    "metric_c_hbar_chart = metric_c_values.plot(\n",
    "    kind='barh',\n",
    "    stacked=True,\n",
    "    figsize=(10, 6),\n",
    "    color=colors[:2]\n",
    ")\n",
    "\n",
    "# display the number of evaluated questions\n",
    "metric_c_hbar_chart.axvline(x=number_of_evaluated_questions, linestyle='-', color=\"black\", linewidth=0.8)\n",
    "metric_c_hbar_chart.text(318, 1.01, '315', ha='left', fontsize=11, fontweight='bold')\n",
    "\n",
    "# set the labels\n",
    "metric_c_hbar_chart.set_ylabel(\"Faithfulness Score across Models\", fontsize=14, labelpad=14)\n",
    "metric_c_hbar_chart.set_xlabel(\"Distribution of the Score across Questions\", fontsize=14, labelpad=14)\n",
    "metric_c_hbar_chart.set_title(f\"Evaluation - Distribution of the {metric_c_label} ({collection_name})\", fontsize=16,\n",
    "                              fontweight='bold', pad=14)\n",
    "\n",
    "# add legend\n",
    "metric_c_hbar_chart.legend(\n",
    "    title='Faithfulness Score',\n",
    "    labels=['Number of Questions', 'Faithful', 'Not Faithful'],\n",
    "    loc='upper right',\n",
    "    fontsize=9,\n",
    "    bbox_to_anchor=(1.25, 1.06),\n",
    ")\n",
    "\n",
    "# display the mean as vertical line\n",
    "metric_c_hbar_chart.axvline(metric_c_values['one'].mean(), color='red', linestyle='--', linewidth=1.2)\n",
    "metric_c_hbar_chart.text(metric_c_values['one'].mean() - 50, 1.5,\n",
    "                         f'Mean: {round(metric_c_values[\"one\"].mean(), 2)}', color='red', ha='left', fontsize=12,\n",
    "                         fontweight='bold')\n",
    "\n",
    "# add percentage values to the bars\n",
    "for i in range(3):\n",
    "    num_zero = metric_c_values['zero'][i]\n",
    "    num_one = metric_c_values['one'][i]\n",
    "    # value 0.0\n",
    "    label_a = f'{round((num_zero / number_of_evaluated_questions) * 100, 2)}% ({num_zero})'\n",
    "    metric_c_hbar_chart.text(310, i - 0.03, label_a, ha='right', fontsize=11, fontweight='bold', color='white')\n",
    "    # value 1.0\n",
    "    label_b = f'{round((num_one / number_of_evaluated_questions) * 100, 2)}% ({num_one})'\n",
    "    metric_c_hbar_chart.text(4, i - 0.03, label_b, ha='left', fontsize=11, fontweight='bold', color='white')\n"
   ],
   "id": "3d54c00d2f3c348d",
   "outputs": [
    {
     "ename": "NameError",
     "evalue": "name 'metric_c_values' is not defined",
     "output_type": "error",
     "traceback": [
      "\u001B[0;31m---------------------------------------------------------------------------\u001B[0m",
      "\u001B[0;31mNameError\u001B[0m                                 Traceback (most recent call last)",
      "Cell \u001B[0;32mIn[164], line 2\u001B[0m\n\u001B[1;32m      1\u001B[0m \u001B[38;5;66;03m# create a horizontal bar chart\u001B[39;00m\n\u001B[0;32m----> 2\u001B[0m metric_c_hbar_chart \u001B[38;5;241m=\u001B[39m \u001B[43mmetric_c_values\u001B[49m\u001B[38;5;241m.\u001B[39mplot(\n\u001B[1;32m      3\u001B[0m     kind\u001B[38;5;241m=\u001B[39m\u001B[38;5;124m'\u001B[39m\u001B[38;5;124mbarh\u001B[39m\u001B[38;5;124m'\u001B[39m,\n\u001B[1;32m      4\u001B[0m     stacked\u001B[38;5;241m=\u001B[39m\u001B[38;5;28;01mTrue\u001B[39;00m,\n\u001B[1;32m      5\u001B[0m     figsize\u001B[38;5;241m=\u001B[39m(\u001B[38;5;241m10\u001B[39m, \u001B[38;5;241m6\u001B[39m),\n\u001B[1;32m      6\u001B[0m     color\u001B[38;5;241m=\u001B[39mcolors[:\u001B[38;5;241m2\u001B[39m]\n\u001B[1;32m      7\u001B[0m )\n\u001B[1;32m      9\u001B[0m \u001B[38;5;66;03m# display the number of evaluated questions\u001B[39;00m\n\u001B[1;32m     10\u001B[0m metric_c_hbar_chart\u001B[38;5;241m.\u001B[39maxvline(x\u001B[38;5;241m=\u001B[39mnumber_of_evaluated_questions, linestyle\u001B[38;5;241m=\u001B[39m\u001B[38;5;124m'\u001B[39m\u001B[38;5;124m-\u001B[39m\u001B[38;5;124m'\u001B[39m, color\u001B[38;5;241m=\u001B[39m\u001B[38;5;124m\"\u001B[39m\u001B[38;5;124mblack\u001B[39m\u001B[38;5;124m\"\u001B[39m, linewidth\u001B[38;5;241m=\u001B[39m\u001B[38;5;241m0.8\u001B[39m)\n",
      "\u001B[0;31mNameError\u001B[0m: name 'metric_c_values' is not defined"
     ]
    }
   ],
   "execution_count": 164
  },
  {
   "metadata": {},
   "cell_type": "markdown",
   "source": "The Faithfulness Score assesses how accurately the given response was based on the given context. The average Faithfulness Score is about 277, indicating that about 88% of the responses were faithful, meaning that no hallucination was observed in these cases. Mistral Instruct was the best performing model, while Gemma Instructs was well below average.",
   "id": "85e75438c850d64b"
  },
  {
   "metadata": {
    "ExecuteTime": {
     "end_time": "2024-06-20T20:34:02.779306Z",
     "start_time": "2024-06-20T20:34:02.765452Z"
    }
   },
   "cell_type": "code",
   "source": [
    "# list all three models with the number of occurrences of each value equal to 1.0\n",
    "metric_c_score_a = gemma_df[metric_c].value_counts()[1.0]\n",
    "metric_c_score_b = llama3_df[metric_c].value_counts()[1.0]\n",
    "metric_c_score_c = mistral_df[metric_c].value_counts()[1.0]\n",
    "print(f\"{llm_models[0]}: {metric_c_score_a}, {llm_models[1]}: {metric_c_score_b}, {llm_models[2]}: {metric_c_score_c}\")"
   ],
   "id": "e633efd72a8c3b69",
   "outputs": [
    {
     "ename": "NameError",
     "evalue": "name 'gemma_df' is not defined",
     "output_type": "error",
     "traceback": [
      "\u001B[0;31m---------------------------------------------------------------------------\u001B[0m",
      "\u001B[0;31mNameError\u001B[0m                                 Traceback (most recent call last)",
      "Cell \u001B[0;32mIn[165], line 2\u001B[0m\n\u001B[1;32m      1\u001B[0m \u001B[38;5;66;03m# list all three models with the number of occurrences of each value equal to 1.0\u001B[39;00m\n\u001B[0;32m----> 2\u001B[0m metric_c_score_a \u001B[38;5;241m=\u001B[39m \u001B[43mgemma_df\u001B[49m[metric_c]\u001B[38;5;241m.\u001B[39mvalue_counts()[\u001B[38;5;241m1.0\u001B[39m]\n\u001B[1;32m      3\u001B[0m metric_c_score_b \u001B[38;5;241m=\u001B[39m llama3_df[metric_c]\u001B[38;5;241m.\u001B[39mvalue_counts()[\u001B[38;5;241m1.0\u001B[39m]\n\u001B[1;32m      4\u001B[0m metric_c_score_c \u001B[38;5;241m=\u001B[39m mistral_df[metric_c]\u001B[38;5;241m.\u001B[39mvalue_counts()[\u001B[38;5;241m1.0\u001B[39m]\n",
      "\u001B[0;31mNameError\u001B[0m: name 'gemma_df' is not defined"
     ]
    }
   ],
   "execution_count": 165
  },
  {
   "metadata": {
    "ExecuteTime": {
     "end_time": "2024-06-20T20:34:02.907300Z",
     "start_time": "2024-06-20T20:34:02.893758Z"
    }
   },
   "cell_type": "code",
   "source": [
    "metric_c_percentages = pd.DataFrame()\n",
    "metric_c_percentages['llm_model'] = llm_models_r\n",
    "metric_c_percentages['percentage'] = [round((metric_c_score_c / number_of_evaluated_questions) * 100, 2),\n",
    "                                      round((metric_c_score_b / number_of_evaluated_questions) * 100, 2),\n",
    "                                      round((metric_c_score_a / number_of_evaluated_questions) * 100, 2)]\n",
    "metric_c_percentages"
   ],
   "id": "725d4b60617cd024",
   "outputs": [
    {
     "ename": "NameError",
     "evalue": "name 'metric_c_score_c' is not defined",
     "output_type": "error",
     "traceback": [
      "\u001B[0;31m---------------------------------------------------------------------------\u001B[0m",
      "\u001B[0;31mNameError\u001B[0m                                 Traceback (most recent call last)",
      "Cell \u001B[0;32mIn[166], line 3\u001B[0m\n\u001B[1;32m      1\u001B[0m metric_c_percentages \u001B[38;5;241m=\u001B[39m pd\u001B[38;5;241m.\u001B[39mDataFrame()\n\u001B[1;32m      2\u001B[0m metric_c_percentages[\u001B[38;5;124m'\u001B[39m\u001B[38;5;124mllm_model\u001B[39m\u001B[38;5;124m'\u001B[39m] \u001B[38;5;241m=\u001B[39m llm_models_r\n\u001B[0;32m----> 3\u001B[0m metric_c_percentages[\u001B[38;5;124m'\u001B[39m\u001B[38;5;124mpercentage\u001B[39m\u001B[38;5;124m'\u001B[39m] \u001B[38;5;241m=\u001B[39m [\u001B[38;5;28mround\u001B[39m((\u001B[43mmetric_c_score_c\u001B[49m \u001B[38;5;241m/\u001B[39m number_of_evaluated_questions) \u001B[38;5;241m*\u001B[39m \u001B[38;5;241m100\u001B[39m, \u001B[38;5;241m2\u001B[39m),\n\u001B[1;32m      4\u001B[0m                                       \u001B[38;5;28mround\u001B[39m((metric_c_score_b \u001B[38;5;241m/\u001B[39m number_of_evaluated_questions) \u001B[38;5;241m*\u001B[39m \u001B[38;5;241m100\u001B[39m, \u001B[38;5;241m2\u001B[39m),\n\u001B[1;32m      5\u001B[0m                                       \u001B[38;5;28mround\u001B[39m((metric_c_score_a \u001B[38;5;241m/\u001B[39m number_of_evaluated_questions) \u001B[38;5;241m*\u001B[39m \u001B[38;5;241m100\u001B[39m, \u001B[38;5;241m2\u001B[39m)]\n\u001B[1;32m      6\u001B[0m metric_c_percentages\n",
      "\u001B[0;31mNameError\u001B[0m: name 'metric_c_score_c' is not defined"
     ]
    }
   ],
   "execution_count": 166
  },
  {
   "metadata": {},
   "cell_type": "markdown",
   "source": "Mistral Instruct has the highest mean faithfulness score. Llama3 Instruct is on the second position and Gemma Instruct on the last. Mistral Instruct generally performs better than the other two models in terms of faithfulness score and has more faithful answers with a score of 1.0. This means that hallucination is less likely to occur in Mistral Instruct than in the other two models.",
   "id": "29dc5c3fc6697e72"
  },
  {
   "metadata": {
    "ExecuteTime": {
     "end_time": "2024-06-20T20:34:03.066120Z",
     "start_time": "2024-06-20T20:34:03.051592Z"
    }
   },
   "cell_type": "code",
   "source": [
    "metric_c_scores_sorted_list = sorted(\n",
    "    [(llms[0], metric_c_score_a), (llms[1], metric_c_score_b), (llms[2], metric_c_score_c)], key=lambda x: x[1],\n",
    "    reverse=True)\n",
    "metric_c_scores_sorted_list"
   ],
   "id": "162e93e0cdc10f12",
   "outputs": [
    {
     "ename": "NameError",
     "evalue": "name 'metric_c_score_a' is not defined",
     "output_type": "error",
     "traceback": [
      "\u001B[0;31m---------------------------------------------------------------------------\u001B[0m",
      "\u001B[0;31mNameError\u001B[0m                                 Traceback (most recent call last)",
      "Cell \u001B[0;32mIn[167], line 1\u001B[0m\n\u001B[0;32m----> 1\u001B[0m metric_c_scores_sorted_list \u001B[38;5;241m=\u001B[39m \u001B[38;5;28msorted\u001B[39m([(llms[\u001B[38;5;241m0\u001B[39m], \u001B[43mmetric_c_score_a\u001B[49m), (llms[\u001B[38;5;241m1\u001B[39m], metric_c_score_b), (llms[\u001B[38;5;241m2\u001B[39m], metric_c_score_c)], key\u001B[38;5;241m=\u001B[39m\u001B[38;5;28;01mlambda\u001B[39;00m x: x[\u001B[38;5;241m1\u001B[39m], reverse\u001B[38;5;241m=\u001B[39m\u001B[38;5;28;01mTrue\u001B[39;00m)\n\u001B[1;32m      2\u001B[0m metric_c_scores_sorted_list\n",
      "\u001B[0;31mNameError\u001B[0m: name 'metric_c_score_a' is not defined"
     ]
    }
   ],
   "execution_count": 167
  },
  {
   "metadata": {
    "ExecuteTime": {
     "end_time": "2024-06-20T20:34:03.130192Z",
     "start_time": "2024-06-20T20:34:03.117487Z"
    }
   },
   "cell_type": "code",
   "source": [
    "for i, (model, _) in enumerate(metric_c_scores_sorted_list):\n",
    "    overall_scores[model][metric_c] = scores[i]"
   ],
   "id": "ca0576cd898364b9",
   "outputs": [
    {
     "ename": "NameError",
     "evalue": "name 'metric_c_scores_sorted_list' is not defined",
     "output_type": "error",
     "traceback": [
      "\u001B[0;31m---------------------------------------------------------------------------\u001B[0m",
      "\u001B[0;31mNameError\u001B[0m                                 Traceback (most recent call last)",
      "Cell \u001B[0;32mIn[168], line 1\u001B[0m\n\u001B[0;32m----> 1\u001B[0m \u001B[38;5;28;01mfor\u001B[39;00m i, (model, _) \u001B[38;5;129;01min\u001B[39;00m \u001B[38;5;28menumerate\u001B[39m(\u001B[43mmetric_c_scores_sorted_list\u001B[49m):\n\u001B[1;32m      2\u001B[0m     overall_scores[model][metric_c] \u001B[38;5;241m=\u001B[39m scores[i]\n",
      "\u001B[0;31mNameError\u001B[0m: name 'metric_c_scores_sorted_list' is not defined"
     ]
    }
   ],
   "execution_count": 168
  },
  {
   "metadata": {
    "ExecuteTime": {
     "end_time": "2024-06-20T20:34:03.275529Z",
     "start_time": "2024-06-20T20:34:03.272869Z"
    }
   },
   "cell_type": "code",
   "source": [
    "# print the scores\n",
    "overall_scores"
   ],
   "id": "a20fa603dbf12e1d",
   "outputs": [
    {
     "data": {
      "text/plain": [
       "{'gemma_instruct': {'context_relevancy_score': 0.0,\n",
       "  'correctness_score': 0.0,\n",
       "  'faithfulness_score': 0.0,\n",
       "  'relevancy_score': 0.0,\n",
       "  'model_score': 0.0},\n",
       " 'llama3_instruct': {'context_relevancy_score': 0.0,\n",
       "  'correctness_score': 0.0,\n",
       "  'faithfulness_score': 0.0,\n",
       "  'relevancy_score': 0.0,\n",
       "  'model_score': 0.0},\n",
       " 'mistral_instruct': {'context_relevancy_score': 0.0,\n",
       "  'correctness_score': 0.0,\n",
       "  'faithfulness_score': 0.0,\n",
       "  'relevancy_score': 0.0,\n",
       "  'model_score': 0.0}}"
      ]
     },
     "execution_count": 169,
     "metadata": {},
     "output_type": "execute_result"
    }
   ],
   "execution_count": 169
  },
  {
   "metadata": {},
   "cell_type": "markdown",
   "source": "### Relevancy Score\n",
   "id": "24df3864923f0118"
  },
  {
   "metadata": {
    "ExecuteTime": {
     "end_time": "2024-06-20T20:34:03.327446Z",
     "start_time": "2024-06-20T20:34:03.324890Z"
    }
   },
   "cell_type": "code",
   "source": [
    "metric_d = columns_to_compare[6]\n",
    "metric_d"
   ],
   "id": "97a94ae77d4e843b",
   "outputs": [
    {
     "data": {
      "text/plain": [
       "'relevancy_score'"
      ]
     },
     "execution_count": 170,
     "metadata": {},
     "output_type": "execute_result"
    }
   ],
   "execution_count": 170
  },
  {
   "metadata": {
    "ExecuteTime": {
     "end_time": "2024-06-20T20:34:03.469787Z",
     "start_time": "2024-06-20T20:34:03.467854Z"
    }
   },
   "cell_type": "code",
   "source": "metric_d_label = \"Relevancy Score\"",
   "id": "f0dbf1975968a9cb",
   "outputs": [],
   "execution_count": 171
  },
  {
   "metadata": {
    "ExecuteTime": {
     "end_time": "2024-06-20T20:34:03.609701Z",
     "start_time": "2024-06-20T20:34:03.596041Z"
    }
   },
   "cell_type": "code",
   "source": "gemma_df[metric_d].value_counts()",
   "id": "280a2f1824c42f04",
   "outputs": [
    {
     "ename": "NameError",
     "evalue": "name 'gemma_df' is not defined",
     "output_type": "error",
     "traceback": [
      "\u001B[0;31m---------------------------------------------------------------------------\u001B[0m",
      "\u001B[0;31mNameError\u001B[0m                                 Traceback (most recent call last)",
      "Cell \u001B[0;32mIn[172], line 1\u001B[0m\n\u001B[0;32m----> 1\u001B[0m \u001B[43mgemma_df\u001B[49m[metric_d]\u001B[38;5;241m.\u001B[39mvalue_counts()\n",
      "\u001B[0;31mNameError\u001B[0m: name 'gemma_df' is not defined"
     ]
    }
   ],
   "execution_count": 172
  },
  {
   "metadata": {
    "ExecuteTime": {
     "end_time": "2024-06-20T20:34:03.731425Z",
     "start_time": "2024-06-20T20:34:03.716452Z"
    }
   },
   "cell_type": "code",
   "source": "llama3_df[metric_d].value_counts()",
   "id": "c236795b09ebd8fd",
   "outputs": [
    {
     "ename": "NameError",
     "evalue": "name 'llama3_df' is not defined",
     "output_type": "error",
     "traceback": [
      "\u001B[0;31m---------------------------------------------------------------------------\u001B[0m",
      "\u001B[0;31mNameError\u001B[0m                                 Traceback (most recent call last)",
      "Cell \u001B[0;32mIn[173], line 1\u001B[0m\n\u001B[0;32m----> 1\u001B[0m \u001B[43mllama3_df\u001B[49m[metric_d]\u001B[38;5;241m.\u001B[39mvalue_counts()\n",
      "\u001B[0;31mNameError\u001B[0m: name 'llama3_df' is not defined"
     ]
    }
   ],
   "execution_count": 173
  },
  {
   "metadata": {
    "ExecuteTime": {
     "end_time": "2024-06-20T20:34:03.767464Z",
     "start_time": "2024-06-20T20:34:03.754068Z"
    }
   },
   "cell_type": "code",
   "source": "mistral_df[metric_d].value_counts()",
   "id": "614bfec4befb9a37",
   "outputs": [
    {
     "ename": "NameError",
     "evalue": "name 'mistral_df' is not defined",
     "output_type": "error",
     "traceback": [
      "\u001B[0;31m---------------------------------------------------------------------------\u001B[0m",
      "\u001B[0;31mNameError\u001B[0m                                 Traceback (most recent call last)",
      "Cell \u001B[0;32mIn[174], line 1\u001B[0m\n\u001B[0;32m----> 1\u001B[0m \u001B[43mmistral_df\u001B[49m[metric_d]\u001B[38;5;241m.\u001B[39mvalue_counts()\n",
      "\u001B[0;31mNameError\u001B[0m: name 'mistral_df' is not defined"
     ]
    }
   ],
   "execution_count": 174
  },
  {
   "metadata": {
    "ExecuteTime": {
     "end_time": "2024-06-20T20:34:03.896989Z",
     "start_time": "2024-06-20T20:34:03.879723Z"
    }
   },
   "cell_type": "code",
   "source": [
    "# create a DataFrame for the relevancy score values\n",
    "metric_d_values_a = pd.DataFrame()\n",
    "metric_d_values_a[metric_d] = gemma_df[metric_d]\n",
    "metric_d_values_a['llm_model'] = llm_models[0]\n",
    "print(llm_models[0])\n",
    "\n",
    "metric_d_values_b = pd.DataFrame()\n",
    "metric_d_values_b[metric_d] = llama3_df[metric_d]\n",
    "metric_d_values_b['llm_model'] = llm_models[1]\n",
    "print(llm_models[1])\n",
    "\n",
    "metric_d_values_c = pd.DataFrame()\n",
    "metric_d_values_c[metric_d] = mistral_df[metric_d]\n",
    "metric_d_values_c['llm_model'] = llm_models[2]\n",
    "print(llm_models[2])\n",
    "\n",
    "metric_d_values_combined = pd.concat([metric_d_values_a, metric_d_values_b, metric_d_values_c])\n",
    "metric_d_values = metric_d_values_combined.groupby('llm_model')[metric_d].value_counts(sort=True,\n",
    "                                                                                       ascending=False).unstack().fillna(\n",
    "    0)\n",
    "metric_d_values.columns = ['zero', 'one']\n",
    "metric_d_values = metric_d_values[['one', 'zero']]  # switch columns"
   ],
   "id": "a2f263fa32ac86e4",
   "outputs": [
    {
     "ename": "NameError",
     "evalue": "name 'gemma_df' is not defined",
     "output_type": "error",
     "traceback": [
      "\u001B[0;31m---------------------------------------------------------------------------\u001B[0m",
      "\u001B[0;31mNameError\u001B[0m                                 Traceback (most recent call last)",
      "Cell \u001B[0;32mIn[175], line 3\u001B[0m\n\u001B[1;32m      1\u001B[0m \u001B[38;5;66;03m# create a DataFrame for the relevancy score values\u001B[39;00m\n\u001B[1;32m      2\u001B[0m metric_d_values_a \u001B[38;5;241m=\u001B[39m pd\u001B[38;5;241m.\u001B[39mDataFrame()\n\u001B[0;32m----> 3\u001B[0m metric_d_values_a[metric_d] \u001B[38;5;241m=\u001B[39m \u001B[43mgemma_df\u001B[49m[metric_d]\n\u001B[1;32m      4\u001B[0m metric_d_values_a[\u001B[38;5;124m'\u001B[39m\u001B[38;5;124mllm_model\u001B[39m\u001B[38;5;124m'\u001B[39m] \u001B[38;5;241m=\u001B[39m llm_models[\u001B[38;5;241m0\u001B[39m]\n\u001B[1;32m      5\u001B[0m \u001B[38;5;28mprint\u001B[39m(llm_models[\u001B[38;5;241m0\u001B[39m])\n",
      "\u001B[0;31mNameError\u001B[0m: name 'gemma_df' is not defined"
     ]
    }
   ],
   "execution_count": 175
  },
  {
   "metadata": {
    "ExecuteTime": {
     "end_time": "2024-06-20T20:34:03.956454Z",
     "start_time": "2024-06-20T20:34:03.941983Z"
    }
   },
   "cell_type": "code",
   "source": [
    "# sort index manually\n",
    "metric_d_values = metric_d_values.reindex(index=llm_models_r)\n",
    "metric_d_values"
   ],
   "id": "5407dbfcdb7878e5",
   "outputs": [
    {
     "ename": "NameError",
     "evalue": "name 'metric_d_values' is not defined",
     "output_type": "error",
     "traceback": [
      "\u001B[0;31m---------------------------------------------------------------------------\u001B[0m",
      "\u001B[0;31mNameError\u001B[0m                                 Traceback (most recent call last)",
      "Cell \u001B[0;32mIn[176], line 2\u001B[0m\n\u001B[1;32m      1\u001B[0m \u001B[38;5;66;03m# sort index manually\u001B[39;00m\n\u001B[0;32m----> 2\u001B[0m metric_d_values \u001B[38;5;241m=\u001B[39m \u001B[43mmetric_d_values\u001B[49m\u001B[38;5;241m.\u001B[39mreindex(index\u001B[38;5;241m=\u001B[39mllm_models_r)\n\u001B[1;32m      3\u001B[0m metric_d_values\n",
      "\u001B[0;31mNameError\u001B[0m: name 'metric_d_values' is not defined"
     ]
    }
   ],
   "execution_count": 176
  },
  {
   "metadata": {
    "ExecuteTime": {
     "end_time": "2024-06-20T20:34:04.054506Z",
     "start_time": "2024-06-20T20:34:04.040695Z"
    }
   },
   "cell_type": "code",
   "source": [
    "# display the number of questions with a relevancy score of 1.0\n",
    "metric_d_score_a = gemma_df[metric_d].value_counts()[1.0]\n",
    "metric_d_score_b = llama3_df[metric_d].value_counts()[1.0]\n",
    "metric_d_score_c = mistral_df[metric_d].value_counts()[1.0]\n",
    "# tuple with model and score\n",
    "metric_d_score_list = [(llms[0], metric_d_score_a), (llms[1], metric_d_score_b), (llms[2], metric_d_score_c)]\n",
    "print(f\"{llm_models[0]}: {metric_d_score_a}, {llm_models[1]}: {metric_d_score_b}, {llm_models[2]}: {metric_d_score_c}\")"
   ],
   "id": "fdc076904162fa49",
   "outputs": [
    {
     "ename": "NameError",
     "evalue": "name 'gemma_df' is not defined",
     "output_type": "error",
     "traceback": [
      "\u001B[0;31m---------------------------------------------------------------------------\u001B[0m",
      "\u001B[0;31mNameError\u001B[0m                                 Traceback (most recent call last)",
      "Cell \u001B[0;32mIn[177], line 2\u001B[0m\n\u001B[1;32m      1\u001B[0m \u001B[38;5;66;03m# display the number of questions with a relevancy score of 1.0\u001B[39;00m\n\u001B[0;32m----> 2\u001B[0m metric_d_score_a \u001B[38;5;241m=\u001B[39m \u001B[43mgemma_df\u001B[49m[metric_d]\u001B[38;5;241m.\u001B[39mvalue_counts()[\u001B[38;5;241m1.0\u001B[39m]\n\u001B[1;32m      3\u001B[0m metric_d_score_b \u001B[38;5;241m=\u001B[39m llama3_df[metric_d]\u001B[38;5;241m.\u001B[39mvalue_counts()[\u001B[38;5;241m1.0\u001B[39m]\n\u001B[1;32m      4\u001B[0m metric_d_score_c \u001B[38;5;241m=\u001B[39m mistral_df[metric_d]\u001B[38;5;241m.\u001B[39mvalue_counts()[\u001B[38;5;241m1.0\u001B[39m]\n",
      "\u001B[0;31mNameError\u001B[0m: name 'gemma_df' is not defined"
     ]
    }
   ],
   "execution_count": 177
  },
  {
   "metadata": {
    "ExecuteTime": {
     "end_time": "2024-06-20T20:34:04.103142Z",
     "start_time": "2024-06-20T20:34:04.081903Z"
    }
   },
   "cell_type": "code",
   "source": [
    "# create a horizontal bar chart\n",
    "metric_d_hbar_chart = metric_d_values.plot(kind='barh', stacked=True, figsize=(10, 6), color=colors[:2])\n",
    "metric_d_hbar_chart.axvline(x=number_of_evaluated_questions, linestyle='-', color=\"black\", linewidth=0.8)\n",
    "metric_d_hbar_chart.text(318, 1.01, '315', ha='left', fontsize=11, fontweight='bold')\n",
    "metric_d_hbar_chart.set_ylabel(metric_d_label + \" per Model\", fontsize=14, labelpad=14)\n",
    "metric_d_hbar_chart.set_xlabel(\"Distribution of the Score across Questions\", fontsize=14, labelpad=14)\n",
    "metric_d_hbar_chart.set_title(f\"Evaluation - Distribution of the {metric_d_label} ({collection_name})\", fontsize=16,\n",
    "                              fontweight='bold', pad=14)\n",
    "metric_d_hbar_chart.legend(\n",
    "    title=metric_d_label,\n",
    "    labels=['Number of Questions', 'Relevant', 'Not Relevant'],\n",
    "    loc='upper right',\n",
    "    fontsize=9,\n",
    "    bbox_to_anchor=(1.25, 1.06),\n",
    ")\n",
    "\n",
    "# display the mean as vertical line\n",
    "metric_d_hbar_chart.axvline(metric_d_values['one'].mean(), color='red', linestyle='--', linewidth=1.2)\n",
    "# add text to the vertical line\n",
    "metric_d_hbar_chart.text(metric_d_values['one'].mean() - 50, 1.5, f'Mean: {round(metric_d_values[\"one\"].mean(), 2)}',\n",
    "                         color='red', ha='left', fontsize=12, fontweight='bold')\n",
    "\n",
    "# add percentage values to the bars\n",
    "for i in range(3):\n",
    "    num_zero = metric_d_values['zero'][i]\n",
    "    num_one = metric_d_values['one'][i]\n",
    "    # value 0.0\n",
    "    label_a = f'{round((num_zero / number_of_evaluated_questions) * 100, 2)}% ({num_zero})'\n",
    "    metric_d_hbar_chart.text(310, i - 0.03, label_a, ha='right', fontsize=11, fontweight='bold', color='white')\n",
    "    # value 1.0\n",
    "    label_b = f'{round((num_one / number_of_evaluated_questions) * 100, 2)}% ({num_one})'\n",
    "    metric_d_hbar_chart.text(4, i - 0.03, label_b, ha='left', fontsize=11, fontweight='bold', color='white')\n"
   ],
   "id": "1f0fa2e4edfe2e4e",
   "outputs": [
    {
     "ename": "NameError",
     "evalue": "name 'metric_d_values' is not defined",
     "output_type": "error",
     "traceback": [
      "\u001B[0;31m---------------------------------------------------------------------------\u001B[0m",
      "\u001B[0;31mNameError\u001B[0m                                 Traceback (most recent call last)",
      "Cell \u001B[0;32mIn[178], line 2\u001B[0m\n\u001B[1;32m      1\u001B[0m \u001B[38;5;66;03m# create a horizontal bar chart\u001B[39;00m\n\u001B[0;32m----> 2\u001B[0m metric_d_hbar_chart \u001B[38;5;241m=\u001B[39m \u001B[43mmetric_d_values\u001B[49m\u001B[38;5;241m.\u001B[39mplot(kind\u001B[38;5;241m=\u001B[39m\u001B[38;5;124m'\u001B[39m\u001B[38;5;124mbarh\u001B[39m\u001B[38;5;124m'\u001B[39m, stacked\u001B[38;5;241m=\u001B[39m\u001B[38;5;28;01mTrue\u001B[39;00m, figsize\u001B[38;5;241m=\u001B[39m(\u001B[38;5;241m10\u001B[39m, \u001B[38;5;241m6\u001B[39m), color\u001B[38;5;241m=\u001B[39mcolors[:\u001B[38;5;241m2\u001B[39m])\n\u001B[1;32m      3\u001B[0m metric_d_hbar_chart\u001B[38;5;241m.\u001B[39maxvline(x\u001B[38;5;241m=\u001B[39mnumber_of_evaluated_questions, linestyle\u001B[38;5;241m=\u001B[39m\u001B[38;5;124m'\u001B[39m\u001B[38;5;124m-\u001B[39m\u001B[38;5;124m'\u001B[39m, color\u001B[38;5;241m=\u001B[39m\u001B[38;5;124m\"\u001B[39m\u001B[38;5;124mblack\u001B[39m\u001B[38;5;124m\"\u001B[39m, linewidth\u001B[38;5;241m=\u001B[39m\u001B[38;5;241m0.8\u001B[39m)\n\u001B[1;32m      4\u001B[0m metric_d_hbar_chart\u001B[38;5;241m.\u001B[39mtext(\u001B[38;5;241m318\u001B[39m, \u001B[38;5;241m1.01\u001B[39m, \u001B[38;5;124m'\u001B[39m\u001B[38;5;124m315\u001B[39m\u001B[38;5;124m'\u001B[39m, ha\u001B[38;5;241m=\u001B[39m\u001B[38;5;124m'\u001B[39m\u001B[38;5;124mleft\u001B[39m\u001B[38;5;124m'\u001B[39m, fontsize\u001B[38;5;241m=\u001B[39m\u001B[38;5;241m11\u001B[39m, fontweight\u001B[38;5;241m=\u001B[39m\u001B[38;5;124m'\u001B[39m\u001B[38;5;124mbold\u001B[39m\u001B[38;5;124m'\u001B[39m)\n",
      "\u001B[0;31mNameError\u001B[0m: name 'metric_d_values' is not defined"
     ]
    }
   ],
   "execution_count": 178
  },
  {
   "metadata": {},
   "cell_type": "markdown",
   "source": "The relevance score assesses how relevant the context and given answer is to the given question. The mean relevancy score is about 60% with 189 of 315 questions. This means the the answer is not very good. Gemma was performing very good with around 64% of the time the answers were relevant to the given context and question. Sometimes the answer has some extra text wrapped around the real answer which leads to a general poor performance of all models.",
   "id": "2115a15510ac42a6"
  },
  {
   "metadata": {
    "ExecuteTime": {
     "end_time": "2024-06-20T20:34:04.231550Z",
     "start_time": "2024-06-20T20:34:04.218779Z"
    }
   },
   "cell_type": "code",
   "source": "metric_d_scores_sorted_list = sorted(metric_d_score_list, key=lambda x: x[1], reverse=True)",
   "id": "8a05fe5a7705a569",
   "outputs": [
    {
     "ename": "NameError",
     "evalue": "name 'metric_d_score_list' is not defined",
     "output_type": "error",
     "traceback": [
      "\u001B[0;31m---------------------------------------------------------------------------\u001B[0m",
      "\u001B[0;31mNameError\u001B[0m                                 Traceback (most recent call last)",
      "Cell \u001B[0;32mIn[179], line 1\u001B[0m\n\u001B[0;32m----> 1\u001B[0m metric_d_scores_sorted_list \u001B[38;5;241m=\u001B[39m \u001B[38;5;28msorted\u001B[39m(\u001B[43mmetric_d_score_list\u001B[49m, key\u001B[38;5;241m=\u001B[39m\u001B[38;5;28;01mlambda\u001B[39;00m x: x[\u001B[38;5;241m1\u001B[39m], reverse\u001B[38;5;241m=\u001B[39m\u001B[38;5;28;01mTrue\u001B[39;00m)\n",
      "\u001B[0;31mNameError\u001B[0m: name 'metric_d_score_list' is not defined"
     ]
    }
   ],
   "execution_count": 179
  },
  {
   "metadata": {
    "ExecuteTime": {
     "end_time": "2024-06-20T20:34:04.283070Z",
     "start_time": "2024-06-20T20:34:04.269770Z"
    }
   },
   "cell_type": "code",
   "source": [
    "for i, (model, _) in enumerate(metric_d_scores_sorted_list):\n",
    "    overall_scores[model][metric_d] = scores[i]"
   ],
   "id": "b1642eab8fe01310",
   "outputs": [
    {
     "ename": "NameError",
     "evalue": "name 'metric_d_scores_sorted_list' is not defined",
     "output_type": "error",
     "traceback": [
      "\u001B[0;31m---------------------------------------------------------------------------\u001B[0m",
      "\u001B[0;31mNameError\u001B[0m                                 Traceback (most recent call last)",
      "Cell \u001B[0;32mIn[180], line 1\u001B[0m\n\u001B[0;32m----> 1\u001B[0m \u001B[38;5;28;01mfor\u001B[39;00m i, (model, _) \u001B[38;5;129;01min\u001B[39;00m \u001B[38;5;28menumerate\u001B[39m(\u001B[43mmetric_d_scores_sorted_list\u001B[49m):\n\u001B[1;32m      2\u001B[0m     overall_scores[model][metric_d] \u001B[38;5;241m=\u001B[39m scores[i]\n",
      "\u001B[0;31mNameError\u001B[0m: name 'metric_d_scores_sorted_list' is not defined"
     ]
    }
   ],
   "execution_count": 180
  },
  {
   "metadata": {
    "ExecuteTime": {
     "end_time": "2024-06-20T20:34:04.391567Z",
     "start_time": "2024-06-20T20:34:04.389069Z"
    }
   },
   "cell_type": "code",
   "source": [
    "# print the scores\n",
    "overall_scores"
   ],
   "id": "c8a914a681067d2e",
   "outputs": [
    {
     "data": {
      "text/plain": [
       "{'gemma_instruct': {'context_relevancy_score': 0.0,\n",
       "  'correctness_score': 0.0,\n",
       "  'faithfulness_score': 0.0,\n",
       "  'relevancy_score': 0.0,\n",
       "  'model_score': 0.0},\n",
       " 'llama3_instruct': {'context_relevancy_score': 0.0,\n",
       "  'correctness_score': 0.0,\n",
       "  'faithfulness_score': 0.0,\n",
       "  'relevancy_score': 0.0,\n",
       "  'model_score': 0.0},\n",
       " 'mistral_instruct': {'context_relevancy_score': 0.0,\n",
       "  'correctness_score': 0.0,\n",
       "  'faithfulness_score': 0.0,\n",
       "  'relevancy_score': 0.0,\n",
       "  'model_score': 0.0}}"
      ]
     },
     "execution_count": 181,
     "metadata": {},
     "output_type": "execute_result"
    }
   ],
   "execution_count": 181
  },
  {
   "metadata": {},
   "cell_type": "markdown",
   "source": "### Model Score",
   "id": "91c4e6c3f5e21cd7"
  },
  {
   "metadata": {
    "ExecuteTime": {
     "end_time": "2024-06-20T20:34:04.438091Z",
     "start_time": "2024-06-20T20:34:04.435667Z"
    }
   },
   "cell_type": "code",
   "source": [
    "metric_e = columns_to_compare[7]\n",
    "metric_e"
   ],
   "id": "56b5ef7aa69492b6",
   "outputs": [
    {
     "data": {
      "text/plain": [
       "'model_score'"
      ]
     },
     "execution_count": 182,
     "metadata": {},
     "output_type": "execute_result"
    }
   ],
   "execution_count": 182
  },
  {
   "metadata": {
    "ExecuteTime": {
     "end_time": "2024-06-20T20:34:04.582532Z",
     "start_time": "2024-06-20T20:34:04.580672Z"
    }
   },
   "cell_type": "code",
   "source": "metric_e_label = \"Model Score\"",
   "id": "fe1238dd3c3eab77",
   "outputs": [],
   "execution_count": 183
  },
  {
   "metadata": {
    "ExecuteTime": {
     "end_time": "2024-06-20T20:34:04.624993Z",
     "start_time": "2024-06-20T20:34:04.612584Z"
    }
   },
   "cell_type": "code",
   "source": "gemma_df[metric_e].value_counts().sort_index(ascending=False)",
   "id": "896808318faf0508",
   "outputs": [
    {
     "ename": "NameError",
     "evalue": "name 'gemma_df' is not defined",
     "output_type": "error",
     "traceback": [
      "\u001B[0;31m---------------------------------------------------------------------------\u001B[0m",
      "\u001B[0;31mNameError\u001B[0m                                 Traceback (most recent call last)",
      "Cell \u001B[0;32mIn[184], line 1\u001B[0m\n\u001B[0;32m----> 1\u001B[0m \u001B[43mgemma_df\u001B[49m[metric_e]\u001B[38;5;241m.\u001B[39mvalue_counts()\u001B[38;5;241m.\u001B[39msort_index(ascending\u001B[38;5;241m=\u001B[39m\u001B[38;5;28;01mFalse\u001B[39;00m)\n",
      "\u001B[0;31mNameError\u001B[0m: name 'gemma_df' is not defined"
     ]
    }
   ],
   "execution_count": 184
  },
  {
   "metadata": {
    "ExecuteTime": {
     "end_time": "2024-06-20T20:34:04.776189Z",
     "start_time": "2024-06-20T20:34:04.762834Z"
    }
   },
   "cell_type": "code",
   "source": "llama3_df[metric_e].value_counts().sort_index(ascending=False)",
   "id": "ad81d81579c6bc9b",
   "outputs": [
    {
     "ename": "NameError",
     "evalue": "name 'llama3_df' is not defined",
     "output_type": "error",
     "traceback": [
      "\u001B[0;31m---------------------------------------------------------------------------\u001B[0m",
      "\u001B[0;31mNameError\u001B[0m                                 Traceback (most recent call last)",
      "Cell \u001B[0;32mIn[185], line 1\u001B[0m\n\u001B[0;32m----> 1\u001B[0m \u001B[43mllama3_df\u001B[49m[metric_e]\u001B[38;5;241m.\u001B[39mvalue_counts()\u001B[38;5;241m.\u001B[39msort_index(ascending\u001B[38;5;241m=\u001B[39m\u001B[38;5;28;01mFalse\u001B[39;00m)\n",
      "\u001B[0;31mNameError\u001B[0m: name 'llama3_df' is not defined"
     ]
    }
   ],
   "execution_count": 185
  },
  {
   "metadata": {
    "ExecuteTime": {
     "end_time": "2024-06-20T20:34:04.807076Z",
     "start_time": "2024-06-20T20:34:04.794199Z"
    }
   },
   "cell_type": "code",
   "source": "mistral_df[metric_e].value_counts().sort_index(ascending=False)",
   "id": "d63835a660a0e9f5",
   "outputs": [
    {
     "ename": "NameError",
     "evalue": "name 'mistral_df' is not defined",
     "output_type": "error",
     "traceback": [
      "\u001B[0;31m---------------------------------------------------------------------------\u001B[0m",
      "\u001B[0;31mNameError\u001B[0m                                 Traceback (most recent call last)",
      "Cell \u001B[0;32mIn[186], line 1\u001B[0m\n\u001B[0;32m----> 1\u001B[0m \u001B[43mmistral_df\u001B[49m[metric_e]\u001B[38;5;241m.\u001B[39mvalue_counts()\u001B[38;5;241m.\u001B[39msort_index(ascending\u001B[38;5;241m=\u001B[39m\u001B[38;5;28;01mFalse\u001B[39;00m)\n",
      "\u001B[0;31mNameError\u001B[0m: name 'mistral_df' is not defined"
     ]
    }
   ],
   "execution_count": 186
  },
  {
   "metadata": {
    "ExecuteTime": {
     "end_time": "2024-06-20T20:34:04.889430Z",
     "start_time": "2024-06-20T20:34:04.874567Z"
    }
   },
   "cell_type": "code",
   "source": [
    "# create a DataFrame for the model score values\n",
    "metric_e_values_a = pd.DataFrame()\n",
    "metric_e_values_a[metric_e] = gemma_df[metric_e]\n",
    "metric_e_values_a['llm_model'] = llm_models[0]\n",
    "print(llm_models[0])\n",
    "\n",
    "metric_e_values_b = pd.DataFrame()\n",
    "metric_e_values_b[metric_e] = llama3_df[metric_e]\n",
    "metric_e_values_b['llm_model'] = llm_models[1]\n",
    "print(llm_models[1])\n",
    "\n",
    "metric_e_values_c = pd.DataFrame()\n",
    "metric_e_values_c[metric_e] = mistral_df[metric_e]\n",
    "metric_e_values_c['llm_model'] = llm_models[2]\n",
    "print(llm_models[2])"
   ],
   "id": "5f13318197096c82",
   "outputs": [
    {
     "ename": "NameError",
     "evalue": "name 'gemma_df' is not defined",
     "output_type": "error",
     "traceback": [
      "\u001B[0;31m---------------------------------------------------------------------------\u001B[0m",
      "\u001B[0;31mNameError\u001B[0m                                 Traceback (most recent call last)",
      "Cell \u001B[0;32mIn[187], line 3\u001B[0m\n\u001B[1;32m      1\u001B[0m \u001B[38;5;66;03m# create a DataFrame for the model score values\u001B[39;00m\n\u001B[1;32m      2\u001B[0m metric_e_values_a \u001B[38;5;241m=\u001B[39m pd\u001B[38;5;241m.\u001B[39mDataFrame()\n\u001B[0;32m----> 3\u001B[0m metric_e_values_a[metric_e] \u001B[38;5;241m=\u001B[39m \u001B[43mgemma_df\u001B[49m[metric_e]\n\u001B[1;32m      4\u001B[0m metric_e_values_a[\u001B[38;5;124m'\u001B[39m\u001B[38;5;124mllm_model\u001B[39m\u001B[38;5;124m'\u001B[39m] \u001B[38;5;241m=\u001B[39m llm_models[\u001B[38;5;241m0\u001B[39m]\n\u001B[1;32m      5\u001B[0m \u001B[38;5;28mprint\u001B[39m(llm_models[\u001B[38;5;241m0\u001B[39m])\n",
      "\u001B[0;31mNameError\u001B[0m: name 'gemma_df' is not defined"
     ]
    }
   ],
   "execution_count": 187
  },
  {
   "metadata": {
    "ExecuteTime": {
     "end_time": "2024-06-20T20:34:04.955628Z",
     "start_time": "2024-06-20T20:34:04.942750Z"
    }
   },
   "cell_type": "code",
   "source": [
    "metric_e_values_combined = pd.concat([metric_e_values_a, metric_e_values_b, metric_e_values_c])\n",
    "metric_e_values = metric_e_values_combined.groupby('llm_model')[metric_e].value_counts(sort=True,\n",
    "                                                                                       ascending=True).unstack().fillna(\n",
    "    0)\n",
    "metric_e_values.columns = ['zero', 'half', 'one']"
   ],
   "id": "79d1e269296e6fbf",
   "outputs": [
    {
     "ename": "NameError",
     "evalue": "name 'metric_e_values_b' is not defined",
     "output_type": "error",
     "traceback": [
      "\u001B[0;31m---------------------------------------------------------------------------\u001B[0m",
      "\u001B[0;31mNameError\u001B[0m                                 Traceback (most recent call last)",
      "Cell \u001B[0;32mIn[188], line 1\u001B[0m\n\u001B[0;32m----> 1\u001B[0m metric_e_values_combined \u001B[38;5;241m=\u001B[39m pd\u001B[38;5;241m.\u001B[39mconcat([metric_e_values_a, \u001B[43mmetric_e_values_b\u001B[49m, metric_e_values_c])\n\u001B[1;32m      2\u001B[0m metric_e_values \u001B[38;5;241m=\u001B[39m metric_e_values_combined\u001B[38;5;241m.\u001B[39mgroupby(\u001B[38;5;124m'\u001B[39m\u001B[38;5;124mllm_model\u001B[39m\u001B[38;5;124m'\u001B[39m)[metric_e]\u001B[38;5;241m.\u001B[39mvalue_counts(sort\u001B[38;5;241m=\u001B[39m\u001B[38;5;28;01mTrue\u001B[39;00m, ascending\u001B[38;5;241m=\u001B[39m\u001B[38;5;28;01mTrue\u001B[39;00m)\u001B[38;5;241m.\u001B[39munstack()\u001B[38;5;241m.\u001B[39mfillna(\u001B[38;5;241m0\u001B[39m)\n\u001B[1;32m      3\u001B[0m metric_e_values\u001B[38;5;241m.\u001B[39mcolumns \u001B[38;5;241m=\u001B[39m [\u001B[38;5;124m'\u001B[39m\u001B[38;5;124mzero\u001B[39m\u001B[38;5;124m'\u001B[39m, \u001B[38;5;124m'\u001B[39m\u001B[38;5;124mhalf\u001B[39m\u001B[38;5;124m'\u001B[39m, \u001B[38;5;124m'\u001B[39m\u001B[38;5;124mone\u001B[39m\u001B[38;5;124m'\u001B[39m]\n",
      "\u001B[0;31mNameError\u001B[0m: name 'metric_e_values_b' is not defined"
     ]
    }
   ],
   "execution_count": 188
  },
  {
   "metadata": {
    "ExecuteTime": {
     "end_time": "2024-06-20T20:34:05.024935Z",
     "start_time": "2024-06-20T20:34:05.012971Z"
    }
   },
   "cell_type": "code",
   "source": "metric_e_values = metric_e_values[['one', 'half', 'zero']]  # switch columns",
   "id": "4b28fb61216c69fd",
   "outputs": [
    {
     "ename": "NameError",
     "evalue": "name 'metric_e_values' is not defined",
     "output_type": "error",
     "traceback": [
      "\u001B[0;31m---------------------------------------------------------------------------\u001B[0m",
      "\u001B[0;31mNameError\u001B[0m                                 Traceback (most recent call last)",
      "Cell \u001B[0;32mIn[189], line 1\u001B[0m\n\u001B[0;32m----> 1\u001B[0m metric_e_values \u001B[38;5;241m=\u001B[39m \u001B[43mmetric_e_values\u001B[49m[[\u001B[38;5;124m'\u001B[39m\u001B[38;5;124mone\u001B[39m\u001B[38;5;124m'\u001B[39m, \u001B[38;5;124m'\u001B[39m\u001B[38;5;124mhalf\u001B[39m\u001B[38;5;124m'\u001B[39m, \u001B[38;5;124m'\u001B[39m\u001B[38;5;124mzero\u001B[39m\u001B[38;5;124m'\u001B[39m]]  \u001B[38;5;66;03m# switch columns\u001B[39;00m\n",
      "\u001B[0;31mNameError\u001B[0m: name 'metric_e_values' is not defined"
     ]
    }
   ],
   "execution_count": 189
  },
  {
   "metadata": {
    "ExecuteTime": {
     "end_time": "2024-06-20T20:34:05.102753Z",
     "start_time": "2024-06-20T20:34:05.089906Z"
    }
   },
   "cell_type": "code",
   "source": [
    "metric_e_values = metric_e_values.reindex(index=list(reversed(llm_models)))\n",
    "metric_e_values"
   ],
   "id": "81cb12346af985e2",
   "outputs": [
    {
     "ename": "NameError",
     "evalue": "name 'metric_e_values' is not defined",
     "output_type": "error",
     "traceback": [
      "\u001B[0;31m---------------------------------------------------------------------------\u001B[0m",
      "\u001B[0;31mNameError\u001B[0m                                 Traceback (most recent call last)",
      "Cell \u001B[0;32mIn[190], line 1\u001B[0m\n\u001B[0;32m----> 1\u001B[0m metric_e_values \u001B[38;5;241m=\u001B[39m \u001B[43mmetric_e_values\u001B[49m\u001B[38;5;241m.\u001B[39mreindex(index\u001B[38;5;241m=\u001B[39m\u001B[38;5;28mlist\u001B[39m(\u001B[38;5;28mreversed\u001B[39m(llm_models)))\n\u001B[1;32m      2\u001B[0m metric_e_values\n",
      "\u001B[0;31mNameError\u001B[0m: name 'metric_e_values' is not defined"
     ]
    }
   ],
   "execution_count": 190
  },
  {
   "metadata": {
    "ExecuteTime": {
     "end_time": "2024-06-20T20:34:05.212723Z",
     "start_time": "2024-06-20T20:34:05.199133Z"
    }
   },
   "cell_type": "code",
   "source": [
    "metric_e_score_a = gemma_df[metric_e].value_counts()[1.0] + gemma_df[metric_e].value_counts()[0.5]\n",
    "metric_e_score_b = llama3_df[metric_e].value_counts()[1.0] + llama3_df[metric_e].value_counts()[0.5]\n",
    "metric_e_score_c = mistral_df[metric_e].value_counts()[1.0] + mistral_df[metric_e].value_counts()[0.5]\n",
    "print(f\"{llm_models[0]}: {metric_e_score_a}, {llm_models[1]}: {metric_e_score_b}, {llm_models[2]}: {metric_e_score_c}\")"
   ],
   "id": "fb6093cb0a3d3a70",
   "outputs": [
    {
     "ename": "NameError",
     "evalue": "name 'gemma_df' is not defined",
     "output_type": "error",
     "traceback": [
      "\u001B[0;31m---------------------------------------------------------------------------\u001B[0m",
      "\u001B[0;31mNameError\u001B[0m                                 Traceback (most recent call last)",
      "Cell \u001B[0;32mIn[191], line 1\u001B[0m\n\u001B[0;32m----> 1\u001B[0m metric_e_score_a \u001B[38;5;241m=\u001B[39m \u001B[43mgemma_df\u001B[49m[metric_e]\u001B[38;5;241m.\u001B[39mvalue_counts()[\u001B[38;5;241m1.0\u001B[39m] \u001B[38;5;241m+\u001B[39m gemma_df[metric_e]\u001B[38;5;241m.\u001B[39mvalue_counts()[\u001B[38;5;241m0.5\u001B[39m]\n\u001B[1;32m      2\u001B[0m metric_e_score_b \u001B[38;5;241m=\u001B[39m llama3_df[metric_e]\u001B[38;5;241m.\u001B[39mvalue_counts()[\u001B[38;5;241m1.0\u001B[39m] \u001B[38;5;241m+\u001B[39m llama3_df[metric_e]\u001B[38;5;241m.\u001B[39mvalue_counts()[\u001B[38;5;241m0.5\u001B[39m]\n\u001B[1;32m      3\u001B[0m metric_e_score_c \u001B[38;5;241m=\u001B[39m mistral_df[metric_e]\u001B[38;5;241m.\u001B[39mvalue_counts()[\u001B[38;5;241m1.0\u001B[39m] \u001B[38;5;241m+\u001B[39m mistral_df[metric_e]\u001B[38;5;241m.\u001B[39mvalue_counts()[\u001B[38;5;241m0.5\u001B[39m]\n",
      "\u001B[0;31mNameError\u001B[0m: name 'gemma_df' is not defined"
     ]
    }
   ],
   "execution_count": 191
  },
  {
   "metadata": {
    "ExecuteTime": {
     "end_time": "2024-06-20T20:34:05.270672Z",
     "start_time": "2024-06-20T20:34:05.253303Z"
    }
   },
   "cell_type": "code",
   "source": [
    "# create a horizontal bar chart\n",
    "metric_e_hbar_chart = metric_e_values.plot(kind='barh', stacked=True, figsize=(10, 6), color=colors)\n",
    "metric_e_hbar_chart.axvline(x=number_of_evaluated_questions, linestyle='-', color=\"black\", linewidth=0.8)\n",
    "metric_e_hbar_chart.text(318, 1.01, '315', ha='left', fontsize=11, fontweight='bold')\n",
    "metric_e_hbar_chart.set_ylabel(metric_e_label + \"across the Models\", fontsize=14, labelpad=14)\n",
    "metric_e_hbar_chart.set_xlabel(\"Distribution of the Score across Questions\", fontsize=14, labelpad=14)\n",
    "metric_e_hbar_chart.set_title(f\"Evaluation - Distributio of the {metric_e_label} ({collection_name})\", fontsize=16,\n",
    "                              fontweight='bold', pad=14)\n",
    "metric_e_hbar_chart.legend(\n",
    "    title=metric_e_label,\n",
    "    labels=['Number of Questions', 'Good', 'Neutral', 'Bad'],\n",
    "    loc='upper right',\n",
    "    fontsize=9,\n",
    "    bbox_to_anchor=(1.25, 1.06),\n",
    ")\n",
    "# add percentage values to the bars\n",
    "for i in range(3):\n",
    "    num_zero = metric_e_values['zero'][i]\n",
    "    num_half = metric_e_values['half'][i]\n",
    "    num_one = metric_e_values['one'][i]\n",
    "    # value 1.0\n",
    "    label_c = f'{round((num_one / number_of_evaluated_questions) * 100, 2)}% ({num_one})'\n",
    "    metric_e_hbar_chart.text(4, i - 0.03, label_c, ha='left', fontsize=11, fontweight='bold', color='white')\n",
    "    # value 0.5\n",
    "    label_b = f'{round((num_half / number_of_evaluated_questions) * 100, 2)}% ({num_half})'\n",
    "    metric_e_hbar_chart.text(num_one + 45, i - 0.03, label_b, ha='right', fontsize=11, fontweight='bold', color='white')\n",
    "    # value 0.0\n",
    "    label_a = f'{round((num_zero / number_of_evaluated_questions) * 100, 2)}% ({num_zero})'\n",
    "    metric_e_hbar_chart.text(310, i - 0.03, label_a, ha='right', fontsize=11, fontweight='bold', color='white')"
   ],
   "id": "b30cbca0dc03ab7",
   "outputs": [
    {
     "ename": "NameError",
     "evalue": "name 'metric_e_values' is not defined",
     "output_type": "error",
     "traceback": [
      "\u001B[0;31m---------------------------------------------------------------------------\u001B[0m",
      "\u001B[0;31mNameError\u001B[0m                                 Traceback (most recent call last)",
      "Cell \u001B[0;32mIn[192], line 2\u001B[0m\n\u001B[1;32m      1\u001B[0m \u001B[38;5;66;03m# create a horizontal bar chart\u001B[39;00m\n\u001B[0;32m----> 2\u001B[0m metric_e_hbar_chart \u001B[38;5;241m=\u001B[39m \u001B[43mmetric_e_values\u001B[49m\u001B[38;5;241m.\u001B[39mplot(kind\u001B[38;5;241m=\u001B[39m\u001B[38;5;124m'\u001B[39m\u001B[38;5;124mbarh\u001B[39m\u001B[38;5;124m'\u001B[39m, stacked\u001B[38;5;241m=\u001B[39m\u001B[38;5;28;01mTrue\u001B[39;00m, figsize\u001B[38;5;241m=\u001B[39m(\u001B[38;5;241m10\u001B[39m, \u001B[38;5;241m6\u001B[39m), color\u001B[38;5;241m=\u001B[39mcolors)\n\u001B[1;32m      3\u001B[0m metric_e_hbar_chart\u001B[38;5;241m.\u001B[39maxvline(x\u001B[38;5;241m=\u001B[39mnumber_of_evaluated_questions, linestyle\u001B[38;5;241m=\u001B[39m\u001B[38;5;124m'\u001B[39m\u001B[38;5;124m-\u001B[39m\u001B[38;5;124m'\u001B[39m, color\u001B[38;5;241m=\u001B[39m\u001B[38;5;124m\"\u001B[39m\u001B[38;5;124mblack\u001B[39m\u001B[38;5;124m\"\u001B[39m, linewidth\u001B[38;5;241m=\u001B[39m\u001B[38;5;241m0.8\u001B[39m)\n\u001B[1;32m      4\u001B[0m metric_e_hbar_chart\u001B[38;5;241m.\u001B[39mtext(\u001B[38;5;241m318\u001B[39m, \u001B[38;5;241m1.01\u001B[39m, \u001B[38;5;124m'\u001B[39m\u001B[38;5;124m315\u001B[39m\u001B[38;5;124m'\u001B[39m, ha\u001B[38;5;241m=\u001B[39m\u001B[38;5;124m'\u001B[39m\u001B[38;5;124mleft\u001B[39m\u001B[38;5;124m'\u001B[39m, fontsize\u001B[38;5;241m=\u001B[39m\u001B[38;5;241m11\u001B[39m, fontweight\u001B[38;5;241m=\u001B[39m\u001B[38;5;124m'\u001B[39m\u001B[38;5;124mbold\u001B[39m\u001B[38;5;124m'\u001B[39m)\n",
      "\u001B[0;31mNameError\u001B[0m: name 'metric_e_values' is not defined"
     ]
    }
   ],
   "execution_count": 192
  },
  {
   "metadata": {},
   "cell_type": "markdown",
   "source": "The Model score assesses the performance of a model to a given reference answer of the evaluation model (GPT-3.5 Turbo). It compares the Answer and rates it with good, neutral or bad. Overall Mistral instruct is leader in this disciplin with around 48% of good performance. If one adds all the neutral values Gemma instruct was only able to the deliver answers in only 25% of the cases. This means in 75% of the time it wasn't able to compete with GPT-3.5 Turbo. Llama3 and Mistral deliever can compete in more than 50% of the time. \n",
   "id": "91b107580c76c0bd"
  },
  {
   "metadata": {
    "ExecuteTime": {
     "end_time": "2024-06-20T20:34:05.368797Z",
     "start_time": "2024-06-20T20:34:05.354844Z"
    }
   },
   "cell_type": "code",
   "source": [
    "metric_e_scores_sorted_list = sorted(\n",
    "    [(llms[0], metric_e_score_a), (llms[1], metric_e_score_b), (llms[2], metric_e_score_c)], key=lambda x: x[1],\n",
    "    reverse=True)\n",
    "metric_e_scores_sorted_list"
   ],
   "id": "41b2e81b8763c32c",
   "outputs": [
    {
     "ename": "NameError",
     "evalue": "name 'metric_e_score_a' is not defined",
     "output_type": "error",
     "traceback": [
      "\u001B[0;31m---------------------------------------------------------------------------\u001B[0m",
      "\u001B[0;31mNameError\u001B[0m                                 Traceback (most recent call last)",
      "Cell \u001B[0;32mIn[193], line 1\u001B[0m\n\u001B[0;32m----> 1\u001B[0m metric_e_scores_sorted_list \u001B[38;5;241m=\u001B[39m \u001B[38;5;28msorted\u001B[39m([(llms[\u001B[38;5;241m0\u001B[39m], \u001B[43mmetric_e_score_a\u001B[49m), (llms[\u001B[38;5;241m1\u001B[39m], metric_e_score_b), (llms[\u001B[38;5;241m2\u001B[39m], metric_e_score_c)], key\u001B[38;5;241m=\u001B[39m\u001B[38;5;28;01mlambda\u001B[39;00m x: x[\u001B[38;5;241m1\u001B[39m], reverse\u001B[38;5;241m=\u001B[39m\u001B[38;5;28;01mTrue\u001B[39;00m)\n\u001B[1;32m      2\u001B[0m metric_e_scores_sorted_list\n",
      "\u001B[0;31mNameError\u001B[0m: name 'metric_e_score_a' is not defined"
     ]
    }
   ],
   "execution_count": 193
  },
  {
   "metadata": {
    "ExecuteTime": {
     "end_time": "2024-06-20T20:34:05.422240Z",
     "start_time": "2024-06-20T20:34:05.409006Z"
    }
   },
   "cell_type": "code",
   "source": [
    "for i, (model, _) in enumerate(metric_e_scores_sorted_list):\n",
    "    overall_scores[model][metric_e] = scores[i]"
   ],
   "id": "b47e265b3406f3d5",
   "outputs": [
    {
     "ename": "NameError",
     "evalue": "name 'metric_e_scores_sorted_list' is not defined",
     "output_type": "error",
     "traceback": [
      "\u001B[0;31m---------------------------------------------------------------------------\u001B[0m",
      "\u001B[0;31mNameError\u001B[0m                                 Traceback (most recent call last)",
      "Cell \u001B[0;32mIn[194], line 1\u001B[0m\n\u001B[0;32m----> 1\u001B[0m \u001B[38;5;28;01mfor\u001B[39;00m i, (model, _) \u001B[38;5;129;01min\u001B[39;00m \u001B[38;5;28menumerate\u001B[39m(\u001B[43mmetric_e_scores_sorted_list\u001B[49m):\n\u001B[1;32m      2\u001B[0m     overall_scores[model][metric_e] \u001B[38;5;241m=\u001B[39m scores[i]\n",
      "\u001B[0;31mNameError\u001B[0m: name 'metric_e_scores_sorted_list' is not defined"
     ]
    }
   ],
   "execution_count": 194
  },
  {
   "metadata": {
    "ExecuteTime": {
     "end_time": "2024-06-20T20:34:05.545672Z",
     "start_time": "2024-06-20T20:34:05.543040Z"
    }
   },
   "cell_type": "code",
   "source": [
    "# print the scores\n",
    "overall_scores"
   ],
   "id": "486abe4fadbd247e",
   "outputs": [
    {
     "data": {
      "text/plain": [
       "{'gemma_instruct': {'context_relevancy_score': 0.0,\n",
       "  'correctness_score': 0.0,\n",
       "  'faithfulness_score': 0.0,\n",
       "  'relevancy_score': 0.0,\n",
       "  'model_score': 0.0},\n",
       " 'llama3_instruct': {'context_relevancy_score': 0.0,\n",
       "  'correctness_score': 0.0,\n",
       "  'faithfulness_score': 0.0,\n",
       "  'relevancy_score': 0.0,\n",
       "  'model_score': 0.0},\n",
       " 'mistral_instruct': {'context_relevancy_score': 0.0,\n",
       "  'correctness_score': 0.0,\n",
       "  'faithfulness_score': 0.0,\n",
       "  'relevancy_score': 0.0,\n",
       "  'model_score': 0.0}}"
      ]
     },
     "execution_count": 195,
     "metadata": {},
     "output_type": "execute_result"
    }
   ],
   "execution_count": 195
  },
  {
   "metadata": {},
   "cell_type": "markdown",
   "source": "# Summary",
   "id": "1f2c2d8524a0e29c"
  },
  {
   "metadata": {
    "ExecuteTime": {
     "end_time": "2024-06-20T20:34:05.582241Z",
     "start_time": "2024-06-20T20:34:05.579874Z"
    }
   },
   "cell_type": "code",
   "source": [
    "# score for each model\n",
    "for model, scores in overall_scores.items():\n",
    "    print(f\"{model}: {scores}\")"
   ],
   "id": "12dab45f912f5a0b",
   "outputs": [
    {
     "name": "stdout",
     "output_type": "stream",
     "text": [
      "gemma_instruct: {'context_relevancy_score': 0.0, 'correctness_score': 0.0, 'faithfulness_score': 0.0, 'relevancy_score': 0.0, 'model_score': 0.0}\n",
      "llama3_instruct: {'context_relevancy_score': 0.0, 'correctness_score': 0.0, 'faithfulness_score': 0.0, 'relevancy_score': 0.0, 'model_score': 0.0}\n",
      "mistral_instruct: {'context_relevancy_score': 0.0, 'correctness_score': 0.0, 'faithfulness_score': 0.0, 'relevancy_score': 0.0, 'model_score': 0.0}\n"
     ]
    }
   ],
   "execution_count": 196
  },
  {
   "metadata": {
    "ExecuteTime": {
     "end_time": "2024-06-20T20:34:05.687777Z",
     "start_time": "2024-06-20T20:34:05.684877Z"
    }
   },
   "cell_type": "code",
   "source": [
    "# get sum of all scores\n",
    "sum_scores = {model: sum(scores.values()) for model, scores in overall_scores.items()}\n",
    "sum_scores"
   ],
   "id": "9f56f3dbf940e46c",
   "outputs": [
    {
     "data": {
      "text/plain": [
       "{'gemma_instruct': 0.0, 'llama3_instruct': 0.0, 'mistral_instruct': 0.0}"
      ]
     },
     "execution_count": 197,
     "metadata": {},
     "output_type": "execute_result"
    }
   ],
   "execution_count": 197
  },
  {
   "metadata": {},
   "cell_type": "markdown",
   "source": [
    "## Conclusion\n",
    "\n",
    "All of the model have the score 2.0. This could mean that all models have the same performance but this is not the case.\n",
    "\n",
    "The Evaluation Methods seems to be not very good. The Gold Standard is the Evaluation by humans.\n",
    "\n",
    "### Context Relevancy Score\n",
    "The Contexts for each Question was already given. So the Context Relevancy Score should be very high. The mean score is 0.97. This means the context is very relevant to the given question. Since the Score was only done by GPT-3.5 Turbo and also evaluated by itself the **Context Relevancy Score** is not taken into the scoring.\n",
    "\n",
    "### Correctness Score\n",
    "The Correctness Score evaluates how correct the answer is to a given Question and Context. \n",
    "The Rating of the models is very similar. The mean score is 3.53. Llama3 Instruct has the highest mean score, while Gemma Instruct has the lowest. Despite that all Models are showing a similar consistency in performance. \n",
    "\n",
    "The **Correctness Score** needs to be evaluated more that's why there will be a manual Text analysis in the File '05_EvaluateTextDataManually.ipynb'.\n",
    "\n",
    "### Faithfulness Score\n",
    "The Faithfulness Score assesses how accurately the given response was based on the given context. The average Faithfulness Score is about 277, indicating that about 88% of the responses were faithful, meaning that no hallucination was observed in these cases. Mistral Instruct was the best performing model, while Gemma Instructs was well below average.\n",
    "\n",
    "Over all The Faithfulness Score is very good with a minimum of 80% of the answers are faithful (looking at Gemma).\n",
    "\n",
    "### Relevancy Score\n",
    "The relevance score assesses how relevant the context and given answer is to the given question. The mean relevancy score is about 60% with 189 of 315 questions. This means the answer is not very good. Gemma was performing very good with around 64% of the time the answers were relevant to the given context and question. Sometimes the answer has some extra text wrapped around the real answer which leads to a general poor performance of all models.\n",
    "This also will be further evaluated in the File '05_EvaluateTextDataManually.ipynb'.\n",
    "\n",
    "### Model Score\n",
    "The Model Score is comparing the performance of the models to the evaluation model (GPT-3.5 Turbo). It rates the answer with good, neutral or bad. Overall Mistral instruct is leader in this disciplin with around 48% of good performance. If one adds all the neutral values Gemma instruct was only able to the deliver answers in only 25% of the cases. This means in 75% of the time it wasn't able to compete with GPT-3.5 Turbo. Llama3 and Mistral deliver can compete in more than 50% of the time.\n",
    "This also will be further evaluated in the File '05_EvaluateTextDataManually.ipynb'.\n"
   ],
   "id": "4bb34fd949ee961e"
  },
  {
   "metadata": {
    "ExecuteTime": {
     "end_time": "2024-06-20T20:34:05.761868Z",
     "start_time": "2024-06-20T20:34:05.760321Z"
    }
   },
   "cell_type": "code",
   "source": "",
   "id": "f9e6b478c00c9782",
   "outputs": [],
   "execution_count": 197
  }
 ],
 "metadata": {
  "kernelspec": {
   "display_name": "Python 3",
   "language": "python",
   "name": "python3"
  },
  "language_info": {
   "codemirror_mode": {
    "name": "ipython",
    "version": 2
   },
   "file_extension": ".py",
   "mimetype": "text/x-python",
   "name": "python",
   "nbconvert_exporter": "python",
   "pygments_lexer": "ipython2",
   "version": "2.7.6"
  }
 },
 "nbformat": 4,
 "nbformat_minor": 5
}
