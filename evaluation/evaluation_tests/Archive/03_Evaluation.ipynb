{
 "cells": [
  {
   "metadata": {},
   "cell_type": "markdown",
   "source": "# Evaluation",
   "id": "2bfcccf46b1b9b89"
  },
  {
   "metadata": {
    "ExecuteTime": {
     "end_time": "2024-06-15T09:50:31.707490Z",
     "start_time": "2024-06-15T09:50:24.678108Z"
    }
   },
   "cell_type": "code",
   "source": [
    "import warnings\n",
    "\n",
    "import matplotlib.pyplot as plt\n",
    "import pandas as pd\n",
    "import seaborn as sns\n",
    "\n",
    "from utils.evaluation import (\n",
    "    get_all_test_data,\n",
    "    get_table_column_names,\n",
    "    load_evaluation_dataset\n",
    ")"
   ],
   "id": "ed48fb2fff10c5a2",
   "outputs": [
    {
     "name": "stdout",
     "output_type": "stream",
     "text": [
      "Configuration loaded in: 0.0 seconds\n",
      "Debugging is enabled: True\n",
      "Device: cuda is available\n",
      "VectorStoreIndex: wiki_movie_plots\n",
      "----------------------------------------------------------------------------------------------------\n"
     ]
    }
   ],
   "execution_count": 2
  },
  {
   "metadata": {
    "ExecuteTime": {
     "end_time": "2024-06-15T09:50:32.534794Z",
     "start_time": "2024-06-15T09:50:32.521277Z"
    }
   },
   "cell_type": "code",
   "source": [
    "warnings.filterwarnings('ignore', category=FutureWarning)\n",
    "warnings.filterwarnings('ignore', category=UserWarning)"
   ],
   "id": "84f3985ed1fed35d",
   "outputs": [],
   "execution_count": 3
  },
  {
   "metadata": {
    "ExecuteTime": {
     "end_time": "2024-06-15T09:50:33.221786Z",
     "start_time": "2024-06-15T09:50:33.214245Z"
    }
   },
   "cell_type": "code",
   "source": "sns.set_palette(\"pastel\")",
   "id": "560f1e5d482c2779",
   "outputs": [],
   "execution_count": 4
  },
  {
   "metadata": {},
   "cell_type": "markdown",
   "source": "### Set all the parameters",
   "id": "a9fa381b05dab69e"
  },
  {
   "metadata": {
    "ExecuteTime": {
     "end_time": "2024-06-15T09:50:34.549595Z",
     "start_time": "2024-06-15T09:50:34.539855Z"
    }
   },
   "cell_type": "code",
   "source": "colors = ['#93A267', '#49724B', '#abbc99']",
   "id": "63b528d6b4bbbd76",
   "outputs": [],
   "execution_count": 5
  },
  {
   "metadata": {
    "ExecuteTime": {
     "end_time": "2024-06-15T09:50:35.223869Z",
     "start_time": "2024-06-15T09:50:35.207199Z"
    }
   },
   "cell_type": "code",
   "source": [
    "llms = [\"gemma_instruct\", \"llama3_instruct\", \"mistral_instruct\"]\n",
    "collections = [\n",
    "    \"wiki_movie_plots_256_25_mxbai\",\n",
    "    \"wiki_movie_plots_512_50_mxbai\",\n",
    "    \"wiki_movie_plots_1024_100_mxbai\",\n",
    "    \"wiki_movie_plots_2048_200_mxbai\",\n",
    "]"
   ],
   "id": "13b494348c00ce41",
   "outputs": [],
   "execution_count": 6
  },
  {
   "metadata": {},
   "cell_type": "markdown",
   "source": "**Get all the data from the evaluation table**",
   "id": "59612c86fd2cbc53"
  },
  {
   "cell_type": "code",
   "id": "initial_id",
   "metadata": {
    "collapsed": true,
    "ExecuteTime": {
     "end_time": "2024-06-15T09:50:37.652096Z",
     "start_time": "2024-06-15T09:50:36.993343Z"
    }
   },
   "source": "all_records = get_all_test_data(llm=False, collection_name=collections[2], chat_mode='CONTEXT')",
   "outputs": [],
   "execution_count": 7
  },
  {
   "metadata": {
    "ExecuteTime": {
     "end_time": "2024-06-15T09:50:38.475337Z",
     "start_time": "2024-06-15T09:50:38.464825Z"
    }
   },
   "cell_type": "code",
   "source": [
    "number_of_records = len(all_records)\n",
    "print(f\"Number of records: {number_of_records}\")"
   ],
   "id": "8a48a058da0d3a9e",
   "outputs": [
    {
     "name": "stdout",
     "output_type": "stream",
     "text": [
      "Number of records: 945\n"
     ]
    }
   ],
   "execution_count": 8
  },
  {
   "metadata": {},
   "cell_type": "markdown",
   "source": "**Get the column names of the evaluation table as list**",
   "id": "761ae01dc0f0b7a8"
  },
  {
   "metadata": {
    "ExecuteTime": {
     "end_time": "2024-06-15T09:50:40.375764Z",
     "start_time": "2024-06-15T09:50:40.363244Z"
    }
   },
   "cell_type": "code",
   "source": "column_names = get_table_column_names(table_name=\"evaluation\")",
   "id": "a5d4269d9703e8da",
   "outputs": [],
   "execution_count": 9
  },
  {
   "metadata": {
    "ExecuteTime": {
     "end_time": "2024-06-15T09:50:41.404109Z",
     "start_time": "2024-06-15T09:50:41.380583Z"
    }
   },
   "cell_type": "code",
   "source": "column_names",
   "id": "64315169b72207a6",
   "outputs": [
    {
     "data": {
      "text/plain": [
       "['id',\n",
       " 'llm_model',\n",
       " 'embed_model',\n",
       " 'collection_name',\n",
       " 'question_id',\n",
       " 'question',\n",
       " 'context',\n",
       " 'reference_answer',\n",
       " 'response',\n",
       " 'answer_feedback',\n",
       " 'context_relevancy_score',\n",
       " 'context_relevancy_feedback',\n",
       " 'correctness_score',\n",
       " 'correctness_feedback',\n",
       " 'faithfulness_score',\n",
       " 'relevancy_score',\n",
       " 'relevancy_feedback',\n",
       " 'model_score',\n",
       " 'model_feedback',\n",
       " 'chat_mode']"
      ]
     },
     "execution_count": 10,
     "metadata": {},
     "output_type": "execute_result"
    }
   ],
   "execution_count": 10
  },
  {
   "metadata": {},
   "cell_type": "markdown",
   "source": "extract **data** without the index column 'id'",
   "id": "d3a1ba4912ce1304"
  },
  {
   "metadata": {
    "ExecuteTime": {
     "end_time": "2024-06-15T09:50:43.421406Z",
     "start_time": "2024-06-15T09:50:43.402767Z"
    }
   },
   "cell_type": "code",
   "source": [
    "# data without id\n",
    "data_without_id = [t[1:] for t in all_records]"
   ],
   "id": "ad6dda9774c89534",
   "outputs": [],
   "execution_count": 11
  },
  {
   "metadata": {
    "ExecuteTime": {
     "end_time": "2024-06-15T09:50:44.167731Z",
     "start_time": "2024-06-15T09:50:44.151780Z"
    }
   },
   "cell_type": "code",
   "source": [
    "# index\n",
    "ids_only = [t[0] for t in all_records]"
   ],
   "id": "3b8089bd5e64a5f6",
   "outputs": [],
   "execution_count": 12
  },
  {
   "metadata": {},
   "cell_type": "markdown",
   "source": "### Create a DataFrame",
   "id": "42146cfd40a17234"
  },
  {
   "metadata": {
    "ExecuteTime": {
     "end_time": "2024-06-15T09:50:45.855790Z",
     "start_time": "2024-06-15T09:50:45.842258Z"
    }
   },
   "cell_type": "code",
   "source": "df = pd.DataFrame(data=data_without_id, index=ids_only, columns=column_names[1:])",
   "id": "5f23d3448ea8d8a0",
   "outputs": [],
   "execution_count": 13
  },
  {
   "metadata": {},
   "cell_type": "markdown",
   "source": "display the first 5 rows",
   "id": "7f4007398c3ec35c"
  },
  {
   "metadata": {
    "ExecuteTime": {
     "end_time": "2024-06-15T09:50:47.647259Z",
     "start_time": "2024-06-15T09:50:47.613058Z"
    }
   },
   "cell_type": "code",
   "source": "df.head()",
   "id": "769cf1b7dbcc1950",
   "outputs": [
    {
     "data": {
      "text/plain": [
       "                llm_model embed_model                  collection_name  \\\n",
       "1072  oll_llama3_instruct       mxbai  wiki_movie_plots_1024_100_mxbai   \n",
       "1073  oll_llama3_instruct       mxbai  wiki_movie_plots_1024_100_mxbai   \n",
       "1074  oll_llama3_instruct       mxbai  wiki_movie_plots_1024_100_mxbai   \n",
       "1075  oll_llama3_instruct       mxbai  wiki_movie_plots_1024_100_mxbai   \n",
       "1076  oll_llama3_instruct       mxbai  wiki_movie_plots_1024_100_mxbai   \n",
       "\n",
       "      question_id                                           question  \\\n",
       "1072            0  Who is the director of the movie \"The Karate K...   \n",
       "1073            1  What is the plot of \"The Karate Kid\" released ...   \n",
       "1074            2  What is the genre of the movie \"The Karate Kid...   \n",
       "1075            3  Who was the legendary boxing trainer that took...   \n",
       "1076            4  What was the result of the rematch between Rob...   \n",
       "\n",
       "                                                context  \\\n",
       "1072  release_year: 1984\\ntitle: The Karate Kid\\nori...   \n",
       "1073  release_year: 1984\\ntitle: The Karate Kid\\nori...   \n",
       "1074  release_year: 1984\\ntitle: The Karate Kid\\nori...   \n",
       "1075  release_year: 2016\\ntitle: Hands of Stone\\nori...   \n",
       "1076  release_year: 2016\\ntitle: Hands of Stone\\nori...   \n",
       "\n",
       "                                       reference_answer  \\\n",
       "1072  The director of the movie \"The Karate Kid\" rel...   \n",
       "1073  The plot of \"The Karate Kid\" released in 1984 ...   \n",
       "1074  The genre of the movie \"The Karate Kid\" releas...   \n",
       "1075  Ray Arcel, an American legendary boxing traine...   \n",
       "1076  Durán famously gave up by saying \"No más\" to t...   \n",
       "\n",
       "                                               response  \\\n",
       "1072  According to the context information provided,...   \n",
       "1073  Here's the plot of \"The Karate Kid\" (1984):\\n\\...   \n",
       "1074  The genre of the movie \"The Karate Kid\" releas...   \n",
       "1075  According to the context information, the lege...   \n",
       "1076  According to the context information, in the r...   \n",
       "\n",
       "                                        answer_feedback  \\\n",
       "1072  1. Does the provided response match the subjec...   \n",
       "1073  1. Does the provided response match the subjec...   \n",
       "1074  1. The response provided matches the subject m...   \n",
       "1075  1. The response correctly identifies Ray Arcel...   \n",
       "1076  1. The response provided matches the subject m...   \n",
       "\n",
       "      context_relevancy_score  \\\n",
       "1072                      1.0   \n",
       "1073                      1.0   \n",
       "1074                      1.0   \n",
       "1075                      1.0   \n",
       "1076                      1.0   \n",
       "\n",
       "                             context_relevancy_feedback  correctness_score  \\\n",
       "1072  1. The retrieved context matches the subject m...                5.0   \n",
       "1073  1. The retrieved context matches the subject m...                4.0   \n",
       "1074  1. The retrieved context matches the subject m...                4.0   \n",
       "1075  1. The retrieved context matches the subject m...                4.5   \n",
       "1076  1. The retrieved context matches the subject m...                4.5   \n",
       "\n",
       "                                   correctness_feedback  faithfulness_score  \\\n",
       "1072  The generated answer is both relevant and corr...                 1.0   \n",
       "1073  The generated answer provides a detailed and a...                 1.0   \n",
       "1074  The generated answer is relevant and correct, ...                 1.0   \n",
       "1075  The generated answer is highly relevant to the...                 1.0   \n",
       "1076  The generated answer is highly relevant to the...                 1.0   \n",
       "\n",
       "      relevancy_score relevancy_feedback  model_score  \\\n",
       "1072              1.0                YES          1.0   \n",
       "1073              1.0                YES          1.0   \n",
       "1074              1.0                YES          1.0   \n",
       "1075              1.0                YES          0.5   \n",
       "1076              1.0                YES          1.0   \n",
       "\n",
       "                                         model_feedback chat_mode  \n",
       "1072  Assistant A provided a more comprehensive resp...   CONTEXT  \n",
       "1073  Assistant A provides a detailed and comprehens...   CONTEXT  \n",
       "1074  Assistant A provided a more detailed and compr...   CONTEXT  \n",
       "1075                                                      CONTEXT  \n",
       "1076  Assistant A provided a more detailed and accur...   CONTEXT  "
      ],
      "text/html": [
       "<div>\n",
       "<style scoped>\n",
       "    .dataframe tbody tr th:only-of-type {\n",
       "        vertical-align: middle;\n",
       "    }\n",
       "\n",
       "    .dataframe tbody tr th {\n",
       "        vertical-align: top;\n",
       "    }\n",
       "\n",
       "    .dataframe thead th {\n",
       "        text-align: right;\n",
       "    }\n",
       "</style>\n",
       "<table border=\"1\" class=\"dataframe\">\n",
       "  <thead>\n",
       "    <tr style=\"text-align: right;\">\n",
       "      <th></th>\n",
       "      <th>llm_model</th>\n",
       "      <th>embed_model</th>\n",
       "      <th>collection_name</th>\n",
       "      <th>question_id</th>\n",
       "      <th>question</th>\n",
       "      <th>context</th>\n",
       "      <th>reference_answer</th>\n",
       "      <th>response</th>\n",
       "      <th>answer_feedback</th>\n",
       "      <th>context_relevancy_score</th>\n",
       "      <th>context_relevancy_feedback</th>\n",
       "      <th>correctness_score</th>\n",
       "      <th>correctness_feedback</th>\n",
       "      <th>faithfulness_score</th>\n",
       "      <th>relevancy_score</th>\n",
       "      <th>relevancy_feedback</th>\n",
       "      <th>model_score</th>\n",
       "      <th>model_feedback</th>\n",
       "      <th>chat_mode</th>\n",
       "    </tr>\n",
       "  </thead>\n",
       "  <tbody>\n",
       "    <tr>\n",
       "      <th>1072</th>\n",
       "      <td>oll_llama3_instruct</td>\n",
       "      <td>mxbai</td>\n",
       "      <td>wiki_movie_plots_1024_100_mxbai</td>\n",
       "      <td>0</td>\n",
       "      <td>Who is the director of the movie \"The Karate K...</td>\n",
       "      <td>release_year: 1984\\ntitle: The Karate Kid\\nori...</td>\n",
       "      <td>The director of the movie \"The Karate Kid\" rel...</td>\n",
       "      <td>According to the context information provided,...</td>\n",
       "      <td>1. Does the provided response match the subjec...</td>\n",
       "      <td>1.0</td>\n",
       "      <td>1. The retrieved context matches the subject m...</td>\n",
       "      <td>5.0</td>\n",
       "      <td>The generated answer is both relevant and corr...</td>\n",
       "      <td>1.0</td>\n",
       "      <td>1.0</td>\n",
       "      <td>YES</td>\n",
       "      <td>1.0</td>\n",
       "      <td>Assistant A provided a more comprehensive resp...</td>\n",
       "      <td>CONTEXT</td>\n",
       "    </tr>\n",
       "    <tr>\n",
       "      <th>1073</th>\n",
       "      <td>oll_llama3_instruct</td>\n",
       "      <td>mxbai</td>\n",
       "      <td>wiki_movie_plots_1024_100_mxbai</td>\n",
       "      <td>1</td>\n",
       "      <td>What is the plot of \"The Karate Kid\" released ...</td>\n",
       "      <td>release_year: 1984\\ntitle: The Karate Kid\\nori...</td>\n",
       "      <td>The plot of \"The Karate Kid\" released in 1984 ...</td>\n",
       "      <td>Here's the plot of \"The Karate Kid\" (1984):\\n\\...</td>\n",
       "      <td>1. Does the provided response match the subjec...</td>\n",
       "      <td>1.0</td>\n",
       "      <td>1. The retrieved context matches the subject m...</td>\n",
       "      <td>4.0</td>\n",
       "      <td>The generated answer provides a detailed and a...</td>\n",
       "      <td>1.0</td>\n",
       "      <td>1.0</td>\n",
       "      <td>YES</td>\n",
       "      <td>1.0</td>\n",
       "      <td>Assistant A provides a detailed and comprehens...</td>\n",
       "      <td>CONTEXT</td>\n",
       "    </tr>\n",
       "    <tr>\n",
       "      <th>1074</th>\n",
       "      <td>oll_llama3_instruct</td>\n",
       "      <td>mxbai</td>\n",
       "      <td>wiki_movie_plots_1024_100_mxbai</td>\n",
       "      <td>2</td>\n",
       "      <td>What is the genre of the movie \"The Karate Kid...</td>\n",
       "      <td>release_year: 1984\\ntitle: The Karate Kid\\nori...</td>\n",
       "      <td>The genre of the movie \"The Karate Kid\" releas...</td>\n",
       "      <td>The genre of the movie \"The Karate Kid\" releas...</td>\n",
       "      <td>1. The response provided matches the subject m...</td>\n",
       "      <td>1.0</td>\n",
       "      <td>1. The retrieved context matches the subject m...</td>\n",
       "      <td>4.0</td>\n",
       "      <td>The generated answer is relevant and correct, ...</td>\n",
       "      <td>1.0</td>\n",
       "      <td>1.0</td>\n",
       "      <td>YES</td>\n",
       "      <td>1.0</td>\n",
       "      <td>Assistant A provided a more detailed and compr...</td>\n",
       "      <td>CONTEXT</td>\n",
       "    </tr>\n",
       "    <tr>\n",
       "      <th>1075</th>\n",
       "      <td>oll_llama3_instruct</td>\n",
       "      <td>mxbai</td>\n",
       "      <td>wiki_movie_plots_1024_100_mxbai</td>\n",
       "      <td>3</td>\n",
       "      <td>Who was the legendary boxing trainer that took...</td>\n",
       "      <td>release_year: 2016\\ntitle: Hands of Stone\\nori...</td>\n",
       "      <td>Ray Arcel, an American legendary boxing traine...</td>\n",
       "      <td>According to the context information, the lege...</td>\n",
       "      <td>1. The response correctly identifies Ray Arcel...</td>\n",
       "      <td>1.0</td>\n",
       "      <td>1. The retrieved context matches the subject m...</td>\n",
       "      <td>4.5</td>\n",
       "      <td>The generated answer is highly relevant to the...</td>\n",
       "      <td>1.0</td>\n",
       "      <td>1.0</td>\n",
       "      <td>YES</td>\n",
       "      <td>0.5</td>\n",
       "      <td></td>\n",
       "      <td>CONTEXT</td>\n",
       "    </tr>\n",
       "    <tr>\n",
       "      <th>1076</th>\n",
       "      <td>oll_llama3_instruct</td>\n",
       "      <td>mxbai</td>\n",
       "      <td>wiki_movie_plots_1024_100_mxbai</td>\n",
       "      <td>4</td>\n",
       "      <td>What was the result of the rematch between Rob...</td>\n",
       "      <td>release_year: 2016\\ntitle: Hands of Stone\\nori...</td>\n",
       "      <td>Durán famously gave up by saying \"No más\" to t...</td>\n",
       "      <td>According to the context information, in the r...</td>\n",
       "      <td>1. The response provided matches the subject m...</td>\n",
       "      <td>1.0</td>\n",
       "      <td>1. The retrieved context matches the subject m...</td>\n",
       "      <td>4.5</td>\n",
       "      <td>The generated answer is highly relevant to the...</td>\n",
       "      <td>1.0</td>\n",
       "      <td>1.0</td>\n",
       "      <td>YES</td>\n",
       "      <td>1.0</td>\n",
       "      <td>Assistant A provided a more detailed and accur...</td>\n",
       "      <td>CONTEXT</td>\n",
       "    </tr>\n",
       "  </tbody>\n",
       "</table>\n",
       "</div>"
      ]
     },
     "execution_count": 14,
     "metadata": {},
     "output_type": "execute_result"
    }
   ],
   "execution_count": 14
  },
  {
   "metadata": {},
   "cell_type": "markdown",
   "source": "## Information about the Training Data",
   "id": "a22446c5a81c7d27"
  },
  {
   "metadata": {},
   "cell_type": "markdown",
   "source": [
    "General Information about the DataFrame\n",
    "The overall Data in the QnA Dataset "
   ],
   "id": "52a6e498466ee848"
  },
  {
   "metadata": {
    "ExecuteTime": {
     "end_time": "2024-06-15T09:50:52.081419Z",
     "start_time": "2024-06-15T09:50:52.068296Z"
    }
   },
   "cell_type": "code",
   "source": "trainings_dataset = load_evaluation_dataset()",
   "id": "ecac92c360e7c101",
   "outputs": [],
   "execution_count": 15
  },
  {
   "metadata": {
    "ExecuteTime": {
     "end_time": "2024-06-15T09:50:52.766036Z",
     "start_time": "2024-06-15T09:50:52.747520Z"
    }
   },
   "cell_type": "code",
   "source": "print(\"The total number of observed Movies in the dataset is: \", len(trainings_dataset))",
   "id": "92e3e098d815d9fd",
   "outputs": [
    {
     "name": "stdout",
     "output_type": "stream",
     "text": [
      "The total number of observed Movies in the dataset is:  100\n"
     ]
    }
   ],
   "execution_count": 16
  },
  {
   "metadata": {
    "ExecuteTime": {
     "end_time": "2024-06-15T09:50:53.571616Z",
     "start_time": "2024-06-15T09:50:53.550769Z"
    }
   },
   "cell_type": "code",
   "source": [
    "number_of_questions = 0\n",
    "for questions in trainings_dataset:\n",
    "    number_of_questions += questions['number_of_qnq']\n",
    "\n",
    "print(\"The total number of questions in the dataset is: \", number_of_questions)"
   ],
   "id": "5d9f4f7e03dc0a71",
   "outputs": [
    {
     "name": "stdout",
     "output_type": "stream",
     "text": [
      "The total number of questions in the dataset is:  381\n"
     ]
    }
   ],
   "execution_count": 17
  },
  {
   "metadata": {},
   "cell_type": "markdown",
   "source": [
    "While evaluating the model some had trouble and reached the maximum number of requests. To fix this an indicator was added to the dataset. With this indicator called \"complex\" the evaluation of the \"too complex\" question was skipped.\n",
    "\n",
    "With subtraction of the \"complex\" questions we evaluated the following number of questions:"
   ],
   "id": "8f2b030eb6c48f97"
  },
  {
   "metadata": {
    "ExecuteTime": {
     "end_time": "2024-06-15T09:50:55.252326Z",
     "start_time": "2024-06-15T09:50:55.238984Z"
    }
   },
   "cell_type": "code",
   "source": [
    "number_of_complex = 0\n",
    "for questions in trainings_dataset:\n",
    "    if \"complex\" in questions:\n",
    "        number_of_complex += questions['complex']\n",
    "print(\"The total number of questions in the dataset is: \", number_of_complex)"
   ],
   "id": "ef56b25fef7abc0d",
   "outputs": [
    {
     "name": "stdout",
     "output_type": "stream",
     "text": [
      "The total number of questions in the dataset is:  14\n"
     ]
    }
   ],
   "execution_count": 18
  },
  {
   "metadata": {},
   "cell_type": "markdown",
   "source": "Now we can count how many questions were skipped",
   "id": "1341eb477169df89"
  },
  {
   "metadata": {
    "ExecuteTime": {
     "end_time": "2024-06-15T09:50:57.967129Z",
     "start_time": "2024-06-15T09:50:57.959173Z"
    }
   },
   "cell_type": "code",
   "source": [
    "questions_skipped = 0\n",
    "for questions in trainings_dataset:\n",
    "    if \"complex\" in questions:\n",
    "        questions_skipped += len(questions['questions'])\n",
    "print(\"The total number of questions in the dataset is: \", questions_skipped)"
   ],
   "id": "4a40f2bf0d84dd16",
   "outputs": [
    {
     "name": "stdout",
     "output_type": "stream",
     "text": [
      "The total number of questions in the dataset is:  66\n"
     ]
    }
   ],
   "execution_count": 19
  },
  {
   "metadata": {
    "ExecuteTime": {
     "end_time": "2024-06-15T09:50:59.426083Z",
     "start_time": "2024-06-15T09:50:59.411145Z"
    }
   },
   "cell_type": "code",
   "source": [
    "number_of_evaluated_questions = number_of_questions - questions_skipped\n",
    "print(\"The total number of questions in the dataset that were evaluated is: \", number_of_evaluated_questions)"
   ],
   "id": "b129ae8b2fff75c0",
   "outputs": [
    {
     "name": "stdout",
     "output_type": "stream",
     "text": [
      "The total number of questions in the dataset that were evaluated is:  315\n"
     ]
    }
   ],
   "execution_count": 20
  },
  {
   "metadata": {},
   "cell_type": "markdown",
   "source": "This number is matching the amount of successfully evaluated questions listed below.",
   "id": "dd4397247382fbd1"
  },
  {
   "metadata": {
    "ExecuteTime": {
     "end_time": "2024-06-15T09:51:00.923382Z",
     "start_time": "2024-06-15T09:51:00.915251Z"
    }
   },
   "cell_type": "code",
   "source": "df[\"llm_model\"].value_counts().sort_values(ascending=False)",
   "id": "618e8ca52765ea67",
   "outputs": [
    {
     "data": {
      "text/plain": [
       "llm_model\n",
       "oll_llama3_instruct     315\n",
       "oll_gemma_instruct      315\n",
       "oll_mistral_instruct    315\n",
       "Name: count, dtype: int64"
      ]
     },
     "execution_count": 21,
     "metadata": {},
     "output_type": "execute_result"
    }
   ],
   "execution_count": 21
  },
  {
   "metadata": {},
   "cell_type": "markdown",
   "source": "### Prepare Dataframes",
   "id": "6121b94bbcdefc09"
  },
  {
   "metadata": {
    "ExecuteTime": {
     "end_time": "2024-06-15T09:51:04.445118Z",
     "start_time": "2024-06-15T09:51:04.431314Z"
    }
   },
   "cell_type": "code",
   "source": "scores = [0.0, 0.5, 1.0]",
   "id": "a954adc07338d0fd",
   "outputs": [],
   "execution_count": 22
  },
  {
   "metadata": {
    "ExecuteTime": {
     "end_time": "2024-06-15T09:51:05.177313Z",
     "start_time": "2024-06-15T09:51:05.160775Z"
    }
   },
   "cell_type": "code",
   "source": [
    "overall_scores = {\n",
    "    'gemma_instruct': {\n",
    "        'context_relevancy_score': 0.0,\n",
    "        'correctness_score': 0.0,\n",
    "        'faithfulness_score': 0.0,\n",
    "        'relevancy_score': 0.0,\n",
    "        'model_score': 0.0\n",
    "    },\n",
    "    'llama3_instruct': {\n",
    "        'context_relevancy_score': 0.0,\n",
    "        'correctness_score': 0.0,\n",
    "        'faithfulness_score': 0.0,\n",
    "        'relevancy_score': 0.0,\n",
    "        'model_score': 0.0\n",
    "    },\n",
    "    'mistral_instruct': {\n",
    "        'context_relevancy_score': 0.0,\n",
    "        'correctness_score': 0.0,\n",
    "        'faithfulness_score': 0.0,\n",
    "        'relevancy_score': 0.0,\n",
    "        'model_score': 0.0\n",
    "    }\n",
    "}"
   ],
   "id": "6bdddc15c6228f4a",
   "outputs": [],
   "execution_count": 23
  },
  {
   "metadata": {},
   "cell_type": "markdown",
   "source": "**Evaluation Data filtered for Gemma Instruct**",
   "id": "df9a73efd9778fff"
  },
  {
   "metadata": {
    "ExecuteTime": {
     "end_time": "2024-06-15T09:51:12.411302Z",
     "start_time": "2024-06-15T09:51:12.402228Z"
    }
   },
   "cell_type": "code",
   "source": "gemma_df = df[df[\"llm_model\"] == \"oll_gemma_instruct\"]",
   "id": "53701a6d90a9e0c0",
   "outputs": [],
   "execution_count": 24
  },
  {
   "metadata": {},
   "cell_type": "markdown",
   "source": "**Evaluation Data filtered for LLama3 Instruct**",
   "id": "eee983646362c19f"
  },
  {
   "metadata": {
    "ExecuteTime": {
     "end_time": "2024-06-15T09:51:13.723163Z",
     "start_time": "2024-06-15T09:51:13.709842Z"
    }
   },
   "cell_type": "code",
   "source": "llama3_df = df[df[\"llm_model\"] == \"oll_llama3_instruct\"]",
   "id": "f2ad41513c71583c",
   "outputs": [],
   "execution_count": 25
  },
  {
   "metadata": {},
   "cell_type": "markdown",
   "source": "**Evaluation Data filtered for Mistral Instruct**",
   "id": "9499c1432aa4ff5a"
  },
  {
   "metadata": {
    "ExecuteTime": {
     "end_time": "2024-06-15T09:51:15.081269Z",
     "start_time": "2024-06-15T09:51:15.062903Z"
    }
   },
   "cell_type": "code",
   "source": "mistral_df = df[df[\"llm_model\"] == \"oll_mistral_instruct\"]",
   "id": "b93655fcc1b702ee",
   "outputs": [],
   "execution_count": 26
  },
  {
   "metadata": {},
   "cell_type": "markdown",
   "source": "### Evaluation Results",
   "id": "741cce06374f77ab"
  },
  {
   "metadata": {
    "ExecuteTime": {
     "end_time": "2024-06-15T09:51:17.014242Z",
     "start_time": "2024-06-15T09:51:17.000776Z"
    }
   },
   "cell_type": "code",
   "source": [
    "columns_to_compare = [\n",
    "    'question_id',\n",
    "    'llm_model',\n",
    "    'collection_name',\n",
    "    'context_relevancy_score',\n",
    "    'correctness_score',\n",
    "    'faithfulness_score',\n",
    "    'relevancy_score',\n",
    "    'model_score'\n",
    "]"
   ],
   "id": "c4d23cce39699c5b",
   "outputs": [],
   "execution_count": 27
  },
  {
   "metadata": {
    "ExecuteTime": {
     "end_time": "2024-06-15T09:51:17.665490Z",
     "start_time": "2024-06-15T09:51:17.644462Z"
    }
   },
   "cell_type": "code",
   "source": [
    "results = {\n",
    "    \"Gemma Instruct\": gemma_df[columns_to_compare],\n",
    "    \"Llama3 Instruct\": llama3_df[columns_to_compare],\n",
    "    \"Mistral Instruct\": mistral_df[columns_to_compare]\n",
    "}"
   ],
   "id": "d01a079515db678a",
   "outputs": [],
   "execution_count": 28
  },
  {
   "metadata": {
    "ExecuteTime": {
     "end_time": "2024-06-15T09:51:18.492415Z",
     "start_time": "2024-06-15T09:51:18.479881Z"
    }
   },
   "cell_type": "code",
   "source": [
    "llm_models = list(results.keys())\n",
    "llm_models"
   ],
   "id": "d86793d447adf215",
   "outputs": [
    {
     "data": {
      "text/plain": [
       "['Gemma Instruct', 'Llama3 Instruct', 'Mistral Instruct']"
      ]
     },
     "execution_count": 29,
     "metadata": {},
     "output_type": "execute_result"
    }
   ],
   "execution_count": 29
  },
  {
   "metadata": {
    "ExecuteTime": {
     "end_time": "2024-06-15T09:51:19.613658Z",
     "start_time": "2024-06-15T09:51:19.600467Z"
    }
   },
   "cell_type": "code",
   "source": [
    "# list reversed\n",
    "llm_models_r = list(reversed(llm_models))\n",
    "llm_models_r"
   ],
   "id": "8e7de964f5f00ff9",
   "outputs": [
    {
     "data": {
      "text/plain": [
       "['Mistral Instruct', 'Llama3 Instruct', 'Gemma Instruct']"
      ]
     },
     "execution_count": 30,
     "metadata": {},
     "output_type": "execute_result"
    }
   ],
   "execution_count": 30
  },
  {
   "metadata": {},
   "cell_type": "markdown",
   "source": [
    "### Context Relevancy Score\n",
    "Evaluates the relevancy of retrieved contexts to a query. The score is between 0 and 1. A score of 1 indicates that the context is highly relevant to the query."
   ],
   "id": "b3177157d2f929be"
  },
  {
   "metadata": {
    "ExecuteTime": {
     "end_time": "2024-06-15T09:51:21.796279Z",
     "start_time": "2024-06-15T09:51:21.788100Z"
    }
   },
   "cell_type": "code",
   "source": [
    "metric_a = 'context_relevancy_score'\n",
    "metric_a"
   ],
   "id": "bcfc2a7a30d4e4ed",
   "outputs": [
    {
     "data": {
      "text/plain": [
       "'context_relevancy_score'"
      ]
     },
     "execution_count": 31,
     "metadata": {},
     "output_type": "execute_result"
    }
   ],
   "execution_count": 31
  },
  {
   "metadata": {
    "ExecuteTime": {
     "end_time": "2024-06-15T09:51:22.709545Z",
     "start_time": "2024-06-15T09:51:22.695587Z"
    }
   },
   "cell_type": "code",
   "source": "metric_a_label = \"Context Relevancy Score\"",
   "id": "caf4941d846b4108",
   "outputs": [],
   "execution_count": 32
  },
  {
   "metadata": {
    "ExecuteTime": {
     "end_time": "2024-06-15T09:51:23.675164Z",
     "start_time": "2024-06-15T09:51:23.661612Z"
    }
   },
   "cell_type": "code",
   "source": "gemma_df[metric_a].value_counts().sort_index(ascending=False)",
   "id": "20484e2177d110de",
   "outputs": [
    {
     "data": {
      "text/plain": [
       "context_relevancy_score\n",
       "1.000    292\n",
       "0.875      5\n",
       "0.750      3\n",
       "0.500     10\n",
       "0.250      5\n",
       "Name: count, dtype: int64"
      ]
     },
     "execution_count": 33,
     "metadata": {},
     "output_type": "execute_result"
    }
   ],
   "execution_count": 33
  },
  {
   "metadata": {
    "ExecuteTime": {
     "end_time": "2024-06-15T09:51:24.673298Z",
     "start_time": "2024-06-15T09:51:24.653575Z"
    }
   },
   "cell_type": "code",
   "source": "llama3_df[metric_a].value_counts().sort_index(ascending=False)",
   "id": "69398abda993a7d1",
   "outputs": [
    {
     "data": {
      "text/plain": [
       "context_relevancy_score\n",
       "1.000    297\n",
       "0.950      1\n",
       "0.875      4\n",
       "0.750      2\n",
       "0.625      2\n",
       "0.500      7\n",
       "0.250      2\n",
       "Name: count, dtype: int64"
      ]
     },
     "execution_count": 34,
     "metadata": {},
     "output_type": "execute_result"
    }
   ],
   "execution_count": 34
  },
  {
   "metadata": {
    "ExecuteTime": {
     "end_time": "2024-06-15T09:51:25.909862Z",
     "start_time": "2024-06-15T09:51:25.893425Z"
    }
   },
   "cell_type": "code",
   "source": "mistral_df[metric_a].value_counts().sort_index(ascending=False)",
   "id": "4fee92db80f11cb2",
   "outputs": [
    {
     "data": {
      "text/plain": [
       "context_relevancy_score\n",
       "1.000    293\n",
       "0.875      5\n",
       "0.750      1\n",
       "0.625      1\n",
       "0.500     12\n",
       "0.250      1\n",
       "0.125      1\n",
       "0.000      1\n",
       "Name: count, dtype: int64"
      ]
     },
     "execution_count": 35,
     "metadata": {},
     "output_type": "execute_result"
    }
   ],
   "execution_count": 35
  },
  {
   "metadata": {
    "ExecuteTime": {
     "end_time": "2024-06-15T09:51:27.044733Z",
     "start_time": "2024-06-15T09:51:27.016631Z"
    }
   },
   "cell_type": "code",
   "source": [
    "# create a DataFrame for the context relevancy score values\n",
    "metric_a_values_a = pd.DataFrame()\n",
    "metric_a_values_a['values'] = gemma_df[metric_a].value_counts().index\n",
    "metric_a_values_a[metric_a] = gemma_df[metric_a].value_counts().values\n",
    "metric_a_values_a['llm_model'] = llm_models[0]\n",
    "\n",
    "metric_a_values_b = pd.DataFrame()\n",
    "metric_a_values_b['values'] = llama3_df[metric_a].value_counts().index\n",
    "metric_a_values_b[metric_a] = llama3_df[metric_a].value_counts().values\n",
    "metric_a_values_b['llm_model'] = llm_models[1]\n",
    "\n",
    "metric_a_values_c = pd.DataFrame()\n",
    "metric_a_values_c['values'] = mistral_df[metric_a].value_counts().index\n",
    "metric_a_values_c[metric_a] = mistral_df[metric_a].value_counts().values\n",
    "metric_a_values_c['llm_model'] = llm_models[2]"
   ],
   "id": "4f60934f64a029d6",
   "outputs": [],
   "execution_count": 36
  },
  {
   "metadata": {
    "ExecuteTime": {
     "end_time": "2024-06-15T09:51:28.226404Z",
     "start_time": "2024-06-15T09:51:28.200365Z"
    }
   },
   "cell_type": "code",
   "source": "metric_a_values_a",
   "id": "328a7a9cdf9d9fa",
   "outputs": [
    {
     "data": {
      "text/plain": [
       "   values  context_relevancy_score       llm_model\n",
       "0   1.000                      292  Gemma Instruct\n",
       "1   0.500                       10  Gemma Instruct\n",
       "2   0.875                        5  Gemma Instruct\n",
       "3   0.250                        5  Gemma Instruct\n",
       "4   0.750                        3  Gemma Instruct"
      ],
      "text/html": [
       "<div>\n",
       "<style scoped>\n",
       "    .dataframe tbody tr th:only-of-type {\n",
       "        vertical-align: middle;\n",
       "    }\n",
       "\n",
       "    .dataframe tbody tr th {\n",
       "        vertical-align: top;\n",
       "    }\n",
       "\n",
       "    .dataframe thead th {\n",
       "        text-align: right;\n",
       "    }\n",
       "</style>\n",
       "<table border=\"1\" class=\"dataframe\">\n",
       "  <thead>\n",
       "    <tr style=\"text-align: right;\">\n",
       "      <th></th>\n",
       "      <th>values</th>\n",
       "      <th>context_relevancy_score</th>\n",
       "      <th>llm_model</th>\n",
       "    </tr>\n",
       "  </thead>\n",
       "  <tbody>\n",
       "    <tr>\n",
       "      <th>0</th>\n",
       "      <td>1.000</td>\n",
       "      <td>292</td>\n",
       "      <td>Gemma Instruct</td>\n",
       "    </tr>\n",
       "    <tr>\n",
       "      <th>1</th>\n",
       "      <td>0.500</td>\n",
       "      <td>10</td>\n",
       "      <td>Gemma Instruct</td>\n",
       "    </tr>\n",
       "    <tr>\n",
       "      <th>2</th>\n",
       "      <td>0.875</td>\n",
       "      <td>5</td>\n",
       "      <td>Gemma Instruct</td>\n",
       "    </tr>\n",
       "    <tr>\n",
       "      <th>3</th>\n",
       "      <td>0.250</td>\n",
       "      <td>5</td>\n",
       "      <td>Gemma Instruct</td>\n",
       "    </tr>\n",
       "    <tr>\n",
       "      <th>4</th>\n",
       "      <td>0.750</td>\n",
       "      <td>3</td>\n",
       "      <td>Gemma Instruct</td>\n",
       "    </tr>\n",
       "  </tbody>\n",
       "</table>\n",
       "</div>"
      ]
     },
     "execution_count": 37,
     "metadata": {},
     "output_type": "execute_result"
    }
   ],
   "execution_count": 37
  },
  {
   "metadata": {
    "ExecuteTime": {
     "end_time": "2024-06-15T09:51:32.395435Z",
     "start_time": "2024-06-15T09:51:32.069749Z"
    }
   },
   "cell_type": "code",
   "source": [
    "# boxplot\n",
    "metric_a_plot = sns.boxplot(\n",
    "    df,\n",
    "    x=\"llm_model\",\n",
    "    y=f\"{metric_a}\",\n",
    "    linewidth=1,\n",
    "    showmeans=True,\n",
    "    palette=colors,\n",
    "    boxprops={\"edgecolor\": \"k\"},\n",
    "    meanprops={\"marker\": \"o\", \"markerfacecolor\": \"none\", \"markeredgecolor\": \"red\"}\n",
    ")\n",
    "\n",
    "metric_a_mean = round(df[metric_a].mean(), 2)\n",
    "metric_a_plot.axhline(df[metric_a].mean(), linestyle='--', color=\"red\", linewidth=1.2)\n",
    "\n",
    "# show mean value\n",
    "metric_a_plot.text(0.7, metric_a_mean + 0.1, f'Mean: {metric_a_mean}', color='red', ha='left',\n",
    "                   fontsize=12, fontweight='bold')\n",
    "\n",
    "labels = results.keys()\n",
    "labels_with_mean = [f'{label}\\n(Mean {round(results[label][metric_a].mean(), 2)})' for label in labels]\n",
    "\n",
    "metric_a_plot.set_xticklabels(labels_with_mean)\n",
    "metric_a_plot.set_title(f\"Evaluation - {metric_a_label}\", fontsize=16, fontweight='bold', pad=24)\n",
    "metric_a_plot.set_xlabel(\"LLM Models\", fontsize=14, labelpad=14)\n",
    "metric_a_plot.set_ylabel(metric_a_label, fontsize=14, labelpad=14)\n",
    "metric_a_plot.tick_params(axis='y', labelsize=12)\n",
    "\n",
    "plt.tight_layout()\n",
    "plt.show()"
   ],
   "id": "6307b66320429cce",
   "outputs": [
    {
     "data": {
      "text/plain": [
       "<Figure size 640x480 with 1 Axes>"
      ],
      "image/png": "[encoded data removed]"
     },
     "metadata": {},
     "output_type": "display_data"
    }
   ],
   "execution_count": 38
  },
  {
   "metadata": {},
   "cell_type": "markdown",
   "source": "The chart shows a very high mean score 0.97. This means the context relevancy score is very high for all models. Now its interesting to see how many questions have a context relevancy score of 1.0.",
   "id": "d579bd5fdff85d0d"
  },
  {
   "metadata": {
    "ExecuteTime": {
     "end_time": "2024-06-14T14:05:07.945470Z",
     "start_time": "2024-06-14T14:05:07.931469Z"
    }
   },
   "cell_type": "code",
   "source": [
    "# combine the three DataFrames and group them by their values\n",
    "metric_a_values_combined = pd.concat([metric_a_values_a, metric_a_values_b, metric_a_values_c], ignore_index=True)\n",
    "metric_a_values_combined"
   ],
   "id": "b717fe4e8c70ec0e",
   "outputs": [
    {
     "data": {
      "text/plain": [
       "    values  context_relevancy_score         llm_model\n",
       "0    1.000                      292    Gemma Instruct\n",
       "1    0.500                       10    Gemma Instruct\n",
       "2    0.875                        5    Gemma Instruct\n",
       "3    0.250                        5    Gemma Instruct\n",
       "4    0.750                        3    Gemma Instruct\n",
       "5    1.000                      297   Llama3 Instruct\n",
       "6    0.500                        7   Llama3 Instruct\n",
       "7    0.875                        4   Llama3 Instruct\n",
       "8    0.750                        2   Llama3 Instruct\n",
       "9    0.625                        2   Llama3 Instruct\n",
       "10   0.250                        2   Llama3 Instruct\n",
       "11   0.950                        1   Llama3 Instruct\n",
       "12   1.000                      293  Mistral Instruct\n",
       "13   0.500                       12  Mistral Instruct\n",
       "14   0.875                        5  Mistral Instruct\n",
       "15   0.625                        1  Mistral Instruct\n",
       "16   0.125                        1  Mistral Instruct\n",
       "17   0.000                        1  Mistral Instruct\n",
       "18   0.250                        1  Mistral Instruct\n",
       "19   0.750                        1  Mistral Instruct"
      ],
      "text/html": [
       "<div>\n",
       "<style scoped>\n",
       "    .dataframe tbody tr th:only-of-type {\n",
       "        vertical-align: middle;\n",
       "    }\n",
       "\n",
       "    .dataframe tbody tr th {\n",
       "        vertical-align: top;\n",
       "    }\n",
       "\n",
       "    .dataframe thead th {\n",
       "        text-align: right;\n",
       "    }\n",
       "</style>\n",
       "<table border=\"1\" class=\"dataframe\">\n",
       "  <thead>\n",
       "    <tr style=\"text-align: right;\">\n",
       "      <th></th>\n",
       "      <th>values</th>\n",
       "      <th>context_relevancy_score</th>\n",
       "      <th>llm_model</th>\n",
       "    </tr>\n",
       "  </thead>\n",
       "  <tbody>\n",
       "    <tr>\n",
       "      <th>0</th>\n",
       "      <td>1.000</td>\n",
       "      <td>292</td>\n",
       "      <td>Gemma Instruct</td>\n",
       "    </tr>\n",
       "    <tr>\n",
       "      <th>1</th>\n",
       "      <td>0.500</td>\n",
       "      <td>10</td>\n",
       "      <td>Gemma Instruct</td>\n",
       "    </tr>\n",
       "    <tr>\n",
       "      <th>2</th>\n",
       "      <td>0.875</td>\n",
       "      <td>5</td>\n",
       "      <td>Gemma Instruct</td>\n",
       "    </tr>\n",
       "    <tr>\n",
       "      <th>3</th>\n",
       "      <td>0.250</td>\n",
       "      <td>5</td>\n",
       "      <td>Gemma Instruct</td>\n",
       "    </tr>\n",
       "    <tr>\n",
       "      <th>4</th>\n",
       "      <td>0.750</td>\n",
       "      <td>3</td>\n",
       "      <td>Gemma Instruct</td>\n",
       "    </tr>\n",
       "    <tr>\n",
       "      <th>5</th>\n",
       "      <td>1.000</td>\n",
       "      <td>297</td>\n",
       "      <td>Llama3 Instruct</td>\n",
       "    </tr>\n",
       "    <tr>\n",
       "      <th>6</th>\n",
       "      <td>0.500</td>\n",
       "      <td>7</td>\n",
       "      <td>Llama3 Instruct</td>\n",
       "    </tr>\n",
       "    <tr>\n",
       "      <th>7</th>\n",
       "      <td>0.875</td>\n",
       "      <td>4</td>\n",
       "      <td>Llama3 Instruct</td>\n",
       "    </tr>\n",
       "    <tr>\n",
       "      <th>8</th>\n",
       "      <td>0.750</td>\n",
       "      <td>2</td>\n",
       "      <td>Llama3 Instruct</td>\n",
       "    </tr>\n",
       "    <tr>\n",
       "      <th>9</th>\n",
       "      <td>0.625</td>\n",
       "      <td>2</td>\n",
       "      <td>Llama3 Instruct</td>\n",
       "    </tr>\n",
       "    <tr>\n",
       "      <th>10</th>\n",
       "      <td>0.250</td>\n",
       "      <td>2</td>\n",
       "      <td>Llama3 Instruct</td>\n",
       "    </tr>\n",
       "    <tr>\n",
       "      <th>11</th>\n",
       "      <td>0.950</td>\n",
       "      <td>1</td>\n",
       "      <td>Llama3 Instruct</td>\n",
       "    </tr>\n",
       "    <tr>\n",
       "      <th>12</th>\n",
       "      <td>1.000</td>\n",
       "      <td>293</td>\n",
       "      <td>Mistral Instruct</td>\n",
       "    </tr>\n",
       "    <tr>\n",
       "      <th>13</th>\n",
       "      <td>0.500</td>\n",
       "      <td>12</td>\n",
       "      <td>Mistral Instruct</td>\n",
       "    </tr>\n",
       "    <tr>\n",
       "      <th>14</th>\n",
       "      <td>0.875</td>\n",
       "      <td>5</td>\n",
       "      <td>Mistral Instruct</td>\n",
       "    </tr>\n",
       "    <tr>\n",
       "      <th>15</th>\n",
       "      <td>0.625</td>\n",
       "      <td>1</td>\n",
       "      <td>Mistral Instruct</td>\n",
       "    </tr>\n",
       "    <tr>\n",
       "      <th>16</th>\n",
       "      <td>0.125</td>\n",
       "      <td>1</td>\n",
       "      <td>Mistral Instruct</td>\n",
       "    </tr>\n",
       "    <tr>\n",
       "      <th>17</th>\n",
       "      <td>0.000</td>\n",
       "      <td>1</td>\n",
       "      <td>Mistral Instruct</td>\n",
       "    </tr>\n",
       "    <tr>\n",
       "      <th>18</th>\n",
       "      <td>0.250</td>\n",
       "      <td>1</td>\n",
       "      <td>Mistral Instruct</td>\n",
       "    </tr>\n",
       "    <tr>\n",
       "      <th>19</th>\n",
       "      <td>0.750</td>\n",
       "      <td>1</td>\n",
       "      <td>Mistral Instruct</td>\n",
       "    </tr>\n",
       "  </tbody>\n",
       "</table>\n",
       "</div>"
      ]
     },
     "execution_count": 1065,
     "metadata": {},
     "output_type": "execute_result"
    }
   ],
   "execution_count": 1065
  },
  {
   "metadata": {
    "ExecuteTime": {
     "end_time": "2024-06-14T14:05:07.961470Z",
     "start_time": "2024-06-14T14:05:07.946471Z"
    }
   },
   "cell_type": "code",
   "source": [
    "metric_a_values_combined['values'] = pd.to_numeric(metric_a_values_combined['values'], errors='coerce')\n",
    "metric_a_values_combined[metric_a] = pd.to_numeric(metric_a_values_combined[metric_a], errors='coerce')\n",
    "metric_a_values_combined"
   ],
   "id": "80641d9aaffbe253",
   "outputs": [
    {
     "data": {
      "text/plain": [
       "    values  context_relevancy_score         llm_model\n",
       "0    1.000                      292    Gemma Instruct\n",
       "1    0.500                       10    Gemma Instruct\n",
       "2    0.875                        5    Gemma Instruct\n",
       "3    0.250                        5    Gemma Instruct\n",
       "4    0.750                        3    Gemma Instruct\n",
       "5    1.000                      297   Llama3 Instruct\n",
       "6    0.500                        7   Llama3 Instruct\n",
       "7    0.875                        4   Llama3 Instruct\n",
       "8    0.750                        2   Llama3 Instruct\n",
       "9    0.625                        2   Llama3 Instruct\n",
       "10   0.250                        2   Llama3 Instruct\n",
       "11   0.950                        1   Llama3 Instruct\n",
       "12   1.000                      293  Mistral Instruct\n",
       "13   0.500                       12  Mistral Instruct\n",
       "14   0.875                        5  Mistral Instruct\n",
       "15   0.625                        1  Mistral Instruct\n",
       "16   0.125                        1  Mistral Instruct\n",
       "17   0.000                        1  Mistral Instruct\n",
       "18   0.250                        1  Mistral Instruct\n",
       "19   0.750                        1  Mistral Instruct"
      ],
      "text/html": [
       "<div>\n",
       "<style scoped>\n",
       "    .dataframe tbody tr th:only-of-type {\n",
       "        vertical-align: middle;\n",
       "    }\n",
       "\n",
       "    .dataframe tbody tr th {\n",
       "        vertical-align: top;\n",
       "    }\n",
       "\n",
       "    .dataframe thead th {\n",
       "        text-align: right;\n",
       "    }\n",
       "</style>\n",
       "<table border=\"1\" class=\"dataframe\">\n",
       "  <thead>\n",
       "    <tr style=\"text-align: right;\">\n",
       "      <th></th>\n",
       "      <th>values</th>\n",
       "      <th>context_relevancy_score</th>\n",
       "      <th>llm_model</th>\n",
       "    </tr>\n",
       "  </thead>\n",
       "  <tbody>\n",
       "    <tr>\n",
       "      <th>0</th>\n",
       "      <td>1.000</td>\n",
       "      <td>292</td>\n",
       "      <td>Gemma Instruct</td>\n",
       "    </tr>\n",
       "    <tr>\n",
       "      <th>1</th>\n",
       "      <td>0.500</td>\n",
       "      <td>10</td>\n",
       "      <td>Gemma Instruct</td>\n",
       "    </tr>\n",
       "    <tr>\n",
       "      <th>2</th>\n",
       "      <td>0.875</td>\n",
       "      <td>5</td>\n",
       "      <td>Gemma Instruct</td>\n",
       "    </tr>\n",
       "    <tr>\n",
       "      <th>3</th>\n",
       "      <td>0.250</td>\n",
       "      <td>5</td>\n",
       "      <td>Gemma Instruct</td>\n",
       "    </tr>\n",
       "    <tr>\n",
       "      <th>4</th>\n",
       "      <td>0.750</td>\n",
       "      <td>3</td>\n",
       "      <td>Gemma Instruct</td>\n",
       "    </tr>\n",
       "    <tr>\n",
       "      <th>5</th>\n",
       "      <td>1.000</td>\n",
       "      <td>297</td>\n",
       "      <td>Llama3 Instruct</td>\n",
       "    </tr>\n",
       "    <tr>\n",
       "      <th>6</th>\n",
       "      <td>0.500</td>\n",
       "      <td>7</td>\n",
       "      <td>Llama3 Instruct</td>\n",
       "    </tr>\n",
       "    <tr>\n",
       "      <th>7</th>\n",
       "      <td>0.875</td>\n",
       "      <td>4</td>\n",
       "      <td>Llama3 Instruct</td>\n",
       "    </tr>\n",
       "    <tr>\n",
       "      <th>8</th>\n",
       "      <td>0.750</td>\n",
       "      <td>2</td>\n",
       "      <td>Llama3 Instruct</td>\n",
       "    </tr>\n",
       "    <tr>\n",
       "      <th>9</th>\n",
       "      <td>0.625</td>\n",
       "      <td>2</td>\n",
       "      <td>Llama3 Instruct</td>\n",
       "    </tr>\n",
       "    <tr>\n",
       "      <th>10</th>\n",
       "      <td>0.250</td>\n",
       "      <td>2</td>\n",
       "      <td>Llama3 Instruct</td>\n",
       "    </tr>\n",
       "    <tr>\n",
       "      <th>11</th>\n",
       "      <td>0.950</td>\n",
       "      <td>1</td>\n",
       "      <td>Llama3 Instruct</td>\n",
       "    </tr>\n",
       "    <tr>\n",
       "      <th>12</th>\n",
       "      <td>1.000</td>\n",
       "      <td>293</td>\n",
       "      <td>Mistral Instruct</td>\n",
       "    </tr>\n",
       "    <tr>\n",
       "      <th>13</th>\n",
       "      <td>0.500</td>\n",
       "      <td>12</td>\n",
       "      <td>Mistral Instruct</td>\n",
       "    </tr>\n",
       "    <tr>\n",
       "      <th>14</th>\n",
       "      <td>0.875</td>\n",
       "      <td>5</td>\n",
       "      <td>Mistral Instruct</td>\n",
       "    </tr>\n",
       "    <tr>\n",
       "      <th>15</th>\n",
       "      <td>0.625</td>\n",
       "      <td>1</td>\n",
       "      <td>Mistral Instruct</td>\n",
       "    </tr>\n",
       "    <tr>\n",
       "      <th>16</th>\n",
       "      <td>0.125</td>\n",
       "      <td>1</td>\n",
       "      <td>Mistral Instruct</td>\n",
       "    </tr>\n",
       "    <tr>\n",
       "      <th>17</th>\n",
       "      <td>0.000</td>\n",
       "      <td>1</td>\n",
       "      <td>Mistral Instruct</td>\n",
       "    </tr>\n",
       "    <tr>\n",
       "      <th>18</th>\n",
       "      <td>0.250</td>\n",
       "      <td>1</td>\n",
       "      <td>Mistral Instruct</td>\n",
       "    </tr>\n",
       "    <tr>\n",
       "      <th>19</th>\n",
       "      <td>0.750</td>\n",
       "      <td>1</td>\n",
       "      <td>Mistral Instruct</td>\n",
       "    </tr>\n",
       "  </tbody>\n",
       "</table>\n",
       "</div>"
      ]
     },
     "execution_count": 1066,
     "metadata": {},
     "output_type": "execute_result"
    }
   ],
   "execution_count": 1066
  },
  {
   "metadata": {},
   "cell_type": "markdown",
   "source": "Display the number of questions with a context relevancy score of 1.0\n",
   "id": "e3661f6b05805a44"
  },
  {
   "metadata": {
    "ExecuteTime": {
     "end_time": "2024-06-14T14:05:08.054708Z",
     "start_time": "2024-06-14T14:05:08.042709Z"
    }
   },
   "cell_type": "code",
   "source": [
    "# list all three models with the number of occurences of each value equal to 1.0\n",
    "metric_a_score_a = gemma_df[metric_a].value_counts()[1.0]\n",
    "metric_a_score_b = llama3_df[metric_a].value_counts()[1.0]\n",
    "metric_a_score_c = mistral_df[metric_a].value_counts()[1.0]\n",
    "print(f\"{llm_models[0]}: {metric_a_score_a}, {llm_models[1]}: {metric_a_score_b}, {llm_models[2]}: {metric_a_score_c}\")"
   ],
   "id": "3d8f18f7cbc6ce5a",
   "outputs": [
    {
     "name": "stdout",
     "output_type": "stream",
     "text": [
      "Gemma Instruct: 292, Llama3 Instruct: 297, Mistral Instruct: 293\n"
     ]
    }
   ],
   "execution_count": 1067
  },
  {
   "metadata": {
    "ExecuteTime": {
     "end_time": "2024-06-14T14:05:08.276749Z",
     "start_time": "2024-06-14T14:05:08.257749Z"
    }
   },
   "cell_type": "code",
   "source": "number_of_evaluated_questions",
   "id": "347d6ba9e3f605f2",
   "outputs": [
    {
     "data": {
      "text/plain": [
       "315"
      ]
     },
     "execution_count": 1068,
     "metadata": {},
     "output_type": "execute_result"
    }
   ],
   "execution_count": 1068
  },
  {
   "metadata": {
    "ExecuteTime": {
     "end_time": "2024-06-14T14:05:08.671554Z",
     "start_time": "2024-06-14T14:05:08.658810Z"
    }
   },
   "cell_type": "code",
   "source": [
    "# mean of the 1.0 context relevancy score\n",
    "metric_a_scores_mean = (metric_a_score_a + metric_a_score_b + metric_a_score_c) / 3"
   ],
   "id": "64f8987ae9673ba8",
   "outputs": [],
   "execution_count": 1069
  },
  {
   "metadata": {
    "ExecuteTime": {
     "end_time": "2024-06-14T14:05:08.877415Z",
     "start_time": "2024-06-14T14:05:08.863414Z"
    }
   },
   "cell_type": "code",
   "source": [
    "# sort dataframe by 'llm_model'\n",
    "metric_a_values_combined = metric_a_values_combined.sort_values(by='llm_model', ascending=False)"
   ],
   "id": "41806733d58f2246",
   "outputs": [],
   "execution_count": 1070
  },
  {
   "metadata": {
    "ExecuteTime": {
     "end_time": "2024-06-14T14:05:09.129488Z",
     "start_time": "2024-06-14T14:05:09.116539Z"
    }
   },
   "cell_type": "code",
   "source": "metric_a_values_combined",
   "id": "d2b4cd01860ce242",
   "outputs": [
    {
     "data": {
      "text/plain": [
       "    values  context_relevancy_score         llm_model\n",
       "19   0.750                        1  Mistral Instruct\n",
       "18   0.250                        1  Mistral Instruct\n",
       "17   0.000                        1  Mistral Instruct\n",
       "16   0.125                        1  Mistral Instruct\n",
       "15   0.625                        1  Mistral Instruct\n",
       "14   0.875                        5  Mistral Instruct\n",
       "13   0.500                       12  Mistral Instruct\n",
       "12   1.000                      293  Mistral Instruct\n",
       "11   0.950                        1   Llama3 Instruct\n",
       "10   0.250                        2   Llama3 Instruct\n",
       "9    0.625                        2   Llama3 Instruct\n",
       "8    0.750                        2   Llama3 Instruct\n",
       "7    0.875                        4   Llama3 Instruct\n",
       "6    0.500                        7   Llama3 Instruct\n",
       "5    1.000                      297   Llama3 Instruct\n",
       "1    0.500                       10    Gemma Instruct\n",
       "4    0.750                        3    Gemma Instruct\n",
       "3    0.250                        5    Gemma Instruct\n",
       "2    0.875                        5    Gemma Instruct\n",
       "0    1.000                      292    Gemma Instruct"
      ],
      "text/html": [
       "<div>\n",
       "<style scoped>\n",
       "    .dataframe tbody tr th:only-of-type {\n",
       "        vertical-align: middle;\n",
       "    }\n",
       "\n",
       "    .dataframe tbody tr th {\n",
       "        vertical-align: top;\n",
       "    }\n",
       "\n",
       "    .dataframe thead th {\n",
       "        text-align: right;\n",
       "    }\n",
       "</style>\n",
       "<table border=\"1\" class=\"dataframe\">\n",
       "  <thead>\n",
       "    <tr style=\"text-align: right;\">\n",
       "      <th></th>\n",
       "      <th>values</th>\n",
       "      <th>context_relevancy_score</th>\n",
       "      <th>llm_model</th>\n",
       "    </tr>\n",
       "  </thead>\n",
       "  <tbody>\n",
       "    <tr>\n",
       "      <th>19</th>\n",
       "      <td>0.750</td>\n",
       "      <td>1</td>\n",
       "      <td>Mistral Instruct</td>\n",
       "    </tr>\n",
       "    <tr>\n",
       "      <th>18</th>\n",
       "      <td>0.250</td>\n",
       "      <td>1</td>\n",
       "      <td>Mistral Instruct</td>\n",
       "    </tr>\n",
       "    <tr>\n",
       "      <th>17</th>\n",
       "      <td>0.000</td>\n",
       "      <td>1</td>\n",
       "      <td>Mistral Instruct</td>\n",
       "    </tr>\n",
       "    <tr>\n",
       "      <th>16</th>\n",
       "      <td>0.125</td>\n",
       "      <td>1</td>\n",
       "      <td>Mistral Instruct</td>\n",
       "    </tr>\n",
       "    <tr>\n",
       "      <th>15</th>\n",
       "      <td>0.625</td>\n",
       "      <td>1</td>\n",
       "      <td>Mistral Instruct</td>\n",
       "    </tr>\n",
       "    <tr>\n",
       "      <th>14</th>\n",
       "      <td>0.875</td>\n",
       "      <td>5</td>\n",
       "      <td>Mistral Instruct</td>\n",
       "    </tr>\n",
       "    <tr>\n",
       "      <th>13</th>\n",
       "      <td>0.500</td>\n",
       "      <td>12</td>\n",
       "      <td>Mistral Instruct</td>\n",
       "    </tr>\n",
       "    <tr>\n",
       "      <th>12</th>\n",
       "      <td>1.000</td>\n",
       "      <td>293</td>\n",
       "      <td>Mistral Instruct</td>\n",
       "    </tr>\n",
       "    <tr>\n",
       "      <th>11</th>\n",
       "      <td>0.950</td>\n",
       "      <td>1</td>\n",
       "      <td>Llama3 Instruct</td>\n",
       "    </tr>\n",
       "    <tr>\n",
       "      <th>10</th>\n",
       "      <td>0.250</td>\n",
       "      <td>2</td>\n",
       "      <td>Llama3 Instruct</td>\n",
       "    </tr>\n",
       "    <tr>\n",
       "      <th>9</th>\n",
       "      <td>0.625</td>\n",
       "      <td>2</td>\n",
       "      <td>Llama3 Instruct</td>\n",
       "    </tr>\n",
       "    <tr>\n",
       "      <th>8</th>\n",
       "      <td>0.750</td>\n",
       "      <td>2</td>\n",
       "      <td>Llama3 Instruct</td>\n",
       "    </tr>\n",
       "    <tr>\n",
       "      <th>7</th>\n",
       "      <td>0.875</td>\n",
       "      <td>4</td>\n",
       "      <td>Llama3 Instruct</td>\n",
       "    </tr>\n",
       "    <tr>\n",
       "      <th>6</th>\n",
       "      <td>0.500</td>\n",
       "      <td>7</td>\n",
       "      <td>Llama3 Instruct</td>\n",
       "    </tr>\n",
       "    <tr>\n",
       "      <th>5</th>\n",
       "      <td>1.000</td>\n",
       "      <td>297</td>\n",
       "      <td>Llama3 Instruct</td>\n",
       "    </tr>\n",
       "    <tr>\n",
       "      <th>1</th>\n",
       "      <td>0.500</td>\n",
       "      <td>10</td>\n",
       "      <td>Gemma Instruct</td>\n",
       "    </tr>\n",
       "    <tr>\n",
       "      <th>4</th>\n",
       "      <td>0.750</td>\n",
       "      <td>3</td>\n",
       "      <td>Gemma Instruct</td>\n",
       "    </tr>\n",
       "    <tr>\n",
       "      <th>3</th>\n",
       "      <td>0.250</td>\n",
       "      <td>5</td>\n",
       "      <td>Gemma Instruct</td>\n",
       "    </tr>\n",
       "    <tr>\n",
       "      <th>2</th>\n",
       "      <td>0.875</td>\n",
       "      <td>5</td>\n",
       "      <td>Gemma Instruct</td>\n",
       "    </tr>\n",
       "    <tr>\n",
       "      <th>0</th>\n",
       "      <td>1.000</td>\n",
       "      <td>292</td>\n",
       "      <td>Gemma Instruct</td>\n",
       "    </tr>\n",
       "  </tbody>\n",
       "</table>\n",
       "</div>"
      ]
     },
     "execution_count": 1071,
     "metadata": {},
     "output_type": "execute_result"
    }
   ],
   "execution_count": 1071
  },
  {
   "metadata": {
    "ExecuteTime": {
     "end_time": "2024-06-14T14:05:09.225001Z",
     "start_time": "2024-06-14T14:05:09.210002Z"
    }
   },
   "cell_type": "code",
   "source": [
    "pivot_metric_a_values_combined = metric_a_values_combined.pivot(index='values', columns='llm_model', values=metric_a)\n",
    "\n",
    "# fill NaN values with 0\n",
    "pivot_metric_a_values_combined = pivot_metric_a_values_combined.fillna(0)\n",
    "\n",
    "# order the columns\n",
    "pivot_metric_a_values_combined = pivot_metric_a_values_combined[llm_models_r]\n",
    "pivot_metric_a_values_combined"
   ],
   "id": "a360a1f8a9553681",
   "outputs": [
    {
     "data": {
      "text/plain": [
       "llm_model  Mistral Instruct  Llama3 Instruct  Gemma Instruct\n",
       "values                                                      \n",
       "0.000                   1.0              0.0             0.0\n",
       "0.125                   1.0              0.0             0.0\n",
       "0.250                   1.0              2.0             5.0\n",
       "0.500                  12.0              7.0            10.0\n",
       "0.625                   1.0              2.0             0.0\n",
       "0.750                   1.0              2.0             3.0\n",
       "0.875                   5.0              4.0             5.0\n",
       "0.950                   0.0              1.0             0.0\n",
       "1.000                 293.0            297.0           292.0"
      ],
      "text/html": [
       "<div>\n",
       "<style scoped>\n",
       "    .dataframe tbody tr th:only-of-type {\n",
       "        vertical-align: middle;\n",
       "    }\n",
       "\n",
       "    .dataframe tbody tr th {\n",
       "        vertical-align: top;\n",
       "    }\n",
       "\n",
       "    .dataframe thead th {\n",
       "        text-align: right;\n",
       "    }\n",
       "</style>\n",
       "<table border=\"1\" class=\"dataframe\">\n",
       "  <thead>\n",
       "    <tr style=\"text-align: right;\">\n",
       "      <th>llm_model</th>\n",
       "      <th>Mistral Instruct</th>\n",
       "      <th>Llama3 Instruct</th>\n",
       "      <th>Gemma Instruct</th>\n",
       "    </tr>\n",
       "    <tr>\n",
       "      <th>values</th>\n",
       "      <th></th>\n",
       "      <th></th>\n",
       "      <th></th>\n",
       "    </tr>\n",
       "  </thead>\n",
       "  <tbody>\n",
       "    <tr>\n",
       "      <th>0.000</th>\n",
       "      <td>1.0</td>\n",
       "      <td>0.0</td>\n",
       "      <td>0.0</td>\n",
       "    </tr>\n",
       "    <tr>\n",
       "      <th>0.125</th>\n",
       "      <td>1.0</td>\n",
       "      <td>0.0</td>\n",
       "      <td>0.0</td>\n",
       "    </tr>\n",
       "    <tr>\n",
       "      <th>0.250</th>\n",
       "      <td>1.0</td>\n",
       "      <td>2.0</td>\n",
       "      <td>5.0</td>\n",
       "    </tr>\n",
       "    <tr>\n",
       "      <th>0.500</th>\n",
       "      <td>12.0</td>\n",
       "      <td>7.0</td>\n",
       "      <td>10.0</td>\n",
       "    </tr>\n",
       "    <tr>\n",
       "      <th>0.625</th>\n",
       "      <td>1.0</td>\n",
       "      <td>2.0</td>\n",
       "      <td>0.0</td>\n",
       "    </tr>\n",
       "    <tr>\n",
       "      <th>0.750</th>\n",
       "      <td>1.0</td>\n",
       "      <td>2.0</td>\n",
       "      <td>3.0</td>\n",
       "    </tr>\n",
       "    <tr>\n",
       "      <th>0.875</th>\n",
       "      <td>5.0</td>\n",
       "      <td>4.0</td>\n",
       "      <td>5.0</td>\n",
       "    </tr>\n",
       "    <tr>\n",
       "      <th>0.950</th>\n",
       "      <td>0.0</td>\n",
       "      <td>1.0</td>\n",
       "      <td>0.0</td>\n",
       "    </tr>\n",
       "    <tr>\n",
       "      <th>1.000</th>\n",
       "      <td>293.0</td>\n",
       "      <td>297.0</td>\n",
       "      <td>292.0</td>\n",
       "    </tr>\n",
       "  </tbody>\n",
       "</table>\n",
       "</div>"
      ]
     },
     "execution_count": 1072,
     "metadata": {},
     "output_type": "execute_result"
    }
   ],
   "execution_count": 1072
  },
  {
   "metadata": {
    "ExecuteTime": {
     "end_time": "2024-06-14T14:05:09.870971Z",
     "start_time": "2024-06-14T14:05:09.373578Z"
    }
   },
   "cell_type": "code",
   "source": [
    "# display horizontal bar chart\n",
    "metric_a_chart_a = pivot_metric_a_values_combined.plot(kind='barh', figsize=(10, 6), color=colors, stacked=False,\n",
    "                                                       legend='reverse')\n",
    "# set the labels\n",
    "metric_a_chart_a.set_ylabel(metric_a_label, fontsize=14, labelpad=14)\n",
    "metric_a_chart_a.set_xlabel(\"Number of evaluated Questions\", fontsize=14, labelpad=14)\n",
    "metric_a_chart_a.set_title(f\"Evaluate the relevance of the given context to the question\", fontsize=16, fontweight='bold', pad=14)\n",
    "\n",
    "# add number of evaluated questions as vertical line\n",
    "metric_a_chart_a.axvline(x=number_of_evaluated_questions, linestyle='-', color=\"black\", linewidth=0.8)\n",
    "metric_a_chart_a.text(number_of_evaluated_questions + 2, 3.5, number_of_evaluated_questions, ha='left',\n",
    "                      fontsize=11, fontweight='bold', color='black')\n",
    "\n",
    "# add mean value as vertical line\n",
    "metric_a_chart_a.axvline(x=metric_a_scores_mean, linestyle='--', color='red', linewidth=0.8)\n",
    "metric_a_chart_a.text(metric_a_scores_mean - 40, 3.5, f\"Mean: {round(metric_a_scores_mean, 2)}\", ha='left',\n",
    "                      fontsize=11, fontweight='bold', color='red')\n",
    "\n",
    "# add legend\n",
    "handles, labels = metric_a_chart_a.get_legend_handles_labels()\n",
    "metric_a_chart_a.legend(\n",
    "    reversed(handles),\n",
    "    reversed(labels),\n",
    "    title=metric_a_label + \"\\nevaluated by GPT-3.5 Turbo\",\n",
    "    loc='upper right',\n",
    "    fontsize=9,\n",
    "    bbox_to_anchor=(1.25, 1.06)\n",
    ")"
   ],
   "id": "3c6505c590eb7427",
   "outputs": [
    {
     "data": {
      "text/plain": [
       "<matplotlib.legend.Legend at 0x2866fc882b0>"
      ]
     },
     "execution_count": 1073,
     "metadata": {},
     "output_type": "execute_result"
    },
    {
     "data": {
      "text/plain": [
       "<Figure size 1000x600 with 1 Axes>"
      ],
      "image/png": "[encoded data removed]"
     },
     "metadata": {},
     "output_type": "display_data"
    }
   ],
   "execution_count": 1073
  },
  {
   "metadata": {
    "ExecuteTime": {
     "end_time": "2024-06-14T14:05:09.885972Z",
     "start_time": "2024-06-14T14:05:09.872971Z"
    }
   },
   "cell_type": "code",
   "source": [
    "number_of_metric_a_score_a = metric_a_values_a[metric_a_values_a['values'] >= 0.75].sum()[metric_a]\n",
    "number_of_metric_a_score_b = metric_a_values_b[metric_a_values_b['values'] >= 0.75].sum()[metric_a]\n",
    "number_of_metric_a_score_c = metric_a_values_c[metric_a_values_c['values'] >= 0.75].sum()[metric_a]"
   ],
   "id": "7fdc64047062da25",
   "outputs": [],
   "execution_count": 1074
  },
  {
   "metadata": {
    "ExecuteTime": {
     "end_time": "2024-06-14T14:05:09.902319Z",
     "start_time": "2024-06-14T14:05:09.887978Z"
    }
   },
   "cell_type": "code",
   "source": "number_of_metric_a_score_a",
   "id": "9899efb4447e5d83",
   "outputs": [
    {
     "data": {
      "text/plain": [
       "300"
      ]
     },
     "execution_count": 1075,
     "metadata": {},
     "output_type": "execute_result"
    }
   ],
   "execution_count": 1075
  },
  {
   "metadata": {
    "ExecuteTime": {
     "end_time": "2024-06-14T14:05:10.061921Z",
     "start_time": "2024-06-14T14:05:10.046890Z"
    }
   },
   "cell_type": "code",
   "source": [
    "# now we will calculate the number of questions with a context relevancy score over 0.75\n",
    "metric_a_good_results = pd.DataFrame()\n",
    "metric_a_good_results['llm_model'] = llm_models\n",
    "metric_a_good_results['number_of_good_results'] = [number_of_metric_a_score_a,\n",
    "                                      number_of_metric_a_score_b,\n",
    "                                      number_of_metric_a_score_c]"
   ],
   "id": "32fc7ec257b06427",
   "outputs": [],
   "execution_count": 1076
  },
  {
   "metadata": {
    "ExecuteTime": {
     "end_time": "2024-06-14T14:05:10.333046Z",
     "start_time": "2024-06-14T14:05:10.319046Z"
    }
   },
   "cell_type": "code",
   "source": "metric_a_good_results",
   "id": "561494d07c7f9754",
   "outputs": [
    {
     "data": {
      "text/plain": [
       "          llm_model  number_of_good_results\n",
       "0    Gemma Instruct                     300\n",
       "1   Llama3 Instruct                     304\n",
       "2  Mistral Instruct                     299"
      ],
      "text/html": [
       "<div>\n",
       "<style scoped>\n",
       "    .dataframe tbody tr th:only-of-type {\n",
       "        vertical-align: middle;\n",
       "    }\n",
       "\n",
       "    .dataframe tbody tr th {\n",
       "        vertical-align: top;\n",
       "    }\n",
       "\n",
       "    .dataframe thead th {\n",
       "        text-align: right;\n",
       "    }\n",
       "</style>\n",
       "<table border=\"1\" class=\"dataframe\">\n",
       "  <thead>\n",
       "    <tr style=\"text-align: right;\">\n",
       "      <th></th>\n",
       "      <th>llm_model</th>\n",
       "      <th>number_of_good_results</th>\n",
       "    </tr>\n",
       "  </thead>\n",
       "  <tbody>\n",
       "    <tr>\n",
       "      <th>0</th>\n",
       "      <td>Gemma Instruct</td>\n",
       "      <td>300</td>\n",
       "    </tr>\n",
       "    <tr>\n",
       "      <th>1</th>\n",
       "      <td>Llama3 Instruct</td>\n",
       "      <td>304</td>\n",
       "    </tr>\n",
       "    <tr>\n",
       "      <th>2</th>\n",
       "      <td>Mistral Instruct</td>\n",
       "      <td>299</td>\n",
       "    </tr>\n",
       "  </tbody>\n",
       "</table>\n",
       "</div>"
      ]
     },
     "execution_count": 1077,
     "metadata": {},
     "output_type": "execute_result"
    }
   ],
   "execution_count": 1077
  },
  {
   "metadata": {
    "ExecuteTime": {
     "end_time": "2024-06-14T14:05:10.443601Z",
     "start_time": "2024-06-14T14:05:10.421603Z"
    }
   },
   "cell_type": "code",
   "source": [
    "metric_a_percentages = pd.DataFrame()\n",
    "metric_a_percentages['llm_model'] = llm_models\n",
    "metric_a_percentages['percentage'] = [round((number_of_metric_a_score_a / number_of_evaluated_questions) * 100, 2),\n",
    "                                      round((number_of_metric_a_score_b / number_of_evaluated_questions) * 100, 2),\n",
    "                                      round((number_of_metric_a_score_c / number_of_evaluated_questions) * 100, 2)]\n",
    "metric_a_percentages"
   ],
   "id": "bff9b71ae294c5e8",
   "outputs": [
    {
     "data": {
      "text/plain": [
       "          llm_model  percentage\n",
       "0    Gemma Instruct       95.24\n",
       "1   Llama3 Instruct       96.51\n",
       "2  Mistral Instruct       94.92"
      ],
      "text/html": [
       "<div>\n",
       "<style scoped>\n",
       "    .dataframe tbody tr th:only-of-type {\n",
       "        vertical-align: middle;\n",
       "    }\n",
       "\n",
       "    .dataframe tbody tr th {\n",
       "        vertical-align: top;\n",
       "    }\n",
       "\n",
       "    .dataframe thead th {\n",
       "        text-align: right;\n",
       "    }\n",
       "</style>\n",
       "<table border=\"1\" class=\"dataframe\">\n",
       "  <thead>\n",
       "    <tr style=\"text-align: right;\">\n",
       "      <th></th>\n",
       "      <th>llm_model</th>\n",
       "      <th>percentage</th>\n",
       "    </tr>\n",
       "  </thead>\n",
       "  <tbody>\n",
       "    <tr>\n",
       "      <th>0</th>\n",
       "      <td>Gemma Instruct</td>\n",
       "      <td>95.24</td>\n",
       "    </tr>\n",
       "    <tr>\n",
       "      <th>1</th>\n",
       "      <td>Llama3 Instruct</td>\n",
       "      <td>96.51</td>\n",
       "    </tr>\n",
       "    <tr>\n",
       "      <th>2</th>\n",
       "      <td>Mistral Instruct</td>\n",
       "      <td>94.92</td>\n",
       "    </tr>\n",
       "  </tbody>\n",
       "</table>\n",
       "</div>"
      ]
     },
     "execution_count": 1078,
     "metadata": {},
     "output_type": "execute_result"
    }
   ],
   "execution_count": 1078
  },
  {
   "metadata": {
    "ExecuteTime": {
     "end_time": "2024-06-14T14:05:10.601129Z",
     "start_time": "2024-06-14T14:05:10.586118Z"
    }
   },
   "cell_type": "code",
   "source": [
    "metric_a_percentages.sort_values(by='llm_model', ascending=False, inplace=True)\n",
    "metric_a_percentages.reset_index(inplace=True, drop=True)\n",
    "metric_a_percentages"
   ],
   "id": "2ec31bf4e666c190",
   "outputs": [
    {
     "data": {
      "text/plain": [
       "          llm_model  percentage\n",
       "0  Mistral Instruct       94.92\n",
       "1   Llama3 Instruct       96.51\n",
       "2    Gemma Instruct       95.24"
      ],
      "text/html": [
       "<div>\n",
       "<style scoped>\n",
       "    .dataframe tbody tr th:only-of-type {\n",
       "        vertical-align: middle;\n",
       "    }\n",
       "\n",
       "    .dataframe tbody tr th {\n",
       "        vertical-align: top;\n",
       "    }\n",
       "\n",
       "    .dataframe thead th {\n",
       "        text-align: right;\n",
       "    }\n",
       "</style>\n",
       "<table border=\"1\" class=\"dataframe\">\n",
       "  <thead>\n",
       "    <tr style=\"text-align: right;\">\n",
       "      <th></th>\n",
       "      <th>llm_model</th>\n",
       "      <th>percentage</th>\n",
       "    </tr>\n",
       "  </thead>\n",
       "  <tbody>\n",
       "    <tr>\n",
       "      <th>0</th>\n",
       "      <td>Mistral Instruct</td>\n",
       "      <td>94.92</td>\n",
       "    </tr>\n",
       "    <tr>\n",
       "      <th>1</th>\n",
       "      <td>Llama3 Instruct</td>\n",
       "      <td>96.51</td>\n",
       "    </tr>\n",
       "    <tr>\n",
       "      <th>2</th>\n",
       "      <td>Gemma Instruct</td>\n",
       "      <td>95.24</td>\n",
       "    </tr>\n",
       "  </tbody>\n",
       "</table>\n",
       "</div>"
      ]
     },
     "execution_count": 1079,
     "metadata": {},
     "output_type": "execute_result"
    }
   ],
   "execution_count": 1079
  },
  {
   "metadata": {
    "ExecuteTime": {
     "end_time": "2024-06-14T14:05:11.138651Z",
     "start_time": "2024-06-14T14:05:10.763134Z"
    }
   },
   "cell_type": "code",
   "source": [
    "# display percentage values in a horizontal bar chart\n",
    "metric_a_percentages_chart = metric_a_percentages.plot(kind='barh', figsize=(10, 6), color=colors)\n",
    "\n",
    "\n",
    "# set the labels\n",
    "metric_a_percentages_chart.set_yticklabels(llm_models_r)\n",
    "metric_a_percentages_chart.set_ylabel(\"LLM Models\", fontsize=14, labelpad=14)\n",
    "metric_a_percentages_chart.set_xlabel(\"Percentage of evaluated Questions\", fontsize=14, labelpad=14)\n",
    "metric_a_percentages_chart.set_title(f\"Evaluate the relevance of the given context to the question\", fontsize=16, fontweight='bold', pad=14)\n",
    "\n",
    "# add percentage values to the bars\n",
    "for i in range(3):\n",
    "    percentage = metric_a_percentages['percentage'][i]\n",
    "    metric_a_percentages_chart.text(percentage + 1, i, f'{percentage}%', ha='left', fontsize=11, fontweight='bold')\n",
    "\n",
    "# add vertical line for the mean value\n",
    "metric_a_mean_percentage = metric_a_percentages['percentage'].mean()\n",
    "metric_a_percentages_chart.axvline(x=metric_a_mean_percentage, linestyle='--', color='red', linewidth=0.8)\n",
    "metric_a_percentages_chart.text(metric_a_mean_percentage - 14, 1.5, f'Mean: {round(metric_a_mean_percentage, 2)}%',\n",
    "                                color='red', ha='left', fontsize=11, fontweight='bold')\n",
    "\n",
    "# add legend\n",
    "metric_a_percentages_chart.legend(\n",
    "    title='Context Relevancy Score',\n",
    "    labels=['Mean Percentage', 'Percentage of Questions\\nanswered with 1.0'],\n",
    "    loc='upper right',\n",
    "    fontsize=9,\n",
    "    bbox_to_anchor=(1.25, 1.06),\n",
    ")\n"
   ],
   "id": "8d7e06674173a8ce",
   "outputs": [
    {
     "data": {
      "text/plain": [
       "<matplotlib.legend.Legend at 0x2866fd1cee0>"
      ]
     },
     "execution_count": 1080,
     "metadata": {},
     "output_type": "execute_result"
    },
    {
     "data": {
      "text/plain": [
       "<Figure size 1000x600 with 1 Axes>"
      ],
      "image/png": "[encoded data removed]"
     },
     "metadata": {},
     "output_type": "display_data"
    }
   ],
   "execution_count": 1080
  },
  {
   "metadata": {},
   "cell_type": "markdown",
   "source": [
    "The relevancy for the given Context was rated very high for all questions for every Model. On average the Context Relevancy was 0.97.\n",
    "Since this evaluation is done by the evaluation model GPT-3.5 Turbo none of the used models will receive a point."
   ],
   "id": "a7e36cbfe5518537"
  },
  {
   "metadata": {},
   "cell_type": "markdown",
   "source": "### Correctness Score\n",
   "id": "f9022fa9249fa6b9"
  },
  {
   "metadata": {
    "ExecuteTime": {
     "end_time": "2024-06-15T09:54:06.874208Z",
     "start_time": "2024-06-15T09:54:06.852096Z"
    }
   },
   "cell_type": "code",
   "source": [
    "metric_b = columns_to_compare[4]\n",
    "metric_b"
   ],
   "id": "697263404b05e4f",
   "outputs": [
    {
     "data": {
      "text/plain": [
       "'correctness_score'"
      ]
     },
     "execution_count": 40,
     "metadata": {},
     "output_type": "execute_result"
    }
   ],
   "execution_count": 40
  },
  {
   "metadata": {
    "ExecuteTime": {
     "end_time": "2024-06-15T09:54:07.186546Z",
     "start_time": "2024-06-15T09:54:07.169691Z"
    }
   },
   "cell_type": "code",
   "source": "metric_b_label = \"Correctness Score\"",
   "id": "6ac2e6f5a202dc92",
   "outputs": [],
   "execution_count": 41
  },
  {
   "metadata": {
    "ExecuteTime": {
     "end_time": "2024-06-14T14:05:11.614554Z",
     "start_time": "2024-06-14T14:05:11.599719Z"
    }
   },
   "cell_type": "code",
   "source": "gemma_df[metric_b].value_counts()",
   "id": "19f3a47821f19f59",
   "outputs": [
    {
     "data": {
      "text/plain": [
       "correctness_score\n",
       "3.0    103\n",
       "4.0     92\n",
       "2.0     50\n",
       "4.5     43\n",
       "3.5     17\n",
       "2.5      5\n",
       "5.0      4\n",
       "1.0      1\n",
       "Name: count, dtype: int64"
      ]
     },
     "execution_count": 1083,
     "metadata": {},
     "output_type": "execute_result"
    }
   ],
   "execution_count": 1083
  },
  {
   "metadata": {
    "ExecuteTime": {
     "end_time": "2024-06-14T14:05:11.899894Z",
     "start_time": "2024-06-14T14:05:11.886604Z"
    }
   },
   "cell_type": "code",
   "source": "llama3_df[metric_b].value_counts()",
   "id": "da5c2c175cb666a7",
   "outputs": [
    {
     "data": {
      "text/plain": [
       "correctness_score\n",
       "4.0    113\n",
       "4.5     82\n",
       "3.0     70\n",
       "2.0     35\n",
       "3.5      6\n",
       "5.0      4\n",
       "1.0      4\n",
       "2.5      1\n",
       "Name: count, dtype: int64"
      ]
     },
     "execution_count": 1084,
     "metadata": {},
     "output_type": "execute_result"
    }
   ],
   "execution_count": 1084
  },
  {
   "metadata": {
    "ExecuteTime": {
     "end_time": "2024-06-14T14:05:12.025555Z",
     "start_time": "2024-06-14T14:05:12.010556Z"
    }
   },
   "cell_type": "code",
   "source": "mistral_df[metric_b].value_counts()",
   "id": "fee01113e7b5270b",
   "outputs": [
    {
     "data": {
      "text/plain": [
       "correctness_score\n",
       "3.0    79\n",
       "4.5    73\n",
       "4.0    70\n",
       "3.5    42\n",
       "2.0    23\n",
       "2.5    12\n",
       "5.0     9\n",
       "1.0     7\n",
       "Name: count, dtype: int64"
      ]
     },
     "execution_count": 1085,
     "metadata": {},
     "output_type": "execute_result"
    }
   ],
   "execution_count": 1085
  },
  {
   "metadata": {
    "ExecuteTime": {
     "end_time": "2024-06-15T09:54:10.220822Z",
     "start_time": "2024-06-15T09:54:10.206716Z"
    }
   },
   "cell_type": "code",
   "source": [
    "# list all three models with the number of occurences of each value above 3.0\n",
    "metric_b_values = pd.DataFrame()\n",
    "metric_b_score_a_above_3 = gemma_df[metric_b].value_counts()[gemma_df[metric_b].value_counts().index >= 3.0]\n",
    "metric_b_score_b_above_3 = llama3_df[metric_b].value_counts()[llama3_df[metric_b].value_counts().index >= 3.0]\n",
    "metric_b_score_c_above_3 = mistral_df[metric_b].value_counts()[mistral_df[metric_b].value_counts().index >= 3.0]\n",
    "\n",
    "print(f\"{llm_models[0]}: {metric_b_score_a_above_3.sum()}, {llm_models[1]}: {metric_b_score_b_above_3.sum()}, {llm_models[2]}: {metric_b_score_c_above_3.sum()}\")"
   ],
   "id": "2f8df7475edebe83",
   "outputs": [
    {
     "name": "stdout",
     "output_type": "stream",
     "text": [
      "Gemma Instruct: 259, Llama3 Instruct: 275, Mistral Instruct: 273\n"
     ]
    }
   ],
   "execution_count": 42
  },
  {
   "metadata": {
    "ExecuteTime": {
     "end_time": "2024-06-15T09:54:10.890852Z",
     "start_time": "2024-06-15T09:54:10.876681Z"
    }
   },
   "cell_type": "code",
   "source": [
    "metric_b_score_a = gemma_df[metric_b].value_counts()\n",
    "metric_b_score_b = llama3_df[metric_b].value_counts()\n",
    "metric_b_score_c = mistral_df[metric_b].value_counts()"
   ],
   "id": "9318f8123dce74cc",
   "outputs": [],
   "execution_count": 43
  },
  {
   "metadata": {
    "ExecuteTime": {
     "end_time": "2024-06-15T09:54:11.531434Z",
     "start_time": "2024-06-15T09:54:11.510902Z"
    }
   },
   "cell_type": "code",
   "source": [
    "# display a bar chart\n",
    "metric_b_table = pd.concat([metric_b_score_a, metric_b_score_b, metric_b_score_c], axis=1)\n",
    "metric_b_table.columns = llm_models\n",
    "metric_b_table = metric_b_table.fillna(0)\n",
    "\n",
    "# sort score ascending\n",
    "metric_b_table = metric_b_table.sort_values(by=metric_b, ascending=False)\n",
    "metric_b_table"
   ],
   "id": "61aca3833bf4411b",
   "outputs": [
    {
     "data": {
      "text/plain": [
       "                   Gemma Instruct  Llama3 Instruct  Mistral Instruct\n",
       "correctness_score                                                   \n",
       "5.0                             4                4                 9\n",
       "4.5                            43               82                73\n",
       "4.0                            92              113                70\n",
       "3.5                            17                6                42\n",
       "3.0                           103               70                79\n",
       "2.5                             5                1                12\n",
       "2.0                            50               35                23\n",
       "1.0                             1                4                 7"
      ],
      "text/html": [
       "<div>\n",
       "<style scoped>\n",
       "    .dataframe tbody tr th:only-of-type {\n",
       "        vertical-align: middle;\n",
       "    }\n",
       "\n",
       "    .dataframe tbody tr th {\n",
       "        vertical-align: top;\n",
       "    }\n",
       "\n",
       "    .dataframe thead th {\n",
       "        text-align: right;\n",
       "    }\n",
       "</style>\n",
       "<table border=\"1\" class=\"dataframe\">\n",
       "  <thead>\n",
       "    <tr style=\"text-align: right;\">\n",
       "      <th></th>\n",
       "      <th>Gemma Instruct</th>\n",
       "      <th>Llama3 Instruct</th>\n",
       "      <th>Mistral Instruct</th>\n",
       "    </tr>\n",
       "    <tr>\n",
       "      <th>correctness_score</th>\n",
       "      <th></th>\n",
       "      <th></th>\n",
       "      <th></th>\n",
       "    </tr>\n",
       "  </thead>\n",
       "  <tbody>\n",
       "    <tr>\n",
       "      <th>5.0</th>\n",
       "      <td>4</td>\n",
       "      <td>4</td>\n",
       "      <td>9</td>\n",
       "    </tr>\n",
       "    <tr>\n",
       "      <th>4.5</th>\n",
       "      <td>43</td>\n",
       "      <td>82</td>\n",
       "      <td>73</td>\n",
       "    </tr>\n",
       "    <tr>\n",
       "      <th>4.0</th>\n",
       "      <td>92</td>\n",
       "      <td>113</td>\n",
       "      <td>70</td>\n",
       "    </tr>\n",
       "    <tr>\n",
       "      <th>3.5</th>\n",
       "      <td>17</td>\n",
       "      <td>6</td>\n",
       "      <td>42</td>\n",
       "    </tr>\n",
       "    <tr>\n",
       "      <th>3.0</th>\n",
       "      <td>103</td>\n",
       "      <td>70</td>\n",
       "      <td>79</td>\n",
       "    </tr>\n",
       "    <tr>\n",
       "      <th>2.5</th>\n",
       "      <td>5</td>\n",
       "      <td>1</td>\n",
       "      <td>12</td>\n",
       "    </tr>\n",
       "    <tr>\n",
       "      <th>2.0</th>\n",
       "      <td>50</td>\n",
       "      <td>35</td>\n",
       "      <td>23</td>\n",
       "    </tr>\n",
       "    <tr>\n",
       "      <th>1.0</th>\n",
       "      <td>1</td>\n",
       "      <td>4</td>\n",
       "      <td>7</td>\n",
       "    </tr>\n",
       "  </tbody>\n",
       "</table>\n",
       "</div>"
      ]
     },
     "execution_count": 44,
     "metadata": {},
     "output_type": "execute_result"
    }
   ],
   "execution_count": 44
  },
  {
   "metadata": {
    "ExecuteTime": {
     "end_time": "2024-06-15T09:54:13.747346Z",
     "start_time": "2024-06-15T09:54:13.391913Z"
    }
   },
   "cell_type": "code",
   "source": [
    "# display a bar chart\n",
    "metric_b_table.plot(kind='bar', figsize=(10, 6), color=colors)\n",
    "\n",
    "# set the labels\n",
    "plt.xticks(rotation=0)  # horizontal x-labels\n",
    "plt.xlabel(\"Correctness Scores\", fontsize=14, labelpad=14)\n",
    "plt.ylabel(\"Number of Answers by Correctness Score\", fontsize=14, labelpad=14)\n",
    "plt.title(f\"Evaluation - Distribution of Correctness Scores\", fontsize=16, fontweight='bold', pad=14)\n",
    "plt.legend(title='LLM Models', labels=llm_models, loc='upper right', fontsize=9, bbox_to_anchor=(1.25, 1.06))"
   ],
   "id": "3c25ac57cfea80f3",
   "outputs": [
    {
     "data": {
      "text/plain": [
       "<matplotlib.legend.Legend at 0x221acb76a00>"
      ]
     },
     "execution_count": 45,
     "metadata": {},
     "output_type": "execute_result"
    },
    {
     "data": {
      "text/plain": [
       "<Figure size 1000x600 with 1 Axes>"
      ],
      "image/png": "[encoded data removed]"
     },
     "metadata": {},
     "output_type": "display_data"
    }
   ],
   "execution_count": 45
  },
  {
   "metadata": {
    "ExecuteTime": {
     "end_time": "2024-06-14T14:05:12.955862Z",
     "start_time": "2024-06-14T14:05:12.690148Z"
    }
   },
   "cell_type": "code",
   "source": [
    "# create a boxplot for the correctness score\n",
    "metric_b_plot = sns.boxplot(\n",
    "    df,\n",
    "    x=\"llm_model\",\n",
    "    y=f\"{metric_b}\",\n",
    "    linewidth=1,\n",
    "    showmeans=True,\n",
    "    palette=colors,\n",
    "    boxprops={\"edgecolor\": \"k\"},\n",
    "    meanprops={\"marker\": \"o\", \"markerfacecolor\": \"none\", \"markeredgecolor\": \"red\"}\n",
    ")\n",
    "metric_b_score_mean = round(df[metric_b].mean(), 2)\n",
    "metric_b_plot.axhline(df[metric_b].mean(), linestyle='--', color=\"red\", linewidth=1.2)\n",
    "\n",
    "# show mean value\n",
    "metric_b_plot.text(0.7, metric_b_score_mean + 0.1, f'Mean: {metric_b_score_mean}', color='red', ha='left', fontsize=12,\n",
    "                   fontweight='bold')\n",
    "\n",
    "# create labels with the mean value for each model\n",
    "labels = results.keys()\n",
    "labels_with_mean = [f'{label}\\n(Mean {round(results[label][metric_b].mean(), 2)})' for label in labels]\n",
    "\n",
    "# set the labels\n",
    "metric_b_plot.set_xticklabels(labels_with_mean)\n",
    "metric_b_plot.set_title(\"Evaluation - Distribution of Correctness Scores\", fontsize=16, fontweight='bold', pad=14)\n",
    "metric_b_plot.set_xlabel(\"LLM Models\", fontsize=14, labelpad=14)\n",
    "metric_b_plot.set_ylabel(metric_b_label + \"s\", fontsize=14, labelpad=14)\n",
    "metric_b_plot.tick_params(axis='y', labelsize=12)\n",
    "\n",
    "# show the plot\n",
    "plt.tight_layout()\n",
    "plt.show()"
   ],
   "id": "613cf5fc04a087a9",
   "outputs": [
    {
     "data": {
      "text/plain": [
       "<Figure size 640x480 with 1 Axes>"
      ],
      "image/png": "[encoded data removed]"
     },
     "metadata": {},
     "output_type": "display_data"
    }
   ],
   "execution_count": 1090
  },
  {
   "metadata": {},
   "cell_type": "markdown",
   "source": "The Correctness Score evaluates how correct the answer is to the given question. The mean correctness score across all models is 3.53. Llama3 Instruct has the highest mean score, while Gemma Instruct has the lowest. Despite that all Models are showing a similar consistency in performance. All Models have some outliers which means sometimes they performing very poor.",
   "id": "f3d4c40ce122fc5e"
  },
  {
   "metadata": {},
   "cell_type": "markdown",
   "source": "",
   "id": "9bc4d6cfde015200"
  },
  {
   "metadata": {
    "ExecuteTime": {
     "end_time": "2024-06-15T10:15:10.202502Z",
     "start_time": "2024-06-15T10:15:10.182265Z"
    }
   },
   "cell_type": "code",
   "source": [
    "# print all sums\n",
    "print(f\"{llm_models[0]}: {metric_b_score_a.sum()}, {llm_models[1]}: {metric_b_score_b.sum()}, {llm_models[2]}: {metric_b_score_c.sum()}\")"
   ],
   "id": "e75239ec86fa1d27",
   "outputs": [
    {
     "name": "stdout",
     "output_type": "stream",
     "text": [
      "Gemma Instruct: 315, Llama3 Instruct: 315, Mistral Instruct: 315\n"
     ]
    }
   ],
   "execution_count": 50
  },
  {
   "metadata": {
    "ExecuteTime": {
     "end_time": "2024-06-15T10:15:11.434680Z",
     "start_time": "2024-06-15T10:15:11.420644Z"
    }
   },
   "cell_type": "code",
   "source": [
    "# if the model has the most values over 3.0, it will get 1 point\n",
    "# if the model has the second most values over 3.0, it will get 0.5 points\n",
    "# if the model has the least values over 3.0, it will get 0 points\n",
    "metric_b_scores_sorted_list = sorted([(llms[0], metric_b_score_a.sum()), (llms[1], metric_b_score_b.sum()), (llms[2], metric_b_score_c.sum())], key=lambda x: x[1], reverse=True)\n",
    "metric_b_scores_sorted_list"
   ],
   "id": "45a6af66f63e6fd2",
   "outputs": [
    {
     "data": {
      "text/plain": [
       "[('gemma_instruct', 315), ('llama3_instruct', 315), ('mistral_instruct', 315)]"
      ]
     },
     "execution_count": 51,
     "metadata": {},
     "output_type": "execute_result"
    }
   ],
   "execution_count": 51
  },
  {
   "metadata": {
    "ExecuteTime": {
     "end_time": "2024-06-15T10:15:17.829762Z",
     "start_time": "2024-06-15T10:15:17.815241Z"
    }
   },
   "cell_type": "code",
   "source": [
    "for i, (model, _) in enumerate(metric_b_scores_sorted_list):\n",
    "    overall_scores[model][metric_b] = scores[i]"
   ],
   "id": "a2bc610998fa89ec",
   "outputs": [],
   "execution_count": 52
  },
  {
   "metadata": {
    "ExecuteTime": {
     "end_time": "2024-06-15T10:15:25.900684Z",
     "start_time": "2024-06-15T10:15:25.881423Z"
    }
   },
   "cell_type": "code",
   "source": [
    "# print the scores\n",
    "overall_scores"
   ],
   "id": "f7e01edd96ad68e5",
   "outputs": [
    {
     "data": {
      "text/plain": [
       "{'gemma_instruct': {'context_relevancy_score': 0.0,\n",
       "  'correctness_score': 0.0,\n",
       "  'faithfulness_score': 0.0,\n",
       "  'relevancy_score': 0.0,\n",
       "  'model_score': 0.0},\n",
       " 'llama3_instruct': {'context_relevancy_score': 0.0,\n",
       "  'correctness_score': 0.5,\n",
       "  'faithfulness_score': 0.0,\n",
       "  'relevancy_score': 0.0,\n",
       "  'model_score': 0.0},\n",
       " 'mistral_instruct': {'context_relevancy_score': 0.0,\n",
       "  'correctness_score': 1.0,\n",
       "  'faithfulness_score': 0.0,\n",
       "  'relevancy_score': 0.0,\n",
       "  'model_score': 0.0}}"
      ]
     },
     "execution_count": 54,
     "metadata": {},
     "output_type": "execute_result"
    }
   ],
   "execution_count": 54
  },
  {
   "metadata": {},
   "cell_type": "markdown",
   "source": "### Faithfulness Score\n",
   "id": "9ee92dc9f2cc8fb"
  },
  {
   "metadata": {
    "ExecuteTime": {
     "end_time": "2024-06-15T10:15:28.190351Z",
     "start_time": "2024-06-15T10:15:28.172700Z"
    }
   },
   "cell_type": "code",
   "source": [
    "metric_c = columns_to_compare[5]\n",
    "metric_c"
   ],
   "id": "6958d14d6165ed89",
   "outputs": [
    {
     "data": {
      "text/plain": [
       "'faithfulness_score'"
      ]
     },
     "execution_count": 55,
     "metadata": {},
     "output_type": "execute_result"
    }
   ],
   "execution_count": 55
  },
  {
   "metadata": {
    "ExecuteTime": {
     "end_time": "2024-06-15T10:15:28.627002Z",
     "start_time": "2024-06-15T10:15:28.615983Z"
    }
   },
   "cell_type": "code",
   "source": "metric_c_label = \"Faithfulness Score\"",
   "id": "ef19b7e12ea163bb",
   "outputs": [],
   "execution_count": 56
  },
  {
   "metadata": {
    "ExecuteTime": {
     "end_time": "2024-06-15T10:15:28.970298Z",
     "start_time": "2024-06-15T10:15:28.956663Z"
    }
   },
   "cell_type": "code",
   "source": "gemma_df[metric_c].value_counts()",
   "id": "34c256c8a7952d56",
   "outputs": [
    {
     "data": {
      "text/plain": [
       "faithfulness_score\n",
       "1.0    261\n",
       "0.0     54\n",
       "Name: count, dtype: int64"
      ]
     },
     "execution_count": 57,
     "metadata": {},
     "output_type": "execute_result"
    }
   ],
   "execution_count": 57
  },
  {
   "metadata": {
    "ExecuteTime": {
     "end_time": "2024-06-15T10:15:29.265129Z",
     "start_time": "2024-06-15T10:15:29.252096Z"
    }
   },
   "cell_type": "code",
   "source": "llama3_df[metric_c].value_counts()",
   "id": "74e16f6e56ccba0",
   "outputs": [
    {
     "data": {
      "text/plain": [
       "faithfulness_score\n",
       "1.0    279\n",
       "0.0     36\n",
       "Name: count, dtype: int64"
      ]
     },
     "execution_count": 58,
     "metadata": {},
     "output_type": "execute_result"
    }
   ],
   "execution_count": 58
  },
  {
   "metadata": {
    "ExecuteTime": {
     "end_time": "2024-06-15T10:15:29.531114Z",
     "start_time": "2024-06-15T10:15:29.511638Z"
    }
   },
   "cell_type": "code",
   "source": "mistral_df[metric_c].value_counts()",
   "id": "282bbe549e911b3c",
   "outputs": [
    {
     "data": {
      "text/plain": [
       "faithfulness_score\n",
       "1.0    293\n",
       "0.0     22\n",
       "Name: count, dtype: int64"
      ]
     },
     "execution_count": 59,
     "metadata": {},
     "output_type": "execute_result"
    }
   ],
   "execution_count": 59
  },
  {
   "metadata": {
    "ExecuteTime": {
     "end_time": "2024-06-15T10:15:31.995704Z",
     "start_time": "2024-06-15T10:15:31.973843Z"
    }
   },
   "cell_type": "code",
   "source": [
    "# create a DataFrame for the faithfulness score values\n",
    "metric_c_values_a = pd.DataFrame()\n",
    "metric_c_values_a[metric_c] = gemma_df[metric_c]\n",
    "metric_c_values_a['llm_model'] = llm_models[0]\n",
    "print(llm_models[0])\n",
    "metric_c_values_b = pd.DataFrame()\n",
    "metric_c_values_b[metric_c] = llama3_df[metric_c]\n",
    "metric_c_values_b['llm_model'] = llm_models[1]\n",
    "print(llm_models[1])\n",
    "metric_c_values_c = pd.DataFrame()\n",
    "metric_c_values_c[metric_c] = mistral_df[metric_c]\n",
    "metric_c_values_c['llm_model'] = llm_models[2]\n",
    "print(llm_models[2])"
   ],
   "id": "a755a75621478fe2",
   "outputs": [
    {
     "name": "stdout",
     "output_type": "stream",
     "text": [
      "Gemma Instruct\n",
      "Llama3 Instruct\n",
      "Mistral Instruct\n"
     ]
    }
   ],
   "execution_count": 60
  },
  {
   "metadata": {
    "ExecuteTime": {
     "end_time": "2024-06-15T10:15:32.434808Z",
     "start_time": "2024-06-15T10:15:32.409264Z"
    }
   },
   "cell_type": "code",
   "source": [
    "metric_c_values_combined = pd.concat([metric_c_values_a, metric_c_values_b, metric_c_values_c])\n",
    "metric_c_values_combined"
   ],
   "id": "8ec95f2f638a7a60",
   "outputs": [
    {
     "data": {
      "text/plain": [
       "      faithfulness_score         llm_model\n",
       "1387                 1.0    Gemma Instruct\n",
       "1388                 1.0    Gemma Instruct\n",
       "1389                 0.0    Gemma Instruct\n",
       "1390                 1.0    Gemma Instruct\n",
       "1391                 1.0    Gemma Instruct\n",
       "...                  ...               ...\n",
       "2012                 1.0  Mistral Instruct\n",
       "2013                 1.0  Mistral Instruct\n",
       "2014                 1.0  Mistral Instruct\n",
       "2015                 1.0  Mistral Instruct\n",
       "2016                 1.0  Mistral Instruct\n",
       "\n",
       "[945 rows x 2 columns]"
      ],
      "text/html": [
       "<div>\n",
       "<style scoped>\n",
       "    .dataframe tbody tr th:only-of-type {\n",
       "        vertical-align: middle;\n",
       "    }\n",
       "\n",
       "    .dataframe tbody tr th {\n",
       "        vertical-align: top;\n",
       "    }\n",
       "\n",
       "    .dataframe thead th {\n",
       "        text-align: right;\n",
       "    }\n",
       "</style>\n",
       "<table border=\"1\" class=\"dataframe\">\n",
       "  <thead>\n",
       "    <tr style=\"text-align: right;\">\n",
       "      <th></th>\n",
       "      <th>faithfulness_score</th>\n",
       "      <th>llm_model</th>\n",
       "    </tr>\n",
       "  </thead>\n",
       "  <tbody>\n",
       "    <tr>\n",
       "      <th>1387</th>\n",
       "      <td>1.0</td>\n",
       "      <td>Gemma Instruct</td>\n",
       "    </tr>\n",
       "    <tr>\n",
       "      <th>1388</th>\n",
       "      <td>1.0</td>\n",
       "      <td>Gemma Instruct</td>\n",
       "    </tr>\n",
       "    <tr>\n",
       "      <th>1389</th>\n",
       "      <td>0.0</td>\n",
       "      <td>Gemma Instruct</td>\n",
       "    </tr>\n",
       "    <tr>\n",
       "      <th>1390</th>\n",
       "      <td>1.0</td>\n",
       "      <td>Gemma Instruct</td>\n",
       "    </tr>\n",
       "    <tr>\n",
       "      <th>1391</th>\n",
       "      <td>1.0</td>\n",
       "      <td>Gemma Instruct</td>\n",
       "    </tr>\n",
       "    <tr>\n",
       "      <th>...</th>\n",
       "      <td>...</td>\n",
       "      <td>...</td>\n",
       "    </tr>\n",
       "    <tr>\n",
       "      <th>2012</th>\n",
       "      <td>1.0</td>\n",
       "      <td>Mistral Instruct</td>\n",
       "    </tr>\n",
       "    <tr>\n",
       "      <th>2013</th>\n",
       "      <td>1.0</td>\n",
       "      <td>Mistral Instruct</td>\n",
       "    </tr>\n",
       "    <tr>\n",
       "      <th>2014</th>\n",
       "      <td>1.0</td>\n",
       "      <td>Mistral Instruct</td>\n",
       "    </tr>\n",
       "    <tr>\n",
       "      <th>2015</th>\n",
       "      <td>1.0</td>\n",
       "      <td>Mistral Instruct</td>\n",
       "    </tr>\n",
       "    <tr>\n",
       "      <th>2016</th>\n",
       "      <td>1.0</td>\n",
       "      <td>Mistral Instruct</td>\n",
       "    </tr>\n",
       "  </tbody>\n",
       "</table>\n",
       "<p>945 rows × 2 columns</p>\n",
       "</div>"
      ]
     },
     "execution_count": 61,
     "metadata": {},
     "output_type": "execute_result"
    }
   ],
   "execution_count": 61
  },
  {
   "metadata": {
    "ExecuteTime": {
     "end_time": "2024-06-15T10:15:33.600905Z",
     "start_time": "2024-06-15T10:15:33.581977Z"
    }
   },
   "cell_type": "code",
   "source": [
    "metric_c_values = metric_c_values_combined.groupby('llm_model')[metric_c].value_counts(sort=True,\n",
    "                                                                                       ascending=False).unstack().fillna(\n",
    "    0)\n",
    "metric_c_values.columns = ['zero', 'one']\n",
    "metric_c_values.columns = ['zero', 'one']\n",
    "metric_c_values = metric_c_values[['one', 'zero']]  # switch columns\n",
    "# reverse order of 'llm_model' index\n",
    "metric_c_values = metric_c_values.reindex(index=llm_models_r)\n",
    "metric_c_values"
   ],
   "id": "e477ca3e61c9d025",
   "outputs": [
    {
     "data": {
      "text/plain": [
       "                  one  zero\n",
       "llm_model                  \n",
       "Mistral Instruct  293    22\n",
       "Llama3 Instruct   279    36\n",
       "Gemma Instruct    261    54"
      ],
      "text/html": [
       "<div>\n",
       "<style scoped>\n",
       "    .dataframe tbody tr th:only-of-type {\n",
       "        vertical-align: middle;\n",
       "    }\n",
       "\n",
       "    .dataframe tbody tr th {\n",
       "        vertical-align: top;\n",
       "    }\n",
       "\n",
       "    .dataframe thead th {\n",
       "        text-align: right;\n",
       "    }\n",
       "</style>\n",
       "<table border=\"1\" class=\"dataframe\">\n",
       "  <thead>\n",
       "    <tr style=\"text-align: right;\">\n",
       "      <th></th>\n",
       "      <th>one</th>\n",
       "      <th>zero</th>\n",
       "    </tr>\n",
       "    <tr>\n",
       "      <th>llm_model</th>\n",
       "      <th></th>\n",
       "      <th></th>\n",
       "    </tr>\n",
       "  </thead>\n",
       "  <tbody>\n",
       "    <tr>\n",
       "      <th>Mistral Instruct</th>\n",
       "      <td>293</td>\n",
       "      <td>22</td>\n",
       "    </tr>\n",
       "    <tr>\n",
       "      <th>Llama3 Instruct</th>\n",
       "      <td>279</td>\n",
       "      <td>36</td>\n",
       "    </tr>\n",
       "    <tr>\n",
       "      <th>Gemma Instruct</th>\n",
       "      <td>261</td>\n",
       "      <td>54</td>\n",
       "    </tr>\n",
       "  </tbody>\n",
       "</table>\n",
       "</div>"
      ]
     },
     "execution_count": 62,
     "metadata": {},
     "output_type": "execute_result"
    }
   ],
   "execution_count": 62
  },
  {
   "metadata": {
    "ExecuteTime": {
     "end_time": "2024-06-15T10:15:35.502139Z",
     "start_time": "2024-06-15T10:15:35.138413Z"
    }
   },
   "cell_type": "code",
   "source": [
    "# create a horizontal bar chart\n",
    "metric_c_hbar_chart = metric_c_values.plot(\n",
    "    kind='barh',\n",
    "    stacked=True,\n",
    "    figsize=(10, 6),\n",
    "    color=colors[:2]\n",
    ")\n",
    "\n",
    "# display the number of evaluated questions\n",
    "metric_c_hbar_chart.axvline(x=number_of_evaluated_questions, linestyle='-', color=\"black\", linewidth=0.8)\n",
    "metric_c_hbar_chart.text(318, 1.01, '315', ha='left', fontsize=11, fontweight='bold')\n",
    "\n",
    "# set the labels\n",
    "metric_c_hbar_chart.set_ylabel(\"Faithfulness Score across Models\", fontsize=14, labelpad=14)\n",
    "metric_c_hbar_chart.set_xlabel(\"Distribution of the Score across Questions\", fontsize=14, labelpad=14)\n",
    "metric_c_hbar_chart.set_title(f\"Evaluation - Distribution of the {metric_c_label}\", fontsize=16, fontweight='bold', pad=14)\n",
    "\n",
    "# add legend\n",
    "metric_c_hbar_chart.legend(\n",
    "    title='Faithfulness Score',\n",
    "    labels=['Number of Questions', 'Faithful', 'Not Faithful'],\n",
    "    loc='upper right',\n",
    "    fontsize=9,\n",
    "    bbox_to_anchor=(1.25, 1.06),\n",
    ")\n",
    "\n",
    "# display the mean as vertical line\n",
    "metric_c_hbar_chart.axvline(metric_c_values['one'].mean(), color='red', linestyle='--', linewidth=1.2)\n",
    "metric_c_hbar_chart.text(metric_c_values['one'].mean() - 50, 1.5,\n",
    "                        f'Mean: {round(metric_c_values[\"one\"].mean(), 2)}', color='red', ha='left', fontsize=12,\n",
    "                        fontweight='bold')\n",
    "\n",
    "# add percentage values to the bars\n",
    "for i in range(3):\n",
    "    num_zero = metric_c_values['zero'][i]\n",
    "    num_one = metric_c_values['one'][i]\n",
    "    # value 0.0\n",
    "    label_a = f'{round((num_zero / number_of_evaluated_questions) * 100, 2)}% ({num_zero})'\n",
    "    metric_c_hbar_chart.text(310, i-0.03, label_a, ha='right', fontsize=11, fontweight='bold', color='white')\n",
    "    # value 1.0\n",
    "    label_b = f'{round((num_one / number_of_evaluated_questions) * 100, 2)}% ({num_one})'\n",
    "    metric_c_hbar_chart.text(4, i-0.03, label_b, ha='left', fontsize=11, fontweight='bold', color='white')\n"
   ],
   "id": "3d54c00d2f3c348d",
   "outputs": [
    {
     "data": {
      "text/plain": [
       "<Figure size 1000x600 with 1 Axes>"
      ],
      "image/png": "[encoded data removed]"
     },
     "metadata": {},
     "output_type": "display_data"
    }
   ],
   "execution_count": 63
  },
  {
   "metadata": {},
   "cell_type": "markdown",
   "source": "The Faithfulness Score assesses how accurately the given response was based on the given context. The average Faithfulness Score is about 277, indicating that about 88% of the responses were faithful, meaning that no hallucination was observed in these cases. Mistral Instruct was the best performing model, while Gemma Instructs was well below average.",
   "id": "85e75438c850d64b"
  },
  {
   "metadata": {
    "ExecuteTime": {
     "end_time": "2024-06-15T10:16:03.755945Z",
     "start_time": "2024-06-15T10:16:03.734922Z"
    }
   },
   "cell_type": "code",
   "source": [
    "# list all three models with the number of occurrences of each value equal to 1.0\n",
    "metric_c_score_a = gemma_df[metric_c].value_counts()[1.0]\n",
    "metric_c_score_b = llama3_df[metric_c].value_counts()[1.0]\n",
    "metric_c_score_c = mistral_df[metric_c].value_counts()[1.0]\n",
    "print(f\"{llm_models[0]}: {metric_c_score_a}, {llm_models[1]}: {metric_c_score_b}, {llm_models[2]}: {metric_c_score_c}\")"
   ],
   "id": "e633efd72a8c3b69",
   "outputs": [
    {
     "name": "stdout",
     "output_type": "stream",
     "text": [
      "Gemma Instruct: 261, Llama3 Instruct: 279, Mistral Instruct: 293\n"
     ]
    }
   ],
   "execution_count": 64
  },
  {
   "metadata": {
    "ExecuteTime": {
     "end_time": "2024-06-15T10:16:04.638754Z",
     "start_time": "2024-06-15T10:16:04.623669Z"
    }
   },
   "cell_type": "code",
   "source": [
    "metric_c_percentages = pd.DataFrame()\n",
    "metric_c_percentages['llm_model'] = llm_models_r\n",
    "metric_c_percentages['percentage'] = [round((metric_c_score_c / number_of_evaluated_questions) * 100, 2),\n",
    "                                      round((metric_c_score_b / number_of_evaluated_questions) * 100, 2),\n",
    "                                      round((metric_c_score_a / number_of_evaluated_questions) * 100, 2)]\n",
    "metric_c_percentages"
   ],
   "id": "725d4b60617cd024",
   "outputs": [
    {
     "data": {
      "text/plain": [
       "          llm_model  percentage\n",
       "0  Mistral Instruct       93.02\n",
       "1   Llama3 Instruct       88.57\n",
       "2    Gemma Instruct       82.86"
      ],
      "text/html": [
       "<div>\n",
       "<style scoped>\n",
       "    .dataframe tbody tr th:only-of-type {\n",
       "        vertical-align: middle;\n",
       "    }\n",
       "\n",
       "    .dataframe tbody tr th {\n",
       "        vertical-align: top;\n",
       "    }\n",
       "\n",
       "    .dataframe thead th {\n",
       "        text-align: right;\n",
       "    }\n",
       "</style>\n",
       "<table border=\"1\" class=\"dataframe\">\n",
       "  <thead>\n",
       "    <tr style=\"text-align: right;\">\n",
       "      <th></th>\n",
       "      <th>llm_model</th>\n",
       "      <th>percentage</th>\n",
       "    </tr>\n",
       "  </thead>\n",
       "  <tbody>\n",
       "    <tr>\n",
       "      <th>0</th>\n",
       "      <td>Mistral Instruct</td>\n",
       "      <td>93.02</td>\n",
       "    </tr>\n",
       "    <tr>\n",
       "      <th>1</th>\n",
       "      <td>Llama3 Instruct</td>\n",
       "      <td>88.57</td>\n",
       "    </tr>\n",
       "    <tr>\n",
       "      <th>2</th>\n",
       "      <td>Gemma Instruct</td>\n",
       "      <td>82.86</td>\n",
       "    </tr>\n",
       "  </tbody>\n",
       "</table>\n",
       "</div>"
      ]
     },
     "execution_count": 65,
     "metadata": {},
     "output_type": "execute_result"
    }
   ],
   "execution_count": 65
  },
  {
   "metadata": {},
   "cell_type": "markdown",
   "source": "Mistral Instruct has the highest mean faithfulness score. Llama3 Instruct is on the second position and Gemma Instruct on the last. Mistral Instruct generally performs better than the other two models in terms of faithfulness score and has more faithful answers with a score of 1.0. This means that hallucination is less likely to occur in Mistral Instruct than in the other two models.",
   "id": "29dc5c3fc6697e72"
  },
  {
   "metadata": {
    "ExecuteTime": {
     "end_time": "2024-06-15T10:16:06.578466Z",
     "start_time": "2024-06-15T10:16:06.564559Z"
    }
   },
   "cell_type": "code",
   "source": [
    "metric_c_scores_sorted_list = sorted([(llms[0], metric_c_score_a), (llms[1], metric_c_score_b), (llms[2], metric_c_score_c)], key=lambda x: x[1], reverse=True)\n",
    "metric_c_scores_sorted_list"
   ],
   "id": "162e93e0cdc10f12",
   "outputs": [
    {
     "data": {
      "text/plain": [
       "[('mistral_instruct', 293), ('llama3_instruct', 279), ('gemma_instruct', 261)]"
      ]
     },
     "execution_count": 66,
     "metadata": {},
     "output_type": "execute_result"
    }
   ],
   "execution_count": 66
  },
  {
   "metadata": {
    "ExecuteTime": {
     "end_time": "2024-06-15T10:16:12.032100Z",
     "start_time": "2024-06-15T10:16:12.017567Z"
    }
   },
   "cell_type": "code",
   "source": [
    "for i, (model, _) in enumerate(metric_c_scores_sorted_list):\n",
    "    overall_scores[model][metric_c] = scores[i]"
   ],
   "id": "ca0576cd898364b9",
   "outputs": [],
   "execution_count": 68
  },
  {
   "metadata": {
    "ExecuteTime": {
     "end_time": "2024-06-15T10:16:12.547160Z",
     "start_time": "2024-06-15T10:16:12.536805Z"
    }
   },
   "cell_type": "code",
   "source": [
    "# print the scores\n",
    "overall_scores"
   ],
   "id": "a20fa603dbf12e1d",
   "outputs": [
    {
     "data": {
      "text/plain": [
       "{'gemma_instruct': {'context_relevancy_score': 0.0,\n",
       "  'correctness_score': 0.0,\n",
       "  'faithfulness_score': 1.0,\n",
       "  'relevancy_score': 0.0,\n",
       "  'model_score': 0.0},\n",
       " 'llama3_instruct': {'context_relevancy_score': 0.0,\n",
       "  'correctness_score': 0.5,\n",
       "  'faithfulness_score': 0.5,\n",
       "  'relevancy_score': 0.0,\n",
       "  'model_score': 0.0},\n",
       " 'mistral_instruct': {'context_relevancy_score': 0.0,\n",
       "  'correctness_score': 1.0,\n",
       "  'faithfulness_score': 0.0,\n",
       "  'relevancy_score': 0.0,\n",
       "  'model_score': 0.0}}"
      ]
     },
     "execution_count": 69,
     "metadata": {},
     "output_type": "execute_result"
    }
   ],
   "execution_count": 69
  },
  {
   "metadata": {},
   "cell_type": "markdown",
   "source": "### Relevancy Score\n",
   "id": "24df3864923f0118"
  },
  {
   "metadata": {
    "ExecuteTime": {
     "end_time": "2024-06-15T10:16:15.334618Z",
     "start_time": "2024-06-15T10:16:15.321585Z"
    }
   },
   "cell_type": "code",
   "source": [
    "metric_d = columns_to_compare[6]\n",
    "metric_d"
   ],
   "id": "97a94ae77d4e843b",
   "outputs": [
    {
     "data": {
      "text/plain": [
       "'relevancy_score'"
      ]
     },
     "execution_count": 70,
     "metadata": {},
     "output_type": "execute_result"
    }
   ],
   "execution_count": 70
  },
  {
   "metadata": {
    "ExecuteTime": {
     "end_time": "2024-06-15T10:16:15.738985Z",
     "start_time": "2024-06-15T10:16:15.719743Z"
    }
   },
   "cell_type": "code",
   "source": "metric_d_label = \"Relevancy Score\"",
   "id": "f0dbf1975968a9cb",
   "outputs": [],
   "execution_count": 71
  },
  {
   "metadata": {
    "ExecuteTime": {
     "end_time": "2024-06-15T10:16:16.142718Z",
     "start_time": "2024-06-15T10:16:16.129200Z"
    }
   },
   "cell_type": "code",
   "source": "gemma_df[metric_d].value_counts()",
   "id": "280a2f1824c42f04",
   "outputs": [
    {
     "data": {
      "text/plain": [
       "relevancy_score\n",
       "1.0    202\n",
       "0.0    113\n",
       "Name: count, dtype: int64"
      ]
     },
     "execution_count": 72,
     "metadata": {},
     "output_type": "execute_result"
    }
   ],
   "execution_count": 72
  },
  {
   "metadata": {
    "ExecuteTime": {
     "end_time": "2024-06-15T10:16:16.642033Z",
     "start_time": "2024-06-15T10:16:16.628515Z"
    }
   },
   "cell_type": "code",
   "source": "llama3_df[metric_d].value_counts()",
   "id": "c236795b09ebd8fd",
   "outputs": [
    {
     "data": {
      "text/plain": [
       "relevancy_score\n",
       "1.0    191\n",
       "0.0    124\n",
       "Name: count, dtype: int64"
      ]
     },
     "execution_count": 73,
     "metadata": {},
     "output_type": "execute_result"
    }
   ],
   "execution_count": 73
  },
  {
   "metadata": {
    "ExecuteTime": {
     "end_time": "2024-06-15T10:16:17.203196Z",
     "start_time": "2024-06-15T10:16:17.192166Z"
    }
   },
   "cell_type": "code",
   "source": "mistral_df[metric_d].value_counts()",
   "id": "614bfec4befb9a37",
   "outputs": [
    {
     "data": {
      "text/plain": [
       "relevancy_score\n",
       "1.0    174\n",
       "0.0    141\n",
       "Name: count, dtype: int64"
      ]
     },
     "execution_count": 74,
     "metadata": {},
     "output_type": "execute_result"
    }
   ],
   "execution_count": 74
  },
  {
   "metadata": {
    "ExecuteTime": {
     "end_time": "2024-06-15T10:16:17.823580Z",
     "start_time": "2024-06-15T10:16:17.810027Z"
    }
   },
   "cell_type": "code",
   "source": [
    "# create a DataFrame for the relevancy score values\n",
    "metric_d_values_a = pd.DataFrame()\n",
    "metric_d_values_a[metric_d] = gemma_df[metric_d]\n",
    "metric_d_values_a['llm_model'] = llm_models[0]\n",
    "print(llm_models[0])\n",
    "\n",
    "metric_d_values_b = pd.DataFrame()\n",
    "metric_d_values_b[metric_d] = llama3_df[metric_d]\n",
    "metric_d_values_b['llm_model'] = llm_models[1]\n",
    "print(llm_models[1])\n",
    "\n",
    "metric_d_values_c = pd.DataFrame()\n",
    "metric_d_values_c[metric_d] = mistral_df[metric_d]\n",
    "metric_d_values_c['llm_model'] = llm_models[2]\n",
    "print(llm_models[2])\n",
    "\n",
    "metric_d_values_combined = pd.concat([metric_d_values_a, metric_d_values_b, metric_d_values_c])\n",
    "metric_d_values = metric_d_values_combined.groupby('llm_model')[metric_d].value_counts(sort=True,\n",
    "                                                                                       ascending=False).unstack().fillna(\n",
    "    0)\n",
    "metric_d_values.columns = ['zero', 'one']\n",
    "metric_d_values = metric_d_values[['one', 'zero']]  # switch columns"
   ],
   "id": "a2f263fa32ac86e4",
   "outputs": [
    {
     "name": "stdout",
     "output_type": "stream",
     "text": [
      "Gemma Instruct\n",
      "Llama3 Instruct\n",
      "Mistral Instruct\n"
     ]
    }
   ],
   "execution_count": 75
  },
  {
   "metadata": {
    "ExecuteTime": {
     "end_time": "2024-06-15T10:16:19.270383Z",
     "start_time": "2024-06-15T10:16:19.261714Z"
    }
   },
   "cell_type": "code",
   "source": [
    "# sort index manually\n",
    "metric_d_values = metric_d_values.reindex(index=llm_models_r)\n",
    "metric_d_values"
   ],
   "id": "5407dbfcdb7878e5",
   "outputs": [
    {
     "data": {
      "text/plain": [
       "                  one  zero\n",
       "llm_model                  \n",
       "Mistral Instruct  174   141\n",
       "Llama3 Instruct   191   124\n",
       "Gemma Instruct    202   113"
      ],
      "text/html": [
       "<div>\n",
       "<style scoped>\n",
       "    .dataframe tbody tr th:only-of-type {\n",
       "        vertical-align: middle;\n",
       "    }\n",
       "\n",
       "    .dataframe tbody tr th {\n",
       "        vertical-align: top;\n",
       "    }\n",
       "\n",
       "    .dataframe thead th {\n",
       "        text-align: right;\n",
       "    }\n",
       "</style>\n",
       "<table border=\"1\" class=\"dataframe\">\n",
       "  <thead>\n",
       "    <tr style=\"text-align: right;\">\n",
       "      <th></th>\n",
       "      <th>one</th>\n",
       "      <th>zero</th>\n",
       "    </tr>\n",
       "    <tr>\n",
       "      <th>llm_model</th>\n",
       "      <th></th>\n",
       "      <th></th>\n",
       "    </tr>\n",
       "  </thead>\n",
       "  <tbody>\n",
       "    <tr>\n",
       "      <th>Mistral Instruct</th>\n",
       "      <td>174</td>\n",
       "      <td>141</td>\n",
       "    </tr>\n",
       "    <tr>\n",
       "      <th>Llama3 Instruct</th>\n",
       "      <td>191</td>\n",
       "      <td>124</td>\n",
       "    </tr>\n",
       "    <tr>\n",
       "      <th>Gemma Instruct</th>\n",
       "      <td>202</td>\n",
       "      <td>113</td>\n",
       "    </tr>\n",
       "  </tbody>\n",
       "</table>\n",
       "</div>"
      ]
     },
     "execution_count": 76,
     "metadata": {},
     "output_type": "execute_result"
    }
   ],
   "execution_count": 76
  },
  {
   "metadata": {
    "ExecuteTime": {
     "end_time": "2024-06-15T10:16:19.580864Z",
     "start_time": "2024-06-15T10:16:19.563208Z"
    }
   },
   "cell_type": "code",
   "source": [
    "# display the number of questions with a relevancy score of 1.0\n",
    "metric_d_score_a = gemma_df[metric_d].value_counts()[1.0]\n",
    "metric_d_score_b = llama3_df[metric_d].value_counts()[1.0]\n",
    "metric_d_score_c = mistral_df[metric_d].value_counts()[1.0]\n",
    "# tuple with model and score\n",
    "metric_d_score_list = [(llms[0], metric_d_score_a), (llms[1], metric_d_score_b), (llms[2], metric_d_score_c)]\n",
    "print(f\"{llm_models[0]}: {metric_d_score_a}, {llm_models[1]}: {metric_d_score_b}, {llm_models[2]}: {metric_d_score_c}\")"
   ],
   "id": "fdc076904162fa49",
   "outputs": [
    {
     "name": "stdout",
     "output_type": "stream",
     "text": [
      "Gemma Instruct: 202, Llama3 Instruct: 191, Mistral Instruct: 174\n"
     ]
    }
   ],
   "execution_count": 77
  },
  {
   "metadata": {
    "ExecuteTime": {
     "end_time": "2024-06-15T10:16:20.999051Z",
     "start_time": "2024-06-15T10:16:20.576516Z"
    }
   },
   "cell_type": "code",
   "source": [
    "# create a horizontal bar chart\n",
    "metric_d_hbar_chart = metric_d_values.plot(kind='barh', stacked=True, figsize=(10, 6), color=colors[:2])\n",
    "metric_d_hbar_chart.axvline(x=number_of_evaluated_questions, linestyle='-', color=\"black\", linewidth=0.8)\n",
    "metric_d_hbar_chart.text(318, 1.01, '315', ha='left', fontsize=11, fontweight='bold')\n",
    "metric_d_hbar_chart.set_ylabel(metric_d_label + \" per Model\", fontsize=14, labelpad=14)\n",
    "metric_d_hbar_chart.set_xlabel(\"Distribution of the Score across Questions\", fontsize=14, labelpad=14)\n",
    "metric_d_hbar_chart.set_title(f\"Evaluation - Distribution of the {metric_d_label}\", fontsize=16, fontweight='bold', pad=14)\n",
    "metric_d_hbar_chart.legend(\n",
    "    title=metric_d_label,\n",
    "    labels=['Number of Questions', 'Relevant', 'Not Relevant'],\n",
    "    loc='upper right',\n",
    "    fontsize=9,\n",
    "    bbox_to_anchor=(1.25, 1.06),\n",
    ")\n",
    "\n",
    "# display the mean as vertical line\n",
    "metric_d_hbar_chart.axvline(metric_d_values['one'].mean(), color='red', linestyle='--', linewidth=1.2)\n",
    "# add text to the vertical line\n",
    "metric_d_hbar_chart.text(metric_d_values['one'].mean() - 50, 1.5, f'Mean: {round(metric_d_values[\"one\"].mean(), 2)}',\n",
    "                         color='red', ha='left', fontsize=12, fontweight='bold')\n",
    "\n",
    "# add percentage values to the bars\n",
    "for i in range(3):\n",
    "    num_zero = metric_d_values['zero'][i]\n",
    "    num_one = metric_d_values['one'][i]\n",
    "    # value 0.0\n",
    "    label_a = f'{round((num_zero / number_of_evaluated_questions) * 100, 2)}% ({num_zero})'\n",
    "    metric_d_hbar_chart.text(310, i - 0.03, label_a, ha='right', fontsize=11, fontweight='bold', color='white')\n",
    "    # value 1.0\n",
    "    label_b = f'{round((num_one / number_of_evaluated_questions) * 100, 2)}% ({num_one})'\n",
    "    metric_d_hbar_chart.text(4, i - 0.03, label_b, ha='left', fontsize=11, fontweight='bold', color='white')\n"
   ],
   "id": "1f0fa2e4edfe2e4e",
   "outputs": [
    {
     "data": {
      "text/plain": [
       "<Figure size 1000x600 with 1 Axes>"
      ],
      "image/png": "[encoded data removed]"
     },
     "metadata": {},
     "output_type": "display_data"
    }
   ],
   "execution_count": 78
  },
  {
   "metadata": {},
   "cell_type": "markdown",
   "source": "The relevance score assesses how relevant the context and given answer is to the given question. The mean relevancy score is about 60% with 189 of 315 questions. This means the the answer is not very good. Gemma was performing very good with around 64% of the time the answers were relevant to the given context and question. Sometimes the answer has some extra text wrapped around the real answer which leads to a general poor performance of all models.",
   "id": "2115a15510ac42a6"
  },
  {
   "metadata": {
    "ExecuteTime": {
     "end_time": "2024-06-15T10:16:38.674293Z",
     "start_time": "2024-06-15T10:16:38.665350Z"
    }
   },
   "cell_type": "code",
   "source": "metric_d_scores_sorted_list = sorted(metric_d_score_list, key=lambda x: x[1], reverse=True)",
   "id": "8a05fe5a7705a569",
   "outputs": [],
   "execution_count": 81
  },
  {
   "metadata": {
    "ExecuteTime": {
     "end_time": "2024-06-15T10:16:39.032118Z",
     "start_time": "2024-06-15T10:16:39.023833Z"
    }
   },
   "cell_type": "code",
   "source": [
    "for i, (model, _) in enumerate(metric_d_scores_sorted_list):\n",
    "    overall_scores[model][metric_d] = scores[i]"
   ],
   "id": "b1642eab8fe01310",
   "outputs": [],
   "execution_count": 82
  },
  {
   "metadata": {
    "ExecuteTime": {
     "end_time": "2024-06-15T10:16:39.826710Z",
     "start_time": "2024-06-15T10:16:39.804996Z"
    }
   },
   "cell_type": "code",
   "source": [
    "# print the scores\n",
    "overall_scores"
   ],
   "id": "c8a914a681067d2e",
   "outputs": [
    {
     "data": {
      "text/plain": [
       "{'gemma_instruct': {'context_relevancy_score': 0.0,\n",
       "  'correctness_score': 0.0,\n",
       "  'faithfulness_score': 1.0,\n",
       "  'relevancy_score': 0.0,\n",
       "  'model_score': 0.0},\n",
       " 'llama3_instruct': {'context_relevancy_score': 0.0,\n",
       "  'correctness_score': 0.5,\n",
       "  'faithfulness_score': 0.5,\n",
       "  'relevancy_score': 0.5,\n",
       "  'model_score': 0.0},\n",
       " 'mistral_instruct': {'context_relevancy_score': 0.0,\n",
       "  'correctness_score': 1.0,\n",
       "  'faithfulness_score': 0.0,\n",
       "  'relevancy_score': 1.0,\n",
       "  'model_score': 0.0}}"
      ]
     },
     "execution_count": 83,
     "metadata": {},
     "output_type": "execute_result"
    }
   ],
   "execution_count": 83
  },
  {
   "metadata": {},
   "cell_type": "markdown",
   "source": "### Model Score",
   "id": "91c4e6c3f5e21cd7"
  },
  {
   "metadata": {
    "ExecuteTime": {
     "end_time": "2024-06-15T10:16:42.238081Z",
     "start_time": "2024-06-15T10:16:42.222618Z"
    }
   },
   "cell_type": "code",
   "source": [
    "metric_e = columns_to_compare[7]\n",
    "metric_e"
   ],
   "id": "56b5ef7aa69492b6",
   "outputs": [
    {
     "data": {
      "text/plain": [
       "'model_score'"
      ]
     },
     "execution_count": 84,
     "metadata": {},
     "output_type": "execute_result"
    }
   ],
   "execution_count": 84
  },
  {
   "metadata": {
    "ExecuteTime": {
     "end_time": "2024-06-15T10:16:43.285916Z",
     "start_time": "2024-06-15T10:16:43.275383Z"
    }
   },
   "cell_type": "code",
   "source": "metric_e_label = \"Model Score\"",
   "id": "fe1238dd3c3eab77",
   "outputs": [],
   "execution_count": 85
  },
  {
   "metadata": {
    "ExecuteTime": {
     "end_time": "2024-06-15T10:16:43.674354Z",
     "start_time": "2024-06-15T10:16:43.660817Z"
    }
   },
   "cell_type": "code",
   "source": "gemma_df[metric_e].value_counts().sort_index(ascending=False)",
   "id": "896808318faf0508",
   "outputs": [
    {
     "data": {
      "text/plain": [
       "model_score\n",
       "1.0     31\n",
       "0.5     50\n",
       "0.0    234\n",
       "Name: count, dtype: int64"
      ]
     },
     "execution_count": 86,
     "metadata": {},
     "output_type": "execute_result"
    }
   ],
   "execution_count": 86
  },
  {
   "metadata": {
    "ExecuteTime": {
     "end_time": "2024-06-15T10:16:44.065105Z",
     "start_time": "2024-06-15T10:16:44.050997Z"
    }
   },
   "cell_type": "code",
   "source": "llama3_df[metric_e].value_counts().sort_index(ascending=False)",
   "id": "ad81d81579c6bc9b",
   "outputs": [
    {
     "data": {
      "text/plain": [
       "model_score\n",
       "1.0    108\n",
       "0.5     88\n",
       "0.0    119\n",
       "Name: count, dtype: int64"
      ]
     },
     "execution_count": 87,
     "metadata": {},
     "output_type": "execute_result"
    }
   ],
   "execution_count": 87
  },
  {
   "metadata": {
    "ExecuteTime": {
     "end_time": "2024-06-15T10:16:44.422910Z",
     "start_time": "2024-06-15T10:16:44.407226Z"
    }
   },
   "cell_type": "code",
   "source": "mistral_df[metric_e].value_counts().sort_index(ascending=False)",
   "id": "d63835a660a0e9f5",
   "outputs": [
    {
     "data": {
      "text/plain": [
       "model_score\n",
       "1.0    151\n",
       "0.5     87\n",
       "0.0     77\n",
       "Name: count, dtype: int64"
      ]
     },
     "execution_count": 88,
     "metadata": {},
     "output_type": "execute_result"
    }
   ],
   "execution_count": 88
  },
  {
   "metadata": {
    "ExecuteTime": {
     "end_time": "2024-06-15T10:16:44.762603Z",
     "start_time": "2024-06-15T10:16:44.749080Z"
    }
   },
   "cell_type": "code",
   "source": [
    "# create a DataFrame for the model score values\n",
    "metric_e_values_a = pd.DataFrame()\n",
    "metric_e_values_a[metric_e] = gemma_df[metric_e]\n",
    "metric_e_values_a['llm_model'] = llm_models[0]\n",
    "print(llm_models[0])\n",
    "\n",
    "metric_e_values_b = pd.DataFrame()\n",
    "metric_e_values_b[metric_e] = llama3_df[metric_e]\n",
    "metric_e_values_b['llm_model'] = llm_models[1]\n",
    "print(llm_models[1])\n",
    "\n",
    "metric_e_values_c = pd.DataFrame()\n",
    "metric_e_values_c[metric_e] = mistral_df[metric_e]\n",
    "metric_e_values_c['llm_model'] = llm_models[2]\n",
    "print(llm_models[2])"
   ],
   "id": "5f13318197096c82",
   "outputs": [
    {
     "name": "stdout",
     "output_type": "stream",
     "text": [
      "Gemma Instruct\n",
      "Llama3 Instruct\n",
      "Mistral Instruct\n"
     ]
    }
   ],
   "execution_count": 89
  },
  {
   "metadata": {
    "ExecuteTime": {
     "end_time": "2024-06-15T10:16:46.087370Z",
     "start_time": "2024-06-15T10:16:46.067353Z"
    }
   },
   "cell_type": "code",
   "source": [
    "metric_e_values_combined = pd.concat([metric_e_values_a, metric_e_values_b, metric_e_values_c])\n",
    "metric_e_values = metric_e_values_combined.groupby('llm_model')[metric_e].value_counts(sort=True, ascending=True).unstack().fillna(0)\n",
    "metric_e_values.columns = ['zero', 'half', 'one']"
   ],
   "id": "79d1e269296e6fbf",
   "outputs": [],
   "execution_count": 90
  },
  {
   "metadata": {
    "ExecuteTime": {
     "end_time": "2024-06-15T10:16:46.901574Z",
     "start_time": "2024-06-15T10:16:46.888051Z"
    }
   },
   "cell_type": "code",
   "source": "metric_e_values = metric_e_values[['one', 'half', 'zero']]  # switch columns",
   "id": "4b28fb61216c69fd",
   "outputs": [],
   "execution_count": 91
  },
  {
   "metadata": {
    "ExecuteTime": {
     "end_time": "2024-06-15T10:16:47.262247Z",
     "start_time": "2024-06-15T10:16:47.248201Z"
    }
   },
   "cell_type": "code",
   "source": [
    "metric_e_values = metric_e_values.reindex(index=list(reversed(llm_models)))\n",
    "metric_e_values"
   ],
   "id": "81cb12346af985e2",
   "outputs": [
    {
     "data": {
      "text/plain": [
       "                  one  half  zero\n",
       "llm_model                        \n",
       "Mistral Instruct  151    87    77\n",
       "Llama3 Instruct   108    88   119\n",
       "Gemma Instruct     31    50   234"
      ],
      "text/html": [
       "<div>\n",
       "<style scoped>\n",
       "    .dataframe tbody tr th:only-of-type {\n",
       "        vertical-align: middle;\n",
       "    }\n",
       "\n",
       "    .dataframe tbody tr th {\n",
       "        vertical-align: top;\n",
       "    }\n",
       "\n",
       "    .dataframe thead th {\n",
       "        text-align: right;\n",
       "    }\n",
       "</style>\n",
       "<table border=\"1\" class=\"dataframe\">\n",
       "  <thead>\n",
       "    <tr style=\"text-align: right;\">\n",
       "      <th></th>\n",
       "      <th>one</th>\n",
       "      <th>half</th>\n",
       "      <th>zero</th>\n",
       "    </tr>\n",
       "    <tr>\n",
       "      <th>llm_model</th>\n",
       "      <th></th>\n",
       "      <th></th>\n",
       "      <th></th>\n",
       "    </tr>\n",
       "  </thead>\n",
       "  <tbody>\n",
       "    <tr>\n",
       "      <th>Mistral Instruct</th>\n",
       "      <td>151</td>\n",
       "      <td>87</td>\n",
       "      <td>77</td>\n",
       "    </tr>\n",
       "    <tr>\n",
       "      <th>Llama3 Instruct</th>\n",
       "      <td>108</td>\n",
       "      <td>88</td>\n",
       "      <td>119</td>\n",
       "    </tr>\n",
       "    <tr>\n",
       "      <th>Gemma Instruct</th>\n",
       "      <td>31</td>\n",
       "      <td>50</td>\n",
       "      <td>234</td>\n",
       "    </tr>\n",
       "  </tbody>\n",
       "</table>\n",
       "</div>"
      ]
     },
     "execution_count": 92,
     "metadata": {},
     "output_type": "execute_result"
    }
   ],
   "execution_count": 92
  },
  {
   "metadata": {
    "ExecuteTime": {
     "end_time": "2024-06-15T10:16:47.795326Z",
     "start_time": "2024-06-15T10:16:47.781808Z"
    }
   },
   "cell_type": "code",
   "source": [
    "metric_e_score_a = gemma_df[metric_e].value_counts()[1.0] + gemma_df[metric_e].value_counts()[0.5]\n",
    "metric_e_score_b = llama3_df[metric_e].value_counts()[1.0] + llama3_df[metric_e].value_counts()[0.5]\n",
    "metric_e_score_c = mistral_df[metric_e].value_counts()[1.0] + mistral_df[metric_e].value_counts()[0.5]\n",
    "print(f\"{llm_models[0]}: {metric_e_score_a}, {llm_models[1]}: {metric_e_score_b}, {llm_models[2]}: {metric_e_score_c}\")"
   ],
   "id": "fb6093cb0a3d3a70",
   "outputs": [
    {
     "name": "stdout",
     "output_type": "stream",
     "text": [
      "Gemma Instruct: 81, Llama3 Instruct: 196, Mistral Instruct: 238\n"
     ]
    }
   ],
   "execution_count": 93
  },
  {
   "metadata": {
    "ExecuteTime": {
     "end_time": "2024-06-15T10:16:49.325198Z",
     "start_time": "2024-06-15T10:16:48.929049Z"
    }
   },
   "cell_type": "code",
   "source": [
    "# create a horizontal bar chart\n",
    "metric_e_hbar_chart = metric_e_values.plot(kind='barh', stacked=True, figsize=(10, 6), color=colors)\n",
    "metric_e_hbar_chart.axvline(x=number_of_evaluated_questions, linestyle='-', color=\"black\", linewidth=0.8)\n",
    "metric_e_hbar_chart.text(318, 1.01, '315', ha='left', fontsize=11, fontweight='bold')\n",
    "metric_e_hbar_chart.set_ylabel(metric_e_label + \"across the Models\", fontsize=14, labelpad=14)\n",
    "metric_e_hbar_chart.set_xlabel(\"Distribution of the Score across Questions\", fontsize=14, labelpad=14)\n",
    "metric_e_hbar_chart.set_title(f\"Evaluation - Distributio of the {metric_e_label}\", fontsize=16, fontweight='bold', pad=14)\n",
    "metric_e_hbar_chart.legend(\n",
    "    title=metric_e_label,\n",
    "    labels=['Number of Questions', 'Good', 'Neutral', 'Bad'],\n",
    "    loc='upper right',\n",
    "    fontsize=9,\n",
    "    bbox_to_anchor=(1.25, 1.06),\n",
    ")\n",
    "# add percentage values to the bars\n",
    "for i in range(3):\n",
    "    num_zero = metric_e_values['zero'][i]\n",
    "    num_half = metric_e_values['half'][i]\n",
    "    num_one = metric_e_values['one'][i]\n",
    "    # value 1.0\n",
    "    label_c = f'{round((num_one / number_of_evaluated_questions) * 100, 2)}% ({num_one})'\n",
    "    metric_e_hbar_chart.text(4, i - 0.03, label_c, ha='left', fontsize=11, fontweight='bold', color='white')\n",
    "    # value 0.5\n",
    "    label_b = f'{round((num_half / number_of_evaluated_questions) * 100, 2)}% ({num_half})'\n",
    "    metric_e_hbar_chart.text(num_one + 45, i - 0.03, label_b, ha='right', fontsize=11, fontweight='bold', color='white')\n",
    "    # value 0.0\n",
    "    label_a = f'{round((num_zero / number_of_evaluated_questions) * 100, 2)}% ({num_zero})'\n",
    "    metric_e_hbar_chart.text(310, i - 0.03, label_a, ha='right', fontsize=11, fontweight='bold', color='white')"
   ],
   "id": "b30cbca0dc03ab7",
   "outputs": [
    {
     "data": {
      "text/plain": [
       "<Figure size 1000x600 with 1 Axes>"
      ],
      "image/png": "[encoded data removed]"
     },
     "metadata": {},
     "output_type": "display_data"
    }
   ],
   "execution_count": 94
  },
  {
   "metadata": {},
   "cell_type": "markdown",
   "source": "The Model score assesses the performance of a model to a given reference answer of the evaluation model (GPT-3.5 Turbo). It compares the Answer and rates it with good, neutral or bad. Overall Mistral instruct is leader in this disciplin with around 48% of good performance. If one adds all the neutral values Gemma instruct was only able to the deliver answers in only 25% of the cases. This means in 75% of the time it wasn't able to compete with GPT-3.5 Turbo. Llama3 and Mistral deliever can compete in more than 50% of the time. \n",
   "id": "91b107580c76c0bd"
  },
  {
   "metadata": {
    "ExecuteTime": {
     "end_time": "2024-06-15T10:17:01.231739Z",
     "start_time": "2024-06-15T10:17:01.225596Z"
    }
   },
   "cell_type": "code",
   "source": [
    "metric_e_scores_sorted_list = sorted([(llms[0], metric_e_score_a), (llms[1], metric_e_score_b), (llms[2], metric_e_score_c)], key=lambda x: x[1], reverse=True)\n",
    "metric_e_scores_sorted_list"
   ],
   "id": "41b2e81b8763c32c",
   "outputs": [
    {
     "data": {
      "text/plain": [
       "[('mistral_instruct', 238), ('llama3_instruct', 196), ('gemma_instruct', 81)]"
      ]
     },
     "execution_count": 95,
     "metadata": {},
     "output_type": "execute_result"
    }
   ],
   "execution_count": 95
  },
  {
   "metadata": {
    "ExecuteTime": {
     "end_time": "2024-06-15T10:17:06.763829Z",
     "start_time": "2024-06-15T10:17:06.754309Z"
    }
   },
   "cell_type": "code",
   "source": [
    "for i, (model, _) in enumerate(metric_e_scores_sorted_list):\n",
    "    overall_scores[model][metric_e] = scores[i]"
   ],
   "id": "b47e265b3406f3d5",
   "outputs": [],
   "execution_count": 97
  },
  {
   "metadata": {
    "ExecuteTime": {
     "end_time": "2024-06-15T10:17:07.187238Z",
     "start_time": "2024-06-15T10:17:07.178709Z"
    }
   },
   "cell_type": "code",
   "source": [
    "# print the scores\n",
    "overall_scores"
   ],
   "id": "486abe4fadbd247e",
   "outputs": [
    {
     "data": {
      "text/plain": [
       "{'gemma_instruct': {'context_relevancy_score': 0.0,\n",
       "  'correctness_score': 0.0,\n",
       "  'faithfulness_score': 1.0,\n",
       "  'relevancy_score': 0.0,\n",
       "  'model_score': 1.0},\n",
       " 'llama3_instruct': {'context_relevancy_score': 0.0,\n",
       "  'correctness_score': 0.5,\n",
       "  'faithfulness_score': 0.5,\n",
       "  'relevancy_score': 0.5,\n",
       "  'model_score': 0.5},\n",
       " 'mistral_instruct': {'context_relevancy_score': 0.0,\n",
       "  'correctness_score': 1.0,\n",
       "  'faithfulness_score': 0.0,\n",
       "  'relevancy_score': 1.0,\n",
       "  'model_score': 0.0}}"
      ]
     },
     "execution_count": 98,
     "metadata": {},
     "output_type": "execute_result"
    }
   ],
   "execution_count": 98
  },
  {
   "metadata": {},
   "cell_type": "markdown",
   "source": "# Summary",
   "id": "1f2c2d8524a0e29c"
  },
  {
   "metadata": {
    "ExecuteTime": {
     "end_time": "2024-06-15T10:17:09.203554Z",
     "start_time": "2024-06-15T10:17:09.198932Z"
    }
   },
   "cell_type": "code",
   "source": [
    "# score for each model\n",
    "for model, scores in overall_scores.items():\n",
    "    print(f\"{model}: {scores}\")"
   ],
   "id": "12dab45f912f5a0b",
   "outputs": [
    {
     "name": "stdout",
     "output_type": "stream",
     "text": [
      "gemma_instruct: {'context_relevancy_score': 0.0, 'correctness_score': 0.0, 'faithfulness_score': 1.0, 'relevancy_score': 0.0, 'model_score': 1.0}\n",
      "llama3_instruct: {'context_relevancy_score': 0.0, 'correctness_score': 0.5, 'faithfulness_score': 0.5, 'relevancy_score': 0.5, 'model_score': 0.5}\n",
      "mistral_instruct: {'context_relevancy_score': 0.0, 'correctness_score': 1.0, 'faithfulness_score': 0.0, 'relevancy_score': 1.0, 'model_score': 0.0}\n"
     ]
    }
   ],
   "execution_count": 99
  },
  {
   "metadata": {
    "ExecuteTime": {
     "end_time": "2024-06-15T10:17:10.411873Z",
     "start_time": "2024-06-15T10:17:10.403798Z"
    }
   },
   "cell_type": "code",
   "source": [
    "# get sum of all scores\n",
    "sum_scores = {model: sum(scores.values()) for model, scores in overall_scores.items()}\n",
    "sum_scores"
   ],
   "id": "9f56f3dbf940e46c",
   "outputs": [
    {
     "data": {
      "text/plain": [
       "{'gemma_instruct': 2.0, 'llama3_instruct': 2.0, 'mistral_instruct': 2.0}"
      ]
     },
     "execution_count": 100,
     "metadata": {},
     "output_type": "execute_result"
    }
   ],
   "execution_count": 100
  },
  {
   "metadata": {},
   "cell_type": "markdown",
   "source": [
    "## Conclusion\n",
    "\n",
    "All of the model have the score 2.0. This could mean that all models have the same performance but this is not the case.\n",
    "\n",
    "The Evaluation Methods seems to be not very good. The Gold Standard is the Evaluation by humans.\n",
    "\n",
    "### Context Relevancy Score\n",
    "The Contexts for each Question was already given. So the Context Relevancy Score should be very high. The mean score is 0.97. This means the context is very relevant to the given question. Since the Score was only done by GPT-3.5 Turbo and also evaluated by itself the **Context Relevancy Score** is not taken into the scoring.\n",
    "\n",
    "### Correctness Score\n",
    "The Correctness Score evaluates how correct the answer is to a given Question and Context. \n",
    "The Rating of the models is very similar. The mean score is 3.53. Llama3 Instruct has the highest mean score, while Gemma Instruct has the lowest. Despite that all Models are showing a similar consistency in performance. \n",
    "\n",
    "The **Correctness Score** needs to be evaluated more that's why there will be a manual Text analysis in the File '05_EvaluateTextDataManually.ipynb'.\n",
    "\n",
    "### Faithfulness Score\n",
    "The Faithfulness Score assesses how accurately the given response was based on the given context. The average Faithfulness Score is about 277, indicating that about 88% of the responses were faithful, meaning that no hallucination was observed in these cases. Mistral Instruct was the best performing model, while Gemma Instructs was well below average.\n",
    "\n",
    "Over all The Faithfulness Score is very good with a minimum of 80% of the answers are faithful (looking at Gemma).\n",
    "\n",
    "### Relevancy Score\n",
    "The relevance score assesses how relevant the context and given answer is to the given question. The mean relevancy score is about 60% with 189 of 315 questions. This means the answer is not very good. Gemma was performing very good with around 64% of the time the answers were relevant to the given context and question. Sometimes the answer has some extra text wrapped around the real answer which leads to a general poor performance of all models.\n",
    "This also will be further evaluated in the File '05_EvaluateTextDataManually.ipynb'.\n",
    "\n",
    "### Model Score\n",
    "The Model Score is comparing the performance of the models to the evaluation model (GPT-3.5 Turbo). It rates the answer with good, neutral or bad. Overall Mistral instruct is leader in this disciplin with around 48% of good performance. If one adds all the neutral values Gemma instruct was only able to the deliver answers in only 25% of the cases. This means in 75% of the time it wasn't able to compete with GPT-3.5 Turbo. Llama3 and Mistral deliver can compete in more than 50% of the time.\n",
    "This also will be further evaluated in the File '05_EvaluateTextDataManually.ipynb'.\n"
   ],
   "id": "4bb34fd949ee961e"
  },
  {
   "metadata": {
    "ExecuteTime": {
     "end_time": "2024-06-14T14:05:20.384792Z",
     "start_time": "2024-06-14T14:05:20.371788Z"
    }
   },
   "cell_type": "code",
   "source": "",
   "id": "f9e6b478c00c9782",
   "outputs": [],
   "execution_count": 1136
  }
 ],
 "metadata": {
  "kernelspec": {
   "display_name": "Python 3",
   "language": "python",
   "name": "python3"
  },
  "language_info": {
   "codemirror_mode": {
    "name": "ipython",
    "version": 2
   },
   "file_extension": ".py",
   "mimetype": "text/x-python",
   "name": "python",
   "nbconvert_exporter": "python",
   "pygments_lexer": "ipython2",
   "version": "2.7.6"
  }
 },
 "nbformat": 4,
 "nbformat_minor": 5
}
