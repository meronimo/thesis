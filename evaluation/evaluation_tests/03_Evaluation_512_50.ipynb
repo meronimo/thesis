{
 "cells": [
  {
   "metadata": {},
   "cell_type": "markdown",
   "source": "# Evaluation - 512/50",
   "id": "2bfcccf46b1b9b89"
  },
  {
   "metadata": {
    "ExecuteTime": {
     "end_time": "2024-06-21T10:55:30.244735Z",
     "start_time": "2024-06-21T10:55:30.239151Z"
    }
   },
   "cell_type": "code",
   "source": [
    "import warnings\n",
    "\n",
    "import matplotlib.pyplot as plt\n",
    "import pandas as pd\n",
    "import seaborn as sns\n",
    "\n",
    "from utils.evaluation import (\n",
    "    get_all_test_data,\n",
    "    get_table_column_names,\n",
    "    load_evaluation_dataset\n",
    ")"
   ],
   "id": "ed48fb2fff10c5a2",
   "outputs": [],
   "execution_count": 96
  },
  {
   "metadata": {
    "ExecuteTime": {
     "end_time": "2024-06-21T10:55:31.170847Z",
     "start_time": "2024-06-21T10:55:31.167917Z"
    }
   },
   "cell_type": "code",
   "source": [
    "warnings.filterwarnings('ignore', category=FutureWarning)\n",
    "warnings.filterwarnings('ignore', category=UserWarning)"
   ],
   "id": "84f3985ed1fed35d",
   "outputs": [],
   "execution_count": 97
  },
  {
   "metadata": {
    "ExecuteTime": {
     "end_time": "2024-06-21T10:55:31.192960Z",
     "start_time": "2024-06-21T10:55:31.190335Z"
    }
   },
   "cell_type": "code",
   "source": "sns.set_palette(\"pastel\")",
   "id": "560f1e5d482c2779",
   "outputs": [],
   "execution_count": 98
  },
  {
   "metadata": {},
   "cell_type": "markdown",
   "source": "### Set all the parameters",
   "id": "a9fa381b05dab69e"
  },
  {
   "metadata": {
    "ExecuteTime": {
     "end_time": "2024-06-21T10:55:31.279511Z",
     "start_time": "2024-06-21T10:55:31.277553Z"
    }
   },
   "cell_type": "code",
   "source": "colors = ['#ff8b94', '#a8e6cf', '#70bbff']",
   "id": "63b528d6b4bbbd76",
   "outputs": [],
   "execution_count": 99
  },
  {
   "metadata": {
    "ExecuteTime": {
     "end_time": "2024-06-21T10:55:31.318659Z",
     "start_time": "2024-06-21T10:55:31.316330Z"
    }
   },
   "cell_type": "code",
   "source": [
    "llms = [\"gemma_instruct\", \"llama3_instruct\", \"mistral_instruct\"]\n",
    "collection_selector = \"512_50\"\n",
    "collection_name = collection_selector.replace(\"_\", \"/\")"
   ],
   "id": "13b494348c00ce41",
   "outputs": [],
   "execution_count": 100
  },
  {
   "metadata": {},
   "cell_type": "markdown",
   "source": "**Get all the data from the evaluation table**",
   "id": "59612c86fd2cbc53"
  },
  {
   "cell_type": "code",
   "id": "initial_id",
   "metadata": {
    "collapsed": true,
    "ExecuteTime": {
     "end_time": "2024-06-21T10:55:31.428523Z",
     "start_time": "2024-06-21T10:55:31.392103Z"
    }
   },
   "source": "all_records = get_all_test_data(llm=False, collection_name=f\"wiki_movie_plots_{collection_selector}_mxbai\", chat_mode='CONTEXT')",
   "outputs": [],
   "execution_count": 101
  },
  {
   "metadata": {
    "ExecuteTime": {
     "end_time": "2024-06-21T10:55:31.441432Z",
     "start_time": "2024-06-21T10:55:31.439099Z"
    }
   },
   "cell_type": "code",
   "source": [
    "number_of_records = len(all_records)\n",
    "print(f\"Number of records: {number_of_records}\")"
   ],
   "id": "8a48a058da0d3a9e",
   "outputs": [
    {
     "name": "stdout",
     "output_type": "stream",
     "text": [
      "Number of records: 945\n"
     ]
    }
   ],
   "execution_count": 102
  },
  {
   "metadata": {},
   "cell_type": "markdown",
   "source": "**Get the column names of the evaluation table as list**",
   "id": "761ae01dc0f0b7a8"
  },
  {
   "metadata": {
    "ExecuteTime": {
     "end_time": "2024-06-21T10:55:31.512588Z",
     "start_time": "2024-06-21T10:55:31.510044Z"
    }
   },
   "cell_type": "code",
   "source": "column_names = get_table_column_names(table_name=\"evaluation\")",
   "id": "a5d4269d9703e8da",
   "outputs": [],
   "execution_count": 103
  },
  {
   "metadata": {
    "ExecuteTime": {
     "end_time": "2024-06-21T10:55:31.571811Z",
     "start_time": "2024-06-21T10:55:31.569234Z"
    }
   },
   "cell_type": "code",
   "source": "column_names",
   "id": "64315169b72207a6",
   "outputs": [
    {
     "data": {
      "text/plain": [
       "['id',\n",
       " 'llm_model',\n",
       " 'embed_model',\n",
       " 'collection_name',\n",
       " 'question_id',\n",
       " 'question',\n",
       " 'context',\n",
       " 'reference_answer',\n",
       " 'response',\n",
       " 'answer_feedback',\n",
       " 'context_relevancy_score',\n",
       " 'context_relevancy_feedback',\n",
       " 'correctness_score',\n",
       " 'correctness_feedback',\n",
       " 'faithfulness_score',\n",
       " 'relevancy_score',\n",
       " 'relevancy_feedback',\n",
       " 'model_score',\n",
       " 'model_feedback',\n",
       " 'chat_mode']"
      ]
     },
     "execution_count": 104,
     "metadata": {},
     "output_type": "execute_result"
    }
   ],
   "execution_count": 104
  },
  {
   "metadata": {},
   "cell_type": "markdown",
   "source": "extract **data** without the index column 'id'",
   "id": "d3a1ba4912ce1304"
  },
  {
   "metadata": {
    "ExecuteTime": {
     "end_time": "2024-06-21T10:55:31.639838Z",
     "start_time": "2024-06-21T10:55:31.636811Z"
    }
   },
   "cell_type": "code",
   "source": [
    "# data without id\n",
    "data_without_id = [t[1:] for t in all_records]"
   ],
   "id": "ad6dda9774c89534",
   "outputs": [],
   "execution_count": 105
  },
  {
   "metadata": {
    "ExecuteTime": {
     "end_time": "2024-06-21T10:55:31.719582Z",
     "start_time": "2024-06-21T10:55:31.717443Z"
    }
   },
   "cell_type": "code",
   "source": [
    "# index\n",
    "ids_only = [t[0] for t in all_records]"
   ],
   "id": "3b8089bd5e64a5f6",
   "outputs": [],
   "execution_count": 106
  },
  {
   "metadata": {},
   "cell_type": "markdown",
   "source": "### Create a DataFrame",
   "id": "42146cfd40a17234"
  },
  {
   "metadata": {
    "ExecuteTime": {
     "end_time": "2024-06-21T10:55:31.753700Z",
     "start_time": "2024-06-21T10:55:31.748053Z"
    }
   },
   "cell_type": "code",
   "source": "df = pd.DataFrame(data=data_without_id, index=ids_only, columns=column_names[1:])",
   "id": "5f23d3448ea8d8a0",
   "outputs": [],
   "execution_count": 107
  },
  {
   "metadata": {},
   "cell_type": "markdown",
   "source": "display the first 5 rows",
   "id": "7f4007398c3ec35c"
  },
  {
   "metadata": {
    "ExecuteTime": {
     "end_time": "2024-06-21T10:55:31.823487Z",
     "start_time": "2024-06-21T10:55:31.814630Z"
    }
   },
   "cell_type": "code",
   "source": "df.head()",
   "id": "769cf1b7dbcc1950",
   "outputs": [
    {
     "data": {
      "text/plain": [
       "                llm_model embed_model                collection_name  \\\n",
       "2017  oll_llama3_instruct       mxbai  wiki_movie_plots_512_50_mxbai   \n",
       "2018  oll_llama3_instruct       mxbai  wiki_movie_plots_512_50_mxbai   \n",
       "2019  oll_llama3_instruct       mxbai  wiki_movie_plots_512_50_mxbai   \n",
       "2020  oll_llama3_instruct       mxbai  wiki_movie_plots_512_50_mxbai   \n",
       "2021  oll_llama3_instruct       mxbai  wiki_movie_plots_512_50_mxbai   \n",
       "\n",
       "      question_id                                           question  \\\n",
       "2017            0  Who is the director of the movie \"The Karate K...   \n",
       "2018            1  What is the plot of \"The Karate Kid\" released ...   \n",
       "2019            2  What is the genre of the movie \"The Karate Kid...   \n",
       "2020            3  Who was the legendary boxing trainer that took...   \n",
       "2021            4  What was the result of the rematch between Rob...   \n",
       "\n",
       "                                                context  \\\n",
       "2017  release_year: 1984\\ntitle: The Karate Kid\\nori...   \n",
       "2018  release_year: 1984\\ntitle: The Karate Kid\\nori...   \n",
       "2019  release_year: 1984\\ntitle: The Karate Kid\\nori...   \n",
       "2020  release_year: 2016\\ntitle: Hands of Stone\\nori...   \n",
       "2021  release_year: 2016\\ntitle: Hands of Stone\\nori...   \n",
       "\n",
       "                                       reference_answer  \\\n",
       "2017  The director of the movie \"The Karate Kid\" rel...   \n",
       "2018  The plot of \"The Karate Kid\" released in 1984 ...   \n",
       "2019  The genre of the movie \"The Karate Kid\" releas...   \n",
       "2020  Ray Arcel, an American legendary boxing traine...   \n",
       "2021  Durán famously gave up by saying \"No más\" to t...   \n",
       "\n",
       "                                               response  \\\n",
       "2017  According to the context information provided,...   \n",
       "2018  According to the context information provided,...   \n",
       "2019  According to the context information provided,...   \n",
       "2020  According to the context information provided,...   \n",
       "2021  According to the context information provided,...   \n",
       "\n",
       "                                        answer_feedback  \\\n",
       "2017  1. Yes, the response matches the subject matte...   \n",
       "2018  1. Does the provided response match the subjec...   \n",
       "2019  1. Does the provided response match the subjec...   \n",
       "2020  1. The response correctly identifies Ray Arcel...   \n",
       "2021  1. The response matches the subject matter of ...   \n",
       "\n",
       "      context_relevancy_score  \\\n",
       "2017                      1.0   \n",
       "2018                      1.0   \n",
       "2019                      1.0   \n",
       "2020                      1.0   \n",
       "2021                      1.0   \n",
       "\n",
       "                             context_relevancy_feedback  correctness_score  \\\n",
       "2017  1. The retrieved context matches the subject m...                4.5   \n",
       "2018  1. The retrieved context matches the subject m...                3.5   \n",
       "2019  1. The retrieved context matches the subject m...                4.5   \n",
       "2020  1. The retrieved context matches the subject m...                4.5   \n",
       "2021  1. The retrieved context matches the subject m...                4.5   \n",
       "\n",
       "                                   correctness_feedback  faithfulness_score  \\\n",
       "2017  The generated answer is relevant and fully cor...                 1.0   \n",
       "2018  The generated answer provides a detailed summa...                 1.0   \n",
       "2019  The generated answer is relevant and fully cor...                 0.0   \n",
       "2020  The generated answer is highly relevant to the...                 1.0   \n",
       "2021  The generated answer provides a detailed and a...                 1.0   \n",
       "\n",
       "      relevancy_score relevancy_feedback  model_score  \\\n",
       "2017              1.0                YES          1.0   \n",
       "2018              1.0                YES          1.0   \n",
       "2019              1.0                YES          0.0   \n",
       "2020              1.0                YES          1.0   \n",
       "2021              1.0                YES          1.0   \n",
       "\n",
       "                                         model_feedback chat_mode  \n",
       "2017  Assistant A and Assistant B both correctly ide...   CONTEXT  \n",
       "2018  Assistant A provided a detailed and comprehens...   CONTEXT  \n",
       "2019  Assistant B provided a slightly better respons...   CONTEXT  \n",
       "2020  Assistant A provided a direct and accurate res...   CONTEXT  \n",
       "2021  Assistant A provided a more detailed and compr...   CONTEXT  "
      ],
      "text/html": [
       "<div>\n",
       "<style scoped>\n",
       "    .dataframe tbody tr th:only-of-type {\n",
       "        vertical-align: middle;\n",
       "    }\n",
       "\n",
       "    .dataframe tbody tr th {\n",
       "        vertical-align: top;\n",
       "    }\n",
       "\n",
       "    .dataframe thead th {\n",
       "        text-align: right;\n",
       "    }\n",
       "</style>\n",
       "<table border=\"1\" class=\"dataframe\">\n",
       "  <thead>\n",
       "    <tr style=\"text-align: right;\">\n",
       "      <th></th>\n",
       "      <th>llm_model</th>\n",
       "      <th>embed_model</th>\n",
       "      <th>collection_name</th>\n",
       "      <th>question_id</th>\n",
       "      <th>question</th>\n",
       "      <th>context</th>\n",
       "      <th>reference_answer</th>\n",
       "      <th>response</th>\n",
       "      <th>answer_feedback</th>\n",
       "      <th>context_relevancy_score</th>\n",
       "      <th>context_relevancy_feedback</th>\n",
       "      <th>correctness_score</th>\n",
       "      <th>correctness_feedback</th>\n",
       "      <th>faithfulness_score</th>\n",
       "      <th>relevancy_score</th>\n",
       "      <th>relevancy_feedback</th>\n",
       "      <th>model_score</th>\n",
       "      <th>model_feedback</th>\n",
       "      <th>chat_mode</th>\n",
       "    </tr>\n",
       "  </thead>\n",
       "  <tbody>\n",
       "    <tr>\n",
       "      <th>2017</th>\n",
       "      <td>oll_llama3_instruct</td>\n",
       "      <td>mxbai</td>\n",
       "      <td>wiki_movie_plots_512_50_mxbai</td>\n",
       "      <td>0</td>\n",
       "      <td>Who is the director of the movie \"The Karate K...</td>\n",
       "      <td>release_year: 1984\\ntitle: The Karate Kid\\nori...</td>\n",
       "      <td>The director of the movie \"The Karate Kid\" rel...</td>\n",
       "      <td>According to the context information provided,...</td>\n",
       "      <td>1. Yes, the response matches the subject matte...</td>\n",
       "      <td>1.0</td>\n",
       "      <td>1. The retrieved context matches the subject m...</td>\n",
       "      <td>4.5</td>\n",
       "      <td>The generated answer is relevant and fully cor...</td>\n",
       "      <td>1.0</td>\n",
       "      <td>1.0</td>\n",
       "      <td>YES</td>\n",
       "      <td>1.0</td>\n",
       "      <td>Assistant A and Assistant B both correctly ide...</td>\n",
       "      <td>CONTEXT</td>\n",
       "    </tr>\n",
       "    <tr>\n",
       "      <th>2018</th>\n",
       "      <td>oll_llama3_instruct</td>\n",
       "      <td>mxbai</td>\n",
       "      <td>wiki_movie_plots_512_50_mxbai</td>\n",
       "      <td>1</td>\n",
       "      <td>What is the plot of \"The Karate Kid\" released ...</td>\n",
       "      <td>release_year: 1984\\ntitle: The Karate Kid\\nori...</td>\n",
       "      <td>The plot of \"The Karate Kid\" released in 1984 ...</td>\n",
       "      <td>According to the context information provided,...</td>\n",
       "      <td>1. Does the provided response match the subjec...</td>\n",
       "      <td>1.0</td>\n",
       "      <td>1. The retrieved context matches the subject m...</td>\n",
       "      <td>3.5</td>\n",
       "      <td>The generated answer provides a detailed summa...</td>\n",
       "      <td>1.0</td>\n",
       "      <td>1.0</td>\n",
       "      <td>YES</td>\n",
       "      <td>1.0</td>\n",
       "      <td>Assistant A provided a detailed and comprehens...</td>\n",
       "      <td>CONTEXT</td>\n",
       "    </tr>\n",
       "    <tr>\n",
       "      <th>2019</th>\n",
       "      <td>oll_llama3_instruct</td>\n",
       "      <td>mxbai</td>\n",
       "      <td>wiki_movie_plots_512_50_mxbai</td>\n",
       "      <td>2</td>\n",
       "      <td>What is the genre of the movie \"The Karate Kid...</td>\n",
       "      <td>release_year: 1984\\ntitle: The Karate Kid\\nori...</td>\n",
       "      <td>The genre of the movie \"The Karate Kid\" releas...</td>\n",
       "      <td>According to the context information provided,...</td>\n",
       "      <td>1. Does the provided response match the subjec...</td>\n",
       "      <td>1.0</td>\n",
       "      <td>1. The retrieved context matches the subject m...</td>\n",
       "      <td>4.5</td>\n",
       "      <td>The generated answer is relevant and fully cor...</td>\n",
       "      <td>0.0</td>\n",
       "      <td>1.0</td>\n",
       "      <td>YES</td>\n",
       "      <td>0.0</td>\n",
       "      <td>Assistant B provided a slightly better respons...</td>\n",
       "      <td>CONTEXT</td>\n",
       "    </tr>\n",
       "    <tr>\n",
       "      <th>2020</th>\n",
       "      <td>oll_llama3_instruct</td>\n",
       "      <td>mxbai</td>\n",
       "      <td>wiki_movie_plots_512_50_mxbai</td>\n",
       "      <td>3</td>\n",
       "      <td>Who was the legendary boxing trainer that took...</td>\n",
       "      <td>release_year: 2016\\ntitle: Hands of Stone\\nori...</td>\n",
       "      <td>Ray Arcel, an American legendary boxing traine...</td>\n",
       "      <td>According to the context information provided,...</td>\n",
       "      <td>1. The response correctly identifies Ray Arcel...</td>\n",
       "      <td>1.0</td>\n",
       "      <td>1. The retrieved context matches the subject m...</td>\n",
       "      <td>4.5</td>\n",
       "      <td>The generated answer is highly relevant to the...</td>\n",
       "      <td>1.0</td>\n",
       "      <td>1.0</td>\n",
       "      <td>YES</td>\n",
       "      <td>1.0</td>\n",
       "      <td>Assistant A provided a direct and accurate res...</td>\n",
       "      <td>CONTEXT</td>\n",
       "    </tr>\n",
       "    <tr>\n",
       "      <th>2021</th>\n",
       "      <td>oll_llama3_instruct</td>\n",
       "      <td>mxbai</td>\n",
       "      <td>wiki_movie_plots_512_50_mxbai</td>\n",
       "      <td>4</td>\n",
       "      <td>What was the result of the rematch between Rob...</td>\n",
       "      <td>release_year: 2016\\ntitle: Hands of Stone\\nori...</td>\n",
       "      <td>Durán famously gave up by saying \"No más\" to t...</td>\n",
       "      <td>According to the context information provided,...</td>\n",
       "      <td>1. The response matches the subject matter of ...</td>\n",
       "      <td>1.0</td>\n",
       "      <td>1. The retrieved context matches the subject m...</td>\n",
       "      <td>4.5</td>\n",
       "      <td>The generated answer provides a detailed and a...</td>\n",
       "      <td>1.0</td>\n",
       "      <td>1.0</td>\n",
       "      <td>YES</td>\n",
       "      <td>1.0</td>\n",
       "      <td>Assistant A provided a more detailed and compr...</td>\n",
       "      <td>CONTEXT</td>\n",
       "    </tr>\n",
       "  </tbody>\n",
       "</table>\n",
       "</div>"
      ]
     },
     "execution_count": 108,
     "metadata": {},
     "output_type": "execute_result"
    }
   ],
   "execution_count": 108
  },
  {
   "metadata": {},
   "cell_type": "markdown",
   "source": "## Information about the Training Data",
   "id": "a22446c5a81c7d27"
  },
  {
   "metadata": {},
   "cell_type": "markdown",
   "source": [
    "General Information about the DataFrame\n",
    "The overall Data in the QnA Dataset "
   ],
   "id": "52a6e498466ee848"
  },
  {
   "metadata": {
    "ExecuteTime": {
     "end_time": "2024-06-21T10:55:31.895496Z",
     "start_time": "2024-06-21T10:55:31.890917Z"
    }
   },
   "cell_type": "code",
   "source": "trainings_dataset = load_evaluation_dataset()",
   "id": "ecac92c360e7c101",
   "outputs": [],
   "execution_count": 109
  },
  {
   "metadata": {
    "ExecuteTime": {
     "end_time": "2024-06-21T10:55:31.978370Z",
     "start_time": "2024-06-21T10:55:31.976291Z"
    }
   },
   "cell_type": "code",
   "source": "print(\"The total number of observed Movies in the dataset is: \", len(trainings_dataset))",
   "id": "92e3e098d815d9fd",
   "outputs": [
    {
     "name": "stdout",
     "output_type": "stream",
     "text": [
      "The total number of observed Movies in the dataset is:  100\n"
     ]
    }
   ],
   "execution_count": 110
  },
  {
   "metadata": {
    "ExecuteTime": {
     "end_time": "2024-06-21T10:55:32.036544Z",
     "start_time": "2024-06-21T10:55:32.034283Z"
    }
   },
   "cell_type": "code",
   "source": [
    "number_of_questions = 0\n",
    "for questions in trainings_dataset:\n",
    "    number_of_questions += questions['number_of_qnq']\n",
    "\n",
    "print(\"The total number of questions in the dataset is: \", number_of_questions)"
   ],
   "id": "5d9f4f7e03dc0a71",
   "outputs": [
    {
     "name": "stdout",
     "output_type": "stream",
     "text": [
      "The total number of questions in the dataset is:  381\n"
     ]
    }
   ],
   "execution_count": 111
  },
  {
   "metadata": {},
   "cell_type": "markdown",
   "source": [
    "While evaluating the model some had trouble and reached the maximum number of requests. To fix this an indicator was added to the dataset. With this indicator called \"complex\" the evaluation of the \"too complex\" question was skipped.\n",
    "\n",
    "With subtraction of the \"complex\" questions we evaluated the following number of questions:"
   ],
   "id": "8f2b030eb6c48f97"
  },
  {
   "metadata": {
    "ExecuteTime": {
     "end_time": "2024-06-21T10:55:32.151626Z",
     "start_time": "2024-06-21T10:55:32.149474Z"
    }
   },
   "cell_type": "code",
   "source": [
    "number_of_complex = 0\n",
    "for questions in trainings_dataset:\n",
    "    if \"complex\" in questions:\n",
    "        number_of_complex += questions['complex']\n",
    "print(\"The total number of questions in the dataset is: \", number_of_complex)"
   ],
   "id": "ef56b25fef7abc0d",
   "outputs": [
    {
     "name": "stdout",
     "output_type": "stream",
     "text": [
      "The total number of questions in the dataset is:  14\n"
     ]
    }
   ],
   "execution_count": 112
  },
  {
   "metadata": {},
   "cell_type": "markdown",
   "source": "Now we can count how many questions were skipped",
   "id": "1341eb477169df89"
  },
  {
   "metadata": {
    "ExecuteTime": {
     "end_time": "2024-06-21T10:55:32.176043Z",
     "start_time": "2024-06-21T10:55:32.173769Z"
    }
   },
   "cell_type": "code",
   "source": [
    "questions_skipped = 0\n",
    "for questions in trainings_dataset:\n",
    "    if \"complex\" in questions:\n",
    "        questions_skipped += len(questions['questions'])\n",
    "print(\"The total number of questions in the dataset is: \", questions_skipped)"
   ],
   "id": "4a40f2bf0d84dd16",
   "outputs": [
    {
     "name": "stdout",
     "output_type": "stream",
     "text": [
      "The total number of questions in the dataset is:  66\n"
     ]
    }
   ],
   "execution_count": 113
  },
  {
   "metadata": {
    "ExecuteTime": {
     "end_time": "2024-06-21T10:55:32.273845Z",
     "start_time": "2024-06-21T10:55:32.271890Z"
    }
   },
   "cell_type": "code",
   "source": [
    "number_of_evaluated_questions = number_of_questions - questions_skipped\n",
    "print(\"The total number of questions in the dataset that were evaluated is: \", number_of_evaluated_questions)"
   ],
   "id": "b129ae8b2fff75c0",
   "outputs": [
    {
     "name": "stdout",
     "output_type": "stream",
     "text": [
      "The total number of questions in the dataset that were evaluated is:  315\n"
     ]
    }
   ],
   "execution_count": 114
  },
  {
   "metadata": {},
   "cell_type": "markdown",
   "source": "This number is matching the amount of successfully evaluated questions listed below.",
   "id": "dd4397247382fbd1"
  },
  {
   "metadata": {
    "ExecuteTime": {
     "end_time": "2024-06-21T10:55:32.298796Z",
     "start_time": "2024-06-21T10:55:32.293785Z"
    }
   },
   "cell_type": "code",
   "source": "df[\"llm_model\"].value_counts().sort_values(ascending=False)",
   "id": "618e8ca52765ea67",
   "outputs": [
    {
     "data": {
      "text/plain": [
       "llm_model\n",
       "oll_llama3_instruct     315\n",
       "oll_gemma_instruct      315\n",
       "oll_mistral_instruct    315\n",
       "Name: count, dtype: int64"
      ]
     },
     "execution_count": 115,
     "metadata": {},
     "output_type": "execute_result"
    }
   ],
   "execution_count": 115
  },
  {
   "metadata": {},
   "cell_type": "markdown",
   "source": "### Prepare Dataframes",
   "id": "6121b94bbcdefc09"
  },
  {
   "metadata": {},
   "cell_type": "markdown",
   "source": "**Evaluation Data filtered for Gemma Instruct**",
   "id": "df9a73efd9778fff"
  },
  {
   "metadata": {
    "ExecuteTime": {
     "end_time": "2024-06-21T10:55:32.334384Z",
     "start_time": "2024-06-21T10:55:32.331179Z"
    }
   },
   "cell_type": "code",
   "source": "gemma_df = df[df[\"llm_model\"] == \"oll_gemma_instruct\"]",
   "id": "53701a6d90a9e0c0",
   "outputs": [],
   "execution_count": 116
  },
  {
   "metadata": {},
   "cell_type": "markdown",
   "source": "**Evaluation Data filtered for LLama3 Instruct**",
   "id": "eee983646362c19f"
  },
  {
   "metadata": {
    "ExecuteTime": {
     "end_time": "2024-06-21T10:55:32.418687Z",
     "start_time": "2024-06-21T10:55:32.416267Z"
    }
   },
   "cell_type": "code",
   "source": "llama3_df = df[df[\"llm_model\"] == \"oll_llama3_instruct\"]",
   "id": "f2ad41513c71583c",
   "outputs": [],
   "execution_count": 117
  },
  {
   "metadata": {},
   "cell_type": "markdown",
   "source": "**Evaluation Data filtered for Mistral Instruct**",
   "id": "9499c1432aa4ff5a"
  },
  {
   "metadata": {
    "ExecuteTime": {
     "end_time": "2024-06-21T10:55:32.518565Z",
     "start_time": "2024-06-21T10:55:32.515831Z"
    }
   },
   "cell_type": "code",
   "source": "mistral_df = df[df[\"llm_model\"] == \"oll_mistral_instruct\"]",
   "id": "b93655fcc1b702ee",
   "outputs": [],
   "execution_count": 118
  },
  {
   "metadata": {},
   "cell_type": "markdown",
   "source": "### Evaluation Results",
   "id": "741cce06374f77ab"
  },
  {
   "metadata": {
    "ExecuteTime": {
     "end_time": "2024-06-21T10:55:32.571356Z",
     "start_time": "2024-06-21T10:55:32.569208Z"
    }
   },
   "cell_type": "code",
   "source": [
    "columns_to_compare = [\n",
    "    'question_id',\n",
    "    'llm_model',\n",
    "    'collection_name',\n",
    "    'context_relevancy_score',\n",
    "    'correctness_score',\n",
    "    'faithfulness_score',\n",
    "    'relevancy_score',\n",
    "    'model_score'\n",
    "]"
   ],
   "id": "c4d23cce39699c5b",
   "outputs": [],
   "execution_count": 119
  },
  {
   "metadata": {
    "ExecuteTime": {
     "end_time": "2024-06-21T10:55:32.654291Z",
     "start_time": "2024-06-21T10:55:32.651532Z"
    }
   },
   "cell_type": "code",
   "source": [
    "results = {\n",
    "    \"Gemma Instruct\": gemma_df[columns_to_compare],\n",
    "    \"Llama3 Instruct\": llama3_df[columns_to_compare],\n",
    "    \"Mistral Instruct\": mistral_df[columns_to_compare]\n",
    "}"
   ],
   "id": "d01a079515db678a",
   "outputs": [],
   "execution_count": 120
  },
  {
   "metadata": {
    "ExecuteTime": {
     "end_time": "2024-06-21T10:55:32.697945Z",
     "start_time": "2024-06-21T10:55:32.695198Z"
    }
   },
   "cell_type": "code",
   "source": [
    "llm_models = list(results.keys())\n",
    "llm_models"
   ],
   "id": "d86793d447adf215",
   "outputs": [
    {
     "data": {
      "text/plain": [
       "['Gemma Instruct', 'Llama3 Instruct', 'Mistral Instruct']"
      ]
     },
     "execution_count": 121,
     "metadata": {},
     "output_type": "execute_result"
    }
   ],
   "execution_count": 121
  },
  {
   "metadata": {
    "ExecuteTime": {
     "end_time": "2024-06-21T10:55:32.757235Z",
     "start_time": "2024-06-21T10:55:32.754623Z"
    }
   },
   "cell_type": "code",
   "source": [
    "# list reversed\n",
    "llm_models_r = list(reversed(llm_models))\n",
    "llm_models_r"
   ],
   "id": "8e7de964f5f00ff9",
   "outputs": [
    {
     "data": {
      "text/plain": [
       "['Mistral Instruct', 'Llama3 Instruct', 'Gemma Instruct']"
      ]
     },
     "execution_count": 122,
     "metadata": {},
     "output_type": "execute_result"
    }
   ],
   "execution_count": 122
  },
  {
   "metadata": {},
   "cell_type": "markdown",
   "source": [
    "### Context Relevancy Score\n",
    "Evaluates the relevancy of retrieved contexts to a query. The score is between 0 and 1. A score of 1 indicates that the context is highly relevant to the query."
   ],
   "id": "b3177157d2f929be"
  },
  {
   "metadata": {
    "ExecuteTime": {
     "end_time": "2024-06-21T10:55:32.793140Z",
     "start_time": "2024-06-21T10:55:32.790516Z"
    }
   },
   "cell_type": "code",
   "source": [
    "metric_a = 'context_relevancy_score'\n",
    "metric_a"
   ],
   "id": "bcfc2a7a30d4e4ed",
   "outputs": [
    {
     "data": {
      "text/plain": [
       "'context_relevancy_score'"
      ]
     },
     "execution_count": 123,
     "metadata": {},
     "output_type": "execute_result"
    }
   ],
   "execution_count": 123
  },
  {
   "metadata": {
    "ExecuteTime": {
     "end_time": "2024-06-21T10:55:32.893686Z",
     "start_time": "2024-06-21T10:55:32.892020Z"
    }
   },
   "cell_type": "code",
   "source": "metric_a_label = \"Context Relevancy Score\"",
   "id": "caf4941d846b4108",
   "outputs": [],
   "execution_count": 124
  },
  {
   "metadata": {
    "ExecuteTime": {
     "end_time": "2024-06-21T10:55:32.938397Z",
     "start_time": "2024-06-21T10:55:32.934303Z"
    }
   },
   "cell_type": "code",
   "source": "gemma_df[metric_a].value_counts().sort_index(ascending=False)",
   "id": "20484e2177d110de",
   "outputs": [
    {
     "data": {
      "text/plain": [
       "context_relevancy_score\n",
       "1.000    295\n",
       "0.875      5\n",
       "0.750      3\n",
       "0.625      2\n",
       "0.500      7\n",
       "0.250      2\n",
       "0.000      1\n",
       "Name: count, dtype: int64"
      ]
     },
     "execution_count": 125,
     "metadata": {},
     "output_type": "execute_result"
    }
   ],
   "execution_count": 125
  },
  {
   "metadata": {
    "ExecuteTime": {
     "end_time": "2024-06-21T10:55:33.020949Z",
     "start_time": "2024-06-21T10:55:33.017446Z"
    }
   },
   "cell_type": "code",
   "source": "llama3_df[metric_a].value_counts().sort_index(ascending=False)",
   "id": "69398abda993a7d1",
   "outputs": [
    {
     "data": {
      "text/plain": [
       "context_relevancy_score\n",
       "1.000    293\n",
       "0.875      7\n",
       "0.750      3\n",
       "0.500      9\n",
       "0.375      2\n",
       "0.000      1\n",
       "Name: count, dtype: int64"
      ]
     },
     "execution_count": 126,
     "metadata": {},
     "output_type": "execute_result"
    }
   ],
   "execution_count": 126
  },
  {
   "metadata": {
    "ExecuteTime": {
     "end_time": "2024-06-21T10:55:33.042404Z",
     "start_time": "2024-06-21T10:55:33.038988Z"
    }
   },
   "cell_type": "code",
   "source": "mistral_df[metric_a].value_counts().sort_index(ascending=False)",
   "id": "4fee92db80f11cb2",
   "outputs": [
    {
     "data": {
      "text/plain": [
       "context_relevancy_score\n",
       "1.000    295\n",
       "0.875      6\n",
       "0.750      2\n",
       "0.500      9\n",
       "0.250      2\n",
       "0.000      1\n",
       "Name: count, dtype: int64"
      ]
     },
     "execution_count": 127,
     "metadata": {},
     "output_type": "execute_result"
    }
   ],
   "execution_count": 127
  },
  {
   "metadata": {
    "ExecuteTime": {
     "end_time": "2024-06-21T10:55:33.119790Z",
     "start_time": "2024-06-21T10:55:33.112632Z"
    }
   },
   "cell_type": "code",
   "source": [
    "# create a DataFrame for the context relevancy score values\n",
    "metric_a_values_a = pd.DataFrame()\n",
    "metric_a_values_a['values'] = gemma_df[metric_a].value_counts().index\n",
    "metric_a_values_a[metric_a] = gemma_df[metric_a].value_counts().values\n",
    "metric_a_values_a['llm_model'] = llm_models[0]\n",
    "\n",
    "metric_a_values_b = pd.DataFrame()\n",
    "metric_a_values_b['values'] = llama3_df[metric_a].value_counts().index\n",
    "metric_a_values_b[metric_a] = llama3_df[metric_a].value_counts().values\n",
    "metric_a_values_b['llm_model'] = llm_models[1]\n",
    "\n",
    "metric_a_values_c = pd.DataFrame()\n",
    "metric_a_values_c['values'] = mistral_df[metric_a].value_counts().index\n",
    "metric_a_values_c[metric_a] = mistral_df[metric_a].value_counts().values\n",
    "metric_a_values_c['llm_model'] = llm_models[2]"
   ],
   "id": "4f60934f64a029d6",
   "outputs": [],
   "execution_count": 128
  },
  {
   "metadata": {
    "ExecuteTime": {
     "end_time": "2024-06-21T10:55:33.164362Z",
     "start_time": "2024-06-21T10:55:33.160102Z"
    }
   },
   "cell_type": "code",
   "source": "metric_a_values_a",
   "id": "328a7a9cdf9d9fa",
   "outputs": [
    {
     "data": {
      "text/plain": [
       "   values  context_relevancy_score       llm_model\n",
       "0   1.000                      295  Gemma Instruct\n",
       "1   0.500                        7  Gemma Instruct\n",
       "2   0.875                        5  Gemma Instruct\n",
       "3   0.750                        3  Gemma Instruct\n",
       "4   0.250                        2  Gemma Instruct\n",
       "5   0.625                        2  Gemma Instruct\n",
       "6   0.000                        1  Gemma Instruct"
      ],
      "text/html": [
       "<div>\n",
       "<style scoped>\n",
       "    .dataframe tbody tr th:only-of-type {\n",
       "        vertical-align: middle;\n",
       "    }\n",
       "\n",
       "    .dataframe tbody tr th {\n",
       "        vertical-align: top;\n",
       "    }\n",
       "\n",
       "    .dataframe thead th {\n",
       "        text-align: right;\n",
       "    }\n",
       "</style>\n",
       "<table border=\"1\" class=\"dataframe\">\n",
       "  <thead>\n",
       "    <tr style=\"text-align: right;\">\n",
       "      <th></th>\n",
       "      <th>values</th>\n",
       "      <th>context_relevancy_score</th>\n",
       "      <th>llm_model</th>\n",
       "    </tr>\n",
       "  </thead>\n",
       "  <tbody>\n",
       "    <tr>\n",
       "      <th>0</th>\n",
       "      <td>1.000</td>\n",
       "      <td>295</td>\n",
       "      <td>Gemma Instruct</td>\n",
       "    </tr>\n",
       "    <tr>\n",
       "      <th>1</th>\n",
       "      <td>0.500</td>\n",
       "      <td>7</td>\n",
       "      <td>Gemma Instruct</td>\n",
       "    </tr>\n",
       "    <tr>\n",
       "      <th>2</th>\n",
       "      <td>0.875</td>\n",
       "      <td>5</td>\n",
       "      <td>Gemma Instruct</td>\n",
       "    </tr>\n",
       "    <tr>\n",
       "      <th>3</th>\n",
       "      <td>0.750</td>\n",
       "      <td>3</td>\n",
       "      <td>Gemma Instruct</td>\n",
       "    </tr>\n",
       "    <tr>\n",
       "      <th>4</th>\n",
       "      <td>0.250</td>\n",
       "      <td>2</td>\n",
       "      <td>Gemma Instruct</td>\n",
       "    </tr>\n",
       "    <tr>\n",
       "      <th>5</th>\n",
       "      <td>0.625</td>\n",
       "      <td>2</td>\n",
       "      <td>Gemma Instruct</td>\n",
       "    </tr>\n",
       "    <tr>\n",
       "      <th>6</th>\n",
       "      <td>0.000</td>\n",
       "      <td>1</td>\n",
       "      <td>Gemma Instruct</td>\n",
       "    </tr>\n",
       "  </tbody>\n",
       "</table>\n",
       "</div>"
      ]
     },
     "execution_count": 129,
     "metadata": {},
     "output_type": "execute_result"
    }
   ],
   "execution_count": 129
  },
  {
   "metadata": {
    "ExecuteTime": {
     "end_time": "2024-06-21T10:55:33.385217Z",
     "start_time": "2024-06-21T10:55:33.266531Z"
    }
   },
   "cell_type": "code",
   "source": [
    "# boxplot\n",
    "metric_a_plot = sns.boxplot(\n",
    "    df,\n",
    "    x=\"llm_model\",\n",
    "    y=f\"{metric_a}\",\n",
    "    linewidth=1,\n",
    "    showmeans=True,\n",
    "    palette=colors,\n",
    "    boxprops={\"edgecolor\": \"k\"},\n",
    "    meanprops={\"marker\": \"o\", \"markerfacecolor\": \"none\", \"markeredgecolor\": \"red\"}\n",
    ")\n",
    "\n",
    "metric_a_mean = round(df[metric_a].mean(), 2)\n",
    "metric_a_plot.axhline(df[metric_a].mean(), linestyle='--', color=\"red\", linewidth=1.2)\n",
    "\n",
    "# show mean value\n",
    "metric_a_plot.text(0.7, metric_a_mean + 0.1, f'Mean: {metric_a_mean}', color='red', ha='left',\n",
    "                   fontsize=12, fontweight='bold')\n",
    "\n",
    "labels = results.keys()\n",
    "labels_with_mean = [f'{label}\\n(Mean {round(results[label][metric_a].mean(), 2)})' for label in labels]\n",
    "\n",
    "metric_a_plot.set_xticklabels(labels_with_mean)\n",
    "metric_a_plot.set_title(f\"Evaluation - {metric_a_label} ({collection_name})\", fontsize=16, fontweight='bold', pad=24)\n",
    "metric_a_plot.set_xlabel(\"LLM Models\", fontsize=14, labelpad=14)\n",
    "metric_a_plot.set_ylabel(metric_a_label, fontsize=14, labelpad=14)\n",
    "metric_a_plot.tick_params(axis='y', labelsize=12)\n",
    "\n",
    "plt.tight_layout()\n",
    "plt.show()"
   ],
   "id": "6307b66320429cce",
   "outputs": [
    {
     "data": {
      "text/plain": [
       "<Figure size 640x480 with 1 Axes>"
      ],
      "image/png": "[encoded data removed]"
     },
     "metadata": {},
     "output_type": "display_data"
    }
   ],
   "execution_count": 130
  },
  {
   "metadata": {},
   "cell_type": "markdown",
   "source": "The chart shows a very high mean score 0.97. This means the context relevancy score is very high for all models. Now its interesting to see how many questions have a context relevancy score of 1.0.",
   "id": "d579bd5fdff85d0d"
  },
  {
   "metadata": {
    "ExecuteTime": {
     "end_time": "2024-06-21T10:55:33.391446Z",
     "start_time": "2024-06-21T10:55:33.386630Z"
    }
   },
   "cell_type": "code",
   "source": [
    "# combine the three DataFrames and group them by their values\n",
    "metric_a_values_combined = pd.concat([metric_a_values_a, metric_a_values_b, metric_a_values_c], ignore_index=True)\n",
    "metric_a_values_combined"
   ],
   "id": "b717fe4e8c70ec0e",
   "outputs": [
    {
     "data": {
      "text/plain": [
       "    values  context_relevancy_score         llm_model\n",
       "0    1.000                      295    Gemma Instruct\n",
       "1    0.500                        7    Gemma Instruct\n",
       "2    0.875                        5    Gemma Instruct\n",
       "3    0.750                        3    Gemma Instruct\n",
       "4    0.250                        2    Gemma Instruct\n",
       "5    0.625                        2    Gemma Instruct\n",
       "6    0.000                        1    Gemma Instruct\n",
       "7    1.000                      293   Llama3 Instruct\n",
       "8    0.500                        9   Llama3 Instruct\n",
       "9    0.875                        7   Llama3 Instruct\n",
       "10   0.750                        3   Llama3 Instruct\n",
       "11   0.375                        2   Llama3 Instruct\n",
       "12   0.000                        1   Llama3 Instruct\n",
       "13   1.000                      295  Mistral Instruct\n",
       "14   0.500                        9  Mistral Instruct\n",
       "15   0.875                        6  Mistral Instruct\n",
       "16   0.250                        2  Mistral Instruct\n",
       "17   0.750                        2  Mistral Instruct\n",
       "18   0.000                        1  Mistral Instruct"
      ],
      "text/html": [
       "<div>\n",
       "<style scoped>\n",
       "    .dataframe tbody tr th:only-of-type {\n",
       "        vertical-align: middle;\n",
       "    }\n",
       "\n",
       "    .dataframe tbody tr th {\n",
       "        vertical-align: top;\n",
       "    }\n",
       "\n",
       "    .dataframe thead th {\n",
       "        text-align: right;\n",
       "    }\n",
       "</style>\n",
       "<table border=\"1\" class=\"dataframe\">\n",
       "  <thead>\n",
       "    <tr style=\"text-align: right;\">\n",
       "      <th></th>\n",
       "      <th>values</th>\n",
       "      <th>context_relevancy_score</th>\n",
       "      <th>llm_model</th>\n",
       "    </tr>\n",
       "  </thead>\n",
       "  <tbody>\n",
       "    <tr>\n",
       "      <th>0</th>\n",
       "      <td>1.000</td>\n",
       "      <td>295</td>\n",
       "      <td>Gemma Instruct</td>\n",
       "    </tr>\n",
       "    <tr>\n",
       "      <th>1</th>\n",
       "      <td>0.500</td>\n",
       "      <td>7</td>\n",
       "      <td>Gemma Instruct</td>\n",
       "    </tr>\n",
       "    <tr>\n",
       "      <th>2</th>\n",
       "      <td>0.875</td>\n",
       "      <td>5</td>\n",
       "      <td>Gemma Instruct</td>\n",
       "    </tr>\n",
       "    <tr>\n",
       "      <th>3</th>\n",
       "      <td>0.750</td>\n",
       "      <td>3</td>\n",
       "      <td>Gemma Instruct</td>\n",
       "    </tr>\n",
       "    <tr>\n",
       "      <th>4</th>\n",
       "      <td>0.250</td>\n",
       "      <td>2</td>\n",
       "      <td>Gemma Instruct</td>\n",
       "    </tr>\n",
       "    <tr>\n",
       "      <th>5</th>\n",
       "      <td>0.625</td>\n",
       "      <td>2</td>\n",
       "      <td>Gemma Instruct</td>\n",
       "    </tr>\n",
       "    <tr>\n",
       "      <th>6</th>\n",
       "      <td>0.000</td>\n",
       "      <td>1</td>\n",
       "      <td>Gemma Instruct</td>\n",
       "    </tr>\n",
       "    <tr>\n",
       "      <th>7</th>\n",
       "      <td>1.000</td>\n",
       "      <td>293</td>\n",
       "      <td>Llama3 Instruct</td>\n",
       "    </tr>\n",
       "    <tr>\n",
       "      <th>8</th>\n",
       "      <td>0.500</td>\n",
       "      <td>9</td>\n",
       "      <td>Llama3 Instruct</td>\n",
       "    </tr>\n",
       "    <tr>\n",
       "      <th>9</th>\n",
       "      <td>0.875</td>\n",
       "      <td>7</td>\n",
       "      <td>Llama3 Instruct</td>\n",
       "    </tr>\n",
       "    <tr>\n",
       "      <th>10</th>\n",
       "      <td>0.750</td>\n",
       "      <td>3</td>\n",
       "      <td>Llama3 Instruct</td>\n",
       "    </tr>\n",
       "    <tr>\n",
       "      <th>11</th>\n",
       "      <td>0.375</td>\n",
       "      <td>2</td>\n",
       "      <td>Llama3 Instruct</td>\n",
       "    </tr>\n",
       "    <tr>\n",
       "      <th>12</th>\n",
       "      <td>0.000</td>\n",
       "      <td>1</td>\n",
       "      <td>Llama3 Instruct</td>\n",
       "    </tr>\n",
       "    <tr>\n",
       "      <th>13</th>\n",
       "      <td>1.000</td>\n",
       "      <td>295</td>\n",
       "      <td>Mistral Instruct</td>\n",
       "    </tr>\n",
       "    <tr>\n",
       "      <th>14</th>\n",
       "      <td>0.500</td>\n",
       "      <td>9</td>\n",
       "      <td>Mistral Instruct</td>\n",
       "    </tr>\n",
       "    <tr>\n",
       "      <th>15</th>\n",
       "      <td>0.875</td>\n",
       "      <td>6</td>\n",
       "      <td>Mistral Instruct</td>\n",
       "    </tr>\n",
       "    <tr>\n",
       "      <th>16</th>\n",
       "      <td>0.250</td>\n",
       "      <td>2</td>\n",
       "      <td>Mistral Instruct</td>\n",
       "    </tr>\n",
       "    <tr>\n",
       "      <th>17</th>\n",
       "      <td>0.750</td>\n",
       "      <td>2</td>\n",
       "      <td>Mistral Instruct</td>\n",
       "    </tr>\n",
       "    <tr>\n",
       "      <th>18</th>\n",
       "      <td>0.000</td>\n",
       "      <td>1</td>\n",
       "      <td>Mistral Instruct</td>\n",
       "    </tr>\n",
       "  </tbody>\n",
       "</table>\n",
       "</div>"
      ]
     },
     "execution_count": 131,
     "metadata": {},
     "output_type": "execute_result"
    }
   ],
   "execution_count": 131
  },
  {
   "metadata": {
    "ExecuteTime": {
     "end_time": "2024-06-21T10:55:33.421849Z",
     "start_time": "2024-06-21T10:55:33.416790Z"
    }
   },
   "cell_type": "code",
   "source": [
    "metric_a_values_combined['values'] = pd.to_numeric(metric_a_values_combined['values'], errors='coerce')\n",
    "metric_a_values_combined[metric_a] = pd.to_numeric(metric_a_values_combined[metric_a], errors='coerce')\n",
    "metric_a_values_combined"
   ],
   "id": "80641d9aaffbe253",
   "outputs": [
    {
     "data": {
      "text/plain": [
       "    values  context_relevancy_score         llm_model\n",
       "0    1.000                      295    Gemma Instruct\n",
       "1    0.500                        7    Gemma Instruct\n",
       "2    0.875                        5    Gemma Instruct\n",
       "3    0.750                        3    Gemma Instruct\n",
       "4    0.250                        2    Gemma Instruct\n",
       "5    0.625                        2    Gemma Instruct\n",
       "6    0.000                        1    Gemma Instruct\n",
       "7    1.000                      293   Llama3 Instruct\n",
       "8    0.500                        9   Llama3 Instruct\n",
       "9    0.875                        7   Llama3 Instruct\n",
       "10   0.750                        3   Llama3 Instruct\n",
       "11   0.375                        2   Llama3 Instruct\n",
       "12   0.000                        1   Llama3 Instruct\n",
       "13   1.000                      295  Mistral Instruct\n",
       "14   0.500                        9  Mistral Instruct\n",
       "15   0.875                        6  Mistral Instruct\n",
       "16   0.250                        2  Mistral Instruct\n",
       "17   0.750                        2  Mistral Instruct\n",
       "18   0.000                        1  Mistral Instruct"
      ],
      "text/html": [
       "<div>\n",
       "<style scoped>\n",
       "    .dataframe tbody tr th:only-of-type {\n",
       "        vertical-align: middle;\n",
       "    }\n",
       "\n",
       "    .dataframe tbody tr th {\n",
       "        vertical-align: top;\n",
       "    }\n",
       "\n",
       "    .dataframe thead th {\n",
       "        text-align: right;\n",
       "    }\n",
       "</style>\n",
       "<table border=\"1\" class=\"dataframe\">\n",
       "  <thead>\n",
       "    <tr style=\"text-align: right;\">\n",
       "      <th></th>\n",
       "      <th>values</th>\n",
       "      <th>context_relevancy_score</th>\n",
       "      <th>llm_model</th>\n",
       "    </tr>\n",
       "  </thead>\n",
       "  <tbody>\n",
       "    <tr>\n",
       "      <th>0</th>\n",
       "      <td>1.000</td>\n",
       "      <td>295</td>\n",
       "      <td>Gemma Instruct</td>\n",
       "    </tr>\n",
       "    <tr>\n",
       "      <th>1</th>\n",
       "      <td>0.500</td>\n",
       "      <td>7</td>\n",
       "      <td>Gemma Instruct</td>\n",
       "    </tr>\n",
       "    <tr>\n",
       "      <th>2</th>\n",
       "      <td>0.875</td>\n",
       "      <td>5</td>\n",
       "      <td>Gemma Instruct</td>\n",
       "    </tr>\n",
       "    <tr>\n",
       "      <th>3</th>\n",
       "      <td>0.750</td>\n",
       "      <td>3</td>\n",
       "      <td>Gemma Instruct</td>\n",
       "    </tr>\n",
       "    <tr>\n",
       "      <th>4</th>\n",
       "      <td>0.250</td>\n",
       "      <td>2</td>\n",
       "      <td>Gemma Instruct</td>\n",
       "    </tr>\n",
       "    <tr>\n",
       "      <th>5</th>\n",
       "      <td>0.625</td>\n",
       "      <td>2</td>\n",
       "      <td>Gemma Instruct</td>\n",
       "    </tr>\n",
       "    <tr>\n",
       "      <th>6</th>\n",
       "      <td>0.000</td>\n",
       "      <td>1</td>\n",
       "      <td>Gemma Instruct</td>\n",
       "    </tr>\n",
       "    <tr>\n",
       "      <th>7</th>\n",
       "      <td>1.000</td>\n",
       "      <td>293</td>\n",
       "      <td>Llama3 Instruct</td>\n",
       "    </tr>\n",
       "    <tr>\n",
       "      <th>8</th>\n",
       "      <td>0.500</td>\n",
       "      <td>9</td>\n",
       "      <td>Llama3 Instruct</td>\n",
       "    </tr>\n",
       "    <tr>\n",
       "      <th>9</th>\n",
       "      <td>0.875</td>\n",
       "      <td>7</td>\n",
       "      <td>Llama3 Instruct</td>\n",
       "    </tr>\n",
       "    <tr>\n",
       "      <th>10</th>\n",
       "      <td>0.750</td>\n",
       "      <td>3</td>\n",
       "      <td>Llama3 Instruct</td>\n",
       "    </tr>\n",
       "    <tr>\n",
       "      <th>11</th>\n",
       "      <td>0.375</td>\n",
       "      <td>2</td>\n",
       "      <td>Llama3 Instruct</td>\n",
       "    </tr>\n",
       "    <tr>\n",
       "      <th>12</th>\n",
       "      <td>0.000</td>\n",
       "      <td>1</td>\n",
       "      <td>Llama3 Instruct</td>\n",
       "    </tr>\n",
       "    <tr>\n",
       "      <th>13</th>\n",
       "      <td>1.000</td>\n",
       "      <td>295</td>\n",
       "      <td>Mistral Instruct</td>\n",
       "    </tr>\n",
       "    <tr>\n",
       "      <th>14</th>\n",
       "      <td>0.500</td>\n",
       "      <td>9</td>\n",
       "      <td>Mistral Instruct</td>\n",
       "    </tr>\n",
       "    <tr>\n",
       "      <th>15</th>\n",
       "      <td>0.875</td>\n",
       "      <td>6</td>\n",
       "      <td>Mistral Instruct</td>\n",
       "    </tr>\n",
       "    <tr>\n",
       "      <th>16</th>\n",
       "      <td>0.250</td>\n",
       "      <td>2</td>\n",
       "      <td>Mistral Instruct</td>\n",
       "    </tr>\n",
       "    <tr>\n",
       "      <th>17</th>\n",
       "      <td>0.750</td>\n",
       "      <td>2</td>\n",
       "      <td>Mistral Instruct</td>\n",
       "    </tr>\n",
       "    <tr>\n",
       "      <th>18</th>\n",
       "      <td>0.000</td>\n",
       "      <td>1</td>\n",
       "      <td>Mistral Instruct</td>\n",
       "    </tr>\n",
       "  </tbody>\n",
       "</table>\n",
       "</div>"
      ]
     },
     "execution_count": 132,
     "metadata": {},
     "output_type": "execute_result"
    }
   ],
   "execution_count": 132
  },
  {
   "metadata": {},
   "cell_type": "markdown",
   "source": "Display the number of questions with a context relevancy score of 1.0\n",
   "id": "e3661f6b05805a44"
  },
  {
   "metadata": {
    "ExecuteTime": {
     "end_time": "2024-06-21T10:55:33.487579Z",
     "start_time": "2024-06-21T10:55:33.484099Z"
    }
   },
   "cell_type": "code",
   "source": [
    "# list all three models with the number of occurences of each value equal to 1.0\n",
    "metric_a_score_a = gemma_df[metric_a].value_counts()[1.0]\n",
    "metric_a_score_b = llama3_df[metric_a].value_counts()[1.0]\n",
    "metric_a_score_c = mistral_df[metric_a].value_counts()[1.0]\n",
    "print(f\"{llm_models[0]}: {metric_a_score_a}, {llm_models[1]}: {metric_a_score_b}, {llm_models[2]}: {metric_a_score_c}\")"
   ],
   "id": "3d8f18f7cbc6ce5a",
   "outputs": [
    {
     "name": "stdout",
     "output_type": "stream",
     "text": [
      "Gemma Instruct: 295, Llama3 Instruct: 293, Mistral Instruct: 295\n"
     ]
    }
   ],
   "execution_count": 133
  },
  {
   "metadata": {
    "ExecuteTime": {
     "end_time": "2024-06-21T10:55:33.650168Z",
     "start_time": "2024-06-21T10:55:33.647398Z"
    }
   },
   "cell_type": "code",
   "source": "number_of_evaluated_questions",
   "id": "347d6ba9e3f605f2",
   "outputs": [
    {
     "data": {
      "text/plain": [
       "315"
      ]
     },
     "execution_count": 134,
     "metadata": {},
     "output_type": "execute_result"
    }
   ],
   "execution_count": 134
  },
  {
   "metadata": {
    "ExecuteTime": {
     "end_time": "2024-06-21T10:55:33.736166Z",
     "start_time": "2024-06-21T10:55:33.734410Z"
    }
   },
   "cell_type": "code",
   "source": [
    "# mean of the 1.0 context relevancy score\n",
    "metric_a_scores_mean = (metric_a_score_a + metric_a_score_b + metric_a_score_c) / 3"
   ],
   "id": "64f8987ae9673ba8",
   "outputs": [],
   "execution_count": 135
  },
  {
   "metadata": {
    "ExecuteTime": {
     "end_time": "2024-06-21T10:55:33.921379Z",
     "start_time": "2024-06-21T10:55:33.918968Z"
    }
   },
   "cell_type": "code",
   "source": [
    "# sort dataframe by 'llm_model'\n",
    "metric_a_values_combined = metric_a_values_combined.sort_values(by='llm_model', ascending=False)"
   ],
   "id": "41806733d58f2246",
   "outputs": [],
   "execution_count": 136
  },
  {
   "metadata": {
    "ExecuteTime": {
     "end_time": "2024-06-21T10:55:33.961546Z",
     "start_time": "2024-06-21T10:55:33.956533Z"
    }
   },
   "cell_type": "code",
   "source": "metric_a_values_combined",
   "id": "d2b4cd01860ce242",
   "outputs": [
    {
     "data": {
      "text/plain": [
       "    values  context_relevancy_score         llm_model\n",
       "18   0.000                        1  Mistral Instruct\n",
       "17   0.750                        2  Mistral Instruct\n",
       "16   0.250                        2  Mistral Instruct\n",
       "15   0.875                        6  Mistral Instruct\n",
       "14   0.500                        9  Mistral Instruct\n",
       "13   1.000                      295  Mistral Instruct\n",
       "10   0.750                        3   Llama3 Instruct\n",
       "12   0.000                        1   Llama3 Instruct\n",
       "11   0.375                        2   Llama3 Instruct\n",
       "9    0.875                        7   Llama3 Instruct\n",
       "8    0.500                        9   Llama3 Instruct\n",
       "7    1.000                      293   Llama3 Instruct\n",
       "1    0.500                        7    Gemma Instruct\n",
       "6    0.000                        1    Gemma Instruct\n",
       "5    0.625                        2    Gemma Instruct\n",
       "4    0.250                        2    Gemma Instruct\n",
       "3    0.750                        3    Gemma Instruct\n",
       "2    0.875                        5    Gemma Instruct\n",
       "0    1.000                      295    Gemma Instruct"
      ],
      "text/html": [
       "<div>\n",
       "<style scoped>\n",
       "    .dataframe tbody tr th:only-of-type {\n",
       "        vertical-align: middle;\n",
       "    }\n",
       "\n",
       "    .dataframe tbody tr th {\n",
       "        vertical-align: top;\n",
       "    }\n",
       "\n",
       "    .dataframe thead th {\n",
       "        text-align: right;\n",
       "    }\n",
       "</style>\n",
       "<table border=\"1\" class=\"dataframe\">\n",
       "  <thead>\n",
       "    <tr style=\"text-align: right;\">\n",
       "      <th></th>\n",
       "      <th>values</th>\n",
       "      <th>context_relevancy_score</th>\n",
       "      <th>llm_model</th>\n",
       "    </tr>\n",
       "  </thead>\n",
       "  <tbody>\n",
       "    <tr>\n",
       "      <th>18</th>\n",
       "      <td>0.000</td>\n",
       "      <td>1</td>\n",
       "      <td>Mistral Instruct</td>\n",
       "    </tr>\n",
       "    <tr>\n",
       "      <th>17</th>\n",
       "      <td>0.750</td>\n",
       "      <td>2</td>\n",
       "      <td>Mistral Instruct</td>\n",
       "    </tr>\n",
       "    <tr>\n",
       "      <th>16</th>\n",
       "      <td>0.250</td>\n",
       "      <td>2</td>\n",
       "      <td>Mistral Instruct</td>\n",
       "    </tr>\n",
       "    <tr>\n",
       "      <th>15</th>\n",
       "      <td>0.875</td>\n",
       "      <td>6</td>\n",
       "      <td>Mistral Instruct</td>\n",
       "    </tr>\n",
       "    <tr>\n",
       "      <th>14</th>\n",
       "      <td>0.500</td>\n",
       "      <td>9</td>\n",
       "      <td>Mistral Instruct</td>\n",
       "    </tr>\n",
       "    <tr>\n",
       "      <th>13</th>\n",
       "      <td>1.000</td>\n",
       "      <td>295</td>\n",
       "      <td>Mistral Instruct</td>\n",
       "    </tr>\n",
       "    <tr>\n",
       "      <th>10</th>\n",
       "      <td>0.750</td>\n",
       "      <td>3</td>\n",
       "      <td>Llama3 Instruct</td>\n",
       "    </tr>\n",
       "    <tr>\n",
       "      <th>12</th>\n",
       "      <td>0.000</td>\n",
       "      <td>1</td>\n",
       "      <td>Llama3 Instruct</td>\n",
       "    </tr>\n",
       "    <tr>\n",
       "      <th>11</th>\n",
       "      <td>0.375</td>\n",
       "      <td>2</td>\n",
       "      <td>Llama3 Instruct</td>\n",
       "    </tr>\n",
       "    <tr>\n",
       "      <th>9</th>\n",
       "      <td>0.875</td>\n",
       "      <td>7</td>\n",
       "      <td>Llama3 Instruct</td>\n",
       "    </tr>\n",
       "    <tr>\n",
       "      <th>8</th>\n",
       "      <td>0.500</td>\n",
       "      <td>9</td>\n",
       "      <td>Llama3 Instruct</td>\n",
       "    </tr>\n",
       "    <tr>\n",
       "      <th>7</th>\n",
       "      <td>1.000</td>\n",
       "      <td>293</td>\n",
       "      <td>Llama3 Instruct</td>\n",
       "    </tr>\n",
       "    <tr>\n",
       "      <th>1</th>\n",
       "      <td>0.500</td>\n",
       "      <td>7</td>\n",
       "      <td>Gemma Instruct</td>\n",
       "    </tr>\n",
       "    <tr>\n",
       "      <th>6</th>\n",
       "      <td>0.000</td>\n",
       "      <td>1</td>\n",
       "      <td>Gemma Instruct</td>\n",
       "    </tr>\n",
       "    <tr>\n",
       "      <th>5</th>\n",
       "      <td>0.625</td>\n",
       "      <td>2</td>\n",
       "      <td>Gemma Instruct</td>\n",
       "    </tr>\n",
       "    <tr>\n",
       "      <th>4</th>\n",
       "      <td>0.250</td>\n",
       "      <td>2</td>\n",
       "      <td>Gemma Instruct</td>\n",
       "    </tr>\n",
       "    <tr>\n",
       "      <th>3</th>\n",
       "      <td>0.750</td>\n",
       "      <td>3</td>\n",
       "      <td>Gemma Instruct</td>\n",
       "    </tr>\n",
       "    <tr>\n",
       "      <th>2</th>\n",
       "      <td>0.875</td>\n",
       "      <td>5</td>\n",
       "      <td>Gemma Instruct</td>\n",
       "    </tr>\n",
       "    <tr>\n",
       "      <th>0</th>\n",
       "      <td>1.000</td>\n",
       "      <td>295</td>\n",
       "      <td>Gemma Instruct</td>\n",
       "    </tr>\n",
       "  </tbody>\n",
       "</table>\n",
       "</div>"
      ]
     },
     "execution_count": 137,
     "metadata": {},
     "output_type": "execute_result"
    }
   ],
   "execution_count": 137
  },
  {
   "metadata": {
    "ExecuteTime": {
     "end_time": "2024-06-21T10:55:34.073606Z",
     "start_time": "2024-06-21T10:55:34.066987Z"
    }
   },
   "cell_type": "code",
   "source": [
    "pivot_metric_a_values_combined = metric_a_values_combined.pivot(index='values', columns='llm_model', values=metric_a)\n",
    "\n",
    "# fill NaN values with 0\n",
    "pivot_metric_a_values_combined = pivot_metric_a_values_combined.fillna(0)\n",
    "\n",
    "# order the columns\n",
    "pivot_metric_a_values_combined = pivot_metric_a_values_combined[llm_models_r]\n",
    "pivot_metric_a_values_combined"
   ],
   "id": "a360a1f8a9553681",
   "outputs": [
    {
     "data": {
      "text/plain": [
       "llm_model  Mistral Instruct  Llama3 Instruct  Gemma Instruct\n",
       "values                                                      \n",
       "0.000                   1.0              1.0             1.0\n",
       "0.250                   2.0              0.0             2.0\n",
       "0.375                   0.0              2.0             0.0\n",
       "0.500                   9.0              9.0             7.0\n",
       "0.625                   0.0              0.0             2.0\n",
       "0.750                   2.0              3.0             3.0\n",
       "0.875                   6.0              7.0             5.0\n",
       "1.000                 295.0            293.0           295.0"
      ],
      "text/html": [
       "<div>\n",
       "<style scoped>\n",
       "    .dataframe tbody tr th:only-of-type {\n",
       "        vertical-align: middle;\n",
       "    }\n",
       "\n",
       "    .dataframe tbody tr th {\n",
       "        vertical-align: top;\n",
       "    }\n",
       "\n",
       "    .dataframe thead th {\n",
       "        text-align: right;\n",
       "    }\n",
       "</style>\n",
       "<table border=\"1\" class=\"dataframe\">\n",
       "  <thead>\n",
       "    <tr style=\"text-align: right;\">\n",
       "      <th>llm_model</th>\n",
       "      <th>Mistral Instruct</th>\n",
       "      <th>Llama3 Instruct</th>\n",
       "      <th>Gemma Instruct</th>\n",
       "    </tr>\n",
       "    <tr>\n",
       "      <th>values</th>\n",
       "      <th></th>\n",
       "      <th></th>\n",
       "      <th></th>\n",
       "    </tr>\n",
       "  </thead>\n",
       "  <tbody>\n",
       "    <tr>\n",
       "      <th>0.000</th>\n",
       "      <td>1.0</td>\n",
       "      <td>1.0</td>\n",
       "      <td>1.0</td>\n",
       "    </tr>\n",
       "    <tr>\n",
       "      <th>0.250</th>\n",
       "      <td>2.0</td>\n",
       "      <td>0.0</td>\n",
       "      <td>2.0</td>\n",
       "    </tr>\n",
       "    <tr>\n",
       "      <th>0.375</th>\n",
       "      <td>0.0</td>\n",
       "      <td>2.0</td>\n",
       "      <td>0.0</td>\n",
       "    </tr>\n",
       "    <tr>\n",
       "      <th>0.500</th>\n",
       "      <td>9.0</td>\n",
       "      <td>9.0</td>\n",
       "      <td>7.0</td>\n",
       "    </tr>\n",
       "    <tr>\n",
       "      <th>0.625</th>\n",
       "      <td>0.0</td>\n",
       "      <td>0.0</td>\n",
       "      <td>2.0</td>\n",
       "    </tr>\n",
       "    <tr>\n",
       "      <th>0.750</th>\n",
       "      <td>2.0</td>\n",
       "      <td>3.0</td>\n",
       "      <td>3.0</td>\n",
       "    </tr>\n",
       "    <tr>\n",
       "      <th>0.875</th>\n",
       "      <td>6.0</td>\n",
       "      <td>7.0</td>\n",
       "      <td>5.0</td>\n",
       "    </tr>\n",
       "    <tr>\n",
       "      <th>1.000</th>\n",
       "      <td>295.0</td>\n",
       "      <td>293.0</td>\n",
       "      <td>295.0</td>\n",
       "    </tr>\n",
       "  </tbody>\n",
       "</table>\n",
       "</div>"
      ]
     },
     "execution_count": 138,
     "metadata": {},
     "output_type": "execute_result"
    }
   ],
   "execution_count": 138
  },
  {
   "metadata": {
    "ExecuteTime": {
     "end_time": "2024-06-21T10:55:34.273782Z",
     "start_time": "2024-06-21T10:55:34.104091Z"
    }
   },
   "cell_type": "code",
   "source": [
    "# display horizontal bar chart\n",
    "metric_a_chart_a = pivot_metric_a_values_combined.plot(kind='barh', figsize=(10, 6), color=colors, stacked=False,\n",
    "                                                       legend='reverse')\n",
    "# set the labels\n",
    "metric_a_chart_a.set_ylabel(metric_a_label, fontsize=14, labelpad=14)\n",
    "metric_a_chart_a.set_xlabel(\"Number of evaluated Questions\", fontsize=14, labelpad=14)\n",
    "metric_a_chart_a.set_title(f\"Evaluate the relevance of the given context to the question ({collection_name})\", fontsize=16, fontweight='bold', pad=14)\n",
    "\n",
    "# add number of evaluated questions as vertical line\n",
    "metric_a_chart_a.axvline(x=number_of_evaluated_questions, linestyle='-', color=\"black\", linewidth=0.8)\n",
    "metric_a_chart_a.text(number_of_evaluated_questions + 2, 3.5, number_of_evaluated_questions, ha='left',\n",
    "                      fontsize=11, fontweight='bold', color='black')\n",
    "\n",
    "# add mean value as vertical line\n",
    "metric_a_chart_a.axvline(x=metric_a_scores_mean, linestyle='--', color='red', linewidth=0.8)\n",
    "metric_a_chart_a.text(metric_a_scores_mean - 40, 3.5, f\"Mean: {round(metric_a_scores_mean, 2)}\", ha='left',\n",
    "                      fontsize=11, fontweight='bold', color='red')\n",
    "\n",
    "# add legend\n",
    "handles, labels = metric_a_chart_a.get_legend_handles_labels()\n",
    "metric_a_chart_a.legend(\n",
    "    reversed(handles),\n",
    "    reversed(labels),\n",
    "    title=metric_a_label + \"\\nevaluated by GPT-3.5 Turbo\",\n",
    "    loc='upper right',\n",
    "    fontsize=9,\n",
    "    bbox_to_anchor=(1.25, 1.06)\n",
    ")"
   ],
   "id": "3c6505c590eb7427",
   "outputs": [
    {
     "data": {
      "text/plain": [
       "<matplotlib.legend.Legend at 0x337dd8370>"
      ]
     },
     "execution_count": 139,
     "metadata": {},
     "output_type": "execute_result"
    },
    {
     "data": {
      "text/plain": [
       "<Figure size 1000x600 with 1 Axes>"
      ],
      "image/png": "[encoded data removed]"
     },
     "metadata": {},
     "output_type": "display_data"
    }
   ],
   "execution_count": 139
  },
  {
   "metadata": {
    "ExecuteTime": {
     "end_time": "2024-06-21T10:55:34.278489Z",
     "start_time": "2024-06-21T10:55:34.275094Z"
    }
   },
   "cell_type": "code",
   "source": [
    "number_of_metric_a_score_a = metric_a_values_a[metric_a_values_a['values'] >= 0.75].sum()[metric_a]\n",
    "number_of_metric_a_score_b = metric_a_values_b[metric_a_values_b['values'] >= 0.75].sum()[metric_a]\n",
    "number_of_metric_a_score_c = metric_a_values_c[metric_a_values_c['values'] >= 0.75].sum()[metric_a]"
   ],
   "id": "7fdc64047062da25",
   "outputs": [],
   "execution_count": 140
  },
  {
   "metadata": {
    "ExecuteTime": {
     "end_time": "2024-06-21T10:55:34.281633Z",
     "start_time": "2024-06-21T10:55:34.279287Z"
    }
   },
   "cell_type": "code",
   "source": "number_of_metric_a_score_a",
   "id": "9899efb4447e5d83",
   "outputs": [
    {
     "data": {
      "text/plain": [
       "303"
      ]
     },
     "execution_count": 141,
     "metadata": {},
     "output_type": "execute_result"
    }
   ],
   "execution_count": 141
  },
  {
   "metadata": {
    "ExecuteTime": {
     "end_time": "2024-06-21T10:55:34.406314Z",
     "start_time": "2024-06-21T10:55:34.403401Z"
    }
   },
   "cell_type": "code",
   "source": [
    "# now we will calculate the number of questions with a context relevancy score over 0.75\n",
    "metric_a_good_results = pd.DataFrame()\n",
    "metric_a_good_results['llm_model'] = llm_models\n",
    "metric_a_good_results['number_of_good_results'] = [number_of_metric_a_score_a,\n",
    "                                      number_of_metric_a_score_b,\n",
    "                                      number_of_metric_a_score_c]"
   ],
   "id": "32fc7ec257b06427",
   "outputs": [],
   "execution_count": 142
  },
  {
   "metadata": {
    "ExecuteTime": {
     "end_time": "2024-06-21T10:55:34.436220Z",
     "start_time": "2024-06-21T10:55:34.432389Z"
    }
   },
   "cell_type": "code",
   "source": "metric_a_good_results",
   "id": "561494d07c7f9754",
   "outputs": [
    {
     "data": {
      "text/plain": [
       "          llm_model  number_of_good_results\n",
       "0    Gemma Instruct                     303\n",
       "1   Llama3 Instruct                     303\n",
       "2  Mistral Instruct                     303"
      ],
      "text/html": [
       "<div>\n",
       "<style scoped>\n",
       "    .dataframe tbody tr th:only-of-type {\n",
       "        vertical-align: middle;\n",
       "    }\n",
       "\n",
       "    .dataframe tbody tr th {\n",
       "        vertical-align: top;\n",
       "    }\n",
       "\n",
       "    .dataframe thead th {\n",
       "        text-align: right;\n",
       "    }\n",
       "</style>\n",
       "<table border=\"1\" class=\"dataframe\">\n",
       "  <thead>\n",
       "    <tr style=\"text-align: right;\">\n",
       "      <th></th>\n",
       "      <th>llm_model</th>\n",
       "      <th>number_of_good_results</th>\n",
       "    </tr>\n",
       "  </thead>\n",
       "  <tbody>\n",
       "    <tr>\n",
       "      <th>0</th>\n",
       "      <td>Gemma Instruct</td>\n",
       "      <td>303</td>\n",
       "    </tr>\n",
       "    <tr>\n",
       "      <th>1</th>\n",
       "      <td>Llama3 Instruct</td>\n",
       "      <td>303</td>\n",
       "    </tr>\n",
       "    <tr>\n",
       "      <th>2</th>\n",
       "      <td>Mistral Instruct</td>\n",
       "      <td>303</td>\n",
       "    </tr>\n",
       "  </tbody>\n",
       "</table>\n",
       "</div>"
      ]
     },
     "execution_count": 143,
     "metadata": {},
     "output_type": "execute_result"
    }
   ],
   "execution_count": 143
  },
  {
   "metadata": {
    "ExecuteTime": {
     "end_time": "2024-06-21T10:55:34.542731Z",
     "start_time": "2024-06-21T10:55:34.537559Z"
    }
   },
   "cell_type": "code",
   "source": [
    "metric_a_percentages = pd.DataFrame()\n",
    "metric_a_percentages['llm_model'] = llm_models\n",
    "metric_a_percentages['percentage'] = [round((number_of_metric_a_score_a / number_of_evaluated_questions) * 100, 2),\n",
    "                                      round((number_of_metric_a_score_b / number_of_evaluated_questions) * 100, 2),\n",
    "                                      round((number_of_metric_a_score_c / number_of_evaluated_questions) * 100, 2)]\n",
    "metric_a_percentages"
   ],
   "id": "bff9b71ae294c5e8",
   "outputs": [
    {
     "data": {
      "text/plain": [
       "          llm_model  percentage\n",
       "0    Gemma Instruct       96.19\n",
       "1   Llama3 Instruct       96.19\n",
       "2  Mistral Instruct       96.19"
      ],
      "text/html": [
       "<div>\n",
       "<style scoped>\n",
       "    .dataframe tbody tr th:only-of-type {\n",
       "        vertical-align: middle;\n",
       "    }\n",
       "\n",
       "    .dataframe tbody tr th {\n",
       "        vertical-align: top;\n",
       "    }\n",
       "\n",
       "    .dataframe thead th {\n",
       "        text-align: right;\n",
       "    }\n",
       "</style>\n",
       "<table border=\"1\" class=\"dataframe\">\n",
       "  <thead>\n",
       "    <tr style=\"text-align: right;\">\n",
       "      <th></th>\n",
       "      <th>llm_model</th>\n",
       "      <th>percentage</th>\n",
       "    </tr>\n",
       "  </thead>\n",
       "  <tbody>\n",
       "    <tr>\n",
       "      <th>0</th>\n",
       "      <td>Gemma Instruct</td>\n",
       "      <td>96.19</td>\n",
       "    </tr>\n",
       "    <tr>\n",
       "      <th>1</th>\n",
       "      <td>Llama3 Instruct</td>\n",
       "      <td>96.19</td>\n",
       "    </tr>\n",
       "    <tr>\n",
       "      <th>2</th>\n",
       "      <td>Mistral Instruct</td>\n",
       "      <td>96.19</td>\n",
       "    </tr>\n",
       "  </tbody>\n",
       "</table>\n",
       "</div>"
      ]
     },
     "execution_count": 144,
     "metadata": {},
     "output_type": "execute_result"
    }
   ],
   "execution_count": 144
  },
  {
   "metadata": {
    "ExecuteTime": {
     "end_time": "2024-06-21T10:55:34.596050Z",
     "start_time": "2024-06-21T10:55:34.592024Z"
    }
   },
   "cell_type": "code",
   "source": [
    "metric_a_percentages.sort_values(by='llm_model', ascending=False, inplace=True)\n",
    "metric_a_percentages.reset_index(inplace=True, drop=True)\n",
    "metric_a_percentages"
   ],
   "id": "2ec31bf4e666c190",
   "outputs": [
    {
     "data": {
      "text/plain": [
       "          llm_model  percentage\n",
       "0  Mistral Instruct       96.19\n",
       "1   Llama3 Instruct       96.19\n",
       "2    Gemma Instruct       96.19"
      ],
      "text/html": [
       "<div>\n",
       "<style scoped>\n",
       "    .dataframe tbody tr th:only-of-type {\n",
       "        vertical-align: middle;\n",
       "    }\n",
       "\n",
       "    .dataframe tbody tr th {\n",
       "        vertical-align: top;\n",
       "    }\n",
       "\n",
       "    .dataframe thead th {\n",
       "        text-align: right;\n",
       "    }\n",
       "</style>\n",
       "<table border=\"1\" class=\"dataframe\">\n",
       "  <thead>\n",
       "    <tr style=\"text-align: right;\">\n",
       "      <th></th>\n",
       "      <th>llm_model</th>\n",
       "      <th>percentage</th>\n",
       "    </tr>\n",
       "  </thead>\n",
       "  <tbody>\n",
       "    <tr>\n",
       "      <th>0</th>\n",
       "      <td>Mistral Instruct</td>\n",
       "      <td>96.19</td>\n",
       "    </tr>\n",
       "    <tr>\n",
       "      <th>1</th>\n",
       "      <td>Llama3 Instruct</td>\n",
       "      <td>96.19</td>\n",
       "    </tr>\n",
       "    <tr>\n",
       "      <th>2</th>\n",
       "      <td>Gemma Instruct</td>\n",
       "      <td>96.19</td>\n",
       "    </tr>\n",
       "  </tbody>\n",
       "</table>\n",
       "</div>"
      ]
     },
     "execution_count": 145,
     "metadata": {},
     "output_type": "execute_result"
    }
   ],
   "execution_count": 145
  },
  {
   "metadata": {
    "ExecuteTime": {
     "end_time": "2024-06-21T10:55:34.812461Z",
     "start_time": "2024-06-21T10:55:34.667413Z"
    }
   },
   "cell_type": "code",
   "source": [
    "# display percentage values in a horizontal bar chart\n",
    "metric_a_percentages_chart = metric_a_percentages.plot(kind='barh', figsize=(10, 6), color=colors)\n",
    "\n",
    "\n",
    "# set the labels\n",
    "metric_a_percentages_chart.set_yticklabels(llm_models_r)\n",
    "metric_a_percentages_chart.set_ylabel(\"LLM Models\", fontsize=14, labelpad=14)\n",
    "metric_a_percentages_chart.set_xlabel(\"Percentage of evaluated Questions\", fontsize=14, labelpad=14)\n",
    "metric_a_percentages_chart.set_title(f\"Evaluate the relevance of the given context to the question ({collection_name})\", fontsize=16, fontweight='bold', pad=14)\n",
    "\n",
    "# add percentage values to the bars\n",
    "for i in range(3):\n",
    "    percentage = metric_a_percentages['percentage'][i]\n",
    "    metric_a_percentages_chart.text(percentage + 1, i, f'{percentage}%', ha='left', fontsize=11, fontweight='bold')\n",
    "\n",
    "# add vertical line for the mean value\n",
    "metric_a_mean_percentage = metric_a_percentages['percentage'].mean()\n",
    "metric_a_percentages_chart.axvline(x=metric_a_mean_percentage, linestyle='--', color='red', linewidth=0.8)\n",
    "metric_a_percentages_chart.text(metric_a_mean_percentage - 14, 1.5, f'Mean: {round(metric_a_mean_percentage, 2)}%',\n",
    "                                color='red', ha='left', fontsize=11, fontweight='bold')\n",
    "\n",
    "# add legend\n",
    "metric_a_percentages_chart.legend(\n",
    "    title='Context Relevancy Score',\n",
    "    labels=['Mean Percentage', 'Percentage of Questions\\nanswered with 1.0'],\n",
    "    loc='upper right',\n",
    "    fontsize=9,\n",
    "    bbox_to_anchor=(1.25, 1.06),\n",
    ")\n"
   ],
   "id": "8d7e06674173a8ce",
   "outputs": [
    {
     "data": {
      "text/plain": [
       "<matplotlib.legend.Legend at 0x337dbf610>"
      ]
     },
     "execution_count": 146,
     "metadata": {},
     "output_type": "execute_result"
    },
    {
     "data": {
      "text/plain": [
       "<Figure size 1000x600 with 1 Axes>"
      ],
      "image/png": "[encoded data removed]"
     },
     "metadata": {},
     "output_type": "display_data"
    }
   ],
   "execution_count": 146
  },
  {
   "metadata": {},
   "cell_type": "markdown",
   "source": "### Correctness Score\n",
   "id": "f9022fa9249fa6b9"
  },
  {
   "metadata": {
    "ExecuteTime": {
     "end_time": "2024-06-21T10:55:34.816767Z",
     "start_time": "2024-06-21T10:55:34.813951Z"
    }
   },
   "cell_type": "code",
   "source": [
    "metric_b = columns_to_compare[4]\n",
    "metric_b"
   ],
   "id": "697263404b05e4f",
   "outputs": [
    {
     "data": {
      "text/plain": [
       "'correctness_score'"
      ]
     },
     "execution_count": 147,
     "metadata": {},
     "output_type": "execute_result"
    }
   ],
   "execution_count": 147
  },
  {
   "metadata": {
    "ExecuteTime": {
     "end_time": "2024-06-21T10:55:34.904971Z",
     "start_time": "2024-06-21T10:55:34.903093Z"
    }
   },
   "cell_type": "code",
   "source": "metric_b_label = \"Correctness Score\"",
   "id": "6ac2e6f5a202dc92",
   "outputs": [],
   "execution_count": 148
  },
  {
   "metadata": {
    "ExecuteTime": {
     "end_time": "2024-06-21T10:55:35.038994Z",
     "start_time": "2024-06-21T10:55:35.035369Z"
    }
   },
   "cell_type": "code",
   "source": "gemma_df[metric_b].value_counts()",
   "id": "19f3a47821f19f59",
   "outputs": [
    {
     "data": {
      "text/plain": [
       "correctness_score\n",
       "3.0    112\n",
       "4.0     65\n",
       "4.5     56\n",
       "2.0     56\n",
       "3.5     16\n",
       "2.5      6\n",
       "5.0      3\n",
       "1.0      1\n",
       "Name: count, dtype: int64"
      ]
     },
     "execution_count": 149,
     "metadata": {},
     "output_type": "execute_result"
    }
   ],
   "execution_count": 149
  },
  {
   "metadata": {
    "ExecuteTime": {
     "end_time": "2024-06-21T10:55:35.183756Z",
     "start_time": "2024-06-21T10:55:35.180655Z"
    }
   },
   "cell_type": "code",
   "source": "llama3_df[metric_b].value_counts()",
   "id": "da5c2c175cb666a7",
   "outputs": [
    {
     "data": {
      "text/plain": [
       "correctness_score\n",
       "4.0    98\n",
       "4.5    81\n",
       "3.0    65\n",
       "2.0    50\n",
       "3.5    12\n",
       "5.0     6\n",
       "1.0     2\n",
       "2.5     1\n",
       "Name: count, dtype: int64"
      ]
     },
     "execution_count": 150,
     "metadata": {},
     "output_type": "execute_result"
    }
   ],
   "execution_count": 150
  },
  {
   "metadata": {
    "ExecuteTime": {
     "end_time": "2024-06-21T10:55:35.258031Z",
     "start_time": "2024-06-21T10:55:35.254711Z"
    }
   },
   "cell_type": "code",
   "source": "mistral_df[metric_b].value_counts()",
   "id": "fee01113e7b5270b",
   "outputs": [
    {
     "data": {
      "text/plain": [
       "correctness_score\n",
       "4.0    93\n",
       "4.5    85\n",
       "3.0    77\n",
       "3.5    29\n",
       "2.0     9\n",
       "5.0     8\n",
       "1.0     7\n",
       "2.5     7\n",
       "Name: count, dtype: int64"
      ]
     },
     "execution_count": 151,
     "metadata": {},
     "output_type": "execute_result"
    }
   ],
   "execution_count": 151
  },
  {
   "metadata": {
    "ExecuteTime": {
     "end_time": "2024-06-21T10:55:35.319930Z",
     "start_time": "2024-06-21T10:55:35.315631Z"
    }
   },
   "cell_type": "code",
   "source": [
    "# list all three models with the number of occurences of each value above 3.0\n",
    "metric_b_values = pd.DataFrame()\n",
    "metric_b_score_a_above_3 = gemma_df[metric_b].value_counts()[gemma_df[metric_b].value_counts().index >= 3.0]\n",
    "metric_b_score_b_above_3 = llama3_df[metric_b].value_counts()[llama3_df[metric_b].value_counts().index >= 3.0]\n",
    "metric_b_score_c_above_3 = mistral_df[metric_b].value_counts()[mistral_df[metric_b].value_counts().index >= 3.0]\n",
    "\n",
    "print(f\"{llm_models[0]}: {metric_b_score_a_above_3.sum()}, {llm_models[1]}: {metric_b_score_b_above_3.sum()}, {llm_models[2]}: {metric_b_score_c_above_3.sum()}\")"
   ],
   "id": "2f8df7475edebe83",
   "outputs": [
    {
     "name": "stdout",
     "output_type": "stream",
     "text": [
      "Gemma Instruct: 252, Llama3 Instruct: 262, Mistral Instruct: 292\n"
     ]
    }
   ],
   "execution_count": 152
  },
  {
   "metadata": {
    "ExecuteTime": {
     "end_time": "2024-06-21T10:55:35.373038Z",
     "start_time": "2024-06-21T10:55:35.370396Z"
    }
   },
   "cell_type": "code",
   "source": [
    "metric_b_score_a = gemma_df[metric_b].value_counts()\n",
    "metric_b_score_b = llama3_df[metric_b].value_counts()\n",
    "metric_b_score_c = mistral_df[metric_b].value_counts()"
   ],
   "id": "9318f8123dce74cc",
   "outputs": [],
   "execution_count": 153
  },
  {
   "metadata": {
    "ExecuteTime": {
     "end_time": "2024-06-21T10:55:35.426929Z",
     "start_time": "2024-06-21T10:55:35.421629Z"
    }
   },
   "cell_type": "code",
   "source": [
    "# display a bar chart\n",
    "metric_b_table = pd.concat([metric_b_score_a, metric_b_score_b, metric_b_score_c], axis=1)\n",
    "metric_b_table.columns = llm_models\n",
    "metric_b_table = metric_b_table.fillna(0)\n",
    "\n",
    "# sort score ascending\n",
    "metric_b_table = metric_b_table.sort_values(by=metric_b, ascending=False)\n",
    "metric_b_table"
   ],
   "id": "61aca3833bf4411b",
   "outputs": [
    {
     "data": {
      "text/plain": [
       "                   Gemma Instruct  Llama3 Instruct  Mistral Instruct\n",
       "correctness_score                                                   \n",
       "5.0                             3                6                 8\n",
       "4.5                            56               81                85\n",
       "4.0                            65               98                93\n",
       "3.5                            16               12                29\n",
       "3.0                           112               65                77\n",
       "2.5                             6                1                 7\n",
       "2.0                            56               50                 9\n",
       "1.0                             1                2                 7"
      ],
      "text/html": [
       "<div>\n",
       "<style scoped>\n",
       "    .dataframe tbody tr th:only-of-type {\n",
       "        vertical-align: middle;\n",
       "    }\n",
       "\n",
       "    .dataframe tbody tr th {\n",
       "        vertical-align: top;\n",
       "    }\n",
       "\n",
       "    .dataframe thead th {\n",
       "        text-align: right;\n",
       "    }\n",
       "</style>\n",
       "<table border=\"1\" class=\"dataframe\">\n",
       "  <thead>\n",
       "    <tr style=\"text-align: right;\">\n",
       "      <th></th>\n",
       "      <th>Gemma Instruct</th>\n",
       "      <th>Llama3 Instruct</th>\n",
       "      <th>Mistral Instruct</th>\n",
       "    </tr>\n",
       "    <tr>\n",
       "      <th>correctness_score</th>\n",
       "      <th></th>\n",
       "      <th></th>\n",
       "      <th></th>\n",
       "    </tr>\n",
       "  </thead>\n",
       "  <tbody>\n",
       "    <tr>\n",
       "      <th>5.0</th>\n",
       "      <td>3</td>\n",
       "      <td>6</td>\n",
       "      <td>8</td>\n",
       "    </tr>\n",
       "    <tr>\n",
       "      <th>4.5</th>\n",
       "      <td>56</td>\n",
       "      <td>81</td>\n",
       "      <td>85</td>\n",
       "    </tr>\n",
       "    <tr>\n",
       "      <th>4.0</th>\n",
       "      <td>65</td>\n",
       "      <td>98</td>\n",
       "      <td>93</td>\n",
       "    </tr>\n",
       "    <tr>\n",
       "      <th>3.5</th>\n",
       "      <td>16</td>\n",
       "      <td>12</td>\n",
       "      <td>29</td>\n",
       "    </tr>\n",
       "    <tr>\n",
       "      <th>3.0</th>\n",
       "      <td>112</td>\n",
       "      <td>65</td>\n",
       "      <td>77</td>\n",
       "    </tr>\n",
       "    <tr>\n",
       "      <th>2.5</th>\n",
       "      <td>6</td>\n",
       "      <td>1</td>\n",
       "      <td>7</td>\n",
       "    </tr>\n",
       "    <tr>\n",
       "      <th>2.0</th>\n",
       "      <td>56</td>\n",
       "      <td>50</td>\n",
       "      <td>9</td>\n",
       "    </tr>\n",
       "    <tr>\n",
       "      <th>1.0</th>\n",
       "      <td>1</td>\n",
       "      <td>2</td>\n",
       "      <td>7</td>\n",
       "    </tr>\n",
       "  </tbody>\n",
       "</table>\n",
       "</div>"
      ]
     },
     "execution_count": 154,
     "metadata": {},
     "output_type": "execute_result"
    }
   ],
   "execution_count": 154
  },
  {
   "metadata": {
    "ExecuteTime": {
     "end_time": "2024-06-21T10:55:35.648944Z",
     "start_time": "2024-06-21T10:55:35.493147Z"
    }
   },
   "cell_type": "code",
   "source": [
    "# display a bar chart\n",
    "metric_b_table.plot(kind='bar', figsize=(10, 6), color=colors)\n",
    "\n",
    "# set the labels\n",
    "plt.xticks(rotation=0)  # horizontal x-labels\n",
    "plt.xlabel(\"Correctness Scores\", fontsize=14, labelpad=14)\n",
    "plt.ylabel(f\"Number of Answers by {metric_b_label}\", fontsize=14, labelpad=14)\n",
    "plt.title(f\"Evaluation - Distribution of {metric_b_label} ({collection_name})\", fontsize=16, fontweight='bold', pad=14)\n",
    "plt.legend(title='LLM Models', labels=llm_models, loc='upper right', fontsize=9, bbox_to_anchor=(1.25, 1.06))"
   ],
   "id": "3c25ac57cfea80f3",
   "outputs": [
    {
     "data": {
      "text/plain": [
       "<matplotlib.legend.Legend at 0x337e8ea10>"
      ]
     },
     "execution_count": 155,
     "metadata": {},
     "output_type": "execute_result"
    },
    {
     "data": {
      "text/plain": [
       "<Figure size 1000x600 with 1 Axes>"
      ],
      "image/png": "[encoded data removed]"
     },
     "metadata": {},
     "output_type": "display_data"
    }
   ],
   "execution_count": 155
  },
  {
   "metadata": {
    "ExecuteTime": {
     "end_time": "2024-06-21T10:55:35.768751Z",
     "start_time": "2024-06-21T10:55:35.650249Z"
    }
   },
   "cell_type": "code",
   "source": [
    "# create a boxplot for the correctness score\n",
    "metric_b_plot = sns.boxplot(\n",
    "    df,\n",
    "    x=\"llm_model\",\n",
    "    y=f\"{metric_b}\",\n",
    "    linewidth=1,\n",
    "    showmeans=True,\n",
    "    palette=colors,\n",
    "    boxprops={\"edgecolor\": \"k\"},\n",
    "    meanprops={\"marker\": \"o\", \"markerfacecolor\": \"none\", \"markeredgecolor\": \"red\"}\n",
    ")\n",
    "metric_b_score_mean = round(df[metric_b].mean(), 2)\n",
    "metric_b_plot.axhline(df[metric_b].mean(), linestyle='--', color=\"red\", linewidth=1.2)\n",
    "\n",
    "# show mean value\n",
    "metric_b_plot.text(0.7, metric_b_score_mean + 0.1, f'Mean: {metric_b_score_mean}', color='red', ha='left', fontsize=12,\n",
    "                   fontweight='bold')\n",
    "\n",
    "# create labels with the mean value for each model\n",
    "labels = results.keys()\n",
    "labels_with_mean = [f'{label}\\n(Mean {round(results[label][metric_b].mean(), 2)})' for label in labels]\n",
    "\n",
    "# set the labels\n",
    "metric_b_plot.set_xticklabels(labels_with_mean)\n",
    "metric_b_plot.set_title(f\"Evaluation - Distribution of {metric_b_label} ({collection_name})\", fontsize=16, fontweight='bold', pad=14)\n",
    "metric_b_plot.set_xlabel(\"LLM Models\", fontsize=14, labelpad=14)\n",
    "metric_b_plot.set_ylabel(metric_b_label + \"s\", fontsize=14, labelpad=14)\n",
    "metric_b_plot.tick_params(axis='y', labelsize=12)\n",
    "\n",
    "# show the plot\n",
    "plt.tight_layout()\n",
    "plt.show()"
   ],
   "id": "613cf5fc04a087a9",
   "outputs": [
    {
     "data": {
      "text/plain": [
       "<Figure size 640x480 with 1 Axes>"
      ],
      "image/png": "[encoded data removed]"
     },
     "metadata": {},
     "output_type": "display_data"
    }
   ],
   "execution_count": 156
  },
  {
   "metadata": {},
   "cell_type": "markdown",
   "source": "The Correctness Score evaluates how correct the answer is to the given question. The mean correctness score across all models is 3.53. Llama3 Instruct has the highest mean score, while Gemma Instruct has the lowest. Despite that all Models are showing a similar consistency in performance. All Models have some outliers which means sometimes they performing very poor.",
   "id": "f3d4c40ce122fc5e"
  },
  {
   "metadata": {},
   "cell_type": "markdown",
   "source": "",
   "id": "9bc4d6cfde015200"
  },
  {
   "metadata": {
    "ExecuteTime": {
     "end_time": "2024-06-21T10:55:35.772629Z",
     "start_time": "2024-06-21T10:55:35.769949Z"
    }
   },
   "cell_type": "code",
   "source": [
    "# print all sums\n",
    "print(f\"{llm_models[0]}: {metric_b_score_a.sum()}, {llm_models[1]}: {metric_b_score_b.sum()}, {llm_models[2]}: {metric_b_score_c.sum()}\")"
   ],
   "id": "e75239ec86fa1d27",
   "outputs": [
    {
     "name": "stdout",
     "output_type": "stream",
     "text": [
      "Gemma Instruct: 315, Llama3 Instruct: 315, Mistral Instruct: 315\n"
     ]
    }
   ],
   "execution_count": 157
  },
  {
   "metadata": {},
   "cell_type": "markdown",
   "source": "### Faithfulness Score\n",
   "id": "9ee92dc9f2cc8fb"
  },
  {
   "metadata": {
    "ExecuteTime": {
     "end_time": "2024-06-21T10:55:35.776371Z",
     "start_time": "2024-06-21T10:55:35.773795Z"
    }
   },
   "cell_type": "code",
   "source": [
    "metric_c = columns_to_compare[5]\n",
    "metric_c"
   ],
   "id": "6958d14d6165ed89",
   "outputs": [
    {
     "data": {
      "text/plain": [
       "'faithfulness_score'"
      ]
     },
     "execution_count": 158,
     "metadata": {},
     "output_type": "execute_result"
    }
   ],
   "execution_count": 158
  },
  {
   "metadata": {
    "ExecuteTime": {
     "end_time": "2024-06-21T10:55:35.832599Z",
     "start_time": "2024-06-21T10:55:35.830794Z"
    }
   },
   "cell_type": "code",
   "source": "metric_c_label = \"Faithfulness Score\"",
   "id": "ef19b7e12ea163bb",
   "outputs": [],
   "execution_count": 159
  },
  {
   "metadata": {
    "ExecuteTime": {
     "end_time": "2024-06-21T10:55:35.937303Z",
     "start_time": "2024-06-21T10:55:35.933896Z"
    }
   },
   "cell_type": "code",
   "source": "gemma_df[metric_c].value_counts()",
   "id": "34c256c8a7952d56",
   "outputs": [
    {
     "data": {
      "text/plain": [
       "faithfulness_score\n",
       "1.0    284\n",
       "0.0     31\n",
       "Name: count, dtype: int64"
      ]
     },
     "execution_count": 160,
     "metadata": {},
     "output_type": "execute_result"
    }
   ],
   "execution_count": 160
  },
  {
   "metadata": {
    "ExecuteTime": {
     "end_time": "2024-06-21T10:55:36.058906Z",
     "start_time": "2024-06-21T10:55:36.055733Z"
    }
   },
   "cell_type": "code",
   "source": "llama3_df[metric_c].value_counts()",
   "id": "74e16f6e56ccba0",
   "outputs": [
    {
     "data": {
      "text/plain": [
       "faithfulness_score\n",
       "1.0    247\n",
       "0.0     68\n",
       "Name: count, dtype: int64"
      ]
     },
     "execution_count": 161,
     "metadata": {},
     "output_type": "execute_result"
    }
   ],
   "execution_count": 161
  },
  {
   "metadata": {
    "ExecuteTime": {
     "end_time": "2024-06-21T10:55:36.112816Z",
     "start_time": "2024-06-21T10:55:36.109542Z"
    }
   },
   "cell_type": "code",
   "source": "mistral_df[metric_c].value_counts()",
   "id": "282bbe549e911b3c",
   "outputs": [
    {
     "data": {
      "text/plain": [
       "faithfulness_score\n",
       "1.0    306\n",
       "0.0      9\n",
       "Name: count, dtype: int64"
      ]
     },
     "execution_count": 162,
     "metadata": {},
     "output_type": "execute_result"
    }
   ],
   "execution_count": 162
  },
  {
   "metadata": {
    "ExecuteTime": {
     "end_time": "2024-06-21T10:55:36.195503Z",
     "start_time": "2024-06-21T10:55:36.191237Z"
    }
   },
   "cell_type": "code",
   "source": [
    "# create a DataFrame for the faithfulness score values\n",
    "metric_c_values_a = pd.DataFrame()\n",
    "metric_c_values_a[metric_c] = gemma_df[metric_c]\n",
    "metric_c_values_a['llm_model'] = llm_models[0]\n",
    "print(llm_models[0])\n",
    "metric_c_values_b = pd.DataFrame()\n",
    "metric_c_values_b[metric_c] = llama3_df[metric_c]\n",
    "metric_c_values_b['llm_model'] = llm_models[1]\n",
    "print(llm_models[1])\n",
    "metric_c_values_c = pd.DataFrame()\n",
    "metric_c_values_c[metric_c] = mistral_df[metric_c]\n",
    "metric_c_values_c['llm_model'] = llm_models[2]\n",
    "print(llm_models[2])"
   ],
   "id": "a755a75621478fe2",
   "outputs": [
    {
     "name": "stdout",
     "output_type": "stream",
     "text": [
      "Gemma Instruct\n",
      "Llama3 Instruct\n",
      "Mistral Instruct\n"
     ]
    }
   ],
   "execution_count": 163
  },
  {
   "metadata": {
    "ExecuteTime": {
     "end_time": "2024-06-21T10:55:36.271422Z",
     "start_time": "2024-06-21T10:55:36.266732Z"
    }
   },
   "cell_type": "code",
   "source": [
    "metric_c_values_combined = pd.concat([metric_c_values_a, metric_c_values_b, metric_c_values_c])\n",
    "metric_c_values_combined"
   ],
   "id": "8ec95f2f638a7a60",
   "outputs": [
    {
     "data": {
      "text/plain": [
       "      faithfulness_score         llm_model\n",
       "2332                 1.0    Gemma Instruct\n",
       "2333                 1.0    Gemma Instruct\n",
       "2334                 1.0    Gemma Instruct\n",
       "2335                 1.0    Gemma Instruct\n",
       "2336                 1.0    Gemma Instruct\n",
       "...                  ...               ...\n",
       "2957                 1.0  Mistral Instruct\n",
       "2958                 1.0  Mistral Instruct\n",
       "2959                 1.0  Mistral Instruct\n",
       "2960                 1.0  Mistral Instruct\n",
       "2961                 1.0  Mistral Instruct\n",
       "\n",
       "[945 rows x 2 columns]"
      ],
      "text/html": [
       "<div>\n",
       "<style scoped>\n",
       "    .dataframe tbody tr th:only-of-type {\n",
       "        vertical-align: middle;\n",
       "    }\n",
       "\n",
       "    .dataframe tbody tr th {\n",
       "        vertical-align: top;\n",
       "    }\n",
       "\n",
       "    .dataframe thead th {\n",
       "        text-align: right;\n",
       "    }\n",
       "</style>\n",
       "<table border=\"1\" class=\"dataframe\">\n",
       "  <thead>\n",
       "    <tr style=\"text-align: right;\">\n",
       "      <th></th>\n",
       "      <th>faithfulness_score</th>\n",
       "      <th>llm_model</th>\n",
       "    </tr>\n",
       "  </thead>\n",
       "  <tbody>\n",
       "    <tr>\n",
       "      <th>2332</th>\n",
       "      <td>1.0</td>\n",
       "      <td>Gemma Instruct</td>\n",
       "    </tr>\n",
       "    <tr>\n",
       "      <th>2333</th>\n",
       "      <td>1.0</td>\n",
       "      <td>Gemma Instruct</td>\n",
       "    </tr>\n",
       "    <tr>\n",
       "      <th>2334</th>\n",
       "      <td>1.0</td>\n",
       "      <td>Gemma Instruct</td>\n",
       "    </tr>\n",
       "    <tr>\n",
       "      <th>2335</th>\n",
       "      <td>1.0</td>\n",
       "      <td>Gemma Instruct</td>\n",
       "    </tr>\n",
       "    <tr>\n",
       "      <th>2336</th>\n",
       "      <td>1.0</td>\n",
       "      <td>Gemma Instruct</td>\n",
       "    </tr>\n",
       "    <tr>\n",
       "      <th>...</th>\n",
       "      <td>...</td>\n",
       "      <td>...</td>\n",
       "    </tr>\n",
       "    <tr>\n",
       "      <th>2957</th>\n",
       "      <td>1.0</td>\n",
       "      <td>Mistral Instruct</td>\n",
       "    </tr>\n",
       "    <tr>\n",
       "      <th>2958</th>\n",
       "      <td>1.0</td>\n",
       "      <td>Mistral Instruct</td>\n",
       "    </tr>\n",
       "    <tr>\n",
       "      <th>2959</th>\n",
       "      <td>1.0</td>\n",
       "      <td>Mistral Instruct</td>\n",
       "    </tr>\n",
       "    <tr>\n",
       "      <th>2960</th>\n",
       "      <td>1.0</td>\n",
       "      <td>Mistral Instruct</td>\n",
       "    </tr>\n",
       "    <tr>\n",
       "      <th>2961</th>\n",
       "      <td>1.0</td>\n",
       "      <td>Mistral Instruct</td>\n",
       "    </tr>\n",
       "  </tbody>\n",
       "</table>\n",
       "<p>945 rows × 2 columns</p>\n",
       "</div>"
      ]
     },
     "execution_count": 164,
     "metadata": {},
     "output_type": "execute_result"
    }
   ],
   "execution_count": 164
  },
  {
   "metadata": {
    "ExecuteTime": {
     "end_time": "2024-06-21T10:55:36.347488Z",
     "start_time": "2024-06-21T10:55:36.340500Z"
    }
   },
   "cell_type": "code",
   "source": [
    "metric_c_values = metric_c_values_combined.groupby('llm_model')[metric_c].value_counts(sort=True,\n",
    "                                                                                       ascending=False).unstack().fillna(\n",
    "    0)\n",
    "metric_c_values.columns = ['zero', 'one']\n",
    "metric_c_values.columns = ['zero', 'one']\n",
    "metric_c_values = metric_c_values[['one', 'zero']]  # switch columns\n",
    "# reverse order of 'llm_model' index\n",
    "metric_c_values = metric_c_values.reindex(index=llm_models_r)\n",
    "metric_c_values"
   ],
   "id": "e477ca3e61c9d025",
   "outputs": [
    {
     "data": {
      "text/plain": [
       "                  one  zero\n",
       "llm_model                  \n",
       "Mistral Instruct  306     9\n",
       "Llama3 Instruct   247    68\n",
       "Gemma Instruct    284    31"
      ],
      "text/html": [
       "<div>\n",
       "<style scoped>\n",
       "    .dataframe tbody tr th:only-of-type {\n",
       "        vertical-align: middle;\n",
       "    }\n",
       "\n",
       "    .dataframe tbody tr th {\n",
       "        vertical-align: top;\n",
       "    }\n",
       "\n",
       "    .dataframe thead th {\n",
       "        text-align: right;\n",
       "    }\n",
       "</style>\n",
       "<table border=\"1\" class=\"dataframe\">\n",
       "  <thead>\n",
       "    <tr style=\"text-align: right;\">\n",
       "      <th></th>\n",
       "      <th>one</th>\n",
       "      <th>zero</th>\n",
       "    </tr>\n",
       "    <tr>\n",
       "      <th>llm_model</th>\n",
       "      <th></th>\n",
       "      <th></th>\n",
       "    </tr>\n",
       "  </thead>\n",
       "  <tbody>\n",
       "    <tr>\n",
       "      <th>Mistral Instruct</th>\n",
       "      <td>306</td>\n",
       "      <td>9</td>\n",
       "    </tr>\n",
       "    <tr>\n",
       "      <th>Llama3 Instruct</th>\n",
       "      <td>247</td>\n",
       "      <td>68</td>\n",
       "    </tr>\n",
       "    <tr>\n",
       "      <th>Gemma Instruct</th>\n",
       "      <td>284</td>\n",
       "      <td>31</td>\n",
       "    </tr>\n",
       "  </tbody>\n",
       "</table>\n",
       "</div>"
      ]
     },
     "execution_count": 165,
     "metadata": {},
     "output_type": "execute_result"
    }
   ],
   "execution_count": 165
  },
  {
   "metadata": {
    "ExecuteTime": {
     "end_time": "2024-06-21T10:55:36.558985Z",
     "start_time": "2024-06-21T10:55:36.402643Z"
    }
   },
   "cell_type": "code",
   "source": [
    "# create a horizontal bar chart\n",
    "metric_c_hbar_chart = metric_c_values.plot(\n",
    "    kind='barh',\n",
    "    stacked=True,\n",
    "    figsize=(10, 6),\n",
    "    color=colors[:2]\n",
    ")\n",
    "\n",
    "# display the number of evaluated questions\n",
    "metric_c_hbar_chart.axvline(x=number_of_evaluated_questions, linestyle='-', color=\"black\", linewidth=0.8)\n",
    "metric_c_hbar_chart.text(318, 1.01, '315', ha='left', fontsize=11, fontweight='bold')\n",
    "\n",
    "# set the labels\n",
    "metric_c_hbar_chart.set_ylabel(\"Faithfulness Score across Models\", fontsize=14, labelpad=14)\n",
    "metric_c_hbar_chart.set_xlabel(\"Distribution of the Score across Questions\", fontsize=14, labelpad=14)\n",
    "metric_c_hbar_chart.set_title(f\"Evaluation - Distribution of the {metric_c_label} ({collection_name})\", fontsize=16, fontweight='bold', pad=14)\n",
    "\n",
    "# add legend\n",
    "metric_c_hbar_chart.legend(\n",
    "    title='Faithfulness Score',\n",
    "    labels=['Number of Questions', 'Faithful', 'Not Faithful'],\n",
    "    loc='upper right',\n",
    "    fontsize=9,\n",
    "    bbox_to_anchor=(1.25, 1.06),\n",
    ")\n",
    "\n",
    "# display the mean as vertical line\n",
    "metric_c_hbar_chart.axvline(metric_c_values['one'].mean(), color='red', linestyle='--', linewidth=1.2)\n",
    "metric_c_hbar_chart.text(metric_c_values['one'].mean() - 50, 1.5,\n",
    "                        f'Mean: {round(metric_c_values[\"one\"].mean(), 2)}', color='red', ha='left', fontsize=12,\n",
    "                        fontweight='bold')\n",
    "\n",
    "# add percentage values to the bars\n",
    "for i in range(3):\n",
    "    num_zero = metric_c_values['zero'][i]\n",
    "    num_one = metric_c_values['one'][i]\n",
    "    # value 0.0\n",
    "    label_a = f'{round((num_zero / number_of_evaluated_questions) * 100, 2)}% ({num_zero})'\n",
    "    metric_c_hbar_chart.text(310, i-0.03, label_a, ha='right', fontsize=11, fontweight='bold', color='black')\n",
    "    # value 1.0\n",
    "    label_b = f'{round((num_one / number_of_evaluated_questions) * 100, 2)}% ({num_one})'\n",
    "    metric_c_hbar_chart.text(4, i-0.03, label_b, ha='left', fontsize=11, fontweight='bold', color='black')\n"
   ],
   "id": "3d54c00d2f3c348d",
   "outputs": [
    {
     "data": {
      "text/plain": [
       "<Figure size 1000x600 with 1 Axes>"
      ],
      "image/png": "[encoded data removed]"
     },
     "metadata": {},
     "output_type": "display_data"
    }
   ],
   "execution_count": 166
  },
  {
   "metadata": {
    "ExecuteTime": {
     "end_time": "2024-06-21T10:55:36.563221Z",
     "start_time": "2024-06-21T10:55:36.560146Z"
    }
   },
   "cell_type": "code",
   "source": [
    "# list all three models with the number of occurrences of each value equal to 1.0\n",
    "metric_c_score_a = gemma_df[metric_c].value_counts()[1.0]\n",
    "metric_c_score_b = llama3_df[metric_c].value_counts()[1.0]\n",
    "metric_c_score_c = mistral_df[metric_c].value_counts()[1.0]\n",
    "print(f\"{llm_models[0]}: {metric_c_score_a}, {llm_models[1]}: {metric_c_score_b}, {llm_models[2]}: {metric_c_score_c}\")"
   ],
   "id": "e633efd72a8c3b69",
   "outputs": [
    {
     "name": "stdout",
     "output_type": "stream",
     "text": [
      "Gemma Instruct: 284, Llama3 Instruct: 247, Mistral Instruct: 306\n"
     ]
    }
   ],
   "execution_count": 167
  },
  {
   "metadata": {
    "ExecuteTime": {
     "end_time": "2024-06-21T10:55:36.568624Z",
     "start_time": "2024-06-21T10:55:36.564Z"
    }
   },
   "cell_type": "code",
   "source": [
    "metric_c_percentages = pd.DataFrame()\n",
    "metric_c_percentages['llm_model'] = llm_models_r\n",
    "metric_c_percentages['percentage'] = [round((metric_c_score_c / number_of_evaluated_questions) * 100, 2),\n",
    "                                      round((metric_c_score_b / number_of_evaluated_questions) * 100, 2),\n",
    "                                      round((metric_c_score_a / number_of_evaluated_questions) * 100, 2)]\n",
    "metric_c_percentages"
   ],
   "id": "725d4b60617cd024",
   "outputs": [
    {
     "data": {
      "text/plain": [
       "          llm_model  percentage\n",
       "0  Mistral Instruct       97.14\n",
       "1   Llama3 Instruct       78.41\n",
       "2    Gemma Instruct       90.16"
      ],
      "text/html": [
       "<div>\n",
       "<style scoped>\n",
       "    .dataframe tbody tr th:only-of-type {\n",
       "        vertical-align: middle;\n",
       "    }\n",
       "\n",
       "    .dataframe tbody tr th {\n",
       "        vertical-align: top;\n",
       "    }\n",
       "\n",
       "    .dataframe thead th {\n",
       "        text-align: right;\n",
       "    }\n",
       "</style>\n",
       "<table border=\"1\" class=\"dataframe\">\n",
       "  <thead>\n",
       "    <tr style=\"text-align: right;\">\n",
       "      <th></th>\n",
       "      <th>llm_model</th>\n",
       "      <th>percentage</th>\n",
       "    </tr>\n",
       "  </thead>\n",
       "  <tbody>\n",
       "    <tr>\n",
       "      <th>0</th>\n",
       "      <td>Mistral Instruct</td>\n",
       "      <td>97.14</td>\n",
       "    </tr>\n",
       "    <tr>\n",
       "      <th>1</th>\n",
       "      <td>Llama3 Instruct</td>\n",
       "      <td>78.41</td>\n",
       "    </tr>\n",
       "    <tr>\n",
       "      <th>2</th>\n",
       "      <td>Gemma Instruct</td>\n",
       "      <td>90.16</td>\n",
       "    </tr>\n",
       "  </tbody>\n",
       "</table>\n",
       "</div>"
      ]
     },
     "execution_count": 168,
     "metadata": {},
     "output_type": "execute_result"
    }
   ],
   "execution_count": 168
  },
  {
   "metadata": {
    "ExecuteTime": {
     "end_time": "2024-06-21T10:55:36.673622Z",
     "start_time": "2024-06-21T10:55:36.670674Z"
    }
   },
   "cell_type": "code",
   "source": [
    "metric_c_scores_sorted_list = sorted([(llms[0], metric_c_score_a), (llms[1], metric_c_score_b), (llms[2], metric_c_score_c)], key=lambda x: x[1], reverse=True)\n",
    "metric_c_scores_sorted_list"
   ],
   "id": "162e93e0cdc10f12",
   "outputs": [
    {
     "data": {
      "text/plain": [
       "[('mistral_instruct', 306), ('gemma_instruct', 284), ('llama3_instruct', 247)]"
      ]
     },
     "execution_count": 169,
     "metadata": {},
     "output_type": "execute_result"
    }
   ],
   "execution_count": 169
  },
  {
   "metadata": {},
   "cell_type": "markdown",
   "source": "### Relevancy Score\n",
   "id": "24df3864923f0118"
  },
  {
   "metadata": {
    "ExecuteTime": {
     "end_time": "2024-06-21T10:55:36.721931Z",
     "start_time": "2024-06-21T10:55:36.719459Z"
    }
   },
   "cell_type": "code",
   "source": [
    "metric_d = columns_to_compare[6]\n",
    "metric_d"
   ],
   "id": "97a94ae77d4e843b",
   "outputs": [
    {
     "data": {
      "text/plain": [
       "'relevancy_score'"
      ]
     },
     "execution_count": 170,
     "metadata": {},
     "output_type": "execute_result"
    }
   ],
   "execution_count": 170
  },
  {
   "metadata": {
    "ExecuteTime": {
     "end_time": "2024-06-21T10:55:36.834480Z",
     "start_time": "2024-06-21T10:55:36.832773Z"
    }
   },
   "cell_type": "code",
   "source": "metric_d_label = \"Relevancy Score\"",
   "id": "f0dbf1975968a9cb",
   "outputs": [],
   "execution_count": 171
  },
  {
   "metadata": {
    "ExecuteTime": {
     "end_time": "2024-06-21T10:55:36.908557Z",
     "start_time": "2024-06-21T10:55:36.905170Z"
    }
   },
   "cell_type": "code",
   "source": "gemma_df[metric_d].value_counts()",
   "id": "280a2f1824c42f04",
   "outputs": [
    {
     "data": {
      "text/plain": [
       "relevancy_score\n",
       "1.0    203\n",
       "0.0    112\n",
       "Name: count, dtype: int64"
      ]
     },
     "execution_count": 172,
     "metadata": {},
     "output_type": "execute_result"
    }
   ],
   "execution_count": 172
  },
  {
   "metadata": {
    "ExecuteTime": {
     "end_time": "2024-06-21T10:55:37.008494Z",
     "start_time": "2024-06-21T10:55:37.005263Z"
    }
   },
   "cell_type": "code",
   "source": "llama3_df[metric_d].value_counts()",
   "id": "c236795b09ebd8fd",
   "outputs": [
    {
     "data": {
      "text/plain": [
       "relevancy_score\n",
       "1.0    187\n",
       "0.0    128\n",
       "Name: count, dtype: int64"
      ]
     },
     "execution_count": 173,
     "metadata": {},
     "output_type": "execute_result"
    }
   ],
   "execution_count": 173
  },
  {
   "metadata": {
    "ExecuteTime": {
     "end_time": "2024-06-21T10:55:37.077475Z",
     "start_time": "2024-06-21T10:55:37.074323Z"
    }
   },
   "cell_type": "code",
   "source": "mistral_df[metric_d].value_counts()",
   "id": "614bfec4befb9a37",
   "outputs": [
    {
     "data": {
      "text/plain": [
       "relevancy_score\n",
       "1.0    224\n",
       "0.0     91\n",
       "Name: count, dtype: int64"
      ]
     },
     "execution_count": 174,
     "metadata": {},
     "output_type": "execute_result"
    }
   ],
   "execution_count": 174
  },
  {
   "metadata": {
    "ExecuteTime": {
     "end_time": "2024-06-21T10:55:37.138950Z",
     "start_time": "2024-06-21T10:55:37.131446Z"
    }
   },
   "cell_type": "code",
   "source": [
    "# create a DataFrame for the relevancy score values\n",
    "metric_d_values_a = pd.DataFrame()\n",
    "metric_d_values_a[metric_d] = gemma_df[metric_d]\n",
    "metric_d_values_a['llm_model'] = llm_models[0]\n",
    "print(llm_models[0])\n",
    "\n",
    "metric_d_values_b = pd.DataFrame()\n",
    "metric_d_values_b[metric_d] = llama3_df[metric_d]\n",
    "metric_d_values_b['llm_model'] = llm_models[1]\n",
    "print(llm_models[1])\n",
    "\n",
    "metric_d_values_c = pd.DataFrame()\n",
    "metric_d_values_c[metric_d] = mistral_df[metric_d]\n",
    "metric_d_values_c['llm_model'] = llm_models[2]\n",
    "print(llm_models[2])\n",
    "\n",
    "metric_d_values_combined = pd.concat([metric_d_values_a, metric_d_values_b, metric_d_values_c])\n",
    "metric_d_values = metric_d_values_combined.groupby('llm_model')[metric_d].value_counts(sort=True,\n",
    "                                                                                       ascending=False).unstack().fillna(\n",
    "    0)\n",
    "metric_d_values.columns = ['zero', 'one']\n",
    "metric_d_values = metric_d_values[['one', 'zero']]  # switch columns"
   ],
   "id": "a2f263fa32ac86e4",
   "outputs": [
    {
     "name": "stdout",
     "output_type": "stream",
     "text": [
      "Gemma Instruct\n",
      "Llama3 Instruct\n",
      "Mistral Instruct\n"
     ]
    }
   ],
   "execution_count": 175
  },
  {
   "metadata": {
    "ExecuteTime": {
     "end_time": "2024-06-21T10:55:37.185616Z",
     "start_time": "2024-06-21T10:55:37.181969Z"
    }
   },
   "cell_type": "code",
   "source": [
    "# sort index manually\n",
    "metric_d_values = metric_d_values.reindex(index=llm_models_r)\n",
    "metric_d_values"
   ],
   "id": "5407dbfcdb7878e5",
   "outputs": [
    {
     "data": {
      "text/plain": [
       "                  one  zero\n",
       "llm_model                  \n",
       "Mistral Instruct  224    91\n",
       "Llama3 Instruct   187   128\n",
       "Gemma Instruct    203   112"
      ],
      "text/html": [
       "<div>\n",
       "<style scoped>\n",
       "    .dataframe tbody tr th:only-of-type {\n",
       "        vertical-align: middle;\n",
       "    }\n",
       "\n",
       "    .dataframe tbody tr th {\n",
       "        vertical-align: top;\n",
       "    }\n",
       "\n",
       "    .dataframe thead th {\n",
       "        text-align: right;\n",
       "    }\n",
       "</style>\n",
       "<table border=\"1\" class=\"dataframe\">\n",
       "  <thead>\n",
       "    <tr style=\"text-align: right;\">\n",
       "      <th></th>\n",
       "      <th>one</th>\n",
       "      <th>zero</th>\n",
       "    </tr>\n",
       "    <tr>\n",
       "      <th>llm_model</th>\n",
       "      <th></th>\n",
       "      <th></th>\n",
       "    </tr>\n",
       "  </thead>\n",
       "  <tbody>\n",
       "    <tr>\n",
       "      <th>Mistral Instruct</th>\n",
       "      <td>224</td>\n",
       "      <td>91</td>\n",
       "    </tr>\n",
       "    <tr>\n",
       "      <th>Llama3 Instruct</th>\n",
       "      <td>187</td>\n",
       "      <td>128</td>\n",
       "    </tr>\n",
       "    <tr>\n",
       "      <th>Gemma Instruct</th>\n",
       "      <td>203</td>\n",
       "      <td>112</td>\n",
       "    </tr>\n",
       "  </tbody>\n",
       "</table>\n",
       "</div>"
      ]
     },
     "execution_count": 176,
     "metadata": {},
     "output_type": "execute_result"
    }
   ],
   "execution_count": 176
  },
  {
   "metadata": {
    "ExecuteTime": {
     "end_time": "2024-06-21T10:55:37.258536Z",
     "start_time": "2024-06-21T10:55:37.255286Z"
    }
   },
   "cell_type": "code",
   "source": [
    "# display the number of questions with a relevancy score of 1.0\n",
    "metric_d_score_a = gemma_df[metric_d].value_counts()[1.0]\n",
    "metric_d_score_b = llama3_df[metric_d].value_counts()[1.0]\n",
    "metric_d_score_c = mistral_df[metric_d].value_counts()[1.0]\n",
    "# tuple with model and score\n",
    "metric_d_score_list = [(llms[0], metric_d_score_a), (llms[1], metric_d_score_b), (llms[2], metric_d_score_c)]\n",
    "print(f\"{llm_models[0]}: {metric_d_score_a}, {llm_models[1]}: {metric_d_score_b}, {llm_models[2]}: {metric_d_score_c}\")"
   ],
   "id": "fdc076904162fa49",
   "outputs": [
    {
     "name": "stdout",
     "output_type": "stream",
     "text": [
      "Gemma Instruct: 203, Llama3 Instruct: 187, Mistral Instruct: 224\n"
     ]
    }
   ],
   "execution_count": 177
  },
  {
   "metadata": {
    "ExecuteTime": {
     "end_time": "2024-06-21T10:55:37.438185Z",
     "start_time": "2024-06-21T10:55:37.280386Z"
    }
   },
   "cell_type": "code",
   "source": [
    "# create a horizontal bar chart\n",
    "metric_d_hbar_chart = metric_d_values.plot(kind='barh', stacked=True, figsize=(10, 6), color=colors[:2])\n",
    "metric_d_hbar_chart.axvline(x=number_of_evaluated_questions, linestyle='-', color=\"black\", linewidth=0.8)\n",
    "metric_d_hbar_chart.text(318, 1.01, '315', ha='left', fontsize=11, fontweight='bold')\n",
    "metric_d_hbar_chart.set_ylabel(metric_d_label + \" per Model\", fontsize=14, labelpad=14)\n",
    "metric_d_hbar_chart.set_xlabel(\"Distribution of the Score across Questions\", fontsize=14, labelpad=14)\n",
    "metric_d_hbar_chart.set_title(f\"Evaluation - Distribution of the {metric_d_label} ({collection_name})\", fontsize=16, fontweight='bold', pad=14)\n",
    "metric_d_hbar_chart.legend(\n",
    "    title=metric_d_label,\n",
    "    labels=['Number of Questions', 'Relevant', 'Not Relevant'],\n",
    "    loc='upper right',\n",
    "    fontsize=9,\n",
    "    bbox_to_anchor=(1.25, 1.06),\n",
    ")\n",
    "\n",
    "# display the mean as vertical line\n",
    "metric_d_hbar_chart.axvline(metric_d_values['one'].mean(), color='red', linestyle='--', linewidth=1.2)\n",
    "# add text to the vertical line\n",
    "metric_d_hbar_chart.text(metric_d_values['one'].mean() - 50, 1.5, f'Mean: {round(metric_d_values[\"one\"].mean(), 2)}',\n",
    "                         color='red', ha='left', fontsize=12, fontweight='bold')\n",
    "\n",
    "# add percentage values to the bars\n",
    "for i in range(3):\n",
    "    num_zero = metric_d_values['zero'][i]\n",
    "    num_one = metric_d_values['one'][i]\n",
    "    # value 0.0\n",
    "    label_a = f'{round((num_zero / number_of_evaluated_questions) * 100, 2)}% ({num_zero})'\n",
    "    metric_d_hbar_chart.text(310, i - 0.03, label_a, ha='right', fontsize=11, fontweight='bold', color='black')\n",
    "    # value 1.0\n",
    "    label_b = f'{round((num_one / number_of_evaluated_questions) * 100, 2)}% ({num_one})'\n",
    "    metric_d_hbar_chart.text(4, i - 0.03, label_b, ha='left', fontsize=11, fontweight='bold', color='black')\n"
   ],
   "id": "1f0fa2e4edfe2e4e",
   "outputs": [
    {
     "data": {
      "text/plain": [
       "<Figure size 1000x600 with 1 Axes>"
      ],
      "image/png": "[encoded data removed]"
     },
     "metadata": {},
     "output_type": "display_data"
    }
   ],
   "execution_count": 178
  },
  {
   "metadata": {},
   "cell_type": "markdown",
   "source": "### Model Score",
   "id": "91c4e6c3f5e21cd7"
  },
  {
   "metadata": {
    "ExecuteTime": {
     "end_time": "2024-06-21T10:55:37.441834Z",
     "start_time": "2024-06-21T10:55:37.439408Z"
    }
   },
   "cell_type": "code",
   "source": [
    "metric_e = columns_to_compare[7]\n",
    "metric_e"
   ],
   "id": "56b5ef7aa69492b6",
   "outputs": [
    {
     "data": {
      "text/plain": [
       "'model_score'"
      ]
     },
     "execution_count": 179,
     "metadata": {},
     "output_type": "execute_result"
    }
   ],
   "execution_count": 179
  },
  {
   "metadata": {
    "ExecuteTime": {
     "end_time": "2024-06-21T10:55:37.444244Z",
     "start_time": "2024-06-21T10:55:37.442561Z"
    }
   },
   "cell_type": "code",
   "source": "metric_e_label = \"Model Score\"",
   "id": "fe1238dd3c3eab77",
   "outputs": [],
   "execution_count": 180
  },
  {
   "metadata": {
    "ExecuteTime": {
     "end_time": "2024-06-21T10:55:37.455794Z",
     "start_time": "2024-06-21T10:55:37.452141Z"
    }
   },
   "cell_type": "code",
   "source": "gemma_df[metric_e].value_counts().sort_index(ascending=False)",
   "id": "896808318faf0508",
   "outputs": [
    {
     "data": {
      "text/plain": [
       "model_score\n",
       "1.0     38\n",
       "0.5     62\n",
       "0.0    215\n",
       "Name: count, dtype: int64"
      ]
     },
     "execution_count": 181,
     "metadata": {},
     "output_type": "execute_result"
    }
   ],
   "execution_count": 181
  },
  {
   "metadata": {
    "ExecuteTime": {
     "end_time": "2024-06-21T10:55:37.485469Z",
     "start_time": "2024-06-21T10:55:37.481977Z"
    }
   },
   "cell_type": "code",
   "source": "llama3_df[metric_e].value_counts().sort_index(ascending=False)",
   "id": "ad81d81579c6bc9b",
   "outputs": [
    {
     "data": {
      "text/plain": [
       "model_score\n",
       "1.0     99\n",
       "0.5     89\n",
       "0.0    127\n",
       "Name: count, dtype: int64"
      ]
     },
     "execution_count": 182,
     "metadata": {},
     "output_type": "execute_result"
    }
   ],
   "execution_count": 182
  },
  {
   "metadata": {
    "ExecuteTime": {
     "end_time": "2024-06-21T10:55:37.579111Z",
     "start_time": "2024-06-21T10:55:37.575615Z"
    }
   },
   "cell_type": "code",
   "source": "mistral_df[metric_e].value_counts().sort_index(ascending=False)",
   "id": "d63835a660a0e9f5",
   "outputs": [
    {
     "data": {
      "text/plain": [
       "model_score\n",
       "1.0    188\n",
       "0.5     72\n",
       "0.0     55\n",
       "Name: count, dtype: int64"
      ]
     },
     "execution_count": 183,
     "metadata": {},
     "output_type": "execute_result"
    }
   ],
   "execution_count": 183
  },
  {
   "metadata": {
    "ExecuteTime": {
     "end_time": "2024-06-21T10:55:37.628095Z",
     "start_time": "2024-06-21T10:55:37.623040Z"
    }
   },
   "cell_type": "code",
   "source": [
    "# create a DataFrame for the model score values\n",
    "metric_e_values_a = pd.DataFrame()\n",
    "metric_e_values_a[metric_e] = gemma_df[metric_e]\n",
    "metric_e_values_a['llm_model'] = llm_models[0]\n",
    "print(llm_models[0])\n",
    "\n",
    "metric_e_values_b = pd.DataFrame()\n",
    "metric_e_values_b[metric_e] = llama3_df[metric_e]\n",
    "metric_e_values_b['llm_model'] = llm_models[1]\n",
    "print(llm_models[1])\n",
    "\n",
    "metric_e_values_c = pd.DataFrame()\n",
    "metric_e_values_c[metric_e] = mistral_df[metric_e]\n",
    "metric_e_values_c['llm_model'] = llm_models[2]\n",
    "print(llm_models[2])"
   ],
   "id": "5f13318197096c82",
   "outputs": [
    {
     "name": "stdout",
     "output_type": "stream",
     "text": [
      "Gemma Instruct\n",
      "Llama3 Instruct\n",
      "Mistral Instruct\n"
     ]
    }
   ],
   "execution_count": 184
  },
  {
   "metadata": {
    "ExecuteTime": {
     "end_time": "2024-06-21T10:55:37.678778Z",
     "start_time": "2024-06-21T10:55:37.674750Z"
    }
   },
   "cell_type": "code",
   "source": [
    "metric_e_values_combined = pd.concat([metric_e_values_a, metric_e_values_b, metric_e_values_c])\n",
    "metric_e_values = metric_e_values_combined.groupby('llm_model')[metric_e].value_counts(sort=True, ascending=True).unstack().fillna(0)\n",
    "metric_e_values.columns = ['zero', 'half', 'one']"
   ],
   "id": "79d1e269296e6fbf",
   "outputs": [],
   "execution_count": 185
  },
  {
   "metadata": {
    "ExecuteTime": {
     "end_time": "2024-06-21T10:55:37.719068Z",
     "start_time": "2024-06-21T10:55:37.716830Z"
    }
   },
   "cell_type": "code",
   "source": "metric_e_values = metric_e_values[['one', 'half', 'zero']]  # switch columns",
   "id": "4b28fb61216c69fd",
   "outputs": [],
   "execution_count": 186
  },
  {
   "metadata": {
    "ExecuteTime": {
     "end_time": "2024-06-21T10:55:37.776891Z",
     "start_time": "2024-06-21T10:55:37.773327Z"
    }
   },
   "cell_type": "code",
   "source": [
    "metric_e_values = metric_e_values.reindex(index=list(reversed(llm_models)))\n",
    "metric_e_values"
   ],
   "id": "81cb12346af985e2",
   "outputs": [
    {
     "data": {
      "text/plain": [
       "                  one  half  zero\n",
       "llm_model                        \n",
       "Mistral Instruct  188    72    55\n",
       "Llama3 Instruct    99    89   127\n",
       "Gemma Instruct     38    62   215"
      ],
      "text/html": [
       "<div>\n",
       "<style scoped>\n",
       "    .dataframe tbody tr th:only-of-type {\n",
       "        vertical-align: middle;\n",
       "    }\n",
       "\n",
       "    .dataframe tbody tr th {\n",
       "        vertical-align: top;\n",
       "    }\n",
       "\n",
       "    .dataframe thead th {\n",
       "        text-align: right;\n",
       "    }\n",
       "</style>\n",
       "<table border=\"1\" class=\"dataframe\">\n",
       "  <thead>\n",
       "    <tr style=\"text-align: right;\">\n",
       "      <th></th>\n",
       "      <th>one</th>\n",
       "      <th>half</th>\n",
       "      <th>zero</th>\n",
       "    </tr>\n",
       "    <tr>\n",
       "      <th>llm_model</th>\n",
       "      <th></th>\n",
       "      <th></th>\n",
       "      <th></th>\n",
       "    </tr>\n",
       "  </thead>\n",
       "  <tbody>\n",
       "    <tr>\n",
       "      <th>Mistral Instruct</th>\n",
       "      <td>188</td>\n",
       "      <td>72</td>\n",
       "      <td>55</td>\n",
       "    </tr>\n",
       "    <tr>\n",
       "      <th>Llama3 Instruct</th>\n",
       "      <td>99</td>\n",
       "      <td>89</td>\n",
       "      <td>127</td>\n",
       "    </tr>\n",
       "    <tr>\n",
       "      <th>Gemma Instruct</th>\n",
       "      <td>38</td>\n",
       "      <td>62</td>\n",
       "      <td>215</td>\n",
       "    </tr>\n",
       "  </tbody>\n",
       "</table>\n",
       "</div>"
      ]
     },
     "execution_count": 187,
     "metadata": {},
     "output_type": "execute_result"
    }
   ],
   "execution_count": 187
  },
  {
   "metadata": {
    "ExecuteTime": {
     "end_time": "2024-06-21T10:55:37.804003Z",
     "start_time": "2024-06-21T10:55:37.799715Z"
    }
   },
   "cell_type": "code",
   "source": [
    "metric_e_score_a = gemma_df[metric_e].value_counts()[1.0] + gemma_df[metric_e].value_counts()[0.5]\n",
    "metric_e_score_b = llama3_df[metric_e].value_counts()[1.0] + llama3_df[metric_e].value_counts()[0.5]\n",
    "metric_e_score_c = mistral_df[metric_e].value_counts()[1.0] + mistral_df[metric_e].value_counts()[0.5]\n",
    "print(f\"{llm_models[0]}: {metric_e_score_a}, {llm_models[1]}: {metric_e_score_b}, {llm_models[2]}: {metric_e_score_c}\")"
   ],
   "id": "fb6093cb0a3d3a70",
   "outputs": [
    {
     "name": "stdout",
     "output_type": "stream",
     "text": [
      "Gemma Instruct: 100, Llama3 Instruct: 188, Mistral Instruct: 260\n"
     ]
    }
   ],
   "execution_count": 188
  },
  {
   "metadata": {
    "ExecuteTime": {
     "end_time": "2024-06-21T10:55:38.012902Z",
     "start_time": "2024-06-21T10:55:37.849370Z"
    }
   },
   "cell_type": "code",
   "source": [
    "# create a horizontal bar chart\n",
    "metric_e_hbar_chart = metric_e_values.plot(kind='barh', stacked=True, figsize=(10, 6), color=colors)\n",
    "metric_e_hbar_chart.axvline(x=number_of_evaluated_questions, linestyle='-', color=\"black\", linewidth=0.8)\n",
    "metric_e_hbar_chart.text(318, 1.01, '315', ha='left', fontsize=11, fontweight='bold')\n",
    "metric_e_hbar_chart.set_ylabel(metric_e_label + \"across the Models\", fontsize=14, labelpad=14)\n",
    "metric_e_hbar_chart.set_xlabel(\"Distribution of the Score across Questions\", fontsize=14, labelpad=14)\n",
    "metric_e_hbar_chart.set_title(f\"Evaluation - Distributio of the {metric_e_label} ({collection_name})\", fontsize=16, fontweight='bold', pad=14)\n",
    "metric_e_hbar_chart.legend(\n",
    "    title=metric_e_label,\n",
    "    labels=['Number of Questions', 'Good', 'Neutral', 'Bad'],\n",
    "    loc='upper right',\n",
    "    fontsize=9,\n",
    "    bbox_to_anchor=(1.25, 1.06),\n",
    ")\n",
    "# add percentage values to the bars\n",
    "for i in range(3):\n",
    "    num_zero = metric_e_values['zero'][i]\n",
    "    num_half = metric_e_values['half'][i]\n",
    "    num_one = metric_e_values['one'][i]\n",
    "    # value 1.0\n",
    "    label_c = f'{round((num_one / number_of_evaluated_questions) * 100, 2)}% ({num_one})'\n",
    "    metric_e_hbar_chart.text(4, i - 0.03, label_c, ha='left', fontsize=11, fontweight='bold', color='black')\n",
    "    # value 0.5\n",
    "    label_b = f'{round((num_half / number_of_evaluated_questions) * 100, 2)}% ({num_half})'\n",
    "    metric_e_hbar_chart.text(num_one + 45, i - 0.03, label_b, ha='right', fontsize=11, fontweight='bold', color='black')\n",
    "    # value 0.0\n",
    "    label_a = f'{round((num_zero / number_of_evaluated_questions) * 100, 2)}% ({num_zero})'\n",
    "    metric_e_hbar_chart.text(310, i - 0.03, label_a, ha='right', fontsize=11, fontweight='bold', color='black')"
   ],
   "id": "b30cbca0dc03ab7",
   "outputs": [
    {
     "data": {
      "text/plain": [
       "<Figure size 1000x600 with 1 Axes>"
      ],
      "image/png": "[encoded data removed]"
     },
     "metadata": {},
     "output_type": "display_data"
    }
   ],
   "execution_count": 189
  },
  {
   "metadata": {
    "ExecuteTime": {
     "end_time": "2024-06-21T10:55:38.017590Z",
     "start_time": "2024-06-21T10:55:38.014628Z"
    }
   },
   "cell_type": "code",
   "source": [
    "metric_e_scores_sorted_list = sorted([(llms[0], metric_e_score_a), (llms[1], metric_e_score_b), (llms[2], metric_e_score_c)], key=lambda x: x[1], reverse=True)\n",
    "metric_e_scores_sorted_list"
   ],
   "id": "41b2e81b8763c32c",
   "outputs": [
    {
     "data": {
      "text/plain": [
       "[('mistral_instruct', 260), ('llama3_instruct', 188), ('gemma_instruct', 100)]"
      ]
     },
     "execution_count": 190,
     "metadata": {},
     "output_type": "execute_result"
    }
   ],
   "execution_count": 190
  }
 ],
 "metadata": {
  "kernelspec": {
   "display_name": "Python 3",
   "language": "python",
   "name": "python3"
  },
  "language_info": {
   "codemirror_mode": {
    "name": "ipython",
    "version": 2
   },
   "file_extension": ".py",
   "mimetype": "text/x-python",
   "name": "python",
   "nbconvert_exporter": "python",
   "pygments_lexer": "ipython2",
   "version": "2.7.6"
  }
 },
 "nbformat": 4,
 "nbformat_minor": 5
}
